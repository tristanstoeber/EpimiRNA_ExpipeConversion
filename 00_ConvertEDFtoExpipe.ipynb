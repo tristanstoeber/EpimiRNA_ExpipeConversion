{
 "cells": [
  {
   "cell_type": "markdown",
   "id": "75c03ad1-0118-4594-9874-c6ffdafc6eec",
   "metadata": {},
   "source": [
    "# Convert EDF to expipe files\n",
    "The visual EEG inspection table 'eeg-sichtung.xlsx' has been manually translated into a form which is more easy to read automatically.\n",
    "The table is located in the new file 'data_annotation.ods'.\n",
    "It contains one row per day an animal is recorded.\n",
    "Relevant metadata such as animal id, recording channel, artifacts or missing data are stored in separate columns.\n",
    "\n",
    "This notebooks loads the original edf files sequentially and converts the recordings to the expipe format [1].\n",
    "Here, each day an animal is recorded is its own action.\n",
    "\n",
    "[1] https://github.com/CINPLA/expipe"
   ]
  },
  {
   "cell_type": "code",
   "execution_count": 1,
   "id": "90e9f1ca-15c1-46de-980f-5e7a66869490",
   "metadata": {},
   "outputs": [],
   "source": [
    "import numpy as np\n",
    "import pandas as pd\n",
    "from tempfile import mkdtemp\n",
    "import zipfile\n",
    "import shutil\n",
    "from tqdm import tqdm\n",
    "import expipe\n",
    "import pyedflib\n",
    "import datetime\n",
    "import os\n",
    "import tools\n",
    "from format_data_annotation import dict_format\n",
    "import pdb"
   ]
  },
  {
   "cell_type": "code",
   "execution_count": 2,
   "id": "7d31fad7-c479-4648-9645-430878ab95a2",
   "metadata": {},
   "outputs": [],
   "source": [
    "#path = ''\n",
    "path = '/home/stoeber/EpimiRNA_ExpipeConversion/'\n",
    "fname = 'data_annotation.ods'"
   ]
  },
  {
   "cell_type": "code",
   "execution_count": 3,
   "id": "39aaaa71-8e8d-4719-8b0b-153e6aaf0a70",
   "metadata": {},
   "outputs": [],
   "source": [
    "# Info about the EEG files\n",
    "#path_edf = \"/home/jovyan/work/raw_files/\"\n",
    "path_edf = \"/home/epilepsy-data/data/PPS_data_raw_transfer/\"\n",
    "\n",
    "#path_expipe = \"/home/jovyan/work/data_expipe/epimirna\"\n",
    "path_expipe = \"/home/epilepsy-data/data/epimirna/\"\n",
    "\n",
    "# decide whether existing data should be rebuild or not\n",
    "bool_keepexisting = True"
   ]
  },
  {
   "cell_type": "markdown",
   "id": "8310b5fb",
   "metadata": {
    "tags": []
   },
   "source": [
    "### Read data annotation"
   ]
  },
  {
   "cell_type": "code",
   "execution_count": 4,
   "id": "41c09c55-75ac-46e2-af1f-a2d19bc611c6",
   "metadata": {},
   "outputs": [],
   "source": [
    "t = pd.read_excel(path+fname, engine=\"odf\", dtype=dict_format)\n",
    "#t = pd.read_excel(path+fname, engine=\"odf\")"
   ]
  },
  {
   "cell_type": "code",
   "execution_count": 5,
   "id": "24ded25a-c91d-4384-ad00-fbf13fc1cf1e",
   "metadata": {},
   "outputs": [
    {
     "data": {
      "text/plain": [
       "array([ 1218,  1227,  1237,  1243,  1251,  1254,  1257,  1260,  1261,\n",
       "        1262,  1263,  1264,  1265,  1269,  1270,  1271,  1274,  1275,\n",
       "        1276,   322,   323,   324,   325,   326,   328,   329,  3210,\n",
       "        3211,  3212,  3215,  3216,  3218, 32220,  3222, 32223,  3224,\n",
       "        3226,  3227,  3228,  3231,  3232,  3233,  3235,  3237,  3238,\n",
       "        3239,  3240,  3241,  3242,  3243,  3244,  3245,  3246,  3247,\n",
       "        3248,  3251,  3253,  3254,  3256,  3258,  3259,  3260,  3261,\n",
       "        3262,  3263,  3266,  3267,  3268,  3269,  3270,  3271,  3272,\n",
       "        3273,  3274,  3275,  3276,  3277,  3278,  3279,  3280,  3281,\n",
       "        3282,  3283,  3284,  3285])"
      ]
     },
     "execution_count": 5,
     "metadata": {},
     "output_type": "execute_result"
    }
   ],
   "source": [
    "t['ID'].unique()"
   ]
  },
  {
   "cell_type": "markdown",
   "id": "16433ca5-8fef-45db-81b4-ef5953cea403",
   "metadata": {},
   "source": [
    "### Create Expipe project and store metadata for each animal"
   ]
  },
  {
   "cell_type": "code",
   "execution_count": 6,
   "id": "7eeba850-a0ad-44bd-afe8-a633ab0e2af5",
   "metadata": {},
   "outputs": [
    {
     "name": "stdout",
     "output_type": "stream",
     "text": [
      "[ 1218  1227  1237  1243  1251  1254  1257  1260  1261  1262  1263  1264\n",
      "  1265  1269  1270  1271  1274  1275  1276   322   323   324   325   326\n",
      "   328   329  3210  3211  3212  3215  3216  3218 32220  3222 32223  3224\n",
      "  3226  3227  3228  3231  3232  3233  3235  3237  3238  3239  3240  3241\n",
      "  3242  3243  3244  3245  3246  3247  3248  3251  3253  3254  3256  3258\n",
      "  3259  3260  3261  3262  3263  3266  3267  3268  3269  3270  3271  3272\n",
      "  3273  3274  3275  3276  3277  3278  3279  3280  3281  3282  3283  3284\n",
      "  3285]\n"
     ]
    }
   ],
   "source": [
    "animals = t['ID'].unique()\n",
    "print(animals)"
   ]
  },
  {
   "cell_type": "code",
   "execution_count": 7,
   "id": "039a0f1f",
   "metadata": {
    "tags": []
   },
   "outputs": [],
   "source": [
    "# Open project\n",
    "project = expipe.require_project(path_expipe)\n",
    "\n",
    "for animal_i in animals:\n",
    "    \n",
    "    # Register each animal\n",
    "    entity_i = project.require_entity(str(animal_i))\n",
    "    t_i = t[t['ID']==animal_i]\n",
    "    entity_i.modules['info'] = {\n",
    "        'channel': t_i['Channel'].unique()[0],\n",
    "        'machine': t_i['Machine'].unique()[0]\n",
    "    }\n",
    "    # Create action for each animal\n",
    "    name_action_i = 'record_'+str(animal_i)\n",
    "    action_i = project.require_action(name_action_i)\n",
    "    \n",
    "    action_i.type = \"eeg recording\"\n",
    "    action_i.entities = [str(animal_i)]\n",
    "    \n",
    "    # store sub-table for each animal\n",
    "    fname_annot = 'df_data_annotation.pckl'\n",
    "    t_i.to_pickle(action_i.data_path().joinpath(fname_annot))\n",
    "    action_i.data['df_data_annotation'] = fname_annot"
   ]
  },
  {
   "cell_type": "markdown",
   "id": "81e4134f-9c8e-4da3-b828-13dde7c17771",
   "metadata": {
    "tags": []
   },
   "source": [
    "### Add concise group names for the whole epimirna dataset"
   ]
  },
  {
   "cell_type": "code",
   "execution_count": 79,
   "id": "8828d486-5d36-4159-917c-5827b6d55028",
   "metadata": {},
   "outputs": [
    {
     "name": "stdout",
     "output_type": "stream",
     "text": [
      "{'1': 'FF_EPG_5Hz', '1_noPPS': 'FF_EPG_5Hz_noPPS', '2': 'FF_EPG_130Hz', '3': 'PP_EPG_5Hz', '4': 'PP_EPG_130Hz', '5': 'DG_EPG_5Hz', '6': 'DG_EPG_130Hz', '8': 'FF_ME_5Hz', '9': 'FF_ME_130Hz', '10': 'PP_EPG_5Hz', '11': 'PP_EPG_130Hz', '12': 'DG_EPG_5Hz', '13': 'DG_EPG_130Hz', '14': 'FF_noDBS', '14_noPPS': 'FF_noDBS_noPPS', '15': 'VHC_noDBS', '16': 'noDBS', 'pps_only': 'noDBS', 'vhc_epilep_1 Hz': 'VHC_EPG_1Hz', 'vhc_epilep_HF': 'VHC_EPG_130Hz', 'vhc_epilep_LF (5 Hz)': 'VHC_EPG_5Hz', 'vhc_epileptog_LF': 'VHC_EPG_?Hz', 'vhc_mE_Kontrolle': 'VHC_noDBS', 'vhc_mE_LF (1 Hz)': 'VHC_ME_1Hz', 'vhc_mE_LF (1Hz)': 'VHC_ME_1Hz', 'vhc_mE_LF (5 Hz)': 'VHC_ME_5Hz', 'vhc_mE_LF (5Hz)': 'VHC_ME_5Hz'}\n"
     ]
    }
   ],
   "source": [
    "from annotation_short import annotation as group_names_epimirna\n",
    "print(group_names)"
   ]
  },
  {
   "cell_type": "code",
   "execution_count": 81,
   "id": "8ff7457f-6884-4ab6-be26-959269225508",
   "metadata": {},
   "outputs": [],
   "source": [
    "for animal_i in animals:\n",
    "    # load\n",
    "    action_i = project.require_action('record_'+str(animal_id))\n",
    "    t_i = pd.read_pickle(action_i.data_path().joinpath(fname_annot))\n",
    "    \n",
    "    # get epimirna group name, rename it\n",
    "    group_i = t_i['group'].unique()\n",
    "    assert len(group_i) == 1\n",
    "    group_i = group_i[0]\n",
    "\n",
    "    # define consisten group names across the whole epimirna data set\n",
    "    t_i['group_epimirna'] = group_names_epimirna[group_i]\n",
    "    \n",
    "    # store\n",
    "    t_i.to_pickle(action_i.data_path().joinpath(fname_annot))\n",
    "    \n",
    "    "
   ]
  },
  {
   "cell_type": "code",
   "execution_count": 82,
   "id": "57088db6-5ede-4706-b896-80ea9c7ba796",
   "metadata": {},
   "outputs": [
    {
     "data": {
      "text/html": [
       "<div>\n",
       "<style scoped>\n",
       "    .dataframe tbody tr th:only-of-type {\n",
       "        vertical-align: middle;\n",
       "    }\n",
       "\n",
       "    .dataframe tbody tr th {\n",
       "        vertical-align: top;\n",
       "    }\n",
       "\n",
       "    .dataframe thead th {\n",
       "        text-align: right;\n",
       "    }\n",
       "</style>\n",
       "<table border=\"1\" class=\"dataframe\">\n",
       "  <thead>\n",
       "    <tr style=\"text-align: right;\">\n",
       "      <th></th>\n",
       "      <th>Date</th>\n",
       "      <th>ID</th>\n",
       "      <th>group</th>\n",
       "      <th>Machine</th>\n",
       "      <th>Channel</th>\n",
       "      <th>Notes</th>\n",
       "      <th>EEG manually inspected</th>\n",
       "      <th>PPS Stimulation</th>\n",
       "      <th>Artifacts reported</th>\n",
       "      <th>Surgery</th>\n",
       "      <th>...</th>\n",
       "      <th>Missing data</th>\n",
       "      <th>Conflict overlap recording</th>\n",
       "      <th>Device on</th>\n",
       "      <th>Device off</th>\n",
       "      <th>Spikes</th>\n",
       "      <th>Spindles</th>\n",
       "      <th>DBS location</th>\n",
       "      <th>DBS frequency</th>\n",
       "      <th>DBS stimulation</th>\n",
       "      <th>group_epimirna</th>\n",
       "    </tr>\n",
       "  </thead>\n",
       "  <tbody>\n",
       "    <tr>\n",
       "      <th>7375</th>\n",
       "      <td>2016-06-27</td>\n",
       "      <td>3285</td>\n",
       "      <td>vhc_epilep_1 Hz</td>\n",
       "      <td>yolo</td>\n",
       "      <td>9</td>\n",
       "      <td>LC (Edf) Anfall 16:22, 17:14, 17:26, Op</td>\n",
       "      <td>x</td>\n",
       "      <td>NaN</td>\n",
       "      <td>NaN</td>\n",
       "      <td>x</td>\n",
       "      <td>...</td>\n",
       "      <td>x</td>\n",
       "      <td>NaN</td>\n",
       "      <td>x</td>\n",
       "      <td>NaN</td>\n",
       "      <td>NaN</td>\n",
       "      <td>NaN</td>\n",
       "      <td>VHC</td>\n",
       "      <td>1</td>\n",
       "      <td>NaN</td>\n",
       "      <td>VHC_EPG_1Hz</td>\n",
       "    </tr>\n",
       "    <tr>\n",
       "      <th>7376</th>\n",
       "      <td>2016-06-28</td>\n",
       "      <td>3285</td>\n",
       "      <td>vhc_epilep_1 Hz</td>\n",
       "      <td>yolo</td>\n",
       "      <td>9</td>\n",
       "      <td>LC (Edf)</td>\n",
       "      <td>x</td>\n",
       "      <td>NaN</td>\n",
       "      <td>NaN</td>\n",
       "      <td>NaN</td>\n",
       "      <td>...</td>\n",
       "      <td>NaN</td>\n",
       "      <td>NaN</td>\n",
       "      <td>NaN</td>\n",
       "      <td>NaN</td>\n",
       "      <td>NaN</td>\n",
       "      <td>NaN</td>\n",
       "      <td>VHC</td>\n",
       "      <td>1</td>\n",
       "      <td>NaN</td>\n",
       "      <td>VHC_EPG_1Hz</td>\n",
       "    </tr>\n",
       "    <tr>\n",
       "      <th>7377</th>\n",
       "      <td>2016-06-29</td>\n",
       "      <td>3285</td>\n",
       "      <td>vhc_epilep_1 Hz</td>\n",
       "      <td>yolo</td>\n",
       "      <td>9</td>\n",
       "      <td>LC (EDF)</td>\n",
       "      <td>x</td>\n",
       "      <td>NaN</td>\n",
       "      <td>NaN</td>\n",
       "      <td>NaN</td>\n",
       "      <td>...</td>\n",
       "      <td>NaN</td>\n",
       "      <td>NaN</td>\n",
       "      <td>NaN</td>\n",
       "      <td>NaN</td>\n",
       "      <td>NaN</td>\n",
       "      <td>NaN</td>\n",
       "      <td>VHC</td>\n",
       "      <td>1</td>\n",
       "      <td>NaN</td>\n",
       "      <td>VHC_EPG_1Hz</td>\n",
       "    </tr>\n",
       "    <tr>\n",
       "      <th>7378</th>\n",
       "      <td>2016-06-30</td>\n",
       "      <td>3285</td>\n",
       "      <td>vhc_epilep_1 Hz</td>\n",
       "      <td>yolo</td>\n",
       "      <td>9</td>\n",
       "      <td>LC (EDF) Anfall? 12:21:13 (Cluster) // kein An...</td>\n",
       "      <td>x</td>\n",
       "      <td>NaN</td>\n",
       "      <td>NaN</td>\n",
       "      <td>NaN</td>\n",
       "      <td>...</td>\n",
       "      <td>NaN</td>\n",
       "      <td>NaN</td>\n",
       "      <td>NaN</td>\n",
       "      <td>NaN</td>\n",
       "      <td>NaN</td>\n",
       "      <td>NaN</td>\n",
       "      <td>VHC</td>\n",
       "      <td>1</td>\n",
       "      <td>NaN</td>\n",
       "      <td>VHC_EPG_1Hz</td>\n",
       "    </tr>\n",
       "    <tr>\n",
       "      <th>7379</th>\n",
       "      <td>2016-07-01</td>\n",
       "      <td>3285</td>\n",
       "      <td>vhc_epilep_1 Hz</td>\n",
       "      <td>yolo</td>\n",
       "      <td>9</td>\n",
       "      <td>VN (EDF)</td>\n",
       "      <td>x</td>\n",
       "      <td>NaN</td>\n",
       "      <td>NaN</td>\n",
       "      <td>NaN</td>\n",
       "      <td>...</td>\n",
       "      <td>NaN</td>\n",
       "      <td>NaN</td>\n",
       "      <td>NaN</td>\n",
       "      <td>NaN</td>\n",
       "      <td>NaN</td>\n",
       "      <td>NaN</td>\n",
       "      <td>VHC</td>\n",
       "      <td>1</td>\n",
       "      <td>NaN</td>\n",
       "      <td>VHC_EPG_1Hz</td>\n",
       "    </tr>\n",
       "    <tr>\n",
       "      <th>...</th>\n",
       "      <td>...</td>\n",
       "      <td>...</td>\n",
       "      <td>...</td>\n",
       "      <td>...</td>\n",
       "      <td>...</td>\n",
       "      <td>...</td>\n",
       "      <td>...</td>\n",
       "      <td>...</td>\n",
       "      <td>...</td>\n",
       "      <td>...</td>\n",
       "      <td>...</td>\n",
       "      <td>...</td>\n",
       "      <td>...</td>\n",
       "      <td>...</td>\n",
       "      <td>...</td>\n",
       "      <td>...</td>\n",
       "      <td>...</td>\n",
       "      <td>...</td>\n",
       "      <td>...</td>\n",
       "      <td>...</td>\n",
       "      <td>...</td>\n",
       "    </tr>\n",
       "    <tr>\n",
       "      <th>7470</th>\n",
       "      <td>2016-09-30</td>\n",
       "      <td>3285</td>\n",
       "      <td>vhc_epilep_1 Hz</td>\n",
       "      <td>yolo</td>\n",
       "      <td>9</td>\n",
       "      <td>LC (EDF)</td>\n",
       "      <td>x</td>\n",
       "      <td>NaN</td>\n",
       "      <td>NaN</td>\n",
       "      <td>NaN</td>\n",
       "      <td>...</td>\n",
       "      <td>NaN</td>\n",
       "      <td>NaN</td>\n",
       "      <td>NaN</td>\n",
       "      <td>NaN</td>\n",
       "      <td>NaN</td>\n",
       "      <td>NaN</td>\n",
       "      <td>VHC</td>\n",
       "      <td>1</td>\n",
       "      <td>NaN</td>\n",
       "      <td>VHC_EPG_1Hz</td>\n",
       "    </tr>\n",
       "    <tr>\n",
       "      <th>7471</th>\n",
       "      <td>2016-10-01</td>\n",
       "      <td>3285</td>\n",
       "      <td>vhc_epilep_1 Hz</td>\n",
       "      <td>yolo</td>\n",
       "      <td>9</td>\n",
       "      <td>LC (EDF)</td>\n",
       "      <td>x</td>\n",
       "      <td>NaN</td>\n",
       "      <td>NaN</td>\n",
       "      <td>NaN</td>\n",
       "      <td>...</td>\n",
       "      <td>NaN</td>\n",
       "      <td>NaN</td>\n",
       "      <td>NaN</td>\n",
       "      <td>NaN</td>\n",
       "      <td>NaN</td>\n",
       "      <td>NaN</td>\n",
       "      <td>VHC</td>\n",
       "      <td>1</td>\n",
       "      <td>NaN</td>\n",
       "      <td>VHC_EPG_1Hz</td>\n",
       "    </tr>\n",
       "    <tr>\n",
       "      <th>7472</th>\n",
       "      <td>2016-10-02</td>\n",
       "      <td>3285</td>\n",
       "      <td>vhc_epilep_1 Hz</td>\n",
       "      <td>yolo</td>\n",
       "      <td>9</td>\n",
       "      <td>LC (EDF)</td>\n",
       "      <td>x</td>\n",
       "      <td>NaN</td>\n",
       "      <td>NaN</td>\n",
       "      <td>NaN</td>\n",
       "      <td>...</td>\n",
       "      <td>NaN</td>\n",
       "      <td>NaN</td>\n",
       "      <td>NaN</td>\n",
       "      <td>NaN</td>\n",
       "      <td>NaN</td>\n",
       "      <td>NaN</td>\n",
       "      <td>VHC</td>\n",
       "      <td>1</td>\n",
       "      <td>NaN</td>\n",
       "      <td>VHC_EPG_1Hz</td>\n",
       "    </tr>\n",
       "    <tr>\n",
       "      <th>7473</th>\n",
       "      <td>2016-10-03</td>\n",
       "      <td>3285</td>\n",
       "      <td>vhc_epilep_1 Hz</td>\n",
       "      <td>yolo</td>\n",
       "      <td>9</td>\n",
       "      <td>LC (EDF) Anfall 14:35:53</td>\n",
       "      <td>x</td>\n",
       "      <td>NaN</td>\n",
       "      <td>NaN</td>\n",
       "      <td>NaN</td>\n",
       "      <td>...</td>\n",
       "      <td>NaN</td>\n",
       "      <td>NaN</td>\n",
       "      <td>NaN</td>\n",
       "      <td>NaN</td>\n",
       "      <td>NaN</td>\n",
       "      <td>NaN</td>\n",
       "      <td>VHC</td>\n",
       "      <td>1</td>\n",
       "      <td>NaN</td>\n",
       "      <td>VHC_EPG_1Hz</td>\n",
       "    </tr>\n",
       "    <tr>\n",
       "      <th>7474</th>\n",
       "      <td>2016-10-04</td>\n",
       "      <td>3285</td>\n",
       "      <td>vhc_epilep_1 Hz</td>\n",
       "      <td>yolo</td>\n",
       "      <td>9</td>\n",
       "      <td>LC (EDF)Perfusion</td>\n",
       "      <td>x</td>\n",
       "      <td>NaN</td>\n",
       "      <td>NaN</td>\n",
       "      <td>NaN</td>\n",
       "      <td>...</td>\n",
       "      <td>x</td>\n",
       "      <td>NaN</td>\n",
       "      <td>NaN</td>\n",
       "      <td>x</td>\n",
       "      <td>NaN</td>\n",
       "      <td>NaN</td>\n",
       "      <td>VHC</td>\n",
       "      <td>1</td>\n",
       "      <td>NaN</td>\n",
       "      <td>VHC_EPG_1Hz</td>\n",
       "    </tr>\n",
       "  </tbody>\n",
       "</table>\n",
       "<p>100 rows × 22 columns</p>\n",
       "</div>"
      ],
      "text/plain": [
       "           Date    ID            group Machine  Channel  \\\n",
       "7375 2016-06-27  3285  vhc_epilep_1 Hz    yolo        9   \n",
       "7376 2016-06-28  3285  vhc_epilep_1 Hz    yolo        9   \n",
       "7377 2016-06-29  3285  vhc_epilep_1 Hz    yolo        9   \n",
       "7378 2016-06-30  3285  vhc_epilep_1 Hz    yolo        9   \n",
       "7379 2016-07-01  3285  vhc_epilep_1 Hz    yolo        9   \n",
       "...         ...   ...              ...     ...      ...   \n",
       "7470 2016-09-30  3285  vhc_epilep_1 Hz    yolo        9   \n",
       "7471 2016-10-01  3285  vhc_epilep_1 Hz    yolo        9   \n",
       "7472 2016-10-02  3285  vhc_epilep_1 Hz    yolo        9   \n",
       "7473 2016-10-03  3285  vhc_epilep_1 Hz    yolo        9   \n",
       "7474 2016-10-04  3285  vhc_epilep_1 Hz    yolo        9   \n",
       "\n",
       "                                                  Notes  \\\n",
       "7375            LC (Edf) Anfall 16:22, 17:14, 17:26, Op   \n",
       "7376                                           LC (Edf)   \n",
       "7377                                           LC (EDF)   \n",
       "7378  LC (EDF) Anfall? 12:21:13 (Cluster) // kein An...   \n",
       "7379                                           VN (EDF)   \n",
       "...                                                 ...   \n",
       "7470                                           LC (EDF)   \n",
       "7471                                           LC (EDF)   \n",
       "7472                                           LC (EDF)   \n",
       "7473                           LC (EDF) Anfall 14:35:53   \n",
       "7474                                  LC (EDF)Perfusion   \n",
       "\n",
       "     EEG manually inspected PPS Stimulation Artifacts reported Surgery  ...  \\\n",
       "7375                      x             NaN                NaN       x  ...   \n",
       "7376                      x             NaN                NaN     NaN  ...   \n",
       "7377                      x             NaN                NaN     NaN  ...   \n",
       "7378                      x             NaN                NaN     NaN  ...   \n",
       "7379                      x             NaN                NaN     NaN  ...   \n",
       "...                     ...             ...                ...     ...  ...   \n",
       "7470                      x             NaN                NaN     NaN  ...   \n",
       "7471                      x             NaN                NaN     NaN  ...   \n",
       "7472                      x             NaN                NaN     NaN  ...   \n",
       "7473                      x             NaN                NaN     NaN  ...   \n",
       "7474                      x             NaN                NaN     NaN  ...   \n",
       "\n",
       "     Missing data Conflict overlap recording Device on Device off Spikes  \\\n",
       "7375            x                        NaN         x        NaN    NaN   \n",
       "7376          NaN                        NaN       NaN        NaN    NaN   \n",
       "7377          NaN                        NaN       NaN        NaN    NaN   \n",
       "7378          NaN                        NaN       NaN        NaN    NaN   \n",
       "7379          NaN                        NaN       NaN        NaN    NaN   \n",
       "...           ...                        ...       ...        ...    ...   \n",
       "7470          NaN                        NaN       NaN        NaN    NaN   \n",
       "7471          NaN                        NaN       NaN        NaN    NaN   \n",
       "7472          NaN                        NaN       NaN        NaN    NaN   \n",
       "7473          NaN                        NaN       NaN        NaN    NaN   \n",
       "7474            x                        NaN       NaN          x    NaN   \n",
       "\n",
       "     Spindles DBS location DBS frequency DBS stimulation group_epimirna  \n",
       "7375      NaN          VHC             1             NaN    VHC_EPG_1Hz  \n",
       "7376      NaN          VHC             1             NaN    VHC_EPG_1Hz  \n",
       "7377      NaN          VHC             1             NaN    VHC_EPG_1Hz  \n",
       "7378      NaN          VHC             1             NaN    VHC_EPG_1Hz  \n",
       "7379      NaN          VHC             1             NaN    VHC_EPG_1Hz  \n",
       "...       ...          ...           ...             ...            ...  \n",
       "7470      NaN          VHC             1             NaN    VHC_EPG_1Hz  \n",
       "7471      NaN          VHC             1             NaN    VHC_EPG_1Hz  \n",
       "7472      NaN          VHC             1             NaN    VHC_EPG_1Hz  \n",
       "7473      NaN          VHC             1             NaN    VHC_EPG_1Hz  \n",
       "7474      NaN          VHC             1             NaN    VHC_EPG_1Hz  \n",
       "\n",
       "[100 rows x 22 columns]"
      ]
     },
     "execution_count": 82,
     "metadata": {},
     "output_type": "execute_result"
    }
   ],
   "source": [
    "t_i"
   ]
  },
  {
   "cell_type": "code",
   "execution_count": 71,
   "id": "67a6c87d-ed03-4698-a8a5-6aefa2ea1789",
   "metadata": {},
   "outputs": [
    {
     "data": {
      "text/html": [
       "<div>\n",
       "<style scoped>\n",
       "    .dataframe tbody tr th:only-of-type {\n",
       "        vertical-align: middle;\n",
       "    }\n",
       "\n",
       "    .dataframe tbody tr th {\n",
       "        vertical-align: top;\n",
       "    }\n",
       "\n",
       "    .dataframe thead th {\n",
       "        text-align: right;\n",
       "    }\n",
       "</style>\n",
       "<table border=\"1\" class=\"dataframe\">\n",
       "  <thead>\n",
       "    <tr style=\"text-align: right;\">\n",
       "      <th></th>\n",
       "      <th>Date</th>\n",
       "      <th>ID</th>\n",
       "      <th>group</th>\n",
       "      <th>Machine</th>\n",
       "      <th>Channel</th>\n",
       "      <th>Notes</th>\n",
       "      <th>EEG manually inspected</th>\n",
       "      <th>PPS Stimulation</th>\n",
       "      <th>Artifacts reported</th>\n",
       "      <th>Surgery</th>\n",
       "      <th>...</th>\n",
       "      <th>Seizure</th>\n",
       "      <th>Missing data</th>\n",
       "      <th>Conflict overlap recording</th>\n",
       "      <th>Device on</th>\n",
       "      <th>Device off</th>\n",
       "      <th>Spikes</th>\n",
       "      <th>Spindles</th>\n",
       "      <th>DBS location</th>\n",
       "      <th>DBS frequency</th>\n",
       "      <th>DBS stimulation</th>\n",
       "    </tr>\n",
       "  </thead>\n",
       "  <tbody>\n",
       "    <tr>\n",
       "      <th>7375</th>\n",
       "      <td>2016-06-27</td>\n",
       "      <td>3285</td>\n",
       "      <td>vhc_epilep_1 Hz</td>\n",
       "      <td>yolo</td>\n",
       "      <td>9</td>\n",
       "      <td>LC (Edf) Anfall 16:22, 17:14, 17:26, Op</td>\n",
       "      <td>x</td>\n",
       "      <td>NaN</td>\n",
       "      <td>NaN</td>\n",
       "      <td>x</td>\n",
       "      <td>...</td>\n",
       "      <td>16:22, 17:14, 17:26</td>\n",
       "      <td>x</td>\n",
       "      <td>NaN</td>\n",
       "      <td>x</td>\n",
       "      <td>NaN</td>\n",
       "      <td>NaN</td>\n",
       "      <td>NaN</td>\n",
       "      <td>VHC</td>\n",
       "      <td>1</td>\n",
       "      <td>NaN</td>\n",
       "    </tr>\n",
       "    <tr>\n",
       "      <th>7376</th>\n",
       "      <td>2016-06-28</td>\n",
       "      <td>3285</td>\n",
       "      <td>vhc_epilep_1 Hz</td>\n",
       "      <td>yolo</td>\n",
       "      <td>9</td>\n",
       "      <td>LC (Edf)</td>\n",
       "      <td>x</td>\n",
       "      <td>NaN</td>\n",
       "      <td>NaN</td>\n",
       "      <td>NaN</td>\n",
       "      <td>...</td>\n",
       "      <td>NaN</td>\n",
       "      <td>NaN</td>\n",
       "      <td>NaN</td>\n",
       "      <td>NaN</td>\n",
       "      <td>NaN</td>\n",
       "      <td>NaN</td>\n",
       "      <td>NaN</td>\n",
       "      <td>VHC</td>\n",
       "      <td>1</td>\n",
       "      <td>NaN</td>\n",
       "    </tr>\n",
       "    <tr>\n",
       "      <th>7377</th>\n",
       "      <td>2016-06-29</td>\n",
       "      <td>3285</td>\n",
       "      <td>vhc_epilep_1 Hz</td>\n",
       "      <td>yolo</td>\n",
       "      <td>9</td>\n",
       "      <td>LC (EDF)</td>\n",
       "      <td>x</td>\n",
       "      <td>NaN</td>\n",
       "      <td>NaN</td>\n",
       "      <td>NaN</td>\n",
       "      <td>...</td>\n",
       "      <td>NaN</td>\n",
       "      <td>NaN</td>\n",
       "      <td>NaN</td>\n",
       "      <td>NaN</td>\n",
       "      <td>NaN</td>\n",
       "      <td>NaN</td>\n",
       "      <td>NaN</td>\n",
       "      <td>VHC</td>\n",
       "      <td>1</td>\n",
       "      <td>NaN</td>\n",
       "    </tr>\n",
       "    <tr>\n",
       "      <th>7378</th>\n",
       "      <td>2016-06-30</td>\n",
       "      <td>3285</td>\n",
       "      <td>vhc_epilep_1 Hz</td>\n",
       "      <td>yolo</td>\n",
       "      <td>9</td>\n",
       "      <td>LC (EDF) Anfall? 12:21:13 (Cluster) // kein An...</td>\n",
       "      <td>x</td>\n",
       "      <td>NaN</td>\n",
       "      <td>NaN</td>\n",
       "      <td>NaN</td>\n",
       "      <td>...</td>\n",
       "      <td>NaN</td>\n",
       "      <td>NaN</td>\n",
       "      <td>NaN</td>\n",
       "      <td>NaN</td>\n",
       "      <td>NaN</td>\n",
       "      <td>NaN</td>\n",
       "      <td>NaN</td>\n",
       "      <td>VHC</td>\n",
       "      <td>1</td>\n",
       "      <td>NaN</td>\n",
       "    </tr>\n",
       "    <tr>\n",
       "      <th>7379</th>\n",
       "      <td>2016-07-01</td>\n",
       "      <td>3285</td>\n",
       "      <td>vhc_epilep_1 Hz</td>\n",
       "      <td>yolo</td>\n",
       "      <td>9</td>\n",
       "      <td>VN (EDF)</td>\n",
       "      <td>x</td>\n",
       "      <td>NaN</td>\n",
       "      <td>NaN</td>\n",
       "      <td>NaN</td>\n",
       "      <td>...</td>\n",
       "      <td>NaN</td>\n",
       "      <td>NaN</td>\n",
       "      <td>NaN</td>\n",
       "      <td>NaN</td>\n",
       "      <td>NaN</td>\n",
       "      <td>NaN</td>\n",
       "      <td>NaN</td>\n",
       "      <td>VHC</td>\n",
       "      <td>1</td>\n",
       "      <td>NaN</td>\n",
       "    </tr>\n",
       "    <tr>\n",
       "      <th>...</th>\n",
       "      <td>...</td>\n",
       "      <td>...</td>\n",
       "      <td>...</td>\n",
       "      <td>...</td>\n",
       "      <td>...</td>\n",
       "      <td>...</td>\n",
       "      <td>...</td>\n",
       "      <td>...</td>\n",
       "      <td>...</td>\n",
       "      <td>...</td>\n",
       "      <td>...</td>\n",
       "      <td>...</td>\n",
       "      <td>...</td>\n",
       "      <td>...</td>\n",
       "      <td>...</td>\n",
       "      <td>...</td>\n",
       "      <td>...</td>\n",
       "      <td>...</td>\n",
       "      <td>...</td>\n",
       "      <td>...</td>\n",
       "      <td>...</td>\n",
       "    </tr>\n",
       "    <tr>\n",
       "      <th>7470</th>\n",
       "      <td>2016-09-30</td>\n",
       "      <td>3285</td>\n",
       "      <td>vhc_epilep_1 Hz</td>\n",
       "      <td>yolo</td>\n",
       "      <td>9</td>\n",
       "      <td>LC (EDF)</td>\n",
       "      <td>x</td>\n",
       "      <td>NaN</td>\n",
       "      <td>NaN</td>\n",
       "      <td>NaN</td>\n",
       "      <td>...</td>\n",
       "      <td>NaN</td>\n",
       "      <td>NaN</td>\n",
       "      <td>NaN</td>\n",
       "      <td>NaN</td>\n",
       "      <td>NaN</td>\n",
       "      <td>NaN</td>\n",
       "      <td>NaN</td>\n",
       "      <td>VHC</td>\n",
       "      <td>1</td>\n",
       "      <td>NaN</td>\n",
       "    </tr>\n",
       "    <tr>\n",
       "      <th>7471</th>\n",
       "      <td>2016-10-01</td>\n",
       "      <td>3285</td>\n",
       "      <td>vhc_epilep_1 Hz</td>\n",
       "      <td>yolo</td>\n",
       "      <td>9</td>\n",
       "      <td>LC (EDF)</td>\n",
       "      <td>x</td>\n",
       "      <td>NaN</td>\n",
       "      <td>NaN</td>\n",
       "      <td>NaN</td>\n",
       "      <td>...</td>\n",
       "      <td>NaN</td>\n",
       "      <td>NaN</td>\n",
       "      <td>NaN</td>\n",
       "      <td>NaN</td>\n",
       "      <td>NaN</td>\n",
       "      <td>NaN</td>\n",
       "      <td>NaN</td>\n",
       "      <td>VHC</td>\n",
       "      <td>1</td>\n",
       "      <td>NaN</td>\n",
       "    </tr>\n",
       "    <tr>\n",
       "      <th>7472</th>\n",
       "      <td>2016-10-02</td>\n",
       "      <td>3285</td>\n",
       "      <td>vhc_epilep_1 Hz</td>\n",
       "      <td>yolo</td>\n",
       "      <td>9</td>\n",
       "      <td>LC (EDF)</td>\n",
       "      <td>x</td>\n",
       "      <td>NaN</td>\n",
       "      <td>NaN</td>\n",
       "      <td>NaN</td>\n",
       "      <td>...</td>\n",
       "      <td>NaN</td>\n",
       "      <td>NaN</td>\n",
       "      <td>NaN</td>\n",
       "      <td>NaN</td>\n",
       "      <td>NaN</td>\n",
       "      <td>NaN</td>\n",
       "      <td>NaN</td>\n",
       "      <td>VHC</td>\n",
       "      <td>1</td>\n",
       "      <td>NaN</td>\n",
       "    </tr>\n",
       "    <tr>\n",
       "      <th>7473</th>\n",
       "      <td>2016-10-03</td>\n",
       "      <td>3285</td>\n",
       "      <td>vhc_epilep_1 Hz</td>\n",
       "      <td>yolo</td>\n",
       "      <td>9</td>\n",
       "      <td>LC (EDF) Anfall 14:35:53</td>\n",
       "      <td>x</td>\n",
       "      <td>NaN</td>\n",
       "      <td>NaN</td>\n",
       "      <td>NaN</td>\n",
       "      <td>...</td>\n",
       "      <td>14:35:53</td>\n",
       "      <td>NaN</td>\n",
       "      <td>NaN</td>\n",
       "      <td>NaN</td>\n",
       "      <td>NaN</td>\n",
       "      <td>NaN</td>\n",
       "      <td>NaN</td>\n",
       "      <td>VHC</td>\n",
       "      <td>1</td>\n",
       "      <td>NaN</td>\n",
       "    </tr>\n",
       "    <tr>\n",
       "      <th>7474</th>\n",
       "      <td>2016-10-04</td>\n",
       "      <td>3285</td>\n",
       "      <td>vhc_epilep_1 Hz</td>\n",
       "      <td>yolo</td>\n",
       "      <td>9</td>\n",
       "      <td>LC (EDF)Perfusion</td>\n",
       "      <td>x</td>\n",
       "      <td>NaN</td>\n",
       "      <td>NaN</td>\n",
       "      <td>NaN</td>\n",
       "      <td>...</td>\n",
       "      <td>NaN</td>\n",
       "      <td>x</td>\n",
       "      <td>NaN</td>\n",
       "      <td>NaN</td>\n",
       "      <td>x</td>\n",
       "      <td>NaN</td>\n",
       "      <td>NaN</td>\n",
       "      <td>VHC</td>\n",
       "      <td>1</td>\n",
       "      <td>NaN</td>\n",
       "    </tr>\n",
       "  </tbody>\n",
       "</table>\n",
       "<p>100 rows × 21 columns</p>\n",
       "</div>"
      ],
      "text/plain": [
       "           Date    ID            group Machine  Channel  \\\n",
       "7375 2016-06-27  3285  vhc_epilep_1 Hz    yolo        9   \n",
       "7376 2016-06-28  3285  vhc_epilep_1 Hz    yolo        9   \n",
       "7377 2016-06-29  3285  vhc_epilep_1 Hz    yolo        9   \n",
       "7378 2016-06-30  3285  vhc_epilep_1 Hz    yolo        9   \n",
       "7379 2016-07-01  3285  vhc_epilep_1 Hz    yolo        9   \n",
       "...         ...   ...              ...     ...      ...   \n",
       "7470 2016-09-30  3285  vhc_epilep_1 Hz    yolo        9   \n",
       "7471 2016-10-01  3285  vhc_epilep_1 Hz    yolo        9   \n",
       "7472 2016-10-02  3285  vhc_epilep_1 Hz    yolo        9   \n",
       "7473 2016-10-03  3285  vhc_epilep_1 Hz    yolo        9   \n",
       "7474 2016-10-04  3285  vhc_epilep_1 Hz    yolo        9   \n",
       "\n",
       "                                                  Notes  \\\n",
       "7375            LC (Edf) Anfall 16:22, 17:14, 17:26, Op   \n",
       "7376                                           LC (Edf)   \n",
       "7377                                           LC (EDF)   \n",
       "7378  LC (EDF) Anfall? 12:21:13 (Cluster) // kein An...   \n",
       "7379                                           VN (EDF)   \n",
       "...                                                 ...   \n",
       "7470                                           LC (EDF)   \n",
       "7471                                           LC (EDF)   \n",
       "7472                                           LC (EDF)   \n",
       "7473                           LC (EDF) Anfall 14:35:53   \n",
       "7474                                  LC (EDF)Perfusion   \n",
       "\n",
       "     EEG manually inspected PPS Stimulation Artifacts reported Surgery  ...  \\\n",
       "7375                      x             NaN                NaN       x  ...   \n",
       "7376                      x             NaN                NaN     NaN  ...   \n",
       "7377                      x             NaN                NaN     NaN  ...   \n",
       "7378                      x             NaN                NaN     NaN  ...   \n",
       "7379                      x             NaN                NaN     NaN  ...   \n",
       "...                     ...             ...                ...     ...  ...   \n",
       "7470                      x             NaN                NaN     NaN  ...   \n",
       "7471                      x             NaN                NaN     NaN  ...   \n",
       "7472                      x             NaN                NaN     NaN  ...   \n",
       "7473                      x             NaN                NaN     NaN  ...   \n",
       "7474                      x             NaN                NaN     NaN  ...   \n",
       "\n",
       "                  Seizure Missing data Conflict overlap recording Device on  \\\n",
       "7375  16:22, 17:14, 17:26            x                        NaN         x   \n",
       "7376                  NaN          NaN                        NaN       NaN   \n",
       "7377                  NaN          NaN                        NaN       NaN   \n",
       "7378                  NaN          NaN                        NaN       NaN   \n",
       "7379                  NaN          NaN                        NaN       NaN   \n",
       "...                   ...          ...                        ...       ...   \n",
       "7470                  NaN          NaN                        NaN       NaN   \n",
       "7471                  NaN          NaN                        NaN       NaN   \n",
       "7472                  NaN          NaN                        NaN       NaN   \n",
       "7473             14:35:53          NaN                        NaN       NaN   \n",
       "7474                  NaN            x                        NaN       NaN   \n",
       "\n",
       "     Device off Spikes Spindles DBS location DBS frequency DBS stimulation  \n",
       "7375        NaN    NaN      NaN          VHC             1             NaN  \n",
       "7376        NaN    NaN      NaN          VHC             1             NaN  \n",
       "7377        NaN    NaN      NaN          VHC             1             NaN  \n",
       "7378        NaN    NaN      NaN          VHC             1             NaN  \n",
       "7379        NaN    NaN      NaN          VHC             1             NaN  \n",
       "...         ...    ...      ...          ...           ...             ...  \n",
       "7470        NaN    NaN      NaN          VHC             1             NaN  \n",
       "7471        NaN    NaN      NaN          VHC             1             NaN  \n",
       "7472        NaN    NaN      NaN          VHC             1             NaN  \n",
       "7473        NaN    NaN      NaN          VHC             1             NaN  \n",
       "7474          x    NaN      NaN          VHC             1             NaN  \n",
       "\n",
       "[100 rows x 21 columns]"
      ]
     },
     "execution_count": 71,
     "metadata": {},
     "output_type": "execute_result"
    }
   ],
   "source": []
  },
  {
   "cell_type": "code",
   "execution_count": 67,
   "id": "0c2844f7-c33d-4b99-b92d-02bed0b1fdd0",
   "metadata": {},
   "outputs": [
    {
     "data": {
      "text/plain": [
       "PosixPath('/home/epilepsy-data/data/epimirna/actions/record_3285/data')"
      ]
     },
     "execution_count": 67,
     "metadata": {},
     "output_type": "execute_result"
    }
   ],
   "source": [
    "action_i.data_path()"
   ]
  },
  {
   "cell_type": "code",
   "execution_count": 61,
   "id": "1de890a1-1ff6-47ce-acb8-c7af7ed5374b",
   "metadata": {},
   "outputs": [
    {
     "data": {
      "application/vnd.jupyter.widget-view+json": {
       "model_id": "59195ab80fb446e48d62451200ebbb28",
       "version_major": 2,
       "version_minor": 0
      },
      "text/plain": [
       "HBox(children=(VBox(children=(Text(value='', placeholder='Search'), Select(layout=Layout(height='200px'), opti…"
      ]
     },
     "metadata": {},
     "output_type": "display_data"
    }
   ],
   "source": [
    "project.actions"
   ]
  },
  {
   "cell_type": "code",
   "execution_count": 58,
   "id": "e23e8608-c128-49f3-bbbf-c777747d39bf",
   "metadata": {},
   "outputs": [
    {
     "data": {
      "text/plain": [
       "['record_3215',\n",
       " 'record_1218',\n",
       " 'record_3285',\n",
       " 'record_1260',\n",
       " 'record_3260',\n",
       " 'record_3222',\n",
       " 'record_3266',\n",
       " 'record_323',\n",
       " 'record_3232',\n",
       " 'record_3256',\n",
       " 'record_3263',\n",
       " 'record_1263',\n",
       " 'record_32220',\n",
       " 'record_3278',\n",
       " 'record_1274',\n",
       " 'record_3279',\n",
       " 'record_3254',\n",
       " 'record_3241',\n",
       " 'record_3259',\n",
       " 'record_3239',\n",
       " 'record_3274',\n",
       " 'record_3238',\n",
       " 'record_1251',\n",
       " 'record_1262',\n",
       " 'record_3247',\n",
       " 'record_3262',\n",
       " 'record_3218',\n",
       " 'record_3233',\n",
       " 'record_3268',\n",
       " 'record_3224',\n",
       " 'record_3271',\n",
       " 'record_3240',\n",
       " 'record_3251',\n",
       " 'record_3226',\n",
       " 'define_epg_phases',\n",
       " 'record_1270',\n",
       " 'record_3237',\n",
       " 'record_3231',\n",
       " 'record_329',\n",
       " 'record_1271',\n",
       " 'record_3243',\n",
       " 'record_1254',\n",
       " 'record_325',\n",
       " 'record_326',\n",
       " 'record_1264',\n",
       " 'record_322',\n",
       " 'record_3272',\n",
       " 'record_3270',\n",
       " 'record_1237',\n",
       " 'record_3253',\n",
       " 'record_3258',\n",
       " 'record_3227',\n",
       " 'record_3242',\n",
       " 'record_3283',\n",
       " 'record_3282',\n",
       " 'record_3248',\n",
       " 'record_3280',\n",
       " 'record_3269',\n",
       " 'record_3246',\n",
       " 'record_3244',\n",
       " 'record_1227',\n",
       " 'record_3267',\n",
       " 'record_1261',\n",
       " 'record_324',\n",
       " 'record_328',\n",
       " 'record_3212',\n",
       " 'record_3273',\n",
       " 'record_3210',\n",
       " 'record_3277',\n",
       " 'record_1275',\n",
       " 'record_3245',\n",
       " 'record_3228',\n",
       " 'record_1243',\n",
       " 'record_3275',\n",
       " 'record_1265',\n",
       " 'record_1276',\n",
       " 'record_3276',\n",
       " 'record_3235',\n",
       " 'record_3284',\n",
       " 'record_3261',\n",
       " 'record_1269',\n",
       " 'record_3211',\n",
       " 'record_1257',\n",
       " 'record_32223',\n",
       " 'record_3281',\n",
       " 'record_3216']"
      ]
     },
     "execution_count": 58,
     "metadata": {},
     "output_type": "execute_result"
    }
   ],
   "source": [
    "[action_i for action_i in project.actions]"
   ]
  },
  {
   "cell_type": "code",
   "execution_count": 47,
   "id": "cfb1fa18-7b2c-4627-8f70-c4e71152505e",
   "metadata": {},
   "outputs": [
    {
     "data": {
      "text/plain": [
       "'record_3285'"
      ]
     },
     "execution_count": 47,
     "metadata": {},
     "output_type": "execute_result"
    }
   ],
   "source": []
  },
  {
   "cell_type": "code",
   "execution_count": 33,
   "id": "b55eaad2-efe8-4e47-b219-702f14c5b77c",
   "metadata": {},
   "outputs": [
    {
     "ename": "AttributeError",
     "evalue": "'Action' object has no attribute 'name'",
     "output_type": "error",
     "traceback": [
      "\u001b[0;31m---------------------------------------------------------------------------\u001b[0m",
      "\u001b[0;31mAttributeError\u001b[0m                            Traceback (most recent call last)",
      "\u001b[0;32m/tmp/ipykernel_937496/2424436082.py\u001b[0m in \u001b[0;36m<module>\u001b[0;34m\u001b[0m\n\u001b[0;32m----> 1\u001b[0;31m \u001b[0maction_i\u001b[0m\u001b[0;34m.\u001b[0m\u001b[0mname\u001b[0m\u001b[0;34m\u001b[0m\u001b[0;34m\u001b[0m\u001b[0m\n\u001b[0m",
      "\u001b[0;31mAttributeError\u001b[0m: 'Action' object has no attribute 'name'"
     ]
    }
   ],
   "source": [
    "action_i.name"
   ]
  },
  {
   "cell_type": "code",
   "execution_count": 48,
   "id": "4e1a5864-c7f4-4817-906e-7071c2fe3006",
   "metadata": {},
   "outputs": [
    {
     "ename": "AttributeError",
     "evalue": "'str' object has no attribute 'id'",
     "output_type": "error",
     "traceback": [
      "\u001b[0;31m---------------------------------------------------------------------------\u001b[0m",
      "\u001b[0;31mAttributeError\u001b[0m                            Traceback (most recent call last)",
      "\u001b[0;32m/tmp/ipykernel_937496/58708604.py\u001b[0m in \u001b[0;36m<module>\u001b[0;34m\u001b[0m\n\u001b[0;32m----> 1\u001b[0;31m \u001b[0maction_i\u001b[0m \u001b[0;34m=\u001b[0m \u001b[0;34m[\u001b[0m\u001b[0maction_i\u001b[0m \u001b[0;32mfor\u001b[0m \u001b[0maction_i\u001b[0m \u001b[0;32min\u001b[0m \u001b[0mproject\u001b[0m\u001b[0;34m.\u001b[0m\u001b[0mactions\u001b[0m \u001b[0;32mif\u001b[0m \u001b[0maction_i\u001b[0m\u001b[0;34m.\u001b[0m\u001b[0mid\u001b[0m \u001b[0;34m==\u001b[0m \u001b[0;34m'record_'\u001b[0m\u001b[0;34m+\u001b[0m\u001b[0mstr\u001b[0m\u001b[0;34m(\u001b[0m\u001b[0manimal_i\u001b[0m\u001b[0;34m)\u001b[0m\u001b[0;34m]\u001b[0m\u001b[0;34m\u001b[0m\u001b[0;34m\u001b[0m\u001b[0m\n\u001b[0m",
      "\u001b[0;32m/tmp/ipykernel_937496/58708604.py\u001b[0m in \u001b[0;36m<listcomp>\u001b[0;34m(.0)\u001b[0m\n\u001b[0;32m----> 1\u001b[0;31m \u001b[0maction_i\u001b[0m \u001b[0;34m=\u001b[0m \u001b[0;34m[\u001b[0m\u001b[0maction_i\u001b[0m \u001b[0;32mfor\u001b[0m \u001b[0maction_i\u001b[0m \u001b[0;32min\u001b[0m \u001b[0mproject\u001b[0m\u001b[0;34m.\u001b[0m\u001b[0mactions\u001b[0m \u001b[0;32mif\u001b[0m \u001b[0maction_i\u001b[0m\u001b[0;34m.\u001b[0m\u001b[0mid\u001b[0m \u001b[0;34m==\u001b[0m \u001b[0;34m'record_'\u001b[0m\u001b[0;34m+\u001b[0m\u001b[0mstr\u001b[0m\u001b[0;34m(\u001b[0m\u001b[0manimal_i\u001b[0m\u001b[0;34m)\u001b[0m\u001b[0;34m]\u001b[0m\u001b[0;34m\u001b[0m\u001b[0;34m\u001b[0m\u001b[0m\n\u001b[0m",
      "\u001b[0;31mAttributeError\u001b[0m: 'str' object has no attribute 'id'"
     ]
    }
   ],
   "source": [
    "action_i = [action_i for action_i in project.actions if action_i.id == 'record_'+str(animal_i)]"
   ]
  },
  {
   "cell_type": "code",
   "execution_count": 28,
   "id": "75c52627-3401-4fa9-aa59-1762d255bd7c",
   "metadata": {},
   "outputs": [
    {
     "data": {
      "text/plain": [
       "{'1': 'FF_EPG_5Hz',\n",
       " '1_noPPS': 'FF_EPG_5Hz_noPPS',\n",
       " '2': 'FF_EPG_130Hz',\n",
       " '3': 'PP_EPG_5Hz',\n",
       " '4': 'PP_EPG_130Hz',\n",
       " '5': 'DG_EPG_5Hz',\n",
       " '6': 'DG_EPG_130Hz',\n",
       " '8': 'FF_ME_5Hz',\n",
       " '9': 'FF_ME_130Hz',\n",
       " '10': 'PP_EPG_5Hz',\n",
       " '11': 'PP_EPG_130Hz',\n",
       " '12': 'DG_EPG_5Hz',\n",
       " '13': 'DG_EPG_130Hz',\n",
       " '14': 'FF_noDBS',\n",
       " '14_noPPS': 'FF_noDBS_noPPS',\n",
       " '15': 'VHC_noDBS',\n",
       " '16': 'noDBS',\n",
       " 'pps_only': 'noDBS',\n",
       " 'vhc_epilep_1 Hz': 'VHC_EPG_1Hz',\n",
       " 'vhc_epilep_HF': 'VHC_EPG_130Hz',\n",
       " 'vhc_epilep_LF (5 Hz)': 'VHC_EPG_5Hz',\n",
       " 'vhc_epileptog_LF': 'VHC_EPG_?Hz',\n",
       " 'vhc_mE_Kontrolle': 'VHC_noDBS',\n",
       " 'vhc_mE_LF (1 Hz)': 'VHC_ME_1Hz',\n",
       " 'vhc_mE_LF (1Hz)': 'VHC_ME_1Hz',\n",
       " 'vhc_mE_LF (5 Hz)': 'VHC_ME_5Hz',\n",
       " 'vhc_mE_LF (5Hz)': 'VHC_ME_5Hz'}"
      ]
     },
     "execution_count": 28,
     "metadata": {},
     "output_type": "execute_result"
    }
   ],
   "source": []
  },
  {
   "cell_type": "code",
   "execution_count": null,
   "id": "8574af40-d9b6-4ab4-bc1a-7cdc628e4a60",
   "metadata": {},
   "outputs": [],
   "source": []
  },
  {
   "cell_type": "markdown",
   "id": "7676cc65-413a-415c-a2a6-0be87aff02f9",
   "metadata": {},
   "source": [
    "### Load EEG files and store them as actions"
   ]
  },
  {
   "cell_type": "markdown",
   "id": "4a3b8f2d-1583-4800-a921-39242824c932",
   "metadata": {},
   "source": [
    "#### Exclude entries with overlapping recordings\n"
   ]
  },
  {
   "cell_type": "code",
   "execution_count": 8,
   "id": "1edc1531-04e8-4bff-a4f1-684a60737530",
   "metadata": {},
   "outputs": [],
   "source": [
    "t = t[t['Conflict overlap recording']!='x']"
   ]
  },
  {
   "cell_type": "markdown",
   "id": "64a80ba0-a98c-41ce-9eef-5793e78dabe8",
   "metadata": {},
   "source": [
    "#### Test consistency of leftover table"
   ]
  },
  {
   "cell_type": "code",
   "execution_count": 9,
   "id": "d7617458-de2e-41d3-90d9-1708f17b0b84",
   "metadata": {},
   "outputs": [],
   "source": [
    "t = t[t['Device off'].isnull() & t['Missing data'].isnull()]\n",
    "# Test consistency of the table for data extraction\n",
    "tools.test_consistency_of_annotation_table(t)"
   ]
  },
  {
   "cell_type": "code",
   "execution_count": null,
   "id": "6a3ceb5f-a4ec-414f-93b1-dd1f01bb08f4",
   "metadata": {},
   "outputs": [],
   "source": []
  },
  {
   "cell_type": "code",
   "execution_count": 10,
   "id": "3f342303-a6f2-414e-b576-27dc1d923d96",
   "metadata": {},
   "outputs": [],
   "source": [
    "t = t[t['Missing data']!='x']"
   ]
  },
  {
   "cell_type": "code",
   "execution_count": null,
   "id": "2fe60d7c-742f-40dd-9288-a8c8e890ddcf",
   "metadata": {},
   "outputs": [],
   "source": []
  },
  {
   "cell_type": "code",
   "execution_count": null,
   "id": "cced4d21-aa24-48dd-b719-8109d733b7f7",
   "metadata": {},
   "outputs": [
    {
     "name": "stderr",
     "output_type": "stream",
     "text": [
      "  0%|▏                                                                                                                                                                        | 1/1023 [05:51<99:52:09, 351.79s/it]"
     ]
    },
    {
     "name": "stdout",
     "output_type": "stream",
     "text": [
      "Skipped file. Already present: eeg_recording_2014-07-21\n"
     ]
    },
    {
     "name": "stderr",
     "output_type": "stream",
     "text": [
      "  0%|▎                                                                                                                                                                       | 2/1023 [11:50<100:52:14, 355.67s/it]"
     ]
    },
    {
     "name": "stdout",
     "output_type": "stream",
     "text": [
      "Skipped file. Already present: eeg_recording_2014-07-22\n"
     ]
    },
    {
     "name": "stderr",
     "output_type": "stream",
     "text": [
      "  0%|▍                                                                                                                                                                       | 3/1023 [18:31<106:38:29, 376.38s/it]"
     ]
    },
    {
     "name": "stdout",
     "output_type": "stream",
     "text": [
      "Skipped file. Already present: eeg_recording_2014-07-23\n"
     ]
    },
    {
     "name": "stderr",
     "output_type": "stream",
     "text": [
      "  0%|▋                                                                                                                                                                       | 4/1023 [24:46<106:25:04, 375.96s/it]"
     ]
    },
    {
     "name": "stdout",
     "output_type": "stream",
     "text": [
      "Skipped file. Already present: eeg_recording_2014-07-24\n"
     ]
    },
    {
     "name": "stderr",
     "output_type": "stream",
     "text": [
      "  0%|▊                                                                                                                                                                       | 5/1023 [30:40<104:02:12, 367.91s/it]"
     ]
    },
    {
     "name": "stdout",
     "output_type": "stream",
     "text": [
      "Skipped file. Already present: eeg_recording_2014-07-25\n"
     ]
    },
    {
     "name": "stderr",
     "output_type": "stream",
     "text": [
      "  1%|▉                                                                                                                                                                        | 6/1023 [34:41<91:45:04, 324.78s/it]"
     ]
    },
    {
     "name": "stdout",
     "output_type": "stream",
     "text": [
      "Skipped file. Already present: eeg_recording_2014-07-26\n"
     ]
    },
    {
     "name": "stderr",
     "output_type": "stream",
     "text": [
      "  1%|█▏                                                                                                                                                                       | 7/1023 [37:09<75:24:32, 267.20s/it]"
     ]
    },
    {
     "name": "stdout",
     "output_type": "stream",
     "text": [
      "Skipped file. Already present: eeg_recording_2014-07-27\n"
     ]
    },
    {
     "name": "stderr",
     "output_type": "stream",
     "text": [
      "  1%|█▎                                                                                                                                                                       | 8/1023 [39:22<63:13:13, 224.23s/it]"
     ]
    },
    {
     "name": "stdout",
     "output_type": "stream",
     "text": [
      "Skipped file. Already present: eeg_recording_2014-07-28\n"
     ]
    },
    {
     "name": "stderr",
     "output_type": "stream",
     "text": [
      "  1%|█▍                                                                                                                                                                       | 9/1023 [40:58<51:54:34, 184.29s/it]"
     ]
    },
    {
     "name": "stdout",
     "output_type": "stream",
     "text": [
      "Skipped file. Already present: eeg_recording_2014-07-29\n"
     ]
    },
    {
     "name": "stderr",
     "output_type": "stream",
     "text": [
      "  1%|█▋                                                                                                                                                                      | 10/1023 [43:16<47:47:45, 169.86s/it]"
     ]
    },
    {
     "name": "stdout",
     "output_type": "stream",
     "text": [
      "Skipped file. Already present: eeg_recording_2014-07-30\n"
     ]
    },
    {
     "name": "stderr",
     "output_type": "stream",
     "text": [
      "  1%|█▊                                                                                                                                                                      | 11/1023 [46:06<47:45:19, 169.88s/it]"
     ]
    },
    {
     "name": "stdout",
     "output_type": "stream",
     "text": [
      "Skipped file. Already present: eeg_recording_2014-07-31\n"
     ]
    },
    {
     "name": "stderr",
     "output_type": "stream",
     "text": [
      "  1%|█▉                                                                                                                                                                      | 12/1023 [48:38<46:11:40, 164.49s/it]"
     ]
    },
    {
     "name": "stdout",
     "output_type": "stream",
     "text": [
      "Skipped file. Already present: eeg_recording_2014-08-01\n"
     ]
    },
    {
     "name": "stderr",
     "output_type": "stream",
     "text": [
      "  1%|██▏                                                                                                                                                                     | 13/1023 [51:10<45:06:30, 160.78s/it]"
     ]
    },
    {
     "name": "stdout",
     "output_type": "stream",
     "text": [
      "Skipped file. Already present: eeg_recording_2014-08-02\n"
     ]
    },
    {
     "name": "stderr",
     "output_type": "stream",
     "text": [
      "  1%|██▎                                                                                                                                                                     | 14/1023 [53:44<44:29:22, 158.73s/it]"
     ]
    },
    {
     "name": "stdout",
     "output_type": "stream",
     "text": [
      "Skipped file. Already present: eeg_recording_2014-08-03\n"
     ]
    },
    {
     "name": "stderr",
     "output_type": "stream",
     "text": [
      "  1%|██▍                                                                                                                                                                     | 15/1023 [56:11<43:26:48, 155.17s/it]"
     ]
    },
    {
     "name": "stdout",
     "output_type": "stream",
     "text": [
      "Skipped file. Already present: eeg_recording_2014-08-04\n"
     ]
    },
    {
     "name": "stderr",
     "output_type": "stream",
     "text": [
      "  2%|██▋                                                                                                                                                                     | 16/1023 [59:25<46:40:28, 166.86s/it]"
     ]
    },
    {
     "name": "stdout",
     "output_type": "stream",
     "text": [
      "Skipped file. Already present: eeg_recording_2014-08-05\n"
     ]
    },
    {
     "name": "stderr",
     "output_type": "stream",
     "text": [
      "  2%|██▊                                                                                                                                                                   | 17/1023 [1:02:10<46:29:23, 166.37s/it]"
     ]
    },
    {
     "name": "stdout",
     "output_type": "stream",
     "text": [
      "Skipped file. Already present: eeg_recording_2014-08-06\n"
     ]
    },
    {
     "name": "stderr",
     "output_type": "stream",
     "text": [
      "  2%|██▉                                                                                                                                                                   | 18/1023 [1:04:25<43:47:04, 156.84s/it]"
     ]
    },
    {
     "name": "stdout",
     "output_type": "stream",
     "text": [
      "Skipped file. Already present: eeg_recording_2014-08-07\n"
     ]
    },
    {
     "name": "stderr",
     "output_type": "stream",
     "text": [
      "  2%|███                                                                                                                                                                   | 19/1023 [1:06:14<39:43:58, 142.47s/it]"
     ]
    },
    {
     "name": "stdout",
     "output_type": "stream",
     "text": [
      "Skipped file. Already present: eeg_recording_2014-08-08\n"
     ]
    },
    {
     "name": "stderr",
     "output_type": "stream",
     "text": [
      "  2%|███▏                                                                                                                                                                  | 20/1023 [1:07:46<35:31:37, 127.52s/it]"
     ]
    },
    {
     "name": "stdout",
     "output_type": "stream",
     "text": [
      "Skipped file. Already present: eeg_recording_2014-08-09\n"
     ]
    },
    {
     "name": "stderr",
     "output_type": "stream",
     "text": [
      "  2%|███▍                                                                                                                                                                  | 21/1023 [1:10:52<40:18:56, 144.85s/it]"
     ]
    },
    {
     "name": "stdout",
     "output_type": "stream",
     "text": [
      "Skipped file. Already present: eeg_recording_2014-08-10\n"
     ]
    },
    {
     "name": "stderr",
     "output_type": "stream",
     "text": [
      "  2%|███▌                                                                                                                                                                  | 22/1023 [1:13:58<43:43:08, 157.23s/it]"
     ]
    },
    {
     "name": "stdout",
     "output_type": "stream",
     "text": [
      "Skipped file. Already present: eeg_recording_2014-08-11\n"
     ]
    },
    {
     "name": "stderr",
     "output_type": "stream",
     "text": [
      "  2%|███▉                                                                                                                                                                  | 24/1023 [1:20:52<50:54:30, 183.45s/it]"
     ]
    },
    {
     "name": "stdout",
     "output_type": "stream",
     "text": [
      "Skipped file. Already present: eeg_recording_2014-08-13\n"
     ]
    },
    {
     "name": "stderr",
     "output_type": "stream",
     "text": [
      "  2%|████                                                                                                                                                                  | 25/1023 [1:24:38<54:25:20, 196.31s/it]"
     ]
    },
    {
     "name": "stdout",
     "output_type": "stream",
     "text": [
      "Skipped file. Already present: eeg_recording_2014-08-14\n"
     ]
    },
    {
     "name": "stderr",
     "output_type": "stream",
     "text": [
      "  3%|████▏                                                                                                                                                                 | 26/1023 [1:24:58<39:45:31, 143.56s/it]"
     ]
    },
    {
     "name": "stdout",
     "output_type": "stream",
     "text": [
      "Skipped file. Already present: eeg_recording_2014-08-15\n",
      "[Errno 2] No such file or directory: '/home/epilepsy-data/data/PPS_data_raw_transfer/EDF_yolo_2014-08-16.zip'\n",
      "[Errno 2] No such file or directory: '/home/epilepsy-data/data/PPS_data_raw_transfer/EDF_yolo_2014-08-17.zip'\n"
     ]
    },
    {
     "name": "stderr",
     "output_type": "stream",
     "text": [
      "  3%|████▋                                                                                                                                                                  | 29/1023 [1:26:18<21:26:31, 77.66s/it]"
     ]
    },
    {
     "name": "stdout",
     "output_type": "stream",
     "text": [
      "Skipped file. Already present: eeg_recording_2014-08-18\n"
     ]
    },
    {
     "name": "stderr",
     "output_type": "stream",
     "text": [
      "  3%|████▊                                                                                                                                                                 | 30/1023 [1:29:44<28:54:22, 104.80s/it]"
     ]
    },
    {
     "name": "stdout",
     "output_type": "stream",
     "text": [
      "Skipped file. Already present: eeg_recording_2014-08-19\n"
     ]
    },
    {
     "name": "stderr",
     "output_type": "stream",
     "text": [
      "  3%|█████                                                                                                                                                                 | 31/1023 [1:32:33<33:01:44, 119.86s/it]"
     ]
    },
    {
     "name": "stdout",
     "output_type": "stream",
     "text": [
      "Skipped file. Already present: eeg_recording_2014-08-20\n"
     ]
    },
    {
     "name": "stderr",
     "output_type": "stream",
     "text": [
      "  3%|█████▏                                                                                                                                                                | 32/1023 [1:36:11<39:40:21, 144.12s/it]"
     ]
    },
    {
     "name": "stdout",
     "output_type": "stream",
     "text": [
      "Skipped file. Already present: eeg_recording_2014-08-21\n"
     ]
    },
    {
     "name": "stderr",
     "output_type": "stream",
     "text": [
      "  3%|█████▎                                                                                                                                                                | 33/1023 [1:39:40<44:18:25, 161.12s/it]"
     ]
    },
    {
     "name": "stdout",
     "output_type": "stream",
     "text": [
      "Skipped file. Already present: eeg_recording_2014-08-22\n"
     ]
    },
    {
     "name": "stderr",
     "output_type": "stream",
     "text": [
      "  3%|█████▌                                                                                                                                                                | 34/1023 [1:42:27<44:42:38, 162.75s/it]"
     ]
    },
    {
     "name": "stdout",
     "output_type": "stream",
     "text": [
      "Skipped file. Already present: eeg_recording_2014-08-23\n"
     ]
    },
    {
     "name": "stderr",
     "output_type": "stream",
     "text": [
      "  3%|█████▋                                                                                                                                                                | 35/1023 [1:44:44<42:41:37, 155.56s/it]"
     ]
    },
    {
     "name": "stdout",
     "output_type": "stream",
     "text": [
      "Skipped file. Already present: eeg_recording_2014-08-24\n",
      "Skipped file. Already present: eeg_recording_2014-08-25\n"
     ]
    },
    {
     "name": "stderr",
     "output_type": "stream",
     "text": [
      "  4%|█████▊                                                                                                                                                                | 36/1023 [1:47:09<41:50:57, 152.64s/it]"
     ]
    },
    {
     "name": "stdout",
     "output_type": "stream",
     "text": [
      "Skipped file. Already present: eeg_recording_2014-08-26\n"
     ]
    },
    {
     "name": "stderr",
     "output_type": "stream",
     "text": [
      "  4%|██████▏                                                                                                                                                               | 38/1023 [1:51:25<37:59:14, 138.84s/it]"
     ]
    },
    {
     "name": "stdout",
     "output_type": "stream",
     "text": [
      "Skipped file. Already present: eeg_recording_2014-08-27\n"
     ]
    },
    {
     "name": "stderr",
     "output_type": "stream",
     "text": [
      "  4%|██████▎                                                                                                                                                               | 39/1023 [1:53:06<34:51:09, 127.51s/it]"
     ]
    },
    {
     "name": "stdout",
     "output_type": "stream",
     "text": [
      "Skipped file. Already present: eeg_recording_2014-08-28\n"
     ]
    },
    {
     "name": "stderr",
     "output_type": "stream",
     "text": [
      "  4%|██████▍                                                                                                                                                               | 40/1023 [1:54:34<31:39:28, 115.94s/it]"
     ]
    },
    {
     "name": "stdout",
     "output_type": "stream",
     "text": [
      "Skipped file. Already present: eeg_recording_2014-08-29\n",
      "Skipped file. Already present: eeg_recording_2014-08-30\n"
     ]
    },
    {
     "name": "stderr",
     "output_type": "stream",
     "text": [
      "  4%|██████▋                                                                                                                                                               | 41/1023 [1:55:45<27:58:08, 102.53s/it]"
     ]
    },
    {
     "name": "stdout",
     "output_type": "stream",
     "text": [
      "Skipped file. Already present: eeg_recording_2014-08-31\n"
     ]
    },
    {
     "name": "stderr",
     "output_type": "stream",
     "text": [
      "  4%|███████                                                                                                                                                                | 43/1023 [1:57:01<19:14:43, 70.70s/it]"
     ]
    },
    {
     "name": "stdout",
     "output_type": "stream",
     "text": [
      "Skipped file. Already present: eeg_recording_2014-09-01\n"
     ]
    },
    {
     "name": "stderr",
     "output_type": "stream",
     "text": [
      "  4%|███████▏                                                                                                                                                               | 44/1023 [1:57:44<16:54:24, 62.17s/it]"
     ]
    },
    {
     "name": "stdout",
     "output_type": "stream",
     "text": [
      "Skipped file. Already present: eeg_recording_2014-09-02\n",
      "Skipped file. Already present: eeg_recording_2014-09-02\n"
     ]
    },
    {
     "name": "stderr",
     "output_type": "stream",
     "text": [
      "  4%|███████▎                                                                                                                                                               | 45/1023 [1:58:59<17:57:48, 66.12s/it]"
     ]
    },
    {
     "name": "stdout",
     "output_type": "stream",
     "text": [
      "Skipped file. Already present: eeg_recording_2014-09-03\n",
      "Skipped file. Already present: eeg_recording_2014-09-03\n"
     ]
    },
    {
     "name": "stderr",
     "output_type": "stream",
     "text": [
      "  4%|███████▌                                                                                                                                                               | 46/1023 [2:01:04<22:43:42, 83.75s/it]"
     ]
    },
    {
     "name": "stdout",
     "output_type": "stream",
     "text": [
      "Skipped file. Already present: eeg_recording_2014-09-04\n",
      "[Errno 2] No such file or directory: '/home/epilepsy-data/data/PPS_data_raw_transfer/EDF_yolo_2014-09-05.zip'\n",
      "[Errno 2] No such file or directory: '/home/epilepsy-data/data/PPS_data_raw_transfer/EDF_yolo_2014-09-06.zip'\n",
      "[Errno 2] No such file or directory: '/home/epilepsy-data/data/PPS_data_raw_transfer/EDF_yolo_2014-09-07.zip'\n"
     ]
    },
    {
     "name": "stderr",
     "output_type": "stream",
     "text": [
      "  5%|████████▏                                                                                                                                                              | 50/1023 [2:02:34<12:11:55, 45.13s/it]"
     ]
    },
    {
     "name": "stdout",
     "output_type": "stream",
     "text": [
      "Skipped file. Already present: eeg_recording_2014-09-08\n"
     ]
    },
    {
     "name": "stderr",
     "output_type": "stream",
     "text": [
      "  5%|████████▎                                                                                                                                                              | 51/1023 [2:05:27<18:31:33, 68.61s/it]"
     ]
    },
    {
     "name": "stdout",
     "output_type": "stream",
     "text": [
      "Skipped file. Already present: eeg_recording_2014-09-09\n",
      "Skipped file. Already present: eeg_recording_2014-09-09\n"
     ]
    },
    {
     "name": "stderr",
     "output_type": "stream",
     "text": [
      "  5%|████████▍                                                                                                                                                              | 52/1023 [2:08:36<25:15:07, 93.62s/it]"
     ]
    },
    {
     "name": "stdout",
     "output_type": "stream",
     "text": [
      "Skipped file. Already present: eeg_recording_2014-09-10\n"
     ]
    },
    {
     "name": "stderr",
     "output_type": "stream",
     "text": [
      "  5%|████████▌                                                                                                                                                             | 53/1023 [2:11:55<31:46:03, 117.90s/it]"
     ]
    },
    {
     "name": "stdout",
     "output_type": "stream",
     "text": [
      "Skipped file. Already present: eeg_recording_2014-09-11\n"
     ]
    },
    {
     "name": "stderr",
     "output_type": "stream",
     "text": [
      "  5%|████████▊                                                                                                                                                             | 54/1023 [2:15:36<38:35:09, 143.35s/it]"
     ]
    },
    {
     "name": "stdout",
     "output_type": "stream",
     "text": [
      "Skipped file. Already present: eeg_recording_2014-09-12\n",
      "Skipped file. Already present: eeg_recording_2014-09-12\n"
     ]
    },
    {
     "name": "stderr",
     "output_type": "stream",
     "text": [
      "  5%|████████▉                                                                                                                                                             | 55/1023 [2:18:22<40:06:09, 149.14s/it]"
     ]
    },
    {
     "name": "stdout",
     "output_type": "stream",
     "text": [
      "Skipped file. Already present: eeg_recording_2014-09-13\n",
      "Skipped file. Already present: eeg_recording_2014-09-13\n"
     ]
    },
    {
     "name": "stderr",
     "output_type": "stream",
     "text": [
      "  5%|█████████                                                                                                                                                             | 56/1023 [2:21:00<40:42:52, 151.57s/it]"
     ]
    },
    {
     "name": "stdout",
     "output_type": "stream",
     "text": [
      "Skipped file. Already present: eeg_recording_2014-09-14\n",
      "Skipped file. Already present: eeg_recording_2014-09-14\n"
     ]
    },
    {
     "name": "stderr",
     "output_type": "stream",
     "text": [
      "  6%|█████████▏                                                                                                                                                            | 57/1023 [2:22:22<35:27:03, 132.12s/it]"
     ]
    },
    {
     "name": "stdout",
     "output_type": "stream",
     "text": [
      "Skipped file. Already present: eeg_recording_2014-09-15\n",
      "Skipped file. Already present: eeg_recording_2014-09-15\n"
     ]
    },
    {
     "name": "stderr",
     "output_type": "stream",
     "text": [
      "  6%|█████████▍                                                                                                                                                            | 58/1023 [2:23:37<31:01:44, 115.76s/it]"
     ]
    },
    {
     "name": "stdout",
     "output_type": "stream",
     "text": [
      "Skipped file. Already present: eeg_recording_2014-09-16\n",
      "Skipped file. Already present: eeg_recording_2014-09-16\n",
      "Skipped file. Already present: eeg_recording_2014-09-17\n",
      "Skipped file. Already present: eeg_recording_2014-09-17\n"
     ]
    },
    {
     "name": "stderr",
     "output_type": "stream",
     "text": [
      "  6%|█████████▋                                                                                                                                                            | 60/1023 [2:27:20<30:06:53, 112.58s/it]"
     ]
    },
    {
     "name": "stdout",
     "output_type": "stream",
     "text": [
      "Skipped file. Already present: eeg_recording_2014-09-18\n",
      "Skipped file. Already present: eeg_recording_2014-09-18\n",
      "Skipped file. Already present: eeg_recording_2014-09-19\n",
      "Skipped file. Already present: eeg_recording_2014-09-19\n"
     ]
    },
    {
     "name": "stderr",
     "output_type": "stream",
     "text": [
      "  6%|██████████                                                                                                                                                             | 62/1023 [2:29:42<24:16:54, 90.96s/it]"
     ]
    },
    {
     "name": "stdout",
     "output_type": "stream",
     "text": [
      "Skipped file. Already present: eeg_recording_2014-09-20\n",
      "Skipped file. Already present: eeg_recording_2014-09-20\n"
     ]
    },
    {
     "name": "stderr",
     "output_type": "stream",
     "text": [
      "  6%|██████████▎                                                                                                                                                            | 63/1023 [2:30:44<21:57:13, 82.33s/it]"
     ]
    },
    {
     "name": "stdout",
     "output_type": "stream",
     "text": [
      "Skipped file. Already present: eeg_recording_2014-09-21\n",
      "Skipped file. Already present: eeg_recording_2014-09-21\n",
      "Skipped file. Already present: eeg_recording_2014-09-22\n",
      "Skipped file. Already present: eeg_recording_2014-09-22\n",
      "Skipped file. Already present: eeg_recording_2014-09-22\n",
      "Skipped file. Already present: eeg_recording_2014-09-22\n"
     ]
    },
    {
     "name": "stderr",
     "output_type": "stream",
     "text": [
      "  6%|██████████▍                                                                                                                                                            | 64/1023 [2:31:56<21:07:11, 79.28s/it]"
     ]
    },
    {
     "name": "stdout",
     "output_type": "stream",
     "text": [
      "Skipped file. Already present: eeg_recording_2014-09-23\n",
      "Skipped file. Already present: eeg_recording_2014-09-23\n",
      "Skipped file. Already present: eeg_recording_2014-09-23\n"
     ]
    },
    {
     "name": "stderr",
     "output_type": "stream",
     "text": [
      "  6%|██████████▌                                                                                                                                                            | 65/1023 [2:33:56<24:21:18, 91.52s/it]"
     ]
    },
    {
     "name": "stdout",
     "output_type": "stream",
     "text": [
      "Skipped file. Already present: eeg_recording_2014-09-24\n",
      "Skipped file. Already present: eeg_recording_2014-09-24\n",
      "Skipped file. Already present: eeg_recording_2014-09-24\n",
      "Skipped file. Already present: eeg_recording_2014-09-24\n"
     ]
    },
    {
     "name": "stderr",
     "output_type": "stream",
     "text": [
      "  6%|██████████▋                                                                                                                                                           | 66/1023 [2:36:08<27:33:32, 103.67s/it]"
     ]
    },
    {
     "name": "stdout",
     "output_type": "stream",
     "text": [
      "Skipped file. Already present: eeg_recording_2014-09-25\n",
      "Skipped file. Already present: eeg_recording_2014-09-25\n",
      "Skipped file. Already present: eeg_recording_2014-09-25\n",
      "Skipped file. Already present: eeg_recording_2014-09-25\n"
     ]
    },
    {
     "name": "stderr",
     "output_type": "stream",
     "text": [
      "  7%|██████████▊                                                                                                                                                           | 67/1023 [2:37:59<28:05:53, 105.81s/it]"
     ]
    },
    {
     "name": "stdout",
     "output_type": "stream",
     "text": [
      "Skipped file. Already present: eeg_recording_2014-09-26\n",
      "Skipped file. Already present: eeg_recording_2014-09-26\n",
      "Skipped file. Already present: eeg_recording_2014-09-26\n",
      "Skipped file. Already present: eeg_recording_2014-09-26\n"
     ]
    },
    {
     "name": "stderr",
     "output_type": "stream",
     "text": [
      "  7%|███████████                                                                                                                                                           | 68/1023 [2:39:57<29:03:11, 109.52s/it]"
     ]
    },
    {
     "name": "stdout",
     "output_type": "stream",
     "text": [
      "Skipped file. Already present: eeg_recording_2014-09-27\n",
      "Skipped file. Already present: eeg_recording_2014-09-27\n",
      "Skipped file. Already present: eeg_recording_2014-09-27\n",
      "Skipped file. Already present: eeg_recording_2014-09-27\n"
     ]
    },
    {
     "name": "stderr",
     "output_type": "stream",
     "text": [
      "  7%|███████████▏                                                                                                                                                          | 69/1023 [2:41:50<29:16:44, 110.49s/it]"
     ]
    },
    {
     "name": "stdout",
     "output_type": "stream",
     "text": [
      "Skipped file. Already present: eeg_recording_2014-09-28\n",
      "Skipped file. Already present: eeg_recording_2014-09-28\n",
      "Skipped file. Already present: eeg_recording_2014-09-28\n"
     ]
    },
    {
     "name": "stderr",
     "output_type": "stream",
     "text": [
      "  7%|███████████▎                                                                                                                                                          | 70/1023 [2:43:23<27:50:46, 105.19s/it]"
     ]
    },
    {
     "name": "stdout",
     "output_type": "stream",
     "text": [
      "Skipped file. Already present: eeg_recording_2014-09-29\n",
      "Skipped file. Already present: eeg_recording_2014-09-29\n",
      "Skipped file. Already present: eeg_recording_2014-09-29\n"
     ]
    },
    {
     "name": "stderr",
     "output_type": "stream",
     "text": [
      "  7%|███████████▌                                                                                                                                                          | 71/1023 [2:45:35<29:57:05, 113.26s/it]"
     ]
    },
    {
     "name": "stdout",
     "output_type": "stream",
     "text": [
      "Skipped file. Already present: eeg_recording_2014-09-30\n",
      "Skipped file. Already present: eeg_recording_2014-09-30\n",
      "Skipped file. Already present: eeg_recording_2014-09-30\n"
     ]
    },
    {
     "name": "stderr",
     "output_type": "stream",
     "text": [
      "  7%|███████████▋                                                                                                                                                          | 72/1023 [2:46:47<26:38:50, 100.87s/it]"
     ]
    },
    {
     "name": "stdout",
     "output_type": "stream",
     "text": [
      "OS error: /tmp/tmpcku6hq2_/EDF_yolo_2014-10-01.edf: can not open file, no such file or directory\n",
      "EDF_yolo_2014-10-01.edf not found\n"
     ]
    },
    {
     "name": "stderr",
     "output_type": "stream",
     "text": [
      "  7%|███████████▉                                                                                                                                                           | 73/1023 [2:48:11<25:18:09, 95.88s/it]"
     ]
    },
    {
     "name": "stdout",
     "output_type": "stream",
     "text": [
      "Skipped file. Already present: eeg_recording_2014-10-02\n",
      "Skipped file. Already present: eeg_recording_2014-10-02\n",
      "Skipped file. Already present: eeg_recording_2014-10-02\n",
      "Skipped file. Already present: eeg_recording_2014-10-02\n"
     ]
    },
    {
     "name": "stderr",
     "output_type": "stream",
     "text": [
      "  7%|████████████                                                                                                                                                           | 74/1023 [2:49:54<25:49:08, 97.94s/it]"
     ]
    },
    {
     "name": "stdout",
     "output_type": "stream",
     "text": [
      "Skipped file. Already present: eeg_recording_2014-10-04\n",
      "Skipped file. Already present: eeg_recording_2014-10-04\n",
      "Skipped file. Already present: eeg_recording_2014-10-04\n",
      "Skipped file. Already present: eeg_recording_2014-10-04\n"
     ]
    },
    {
     "name": "stderr",
     "output_type": "stream",
     "text": [
      "  7%|████████████▏                                                                                                                                                          | 75/1023 [2:51:31<25:44:59, 97.78s/it]"
     ]
    },
    {
     "name": "stdout",
     "output_type": "stream",
     "text": [
      "Skipped file. Already present: eeg_recording_2014-10-05\n",
      "Skipped file. Already present: eeg_recording_2014-10-05\n",
      "Skipped file. Already present: eeg_recording_2014-10-05\n",
      "Skipped file. Already present: eeg_recording_2014-10-05\n"
     ]
    },
    {
     "name": "stderr",
     "output_type": "stream",
     "text": [
      "  7%|████████████▍                                                                                                                                                          | 76/1023 [2:53:06<25:30:44, 96.98s/it]"
     ]
    },
    {
     "name": "stdout",
     "output_type": "stream",
     "text": [
      "Skipped file. Already present: eeg_recording_2014-10-06\n",
      "Skipped file. Already present: eeg_recording_2014-10-06\n",
      "Skipped file. Already present: eeg_recording_2014-10-06\n",
      "Skipped file. Already present: eeg_recording_2014-10-06\n"
     ]
    },
    {
     "name": "stderr",
     "output_type": "stream",
     "text": [
      "  8%|████████████▌                                                                                                                                                          | 77/1023 [2:54:44<25:32:23, 97.19s/it]"
     ]
    },
    {
     "name": "stdout",
     "output_type": "stream",
     "text": [
      "Skipped file. Already present: eeg_recording_2014-10-07\n",
      "Skipped file. Already present: eeg_recording_2014-10-07\n",
      "Skipped file. Already present: eeg_recording_2014-10-07\n",
      "Skipped file. Already present: eeg_recording_2014-10-07\n"
     ]
    },
    {
     "name": "stderr",
     "output_type": "stream",
     "text": [
      "  8%|████████████▋                                                                                                                                                          | 78/1023 [2:56:21<25:32:28, 97.30s/it]"
     ]
    },
    {
     "name": "stdout",
     "output_type": "stream",
     "text": [
      "Skipped file. Already present: eeg_recording_2014-10-08\n",
      "Skipped file. Already present: eeg_recording_2014-10-08\n",
      "Skipped file. Already present: eeg_recording_2014-10-08\n",
      "Skipped file. Already present: eeg_recording_2014-10-08\n"
     ]
    },
    {
     "name": "stderr",
     "output_type": "stream",
     "text": [
      "  8%|████████████▊                                                                                                                                                         | 79/1023 [2:58:35<28:22:46, 108.23s/it]"
     ]
    },
    {
     "name": "stdout",
     "output_type": "stream",
     "text": [
      "Skipped file. Already present: eeg_recording_2014-10-09\n",
      "Skipped file. Already present: eeg_recording_2014-10-09\n",
      "Skipped file. Already present: eeg_recording_2014-10-09\n",
      "Skipped file. Already present: eeg_recording_2014-10-09\n"
     ]
    },
    {
     "name": "stderr",
     "output_type": "stream",
     "text": [
      "  8%|████████████▉                                                                                                                                                         | 80/1023 [3:01:18<32:37:56, 124.58s/it]"
     ]
    },
    {
     "name": "stdout",
     "output_type": "stream",
     "text": [
      "Skipped file. Already present: eeg_recording_2014-10-10\n",
      "Skipped file. Already present: eeg_recording_2014-10-10\n",
      "Skipped file. Already present: eeg_recording_2014-10-10\n",
      "Skipped file. Already present: eeg_recording_2014-10-10\n"
     ]
    },
    {
     "name": "stderr",
     "output_type": "stream",
     "text": [
      "  8%|█████████████▏                                                                                                                                                        | 81/1023 [3:03:43<34:11:12, 130.65s/it]"
     ]
    },
    {
     "name": "stdout",
     "output_type": "stream",
     "text": [
      "Skipped file. Already present: eeg_recording_2014-10-11\n",
      "Skipped file. Already present: eeg_recording_2014-10-11\n",
      "Skipped file. Already present: eeg_recording_2014-10-11\n",
      "Skipped file. Already present: eeg_recording_2014-10-11\n"
     ]
    },
    {
     "name": "stderr",
     "output_type": "stream",
     "text": [
      "  8%|█████████████▎                                                                                                                                                        | 82/1023 [3:06:10<35:26:47, 135.61s/it]"
     ]
    },
    {
     "name": "stdout",
     "output_type": "stream",
     "text": [
      "Skipped file. Already present: eeg_recording_2014-10-12\n",
      "Skipped file. Already present: eeg_recording_2014-10-12\n",
      "Skipped file. Already present: eeg_recording_2014-10-12\n",
      "Skipped file. Already present: eeg_recording_2014-10-12\n"
     ]
    },
    {
     "name": "stderr",
     "output_type": "stream",
     "text": [
      "  8%|█████████████▋                                                                                                                                                        | 84/1023 [3:10:26<33:57:25, 130.19s/it]"
     ]
    },
    {
     "name": "stdout",
     "output_type": "stream",
     "text": [
      "Skipped file. Already present: eeg_recording_2014-10-13\n"
     ]
    },
    {
     "name": "stderr",
     "output_type": "stream",
     "text": [
      "  8%|█████████████▊                                                                                                                                                        | 85/1023 [3:11:29<28:39:37, 110.00s/it]"
     ]
    },
    {
     "name": "stdout",
     "output_type": "stream",
     "text": [
      "Skipped file. Already present: eeg_recording_2014-10-14\n",
      "Skipped file. Already present: eeg_recording_2014-10-15\n",
      "Skipped file. Already present: eeg_recording_2014-10-15\n",
      "Skipped file. Already present: eeg_recording_2014-10-15\n",
      "Skipped file. Already present: eeg_recording_2014-10-15\n"
     ]
    },
    {
     "name": "stderr",
     "output_type": "stream",
     "text": [
      "  8%|█████████████▉                                                                                                                                                        | 86/1023 [3:14:04<32:09:37, 123.56s/it]"
     ]
    },
    {
     "name": "stdout",
     "output_type": "stream",
     "text": [
      "Skipped file. Already present: eeg_recording_2014-10-16\n",
      "Skipped file. Already present: eeg_recording_2014-10-16\n",
      "Skipped file. Already present: eeg_recording_2014-10-16\n",
      "Skipped file. Already present: eeg_recording_2014-10-16\n",
      "Skipped file. Already present: eeg_recording_2014-10-16\n",
      "Skipped file. Already present: eeg_recording_2014-10-16\n"
     ]
    },
    {
     "name": "stderr",
     "output_type": "stream",
     "text": [
      "  9%|██████████████                                                                                                                                                        | 87/1023 [3:16:53<35:41:41, 137.29s/it]"
     ]
    },
    {
     "name": "stdout",
     "output_type": "stream",
     "text": [
      "Skipped file. Already present: eeg_recording_2014-10-17\n",
      "Skipped file. Already present: eeg_recording_2014-10-17\n",
      "Skipped file. Already present: eeg_recording_2014-10-17\n",
      "Skipped file. Already present: eeg_recording_2014-10-17\n",
      "Skipped file. Already present: eeg_recording_2014-10-17\n",
      "Skipped file. Already present: eeg_recording_2014-10-17\n"
     ]
    },
    {
     "name": "stderr",
     "output_type": "stream",
     "text": [
      "  9%|██████████████▎                                                                                                                                                       | 88/1023 [3:19:09<35:33:37, 136.92s/it]"
     ]
    },
    {
     "name": "stdout",
     "output_type": "stream",
     "text": [
      "Skipped file. Already present: eeg_recording_2014-10-18\n",
      "Skipped file. Already present: eeg_recording_2014-10-18\n",
      "Skipped file. Already present: eeg_recording_2014-10-18\n",
      "Skipped file. Already present: eeg_recording_2014-10-18\n",
      "Skipped file. Already present: eeg_recording_2014-10-18\n",
      "Skipped file. Already present: eeg_recording_2014-10-18\n"
     ]
    },
    {
     "name": "stderr",
     "output_type": "stream",
     "text": [
      "  9%|██████████████▍                                                                                                                                                       | 89/1023 [3:21:09<34:11:47, 131.81s/it]"
     ]
    },
    {
     "name": "stdout",
     "output_type": "stream",
     "text": [
      "Skipped file. Already present: eeg_recording_2014-10-19\n",
      "Skipped file. Already present: eeg_recording_2014-10-19\n",
      "Skipped file. Already present: eeg_recording_2014-10-19\n",
      "Skipped file. Already present: eeg_recording_2014-10-19\n",
      "Skipped file. Already present: eeg_recording_2014-10-19\n",
      "Skipped file. Already present: eeg_recording_2014-10-19\n"
     ]
    },
    {
     "name": "stderr",
     "output_type": "stream",
     "text": [
      "  9%|██████████████▌                                                                                                                                                       | 90/1023 [3:23:32<35:01:31, 135.15s/it]"
     ]
    },
    {
     "name": "stdout",
     "output_type": "stream",
     "text": [
      "Skipped file. Already present: eeg_recording_2014-10-20\n",
      "Skipped file. Already present: eeg_recording_2014-10-20\n",
      "Skipped file. Already present: eeg_recording_2014-10-20\n",
      "Skipped file. Already present: eeg_recording_2014-10-20\n",
      "Skipped file. Already present: eeg_recording_2014-10-20\n",
      "Skipped file. Already present: eeg_recording_2014-10-20\n"
     ]
    },
    {
     "name": "stderr",
     "output_type": "stream",
     "text": [
      "  9%|██████████████▊                                                                                                                                                       | 91/1023 [3:26:11<36:50:54, 142.33s/it]"
     ]
    },
    {
     "name": "stdout",
     "output_type": "stream",
     "text": [
      "Skipped file. Already present: eeg_recording_2014-10-21\n",
      "Skipped file. Already present: eeg_recording_2014-10-21\n",
      "Skipped file. Already present: eeg_recording_2014-10-21\n",
      "Skipped file. Already present: eeg_recording_2014-10-21\n",
      "Skipped file. Already present: eeg_recording_2014-10-21\n",
      "Skipped file. Already present: eeg_recording_2014-10-21\n"
     ]
    },
    {
     "name": "stderr",
     "output_type": "stream",
     "text": [
      "  9%|██████████████▉                                                                                                                                                       | 92/1023 [3:28:52<38:14:29, 147.87s/it]"
     ]
    },
    {
     "name": "stdout",
     "output_type": "stream",
     "text": [
      "Skipped file. Already present: eeg_recording_2014-10-22\n",
      "Skipped file. Already present: eeg_recording_2014-10-22\n",
      "Skipped file. Already present: eeg_recording_2014-10-22\n",
      "Skipped file. Already present: eeg_recording_2014-10-22\n",
      "Skipped file. Already present: eeg_recording_2014-10-22\n",
      "Skipped file. Already present: eeg_recording_2014-10-22\n"
     ]
    },
    {
     "name": "stderr",
     "output_type": "stream",
     "text": [
      "  9%|███████████████                                                                                                                                                       | 93/1023 [3:30:56<36:19:14, 140.60s/it]"
     ]
    },
    {
     "name": "stdout",
     "output_type": "stream",
     "text": [
      "Skipped file. Already present: eeg_recording_2014-10-23\n",
      "Skipped file. Already present: eeg_recording_2014-10-23\n",
      "Skipped file. Already present: eeg_recording_2014-10-23\n",
      "Skipped file. Already present: eeg_recording_2014-10-23\n",
      "Skipped file. Already present: eeg_recording_2014-10-23\n",
      "Skipped file. Already present: eeg_recording_2014-10-23\n"
     ]
    },
    {
     "name": "stderr",
     "output_type": "stream",
     "text": [
      "  9%|███████████████▎                                                                                                                                                      | 94/1023 [3:33:25<36:55:51, 143.11s/it]"
     ]
    },
    {
     "name": "stdout",
     "output_type": "stream",
     "text": [
      "Skipped file. Already present: eeg_recording_2014-10-24\n",
      "Skipped file. Already present: eeg_recording_2014-10-24\n",
      "Skipped file. Already present: eeg_recording_2014-10-24\n",
      "Skipped file. Already present: eeg_recording_2014-10-24\n",
      "Skipped file. Already present: eeg_recording_2014-10-24\n"
     ]
    },
    {
     "name": "stderr",
     "output_type": "stream",
     "text": [
      "  9%|███████████████▍                                                                                                                                                      | 95/1023 [3:35:40<36:16:06, 140.70s/it]"
     ]
    },
    {
     "name": "stdout",
     "output_type": "stream",
     "text": [
      "Skipped file. Already present: eeg_recording_2014-10-25\n",
      "Skipped file. Already present: eeg_recording_2014-10-25\n",
      "Skipped file. Already present: eeg_recording_2014-10-25\n",
      "Skipped file. Already present: eeg_recording_2014-10-25\n",
      "Skipped file. Already present: eeg_recording_2014-10-25\n"
     ]
    },
    {
     "name": "stderr",
     "output_type": "stream",
     "text": [
      "  9%|███████████████▌                                                                                                                                                      | 96/1023 [3:38:43<39:29:25, 153.36s/it]"
     ]
    },
    {
     "name": "stdout",
     "output_type": "stream",
     "text": [
      "Skipped file. Already present: eeg_recording_2014-10-26\n",
      "Skipped file. Already present: eeg_recording_2014-10-26\n",
      "Skipped file. Already present: eeg_recording_2014-10-26\n",
      "Skipped file. Already present: eeg_recording_2014-10-26\n",
      "Skipped file. Already present: eeg_recording_2014-10-26\n"
     ]
    },
    {
     "name": "stderr",
     "output_type": "stream",
     "text": [
      "  9%|███████████████▋                                                                                                                                                      | 97/1023 [3:40:19<35:02:59, 136.26s/it]"
     ]
    },
    {
     "name": "stdout",
     "output_type": "stream",
     "text": [
      "Skipped file. Already present: eeg_recording_2014-10-27\n",
      "Skipped file. Already present: eeg_recording_2014-10-27\n",
      "Skipped file. Already present: eeg_recording_2014-10-27\n",
      "Skipped file. Already present: eeg_recording_2014-10-27\n",
      "Skipped file. Already present: eeg_recording_2014-10-27\n"
     ]
    },
    {
     "name": "stderr",
     "output_type": "stream",
     "text": [
      " 10%|███████████████▉                                                                                                                                                      | 98/1023 [3:42:31<34:38:43, 134.84s/it]"
     ]
    },
    {
     "name": "stdout",
     "output_type": "stream",
     "text": [
      "Skipped file. Already present: eeg_recording_2014-10-28\n",
      "Skipped file. Already present: eeg_recording_2014-10-28\n",
      "Skipped file. Already present: eeg_recording_2014-10-28\n",
      "Skipped file. Already present: eeg_recording_2014-10-28\n",
      "Skipped file. Already present: eeg_recording_2014-10-28\n"
     ]
    },
    {
     "name": "stderr",
     "output_type": "stream",
     "text": [
      " 10%|████████████████                                                                                                                                                      | 99/1023 [3:44:41<34:14:32, 133.41s/it]"
     ]
    },
    {
     "name": "stdout",
     "output_type": "stream",
     "text": [
      "Skipped file. Already present: eeg_recording_2014-10-29\n",
      "Skipped file. Already present: eeg_recording_2014-10-29\n",
      "Skipped file. Already present: eeg_recording_2014-10-29\n",
      "Skipped file. Already present: eeg_recording_2014-10-29\n"
     ]
    },
    {
     "name": "stderr",
     "output_type": "stream",
     "text": [
      " 10%|████████████████▏                                                                                                                                                    | 100/1023 [3:46:37<32:53:00, 128.26s/it]"
     ]
    },
    {
     "name": "stdout",
     "output_type": "stream",
     "text": [
      "Skipped file. Already present: eeg_recording_2014-10-30\n",
      "Skipped file. Already present: eeg_recording_2014-10-30\n",
      "Skipped file. Already present: eeg_recording_2014-10-30\n",
      "Skipped file. Already present: eeg_recording_2014-10-30\n",
      "Skipped file. Already present: eeg_recording_2014-10-30\n"
     ]
    },
    {
     "name": "stderr",
     "output_type": "stream",
     "text": [
      " 10%|████████████████▎                                                                                                                                                    | 101/1023 [3:48:37<32:14:31, 125.89s/it]"
     ]
    },
    {
     "name": "stdout",
     "output_type": "stream",
     "text": [
      "Skipped file. Already present: eeg_recording_2014-10-31\n",
      "Skipped file. Already present: eeg_recording_2014-10-31\n",
      "Skipped file. Already present: eeg_recording_2014-10-31\n",
      "Skipped file. Already present: eeg_recording_2014-10-31\n",
      "Skipped file. Already present: eeg_recording_2014-10-31\n"
     ]
    },
    {
     "name": "stderr",
     "output_type": "stream",
     "text": [
      " 10%|████████████████▍                                                                                                                                                    | 102/1023 [3:49:53<28:22:42, 110.93s/it]"
     ]
    },
    {
     "name": "stdout",
     "output_type": "stream",
     "text": [
      "Skipped file. Already present: eeg_recording_2014-11-01\n",
      "Skipped file. Already present: eeg_recording_2014-11-01\n",
      "Skipped file. Already present: eeg_recording_2014-11-01\n",
      "Skipped file. Already present: eeg_recording_2014-11-01\n"
     ]
    },
    {
     "name": "stderr",
     "output_type": "stream",
     "text": [
      " 10%|████████████████▋                                                                                                                                                     | 103/1023 [3:50:48<24:01:31, 94.01s/it]"
     ]
    },
    {
     "name": "stdout",
     "output_type": "stream",
     "text": [
      "Skipped file. Already present: eeg_recording_2014-11-02\n",
      "Skipped file. Already present: eeg_recording_2014-11-02\n",
      "Skipped file. Already present: eeg_recording_2014-11-02\n",
      "Skipped file. Already present: eeg_recording_2014-11-02\n"
     ]
    },
    {
     "name": "stderr",
     "output_type": "stream",
     "text": [
      " 10%|████████████████▉                                                                                                                                                     | 104/1023 [3:52:09<23:00:13, 90.11s/it]"
     ]
    },
    {
     "name": "stdout",
     "output_type": "stream",
     "text": [
      "Skipped file. Already present: eeg_recording_2014-11-03\n",
      "Skipped file. Already present: eeg_recording_2014-11-03\n",
      "Skipped file. Already present: eeg_recording_2014-11-03\n"
     ]
    },
    {
     "name": "stderr",
     "output_type": "stream",
     "text": [
      " 10%|█████████████████                                                                                                                                                     | 105/1023 [3:53:29<22:11:17, 87.01s/it]"
     ]
    },
    {
     "name": "stdout",
     "output_type": "stream",
     "text": [
      "Skipped file. Already present: eeg_recording_2014-11-04\n",
      "Skipped file. Already present: eeg_recording_2014-11-04\n"
     ]
    },
    {
     "name": "stderr",
     "output_type": "stream",
     "text": [
      " 10%|█████████████████▏                                                                                                                                                    | 106/1023 [3:54:28<20:04:31, 78.81s/it]"
     ]
    },
    {
     "name": "stdout",
     "output_type": "stream",
     "text": [
      "Skipped file. Already present: eeg_recording_2014-11-05\n",
      "Skipped file. Already present: eeg_recording_2014-11-05\n"
     ]
    },
    {
     "name": "stderr",
     "output_type": "stream",
     "text": [
      " 10%|█████████████████▎                                                                                                                                                    | 107/1023 [3:55:17<17:43:10, 69.64s/it]"
     ]
    },
    {
     "name": "stdout",
     "output_type": "stream",
     "text": [
      "Skipped file. Already present: eeg_recording_2014-11-06\n",
      "Skipped file. Already present: eeg_recording_2014-11-06\n"
     ]
    },
    {
     "name": "stderr",
     "output_type": "stream",
     "text": [
      " 11%|█████████████████▌                                                                                                                                                    | 108/1023 [3:56:14<16:47:15, 66.05s/it]"
     ]
    },
    {
     "name": "stdout",
     "output_type": "stream",
     "text": [
      "Skipped file. Already present: eeg_recording_2014-11-07\n",
      "Skipped file. Already present: eeg_recording_2014-11-07\n"
     ]
    },
    {
     "name": "stderr",
     "output_type": "stream",
     "text": [
      " 11%|█████████████████▋                                                                                                                                                    | 109/1023 [3:57:24<17:03:32, 67.19s/it]"
     ]
    },
    {
     "name": "stdout",
     "output_type": "stream",
     "text": [
      "Skipped file. Already present: eeg_recording_2014-11-08\n",
      "Skipped file. Already present: eeg_recording_2014-11-08\n"
     ]
    },
    {
     "name": "stderr",
     "output_type": "stream",
     "text": [
      " 11%|█████████████████▊                                                                                                                                                    | 110/1023 [3:58:25<16:32:01, 65.19s/it]"
     ]
    },
    {
     "name": "stdout",
     "output_type": "stream",
     "text": [
      "Skipped file. Already present: eeg_recording_2014-11-09\n",
      "Skipped file. Already present: eeg_recording_2014-11-09\n"
     ]
    },
    {
     "name": "stderr",
     "output_type": "stream",
     "text": [
      " 11%|██████████████████                                                                                                                                                    | 111/1023 [3:59:32<16:41:50, 65.91s/it]"
     ]
    },
    {
     "name": "stdout",
     "output_type": "stream",
     "text": [
      "Skipped file. Already present: eeg_recording_2014-11-10\n",
      "Skipped file. Already present: eeg_recording_2014-11-10\n"
     ]
    },
    {
     "name": "stderr",
     "output_type": "stream",
     "text": [
      " 11%|██████████████████▏                                                                                                                                                   | 112/1023 [4:00:17<15:05:06, 59.61s/it]"
     ]
    },
    {
     "name": "stdout",
     "output_type": "stream",
     "text": [
      "Skipped file. Already present: eeg_recording_2014-11-11\n",
      "Skipped file. Already present: eeg_recording_2014-11-11\n"
     ]
    },
    {
     "name": "stderr",
     "output_type": "stream",
     "text": [
      " 11%|██████████████████▎                                                                                                                                                   | 113/1023 [4:00:46<12:44:11, 50.39s/it]"
     ]
    },
    {
     "name": "stdout",
     "output_type": "stream",
     "text": [
      "Skipped file. Already present: eeg_recording_2014-11-12\n",
      "Skipped file. Already present: eeg_recording_2014-11-12\n"
     ]
    },
    {
     "name": "stderr",
     "output_type": "stream",
     "text": [
      " 11%|██████████████████▍                                                                                                                                                   | 114/1023 [4:01:30<12:14:55, 48.51s/it]"
     ]
    },
    {
     "name": "stdout",
     "output_type": "stream",
     "text": [
      "Skipped file. Already present: eeg_recording_2014-11-13\n",
      "Skipped file. Already present: eeg_recording_2014-11-13\n"
     ]
    },
    {
     "name": "stderr",
     "output_type": "stream",
     "text": [
      " 11%|██████████████████▋                                                                                                                                                   | 115/1023 [4:02:25<12:44:16, 50.50s/it]"
     ]
    },
    {
     "name": "stdout",
     "output_type": "stream",
     "text": [
      "Skipped file. Already present: eeg_recording_2014-11-14\n",
      "Skipped file. Already present: eeg_recording_2014-11-14\n"
     ]
    },
    {
     "name": "stderr",
     "output_type": "stream",
     "text": [
      " 11%|██████████████████▊                                                                                                                                                   | 116/1023 [4:03:25<13:24:10, 53.20s/it]"
     ]
    },
    {
     "name": "stdout",
     "output_type": "stream",
     "text": [
      "Skipped file. Already present: eeg_recording_2014-11-15\n",
      "Skipped file. Already present: eeg_recording_2014-11-15\n"
     ]
    },
    {
     "name": "stderr",
     "output_type": "stream",
     "text": [
      " 11%|██████████████████▉                                                                                                                                                   | 117/1023 [4:04:23<13:44:53, 54.63s/it]"
     ]
    },
    {
     "name": "stdout",
     "output_type": "stream",
     "text": [
      "Skipped file. Already present: eeg_recording_2014-11-16\n",
      "Skipped file. Already present: eeg_recording_2014-11-16\n"
     ]
    },
    {
     "name": "stderr",
     "output_type": "stream",
     "text": [
      " 12%|███████████████████▏                                                                                                                                                  | 118/1023 [4:05:22<14:06:19, 56.11s/it]"
     ]
    },
    {
     "name": "stdout",
     "output_type": "stream",
     "text": [
      "Skipped file. Already present: eeg_recording_2014-11-17\n",
      "Skipped file. Already present: eeg_recording_2014-11-17\n"
     ]
    },
    {
     "name": "stderr",
     "output_type": "stream",
     "text": [
      " 12%|███████████████████▎                                                                                                                                                  | 119/1023 [4:06:18<14:02:10, 55.90s/it]"
     ]
    },
    {
     "name": "stdout",
     "output_type": "stream",
     "text": [
      "Skipped file. Already present: eeg_recording_2014-11-18\n",
      "Skipped file. Already present: eeg_recording_2014-11-18\n"
     ]
    },
    {
     "name": "stderr",
     "output_type": "stream",
     "text": [
      " 12%|███████████████████▍                                                                                                                                                  | 120/1023 [4:07:20<14:29:29, 57.77s/it]"
     ]
    },
    {
     "name": "stdout",
     "output_type": "stream",
     "text": [
      "Skipped file. Already present: eeg_recording_2014-11-19\n",
      "Skipped file. Already present: eeg_recording_2014-11-19\n"
     ]
    },
    {
     "name": "stderr",
     "output_type": "stream",
     "text": [
      " 12%|███████████████████▋                                                                                                                                                  | 121/1023 [4:08:15<14:16:00, 56.94s/it]"
     ]
    },
    {
     "name": "stdout",
     "output_type": "stream",
     "text": [
      "Skipped file. Already present: eeg_recording_2014-11-20\n"
     ]
    },
    {
     "name": "stderr",
     "output_type": "stream",
     "text": [
      " 12%|███████████████████▉                                                                                                                                                  | 123/1023 [4:09:53<13:19:39, 53.31s/it]"
     ]
    },
    {
     "name": "stdout",
     "output_type": "stream",
     "text": [
      "Skipped file. Already present: eeg_recording_2014-11-21\n"
     ]
    },
    {
     "name": "stderr",
     "output_type": "stream",
     "text": [
      " 12%|████████████████████                                                                                                                                                  | 124/1023 [4:10:45<13:13:56, 52.99s/it]"
     ]
    },
    {
     "name": "stdout",
     "output_type": "stream",
     "text": [
      "Skipped file. Already present: eeg_recording_2014-11-22\n"
     ]
    },
    {
     "name": "stderr",
     "output_type": "stream",
     "text": [
      " 12%|████████████████████▎                                                                                                                                                 | 125/1023 [4:11:37<13:11:16, 52.87s/it]"
     ]
    },
    {
     "name": "stdout",
     "output_type": "stream",
     "text": [
      "Skipped file. Already present: eeg_recording_2014-11-23\n"
     ]
    },
    {
     "name": "stderr",
     "output_type": "stream",
     "text": [
      " 12%|████████████████████▍                                                                                                                                                 | 126/1023 [4:12:23<12:37:14, 50.65s/it]"
     ]
    },
    {
     "name": "stdout",
     "output_type": "stream",
     "text": [
      "Skipped file. Already present: eeg_recording_2014-11-24\n"
     ]
    },
    {
     "name": "stderr",
     "output_type": "stream",
     "text": [
      " 12%|████████████████████▌                                                                                                                                                 | 127/1023 [4:13:13<12:33:20, 50.45s/it]"
     ]
    },
    {
     "name": "stdout",
     "output_type": "stream",
     "text": [
      "Skipped file. Already present: eeg_recording_2014-11-25\n"
     ]
    },
    {
     "name": "stderr",
     "output_type": "stream",
     "text": [
      " 13%|████████████████████▊                                                                                                                                                 | 128/1023 [4:14:15<13:25:53, 54.03s/it]"
     ]
    },
    {
     "name": "stdout",
     "output_type": "stream",
     "text": [
      "Skipped file. Already present: eeg_recording_2014-11-26\n"
     ]
    },
    {
     "name": "stderr",
     "output_type": "stream",
     "text": [
      " 13%|████████████████████▉                                                                                                                                                 | 129/1023 [4:15:11<13:32:01, 54.50s/it]"
     ]
    },
    {
     "name": "stdout",
     "output_type": "stream",
     "text": [
      "Skipped file. Already present: eeg_recording_2014-11-27\n",
      "Skipped file. Already present: eeg_recording_2014-12-09\n",
      "Skipped file. Already present: eeg_recording_2014-12-09\n"
     ]
    },
    {
     "name": "stderr",
     "output_type": "stream",
     "text": [
      " 13%|█████████████████████                                                                                                                                                 | 130/1023 [4:16:26<15:04:49, 60.79s/it]"
     ]
    },
    {
     "name": "stdout",
     "output_type": "stream",
     "text": [
      "Skipped file. Already present: eeg_recording_2014-12-10\n",
      "Skipped file. Already present: eeg_recording_2014-12-10\n",
      "Skipped file. Already present: eeg_recording_2014-12-10\n",
      "Skipped file. Already present: eeg_recording_2014-12-10\n"
     ]
    },
    {
     "name": "stderr",
     "output_type": "stream",
     "text": [
      " 13%|█████████████████████▎                                                                                                                                                | 131/1023 [4:17:25<14:55:44, 60.25s/it]"
     ]
    },
    {
     "name": "stdout",
     "output_type": "stream",
     "text": [
      "Skipped file. Already present: eeg_recording_2014-12-10\n",
      "Skipped file. Already present: eeg_recording_2014-12-11\n",
      "Skipped file. Already present: eeg_recording_2014-12-11\n",
      "Skipped file. Already present: eeg_recording_2014-12-11\n",
      "Skipped file. Already present: eeg_recording_2014-12-11\n",
      "Skipped file. Already present: eeg_recording_2014-12-11\n",
      "Skipped file. Already present: eeg_recording_2014-12-11\n"
     ]
    },
    {
     "name": "stderr",
     "output_type": "stream",
     "text": [
      " 13%|█████████████████████▍                                                                                                                                                | 132/1023 [4:19:25<19:21:43, 78.23s/it]"
     ]
    },
    {
     "name": "stdout",
     "output_type": "stream",
     "text": [
      "Skipped file. Already present: eeg_recording_2014-12-12\n",
      "Skipped file. Already present: eeg_recording_2014-12-12\n",
      "Skipped file. Already present: eeg_recording_2014-12-12\n",
      "Skipped file. Already present: eeg_recording_2014-12-12\n",
      "Skipped file. Already present: eeg_recording_2014-12-12\n"
     ]
    },
    {
     "name": "stderr",
     "output_type": "stream",
     "text": [
      " 13%|█████████████████████▌                                                                                                                                                | 133/1023 [4:21:55<24:38:19, 99.66s/it]"
     ]
    },
    {
     "name": "stdout",
     "output_type": "stream",
     "text": [
      "Skipped file. Already present: eeg_recording_2014-12-13\n",
      "Skipped file. Already present: eeg_recording_2014-12-13\n",
      "Skipped file. Already present: eeg_recording_2014-12-13\n",
      "Skipped file. Already present: eeg_recording_2014-12-13\n",
      "Skipped file. Already present: eeg_recording_2014-12-13\n",
      "Skipped file. Already present: eeg_recording_2014-12-13\n"
     ]
    },
    {
     "name": "stderr",
     "output_type": "stream",
     "text": [
      " 13%|█████████████████████▌                                                                                                                                               | 134/1023 [4:24:06<26:57:30, 109.17s/it]"
     ]
    },
    {
     "name": "stdout",
     "output_type": "stream",
     "text": [
      "Skipped file. Already present: eeg_recording_2014-12-14\n",
      "Skipped file. Already present: eeg_recording_2014-12-14\n",
      "Skipped file. Already present: eeg_recording_2014-12-14\n",
      "Skipped file. Already present: eeg_recording_2014-12-14\n",
      "Skipped file. Already present: eeg_recording_2014-12-14\n"
     ]
    },
    {
     "name": "stderr",
     "output_type": "stream",
     "text": [
      " 13%|█████████████████████▊                                                                                                                                               | 135/1023 [4:26:21<28:48:54, 116.82s/it]"
     ]
    },
    {
     "name": "stdout",
     "output_type": "stream",
     "text": [
      "Skipped file. Already present: eeg_recording_2014-12-14\n",
      "Skipped file. Already present: eeg_recording_2014-12-15\n",
      "Skipped file. Already present: eeg_recording_2014-12-15\n",
      "Skipped file. Already present: eeg_recording_2014-12-15\n",
      "Skipped file. Already present: eeg_recording_2014-12-15\n",
      "Skipped file. Already present: eeg_recording_2014-12-15\n",
      "Skipped file. Already present: eeg_recording_2014-12-15\n"
     ]
    },
    {
     "name": "stderr",
     "output_type": "stream",
     "text": [
      " 13%|█████████████████████▉                                                                                                                                               | 136/1023 [4:28:43<30:38:43, 124.38s/it]"
     ]
    },
    {
     "name": "stdout",
     "output_type": "stream",
     "text": [
      "Skipped file. Already present: eeg_recording_2014-12-18\n",
      "Skipped file. Already present: eeg_recording_2014-12-18\n",
      "Skipped file. Already present: eeg_recording_2014-12-18\n",
      "Skipped file. Already present: eeg_recording_2014-12-18\n",
      "Skipped file. Already present: eeg_recording_2014-12-18\n"
     ]
    },
    {
     "name": "stderr",
     "output_type": "stream",
     "text": [
      " 13%|██████████████████████                                                                                                                                               | 137/1023 [4:30:34<29:36:17, 120.29s/it]"
     ]
    },
    {
     "name": "stdout",
     "output_type": "stream",
     "text": [
      "Skipped file. Already present: eeg_recording_2014-12-18\n",
      "Skipped file. Already present: eeg_recording_2014-12-19\n",
      "Skipped file. Already present: eeg_recording_2014-12-19\n",
      "Skipped file. Already present: eeg_recording_2014-12-19\n",
      "Skipped file. Already present: eeg_recording_2014-12-19\n",
      "Skipped file. Already present: eeg_recording_2014-12-19\n",
      "Skipped file. Already present: eeg_recording_2014-12-19\n"
     ]
    },
    {
     "name": "stderr",
     "output_type": "stream",
     "text": [
      " 13%|██████████████████████▎                                                                                                                                              | 138/1023 [4:32:33<29:30:48, 120.05s/it]"
     ]
    },
    {
     "name": "stdout",
     "output_type": "stream",
     "text": [
      "Skipped file. Already present: eeg_recording_2014-12-20\n",
      "Skipped file. Already present: eeg_recording_2014-12-20\n",
      "Skipped file. Already present: eeg_recording_2014-12-20\n",
      "Skipped file. Already present: eeg_recording_2014-12-20\n",
      "Skipped file. Already present: eeg_recording_2014-12-20\n",
      "Skipped file. Already present: eeg_recording_2014-12-20\n"
     ]
    },
    {
     "name": "stderr",
     "output_type": "stream",
     "text": [
      " 14%|██████████████████████▍                                                                                                                                              | 139/1023 [4:34:47<30:30:10, 124.22s/it]"
     ]
    },
    {
     "name": "stdout",
     "output_type": "stream",
     "text": [
      "Skipped file. Already present: eeg_recording_2014-12-21\n",
      "Skipped file. Already present: eeg_recording_2014-12-21\n",
      "Skipped file. Already present: eeg_recording_2014-12-21\n",
      "Skipped file. Already present: eeg_recording_2014-12-21\n",
      "Skipped file. Already present: eeg_recording_2014-12-21\n",
      "Skipped file. Already present: eeg_recording_2014-12-21\n"
     ]
    },
    {
     "name": "stderr",
     "output_type": "stream",
     "text": [
      " 14%|██████████████████████▌                                                                                                                                              | 140/1023 [4:36:02<26:47:32, 109.23s/it]"
     ]
    },
    {
     "name": "stdout",
     "output_type": "stream",
     "text": [
      "Skipped file. Already present: eeg_recording_2014-12-22\n",
      "Skipped file. Already present: eeg_recording_2014-12-22\n",
      "Skipped file. Already present: eeg_recording_2014-12-22\n",
      "Skipped file. Already present: eeg_recording_2014-12-22\n",
      "Skipped file. Already present: eeg_recording_2014-12-22\n",
      "Skipped file. Already present: eeg_recording_2014-12-22\n"
     ]
    },
    {
     "name": "stderr",
     "output_type": "stream",
     "text": [
      " 14%|██████████████████████▉                                                                                                                                               | 141/1023 [4:37:17<24:17:37, 99.16s/it]"
     ]
    },
    {
     "name": "stdout",
     "output_type": "stream",
     "text": [
      "Skipped file. Already present: eeg_recording_2014-12-23\n",
      "Skipped file. Already present: eeg_recording_2014-12-23\n",
      "Skipped file. Already present: eeg_recording_2014-12-23\n",
      "Skipped file. Already present: eeg_recording_2014-12-23\n",
      "Skipped file. Already present: eeg_recording_2014-12-23\n"
     ]
    },
    {
     "name": "stderr",
     "output_type": "stream",
     "text": [
      " 14%|██████████████████████▉                                                                                                                                              | 142/1023 [4:39:29<26:41:21, 109.06s/it]"
     ]
    },
    {
     "name": "stdout",
     "output_type": "stream",
     "text": [
      "Skipped file. Already present: eeg_recording_2014-12-23\n",
      "Skipped file. Already present: eeg_recording_2014-12-24\n",
      "Skipped file. Already present: eeg_recording_2014-12-24\n",
      "Skipped file. Already present: eeg_recording_2014-12-24\n",
      "Skipped file. Already present: eeg_recording_2014-12-24\n",
      "Skipped file. Already present: eeg_recording_2014-12-24\n",
      "Skipped file. Already present: eeg_recording_2014-12-24\n"
     ]
    },
    {
     "name": "stderr",
     "output_type": "stream",
     "text": [
      " 14%|███████████████████████                                                                                                                                              | 143/1023 [4:41:59<29:39:48, 121.35s/it]"
     ]
    },
    {
     "name": "stdout",
     "output_type": "stream",
     "text": [
      "Skipped file. Already present: eeg_recording_2014-12-25\n",
      "Skipped file. Already present: eeg_recording_2014-12-25\n",
      "Skipped file. Already present: eeg_recording_2014-12-25\n",
      "Skipped file. Already present: eeg_recording_2014-12-25\n",
      "Skipped file. Already present: eeg_recording_2014-12-25\n",
      "Skipped file. Already present: eeg_recording_2014-12-25\n"
     ]
    },
    {
     "name": "stderr",
     "output_type": "stream",
     "text": [
      " 14%|███████████████████████▏                                                                                                                                             | 144/1023 [4:44:20<31:03:11, 127.18s/it]"
     ]
    },
    {
     "name": "stdout",
     "output_type": "stream",
     "text": [
      "Skipped file. Already present: eeg_recording_2014-12-26\n",
      "Skipped file. Already present: eeg_recording_2014-12-26\n",
      "Skipped file. Already present: eeg_recording_2014-12-26\n",
      "Skipped file. Already present: eeg_recording_2014-12-26\n",
      "Skipped file. Already present: eeg_recording_2014-12-26\n",
      "Skipped file. Already present: eeg_recording_2014-12-26\n"
     ]
    },
    {
     "name": "stderr",
     "output_type": "stream",
     "text": [
      " 14%|███████████████████████▍                                                                                                                                             | 145/1023 [4:46:44<32:12:17, 132.05s/it]"
     ]
    },
    {
     "name": "stdout",
     "output_type": "stream",
     "text": [
      "Skipped file. Already present: eeg_recording_2014-12-27\n",
      "Skipped file. Already present: eeg_recording_2014-12-27\n",
      "Skipped file. Already present: eeg_recording_2014-12-27\n",
      "Skipped file. Already present: eeg_recording_2014-12-27\n",
      "Skipped file. Already present: eeg_recording_2014-12-27\n",
      "Skipped file. Already present: eeg_recording_2014-12-27\n"
     ]
    },
    {
     "name": "stderr",
     "output_type": "stream",
     "text": [
      " 14%|███████████████████████▌                                                                                                                                             | 146/1023 [4:49:04<32:45:32, 134.47s/it]"
     ]
    },
    {
     "name": "stdout",
     "output_type": "stream",
     "text": [
      "Skipped file. Already present: eeg_recording_2014-12-28\n",
      "Skipped file. Already present: eeg_recording_2014-12-28\n",
      "Skipped file. Already present: eeg_recording_2014-12-28\n",
      "Skipped file. Already present: eeg_recording_2014-12-28\n",
      "Skipped file. Already present: eeg_recording_2014-12-28\n",
      "Skipped file. Already present: eeg_recording_2014-12-28\n"
     ]
    },
    {
     "name": "stderr",
     "output_type": "stream",
     "text": [
      " 14%|███████████████████████▋                                                                                                                                             | 147/1023 [4:51:27<33:20:51, 137.05s/it]"
     ]
    },
    {
     "name": "stdout",
     "output_type": "stream",
     "text": [
      "Skipped file. Already present: eeg_recording_2014-12-29\n",
      "Skipped file. Already present: eeg_recording_2014-12-29\n",
      "Skipped file. Already present: eeg_recording_2014-12-29\n",
      "Skipped file. Already present: eeg_recording_2014-12-29\n",
      "Skipped file. Already present: eeg_recording_2014-12-29\n",
      "Skipped file. Already present: eeg_recording_2014-12-29\n"
     ]
    },
    {
     "name": "stderr",
     "output_type": "stream",
     "text": [
      " 14%|███████████████████████▊                                                                                                                                             | 148/1023 [4:53:54<34:03:07, 140.10s/it]"
     ]
    },
    {
     "name": "stdout",
     "output_type": "stream",
     "text": [
      "Skipped file. Already present: eeg_recording_2014-12-30\n",
      "Skipped file. Already present: eeg_recording_2014-12-30\n",
      "Skipped file. Already present: eeg_recording_2014-12-30\n",
      "Skipped file. Already present: eeg_recording_2014-12-30\n",
      "Skipped file. Already present: eeg_recording_2014-12-30\n",
      "Skipped file. Already present: eeg_recording_2014-12-30\n"
     ]
    },
    {
     "name": "stderr",
     "output_type": "stream",
     "text": [
      " 15%|████████████████████████                                                                                                                                             | 149/1023 [4:56:28<35:00:51, 144.22s/it]"
     ]
    },
    {
     "name": "stdout",
     "output_type": "stream",
     "text": [
      "Skipped file. Already present: eeg_recording_2014-12-31\n",
      "Skipped file. Already present: eeg_recording_2014-12-31\n",
      "Skipped file. Already present: eeg_recording_2014-12-31\n",
      "Skipped file. Already present: eeg_recording_2014-12-31\n",
      "Skipped file. Already present: eeg_recording_2014-12-31\n",
      "Skipped file. Already present: eeg_recording_2014-12-31\n"
     ]
    },
    {
     "name": "stderr",
     "output_type": "stream",
     "text": [
      " 15%|████████████████████████▏                                                                                                                                            | 150/1023 [4:58:55<35:10:07, 145.03s/it]"
     ]
    },
    {
     "name": "stdout",
     "output_type": "stream",
     "text": [
      "Skipped file. Already present: eeg_recording_2015-01-01\n",
      "Skipped file. Already present: eeg_recording_2015-01-01\n",
      "Skipped file. Already present: eeg_recording_2015-01-01\n",
      "Skipped file. Already present: eeg_recording_2015-01-01\n"
     ]
    },
    {
     "name": "stderr",
     "output_type": "stream",
     "text": [
      " 15%|████████████████████████▎                                                                                                                                            | 151/1023 [5:00:59<33:36:14, 138.73s/it]"
     ]
    },
    {
     "name": "stdout",
     "output_type": "stream",
     "text": [
      "Skipped file. Already present: eeg_recording_2015-01-02\n",
      "Skipped file. Already present: eeg_recording_2015-01-02\n",
      "Skipped file. Already present: eeg_recording_2015-01-02\n"
     ]
    },
    {
     "name": "stderr",
     "output_type": "stream",
     "text": [
      " 15%|████████████████████████▌                                                                                                                                            | 152/1023 [5:03:09<32:56:02, 136.12s/it]"
     ]
    },
    {
     "name": "stdout",
     "output_type": "stream",
     "text": [
      "Skipped file. Already present: eeg_recording_2015-01-03\n",
      "Skipped file. Already present: eeg_recording_2015-01-03\n",
      "Skipped file. Already present: eeg_recording_2015-01-03\n",
      "Skipped file. Already present: eeg_recording_2015-01-03\n",
      "Skipped file. Already present: eeg_recording_2015-01-03\n"
     ]
    },
    {
     "name": "stderr",
     "output_type": "stream",
     "text": [
      " 15%|████████████████████████▋                                                                                                                                            | 153/1023 [5:05:29<33:12:03, 137.38s/it]"
     ]
    },
    {
     "name": "stdout",
     "output_type": "stream",
     "text": [
      "Skipped file. Already present: eeg_recording_2015-01-04\n",
      "Skipped file. Already present: eeg_recording_2015-01-04\n",
      "Skipped file. Already present: eeg_recording_2015-01-04\n",
      "Skipped file. Already present: eeg_recording_2015-01-04\n",
      "Skipped file. Already present: eeg_recording_2015-01-04\n",
      "Skipped file. Already present: eeg_recording_2015-01-04\n"
     ]
    },
    {
     "name": "stderr",
     "output_type": "stream",
     "text": [
      " 15%|████████████████████████▊                                                                                                                                            | 154/1023 [5:07:25<31:35:55, 130.90s/it]"
     ]
    },
    {
     "name": "stdout",
     "output_type": "stream",
     "text": [
      "Skipped file. Already present: eeg_recording_2015-01-05\n",
      "Skipped file. Already present: eeg_recording_2015-01-05\n",
      "Skipped file. Already present: eeg_recording_2015-01-05\n",
      "Skipped file. Already present: eeg_recording_2015-01-05\n",
      "Skipped file. Already present: eeg_recording_2015-01-05\n",
      "Skipped file. Already present: eeg_recording_2015-01-05\n"
     ]
    },
    {
     "name": "stderr",
     "output_type": "stream",
     "text": [
      " 15%|█████████████████████████                                                                                                                                            | 155/1023 [5:09:53<32:49:04, 136.11s/it]"
     ]
    },
    {
     "name": "stdout",
     "output_type": "stream",
     "text": [
      "Skipped file. Already present: eeg_recording_2015-01-06\n",
      "Skipped file. Already present: eeg_recording_2015-01-06\n",
      "Skipped file. Already present: eeg_recording_2015-01-06\n",
      "Skipped file. Already present: eeg_recording_2015-01-06\n",
      "Skipped file. Already present: eeg_recording_2015-01-06\n",
      "Skipped file. Already present: eeg_recording_2015-01-06\n"
     ]
    },
    {
     "name": "stderr",
     "output_type": "stream",
     "text": [
      " 15%|█████████████████████████▏                                                                                                                                           | 156/1023 [5:12:31<34:21:38, 142.67s/it]"
     ]
    },
    {
     "name": "stdout",
     "output_type": "stream",
     "text": [
      "Skipped file. Already present: eeg_recording_2015-01-07\n",
      "Skipped file. Already present: eeg_recording_2015-01-07\n",
      "Skipped file. Already present: eeg_recording_2015-01-07\n",
      "Skipped file. Already present: eeg_recording_2015-01-07\n",
      "Skipped file. Already present: eeg_recording_2015-01-07\n",
      "Skipped file. Already present: eeg_recording_2015-01-07\n"
     ]
    },
    {
     "name": "stderr",
     "output_type": "stream",
     "text": [
      " 15%|█████████████████████████▎                                                                                                                                           | 157/1023 [5:15:17<36:01:31, 149.76s/it]"
     ]
    },
    {
     "name": "stdout",
     "output_type": "stream",
     "text": [
      "Skipped file. Already present: eeg_recording_2015-01-08\n",
      "Skipped file. Already present: eeg_recording_2015-01-08\n",
      "Skipped file. Already present: eeg_recording_2015-01-08\n",
      "Skipped file. Already present: eeg_recording_2015-01-08\n",
      "Skipped file. Already present: eeg_recording_2015-01-08\n",
      "Skipped file. Already present: eeg_recording_2015-01-08\n"
     ]
    },
    {
     "name": "stderr",
     "output_type": "stream",
     "text": [
      " 16%|█████████████████████████▋                                                                                                                                           | 159/1023 [5:21:16<39:36:13, 165.02s/it]"
     ]
    },
    {
     "name": "stdout",
     "output_type": "stream",
     "text": [
      "OS error: /tmp/tmpdp__58lr/EDF_yolo_2015-01-09.edf: can not open file, no such file or directory\n",
      "EDF_yolo_2015-01-09.edf not found\n",
      "Skipped file. Already present: eeg_recording_2015-01-10\n",
      "Skipped file. Already present: eeg_recording_2015-01-10\n",
      "Skipped file. Already present: eeg_recording_2015-01-10\n",
      "Skipped file. Already present: eeg_recording_2015-01-10\n",
      "Skipped file. Already present: eeg_recording_2015-01-10\n",
      "Skipped file. Already present: eeg_recording_2015-01-10\n"
     ]
    },
    {
     "name": "stderr",
     "output_type": "stream",
     "text": [
      " 16%|█████████████████████████▊                                                                                                                                           | 160/1023 [5:24:20<40:59:19, 170.98s/it]"
     ]
    },
    {
     "name": "stdout",
     "output_type": "stream",
     "text": [
      "Skipped file. Already present: eeg_recording_2015-01-11\n",
      "Skipped file. Already present: eeg_recording_2015-01-11\n",
      "Skipped file. Already present: eeg_recording_2015-01-11\n",
      "Skipped file. Already present: eeg_recording_2015-01-11\n",
      "Skipped file. Already present: eeg_recording_2015-01-11\n",
      "Skipped file. Already present: eeg_recording_2015-01-11\n"
     ]
    },
    {
     "name": "stderr",
     "output_type": "stream",
     "text": [
      " 16%|█████████████████████████▉                                                                                                                                           | 161/1023 [5:27:32<42:23:41, 177.05s/it]"
     ]
    },
    {
     "name": "stdout",
     "output_type": "stream",
     "text": [
      "Skipped file. Already present: eeg_recording_2015-01-12\n",
      "Skipped file. Already present: eeg_recording_2015-01-12\n",
      "Skipped file. Already present: eeg_recording_2015-01-12\n",
      "Skipped file. Already present: eeg_recording_2015-01-12\n",
      "Skipped file. Already present: eeg_recording_2015-01-12\n"
     ]
    },
    {
     "name": "stderr",
     "output_type": "stream",
     "text": [
      " 16%|██████████████████████████▏                                                                                                                                          | 162/1023 [5:30:04<40:33:52, 169.61s/it]"
     ]
    },
    {
     "name": "stdout",
     "output_type": "stream",
     "text": [
      "Skipped file. Already present: eeg_recording_2015-01-13\n",
      "Skipped file. Already present: eeg_recording_2015-01-13\n",
      "Skipped file. Already present: eeg_recording_2015-01-13\n",
      "Skipped file. Already present: eeg_recording_2015-01-13\n",
      "Skipped file. Already present: eeg_recording_2015-01-13\n"
     ]
    },
    {
     "name": "stderr",
     "output_type": "stream",
     "text": [
      " 16%|██████████████████████████▎                                                                                                                                          | 163/1023 [5:32:51<40:22:02, 168.98s/it]"
     ]
    },
    {
     "name": "stdout",
     "output_type": "stream",
     "text": [
      "Skipped file. Already present: eeg_recording_2015-01-14\n",
      "Skipped file. Already present: eeg_recording_2015-01-14\n",
      "Skipped file. Already present: eeg_recording_2015-01-14\n",
      "Skipped file. Already present: eeg_recording_2015-01-14\n",
      "Skipped file. Already present: eeg_recording_2015-01-14\n"
     ]
    },
    {
     "name": "stderr",
     "output_type": "stream",
     "text": [
      " 16%|██████████████████████████▍                                                                                                                                          | 164/1023 [5:35:50<41:00:05, 171.83s/it]"
     ]
    },
    {
     "name": "stdout",
     "output_type": "stream",
     "text": [
      "Skipped file. Already present: eeg_recording_2015-01-15\n",
      "Skipped file. Already present: eeg_recording_2015-01-15\n",
      "Skipped file. Already present: eeg_recording_2015-01-15\n",
      "Skipped file. Already present: eeg_recording_2015-01-15\n"
     ]
    },
    {
     "name": "stderr",
     "output_type": "stream",
     "text": [
      " 16%|██████████████████████████▌                                                                                                                                          | 165/1023 [5:38:53<41:46:12, 175.26s/it]"
     ]
    },
    {
     "name": "stdout",
     "output_type": "stream",
     "text": [
      "Skipped file. Already present: eeg_recording_2015-01-15\n",
      "Skipped file. Already present: eeg_recording_2015-01-16\n",
      "Skipped file. Already present: eeg_recording_2015-01-16\n",
      "Skipped file. Already present: eeg_recording_2015-01-16\n",
      "Skipped file. Already present: eeg_recording_2015-01-16\n"
     ]
    },
    {
     "name": "stderr",
     "output_type": "stream",
     "text": [
      " 16%|██████████████████████████▊                                                                                                                                          | 166/1023 [5:41:27<40:11:36, 168.84s/it]"
     ]
    },
    {
     "name": "stdout",
     "output_type": "stream",
     "text": [
      "Skipped file. Already present: eeg_recording_2015-01-16\n",
      "Skipped file. Already present: eeg_recording_2015-01-17\n",
      "Skipped file. Already present: eeg_recording_2015-01-17\n",
      "Skipped file. Already present: eeg_recording_2015-01-17\n",
      "Skipped file. Already present: eeg_recording_2015-01-17\n"
     ]
    },
    {
     "name": "stderr",
     "output_type": "stream",
     "text": [
      " 16%|██████████████████████████▉                                                                                                                                          | 167/1023 [5:44:14<39:59:05, 168.16s/it]"
     ]
    },
    {
     "name": "stdout",
     "output_type": "stream",
     "text": [
      "Skipped file. Already present: eeg_recording_2015-01-17\n",
      "Skipped file. Already present: eeg_recording_2015-01-18\n",
      "Skipped file. Already present: eeg_recording_2015-01-18\n",
      "Skipped file. Already present: eeg_recording_2015-01-18\n",
      "Skipped file. Already present: eeg_recording_2015-01-18\n"
     ]
    },
    {
     "name": "stderr",
     "output_type": "stream",
     "text": [
      " 16%|███████████████████████████                                                                                                                                          | 168/1023 [5:47:03<39:59:27, 168.38s/it]"
     ]
    },
    {
     "name": "stdout",
     "output_type": "stream",
     "text": [
      "Skipped file. Already present: eeg_recording_2015-01-18\n",
      "Skipped file. Already present: eeg_recording_2015-01-19\n",
      "Skipped file. Already present: eeg_recording_2015-01-19\n",
      "Skipped file. Already present: eeg_recording_2015-01-19\n",
      "Skipped file. Already present: eeg_recording_2015-01-19\n"
     ]
    },
    {
     "name": "stderr",
     "output_type": "stream",
     "text": [
      " 17%|███████████████████████████▎                                                                                                                                         | 169/1023 [5:49:43<39:23:36, 166.06s/it]"
     ]
    },
    {
     "name": "stdout",
     "output_type": "stream",
     "text": [
      "Skipped file. Already present: eeg_recording_2015-01-19\n",
      "Skipped file. Already present: eeg_recording_2015-01-19\n",
      "Skipped file. Already present: eeg_recording_2015-01-20\n",
      "Skipped file. Already present: eeg_recording_2015-01-20\n",
      "Skipped file. Already present: eeg_recording_2015-01-20\n",
      "Skipped file. Already present: eeg_recording_2015-01-20\n",
      "Skipped file. Already present: eeg_recording_2015-01-20\n",
      "Skipped file. Already present: eeg_recording_2015-01-20\n"
     ]
    },
    {
     "name": "stderr",
     "output_type": "stream",
     "text": [
      " 17%|███████████████████████████▍                                                                                                                                         | 170/1023 [5:52:30<39:23:14, 166.23s/it]"
     ]
    },
    {
     "name": "stdout",
     "output_type": "stream",
     "text": [
      "Skipped file. Already present: eeg_recording_2015-01-22\n",
      "Skipped file. Already present: eeg_recording_2015-01-22\n",
      "Skipped file. Already present: eeg_recording_2015-01-22\n",
      "Skipped file. Already present: eeg_recording_2015-01-22\n"
     ]
    },
    {
     "name": "stderr",
     "output_type": "stream",
     "text": [
      " 17%|███████████████████████████▌                                                                                                                                         | 171/1023 [5:55:34<40:38:54, 171.75s/it]"
     ]
    },
    {
     "name": "stdout",
     "output_type": "stream",
     "text": [
      "Skipped file. Already present: eeg_recording_2015-01-22\n",
      "Skipped file. Already present: eeg_recording_2015-01-22\n",
      "Skipped file. Already present: eeg_recording_2015-01-23\n",
      "Skipped file. Already present: eeg_recording_2015-01-23\n",
      "Skipped file. Already present: eeg_recording_2015-01-23\n",
      "Skipped file. Already present: eeg_recording_2015-01-23\n"
     ]
    },
    {
     "name": "stderr",
     "output_type": "stream",
     "text": [
      " 17%|███████████████████████████▋                                                                                                                                         | 172/1023 [5:58:13<39:39:25, 167.76s/it]"
     ]
    },
    {
     "name": "stdout",
     "output_type": "stream",
     "text": [
      "Skipped file. Already present: eeg_recording_2015-01-23\n",
      "Skipped file. Already present: eeg_recording_2015-01-23\n",
      "Skipped file. Already present: eeg_recording_2015-01-24\n",
      "Skipped file. Already present: eeg_recording_2015-01-24\n",
      "Skipped file. Already present: eeg_recording_2015-01-24\n",
      "Skipped file. Already present: eeg_recording_2015-01-24\n"
     ]
    },
    {
     "name": "stderr",
     "output_type": "stream",
     "text": [
      " 17%|███████████████████████████▉                                                                                                                                         | 173/1023 [6:01:04<39:50:25, 168.74s/it]"
     ]
    },
    {
     "name": "stdout",
     "output_type": "stream",
     "text": [
      "Skipped file. Already present: eeg_recording_2015-01-24\n",
      "Skipped file. Already present: eeg_recording_2015-01-24\n",
      "Skipped file. Already present: eeg_recording_2015-01-25\n",
      "Skipped file. Already present: eeg_recording_2015-01-25\n",
      "Skipped file. Already present: eeg_recording_2015-01-25\n",
      "Skipped file. Already present: eeg_recording_2015-01-25\n"
     ]
    },
    {
     "name": "stderr",
     "output_type": "stream",
     "text": [
      " 17%|████████████████████████████                                                                                                                                         | 174/1023 [6:03:54<39:51:21, 169.00s/it]"
     ]
    },
    {
     "name": "stdout",
     "output_type": "stream",
     "text": [
      "Skipped file. Already present: eeg_recording_2015-01-25\n",
      "Skipped file. Already present: eeg_recording_2015-01-26\n",
      "Skipped file. Already present: eeg_recording_2015-01-26\n"
     ]
    },
    {
     "name": "stderr",
     "output_type": "stream",
     "text": [
      " 17%|████████████████████████████▏                                                                                                                                        | 175/1023 [6:06:39<39:35:38, 168.09s/it]"
     ]
    }
   ],
   "source": [
    "# Open EDF files by date and machine\n",
    "grp = t.groupby(['Date', 'Machine'])\n",
    "for (date_i, machine_i), grp_i in tqdm(grp):\n",
    "    \n",
    "    # unzip file to temporary folder\n",
    "    date_str = date_i.date().strftime('%Y-%m-%d')\n",
    "    fname = \"EDF_\" + machine_i + '_' + date_str\n",
    "    fname_zip = fname + '.zip'\n",
    "    tmpdir = mkdtemp()\n",
    "    try:\n",
    "        with zipfile.ZipFile(path_edf + fname_zip, 'r') as zip_ref:\n",
    "            zip_ref.extractall(tmpdir)\n",
    "    except FileNotFoundError as err:\n",
    "        print(err)\n",
    "        shutil.rmtree(tmpdir)\n",
    "        continue\n",
    "\n",
    "    # load recordings\n",
    "    fname_edf = fname + '.edf'\n",
    "    try:\n",
    "        f = pyedflib.EdfReader(tmpdir + '/' + fname_edf)\n",
    "    except OSError as err:\n",
    "        print(\"OS error: {0}\".format(err))\n",
    "        print(fname_edf + ' not found')\n",
    "        f.close()\n",
    "        shutil.rmtree(tmpdir)\n",
    "        continue\n",
    "    \n",
    "    # extract information from recording\n",
    "    n = f.signals_in_file\n",
    "    start_time = f.getStartdatetime()\n",
    "    signal_labels = f.getSignalLabels()\n",
    "    nsamples = f.getNSamples()\n",
    "    assert len(np.unique(nsamples)) == 1\n",
    "    nsamples = np.unique(nsamples)[0]\n",
    "    \n",
    "    # associate recording to animal entity\n",
    "    for label_i in signal_labels:\n",
    "        pos_i = signal_labels.index(label_i)\n",
    "        t_ii = grp_i[grp_i['Channel'] == int(label_i)]\n",
    "        if np.any(t_ii):\n",
    "            animal_id = t_ii['ID'].unique()\n",
    "            assert(len(animal_id) == 1)\n",
    "            animal_id = str(animal_id[0])\n",
    "            \n",
    "            # get corresponding action\n",
    "            action_i = project.require_action('record_'+str(animal_id))\n",
    "            \n",
    "            name_rec = 'eeg_recording_' + date_str\n",
    "            # check if recording already exists\n",
    "            if (name_rec in list(action_i.data) and\n",
    "                bool_keepexisting):\n",
    "                print('Skipped file. Already present: ' + name_rec)\n",
    "                continue\n",
    "            else:\n",
    "                # Get all information from table except date\n",
    "                info = t_ii.to_dict('records')[0]\n",
    "                \n",
    "                # date is removed here, it is stored in a different place\n",
    "                del info['Date']\n",
    "                \n",
    "                # if any entry in info is datetime.time, convert to hours, minutes, seconds\n",
    "                for k, v in info.items():\n",
    "                    if isinstance(v, datetime.time):\n",
    "                        info[k] = v.strftime(\"%d/%m/%Y, %H:%M:%S\")\n",
    "                \n",
    "                sampling_freq = f.getSampleFrequency(pos_i)\n",
    "                info['sampling_freq'] = sampling_freq\n",
    "                info['nsamples'] = nsamples\n",
    "                info['duration'] = nsamples*1./sampling_freq\n",
    "                info['dimension'] = f.getPhysicalDimension(pos_i)\n",
    "                #info['starttime'] = start_time.strftime(\"%d/%m/%Y, %H:%M:%S\")\n",
    "                #info['annotations'] = list(t_ii.to_dict('index').values())\n",
    "\n",
    "                mod_info = action_i.require_module(name=name_rec+'_info', contents=info)\n",
    "\n",
    "                 # link file in expipe\n",
    "                action_i.data[name_rec] = name_rec + '.npz'\n",
    "\n",
    "                # store recordings in separate file\n",
    "                sig_ii = f.readSignal(pos_i)\n",
    "                action_data_path = str(action_i.data_path(name_rec))\n",
    "                np.savez_compressed(action_data_path, eeg=sig_ii)\n",
    "    # close EDF file\n",
    "    f.close()\n",
    "    # delete temporary folder\n",
    "    shutil.rmtree(tmpdir)\n"
   ]
  },
  {
   "cell_type": "code",
   "execution_count": null,
   "id": "96941e47-0b23-4801-bd7b-0e93c7e01bcc",
   "metadata": {},
   "outputs": [],
   "source": []
  }
 ],
 "metadata": {
  "kernelspec": {
   "display_name": "Python 3",
   "language": "python",
   "name": "python3"
  },
  "language_info": {
   "codemirror_mode": {
    "name": "ipython",
    "version": 3
   },
   "file_extension": ".py",
   "mimetype": "text/x-python",
   "name": "python",
   "nbconvert_exporter": "python",
   "pygments_lexer": "ipython3",
   "version": "3.10.4"
  }
 },
 "nbformat": 4,
 "nbformat_minor": 5
}
