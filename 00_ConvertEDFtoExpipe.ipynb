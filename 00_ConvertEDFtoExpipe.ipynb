{
 "cells": [
  {
   "cell_type": "markdown",
   "id": "75c03ad1-0118-4594-9874-c6ffdafc6eec",
   "metadata": {},
   "source": [
    "# Convert EDF to expipe files\n",
    "The visual EEG inspection table 'eeg-sichtung.xlsx' has been manually translated into a form which is more easy to read automatically.\n",
    "The table is located in the new file 'data_annotation.ods'.\n",
    "It contains one row per day an animal is recorded.\n",
    "Relevant metadata such as animal id, recording channel, artifacts or missing data are stored in separate columns.\n",
    "\n",
    "This notebooks loads the original edf files sequentially and converts the recordings to the expipe format [1].\n",
    "Here, each day an animal is recorded is its own action.\n",
    "\n",
    "[1] https://github.com/CINPLA/expipe"
   ]
  },
  {
   "cell_type": "code",
   "execution_count": 1,
   "id": "90e9f1ca-15c1-46de-980f-5e7a66869490",
   "metadata": {},
   "outputs": [],
   "source": [
    "import numpy as np\n",
    "import pandas as pd\n",
    "from tempfile import mkdtemp\n",
    "import zipfile\n",
    "import shutil\n",
    "from tqdm import tqdm\n",
    "import expipe\n",
    "import pyedflib\n",
    "import datetime\n",
    "import os\n",
    "import tools\n",
    "from format_data_annotation import dict_format\n",
    "import pdb"
   ]
  },
  {
   "cell_type": "code",
   "execution_count": 2,
   "id": "7d31fad7-c479-4648-9645-430878ab95a2",
   "metadata": {},
   "outputs": [],
   "source": [
    "path = ''\n",
    "#path = '/home/stoeber/EpimiRNA_ExpipeConversion/'\n",
    "fname = 'data_annotation.ods'"
   ]
  },
  {
   "cell_type": "code",
   "execution_count": 3,
   "id": "39aaaa71-8e8d-4719-8b0b-153e6aaf0a70",
   "metadata": {},
   "outputs": [],
   "source": [
    "# Info about the EEG files\n",
    "path_edf = \"/home/jovyan/work/data/PPS_data_raw/\"\n",
    "#path_edf = \"/media/tristan/data/experiments/PPS_data_expipe/\"\n",
    "\n",
    "#path_expipe = \"/home/jovyan/work/data_expipe/epimirna\"\n",
    "path_expipe = \"/home/jovyan/work/data/epimirna/\"\n",
    "\n",
    "# decide whether existing data should be rebuild or not\n",
    "bool_keepexisting = True"
   ]
  },
  {
   "cell_type": "markdown",
   "id": "8310b5fb",
   "metadata": {
    "tags": []
   },
   "source": [
    "### Read data annotation"
   ]
  },
  {
   "cell_type": "code",
   "execution_count": 4,
   "id": "41c09c55-75ac-46e2-af1f-a2d19bc611c6",
   "metadata": {},
   "outputs": [],
   "source": [
    "t = pd.read_excel(path+fname, engine=\"odf\", dtype=dict_format)\n",
    "#t = pd.read_excel(path+fname, engine=\"odf\")"
   ]
  },
  {
   "cell_type": "code",
   "execution_count": 5,
   "id": "24ded25a-c91d-4384-ad00-fbf13fc1cf1e",
   "metadata": {},
   "outputs": [
    {
     "data": {
      "text/plain": [
       "array([ 1218,  1227,  1237,  1243,  1251,  1254,  1257,  1260,  1261,\n",
       "        1262,  1263,  1264,  1265,  1269,  1270,  1271,  1274,  1275,\n",
       "        1276,   322,   323,   324,   325,   326,   328,   329,  3210,\n",
       "        3211,  3212,  3215,  3216,  3218, 32220,  3222, 32223,  3224,\n",
       "        3226,  3227,  3228,  3231,  3232,  3233,  3235,  3237,  3238,\n",
       "        3239,  3240,  3241,  3242,  3243,  3244,  3245,  3246,  3247,\n",
       "        3248,  3251,  3253,  3254,  3256,  3258,  3259,  3260,  3261,\n",
       "        3262,  3263,  3266,  3267,  3268,  3269,  3270,  3271,  3272,\n",
       "        3273,  3274,  3275,  3276,  3277,  3278,  3279,  3280,  3281,\n",
       "        3282,  3283,  3284,  3285])"
      ]
     },
     "execution_count": 5,
     "metadata": {},
     "output_type": "execute_result"
    }
   ],
   "source": [
    "t['ID'].unique()"
   ]
  },
  {
   "cell_type": "markdown",
   "id": "16433ca5-8fef-45db-81b4-ef5953cea403",
   "metadata": {},
   "source": [
    "### Create Expipe project and store metadata for each animal"
   ]
  },
  {
   "cell_type": "code",
   "execution_count": 6,
   "id": "7eeba850-a0ad-44bd-afe8-a633ab0e2af5",
   "metadata": {},
   "outputs": [
    {
     "name": "stdout",
     "output_type": "stream",
     "text": [
      "[ 1218  1227  1237  1243  1251  1254  1257  1260  1261  1262  1263  1264\n",
      "  1265  1269  1270  1271  1274  1275  1276   322   323   324   325   326\n",
      "   328   329  3210  3211  3212  3215  3216  3218 32220  3222 32223  3224\n",
      "  3226  3227  3228  3231  3232  3233  3235  3237  3238  3239  3240  3241\n",
      "  3242  3243  3244  3245  3246  3247  3248  3251  3253  3254  3256  3258\n",
      "  3259  3260  3261  3262  3263  3266  3267  3268  3269  3270  3271  3272\n",
      "  3273  3274  3275  3276  3277  3278  3279  3280  3281  3282  3283  3284\n",
      "  3285]\n"
     ]
    }
   ],
   "source": [
    "animals = t['ID'].unique()\n",
    "print(animals)"
   ]
  },
  {
   "cell_type": "code",
   "execution_count": 7,
   "id": "039a0f1f",
   "metadata": {
    "tags": []
   },
   "outputs": [],
   "source": [
    "# Open project\n",
    "project = expipe.require_project(path_expipe)\n",
    "\n",
    "for animal_i in animals:\n",
    "    \n",
    "    # Register each animal\n",
    "    entity_i = project.require_entity(str(animal_i))\n",
    "    t_i = t[t['ID']==animal_i]\n",
    "    entity_i.modules['info'] = {\n",
    "        'channel': t_i['Channel'].unique()[0],\n",
    "        'machine': t_i['Machine'].unique()[0]\n",
    "    }\n",
    "    # Create action for each animal\n",
    "    name_action_i = 'record_'+str(animal_i)\n",
    "    action_i = project.require_action(name_action_i)\n",
    "    \n",
    "    action_i.type = \"eeg recording\"\n",
    "    action_i.entities = [str(animal_i)]\n",
    "    \n",
    "    # store sub-table for each animal\n",
    "    fname_annot = 'df_data_annotation.pckl'\n",
    "    t_i.to_pickle(action_i.data_path().joinpath(fname_annot))\n",
    "    action_i.data['df_data_annotation'] = fname_annot"
   ]
  },
  {
   "cell_type": "markdown",
   "id": "81e4134f-9c8e-4da3-b828-13dde7c17771",
   "metadata": {
    "tags": []
   },
   "source": [
    "### Add concise group names for the whole epimirna dataset"
   ]
  },
  {
   "cell_type": "code",
   "execution_count": 8,
   "id": "8828d486-5d36-4159-917c-5827b6d55028",
   "metadata": {},
   "outputs": [
    {
     "name": "stdout",
     "output_type": "stream",
     "text": [
      "{'1': 'FF_EPG_5Hz', '1_noPPS': 'FF_EPG_5Hz_noPPS', '2': 'FF_EPG_130Hz', '3': 'PP_EPG_5Hz', '4': 'PP_EPG_130Hz', '5': 'DG_EPG_5Hz', '6': 'DG_EPG_130Hz', '8': 'FF_ME_5Hz', '9': 'FF_ME_130Hz', '10': 'PP_EPG_5Hz', '11': 'PP_EPG_130Hz', '12': 'DG_EPG_5Hz', '13': 'DG_EPG_130Hz', '14': 'FF_noDBS', '14_noPPS': 'FF_noDBS_noPPS', '15': 'VHC_noDBS', '16': 'noDBS', 'pps_only': 'noDBS', 'vhc_epilep_1 Hz': 'VHC_EPG_1Hz', 'vhc_epilep_HF': 'VHC_EPG_130Hz', 'vhc_epilep_LF (5 Hz)': 'VHC_EPG_5Hz', 'vhc_epileptog_LF': 'VHC_EPG_?Hz', 'vhc_mE_Kontrolle': 'VHC_noDBS', 'vhc_mE_LF (1 Hz)': 'VHC_ME_1Hz', 'vhc_mE_LF (1Hz)': 'VHC_ME_1Hz', 'vhc_mE_LF (5 Hz)': 'VHC_ME_5Hz', 'vhc_mE_LF (5Hz)': 'VHC_ME_5Hz'}\n"
     ]
    }
   ],
   "source": [
    "from annotation_short import annotation as group_names_epimirna\n",
    "print(group_names_epimirna)"
   ]
  },
  {
   "cell_type": "code",
   "execution_count": 9,
   "id": "8ff7457f-6884-4ab6-be26-959269225508",
   "metadata": {},
   "outputs": [],
   "source": [
    "for animal_i in animals:\n",
    "    # load\n",
    "    action_i = project.require_action('record_'+str(animal_i))\n",
    "    t_i = pd.read_pickle(action_i.data_path().joinpath(fname_annot))\n",
    "    \n",
    "    # get epimirna group name, rename it\n",
    "    group_i = t_i['group'].unique()\n",
    "    assert len(group_i) == 1\n",
    "    group_i = group_i[0]\n",
    "\n",
    "    # define consisten group names across the whole epimirna data set\n",
    "    t_i['group_epimirna'] = group_names_epimirna[group_i]\n",
    "    \n",
    "    # store\n",
    "    t_i.to_pickle(action_i.data_path().joinpath(fname_annot))\n",
    "    \n",
    "    "
   ]
  },
  {
   "cell_type": "markdown",
   "id": "7676cc65-413a-415c-a2a6-0be87aff02f9",
   "metadata": {},
   "source": [
    "### Load EEG files and store them as actions"
   ]
  },
  {
   "cell_type": "markdown",
   "id": "4a3b8f2d-1583-4800-a921-39242824c932",
   "metadata": {},
   "source": [
    "#### Exclude entries with overlapping recordings\n"
   ]
  },
  {
   "cell_type": "code",
   "execution_count": 10,
   "id": "1edc1531-04e8-4bff-a4f1-684a60737530",
   "metadata": {},
   "outputs": [],
   "source": [
    "t = t[t['Conflict overlap recording']!='x']"
   ]
  },
  {
   "cell_type": "markdown",
   "id": "64a80ba0-a98c-41ce-9eef-5793e78dabe8",
   "metadata": {},
   "source": [
    "#### Test consistency of leftover table"
   ]
  },
  {
   "cell_type": "code",
   "execution_count": 11,
   "id": "d7617458-de2e-41d3-90d9-1708f17b0b84",
   "metadata": {},
   "outputs": [],
   "source": [
    "t = t[t['Device off'].isnull() & t['Missing data'].isnull()]\n",
    "# Test consistency of the table for data extraction\n",
    "tools.test_consistency_of_annotation_table(t)"
   ]
  },
  {
   "cell_type": "code",
   "execution_count": 12,
   "id": "3f342303-a6f2-414e-b576-27dc1d923d96",
   "metadata": {},
   "outputs": [],
   "source": [
    "t = t[t['Missing data']!='x']"
   ]
  },
  {
   "cell_type": "code",
   "execution_count": 13,
   "id": "cced4d21-aa24-48dd-b719-8109d733b7f7",
   "metadata": {},
   "outputs": [
    {
     "name": "stderr",
     "output_type": "stream",
     "text": [
      "  0%|                                                                | 1/1023 [00:04<1:22:46,  4.86s/it]"
     ]
    },
    {
     "name": "stdout",
     "output_type": "stream",
     "text": [
      "Skipped file. Already present: eeg_recording_2014-07-21\n"
     ]
    },
    {
     "name": "stderr",
     "output_type": "stream",
     "text": [
      "  0%|▏                                                               | 2/1023 [00:09<1:21:40,  4.80s/it]"
     ]
    },
    {
     "name": "stdout",
     "output_type": "stream",
     "text": [
      "Skipped file. Already present: eeg_recording_2014-07-22\n"
     ]
    },
    {
     "name": "stderr",
     "output_type": "stream",
     "text": [
      "  0%|▏                                                               | 3/1023 [00:14<1:21:40,  4.80s/it]"
     ]
    },
    {
     "name": "stdout",
     "output_type": "stream",
     "text": [
      "Skipped file. Already present: eeg_recording_2014-07-23\n"
     ]
    },
    {
     "name": "stderr",
     "output_type": "stream",
     "text": [
      "  0%|▎                                                               | 4/1023 [00:19<1:21:27,  4.80s/it]"
     ]
    },
    {
     "name": "stdout",
     "output_type": "stream",
     "text": [
      "Skipped file. Already present: eeg_recording_2014-07-24\n"
     ]
    },
    {
     "name": "stderr",
     "output_type": "stream",
     "text": [
      "  0%|▎                                                               | 5/1023 [00:23<1:21:01,  4.78s/it]"
     ]
    },
    {
     "name": "stdout",
     "output_type": "stream",
     "text": [
      "Skipped file. Already present: eeg_recording_2014-07-25\n"
     ]
    },
    {
     "name": "stderr",
     "output_type": "stream",
     "text": [
      "  1%|▍                                                               | 6/1023 [00:28<1:18:21,  4.62s/it]"
     ]
    },
    {
     "name": "stdout",
     "output_type": "stream",
     "text": [
      "Skipped file. Already present: eeg_recording_2014-07-26\n"
     ]
    },
    {
     "name": "stderr",
     "output_type": "stream",
     "text": [
      "  1%|▍                                                               | 7/1023 [00:32<1:15:50,  4.48s/it]"
     ]
    },
    {
     "name": "stdout",
     "output_type": "stream",
     "text": [
      "Skipped file. Already present: eeg_recording_2014-07-27\n"
     ]
    },
    {
     "name": "stderr",
     "output_type": "stream",
     "text": [
      "  1%|▌                                                               | 8/1023 [00:36<1:12:24,  4.28s/it]"
     ]
    },
    {
     "name": "stdout",
     "output_type": "stream",
     "text": [
      "Skipped file. Already present: eeg_recording_2014-07-28\n"
     ]
    },
    {
     "name": "stderr",
     "output_type": "stream",
     "text": [
      "  1%|▌                                                               | 9/1023 [00:39<1:08:42,  4.07s/it]"
     ]
    },
    {
     "name": "stdout",
     "output_type": "stream",
     "text": [
      "Skipped file. Already present: eeg_recording_2014-07-29\n"
     ]
    },
    {
     "name": "stderr",
     "output_type": "stream",
     "text": [
      "  1%|▌                                                              | 10/1023 [00:43<1:08:18,  4.05s/it]"
     ]
    },
    {
     "name": "stdout",
     "output_type": "stream",
     "text": [
      "Skipped file. Already present: eeg_recording_2014-07-30\n"
     ]
    },
    {
     "name": "stderr",
     "output_type": "stream",
     "text": [
      "  1%|▋                                                              | 11/1023 [00:48<1:10:58,  4.21s/it]"
     ]
    },
    {
     "name": "stdout",
     "output_type": "stream",
     "text": [
      "Skipped file. Already present: eeg_recording_2014-07-31\n"
     ]
    },
    {
     "name": "stderr",
     "output_type": "stream",
     "text": [
      "  1%|▋                                                              | 12/1023 [00:53<1:12:31,  4.30s/it]"
     ]
    },
    {
     "name": "stdout",
     "output_type": "stream",
     "text": [
      "Skipped file. Already present: eeg_recording_2014-08-01\n"
     ]
    },
    {
     "name": "stderr",
     "output_type": "stream",
     "text": [
      "  1%|▊                                                              | 13/1023 [00:57<1:13:46,  4.38s/it]"
     ]
    },
    {
     "name": "stdout",
     "output_type": "stream",
     "text": [
      "Skipped file. Already present: eeg_recording_2014-08-02\n"
     ]
    },
    {
     "name": "stderr",
     "output_type": "stream",
     "text": [
      "  1%|▊                                                              | 14/1023 [01:02<1:14:41,  4.44s/it]"
     ]
    },
    {
     "name": "stdout",
     "output_type": "stream",
     "text": [
      "Skipped file. Already present: eeg_recording_2014-08-03\n"
     ]
    },
    {
     "name": "stderr",
     "output_type": "stream",
     "text": [
      "  1%|▉                                                              | 15/1023 [01:06<1:14:48,  4.45s/it]"
     ]
    },
    {
     "name": "stdout",
     "output_type": "stream",
     "text": [
      "Skipped file. Already present: eeg_recording_2014-08-04\n"
     ]
    },
    {
     "name": "stderr",
     "output_type": "stream",
     "text": [
      "  2%|▉                                                              | 16/1023 [01:11<1:16:00,  4.53s/it]"
     ]
    },
    {
     "name": "stdout",
     "output_type": "stream",
     "text": [
      "Skipped file. Already present: eeg_recording_2014-08-05\n"
     ]
    },
    {
     "name": "stderr",
     "output_type": "stream",
     "text": [
      "  2%|█                                                              | 17/1023 [01:15<1:12:43,  4.34s/it]"
     ]
    },
    {
     "name": "stdout",
     "output_type": "stream",
     "text": [
      "Skipped file. Already present: eeg_recording_2014-08-06\n"
     ]
    },
    {
     "name": "stderr",
     "output_type": "stream",
     "text": [
      "  2%|█                                                              | 18/1023 [01:18<1:08:36,  4.10s/it]"
     ]
    },
    {
     "name": "stdout",
     "output_type": "stream",
     "text": [
      "Skipped file. Already present: eeg_recording_2014-08-07\n"
     ]
    },
    {
     "name": "stderr",
     "output_type": "stream",
     "text": [
      "  2%|█▏                                                             | 19/1023 [01:21<1:03:11,  3.78s/it]"
     ]
    },
    {
     "name": "stdout",
     "output_type": "stream",
     "text": [
      "Skipped file. Already present: eeg_recording_2014-08-08\n"
     ]
    },
    {
     "name": "stderr",
     "output_type": "stream",
     "text": [
      "  2%|█▎                                                               | 20/1023 [01:24<56:19,  3.37s/it]"
     ]
    },
    {
     "name": "stdout",
     "output_type": "stream",
     "text": [
      "Skipped file. Already present: eeg_recording_2014-08-09\n"
     ]
    },
    {
     "name": "stderr",
     "output_type": "stream",
     "text": [
      "  2%|█▎                                                             | 21/1023 [01:28<1:02:56,  3.77s/it]"
     ]
    },
    {
     "name": "stdout",
     "output_type": "stream",
     "text": [
      "Skipped file. Already present: eeg_recording_2014-08-10\n"
     ]
    },
    {
     "name": "stderr",
     "output_type": "stream",
     "text": [
      "  2%|█▎                                                             | 22/1023 [01:33<1:07:40,  4.06s/it]"
     ]
    },
    {
     "name": "stdout",
     "output_type": "stream",
     "text": [
      "Skipped file. Already present: eeg_recording_2014-08-11\n"
     ]
    },
    {
     "name": "stderr",
     "output_type": "stream",
     "text": [
      "  2%|█▍                                                             | 23/1023 [01:38<1:12:38,  4.36s/it]"
     ]
    },
    {
     "name": "stdout",
     "output_type": "stream",
     "text": [
      "Skipped file. Already present: eeg_recording_2014-08-12\n"
     ]
    },
    {
     "name": "stderr",
     "output_type": "stream",
     "text": [
      "  2%|█▍                                                             | 24/1023 [01:43<1:16:43,  4.61s/it]"
     ]
    },
    {
     "name": "stdout",
     "output_type": "stream",
     "text": [
      "Skipped file. Already present: eeg_recording_2014-08-13\n"
     ]
    },
    {
     "name": "stderr",
     "output_type": "stream",
     "text": [
      "  2%|█▌                                                             | 25/1023 [01:49<1:19:19,  4.77s/it]"
     ]
    },
    {
     "name": "stdout",
     "output_type": "stream",
     "text": [
      "Skipped file. Already present: eeg_recording_2014-08-14\n"
     ]
    },
    {
     "name": "stderr",
     "output_type": "stream",
     "text": [
      "  3%|█▋                                                               | 26/1023 [01:49<57:55,  3.49s/it]"
     ]
    },
    {
     "name": "stdout",
     "output_type": "stream",
     "text": [
      "Skipped file. Already present: eeg_recording_2014-08-15\n",
      "[Errno 2] No such file or directory: '/home/jovyan/work/data/PPS_data_raw/EDF_yolo_2014-08-16.zip'\n",
      "[Errno 2] No such file or directory: '/home/jovyan/work/data/PPS_data_raw/EDF_yolo_2014-08-17.zip'\n"
     ]
    },
    {
     "name": "stderr",
     "output_type": "stream",
     "text": [
      "  3%|█▊                                                               | 29/1023 [01:51<31:16,  1.89s/it]"
     ]
    },
    {
     "name": "stdout",
     "output_type": "stream",
     "text": [
      "Skipped file. Already present: eeg_recording_2014-08-18\n"
     ]
    },
    {
     "name": "stderr",
     "output_type": "stream",
     "text": [
      "  3%|█▉                                                               | 30/1023 [01:56<41:53,  2.53s/it]"
     ]
    },
    {
     "name": "stdout",
     "output_type": "stream",
     "text": [
      "Skipped file. Already present: eeg_recording_2014-08-19\n"
     ]
    },
    {
     "name": "stderr",
     "output_type": "stream",
     "text": [
      "  3%|█▉                                                               | 31/1023 [02:00<49:04,  2.97s/it]"
     ]
    },
    {
     "name": "stdout",
     "output_type": "stream",
     "text": [
      "Skipped file. Already present: eeg_recording_2014-08-20\n"
     ]
    },
    {
     "name": "stderr",
     "output_type": "stream",
     "text": [
      "  3%|██                                                               | 32/1023 [02:05<57:45,  3.50s/it]"
     ]
    },
    {
     "name": "stdout",
     "output_type": "stream",
     "text": [
      "Skipped file. Already present: eeg_recording_2014-08-21\n"
     ]
    },
    {
     "name": "stderr",
     "output_type": "stream",
     "text": [
      "  3%|██                                                             | 33/1023 [02:10<1:04:25,  3.90s/it]"
     ]
    },
    {
     "name": "stdout",
     "output_type": "stream",
     "text": [
      "Skipped file. Already present: eeg_recording_2014-08-22\n"
     ]
    },
    {
     "name": "stderr",
     "output_type": "stream",
     "text": [
      "  3%|██                                                             | 34/1023 [02:15<1:07:34,  4.10s/it]"
     ]
    },
    {
     "name": "stdout",
     "output_type": "stream",
     "text": [
      "Skipped file. Already present: eeg_recording_2014-08-23\n"
     ]
    },
    {
     "name": "stderr",
     "output_type": "stream",
     "text": [
      "  3%|██▏                                                            | 35/1023 [02:19<1:08:09,  4.14s/it]"
     ]
    },
    {
     "name": "stdout",
     "output_type": "stream",
     "text": [
      "Skipped file. Already present: eeg_recording_2014-08-24\n"
     ]
    },
    {
     "name": "stderr",
     "output_type": "stream",
     "text": [
      "  4%|██▏                                                            | 36/1023 [02:24<1:08:25,  4.16s/it]"
     ]
    },
    {
     "name": "stdout",
     "output_type": "stream",
     "text": [
      "Skipped file. Already present: eeg_recording_2014-08-25\n"
     ]
    },
    {
     "name": "stderr",
     "output_type": "stream",
     "text": [
      "  4%|██▎                                                            | 37/1023 [02:28<1:09:13,  4.21s/it]"
     ]
    },
    {
     "name": "stdout",
     "output_type": "stream",
     "text": [
      "Skipped file. Already present: eeg_recording_2014-08-26\n"
     ]
    },
    {
     "name": "stderr",
     "output_type": "stream",
     "text": [
      "  4%|██▎                                                            | 38/1023 [02:31<1:06:16,  4.04s/it]"
     ]
    },
    {
     "name": "stdout",
     "output_type": "stream",
     "text": [
      "Skipped file. Already present: eeg_recording_2014-08-27\n"
     ]
    },
    {
     "name": "stderr",
     "output_type": "stream",
     "text": [
      "  4%|██▍                                                            | 39/1023 [02:35<1:03:26,  3.87s/it]"
     ]
    },
    {
     "name": "stdout",
     "output_type": "stream",
     "text": [
      "Skipped file. Already present: eeg_recording_2014-08-28\n"
     ]
    },
    {
     "name": "stderr",
     "output_type": "stream",
     "text": [
      "  4%|██▍                                                            | 40/1023 [02:38<1:00:51,  3.71s/it]"
     ]
    },
    {
     "name": "stdout",
     "output_type": "stream",
     "text": [
      "Skipped file. Already present: eeg_recording_2014-08-29\n"
     ]
    },
    {
     "name": "stderr",
     "output_type": "stream",
     "text": [
      "  4%|██▌                                                              | 41/1023 [02:41<57:01,  3.48s/it]"
     ]
    },
    {
     "name": "stdout",
     "output_type": "stream",
     "text": [
      "Skipped file. Already present: eeg_recording_2014-08-30\n"
     ]
    },
    {
     "name": "stderr",
     "output_type": "stream",
     "text": [
      "  4%|██▋                                                              | 42/1023 [02:44<51:10,  3.13s/it]"
     ]
    },
    {
     "name": "stdout",
     "output_type": "stream",
     "text": [
      "Skipped file. Already present: eeg_recording_2014-08-31\n"
     ]
    },
    {
     "name": "stderr",
     "output_type": "stream",
     "text": [
      "  4%|██▋                                                              | 43/1023 [02:46<48:26,  2.97s/it]"
     ]
    },
    {
     "name": "stdout",
     "output_type": "stream",
     "text": [
      "Skipped file. Already present: eeg_recording_2014-09-01\n"
     ]
    },
    {
     "name": "stderr",
     "output_type": "stream",
     "text": [
      "  4%|██▊                                                              | 44/1023 [02:48<41:38,  2.55s/it]"
     ]
    },
    {
     "name": "stdout",
     "output_type": "stream",
     "text": [
      "Skipped file. Already present: eeg_recording_2014-09-02\n",
      "Skipped file. Already present: eeg_recording_2014-09-02\n"
     ]
    },
    {
     "name": "stderr",
     "output_type": "stream",
     "text": [
      "  4%|██▊                                                              | 45/1023 [02:50<41:43,  2.56s/it]"
     ]
    },
    {
     "name": "stdout",
     "output_type": "stream",
     "text": [
      "Skipped file. Already present: eeg_recording_2014-09-03\n",
      "Skipped file. Already present: eeg_recording_2014-09-03\n"
     ]
    },
    {
     "name": "stderr",
     "output_type": "stream",
     "text": [
      "  4%|██▉                                                              | 46/1023 [02:54<48:09,  2.96s/it]"
     ]
    },
    {
     "name": "stdout",
     "output_type": "stream",
     "text": [
      "Skipped file. Already present: eeg_recording_2014-09-04\n",
      "[Errno 2] No such file or directory: '/home/jovyan/work/data/PPS_data_raw/EDF_yolo_2014-09-05.zip'\n",
      "[Errno 2] No such file or directory: '/home/jovyan/work/data/PPS_data_raw/EDF_yolo_2014-09-06.zip'\n",
      "[Errno 2] No such file or directory: '/home/jovyan/work/data/PPS_data_raw/EDF_yolo_2014-09-07.zip'\n"
     ]
    },
    {
     "name": "stderr",
     "output_type": "stream",
     "text": [
      "  5%|███▏                                                             | 50/1023 [02:57<24:50,  1.53s/it]"
     ]
    },
    {
     "name": "stdout",
     "output_type": "stream",
     "text": [
      "Skipped file. Already present: eeg_recording_2014-09-08\n"
     ]
    },
    {
     "name": "stderr",
     "output_type": "stream",
     "text": [
      "  5%|███▏                                                             | 51/1023 [03:02<34:12,  2.11s/it]"
     ]
    },
    {
     "name": "stdout",
     "output_type": "stream",
     "text": [
      "Skipped file. Already present: eeg_recording_2014-09-09\n",
      "Skipped file. Already present: eeg_recording_2014-09-09\n"
     ]
    },
    {
     "name": "stderr",
     "output_type": "stream",
     "text": [
      "  5%|███▎                                                             | 52/1023 [03:06<42:33,  2.63s/it]"
     ]
    },
    {
     "name": "stdout",
     "output_type": "stream",
     "text": [
      "Skipped file. Already present: eeg_recording_2014-09-10\n"
     ]
    },
    {
     "name": "stderr",
     "output_type": "stream",
     "text": [
      "  5%|███▎                                                             | 53/1023 [03:11<50:25,  3.12s/it]"
     ]
    },
    {
     "name": "stdout",
     "output_type": "stream",
     "text": [
      "Skipped file. Already present: eeg_recording_2014-09-11\n"
     ]
    },
    {
     "name": "stderr",
     "output_type": "stream",
     "text": [
      "  5%|███▍                                                             | 54/1023 [03:16<56:49,  3.52s/it]"
     ]
    },
    {
     "name": "stdout",
     "output_type": "stream",
     "text": [
      "Skipped file. Already present: eeg_recording_2014-09-12\n",
      "Skipped file. Already present: eeg_recording_2014-09-12\n"
     ]
    },
    {
     "name": "stderr",
     "output_type": "stream",
     "text": [
      "  5%|███▍                                                           | 55/1023 [03:21<1:02:06,  3.85s/it]"
     ]
    },
    {
     "name": "stdout",
     "output_type": "stream",
     "text": [
      "Skipped file. Already present: eeg_recording_2014-09-13\n",
      "Skipped file. Already present: eeg_recording_2014-09-13\n"
     ]
    },
    {
     "name": "stderr",
     "output_type": "stream",
     "text": [
      "  5%|███▍                                                           | 56/1023 [03:25<1:06:29,  4.13s/it]"
     ]
    },
    {
     "name": "stdout",
     "output_type": "stream",
     "text": [
      "Skipped file. Already present: eeg_recording_2014-09-14\n",
      "Skipped file. Already present: eeg_recording_2014-09-14\n"
     ]
    },
    {
     "name": "stderr",
     "output_type": "stream",
     "text": [
      "  6%|███▌                                                             | 57/1023 [03:28<58:49,  3.65s/it]"
     ]
    },
    {
     "name": "stdout",
     "output_type": "stream",
     "text": [
      "Skipped file. Already present: eeg_recording_2014-09-15\n",
      "Skipped file. Already present: eeg_recording_2014-09-15\n"
     ]
    },
    {
     "name": "stderr",
     "output_type": "stream",
     "text": [
      "  6%|███▋                                                             | 58/1023 [03:30<53:53,  3.35s/it]"
     ]
    },
    {
     "name": "stdout",
     "output_type": "stream",
     "text": [
      "Skipped file. Already present: eeg_recording_2014-09-16\n",
      "Skipped file. Already present: eeg_recording_2014-09-16\n"
     ]
    },
    {
     "name": "stderr",
     "output_type": "stream",
     "text": [
      "  6%|███▋                                                           | 59/1023 [03:35<1:01:06,  3.80s/it]"
     ]
    },
    {
     "name": "stdout",
     "output_type": "stream",
     "text": [
      "Skipped file. Already present: eeg_recording_2014-09-17\n",
      "Skipped file. Already present: eeg_recording_2014-09-17\n"
     ]
    },
    {
     "name": "stderr",
     "output_type": "stream",
     "text": [
      "  6%|███▋                                                           | 60/1023 [03:39<1:02:05,  3.87s/it]"
     ]
    },
    {
     "name": "stdout",
     "output_type": "stream",
     "text": [
      "Skipped file. Already present: eeg_recording_2014-09-18\n",
      "Skipped file. Already present: eeg_recording_2014-09-18\n"
     ]
    },
    {
     "name": "stderr",
     "output_type": "stream",
     "text": [
      "  6%|███▊                                                           | 61/1023 [03:43<1:00:25,  3.77s/it]"
     ]
    },
    {
     "name": "stdout",
     "output_type": "stream",
     "text": [
      "Skipped file. Already present: eeg_recording_2014-09-19\n",
      "Skipped file. Already present: eeg_recording_2014-09-19\n"
     ]
    },
    {
     "name": "stderr",
     "output_type": "stream",
     "text": [
      "  6%|███▉                                                             | 62/1023 [03:46<58:04,  3.63s/it]"
     ]
    },
    {
     "name": "stdout",
     "output_type": "stream",
     "text": [
      "Skipped file. Already present: eeg_recording_2014-09-20\n",
      "Skipped file. Already present: eeg_recording_2014-09-20\n"
     ]
    },
    {
     "name": "stderr",
     "output_type": "stream",
     "text": [
      "  6%|████                                                             | 63/1023 [03:49<56:13,  3.51s/it]"
     ]
    },
    {
     "name": "stdout",
     "output_type": "stream",
     "text": [
      "Skipped file. Already present: eeg_recording_2014-09-21\n",
      "Skipped file. Already present: eeg_recording_2014-09-21\n"
     ]
    },
    {
     "name": "stderr",
     "output_type": "stream",
     "text": [
      "  6%|████                                                             | 64/1023 [03:53<56:16,  3.52s/it]"
     ]
    },
    {
     "name": "stdout",
     "output_type": "stream",
     "text": [
      "Skipped file. Already present: eeg_recording_2014-09-22\n",
      "Skipped file. Already present: eeg_recording_2014-09-22\n",
      "Skipped file. Already present: eeg_recording_2014-09-22\n",
      "Skipped file. Already present: eeg_recording_2014-09-22\n"
     ]
    },
    {
     "name": "stderr",
     "output_type": "stream",
     "text": [
      "  6%|████▏                                                            | 65/1023 [03:57<58:41,  3.68s/it]"
     ]
    },
    {
     "name": "stdout",
     "output_type": "stream",
     "text": [
      "Skipped file. Already present: eeg_recording_2014-09-23\n",
      "Skipped file. Already present: eeg_recording_2014-09-23\n",
      "Skipped file. Already present: eeg_recording_2014-09-23\n"
     ]
    },
    {
     "name": "stderr",
     "output_type": "stream",
     "text": [
      "  6%|████                                                           | 66/1023 [04:01<1:00:19,  3.78s/it]"
     ]
    },
    {
     "name": "stdout",
     "output_type": "stream",
     "text": [
      "Skipped file. Already present: eeg_recording_2014-09-24\n",
      "Skipped file. Already present: eeg_recording_2014-09-24\n",
      "Skipped file. Already present: eeg_recording_2014-09-24\n",
      "Skipped file. Already present: eeg_recording_2014-09-24\n"
     ]
    },
    {
     "name": "stderr",
     "output_type": "stream",
     "text": [
      "  7%|████▏                                                          | 67/1023 [04:05<1:01:15,  3.84s/it]"
     ]
    },
    {
     "name": "stdout",
     "output_type": "stream",
     "text": [
      "Skipped file. Already present: eeg_recording_2014-09-25\n",
      "Skipped file. Already present: eeg_recording_2014-09-25\n",
      "Skipped file. Already present: eeg_recording_2014-09-25\n",
      "Skipped file. Already present: eeg_recording_2014-09-25\n"
     ]
    },
    {
     "name": "stderr",
     "output_type": "stream",
     "text": [
      "  7%|████▏                                                          | 68/1023 [04:09<1:01:16,  3.85s/it]"
     ]
    },
    {
     "name": "stdout",
     "output_type": "stream",
     "text": [
      "Skipped file. Already present: eeg_recording_2014-09-26\n",
      "Skipped file. Already present: eeg_recording_2014-09-26\n",
      "Skipped file. Already present: eeg_recording_2014-09-26\n",
      "Skipped file. Already present: eeg_recording_2014-09-26\n"
     ]
    },
    {
     "name": "stderr",
     "output_type": "stream",
     "text": [
      "  7%|████▏                                                          | 69/1023 [04:13<1:01:31,  3.87s/it]"
     ]
    },
    {
     "name": "stdout",
     "output_type": "stream",
     "text": [
      "Skipped file. Already present: eeg_recording_2014-09-27\n",
      "Skipped file. Already present: eeg_recording_2014-09-27\n",
      "Skipped file. Already present: eeg_recording_2014-09-27\n",
      "Skipped file. Already present: eeg_recording_2014-09-27\n"
     ]
    },
    {
     "name": "stderr",
     "output_type": "stream",
     "text": [
      "  7%|████▍                                                            | 70/1023 [04:16<59:29,  3.75s/it]"
     ]
    },
    {
     "name": "stdout",
     "output_type": "stream",
     "text": [
      "Skipped file. Already present: eeg_recording_2014-09-28\n",
      "Skipped file. Already present: eeg_recording_2014-09-28\n",
      "Skipped file. Already present: eeg_recording_2014-09-28\n"
     ]
    },
    {
     "name": "stderr",
     "output_type": "stream",
     "text": [
      "  7%|████▌                                                            | 71/1023 [04:20<58:07,  3.66s/it]"
     ]
    },
    {
     "name": "stdout",
     "output_type": "stream",
     "text": [
      "Skipped file. Already present: eeg_recording_2014-09-29\n",
      "Skipped file. Already present: eeg_recording_2014-09-29\n",
      "Skipped file. Already present: eeg_recording_2014-09-29\n"
     ]
    },
    {
     "name": "stderr",
     "output_type": "stream",
     "text": [
      "  7%|████▌                                                            | 72/1023 [04:23<57:15,  3.61s/it]"
     ]
    },
    {
     "name": "stdout",
     "output_type": "stream",
     "text": [
      "Skipped file. Already present: eeg_recording_2014-09-30\n",
      "Skipped file. Already present: eeg_recording_2014-09-30\n",
      "Skipped file. Already present: eeg_recording_2014-09-30\n"
     ]
    },
    {
     "name": "stderr",
     "output_type": "stream",
     "text": [
      "  7%|████▋                                                            | 73/1023 [04:26<55:03,  3.48s/it]"
     ]
    },
    {
     "name": "stdout",
     "output_type": "stream",
     "text": [
      "OS error: /tmp/tmp5hofwlz8/EDF_yolo_2014-10-01.edf: can not open file, no such file or directory\n",
      "EDF_yolo_2014-10-01.edf not found\n"
     ]
    },
    {
     "name": "stderr",
     "output_type": "stream",
     "text": [
      "  7%|████▋                                                            | 74/1023 [04:30<55:07,  3.49s/it]"
     ]
    },
    {
     "name": "stdout",
     "output_type": "stream",
     "text": [
      "Skipped file. Already present: eeg_recording_2014-10-02\n",
      "Skipped file. Already present: eeg_recording_2014-10-02\n",
      "Skipped file. Already present: eeg_recording_2014-10-02\n",
      "Skipped file. Already present: eeg_recording_2014-10-02\n"
     ]
    },
    {
     "name": "stderr",
     "output_type": "stream",
     "text": [
      "  7%|████▊                                                            | 75/1023 [04:33<55:18,  3.50s/it]"
     ]
    },
    {
     "name": "stdout",
     "output_type": "stream",
     "text": [
      "Skipped file. Already present: eeg_recording_2014-10-04\n",
      "Skipped file. Already present: eeg_recording_2014-10-04\n",
      "Skipped file. Already present: eeg_recording_2014-10-04\n",
      "Skipped file. Already present: eeg_recording_2014-10-04\n"
     ]
    },
    {
     "name": "stderr",
     "output_type": "stream",
     "text": [
      "  7%|████▊                                                            | 76/1023 [04:37<55:13,  3.50s/it]"
     ]
    },
    {
     "name": "stdout",
     "output_type": "stream",
     "text": [
      "Skipped file. Already present: eeg_recording_2014-10-05\n",
      "Skipped file. Already present: eeg_recording_2014-10-05\n",
      "Skipped file. Already present: eeg_recording_2014-10-05\n",
      "Skipped file. Already present: eeg_recording_2014-10-05\n"
     ]
    },
    {
     "name": "stderr",
     "output_type": "stream",
     "text": [
      "  8%|████▉                                                            | 77/1023 [04:40<55:13,  3.50s/it]"
     ]
    },
    {
     "name": "stdout",
     "output_type": "stream",
     "text": [
      "Skipped file. Already present: eeg_recording_2014-10-06\n",
      "Skipped file. Already present: eeg_recording_2014-10-06\n",
      "Skipped file. Already present: eeg_recording_2014-10-06\n",
      "Skipped file. Already present: eeg_recording_2014-10-06\n"
     ]
    },
    {
     "name": "stderr",
     "output_type": "stream",
     "text": [
      "  8%|████▉                                                            | 78/1023 [04:44<55:09,  3.50s/it]"
     ]
    },
    {
     "name": "stdout",
     "output_type": "stream",
     "text": [
      "Skipped file. Already present: eeg_recording_2014-10-07\n",
      "Skipped file. Already present: eeg_recording_2014-10-07\n",
      "Skipped file. Already present: eeg_recording_2014-10-07\n",
      "Skipped file. Already present: eeg_recording_2014-10-07\n"
     ]
    },
    {
     "name": "stderr",
     "output_type": "stream",
     "text": [
      "  8%|█████                                                            | 79/1023 [04:48<56:17,  3.58s/it]"
     ]
    },
    {
     "name": "stdout",
     "output_type": "stream",
     "text": [
      "Skipped file. Already present: eeg_recording_2014-10-08\n",
      "Skipped file. Already present: eeg_recording_2014-10-08\n",
      "Skipped file. Already present: eeg_recording_2014-10-08\n",
      "Skipped file. Already present: eeg_recording_2014-10-08\n"
     ]
    },
    {
     "name": "stderr",
     "output_type": "stream",
     "text": [
      "  8%|█████                                                            | 80/1023 [04:52<59:53,  3.81s/it]"
     ]
    },
    {
     "name": "stdout",
     "output_type": "stream",
     "text": [
      "Skipped file. Already present: eeg_recording_2014-10-09\n",
      "Skipped file. Already present: eeg_recording_2014-10-09\n",
      "Skipped file. Already present: eeg_recording_2014-10-09\n",
      "Skipped file. Already present: eeg_recording_2014-10-09\n"
     ]
    },
    {
     "name": "stderr",
     "output_type": "stream",
     "text": [
      "  8%|████▉                                                          | 81/1023 [04:56<1:02:08,  3.96s/it]"
     ]
    },
    {
     "name": "stdout",
     "output_type": "stream",
     "text": [
      "Skipped file. Already present: eeg_recording_2014-10-10\n",
      "Skipped file. Already present: eeg_recording_2014-10-10\n",
      "Skipped file. Already present: eeg_recording_2014-10-10\n",
      "Skipped file. Already present: eeg_recording_2014-10-10\n"
     ]
    },
    {
     "name": "stderr",
     "output_type": "stream",
     "text": [
      "  8%|█████                                                          | 82/1023 [05:01<1:03:32,  4.05s/it]"
     ]
    },
    {
     "name": "stdout",
     "output_type": "stream",
     "text": [
      "Skipped file. Already present: eeg_recording_2014-10-11\n",
      "Skipped file. Already present: eeg_recording_2014-10-11\n",
      "Skipped file. Already present: eeg_recording_2014-10-11\n",
      "Skipped file. Already present: eeg_recording_2014-10-11\n"
     ]
    },
    {
     "name": "stderr",
     "output_type": "stream",
     "text": [
      "  8%|█████                                                          | 83/1023 [05:05<1:04:34,  4.12s/it]"
     ]
    },
    {
     "name": "stdout",
     "output_type": "stream",
     "text": [
      "Skipped file. Already present: eeg_recording_2014-10-12\n",
      "Skipped file. Already present: eeg_recording_2014-10-12\n",
      "Skipped file. Already present: eeg_recording_2014-10-12\n",
      "Skipped file. Already present: eeg_recording_2014-10-12\n"
     ]
    },
    {
     "name": "stderr",
     "output_type": "stream",
     "text": [
      "  8%|█████▏                                                         | 84/1023 [05:08<1:01:12,  3.91s/it]"
     ]
    },
    {
     "name": "stdout",
     "output_type": "stream",
     "text": [
      "Skipped file. Already present: eeg_recording_2014-10-13\n"
     ]
    },
    {
     "name": "stderr",
     "output_type": "stream",
     "text": [
      "  8%|█████▍                                                           | 85/1023 [05:10<51:09,  3.27s/it]"
     ]
    },
    {
     "name": "stdout",
     "output_type": "stream",
     "text": [
      "Skipped file. Already present: eeg_recording_2014-10-14\n"
     ]
    },
    {
     "name": "stderr",
     "output_type": "stream",
     "text": [
      "  8%|█████▍                                                           | 86/1023 [05:15<56:59,  3.65s/it]"
     ]
    },
    {
     "name": "stdout",
     "output_type": "stream",
     "text": [
      "Skipped file. Already present: eeg_recording_2014-10-15\n",
      "Skipped file. Already present: eeg_recording_2014-10-15\n",
      "Skipped file. Already present: eeg_recording_2014-10-15\n",
      "Skipped file. Already present: eeg_recording_2014-10-15\n"
     ]
    },
    {
     "name": "stderr",
     "output_type": "stream",
     "text": [
      "  9%|█████▎                                                         | 87/1023 [05:19<1:01:44,  3.96s/it]"
     ]
    },
    {
     "name": "stdout",
     "output_type": "stream",
     "text": [
      "Skipped file. Already present: eeg_recording_2014-10-16\n",
      "Skipped file. Already present: eeg_recording_2014-10-16\n",
      "Skipped file. Already present: eeg_recording_2014-10-16\n",
      "Skipped file. Already present: eeg_recording_2014-10-16\n",
      "Skipped file. Already present: eeg_recording_2014-10-16\n",
      "Skipped file. Already present: eeg_recording_2014-10-16\n"
     ]
    },
    {
     "name": "stderr",
     "output_type": "stream",
     "text": [
      "  9%|█████▍                                                         | 88/1023 [05:24<1:03:55,  4.10s/it]"
     ]
    },
    {
     "name": "stdout",
     "output_type": "stream",
     "text": [
      "Skipped file. Already present: eeg_recording_2014-10-17\n",
      "Skipped file. Already present: eeg_recording_2014-10-17\n",
      "Skipped file. Already present: eeg_recording_2014-10-17\n",
      "Skipped file. Already present: eeg_recording_2014-10-17\n",
      "Skipped file. Already present: eeg_recording_2014-10-17\n",
      "Skipped file. Already present: eeg_recording_2014-10-17\n"
     ]
    },
    {
     "name": "stderr",
     "output_type": "stream",
     "text": [
      "  9%|█████▍                                                         | 89/1023 [05:28<1:04:38,  4.15s/it]"
     ]
    },
    {
     "name": "stdout",
     "output_type": "stream",
     "text": [
      "Skipped file. Already present: eeg_recording_2014-10-18\n",
      "Skipped file. Already present: eeg_recording_2014-10-18\n",
      "Skipped file. Already present: eeg_recording_2014-10-18\n",
      "Skipped file. Already present: eeg_recording_2014-10-18\n",
      "Skipped file. Already present: eeg_recording_2014-10-18\n",
      "Skipped file. Already present: eeg_recording_2014-10-18\n"
     ]
    },
    {
     "name": "stderr",
     "output_type": "stream",
     "text": [
      "  9%|█████▌                                                         | 90/1023 [05:32<1:05:27,  4.21s/it]"
     ]
    },
    {
     "name": "stdout",
     "output_type": "stream",
     "text": [
      "Skipped file. Already present: eeg_recording_2014-10-19\n",
      "Skipped file. Already present: eeg_recording_2014-10-19\n",
      "Skipped file. Already present: eeg_recording_2014-10-19\n",
      "Skipped file. Already present: eeg_recording_2014-10-19\n",
      "Skipped file. Already present: eeg_recording_2014-10-19\n",
      "Skipped file. Already present: eeg_recording_2014-10-19\n"
     ]
    },
    {
     "name": "stderr",
     "output_type": "stream",
     "text": [
      "  9%|█████▌                                                         | 91/1023 [05:37<1:05:48,  4.24s/it]"
     ]
    },
    {
     "name": "stdout",
     "output_type": "stream",
     "text": [
      "Skipped file. Already present: eeg_recording_2014-10-20\n",
      "Skipped file. Already present: eeg_recording_2014-10-20\n",
      "Skipped file. Already present: eeg_recording_2014-10-20\n",
      "Skipped file. Already present: eeg_recording_2014-10-20\n",
      "Skipped file. Already present: eeg_recording_2014-10-20\n",
      "Skipped file. Already present: eeg_recording_2014-10-20\n"
     ]
    },
    {
     "name": "stderr",
     "output_type": "stream",
     "text": [
      "  9%|█████▋                                                         | 92/1023 [05:41<1:08:02,  4.39s/it]"
     ]
    },
    {
     "name": "stdout",
     "output_type": "stream",
     "text": [
      "Skipped file. Already present: eeg_recording_2014-10-21\n",
      "Skipped file. Already present: eeg_recording_2014-10-21\n",
      "Skipped file. Already present: eeg_recording_2014-10-21\n",
      "Skipped file. Already present: eeg_recording_2014-10-21\n",
      "Skipped file. Already present: eeg_recording_2014-10-21\n",
      "Skipped file. Already present: eeg_recording_2014-10-21\n"
     ]
    },
    {
     "name": "stderr",
     "output_type": "stream",
     "text": [
      "  9%|█████▋                                                         | 93/1023 [05:46<1:08:56,  4.45s/it]"
     ]
    },
    {
     "name": "stdout",
     "output_type": "stream",
     "text": [
      "Skipped file. Already present: eeg_recording_2014-10-22\n",
      "Skipped file. Already present: eeg_recording_2014-10-22\n",
      "Skipped file. Already present: eeg_recording_2014-10-22\n",
      "Skipped file. Already present: eeg_recording_2014-10-22\n",
      "Skipped file. Already present: eeg_recording_2014-10-22\n",
      "Skipped file. Already present: eeg_recording_2014-10-22\n"
     ]
    },
    {
     "name": "stderr",
     "output_type": "stream",
     "text": [
      "  9%|█████▊                                                         | 94/1023 [05:51<1:10:10,  4.53s/it]"
     ]
    },
    {
     "name": "stdout",
     "output_type": "stream",
     "text": [
      "Skipped file. Already present: eeg_recording_2014-10-23\n",
      "Skipped file. Already present: eeg_recording_2014-10-23\n",
      "Skipped file. Already present: eeg_recording_2014-10-23\n",
      "Skipped file. Already present: eeg_recording_2014-10-23\n",
      "Skipped file. Already present: eeg_recording_2014-10-23\n",
      "Skipped file. Already present: eeg_recording_2014-10-23\n"
     ]
    },
    {
     "name": "stderr",
     "output_type": "stream",
     "text": [
      "  9%|█████▊                                                         | 95/1023 [05:55<1:10:18,  4.55s/it]"
     ]
    },
    {
     "name": "stdout",
     "output_type": "stream",
     "text": [
      "Skipped file. Already present: eeg_recording_2014-10-24\n",
      "Skipped file. Already present: eeg_recording_2014-10-24\n",
      "Skipped file. Already present: eeg_recording_2014-10-24\n",
      "Skipped file. Already present: eeg_recording_2014-10-24\n",
      "Skipped file. Already present: eeg_recording_2014-10-24\n"
     ]
    },
    {
     "name": "stderr",
     "output_type": "stream",
     "text": [
      "  9%|█████▉                                                         | 96/1023 [06:00<1:10:45,  4.58s/it]"
     ]
    },
    {
     "name": "stdout",
     "output_type": "stream",
     "text": [
      "Skipped file. Already present: eeg_recording_2014-10-25\n",
      "Skipped file. Already present: eeg_recording_2014-10-25\n",
      "Skipped file. Already present: eeg_recording_2014-10-25\n",
      "Skipped file. Already present: eeg_recording_2014-10-25\n",
      "Skipped file. Already present: eeg_recording_2014-10-25\n"
     ]
    },
    {
     "name": "stderr",
     "output_type": "stream",
     "text": [
      "  9%|█████▉                                                         | 97/1023 [06:05<1:11:43,  4.65s/it]"
     ]
    },
    {
     "name": "stdout",
     "output_type": "stream",
     "text": [
      "Skipped file. Already present: eeg_recording_2014-10-26\n",
      "Skipped file. Already present: eeg_recording_2014-10-26\n",
      "Skipped file. Already present: eeg_recording_2014-10-26\n",
      "Skipped file. Already present: eeg_recording_2014-10-26\n",
      "Skipped file. Already present: eeg_recording_2014-10-26\n"
     ]
    },
    {
     "name": "stderr",
     "output_type": "stream",
     "text": [
      " 10%|██████                                                         | 98/1023 [06:09<1:11:48,  4.66s/it]"
     ]
    },
    {
     "name": "stdout",
     "output_type": "stream",
     "text": [
      "Skipped file. Already present: eeg_recording_2014-10-27\n",
      "Skipped file. Already present: eeg_recording_2014-10-27\n",
      "Skipped file. Already present: eeg_recording_2014-10-27\n",
      "Skipped file. Already present: eeg_recording_2014-10-27\n",
      "Skipped file. Already present: eeg_recording_2014-10-27\n"
     ]
    },
    {
     "name": "stderr",
     "output_type": "stream",
     "text": [
      " 10%|██████                                                         | 99/1023 [06:14<1:09:30,  4.51s/it]"
     ]
    },
    {
     "name": "stdout",
     "output_type": "stream",
     "text": [
      "Skipped file. Already present: eeg_recording_2014-10-28\n",
      "Skipped file. Already present: eeg_recording_2014-10-28\n",
      "Skipped file. Already present: eeg_recording_2014-10-28\n",
      "Skipped file. Already present: eeg_recording_2014-10-28\n",
      "Skipped file. Already present: eeg_recording_2014-10-28\n"
     ]
    },
    {
     "name": "stderr",
     "output_type": "stream",
     "text": [
      " 10%|██████                                                        | 100/1023 [06:18<1:07:20,  4.38s/it]"
     ]
    },
    {
     "name": "stdout",
     "output_type": "stream",
     "text": [
      "Skipped file. Already present: eeg_recording_2014-10-29\n",
      "Skipped file. Already present: eeg_recording_2014-10-29\n",
      "Skipped file. Already present: eeg_recording_2014-10-29\n",
      "Skipped file. Already present: eeg_recording_2014-10-29\n"
     ]
    },
    {
     "name": "stderr",
     "output_type": "stream",
     "text": [
      " 10%|██████                                                        | 101/1023 [06:22<1:05:10,  4.24s/it]"
     ]
    },
    {
     "name": "stdout",
     "output_type": "stream",
     "text": [
      "Skipped file. Already present: eeg_recording_2014-10-30\n",
      "Skipped file. Already present: eeg_recording_2014-10-30\n",
      "Skipped file. Already present: eeg_recording_2014-10-30\n",
      "Skipped file. Already present: eeg_recording_2014-10-30\n",
      "Skipped file. Already present: eeg_recording_2014-10-30\n"
     ]
    },
    {
     "name": "stderr",
     "output_type": "stream",
     "text": [
      " 10%|██████▍                                                         | 102/1023 [06:24<58:38,  3.82s/it]"
     ]
    },
    {
     "name": "stdout",
     "output_type": "stream",
     "text": [
      "Skipped file. Already present: eeg_recording_2014-10-31\n",
      "Skipped file. Already present: eeg_recording_2014-10-31\n",
      "Skipped file. Already present: eeg_recording_2014-10-31\n",
      "Skipped file. Already present: eeg_recording_2014-10-31\n",
      "Skipped file. Already present: eeg_recording_2014-10-31\n"
     ]
    },
    {
     "name": "stderr",
     "output_type": "stream",
     "text": [
      " 10%|██████▍                                                         | 103/1023 [06:26<50:03,  3.27s/it]"
     ]
    },
    {
     "name": "stdout",
     "output_type": "stream",
     "text": [
      "Skipped file. Already present: eeg_recording_2014-11-01\n",
      "Skipped file. Already present: eeg_recording_2014-11-01\n",
      "Skipped file. Already present: eeg_recording_2014-11-01\n",
      "Skipped file. Already present: eeg_recording_2014-11-01\n"
     ]
    },
    {
     "name": "stderr",
     "output_type": "stream",
     "text": [
      " 10%|██████▌                                                         | 104/1023 [06:30<51:00,  3.33s/it]"
     ]
    },
    {
     "name": "stdout",
     "output_type": "stream",
     "text": [
      "Skipped file. Already present: eeg_recording_2014-11-02\n",
      "Skipped file. Already present: eeg_recording_2014-11-02\n",
      "Skipped file. Already present: eeg_recording_2014-11-02\n",
      "Skipped file. Already present: eeg_recording_2014-11-02\n"
     ]
    },
    {
     "name": "stderr",
     "output_type": "stream",
     "text": [
      " 10%|██████▌                                                         | 105/1023 [06:33<50:14,  3.28s/it]"
     ]
    },
    {
     "name": "stdout",
     "output_type": "stream",
     "text": [
      "Skipped file. Already present: eeg_recording_2014-11-03\n",
      "Skipped file. Already present: eeg_recording_2014-11-03\n",
      "Skipped file. Already present: eeg_recording_2014-11-03\n"
     ]
    },
    {
     "name": "stderr",
     "output_type": "stream",
     "text": [
      " 10%|██████▋                                                         | 106/1023 [06:36<47:26,  3.10s/it]"
     ]
    },
    {
     "name": "stdout",
     "output_type": "stream",
     "text": [
      "Skipped file. Already present: eeg_recording_2014-11-04\n",
      "Skipped file. Already present: eeg_recording_2014-11-04\n"
     ]
    },
    {
     "name": "stderr",
     "output_type": "stream",
     "text": [
      " 10%|██████▋                                                         | 107/1023 [06:38<45:36,  2.99s/it]"
     ]
    },
    {
     "name": "stdout",
     "output_type": "stream",
     "text": [
      "Skipped file. Already present: eeg_recording_2014-11-05\n",
      "Skipped file. Already present: eeg_recording_2014-11-05\n"
     ]
    },
    {
     "name": "stderr",
     "output_type": "stream",
     "text": [
      " 11%|██████▊                                                         | 108/1023 [06:41<44:15,  2.90s/it]"
     ]
    },
    {
     "name": "stdout",
     "output_type": "stream",
     "text": [
      "Skipped file. Already present: eeg_recording_2014-11-06\n",
      "Skipped file. Already present: eeg_recording_2014-11-06\n"
     ]
    },
    {
     "name": "stderr",
     "output_type": "stream",
     "text": [
      " 11%|██████▊                                                         | 109/1023 [06:44<43:16,  2.84s/it]"
     ]
    },
    {
     "name": "stdout",
     "output_type": "stream",
     "text": [
      "Skipped file. Already present: eeg_recording_2014-11-07\n",
      "Skipped file. Already present: eeg_recording_2014-11-07\n"
     ]
    },
    {
     "name": "stderr",
     "output_type": "stream",
     "text": [
      " 11%|██████▉                                                         | 110/1023 [06:47<42:36,  2.80s/it]"
     ]
    },
    {
     "name": "stdout",
     "output_type": "stream",
     "text": [
      "Skipped file. Already present: eeg_recording_2014-11-08\n",
      "Skipped file. Already present: eeg_recording_2014-11-08\n"
     ]
    },
    {
     "name": "stderr",
     "output_type": "stream",
     "text": [
      " 11%|██████▉                                                         | 111/1023 [06:49<42:10,  2.77s/it]"
     ]
    },
    {
     "name": "stdout",
     "output_type": "stream",
     "text": [
      "Skipped file. Already present: eeg_recording_2014-11-09\n",
      "Skipped file. Already present: eeg_recording_2014-11-09\n"
     ]
    },
    {
     "name": "stderr",
     "output_type": "stream",
     "text": [
      " 11%|███████                                                         | 112/1023 [06:52<41:42,  2.75s/it]"
     ]
    },
    {
     "name": "stdout",
     "output_type": "stream",
     "text": [
      "Skipped file. Already present: eeg_recording_2014-11-10\n",
      "Skipped file. Already present: eeg_recording_2014-11-10\n"
     ]
    },
    {
     "name": "stderr",
     "output_type": "stream",
     "text": [
      " 11%|███████                                                         | 113/1023 [06:55<41:34,  2.74s/it]"
     ]
    },
    {
     "name": "stdout",
     "output_type": "stream",
     "text": [
      "Skipped file. Already present: eeg_recording_2014-11-11\n",
      "Skipped file. Already present: eeg_recording_2014-11-11\n"
     ]
    },
    {
     "name": "stderr",
     "output_type": "stream",
     "text": [
      " 11%|███████▏                                                        | 114/1023 [06:57<41:23,  2.73s/it]"
     ]
    },
    {
     "name": "stdout",
     "output_type": "stream",
     "text": [
      "Skipped file. Already present: eeg_recording_2014-11-12\n",
      "Skipped file. Already present: eeg_recording_2014-11-12\n"
     ]
    },
    {
     "name": "stderr",
     "output_type": "stream",
     "text": [
      " 11%|███████▏                                                        | 115/1023 [07:00<41:06,  2.72s/it]"
     ]
    },
    {
     "name": "stdout",
     "output_type": "stream",
     "text": [
      "Skipped file. Already present: eeg_recording_2014-11-13\n",
      "Skipped file. Already present: eeg_recording_2014-11-13\n"
     ]
    },
    {
     "name": "stderr",
     "output_type": "stream",
     "text": [
      " 11%|███████▎                                                        | 116/1023 [07:03<41:13,  2.73s/it]"
     ]
    },
    {
     "name": "stdout",
     "output_type": "stream",
     "text": [
      "Skipped file. Already present: eeg_recording_2014-11-14\n",
      "Skipped file. Already present: eeg_recording_2014-11-14\n"
     ]
    },
    {
     "name": "stderr",
     "output_type": "stream",
     "text": [
      " 11%|███████▎                                                        | 117/1023 [07:06<41:08,  2.72s/it]"
     ]
    },
    {
     "name": "stdout",
     "output_type": "stream",
     "text": [
      "Skipped file. Already present: eeg_recording_2014-11-15\n",
      "Skipped file. Already present: eeg_recording_2014-11-15\n"
     ]
    },
    {
     "name": "stderr",
     "output_type": "stream",
     "text": [
      " 12%|███████▍                                                        | 118/1023 [07:08<41:02,  2.72s/it]"
     ]
    },
    {
     "name": "stdout",
     "output_type": "stream",
     "text": [
      "Skipped file. Already present: eeg_recording_2014-11-16\n",
      "Skipped file. Already present: eeg_recording_2014-11-16\n"
     ]
    },
    {
     "name": "stderr",
     "output_type": "stream",
     "text": [
      " 12%|███████▍                                                        | 119/1023 [07:11<40:54,  2.71s/it]"
     ]
    },
    {
     "name": "stdout",
     "output_type": "stream",
     "text": [
      "Skipped file. Already present: eeg_recording_2014-11-17\n",
      "Skipped file. Already present: eeg_recording_2014-11-17\n"
     ]
    },
    {
     "name": "stderr",
     "output_type": "stream",
     "text": [
      " 12%|███████▌                                                        | 120/1023 [07:14<40:43,  2.71s/it]"
     ]
    },
    {
     "name": "stdout",
     "output_type": "stream",
     "text": [
      "Skipped file. Already present: eeg_recording_2014-11-18\n",
      "Skipped file. Already present: eeg_recording_2014-11-18\n"
     ]
    },
    {
     "name": "stderr",
     "output_type": "stream",
     "text": [
      " 12%|███████▌                                                        | 121/1023 [07:16<40:52,  2.72s/it]"
     ]
    },
    {
     "name": "stdout",
     "output_type": "stream",
     "text": [
      "Skipped file. Already present: eeg_recording_2014-11-19\n",
      "Skipped file. Already present: eeg_recording_2014-11-19\n"
     ]
    },
    {
     "name": "stderr",
     "output_type": "stream",
     "text": [
      " 12%|███████▋                                                        | 122/1023 [07:19<40:15,  2.68s/it]"
     ]
    },
    {
     "name": "stdout",
     "output_type": "stream",
     "text": [
      "Skipped file. Already present: eeg_recording_2014-11-20\n"
     ]
    },
    {
     "name": "stderr",
     "output_type": "stream",
     "text": [
      " 12%|███████▋                                                        | 123/1023 [07:22<40:28,  2.70s/it]"
     ]
    },
    {
     "name": "stdout",
     "output_type": "stream",
     "text": [
      "Skipped file. Already present: eeg_recording_2014-11-21\n"
     ]
    },
    {
     "name": "stderr",
     "output_type": "stream",
     "text": [
      " 12%|███████▊                                                        | 124/1023 [07:24<40:31,  2.70s/it]"
     ]
    },
    {
     "name": "stdout",
     "output_type": "stream",
     "text": [
      "Skipped file. Already present: eeg_recording_2014-11-22\n"
     ]
    },
    {
     "name": "stderr",
     "output_type": "stream",
     "text": [
      " 12%|███████▊                                                        | 125/1023 [07:27<40:39,  2.72s/it]"
     ]
    },
    {
     "name": "stdout",
     "output_type": "stream",
     "text": [
      "Skipped file. Already present: eeg_recording_2014-11-23\n"
     ]
    },
    {
     "name": "stderr",
     "output_type": "stream",
     "text": [
      " 12%|███████▉                                                        | 126/1023 [07:30<40:35,  2.72s/it]"
     ]
    },
    {
     "name": "stdout",
     "output_type": "stream",
     "text": [
      "Skipped file. Already present: eeg_recording_2014-11-24\n"
     ]
    },
    {
     "name": "stderr",
     "output_type": "stream",
     "text": [
      " 12%|███████▉                                                        | 127/1023 [07:33<40:34,  2.72s/it]"
     ]
    },
    {
     "name": "stdout",
     "output_type": "stream",
     "text": [
      "Skipped file. Already present: eeg_recording_2014-11-25\n"
     ]
    },
    {
     "name": "stderr",
     "output_type": "stream",
     "text": [
      " 13%|████████                                                        | 128/1023 [07:35<40:28,  2.71s/it]"
     ]
    },
    {
     "name": "stdout",
     "output_type": "stream",
     "text": [
      "Skipped file. Already present: eeg_recording_2014-11-26\n"
     ]
    },
    {
     "name": "stderr",
     "output_type": "stream",
     "text": [
      " 13%|████████                                                        | 129/1023 [07:38<40:26,  2.71s/it]"
     ]
    },
    {
     "name": "stdout",
     "output_type": "stream",
     "text": [
      "Skipped file. Already present: eeg_recording_2014-11-27\n"
     ]
    },
    {
     "name": "stderr",
     "output_type": "stream",
     "text": [
      " 13%|████████▏                                                       | 130/1023 [07:41<41:54,  2.82s/it]"
     ]
    },
    {
     "name": "stdout",
     "output_type": "stream",
     "text": [
      "Skipped file. Already present: eeg_recording_2014-12-09\n",
      "Skipped file. Already present: eeg_recording_2014-12-09\n"
     ]
    },
    {
     "name": "stderr",
     "output_type": "stream",
     "text": [
      " 13%|████████▏                                                       | 131/1023 [07:45<45:34,  3.07s/it]"
     ]
    },
    {
     "name": "stdout",
     "output_type": "stream",
     "text": [
      "Skipped file. Already present: eeg_recording_2014-12-10\n",
      "Skipped file. Already present: eeg_recording_2014-12-10\n",
      "Skipped file. Already present: eeg_recording_2014-12-10\n",
      "Skipped file. Already present: eeg_recording_2014-12-10\n",
      "Skipped file. Already present: eeg_recording_2014-12-10\n"
     ]
    },
    {
     "name": "stderr",
     "output_type": "stream",
     "text": [
      " 13%|████████▎                                                       | 132/1023 [07:49<51:22,  3.46s/it]"
     ]
    },
    {
     "name": "stdout",
     "output_type": "stream",
     "text": [
      "Skipped file. Already present: eeg_recording_2014-12-11\n",
      "Skipped file. Already present: eeg_recording_2014-12-11\n",
      "Skipped file. Already present: eeg_recording_2014-12-11\n",
      "Skipped file. Already present: eeg_recording_2014-12-11\n",
      "Skipped file. Already present: eeg_recording_2014-12-11\n",
      "Skipped file. Already present: eeg_recording_2014-12-11\n"
     ]
    },
    {
     "name": "stderr",
     "output_type": "stream",
     "text": [
      " 13%|████████▎                                                       | 133/1023 [07:54<55:33,  3.75s/it]"
     ]
    },
    {
     "name": "stdout",
     "output_type": "stream",
     "text": [
      "Skipped file. Already present: eeg_recording_2014-12-12\n",
      "Skipped file. Already present: eeg_recording_2014-12-12\n",
      "Skipped file. Already present: eeg_recording_2014-12-12\n",
      "Skipped file. Already present: eeg_recording_2014-12-12\n",
      "Skipped file. Already present: eeg_recording_2014-12-12\n"
     ]
    },
    {
     "name": "stderr",
     "output_type": "stream",
     "text": [
      " 13%|████████▍                                                       | 134/1023 [07:58<58:33,  3.95s/it]"
     ]
    },
    {
     "name": "stdout",
     "output_type": "stream",
     "text": [
      "Skipped file. Already present: eeg_recording_2014-12-13\n",
      "Skipped file. Already present: eeg_recording_2014-12-13\n",
      "Skipped file. Already present: eeg_recording_2014-12-13\n",
      "Skipped file. Already present: eeg_recording_2014-12-13\n",
      "Skipped file. Already present: eeg_recording_2014-12-13\n",
      "Skipped file. Already present: eeg_recording_2014-12-13\n",
      "Skipped file. Already present: eeg_recording_2014-12-14\n",
      "Skipped file. Already present: eeg_recording_2014-12-14\n",
      "Skipped file. Already present: eeg_recording_2014-12-14\n",
      "Skipped file. Already present: eeg_recording_2014-12-14\n",
      "Skipped file. Already present: eeg_recording_2014-12-14\n",
      "Skipped file. Already present: eeg_recording_2014-12-14\n"
     ]
    },
    {
     "name": "stderr",
     "output_type": "stream",
     "text": [
      " 13%|████████▏                                                     | 136/1023 [08:07<1:00:55,  4.12s/it]"
     ]
    },
    {
     "name": "stdout",
     "output_type": "stream",
     "text": [
      "Skipped file. Already present: eeg_recording_2014-12-15\n",
      "Skipped file. Already present: eeg_recording_2014-12-15\n",
      "Skipped file. Already present: eeg_recording_2014-12-15\n",
      "Skipped file. Already present: eeg_recording_2014-12-15\n",
      "Skipped file. Already present: eeg_recording_2014-12-15\n",
      "Skipped file. Already present: eeg_recording_2014-12-15\n",
      "Skipped file. Already present: eeg_recording_2014-12-18\n",
      "Skipped file. Already present: eeg_recording_2014-12-18\n",
      "Skipped file. Already present: eeg_recording_2014-12-18\n",
      "Skipped file. Already present: eeg_recording_2014-12-18\n",
      "Skipped file. Already present: eeg_recording_2014-12-18\n",
      "Skipped file. Already present: eeg_recording_2014-12-18\n"
     ]
    },
    {
     "name": "stderr",
     "output_type": "stream",
     "text": [
      " 13%|████████▎                                                     | 138/1023 [08:15<1:00:48,  4.12s/it]"
     ]
    },
    {
     "name": "stdout",
     "output_type": "stream",
     "text": [
      "Skipped file. Already present: eeg_recording_2014-12-19\n",
      "Skipped file. Already present: eeg_recording_2014-12-19\n",
      "Skipped file. Already present: eeg_recording_2014-12-19\n",
      "Skipped file. Already present: eeg_recording_2014-12-19\n",
      "Skipped file. Already present: eeg_recording_2014-12-19\n",
      "Skipped file. Already present: eeg_recording_2014-12-19\n"
     ]
    },
    {
     "name": "stderr",
     "output_type": "stream",
     "text": [
      " 14%|████████▍                                                     | 139/1023 [08:19<1:01:48,  4.20s/it]"
     ]
    },
    {
     "name": "stdout",
     "output_type": "stream",
     "text": [
      "Skipped file. Already present: eeg_recording_2014-12-20\n",
      "Skipped file. Already present: eeg_recording_2014-12-20\n",
      "Skipped file. Already present: eeg_recording_2014-12-20\n",
      "Skipped file. Already present: eeg_recording_2014-12-20\n",
      "Skipped file. Already present: eeg_recording_2014-12-20\n",
      "Skipped file. Already present: eeg_recording_2014-12-20\n"
     ]
    },
    {
     "name": "stderr",
     "output_type": "stream",
     "text": [
      " 14%|████████▍                                                     | 140/1023 [08:24<1:02:47,  4.27s/it]"
     ]
    },
    {
     "name": "stdout",
     "output_type": "stream",
     "text": [
      "Skipped file. Already present: eeg_recording_2014-12-21\n",
      "Skipped file. Already present: eeg_recording_2014-12-21\n",
      "Skipped file. Already present: eeg_recording_2014-12-21\n",
      "Skipped file. Already present: eeg_recording_2014-12-21\n",
      "Skipped file. Already present: eeg_recording_2014-12-21\n",
      "Skipped file. Already present: eeg_recording_2014-12-21\n"
     ]
    },
    {
     "name": "stderr",
     "output_type": "stream",
     "text": [
      " 14%|████████▌                                                     | 141/1023 [08:28<1:03:10,  4.30s/it]"
     ]
    },
    {
     "name": "stdout",
     "output_type": "stream",
     "text": [
      "Skipped file. Already present: eeg_recording_2014-12-22\n",
      "Skipped file. Already present: eeg_recording_2014-12-22\n",
      "Skipped file. Already present: eeg_recording_2014-12-22\n",
      "Skipped file. Already present: eeg_recording_2014-12-22\n",
      "Skipped file. Already present: eeg_recording_2014-12-22\n",
      "Skipped file. Already present: eeg_recording_2014-12-22\n"
     ]
    },
    {
     "name": "stderr",
     "output_type": "stream",
     "text": [
      " 14%|████████▌                                                     | 142/1023 [08:32<1:03:56,  4.35s/it]"
     ]
    },
    {
     "name": "stdout",
     "output_type": "stream",
     "text": [
      "Skipped file. Already present: eeg_recording_2014-12-23\n",
      "Skipped file. Already present: eeg_recording_2014-12-23\n",
      "Skipped file. Already present: eeg_recording_2014-12-23\n",
      "Skipped file. Already present: eeg_recording_2014-12-23\n",
      "Skipped file. Already present: eeg_recording_2014-12-23\n",
      "Skipped file. Already present: eeg_recording_2014-12-23\n"
     ]
    },
    {
     "name": "stderr",
     "output_type": "stream",
     "text": [
      " 14%|████████▋                                                     | 143/1023 [08:37<1:03:50,  4.35s/it]"
     ]
    },
    {
     "name": "stdout",
     "output_type": "stream",
     "text": [
      "Skipped file. Already present: eeg_recording_2014-12-24\n",
      "Skipped file. Already present: eeg_recording_2014-12-24\n",
      "Skipped file. Already present: eeg_recording_2014-12-24\n",
      "Skipped file. Already present: eeg_recording_2014-12-24\n",
      "Skipped file. Already present: eeg_recording_2014-12-24\n",
      "Skipped file. Already present: eeg_recording_2014-12-24\n"
     ]
    },
    {
     "name": "stderr",
     "output_type": "stream",
     "text": [
      " 14%|████████▋                                                     | 144/1023 [08:41<1:04:02,  4.37s/it]"
     ]
    },
    {
     "name": "stdout",
     "output_type": "stream",
     "text": [
      "Skipped file. Already present: eeg_recording_2014-12-25\n",
      "Skipped file. Already present: eeg_recording_2014-12-25\n",
      "Skipped file. Already present: eeg_recording_2014-12-25\n",
      "Skipped file. Already present: eeg_recording_2014-12-25\n",
      "Skipped file. Already present: eeg_recording_2014-12-25\n",
      "Skipped file. Already present: eeg_recording_2014-12-25\n"
     ]
    },
    {
     "name": "stderr",
     "output_type": "stream",
     "text": [
      " 14%|████████▊                                                     | 145/1023 [08:46<1:03:47,  4.36s/it]"
     ]
    },
    {
     "name": "stdout",
     "output_type": "stream",
     "text": [
      "Skipped file. Already present: eeg_recording_2014-12-26\n",
      "Skipped file. Already present: eeg_recording_2014-12-26\n",
      "Skipped file. Already present: eeg_recording_2014-12-26\n",
      "Skipped file. Already present: eeg_recording_2014-12-26\n",
      "Skipped file. Already present: eeg_recording_2014-12-26\n",
      "Skipped file. Already present: eeg_recording_2014-12-26\n"
     ]
    },
    {
     "name": "stderr",
     "output_type": "stream",
     "text": [
      " 14%|████████▊                                                     | 146/1023 [08:50<1:03:51,  4.37s/it]"
     ]
    },
    {
     "name": "stdout",
     "output_type": "stream",
     "text": [
      "Skipped file. Already present: eeg_recording_2014-12-27\n",
      "Skipped file. Already present: eeg_recording_2014-12-27\n",
      "Skipped file. Already present: eeg_recording_2014-12-27\n",
      "Skipped file. Already present: eeg_recording_2014-12-27\n",
      "Skipped file. Already present: eeg_recording_2014-12-27\n",
      "Skipped file. Already present: eeg_recording_2014-12-27\n"
     ]
    },
    {
     "name": "stderr",
     "output_type": "stream",
     "text": [
      " 14%|████████▉                                                     | 147/1023 [08:54<1:03:41,  4.36s/it]"
     ]
    },
    {
     "name": "stdout",
     "output_type": "stream",
     "text": [
      "Skipped file. Already present: eeg_recording_2014-12-28\n",
      "Skipped file. Already present: eeg_recording_2014-12-28\n",
      "Skipped file. Already present: eeg_recording_2014-12-28\n",
      "Skipped file. Already present: eeg_recording_2014-12-28\n",
      "Skipped file. Already present: eeg_recording_2014-12-28\n",
      "Skipped file. Already present: eeg_recording_2014-12-28\n"
     ]
    },
    {
     "name": "stderr",
     "output_type": "stream",
     "text": [
      " 14%|████████▉                                                     | 148/1023 [08:59<1:03:58,  4.39s/it]"
     ]
    },
    {
     "name": "stdout",
     "output_type": "stream",
     "text": [
      "Skipped file. Already present: eeg_recording_2014-12-29\n",
      "Skipped file. Already present: eeg_recording_2014-12-29\n",
      "Skipped file. Already present: eeg_recording_2014-12-29\n",
      "Skipped file. Already present: eeg_recording_2014-12-29\n",
      "Skipped file. Already present: eeg_recording_2014-12-29\n",
      "Skipped file. Already present: eeg_recording_2014-12-29\n"
     ]
    },
    {
     "name": "stderr",
     "output_type": "stream",
     "text": [
      " 15%|█████████                                                     | 149/1023 [09:03<1:03:46,  4.38s/it]"
     ]
    },
    {
     "name": "stdout",
     "output_type": "stream",
     "text": [
      "Skipped file. Already present: eeg_recording_2014-12-30\n",
      "Skipped file. Already present: eeg_recording_2014-12-30\n",
      "Skipped file. Already present: eeg_recording_2014-12-30\n",
      "Skipped file. Already present: eeg_recording_2014-12-30\n",
      "Skipped file. Already present: eeg_recording_2014-12-30\n",
      "Skipped file. Already present: eeg_recording_2014-12-30\n",
      "Skipped file. Already present: eeg_recording_2014-12-31\n",
      "Skipped file. Already present: eeg_recording_2014-12-31\n",
      "Skipped file. Already present: eeg_recording_2014-12-31\n",
      "Skipped file. Already present: eeg_recording_2014-12-31\n",
      "Skipped file. Already present: eeg_recording_2014-12-31\n",
      "Skipped file. Already present: eeg_recording_2014-12-31\n"
     ]
    },
    {
     "name": "stderr",
     "output_type": "stream",
     "text": [
      " 15%|█████████▏                                                    | 151/1023 [09:12<1:02:54,  4.33s/it]"
     ]
    },
    {
     "name": "stdout",
     "output_type": "stream",
     "text": [
      "Skipped file. Already present: eeg_recording_2015-01-01\n",
      "Skipped file. Already present: eeg_recording_2015-01-01\n",
      "Skipped file. Already present: eeg_recording_2015-01-01\n",
      "Skipped file. Already present: eeg_recording_2015-01-01\n"
     ]
    },
    {
     "name": "stderr",
     "output_type": "stream",
     "text": [
      " 15%|█████████▏                                                    | 152/1023 [09:16<1:01:54,  4.26s/it]"
     ]
    },
    {
     "name": "stdout",
     "output_type": "stream",
     "text": [
      "Skipped file. Already present: eeg_recording_2015-01-02\n",
      "Skipped file. Already present: eeg_recording_2015-01-02\n",
      "Skipped file. Already present: eeg_recording_2015-01-02\n"
     ]
    },
    {
     "name": "stderr",
     "output_type": "stream",
     "text": [
      " 15%|█████████▎                                                    | 153/1023 [09:20<1:01:47,  4.26s/it]"
     ]
    },
    {
     "name": "stdout",
     "output_type": "stream",
     "text": [
      "Skipped file. Already present: eeg_recording_2015-01-03\n",
      "Skipped file. Already present: eeg_recording_2015-01-03\n",
      "Skipped file. Already present: eeg_recording_2015-01-03\n",
      "Skipped file. Already present: eeg_recording_2015-01-03\n",
      "Skipped file. Already present: eeg_recording_2015-01-03\n"
     ]
    },
    {
     "name": "stderr",
     "output_type": "stream",
     "text": [
      " 15%|█████████▎                                                    | 154/1023 [09:24<1:00:28,  4.18s/it]"
     ]
    },
    {
     "name": "stdout",
     "output_type": "stream",
     "text": [
      "Skipped file. Already present: eeg_recording_2015-01-04\n",
      "Skipped file. Already present: eeg_recording_2015-01-04\n",
      "Skipped file. Already present: eeg_recording_2015-01-04\n",
      "Skipped file. Already present: eeg_recording_2015-01-04\n",
      "Skipped file. Already present: eeg_recording_2015-01-04\n",
      "Skipped file. Already present: eeg_recording_2015-01-04\n"
     ]
    },
    {
     "name": "stderr",
     "output_type": "stream",
     "text": [
      " 15%|█████████▍                                                    | 155/1023 [09:29<1:01:33,  4.25s/it]"
     ]
    },
    {
     "name": "stdout",
     "output_type": "stream",
     "text": [
      "Skipped file. Already present: eeg_recording_2015-01-05\n",
      "Skipped file. Already present: eeg_recording_2015-01-05\n",
      "Skipped file. Already present: eeg_recording_2015-01-05\n",
      "Skipped file. Already present: eeg_recording_2015-01-05\n",
      "Skipped file. Already present: eeg_recording_2015-01-05\n",
      "Skipped file. Already present: eeg_recording_2015-01-05\n"
     ]
    },
    {
     "name": "stderr",
     "output_type": "stream",
     "text": [
      " 15%|█████████▍                                                    | 156/1023 [09:33<1:03:32,  4.40s/it]"
     ]
    },
    {
     "name": "stdout",
     "output_type": "stream",
     "text": [
      "Skipped file. Already present: eeg_recording_2015-01-06\n",
      "Skipped file. Already present: eeg_recording_2015-01-06\n",
      "Skipped file. Already present: eeg_recording_2015-01-06\n",
      "Skipped file. Already present: eeg_recording_2015-01-06\n",
      "Skipped file. Already present: eeg_recording_2015-01-06\n",
      "Skipped file. Already present: eeg_recording_2015-01-06\n"
     ]
    },
    {
     "name": "stderr",
     "output_type": "stream",
     "text": [
      " 15%|█████████▌                                                    | 157/1023 [09:38<1:04:48,  4.49s/it]"
     ]
    },
    {
     "name": "stdout",
     "output_type": "stream",
     "text": [
      "Skipped file. Already present: eeg_recording_2015-01-07\n",
      "Skipped file. Already present: eeg_recording_2015-01-07\n",
      "Skipped file. Already present: eeg_recording_2015-01-07\n",
      "Skipped file. Already present: eeg_recording_2015-01-07\n",
      "Skipped file. Already present: eeg_recording_2015-01-07\n",
      "Skipped file. Already present: eeg_recording_2015-01-07\n"
     ]
    },
    {
     "name": "stderr",
     "output_type": "stream",
     "text": [
      " 15%|█████████▌                                                    | 158/1023 [09:43<1:06:32,  4.62s/it]"
     ]
    },
    {
     "name": "stdout",
     "output_type": "stream",
     "text": [
      "Skipped file. Already present: eeg_recording_2015-01-08\n",
      "Skipped file. Already present: eeg_recording_2015-01-08\n",
      "Skipped file. Already present: eeg_recording_2015-01-08\n",
      "Skipped file. Already present: eeg_recording_2015-01-08\n",
      "Skipped file. Already present: eeg_recording_2015-01-08\n",
      "Skipped file. Already present: eeg_recording_2015-01-08\n"
     ]
    },
    {
     "name": "stderr",
     "output_type": "stream",
     "text": [
      " 16%|█████████▋                                                    | 159/1023 [09:47<1:06:04,  4.59s/it]"
     ]
    },
    {
     "name": "stdout",
     "output_type": "stream",
     "text": [
      "OS error: /tmp/tmp4ph5jtgf/EDF_yolo_2015-01-09.edf: can not open file, no such file or directory\n",
      "EDF_yolo_2015-01-09.edf not found\n"
     ]
    },
    {
     "name": "stderr",
     "output_type": "stream",
     "text": [
      " 16%|█████████▋                                                    | 160/1023 [09:52<1:07:22,  4.68s/it]"
     ]
    },
    {
     "name": "stdout",
     "output_type": "stream",
     "text": [
      "Skipped file. Already present: eeg_recording_2015-01-10\n",
      "Skipped file. Already present: eeg_recording_2015-01-10\n",
      "Skipped file. Already present: eeg_recording_2015-01-10\n",
      "Skipped file. Already present: eeg_recording_2015-01-10\n",
      "Skipped file. Already present: eeg_recording_2015-01-10\n",
      "Skipped file. Already present: eeg_recording_2015-01-10\n"
     ]
    },
    {
     "name": "stderr",
     "output_type": "stream",
     "text": [
      " 16%|█████████▊                                                    | 161/1023 [09:57<1:08:09,  4.74s/it]"
     ]
    },
    {
     "name": "stdout",
     "output_type": "stream",
     "text": [
      "Skipped file. Already present: eeg_recording_2015-01-11\n",
      "Skipped file. Already present: eeg_recording_2015-01-11\n",
      "Skipped file. Already present: eeg_recording_2015-01-11\n",
      "Skipped file. Already present: eeg_recording_2015-01-11\n",
      "Skipped file. Already present: eeg_recording_2015-01-11\n",
      "Skipped file. Already present: eeg_recording_2015-01-11\n"
     ]
    },
    {
     "name": "stderr",
     "output_type": "stream",
     "text": [
      " 16%|█████████▊                                                    | 162/1023 [10:02<1:08:27,  4.77s/it]"
     ]
    },
    {
     "name": "stdout",
     "output_type": "stream",
     "text": [
      "Skipped file. Already present: eeg_recording_2015-01-12\n",
      "Skipped file. Already present: eeg_recording_2015-01-12\n",
      "Skipped file. Already present: eeg_recording_2015-01-12\n",
      "Skipped file. Already present: eeg_recording_2015-01-12\n",
      "Skipped file. Already present: eeg_recording_2015-01-12\n"
     ]
    },
    {
     "name": "stderr",
     "output_type": "stream",
     "text": [
      " 16%|█████████▉                                                    | 163/1023 [10:07<1:07:36,  4.72s/it]"
     ]
    },
    {
     "name": "stdout",
     "output_type": "stream",
     "text": [
      "Skipped file. Already present: eeg_recording_2015-01-13\n",
      "Skipped file. Already present: eeg_recording_2015-01-13\n",
      "Skipped file. Already present: eeg_recording_2015-01-13\n",
      "Skipped file. Already present: eeg_recording_2015-01-13\n",
      "Skipped file. Already present: eeg_recording_2015-01-13\n"
     ]
    },
    {
     "name": "stderr",
     "output_type": "stream",
     "text": [
      " 16%|█████████▉                                                    | 164/1023 [10:11<1:07:42,  4.73s/it]"
     ]
    },
    {
     "name": "stdout",
     "output_type": "stream",
     "text": [
      "Skipped file. Already present: eeg_recording_2015-01-14\n",
      "Skipped file. Already present: eeg_recording_2015-01-14\n",
      "Skipped file. Already present: eeg_recording_2015-01-14\n",
      "Skipped file. Already present: eeg_recording_2015-01-14\n",
      "Skipped file. Already present: eeg_recording_2015-01-14\n",
      "Skipped file. Already present: eeg_recording_2015-01-15\n",
      "Skipped file. Already present: eeg_recording_2015-01-15\n",
      "Skipped file. Already present: eeg_recording_2015-01-15\n",
      "Skipped file. Already present: eeg_recording_2015-01-15\n",
      "Skipped file. Already present: eeg_recording_2015-01-15\n"
     ]
    },
    {
     "name": "stderr",
     "output_type": "stream",
     "text": [
      " 16%|██████████                                                    | 165/1023 [10:16<1:07:42,  4.73s/it]"
     ]
    },
    {
     "name": "stdout",
     "output_type": "stream",
     "text": [
      "Skipped file. Already present: eeg_recording_2015-01-16\n",
      "Skipped file. Already present: eeg_recording_2015-01-16\n",
      "Skipped file. Already present: eeg_recording_2015-01-16\n",
      "Skipped file. Already present: eeg_recording_2015-01-16\n",
      "Skipped file. Already present: eeg_recording_2015-01-16\n"
     ]
    },
    {
     "name": "stderr",
     "output_type": "stream",
     "text": [
      " 16%|██████████                                                    | 166/1023 [10:21<1:07:21,  4.72s/it]"
     ]
    },
    {
     "name": "stdout",
     "output_type": "stream",
     "text": [
      "Skipped file. Already present: eeg_recording_2015-01-17\n",
      "Skipped file. Already present: eeg_recording_2015-01-17\n",
      "Skipped file. Already present: eeg_recording_2015-01-17\n",
      "Skipped file. Already present: eeg_recording_2015-01-17\n",
      "Skipped file. Already present: eeg_recording_2015-01-17\n"
     ]
    },
    {
     "name": "stderr",
     "output_type": "stream",
     "text": [
      " 16%|██████████                                                    | 167/1023 [10:25<1:07:03,  4.70s/it]"
     ]
    },
    {
     "name": "stdout",
     "output_type": "stream",
     "text": [
      "Skipped file. Already present: eeg_recording_2015-01-18\n",
      "Skipped file. Already present: eeg_recording_2015-01-18\n",
      "Skipped file. Already present: eeg_recording_2015-01-18\n",
      "Skipped file. Already present: eeg_recording_2015-01-18\n",
      "Skipped file. Already present: eeg_recording_2015-01-18\n"
     ]
    },
    {
     "name": "stderr",
     "output_type": "stream",
     "text": [
      " 16%|██████████▏                                                   | 168/1023 [10:30<1:07:12,  4.72s/it]"
     ]
    },
    {
     "name": "stdout",
     "output_type": "stream",
     "text": [
      "Skipped file. Already present: eeg_recording_2015-01-19\n",
      "Skipped file. Already present: eeg_recording_2015-01-19\n",
      "Skipped file. Already present: eeg_recording_2015-01-19\n",
      "Skipped file. Already present: eeg_recording_2015-01-19\n",
      "Skipped file. Already present: eeg_recording_2015-01-19\n",
      "Skipped file. Already present: eeg_recording_2015-01-19\n"
     ]
    },
    {
     "name": "stderr",
     "output_type": "stream",
     "text": [
      " 17%|██████████▏                                                   | 169/1023 [10:35<1:07:01,  4.71s/it]"
     ]
    },
    {
     "name": "stdout",
     "output_type": "stream",
     "text": [
      "Skipped file. Already present: eeg_recording_2015-01-20\n",
      "Skipped file. Already present: eeg_recording_2015-01-20\n",
      "Skipped file. Already present: eeg_recording_2015-01-20\n",
      "Skipped file. Already present: eeg_recording_2015-01-20\n",
      "Skipped file. Already present: eeg_recording_2015-01-20\n",
      "Skipped file. Already present: eeg_recording_2015-01-20\n"
     ]
    },
    {
     "name": "stderr",
     "output_type": "stream",
     "text": [
      " 17%|██████████▎                                                   | 170/1023 [10:40<1:06:46,  4.70s/it]"
     ]
    },
    {
     "name": "stdout",
     "output_type": "stream",
     "text": [
      "Skipped file. Already present: eeg_recording_2015-01-22\n",
      "Skipped file. Already present: eeg_recording_2015-01-22\n",
      "Skipped file. Already present: eeg_recording_2015-01-22\n",
      "Skipped file. Already present: eeg_recording_2015-01-22\n",
      "Skipped file. Already present: eeg_recording_2015-01-22\n",
      "Skipped file. Already present: eeg_recording_2015-01-22\n"
     ]
    },
    {
     "name": "stderr",
     "output_type": "stream",
     "text": [
      " 17%|██████████▎                                                   | 171/1023 [10:44<1:07:12,  4.73s/it]"
     ]
    },
    {
     "name": "stdout",
     "output_type": "stream",
     "text": [
      "Skipped file. Already present: eeg_recording_2015-01-23\n",
      "Skipped file. Already present: eeg_recording_2015-01-23\n",
      "Skipped file. Already present: eeg_recording_2015-01-23\n",
      "Skipped file. Already present: eeg_recording_2015-01-23\n",
      "Skipped file. Already present: eeg_recording_2015-01-23\n",
      "Skipped file. Already present: eeg_recording_2015-01-23\n"
     ]
    },
    {
     "name": "stderr",
     "output_type": "stream",
     "text": [
      " 17%|██████████▍                                                   | 172/1023 [10:49<1:06:50,  4.71s/it]"
     ]
    },
    {
     "name": "stdout",
     "output_type": "stream",
     "text": [
      "Skipped file. Already present: eeg_recording_2015-01-24\n",
      "Skipped file. Already present: eeg_recording_2015-01-24\n",
      "Skipped file. Already present: eeg_recording_2015-01-24\n",
      "Skipped file. Already present: eeg_recording_2015-01-24\n",
      "Skipped file. Already present: eeg_recording_2015-01-24\n",
      "Skipped file. Already present: eeg_recording_2015-01-24\n"
     ]
    },
    {
     "name": "stderr",
     "output_type": "stream",
     "text": [
      " 17%|██████████▍                                                   | 173/1023 [10:54<1:07:00,  4.73s/it]"
     ]
    },
    {
     "name": "stdout",
     "output_type": "stream",
     "text": [
      "Skipped file. Already present: eeg_recording_2015-01-25\n",
      "Skipped file. Already present: eeg_recording_2015-01-25\n",
      "Skipped file. Already present: eeg_recording_2015-01-25\n",
      "Skipped file. Already present: eeg_recording_2015-01-25\n",
      "Skipped file. Already present: eeg_recording_2015-01-25\n"
     ]
    },
    {
     "name": "stderr",
     "output_type": "stream",
     "text": [
      " 17%|██████████▌                                                   | 175/1023 [11:03<1:06:54,  4.73s/it]"
     ]
    },
    {
     "name": "stdout",
     "output_type": "stream",
     "text": [
      "Skipped file. Already present: eeg_recording_2015-01-26\n",
      "Skipped file. Already present: eeg_recording_2015-01-26\n",
      "Skipped file. Already present: eeg_recording_2015-01-27\n",
      "Skipped file. Already present: eeg_recording_2015-01-27\n",
      "Skipped file. Already present: eeg_recording_2015-01-27\n",
      "Skipped file. Already present: eeg_recording_2015-01-27\n",
      "Skipped file. Already present: eeg_recording_2015-01-27\n",
      "Skipped file. Already present: eeg_recording_2015-01-27\n"
     ]
    },
    {
     "name": "stderr",
     "output_type": "stream",
     "text": [
      " 17%|██████████▋                                                   | 176/1023 [11:08<1:07:51,  4.81s/it]"
     ]
    },
    {
     "name": "stdout",
     "output_type": "stream",
     "text": [
      "Skipped file. Already present: eeg_recording_2015-01-28\n",
      "Skipped file. Already present: eeg_recording_2015-01-28\n",
      "Skipped file. Already present: eeg_recording_2015-01-28\n",
      "Skipped file. Already present: eeg_recording_2015-01-28\n",
      "Skipped file. Already present: eeg_recording_2015-01-28\n",
      "Skipped file. Already present: eeg_recording_2015-01-28\n"
     ]
    },
    {
     "name": "stderr",
     "output_type": "stream",
     "text": [
      " 17%|██████████▋                                                   | 177/1023 [11:13<1:07:50,  4.81s/it]"
     ]
    },
    {
     "name": "stdout",
     "output_type": "stream",
     "text": [
      "Skipped file. Already present: eeg_recording_2015-01-29\n",
      "Skipped file. Already present: eeg_recording_2015-01-29\n",
      "Skipped file. Already present: eeg_recording_2015-01-29\n",
      "Skipped file. Already present: eeg_recording_2015-01-29\n",
      "Skipped file. Already present: eeg_recording_2015-01-29\n",
      "Skipped file. Already present: eeg_recording_2015-01-29\n"
     ]
    },
    {
     "name": "stderr",
     "output_type": "stream",
     "text": [
      " 17%|██████████▊                                                   | 178/1023 [11:18<1:08:00,  4.83s/it]"
     ]
    },
    {
     "name": "stdout",
     "output_type": "stream",
     "text": [
      "Skipped file. Already present: eeg_recording_2015-01-30\n",
      "Skipped file. Already present: eeg_recording_2015-01-30\n",
      "Skipped file. Already present: eeg_recording_2015-01-30\n",
      "Skipped file. Already present: eeg_recording_2015-01-30\n",
      "Skipped file. Already present: eeg_recording_2015-01-30\n",
      "Skipped file. Already present: eeg_recording_2015-01-30\n"
     ]
    },
    {
     "name": "stderr",
     "output_type": "stream",
     "text": [
      " 17%|██████████▊                                                   | 179/1023 [11:23<1:07:39,  4.81s/it]"
     ]
    },
    {
     "name": "stdout",
     "output_type": "stream",
     "text": [
      "Skipped file. Already present: eeg_recording_2015-01-31\n",
      "Skipped file. Already present: eeg_recording_2015-01-31\n",
      "Skipped file. Already present: eeg_recording_2015-01-31\n",
      "Skipped file. Already present: eeg_recording_2015-01-31\n",
      "Skipped file. Already present: eeg_recording_2015-01-31\n"
     ]
    },
    {
     "name": "stderr",
     "output_type": "stream",
     "text": [
      " 18%|██████████▉                                                   | 180/1023 [11:27<1:07:23,  4.80s/it]"
     ]
    },
    {
     "name": "stdout",
     "output_type": "stream",
     "text": [
      "Skipped file. Already present: eeg_recording_2015-02-01\n",
      "Skipped file. Already present: eeg_recording_2015-02-01\n",
      "Skipped file. Already present: eeg_recording_2015-02-01\n",
      "Skipped file. Already present: eeg_recording_2015-02-01\n",
      "Skipped file. Already present: eeg_recording_2015-02-01\n",
      "Skipped file. Already present: eeg_recording_2015-02-01\n"
     ]
    },
    {
     "name": "stderr",
     "output_type": "stream",
     "text": [
      " 18%|██████████▉                                                   | 181/1023 [11:32<1:06:53,  4.77s/it]"
     ]
    },
    {
     "name": "stdout",
     "output_type": "stream",
     "text": [
      "Skipped file. Already present: eeg_recording_2015-02-02\n",
      "Skipped file. Already present: eeg_recording_2015-02-02\n",
      "Skipped file. Already present: eeg_recording_2015-02-02\n",
      "Skipped file. Already present: eeg_recording_2015-02-02\n",
      "Skipped file. Already present: eeg_recording_2015-02-02\n",
      "Skipped file. Already present: eeg_recording_2015-02-02\n"
     ]
    },
    {
     "name": "stderr",
     "output_type": "stream",
     "text": [
      " 18%|███████████                                                   | 182/1023 [11:37<1:06:47,  4.77s/it]"
     ]
    },
    {
     "name": "stdout",
     "output_type": "stream",
     "text": [
      "Skipped file. Already present: eeg_recording_2015-02-03\n",
      "Skipped file. Already present: eeg_recording_2015-02-03\n",
      "Skipped file. Already present: eeg_recording_2015-02-03\n",
      "Skipped file. Already present: eeg_recording_2015-02-03\n",
      "Skipped file. Already present: eeg_recording_2015-02-03\n"
     ]
    },
    {
     "name": "stderr",
     "output_type": "stream",
     "text": [
      " 18%|███████████                                                   | 183/1023 [11:42<1:07:03,  4.79s/it]"
     ]
    },
    {
     "name": "stdout",
     "output_type": "stream",
     "text": [
      "Skipped file. Already present: eeg_recording_2015-02-04\n",
      "Skipped file. Already present: eeg_recording_2015-02-04\n",
      "Skipped file. Already present: eeg_recording_2015-02-04\n",
      "Skipped file. Already present: eeg_recording_2015-02-04\n",
      "Skipped file. Already present: eeg_recording_2015-02-04\n"
     ]
    },
    {
     "name": "stderr",
     "output_type": "stream",
     "text": [
      " 18%|███████████▏                                                  | 185/1023 [11:51<1:07:05,  4.80s/it]"
     ]
    },
    {
     "name": "stdout",
     "output_type": "stream",
     "text": [
      "Skipped file. Already present: eeg_recording_2015-02-05\n",
      "Skipped file. Already present: eeg_recording_2015-02-05\n",
      "Skipped file. Already present: eeg_recording_2015-02-05\n",
      "Skipped file. Already present: eeg_recording_2015-02-05\n"
     ]
    },
    {
     "name": "stderr",
     "output_type": "stream",
     "text": [
      " 18%|███████████▎                                                  | 186/1023 [11:56<1:06:38,  4.78s/it]"
     ]
    },
    {
     "name": "stdout",
     "output_type": "stream",
     "text": [
      "Skipped file. Already present: eeg_recording_2015-02-06\n",
      "Skipped file. Already present: eeg_recording_2015-02-06\n",
      "Skipped file. Already present: eeg_recording_2015-02-06\n",
      "Skipped file. Already present: eeg_recording_2015-02-06\n"
     ]
    },
    {
     "name": "stderr",
     "output_type": "stream",
     "text": [
      " 18%|███████████▎                                                  | 187/1023 [12:01<1:06:00,  4.74s/it]"
     ]
    },
    {
     "name": "stdout",
     "output_type": "stream",
     "text": [
      "Skipped file. Already present: eeg_recording_2015-02-07\n",
      "Skipped file. Already present: eeg_recording_2015-02-07\n",
      "Skipped file. Already present: eeg_recording_2015-02-07\n",
      "Skipped file. Already present: eeg_recording_2015-02-07\n"
     ]
    },
    {
     "name": "stderr",
     "output_type": "stream",
     "text": [
      " 18%|███████████▍                                                  | 188/1023 [12:06<1:05:51,  4.73s/it]"
     ]
    },
    {
     "name": "stdout",
     "output_type": "stream",
     "text": [
      "Skipped file. Already present: eeg_recording_2015-02-08\n",
      "Skipped file. Already present: eeg_recording_2015-02-08\n",
      "Skipped file. Already present: eeg_recording_2015-02-08\n",
      "Skipped file. Already present: eeg_recording_2015-02-08\n"
     ]
    },
    {
     "name": "stderr",
     "output_type": "stream",
     "text": [
      " 18%|███████████▍                                                  | 189/1023 [12:10<1:05:35,  4.72s/it]"
     ]
    },
    {
     "name": "stdout",
     "output_type": "stream",
     "text": [
      "Skipped file. Already present: eeg_recording_2015-02-09\n",
      "Skipped file. Already present: eeg_recording_2015-02-09\n",
      "Skipped file. Already present: eeg_recording_2015-02-09\n",
      "Skipped file. Already present: eeg_recording_2015-02-09\n",
      "Skipped file. Already present: eeg_recording_2015-02-10\n",
      "Skipped file. Already present: eeg_recording_2015-02-10\n",
      "Skipped file. Already present: eeg_recording_2015-02-10\n",
      "Skipped file. Already present: eeg_recording_2015-02-10\n",
      "Skipped file. Already present: eeg_recording_2015-02-10\n"
     ]
    },
    {
     "name": "stderr",
     "output_type": "stream",
     "text": [
      " 19%|███████████▌                                                  | 191/1023 [12:20<1:05:48,  4.75s/it]"
     ]
    },
    {
     "name": "stdout",
     "output_type": "stream",
     "text": [
      "Skipped file. Already present: eeg_recording_2015-02-11\n",
      "Skipped file. Already present: eeg_recording_2015-02-11\n",
      "Skipped file. Already present: eeg_recording_2015-02-11\n",
      "Skipped file. Already present: eeg_recording_2015-02-11\n",
      "Skipped file. Already present: eeg_recording_2015-02-11\n"
     ]
    },
    {
     "name": "stderr",
     "output_type": "stream",
     "text": [
      " 19%|███████████▋                                                  | 192/1023 [12:24<1:05:34,  4.74s/it]"
     ]
    },
    {
     "name": "stdout",
     "output_type": "stream",
     "text": [
      "Skipped file. Already present: eeg_recording_2015-02-12\n",
      "Skipped file. Already present: eeg_recording_2015-02-12\n",
      "Skipped file. Already present: eeg_recording_2015-02-12\n",
      "Skipped file. Already present: eeg_recording_2015-02-12\n",
      "Skipped file. Already present: eeg_recording_2015-02-12\n"
     ]
    },
    {
     "name": "stderr",
     "output_type": "stream",
     "text": [
      " 19%|███████████▋                                                  | 193/1023 [12:29<1:05:31,  4.74s/it]"
     ]
    },
    {
     "name": "stdout",
     "output_type": "stream",
     "text": [
      "Skipped file. Already present: eeg_recording_2015-02-13\n",
      "Skipped file. Already present: eeg_recording_2015-02-13\n",
      "Skipped file. Already present: eeg_recording_2015-02-13\n",
      "Skipped file. Already present: eeg_recording_2015-02-13\n",
      "Skipped file. Already present: eeg_recording_2015-02-13\n"
     ]
    },
    {
     "name": "stderr",
     "output_type": "stream",
     "text": [
      " 19%|███████████▊                                                  | 194/1023 [12:34<1:05:36,  4.75s/it]"
     ]
    },
    {
     "name": "stdout",
     "output_type": "stream",
     "text": [
      "Skipped file. Already present: eeg_recording_2015-02-14\n",
      "Skipped file. Already present: eeg_recording_2015-02-14\n",
      "Skipped file. Already present: eeg_recording_2015-02-14\n",
      "Skipped file. Already present: eeg_recording_2015-02-14\n"
     ]
    },
    {
     "name": "stderr",
     "output_type": "stream",
     "text": [
      " 19%|███████████▊                                                  | 195/1023 [12:39<1:05:24,  4.74s/it]"
     ]
    },
    {
     "name": "stdout",
     "output_type": "stream",
     "text": [
      "Skipped file. Already present: eeg_recording_2015-02-15\n",
      "Skipped file. Already present: eeg_recording_2015-02-15\n",
      "Skipped file. Already present: eeg_recording_2015-02-15\n",
      "Skipped file. Already present: eeg_recording_2015-02-15\n"
     ]
    },
    {
     "name": "stderr",
     "output_type": "stream",
     "text": [
      " 19%|███████████▉                                                  | 196/1023 [12:43<1:04:41,  4.69s/it]"
     ]
    },
    {
     "name": "stdout",
     "output_type": "stream",
     "text": [
      "Skipped file. Already present: eeg_recording_2015-02-16\n",
      "Skipped file. Already present: eeg_recording_2015-02-16\n",
      "Skipped file. Already present: eeg_recording_2015-02-16\n",
      "Skipped file. Already present: eeg_recording_2015-02-16\n"
     ]
    },
    {
     "name": "stderr",
     "output_type": "stream",
     "text": [
      " 19%|███████████▉                                                  | 197/1023 [12:47<1:00:10,  4.37s/it]"
     ]
    },
    {
     "name": "stdout",
     "output_type": "stream",
     "text": [
      "OS error: /tmp/tmpl9ndk1fk/EDF_yolo_2015-02-17.edf: can not open file, no such file or directory\n",
      "EDF_yolo_2015-02-17.edf not found\n",
      "Skipped file. Already present: eeg_recording_2015-02-18\n",
      "Skipped file. Already present: eeg_recording_2015-02-18\n",
      "Skipped file. Already present: eeg_recording_2015-02-18\n",
      "Skipped file. Already present: eeg_recording_2015-02-18\n",
      "Skipped file. Already present: eeg_recording_2015-02-18\n"
     ]
    },
    {
     "name": "stderr",
     "output_type": "stream",
     "text": [
      " 19%|████████████                                                  | 199/1023 [12:56<1:01:53,  4.51s/it]"
     ]
    },
    {
     "name": "stdout",
     "output_type": "stream",
     "text": [
      "Skipped file. Already present: eeg_recording_2015-02-19\n",
      "Skipped file. Already present: eeg_recording_2015-02-19\n",
      "Skipped file. Already present: eeg_recording_2015-02-19\n"
     ]
    },
    {
     "name": "stderr",
     "output_type": "stream",
     "text": [
      " 20%|████████████                                                  | 200/1023 [13:01<1:01:22,  4.47s/it]"
     ]
    },
    {
     "name": "stdout",
     "output_type": "stream",
     "text": [
      "Skipped file. Already present: eeg_recording_2015-02-20\n",
      "Skipped file. Already present: eeg_recording_2015-02-20\n",
      "Skipped file. Already present: eeg_recording_2015-02-20\n",
      "Skipped file. Already present: eeg_recording_2015-02-20\n",
      "Skipped file. Already present: eeg_recording_2015-02-20\n"
     ]
    },
    {
     "name": "stderr",
     "output_type": "stream",
     "text": [
      " 20%|████████████▏                                                 | 201/1023 [13:05<1:00:43,  4.43s/it]"
     ]
    },
    {
     "name": "stdout",
     "output_type": "stream",
     "text": [
      "Skipped file. Already present: eeg_recording_2015-02-21\n",
      "Skipped file. Already present: eeg_recording_2015-02-21\n",
      "Skipped file. Already present: eeg_recording_2015-02-21\n",
      "Skipped file. Already present: eeg_recording_2015-02-21\n",
      "Skipped file. Already present: eeg_recording_2015-02-21\n"
     ]
    },
    {
     "name": "stderr",
     "output_type": "stream",
     "text": [
      " 20%|████████████▏                                                 | 202/1023 [13:09<1:00:23,  4.41s/it]"
     ]
    },
    {
     "name": "stdout",
     "output_type": "stream",
     "text": [
      "Skipped file. Already present: eeg_recording_2015-02-22\n",
      "Skipped file. Already present: eeg_recording_2015-02-22\n",
      "Skipped file. Already present: eeg_recording_2015-02-22\n",
      "Skipped file. Already present: eeg_recording_2015-02-22\n",
      "Skipped file. Already present: eeg_recording_2015-02-22\n",
      "Skipped file. Already present: eeg_recording_2015-02-23\n",
      "Skipped file. Already present: eeg_recording_2015-02-23\n",
      "Skipped file. Already present: eeg_recording_2015-02-23\n",
      "Skipped file. Already present: eeg_recording_2015-02-23\n",
      "Skipped file. Already present: eeg_recording_2015-02-23\n"
     ]
    },
    {
     "name": "stderr",
     "output_type": "stream",
     "text": [
      " 20%|████████████▎                                                 | 203/1023 [13:14<1:00:09,  4.40s/it]"
     ]
    },
    {
     "name": "stdout",
     "output_type": "stream",
     "text": [
      "Skipped file. Already present: eeg_recording_2015-02-24\n",
      "Skipped file. Already present: eeg_recording_2015-02-24\n",
      "Skipped file. Already present: eeg_recording_2015-02-24\n",
      "Skipped file. Already present: eeg_recording_2015-02-24\n",
      "Skipped file. Already present: eeg_recording_2015-02-24\n"
     ]
    },
    {
     "name": "stderr",
     "output_type": "stream",
     "text": [
      " 20%|████████████▎                                                 | 204/1023 [13:18<1:00:04,  4.40s/it]"
     ]
    },
    {
     "name": "stdout",
     "output_type": "stream",
     "text": [
      "Skipped file. Already present: eeg_recording_2015-02-25\n",
      "Skipped file. Already present: eeg_recording_2015-02-25\n",
      "Skipped file. Already present: eeg_recording_2015-02-25\n",
      "Skipped file. Already present: eeg_recording_2015-02-25\n",
      "Skipped file. Already present: eeg_recording_2015-02-25\n"
     ]
    },
    {
     "name": "stderr",
     "output_type": "stream",
     "text": [
      " 20%|████████████▊                                                   | 205/1023 [13:22<59:44,  4.38s/it]"
     ]
    },
    {
     "name": "stdout",
     "output_type": "stream",
     "text": [
      "Skipped file. Already present: eeg_recording_2015-02-26\n",
      "Skipped file. Already present: eeg_recording_2015-02-26\n",
      "Skipped file. Already present: eeg_recording_2015-02-26\n",
      "Skipped file. Already present: eeg_recording_2015-02-26\n",
      "Skipped file. Already present: eeg_recording_2015-02-26\n"
     ]
    },
    {
     "name": "stderr",
     "output_type": "stream",
     "text": [
      " 20%|████████████▉                                                   | 206/1023 [13:26<58:09,  4.27s/it]"
     ]
    },
    {
     "name": "stdout",
     "output_type": "stream",
     "text": [
      "Skipped file. Already present: eeg_recording_2015-02-27\n",
      "Skipped file. Already present: eeg_recording_2015-02-27\n",
      "Skipped file. Already present: eeg_recording_2015-02-27\n",
      "Skipped file. Already present: eeg_recording_2015-02-27\n",
      "Skipped file. Already present: eeg_recording_2015-02-27\n"
     ]
    },
    {
     "name": "stderr",
     "output_type": "stream",
     "text": [
      " 20%|█████████████                                                   | 208/1023 [13:35<58:21,  4.30s/it]"
     ]
    },
    {
     "name": "stdout",
     "output_type": "stream",
     "text": [
      "Skipped file. Already present: eeg_recording_2015-02-28\n",
      "Skipped file. Already present: eeg_recording_2015-02-28\n",
      "Skipped file. Already present: eeg_recording_2015-02-28\n",
      "Skipped file. Already present: eeg_recording_2015-02-28\n",
      "Skipped file. Already present: eeg_recording_2015-02-28\n"
     ]
    },
    {
     "name": "stderr",
     "output_type": "stream",
     "text": [
      " 20%|█████████████                                                   | 209/1023 [13:39<58:11,  4.29s/it]"
     ]
    },
    {
     "name": "stdout",
     "output_type": "stream",
     "text": [
      "Skipped file. Already present: eeg_recording_2015-03-01\n",
      "Skipped file. Already present: eeg_recording_2015-03-01\n",
      "Skipped file. Already present: eeg_recording_2015-03-01\n",
      "Skipped file. Already present: eeg_recording_2015-03-01\n",
      "Skipped file. Already present: eeg_recording_2015-03-01\n"
     ]
    },
    {
     "name": "stderr",
     "output_type": "stream",
     "text": [
      " 21%|█████████████▏                                                  | 210/1023 [13:44<57:39,  4.25s/it]"
     ]
    },
    {
     "name": "stdout",
     "output_type": "stream",
     "text": [
      "Skipped file. Already present: eeg_recording_2015-03-02\n",
      "Skipped file. Already present: eeg_recording_2015-03-02\n",
      "Skipped file. Already present: eeg_recording_2015-03-02\n",
      "Skipped file. Already present: eeg_recording_2015-03-02\n",
      "Skipped file. Already present: eeg_recording_2015-03-02\n",
      "Skipped file. Already present: eeg_recording_2015-03-03\n",
      "Skipped file. Already present: eeg_recording_2015-03-03\n",
      "Skipped file. Already present: eeg_recording_2015-03-03\n",
      "Skipped file. Already present: eeg_recording_2015-03-03\n",
      "Skipped file. Already present: eeg_recording_2015-03-03\n"
     ]
    },
    {
     "name": "stderr",
     "output_type": "stream",
     "text": [
      " 21%|█████████████▏                                                  | 211/1023 [13:48<56:49,  4.20s/it]"
     ]
    },
    {
     "name": "stdout",
     "output_type": "stream",
     "text": [
      "Skipped file. Already present: eeg_recording_2015-03-04\n",
      "Skipped file. Already present: eeg_recording_2015-03-04\n",
      "Skipped file. Already present: eeg_recording_2015-03-04\n",
      "Skipped file. Already present: eeg_recording_2015-03-04\n",
      "Skipped file. Already present: eeg_recording_2015-03-04\n"
     ]
    },
    {
     "name": "stderr",
     "output_type": "stream",
     "text": [
      " 21%|█████████████▎                                                  | 212/1023 [13:52<55:56,  4.14s/it]"
     ]
    },
    {
     "name": "stdout",
     "output_type": "stream",
     "text": [
      "Skipped file. Already present: eeg_recording_2015-03-05\n",
      "Skipped file. Already present: eeg_recording_2015-03-05\n",
      "Skipped file. Already present: eeg_recording_2015-03-05\n",
      "Skipped file. Already present: eeg_recording_2015-03-05\n",
      "Skipped file. Already present: eeg_recording_2015-03-05\n"
     ]
    },
    {
     "name": "stderr",
     "output_type": "stream",
     "text": [
      " 21%|█████████████▎                                                  | 213/1023 [13:56<56:13,  4.17s/it]"
     ]
    },
    {
     "name": "stdout",
     "output_type": "stream",
     "text": [
      "Skipped file. Already present: eeg_recording_2015-03-06\n",
      "Skipped file. Already present: eeg_recording_2015-03-06\n",
      "Skipped file. Already present: eeg_recording_2015-03-06\n",
      "Skipped file. Already present: eeg_recording_2015-03-06\n",
      "Skipped file. Already present: eeg_recording_2015-03-06\n"
     ]
    },
    {
     "name": "stderr",
     "output_type": "stream",
     "text": [
      " 21%|█████████████▍                                                  | 214/1023 [14:00<55:36,  4.12s/it]"
     ]
    },
    {
     "name": "stdout",
     "output_type": "stream",
     "text": [
      "Skipped file. Already present: eeg_recording_2015-03-07\n",
      "Skipped file. Already present: eeg_recording_2015-03-07\n",
      "Skipped file. Already present: eeg_recording_2015-03-07\n",
      "Skipped file. Already present: eeg_recording_2015-03-07\n",
      "Skipped file. Already present: eeg_recording_2015-03-07\n"
     ]
    },
    {
     "name": "stderr",
     "output_type": "stream",
     "text": [
      " 21%|█████████████▍                                                  | 215/1023 [14:04<55:02,  4.09s/it]"
     ]
    },
    {
     "name": "stdout",
     "output_type": "stream",
     "text": [
      "Skipped file. Already present: eeg_recording_2015-03-08\n",
      "Skipped file. Already present: eeg_recording_2015-03-08\n",
      "Skipped file. Already present: eeg_recording_2015-03-08\n",
      "Skipped file. Already present: eeg_recording_2015-03-08\n",
      "Skipped file. Already present: eeg_recording_2015-03-08\n"
     ]
    },
    {
     "name": "stderr",
     "output_type": "stream",
     "text": [
      " 21%|█████████████▌                                                  | 216/1023 [14:08<54:44,  4.07s/it]"
     ]
    },
    {
     "name": "stdout",
     "output_type": "stream",
     "text": [
      "Skipped file. Already present: eeg_recording_2015-03-09\n",
      "Skipped file. Already present: eeg_recording_2015-03-09\n",
      "Skipped file. Already present: eeg_recording_2015-03-09\n",
      "Skipped file. Already present: eeg_recording_2015-03-09\n",
      "Skipped file. Already present: eeg_recording_2015-03-09\n"
     ]
    },
    {
     "name": "stderr",
     "output_type": "stream",
     "text": [
      " 21%|█████████████▌                                                  | 217/1023 [14:12<54:17,  4.04s/it]"
     ]
    },
    {
     "name": "stdout",
     "output_type": "stream",
     "text": [
      "Skipped file. Already present: eeg_recording_2015-03-10\n",
      "Skipped file. Already present: eeg_recording_2015-03-10\n",
      "Skipped file. Already present: eeg_recording_2015-03-10\n",
      "Skipped file. Already present: eeg_recording_2015-03-10\n",
      "Skipped file. Already present: eeg_recording_2015-03-10\n",
      "Skipped file. Already present: eeg_recording_2015-03-10\n"
     ]
    },
    {
     "name": "stderr",
     "output_type": "stream",
     "text": [
      " 21%|█████████████▋                                                  | 218/1023 [14:16<55:52,  4.16s/it]"
     ]
    },
    {
     "name": "stdout",
     "output_type": "stream",
     "text": [
      "Skipped file. Already present: eeg_recording_2015-03-11\n",
      "Skipped file. Already present: eeg_recording_2015-03-11\n",
      "Skipped file. Already present: eeg_recording_2015-03-11\n",
      "Skipped file. Already present: eeg_recording_2015-03-11\n",
      "Skipped file. Already present: eeg_recording_2015-03-11\n",
      "Skipped file. Already present: eeg_recording_2015-03-11\n"
     ]
    },
    {
     "name": "stderr",
     "output_type": "stream",
     "text": [
      " 21%|█████████████▋                                                  | 219/1023 [14:20<55:48,  4.16s/it]"
     ]
    },
    {
     "name": "stdout",
     "output_type": "stream",
     "text": [
      "Skipped file. Already present: eeg_recording_2015-03-12\n",
      "Skipped file. Already present: eeg_recording_2015-03-12\n",
      "Skipped file. Already present: eeg_recording_2015-03-12\n",
      "Skipped file. Already present: eeg_recording_2015-03-12\n",
      "Skipped file. Already present: eeg_recording_2015-03-12\n",
      "Skipped file. Already present: eeg_recording_2015-03-12\n"
     ]
    },
    {
     "name": "stderr",
     "output_type": "stream",
     "text": [
      " 22%|█████████████▊                                                  | 220/1023 [14:25<56:34,  4.23s/it]"
     ]
    },
    {
     "name": "stdout",
     "output_type": "stream",
     "text": [
      "Skipped file. Already present: eeg_recording_2015-03-13\n",
      "Skipped file. Already present: eeg_recording_2015-03-13\n",
      "Skipped file. Already present: eeg_recording_2015-03-13\n",
      "Skipped file. Already present: eeg_recording_2015-03-13\n",
      "Skipped file. Already present: eeg_recording_2015-03-13\n",
      "Skipped file. Already present: eeg_recording_2015-03-13\n",
      "Skipped file. Already present: eeg_recording_2015-03-13\n"
     ]
    },
    {
     "name": "stderr",
     "output_type": "stream",
     "text": [
      " 22%|█████████████▊                                                  | 221/1023 [14:30<58:38,  4.39s/it]"
     ]
    },
    {
     "name": "stdout",
     "output_type": "stream",
     "text": [
      "Skipped file. Already present: eeg_recording_2015-03-14\n",
      "Skipped file. Already present: eeg_recording_2015-03-14\n",
      "Skipped file. Already present: eeg_recording_2015-03-14\n",
      "Skipped file. Already present: eeg_recording_2015-03-14\n",
      "Skipped file. Already present: eeg_recording_2015-03-14\n",
      "Skipped file. Already present: eeg_recording_2015-03-14\n",
      "Skipped file. Already present: eeg_recording_2015-03-14\n"
     ]
    },
    {
     "name": "stderr",
     "output_type": "stream",
     "text": [
      " 22%|█████████████▍                                                | 222/1023 [14:35<1:00:31,  4.53s/it]"
     ]
    },
    {
     "name": "stdout",
     "output_type": "stream",
     "text": [
      "Skipped file. Already present: eeg_recording_2015-03-15\n",
      "Skipped file. Already present: eeg_recording_2015-03-15\n",
      "Skipped file. Already present: eeg_recording_2015-03-15\n",
      "Skipped file. Already present: eeg_recording_2015-03-15\n",
      "Skipped file. Already present: eeg_recording_2015-03-15\n",
      "Skipped file. Already present: eeg_recording_2015-03-15\n",
      "Skipped file. Already present: eeg_recording_2015-03-15\n"
     ]
    },
    {
     "name": "stderr",
     "output_type": "stream",
     "text": [
      " 22%|█████████████▌                                                | 223/1023 [14:39<1:01:28,  4.61s/it]"
     ]
    },
    {
     "name": "stdout",
     "output_type": "stream",
     "text": [
      "Skipped file. Already present: eeg_recording_2015-03-16\n",
      "Skipped file. Already present: eeg_recording_2015-03-16\n",
      "Skipped file. Already present: eeg_recording_2015-03-16\n",
      "Skipped file. Already present: eeg_recording_2015-03-16\n",
      "Skipped file. Already present: eeg_recording_2015-03-16\n",
      "Skipped file. Already present: eeg_recording_2015-03-16\n",
      "Skipped file. Already present: eeg_recording_2015-03-16\n"
     ]
    },
    {
     "name": "stderr",
     "output_type": "stream",
     "text": [
      " 22%|█████████████▌                                                | 224/1023 [14:44<1:02:24,  4.69s/it]"
     ]
    },
    {
     "name": "stdout",
     "output_type": "stream",
     "text": [
      "Skipped file. Already present: eeg_recording_2015-03-17\n",
      "Skipped file. Already present: eeg_recording_2015-03-17\n",
      "Skipped file. Already present: eeg_recording_2015-03-17\n",
      "Skipped file. Already present: eeg_recording_2015-03-17\n",
      "Skipped file. Already present: eeg_recording_2015-03-17\n",
      "Skipped file. Already present: eeg_recording_2015-03-17\n",
      "Skipped file. Already present: eeg_recording_2015-03-17\n"
     ]
    },
    {
     "name": "stderr",
     "output_type": "stream",
     "text": [
      " 22%|█████████████▋                                                | 226/1023 [14:54<1:03:17,  4.77s/it]"
     ]
    },
    {
     "name": "stdout",
     "output_type": "stream",
     "text": [
      "Skipped file. Already present: eeg_recording_2015-03-18\n",
      "Skipped file. Already present: eeg_recording_2015-03-18\n",
      "Skipped file. Already present: eeg_recording_2015-03-18\n"
     ]
    },
    {
     "name": "stderr",
     "output_type": "stream",
     "text": [
      " 22%|██████████████▏                                                 | 227/1023 [14:57<56:54,  4.29s/it]"
     ]
    },
    {
     "name": "stdout",
     "output_type": "stream",
     "text": [
      "Skipped file. Already present: eeg_recording_2015-03-19\n",
      "Skipped file. Already present: eeg_recording_2015-03-19\n",
      "Skipped file. Already present: eeg_recording_2015-03-19\n",
      "Skipped file. Already present: eeg_recording_2015-03-19\n",
      "Skipped file. Already present: eeg_recording_2015-03-20\n",
      "Skipped file. Already present: eeg_recording_2015-03-20\n",
      "Skipped file. Already present: eeg_recording_2015-03-20\n",
      "Skipped file. Already present: eeg_recording_2015-03-20\n",
      "Skipped file. Already present: eeg_recording_2015-03-20\n",
      "Skipped file. Already present: eeg_recording_2015-03-20\n",
      "Skipped file. Already present: eeg_recording_2015-03-20\n"
     ]
    },
    {
     "name": "stderr",
     "output_type": "stream",
     "text": [
      " 22%|██████████████▎                                                 | 228/1023 [15:02<59:11,  4.47s/it]"
     ]
    },
    {
     "name": "stdout",
     "output_type": "stream",
     "text": [
      "Skipped file. Already present: eeg_recording_2015-03-21\n",
      "Skipped file. Already present: eeg_recording_2015-03-21\n",
      "Skipped file. Already present: eeg_recording_2015-03-21\n",
      "Skipped file. Already present: eeg_recording_2015-03-21\n",
      "Skipped file. Already present: eeg_recording_2015-03-21\n",
      "Skipped file. Already present: eeg_recording_2015-03-21\n",
      "Skipped file. Already present: eeg_recording_2015-03-21\n"
     ]
    },
    {
     "name": "stderr",
     "output_type": "stream",
     "text": [
      " 22%|█████████████▉                                                | 229/1023 [15:07<1:00:27,  4.57s/it]"
     ]
    },
    {
     "name": "stdout",
     "output_type": "stream",
     "text": [
      "Skipped file. Already present: eeg_recording_2015-03-22\n",
      "Skipped file. Already present: eeg_recording_2015-03-22\n",
      "Skipped file. Already present: eeg_recording_2015-03-22\n",
      "Skipped file. Already present: eeg_recording_2015-03-22\n",
      "Skipped file. Already present: eeg_recording_2015-03-22\n",
      "Skipped file. Already present: eeg_recording_2015-03-22\n",
      "Skipped file. Already present: eeg_recording_2015-03-22\n"
     ]
    },
    {
     "name": "stderr",
     "output_type": "stream",
     "text": [
      " 22%|█████████████▉                                                | 230/1023 [15:12<1:01:38,  4.66s/it]"
     ]
    },
    {
     "name": "stdout",
     "output_type": "stream",
     "text": [
      "Skipped file. Already present: eeg_recording_2015-03-23\n",
      "Skipped file. Already present: eeg_recording_2015-03-23\n",
      "Skipped file. Already present: eeg_recording_2015-03-23\n",
      "Skipped file. Already present: eeg_recording_2015-03-23\n",
      "Skipped file. Already present: eeg_recording_2015-03-23\n",
      "Skipped file. Already present: eeg_recording_2015-03-23\n",
      "Skipped file. Already present: eeg_recording_2015-03-23\n"
     ]
    },
    {
     "name": "stderr",
     "output_type": "stream",
     "text": [
      " 23%|██████████████                                                | 231/1023 [15:17<1:02:45,  4.75s/it]"
     ]
    },
    {
     "name": "stdout",
     "output_type": "stream",
     "text": [
      "Skipped file. Already present: eeg_recording_2015-03-24\n",
      "Skipped file. Already present: eeg_recording_2015-03-24\n",
      "Skipped file. Already present: eeg_recording_2015-03-24\n",
      "Skipped file. Already present: eeg_recording_2015-03-24\n",
      "Skipped file. Already present: eeg_recording_2015-03-24\n",
      "Skipped file. Already present: eeg_recording_2015-03-24\n",
      "Skipped file. Already present: eeg_recording_2015-03-24\n"
     ]
    },
    {
     "name": "stderr",
     "output_type": "stream",
     "text": [
      " 23%|██████████████                                                | 232/1023 [15:22<1:04:46,  4.91s/it]"
     ]
    },
    {
     "name": "stdout",
     "output_type": "stream",
     "text": [
      "Skipped file. Already present: eeg_recording_2015-03-25\n",
      "Skipped file. Already present: eeg_recording_2015-03-25\n",
      "Skipped file. Already present: eeg_recording_2015-03-25\n",
      "Skipped file. Already present: eeg_recording_2015-03-25\n",
      "Skipped file. Already present: eeg_recording_2015-03-25\n",
      "Skipped file. Already present: eeg_recording_2015-03-25\n",
      "Skipped file. Already present: eeg_recording_2015-03-25\n"
     ]
    },
    {
     "name": "stderr",
     "output_type": "stream",
     "text": [
      " 23%|██████████████                                                | 233/1023 [15:27<1:06:11,  5.03s/it]"
     ]
    },
    {
     "name": "stdout",
     "output_type": "stream",
     "text": [
      "Skipped file. Already present: eeg_recording_2015-03-26\n",
      "Skipped file. Already present: eeg_recording_2015-03-26\n",
      "Skipped file. Already present: eeg_recording_2015-03-26\n",
      "Skipped file. Already present: eeg_recording_2015-03-26\n",
      "Skipped file. Already present: eeg_recording_2015-03-26\n",
      "Skipped file. Already present: eeg_recording_2015-03-26\n",
      "Skipped file. Already present: eeg_recording_2015-03-26\n"
     ]
    },
    {
     "name": "stderr",
     "output_type": "stream",
     "text": [
      " 23%|██████████████▏                                               | 234/1023 [15:32<1:06:39,  5.07s/it]"
     ]
    },
    {
     "name": "stdout",
     "output_type": "stream",
     "text": [
      "Skipped file. Already present: eeg_recording_2015-03-27\n",
      "Skipped file. Already present: eeg_recording_2015-03-27\n",
      "Skipped file. Already present: eeg_recording_2015-03-27\n",
      "Skipped file. Already present: eeg_recording_2015-03-27\n",
      "Skipped file. Already present: eeg_recording_2015-03-27\n",
      "Skipped file. Already present: eeg_recording_2015-03-27\n"
     ]
    },
    {
     "name": "stderr",
     "output_type": "stream",
     "text": [
      " 23%|██████████████▏                                               | 235/1023 [15:38<1:07:26,  5.13s/it]"
     ]
    },
    {
     "name": "stdout",
     "output_type": "stream",
     "text": [
      "Skipped file. Already present: eeg_recording_2015-03-28\n",
      "Skipped file. Already present: eeg_recording_2015-03-28\n",
      "Skipped file. Already present: eeg_recording_2015-03-28\n",
      "Skipped file. Already present: eeg_recording_2015-03-28\n",
      "Skipped file. Already present: eeg_recording_2015-03-28\n",
      "Skipped file. Already present: eeg_recording_2015-03-28\n"
     ]
    },
    {
     "name": "stderr",
     "output_type": "stream",
     "text": [
      " 23%|██████████████▎                                               | 236/1023 [15:43<1:07:44,  5.16s/it]"
     ]
    },
    {
     "name": "stdout",
     "output_type": "stream",
     "text": [
      "Skipped file. Already present: eeg_recording_2015-03-29\n",
      "Skipped file. Already present: eeg_recording_2015-03-29\n",
      "Skipped file. Already present: eeg_recording_2015-03-29\n",
      "Skipped file. Already present: eeg_recording_2015-03-29\n",
      "Skipped file. Already present: eeg_recording_2015-03-29\n",
      "Skipped file. Already present: eeg_recording_2015-03-29\n"
     ]
    },
    {
     "name": "stderr",
     "output_type": "stream",
     "text": [
      " 23%|██████████████▎                                               | 237/1023 [15:48<1:07:23,  5.14s/it]"
     ]
    },
    {
     "name": "stdout",
     "output_type": "stream",
     "text": [
      "Skipped file. Already present: eeg_recording_2015-03-30\n",
      "Skipped file. Already present: eeg_recording_2015-03-30\n",
      "Skipped file. Already present: eeg_recording_2015-03-30\n",
      "Skipped file. Already present: eeg_recording_2015-03-30\n",
      "Skipped file. Already present: eeg_recording_2015-03-30\n",
      "Skipped file. Already present: eeg_recording_2015-03-30\n"
     ]
    },
    {
     "name": "stderr",
     "output_type": "stream",
     "text": [
      " 23%|██████████████▍                                               | 238/1023 [15:53<1:07:31,  5.16s/it]"
     ]
    },
    {
     "name": "stdout",
     "output_type": "stream",
     "text": [
      "Skipped file. Already present: eeg_recording_2015-03-31\n",
      "Skipped file. Already present: eeg_recording_2015-03-31\n",
      "Skipped file. Already present: eeg_recording_2015-03-31\n",
      "Skipped file. Already present: eeg_recording_2015-03-31\n",
      "Skipped file. Already present: eeg_recording_2015-03-31\n",
      "Skipped file. Already present: eeg_recording_2015-03-31\n"
     ]
    },
    {
     "name": "stderr",
     "output_type": "stream",
     "text": [
      " 23%|██████████████▍                                               | 239/1023 [15:58<1:07:55,  5.20s/it]"
     ]
    },
    {
     "name": "stdout",
     "output_type": "stream",
     "text": [
      "Skipped file. Already present: eeg_recording_2015-04-01\n",
      "Skipped file. Already present: eeg_recording_2015-04-01\n",
      "Skipped file. Already present: eeg_recording_2015-04-01\n",
      "Skipped file. Already present: eeg_recording_2015-04-01\n",
      "Skipped file. Already present: eeg_recording_2015-04-01\n"
     ]
    },
    {
     "name": "stderr",
     "output_type": "stream",
     "text": [
      " 23%|██████████████▌                                               | 240/1023 [16:03<1:07:07,  5.14s/it]"
     ]
    },
    {
     "name": "stdout",
     "output_type": "stream",
     "text": [
      "[Errno 2] No such file or directory: '/home/jovyan/work/data/PPS_data_raw/EDF_yolo_2015-04-02.zip'\n",
      "Skipped file. Already present: eeg_recording_2015-04-03\n",
      "Skipped file. Already present: eeg_recording_2015-04-03\n",
      "Skipped file. Already present: eeg_recording_2015-04-03\n",
      "Skipped file. Already present: eeg_recording_2015-04-03\n",
      "Skipped file. Already present: eeg_recording_2015-04-03\n",
      "Skipped file. Already present: eeg_recording_2015-04-03\n"
     ]
    },
    {
     "name": "stderr",
     "output_type": "stream",
     "text": [
      " 24%|███████████████▏                                                | 242/1023 [16:09<51:29,  3.96s/it]"
     ]
    },
    {
     "name": "stdout",
     "output_type": "stream",
     "text": [
      "Skipped file. Already present: eeg_recording_2015-04-04\n",
      "Skipped file. Already present: eeg_recording_2015-04-04\n",
      "Skipped file. Already present: eeg_recording_2015-04-04\n",
      "Skipped file. Already present: eeg_recording_2015-04-04\n",
      "Skipped file. Already present: eeg_recording_2015-04-04\n",
      "Skipped file. Already present: eeg_recording_2015-04-04\n"
     ]
    },
    {
     "name": "stderr",
     "output_type": "stream",
     "text": [
      " 24%|███████████████▏                                                | 243/1023 [16:14<54:39,  4.20s/it]"
     ]
    },
    {
     "name": "stdout",
     "output_type": "stream",
     "text": [
      "Skipped file. Already present: eeg_recording_2015-04-05\n",
      "Skipped file. Already present: eeg_recording_2015-04-05\n",
      "Skipped file. Already present: eeg_recording_2015-04-05\n",
      "Skipped file. Already present: eeg_recording_2015-04-05\n",
      "Skipped file. Already present: eeg_recording_2015-04-05\n",
      "Skipped file. Already present: eeg_recording_2015-04-05\n"
     ]
    },
    {
     "name": "stderr",
     "output_type": "stream",
     "text": [
      " 24%|███████████████▎                                                | 244/1023 [16:19<57:20,  4.42s/it]"
     ]
    },
    {
     "name": "stdout",
     "output_type": "stream",
     "text": [
      "Skipped file. Already present: eeg_recording_2015-04-06\n",
      "Skipped file. Already present: eeg_recording_2015-04-06\n",
      "Skipped file. Already present: eeg_recording_2015-04-06\n",
      "Skipped file. Already present: eeg_recording_2015-04-06\n",
      "Skipped file. Already present: eeg_recording_2015-04-06\n",
      "Skipped file. Already present: eeg_recording_2015-04-06\n"
     ]
    },
    {
     "name": "stderr",
     "output_type": "stream",
     "text": [
      " 24%|███████████████▎                                                | 245/1023 [16:24<59:14,  4.57s/it]"
     ]
    },
    {
     "name": "stdout",
     "output_type": "stream",
     "text": [
      "Skipped file. Already present: eeg_recording_2015-04-07\n",
      "Skipped file. Already present: eeg_recording_2015-04-07\n",
      "Skipped file. Already present: eeg_recording_2015-04-07\n",
      "Skipped file. Already present: eeg_recording_2015-04-07\n",
      "Skipped file. Already present: eeg_recording_2015-04-07\n",
      "Skipped file. Already present: eeg_recording_2015-04-07\n"
     ]
    },
    {
     "name": "stderr",
     "output_type": "stream",
     "text": [
      " 24%|██████████████▉                                               | 246/1023 [16:28<1:00:24,  4.67s/it]"
     ]
    },
    {
     "name": "stdout",
     "output_type": "stream",
     "text": [
      "Skipped file. Already present: eeg_recording_2015-04-08\n",
      "Skipped file. Already present: eeg_recording_2015-04-08\n",
      "Skipped file. Already present: eeg_recording_2015-04-08\n",
      "Skipped file. Already present: eeg_recording_2015-04-08\n",
      "Skipped file. Already present: eeg_recording_2015-04-08\n",
      "Skipped file. Already present: eeg_recording_2015-04-08\n",
      "Skipped file. Already present: eeg_recording_2015-04-08\n"
     ]
    },
    {
     "name": "stderr",
     "output_type": "stream",
     "text": [
      " 24%|██████████████▉                                               | 247/1023 [16:34<1:02:00,  4.79s/it]"
     ]
    },
    {
     "name": "stdout",
     "output_type": "stream",
     "text": [
      "Skipped file. Already present: eeg_recording_2015-04-08\n",
      "Skipped file. Already present: eeg_recording_2015-04-09\n",
      "Skipped file. Already present: eeg_recording_2015-04-09\n",
      "Skipped file. Already present: eeg_recording_2015-04-09\n",
      "Skipped file. Already present: eeg_recording_2015-04-09\n",
      "Skipped file. Already present: eeg_recording_2015-04-09\n",
      "Skipped file. Already present: eeg_recording_2015-04-09\n",
      "Skipped file. Already present: eeg_recording_2015-04-09\n"
     ]
    },
    {
     "name": "stderr",
     "output_type": "stream",
     "text": [
      " 24%|███████████████                                               | 248/1023 [16:38<1:01:50,  4.79s/it]"
     ]
    },
    {
     "name": "stdout",
     "output_type": "stream",
     "text": [
      "Skipped file. Already present: eeg_recording_2015-04-10\n",
      "Skipped file. Already present: eeg_recording_2015-04-10\n",
      "Skipped file. Already present: eeg_recording_2015-04-10\n",
      "Skipped file. Already present: eeg_recording_2015-04-10\n",
      "Skipped file. Already present: eeg_recording_2015-04-10\n",
      "Skipped file. Already present: eeg_recording_2015-04-10\n",
      "Skipped file. Already present: eeg_recording_2015-04-10\n"
     ]
    },
    {
     "name": "stderr",
     "output_type": "stream",
     "text": [
      " 24%|███████████████                                               | 249/1023 [16:43<1:02:26,  4.84s/it]"
     ]
    },
    {
     "name": "stdout",
     "output_type": "stream",
     "text": [
      "Skipped file. Already present: eeg_recording_2015-04-11\n",
      "Skipped file. Already present: eeg_recording_2015-04-11\n",
      "Skipped file. Already present: eeg_recording_2015-04-11\n",
      "Skipped file. Already present: eeg_recording_2015-04-11\n",
      "Skipped file. Already present: eeg_recording_2015-04-11\n",
      "Skipped file. Already present: eeg_recording_2015-04-11\n",
      "Skipped file. Already present: eeg_recording_2015-04-11\n"
     ]
    },
    {
     "name": "stderr",
     "output_type": "stream",
     "text": [
      " 24%|███████████████▏                                              | 250/1023 [16:48<1:02:39,  4.86s/it]"
     ]
    },
    {
     "name": "stdout",
     "output_type": "stream",
     "text": [
      "Skipped file. Already present: eeg_recording_2015-04-12\n",
      "Skipped file. Already present: eeg_recording_2015-04-12\n",
      "Skipped file. Already present: eeg_recording_2015-04-12\n",
      "Skipped file. Already present: eeg_recording_2015-04-12\n",
      "Skipped file. Already present: eeg_recording_2015-04-12\n",
      "Skipped file. Already present: eeg_recording_2015-04-12\n",
      "Skipped file. Already present: eeg_recording_2015-04-12\n"
     ]
    },
    {
     "name": "stderr",
     "output_type": "stream",
     "text": [
      " 25%|███████████████▏                                              | 251/1023 [16:53<1:02:33,  4.86s/it]"
     ]
    },
    {
     "name": "stdout",
     "output_type": "stream",
     "text": [
      "Skipped file. Already present: eeg_recording_2015-04-13\n",
      "Skipped file. Already present: eeg_recording_2015-04-13\n",
      "Skipped file. Already present: eeg_recording_2015-04-13\n",
      "Skipped file. Already present: eeg_recording_2015-04-13\n",
      "Skipped file. Already present: eeg_recording_2015-04-13\n",
      "Skipped file. Already present: eeg_recording_2015-04-13\n",
      "Skipped file. Already present: eeg_recording_2015-04-13\n"
     ]
    },
    {
     "name": "stderr",
     "output_type": "stream",
     "text": [
      " 25%|███████████████▎                                              | 252/1023 [16:58<1:03:22,  4.93s/it]"
     ]
    },
    {
     "name": "stdout",
     "output_type": "stream",
     "text": [
      "Skipped file. Already present: eeg_recording_2015-04-14\n",
      "Skipped file. Already present: eeg_recording_2015-04-14\n",
      "Skipped file. Already present: eeg_recording_2015-04-14\n",
      "Skipped file. Already present: eeg_recording_2015-04-14\n",
      "Skipped file. Already present: eeg_recording_2015-04-14\n",
      "Skipped file. Already present: eeg_recording_2015-04-14\n",
      "Skipped file. Already present: eeg_recording_2015-04-14\n",
      "Skipped file. Already present: eeg_recording_2015-04-14\n"
     ]
    },
    {
     "name": "stderr",
     "output_type": "stream",
     "text": [
      " 25%|███████████████▎                                              | 253/1023 [17:03<1:04:12,  5.00s/it]"
     ]
    },
    {
     "name": "stdout",
     "output_type": "stream",
     "text": [
      "Skipped file. Already present: eeg_recording_2015-04-15\n",
      "Skipped file. Already present: eeg_recording_2015-04-15\n",
      "Skipped file. Already present: eeg_recording_2015-04-15\n",
      "Skipped file. Already present: eeg_recording_2015-04-15\n",
      "Skipped file. Already present: eeg_recording_2015-04-15\n",
      "Skipped file. Already present: eeg_recording_2015-04-15\n",
      "Skipped file. Already present: eeg_recording_2015-04-15\n",
      "Skipped file. Already present: eeg_recording_2015-04-15\n"
     ]
    },
    {
     "name": "stderr",
     "output_type": "stream",
     "text": [
      " 25%|███████████████▍                                              | 255/1023 [17:13<1:03:02,  4.92s/it]"
     ]
    },
    {
     "name": "stdout",
     "output_type": "stream",
     "text": [
      "Skipped file. Already present: eeg_recording_2015-04-16\n",
      "Skipped file. Already present: eeg_recording_2015-04-16\n",
      "Skipped file. Already present: eeg_recording_2015-04-17\n",
      "Skipped file. Already present: eeg_recording_2015-04-17\n",
      "Skipped file. Already present: eeg_recording_2015-04-17\n",
      "Skipped file. Already present: eeg_recording_2015-04-17\n",
      "Skipped file. Already present: eeg_recording_2015-04-17\n",
      "Skipped file. Already present: eeg_recording_2015-04-17\n",
      "Skipped file. Already present: eeg_recording_2015-04-17\n",
      "Skipped file. Already present: eeg_recording_2015-04-17\n"
     ]
    },
    {
     "name": "stderr",
     "output_type": "stream",
     "text": [
      " 25%|███████████████▌                                              | 256/1023 [17:18<1:02:49,  4.91s/it]"
     ]
    },
    {
     "name": "stdout",
     "output_type": "stream",
     "text": [
      "Skipped file. Already present: eeg_recording_2015-04-18\n",
      "Skipped file. Already present: eeg_recording_2015-04-18\n",
      "Skipped file. Already present: eeg_recording_2015-04-18\n",
      "Skipped file. Already present: eeg_recording_2015-04-18\n",
      "Skipped file. Already present: eeg_recording_2015-04-18\n",
      "Skipped file. Already present: eeg_recording_2015-04-18\n",
      "Skipped file. Already present: eeg_recording_2015-04-18\n",
      "Skipped file. Already present: eeg_recording_2015-04-18\n"
     ]
    },
    {
     "name": "stderr",
     "output_type": "stream",
     "text": [
      " 25%|███████████████▌                                              | 257/1023 [17:23<1:02:32,  4.90s/it]"
     ]
    },
    {
     "name": "stdout",
     "output_type": "stream",
     "text": [
      "[Errno 2] No such file or directory: '/home/jovyan/work/data/PPS_data_raw/EDF_yolo_2015-04-19.zip'\n",
      "[Errno 2] No such file or directory: '/home/jovyan/work/data/PPS_data_raw/EDF_yolo_2015-04-20.zip'\n",
      "[Errno 2] No such file or directory: '/home/jovyan/work/data/PPS_data_raw/EDF_yolo_2015-04-21.zip'\n",
      "Skipped file. Already present: eeg_recording_2015-04-22\n",
      "Skipped file. Already present: eeg_recording_2015-04-22\n",
      "Skipped file. Already present: eeg_recording_2015-04-22\n",
      "Skipped file. Already present: eeg_recording_2015-04-22\n",
      "Skipped file. Already present: eeg_recording_2015-04-22\n",
      "Skipped file. Already present: eeg_recording_2015-04-22\n",
      "Skipped file. Already present: eeg_recording_2015-04-22\n"
     ]
    },
    {
     "name": "stderr",
     "output_type": "stream",
     "text": [
      " 26%|████████████████▎                                               | 261/1023 [17:28<33:08,  2.61s/it]"
     ]
    },
    {
     "name": "stdout",
     "output_type": "stream",
     "text": [
      "[Errno 2] No such file or directory: '/home/jovyan/work/data/PPS_data_raw/EDF_yolo_2015-04-23.zip'\n",
      "[Errno 2] No such file or directory: '/home/jovyan/work/data/PPS_data_raw/EDF_yolo_2015-04-24.zip'\n",
      "[Errno 2] No such file or directory: '/home/jovyan/work/data/PPS_data_raw/EDF_yolo_2015-04-25.zip'\n",
      "[Errno 2] No such file or directory: '/home/jovyan/work/data/PPS_data_raw/EDF_yolo_2015-04-26.zip'\n",
      "[Errno 2] No such file or directory: '/home/jovyan/work/data/PPS_data_raw/EDF_yolo_2015-04-27.zip'\n",
      "[Errno 2] No such file or directory: '/home/jovyan/work/data/PPS_data_raw/EDF_yolo_2015-04-28.zip'\n",
      "[Errno 2] No such file or directory: '/home/jovyan/work/data/PPS_data_raw/EDF_yolo_2015-04-29.zip'\n",
      "[Errno 2] No such file or directory: '/home/jovyan/work/data/PPS_data_raw/EDF_yolo_2015-04-30.zip'\n",
      "Skipped file. Already present: eeg_recording_2015-05-01\n",
      "Skipped file. Already present: eeg_recording_2015-05-01\n",
      "Skipped file. Already present: eeg_recording_2015-05-01\n",
      "Skipped file. Already present: eeg_recording_2015-05-01\n",
      "Skipped file. Already present: eeg_recording_2015-05-01\n",
      "Skipped file. Already present: eeg_recording_2015-05-01\n",
      "Skipped file. Already present: eeg_recording_2015-05-01\n"
     ]
    },
    {
     "name": "stderr",
     "output_type": "stream",
     "text": [
      " 26%|████████████████▉                                               | 270/1023 [17:33<15:47,  1.26s/it]"
     ]
    },
    {
     "name": "stdout",
     "output_type": "stream",
     "text": [
      "Skipped file. Already present: eeg_recording_2015-05-02\n",
      "Skipped file. Already present: eeg_recording_2015-05-02\n",
      "Skipped file. Already present: eeg_recording_2015-05-02\n",
      "Skipped file. Already present: eeg_recording_2015-05-02\n",
      "Skipped file. Already present: eeg_recording_2015-05-02\n",
      "Skipped file. Already present: eeg_recording_2015-05-02\n",
      "Skipped file. Already present: eeg_recording_2015-05-02\n"
     ]
    },
    {
     "name": "stderr",
     "output_type": "stream",
     "text": [
      " 26%|████████████████▉                                               | 271/1023 [17:38<20:25,  1.63s/it]"
     ]
    },
    {
     "name": "stdout",
     "output_type": "stream",
     "text": [
      "Skipped file. Already present: eeg_recording_2015-05-03\n",
      "Skipped file. Already present: eeg_recording_2015-05-03\n",
      "Skipped file. Already present: eeg_recording_2015-05-03\n",
      "Skipped file. Already present: eeg_recording_2015-05-03\n",
      "Skipped file. Already present: eeg_recording_2015-05-03\n",
      "Skipped file. Already present: eeg_recording_2015-05-03\n",
      "Skipped file. Already present: eeg_recording_2015-05-03\n"
     ]
    },
    {
     "name": "stderr",
     "output_type": "stream",
     "text": [
      " 27%|█████████████████                                               | 272/1023 [17:44<26:06,  2.09s/it]"
     ]
    },
    {
     "name": "stdout",
     "output_type": "stream",
     "text": [
      "Skipped file. Already present: eeg_recording_2015-05-04\n",
      "Skipped file. Already present: eeg_recording_2015-05-04\n",
      "Skipped file. Already present: eeg_recording_2015-05-04\n",
      "Skipped file. Already present: eeg_recording_2015-05-04\n",
      "Skipped file. Already present: eeg_recording_2015-05-04\n",
      "Skipped file. Already present: eeg_recording_2015-05-04\n",
      "Skipped file. Already present: eeg_recording_2015-05-04\n"
     ]
    },
    {
     "name": "stderr",
     "output_type": "stream",
     "text": [
      " 27%|█████████████████                                               | 273/1023 [17:49<31:25,  2.51s/it]"
     ]
    },
    {
     "name": "stdout",
     "output_type": "stream",
     "text": [
      "Skipped file. Already present: eeg_recording_2015-05-05\n",
      "Skipped file. Already present: eeg_recording_2015-05-05\n",
      "Skipped file. Already present: eeg_recording_2015-05-05\n",
      "Skipped file. Already present: eeg_recording_2015-05-05\n",
      "Skipped file. Already present: eeg_recording_2015-05-05\n",
      "Skipped file. Already present: eeg_recording_2015-05-05\n"
     ]
    },
    {
     "name": "stderr",
     "output_type": "stream",
     "text": [
      " 27%|█████████████████▏                                              | 274/1023 [17:54<36:22,  2.91s/it]"
     ]
    },
    {
     "name": "stdout",
     "output_type": "stream",
     "text": [
      "Skipped file. Already present: eeg_recording_2015-05-06\n",
      "Skipped file. Already present: eeg_recording_2015-05-06\n",
      "Skipped file. Already present: eeg_recording_2015-05-06\n",
      "Skipped file. Already present: eeg_recording_2015-05-06\n",
      "Skipped file. Already present: eeg_recording_2015-05-06\n",
      "Skipped file. Already present: eeg_recording_2015-05-06\n"
     ]
    },
    {
     "name": "stderr",
     "output_type": "stream",
     "text": [
      " 27%|█████████████████▏                                              | 275/1023 [17:58<40:46,  3.27s/it]"
     ]
    },
    {
     "name": "stdout",
     "output_type": "stream",
     "text": [
      "Skipped file. Already present: eeg_recording_2015-05-07\n",
      "Skipped file. Already present: eeg_recording_2015-05-07\n",
      "Skipped file. Already present: eeg_recording_2015-05-07\n",
      "Skipped file. Already present: eeg_recording_2015-05-07\n",
      "Skipped file. Already present: eeg_recording_2015-05-07\n",
      "Skipped file. Already present: eeg_recording_2015-05-07\n"
     ]
    },
    {
     "name": "stderr",
     "output_type": "stream",
     "text": [
      " 27%|█████████████████▎                                              | 276/1023 [18:03<44:51,  3.60s/it]"
     ]
    },
    {
     "name": "stdout",
     "output_type": "stream",
     "text": [
      "Skipped file. Already present: eeg_recording_2015-05-08\n",
      "Skipped file. Already present: eeg_recording_2015-05-08\n",
      "Skipped file. Already present: eeg_recording_2015-05-08\n",
      "Skipped file. Already present: eeg_recording_2015-05-08\n",
      "Skipped file. Already present: eeg_recording_2015-05-08\n",
      "Skipped file. Already present: eeg_recording_2015-05-08\n"
     ]
    },
    {
     "name": "stderr",
     "output_type": "stream",
     "text": [
      " 27%|█████████████████▎                                              | 277/1023 [18:08<47:29,  3.82s/it]"
     ]
    },
    {
     "name": "stdout",
     "output_type": "stream",
     "text": [
      "Skipped file. Already present: eeg_recording_2015-05-09\n",
      "Skipped file. Already present: eeg_recording_2015-05-09\n",
      "Skipped file. Already present: eeg_recording_2015-05-09\n",
      "Skipped file. Already present: eeg_recording_2015-05-09\n",
      "Skipped file. Already present: eeg_recording_2015-05-09\n",
      "Skipped file. Already present: eeg_recording_2015-05-09\n"
     ]
    },
    {
     "name": "stderr",
     "output_type": "stream",
     "text": [
      " 27%|█████████████████▍                                              | 278/1023 [18:12<50:03,  4.03s/it]"
     ]
    },
    {
     "name": "stdout",
     "output_type": "stream",
     "text": [
      "Skipped file. Already present: eeg_recording_2015-05-10\n",
      "Skipped file. Already present: eeg_recording_2015-05-10\n",
      "Skipped file. Already present: eeg_recording_2015-05-10\n",
      "Skipped file. Already present: eeg_recording_2015-05-10\n",
      "Skipped file. Already present: eeg_recording_2015-05-10\n",
      "Skipped file. Already present: eeg_recording_2015-05-10\n"
     ]
    },
    {
     "name": "stderr",
     "output_type": "stream",
     "text": [
      " 27%|█████████████████▍                                              | 279/1023 [18:17<51:55,  4.19s/it]"
     ]
    },
    {
     "name": "stdout",
     "output_type": "stream",
     "text": [
      "Skipped file. Already present: eeg_recording_2015-05-11\n",
      "Skipped file. Already present: eeg_recording_2015-05-11\n",
      "Skipped file. Already present: eeg_recording_2015-05-11\n",
      "Skipped file. Already present: eeg_recording_2015-05-11\n",
      "Skipped file. Already present: eeg_recording_2015-05-11\n"
     ]
    },
    {
     "name": "stderr",
     "output_type": "stream",
     "text": [
      " 27%|█████████████████▌                                              | 280/1023 [18:21<52:56,  4.27s/it]"
     ]
    },
    {
     "name": "stdout",
     "output_type": "stream",
     "text": [
      "Skipped file. Already present: eeg_recording_2015-05-12\n",
      "Skipped file. Already present: eeg_recording_2015-05-12\n",
      "Skipped file. Already present: eeg_recording_2015-05-12\n",
      "Skipped file. Already present: eeg_recording_2015-05-12\n",
      "Skipped file. Already present: eeg_recording_2015-05-12\n"
     ]
    },
    {
     "name": "stderr",
     "output_type": "stream",
     "text": [
      " 27%|█████████████████▌                                              | 281/1023 [18:26<54:16,  4.39s/it]"
     ]
    },
    {
     "name": "stdout",
     "output_type": "stream",
     "text": [
      "Skipped file. Already present: eeg_recording_2015-05-13\n",
      "Skipped file. Already present: eeg_recording_2015-05-13\n",
      "Skipped file. Already present: eeg_recording_2015-05-13\n",
      "Skipped file. Already present: eeg_recording_2015-05-13\n",
      "Skipped file. Already present: eeg_recording_2015-05-13\n"
     ]
    },
    {
     "name": "stderr",
     "output_type": "stream",
     "text": [
      " 28%|█████████████████▋                                              | 282/1023 [18:31<55:55,  4.53s/it]"
     ]
    },
    {
     "name": "stdout",
     "output_type": "stream",
     "text": [
      "Skipped file. Already present: eeg_recording_2015-05-14\n",
      "Skipped file. Already present: eeg_recording_2015-05-14\n",
      "Skipped file. Already present: eeg_recording_2015-05-14\n",
      "Skipped file. Already present: eeg_recording_2015-05-14\n",
      "Skipped file. Already present: eeg_recording_2015-05-14\n"
     ]
    },
    {
     "name": "stderr",
     "output_type": "stream",
     "text": [
      " 28%|█████████████████▋                                              | 283/1023 [18:36<56:31,  4.58s/it]"
     ]
    },
    {
     "name": "stdout",
     "output_type": "stream",
     "text": [
      "Skipped file. Already present: eeg_recording_2015-05-15\n",
      "Skipped file. Already present: eeg_recording_2015-05-15\n",
      "Skipped file. Already present: eeg_recording_2015-05-15\n",
      "Skipped file. Already present: eeg_recording_2015-05-15\n",
      "Skipped file. Already present: eeg_recording_2015-05-15\n"
     ]
    },
    {
     "name": "stderr",
     "output_type": "stream",
     "text": [
      " 28%|█████████████████▊                                              | 284/1023 [18:40<56:58,  4.63s/it]"
     ]
    },
    {
     "name": "stdout",
     "output_type": "stream",
     "text": [
      "Skipped file. Already present: eeg_recording_2015-05-16\n",
      "Skipped file. Already present: eeg_recording_2015-05-16\n",
      "Skipped file. Already present: eeg_recording_2015-05-16\n",
      "Skipped file. Already present: eeg_recording_2015-05-16\n",
      "Skipped file. Already present: eeg_recording_2015-05-16\n"
     ]
    },
    {
     "name": "stderr",
     "output_type": "stream",
     "text": [
      " 28%|█████████████████▊                                              | 285/1023 [18:45<57:39,  4.69s/it]"
     ]
    },
    {
     "name": "stdout",
     "output_type": "stream",
     "text": [
      "[Errno 2] No such file or directory: '/home/jovyan/work/data/PPS_data_raw/EDF_yolo_2015-05-17.zip'\n",
      "[Errno 2] No such file or directory: '/home/jovyan/work/data/PPS_data_raw/EDF_yolo_2015-05-18.zip'\n",
      "[Errno 2] No such file or directory: '/home/jovyan/work/data/PPS_data_raw/EDF_yolo_2015-05-19.zip'\n",
      "[Errno 2] No such file or directory: '/home/jovyan/work/data/PPS_data_raw/EDF_yolo_2015-05-20.zip'\n",
      "[Errno 2] No such file or directory: '/home/jovyan/work/data/PPS_data_raw/EDF_yolo_2015-05-21.zip'\n",
      "[Errno 2] No such file or directory: '/home/jovyan/work/data/PPS_data_raw/EDF_yolo_2015-05-22.zip'\n",
      "[Errno 2] No such file or directory: '/home/jovyan/work/data/PPS_data_raw/EDF_yolo_2015-05-23.zip'\n",
      "[Errno 2] No such file or directory: '/home/jovyan/work/data/PPS_data_raw/EDF_yolo_2015-05-24.zip'\n",
      "Skipped file. Already present: eeg_recording_2015-05-25\n",
      "Skipped file. Already present: eeg_recording_2015-05-25\n",
      "Skipped file. Already present: eeg_recording_2015-05-25\n",
      "Skipped file. Already present: eeg_recording_2015-05-25\n",
      "Skipped file. Already present: eeg_recording_2015-05-25\n"
     ]
    },
    {
     "name": "stderr",
     "output_type": "stream",
     "text": [
      " 29%|██████████████████▍                                             | 294/1023 [18:50<16:44,  1.38s/it]"
     ]
    },
    {
     "name": "stdout",
     "output_type": "stream",
     "text": [
      "Skipped file. Already present: eeg_recording_2015-05-26\n",
      "Skipped file. Already present: eeg_recording_2015-05-26\n",
      "Skipped file. Already present: eeg_recording_2015-05-26\n",
      "Skipped file. Already present: eeg_recording_2015-05-26\n",
      "Skipped file. Already present: eeg_recording_2015-05-26\n"
     ]
    },
    {
     "name": "stderr",
     "output_type": "stream",
     "text": [
      " 29%|██████████████████▍                                             | 295/1023 [18:54<20:33,  1.69s/it]"
     ]
    },
    {
     "name": "stdout",
     "output_type": "stream",
     "text": [
      "Skipped file. Already present: eeg_recording_2015-05-27\n",
      "Skipped file. Already present: eeg_recording_2015-05-27\n",
      "Skipped file. Already present: eeg_recording_2015-05-27\n",
      "Skipped file. Already present: eeg_recording_2015-05-27\n",
      "Skipped file. Already present: eeg_recording_2015-05-27\n"
     ]
    },
    {
     "name": "stderr",
     "output_type": "stream",
     "text": [
      " 29%|██████████████████▌                                             | 297/1023 [19:02<27:03,  2.24s/it]"
     ]
    },
    {
     "name": "stdout",
     "output_type": "stream",
     "text": [
      "Skipped file. Already present: eeg_recording_2015-05-28\n",
      "Skipped file. Already present: eeg_recording_2015-05-28\n",
      "Skipped file. Already present: eeg_recording_2015-05-28\n",
      "Skipped file. Already present: eeg_recording_2015-05-28\n",
      "Skipped file. Already present: eeg_recording_2015-05-29\n",
      "Skipped file. Already present: eeg_recording_2015-05-29\n",
      "Skipped file. Already present: eeg_recording_2015-05-29\n",
      "Skipped file. Already present: eeg_recording_2015-05-29\n",
      "Skipped file. Already present: eeg_recording_2015-05-29\n"
     ]
    },
    {
     "name": "stderr",
     "output_type": "stream",
     "text": [
      " 29%|██████████████████▋                                             | 298/1023 [19:06<32:01,  2.65s/it]"
     ]
    },
    {
     "name": "stdout",
     "output_type": "stream",
     "text": [
      "Skipped file. Already present: eeg_recording_2015-05-30\n",
      "Skipped file. Already present: eeg_recording_2015-05-30\n",
      "Skipped file. Already present: eeg_recording_2015-05-30\n",
      "Skipped file. Already present: eeg_recording_2015-05-30\n",
      "Skipped file. Already present: eeg_recording_2015-05-30\n"
     ]
    },
    {
     "name": "stderr",
     "output_type": "stream",
     "text": [
      " 29%|██████████████████▋                                             | 299/1023 [19:10<36:27,  3.02s/it]"
     ]
    },
    {
     "name": "stdout",
     "output_type": "stream",
     "text": [
      "Skipped file. Already present: eeg_recording_2015-05-31\n",
      "Skipped file. Already present: eeg_recording_2015-05-31\n",
      "Skipped file. Already present: eeg_recording_2015-05-31\n",
      "Skipped file. Already present: eeg_recording_2015-05-31\n",
      "Skipped file. Already present: eeg_recording_2015-05-31\n"
     ]
    },
    {
     "name": "stderr",
     "output_type": "stream",
     "text": [
      " 29%|██████████████████▊                                             | 300/1023 [19:15<40:24,  3.35s/it]"
     ]
    },
    {
     "name": "stdout",
     "output_type": "stream",
     "text": [
      "Skipped file. Already present: eeg_recording_2015-06-01\n",
      "Skipped file. Already present: eeg_recording_2015-06-01\n",
      "Skipped file. Already present: eeg_recording_2015-06-01\n",
      "Skipped file. Already present: eeg_recording_2015-06-01\n",
      "Skipped file. Already present: eeg_recording_2015-06-01\n"
     ]
    },
    {
     "name": "stderr",
     "output_type": "stream",
     "text": [
      " 29%|██████████████████▊                                             | 301/1023 [19:19<43:39,  3.63s/it]"
     ]
    },
    {
     "name": "stdout",
     "output_type": "stream",
     "text": [
      "Skipped file. Already present: eeg_recording_2015-06-02\n",
      "Skipped file. Already present: eeg_recording_2015-06-02\n",
      "Skipped file. Already present: eeg_recording_2015-06-02\n",
      "Skipped file. Already present: eeg_recording_2015-06-02\n"
     ]
    },
    {
     "name": "stderr",
     "output_type": "stream",
     "text": [
      " 30%|██████████████████▉                                             | 303/1023 [19:28<47:54,  3.99s/it]"
     ]
    },
    {
     "name": "stdout",
     "output_type": "stream",
     "text": [
      "Skipped file. Already present: eeg_recording_2015-06-03\n",
      "Skipped file. Already present: eeg_recording_2015-06-03\n",
      "Skipped file. Already present: eeg_recording_2015-06-03\n",
      "Skipped file. Already present: eeg_recording_2015-06-03\n",
      "Skipped file. Already present: eeg_recording_2015-06-04\n",
      "Skipped file. Already present: eeg_recording_2015-06-04\n",
      "Skipped file. Already present: eeg_recording_2015-06-04\n",
      "Skipped file. Already present: eeg_recording_2015-06-04\n"
     ]
    },
    {
     "name": "stderr",
     "output_type": "stream",
     "text": [
      " 30%|███████████████████                                             | 305/1023 [19:37<49:56,  4.17s/it]"
     ]
    },
    {
     "name": "stdout",
     "output_type": "stream",
     "text": [
      "Skipped file. Already present: eeg_recording_2015-06-05\n",
      "Skipped file. Already present: eeg_recording_2015-06-05\n",
      "Skipped file. Already present: eeg_recording_2015-06-05\n",
      "Skipped file. Already present: eeg_recording_2015-06-05\n"
     ]
    },
    {
     "name": "stderr",
     "output_type": "stream",
     "text": [
      " 30%|███████████████████▏                                            | 306/1023 [19:41<50:22,  4.22s/it]"
     ]
    },
    {
     "name": "stdout",
     "output_type": "stream",
     "text": [
      "Skipped file. Already present: eeg_recording_2015-06-06\n",
      "Skipped file. Already present: eeg_recording_2015-06-06\n",
      "Skipped file. Already present: eeg_recording_2015-06-06\n",
      "Skipped file. Already present: eeg_recording_2015-06-06\n",
      "Skipped file. Already present: eeg_recording_2015-06-07\n",
      "Skipped file. Already present: eeg_recording_2015-06-07\n",
      "Skipped file. Already present: eeg_recording_2015-06-07\n",
      "Skipped file. Already present: eeg_recording_2015-06-07\n"
     ]
    },
    {
     "name": "stderr",
     "output_type": "stream",
     "text": [
      " 30%|███████████████████▏                                            | 307/1023 [19:45<50:46,  4.25s/it]"
     ]
    },
    {
     "name": "stdout",
     "output_type": "stream",
     "text": [
      "Skipped file. Already present: eeg_recording_2015-06-08\n",
      "Skipped file. Already present: eeg_recording_2015-06-08\n",
      "Skipped file. Already present: eeg_recording_2015-06-08\n",
      "Skipped file. Already present: eeg_recording_2015-06-08\n"
     ]
    },
    {
     "name": "stderr",
     "output_type": "stream",
     "text": [
      " 30%|███████████████████▎                                            | 308/1023 [19:50<51:38,  4.33s/it]"
     ]
    },
    {
     "name": "stdout",
     "output_type": "stream",
     "text": [
      "Skipped file. Already present: eeg_recording_2015-06-09\n",
      "Skipped file. Already present: eeg_recording_2015-06-09\n",
      "Skipped file. Already present: eeg_recording_2015-06-09\n",
      "Skipped file. Already present: eeg_recording_2015-06-09\n",
      "Skipped file. Already present: eeg_recording_2015-06-09\n"
     ]
    },
    {
     "name": "stderr",
     "output_type": "stream",
     "text": [
      " 30%|███████████████████▍                                            | 310/1023 [19:59<51:55,  4.37s/it]"
     ]
    },
    {
     "name": "stdout",
     "output_type": "stream",
     "text": [
      "Skipped file. Already present: eeg_recording_2015-06-10\n"
     ]
    },
    {
     "name": "stderr",
     "output_type": "stream",
     "text": [
      " 30%|███████████████████▍                                            | 311/1023 [20:01<45:09,  3.81s/it]"
     ]
    },
    {
     "name": "stdout",
     "output_type": "stream",
     "text": [
      "Skipped file. Already present: eeg_recording_2015-06-11\n"
     ]
    },
    {
     "name": "stderr",
     "output_type": "stream",
     "text": [
      " 30%|███████████████████▌                                            | 312/1023 [20:04<42:36,  3.60s/it]"
     ]
    },
    {
     "name": "stdout",
     "output_type": "stream",
     "text": [
      "Skipped file. Already present: eeg_recording_2015-06-12\n",
      "Skipped file. Already present: eeg_recording_2015-06-13\n",
      "Skipped file. Already present: eeg_recording_2015-06-13\n",
      "Skipped file. Already present: eeg_recording_2015-06-13\n",
      "Skipped file. Already present: eeg_recording_2015-06-13\n",
      "Skipped file. Already present: eeg_recording_2015-06-13\n"
     ]
    },
    {
     "name": "stderr",
     "output_type": "stream",
     "text": [
      " 31%|███████████████████▌                                            | 313/1023 [20:09<46:09,  3.90s/it]"
     ]
    },
    {
     "name": "stdout",
     "output_type": "stream",
     "text": [
      "Skipped file. Already present: eeg_recording_2015-06-14\n",
      "Skipped file. Already present: eeg_recording_2015-06-14\n",
      "Skipped file. Already present: eeg_recording_2015-06-14\n",
      "Skipped file. Already present: eeg_recording_2015-06-14\n",
      "Skipped file. Already present: eeg_recording_2015-06-14\n"
     ]
    },
    {
     "name": "stderr",
     "output_type": "stream",
     "text": [
      " 31%|███████████████████▋                                            | 314/1023 [20:14<48:51,  4.13s/it]"
     ]
    },
    {
     "name": "stdout",
     "output_type": "stream",
     "text": [
      "Skipped file. Already present: eeg_recording_2015-06-15\n",
      "Skipped file. Already present: eeg_recording_2015-06-15\n",
      "Skipped file. Already present: eeg_recording_2015-06-15\n",
      "Skipped file. Already present: eeg_recording_2015-06-15\n",
      "Skipped file. Already present: eeg_recording_2015-06-15\n"
     ]
    },
    {
     "name": "stderr",
     "output_type": "stream",
     "text": [
      " 31%|███████████████████▋                                            | 315/1023 [20:18<50:44,  4.30s/it]"
     ]
    },
    {
     "name": "stdout",
     "output_type": "stream",
     "text": [
      "Skipped file. Already present: eeg_recording_2015-06-16\n",
      "Skipped file. Already present: eeg_recording_2015-06-16\n",
      "Skipped file. Already present: eeg_recording_2015-06-16\n",
      "Skipped file. Already present: eeg_recording_2015-06-16\n",
      "Skipped file. Already present: eeg_recording_2015-06-16\n"
     ]
    },
    {
     "name": "stderr",
     "output_type": "stream",
     "text": [
      " 31%|███████████████████▊                                            | 316/1023 [20:23<51:53,  4.40s/it]"
     ]
    },
    {
     "name": "stdout",
     "output_type": "stream",
     "text": [
      "Skipped file. Already present: eeg_recording_2015-06-17\n",
      "Skipped file. Already present: eeg_recording_2015-06-17\n",
      "Skipped file. Already present: eeg_recording_2015-06-17\n",
      "Skipped file. Already present: eeg_recording_2015-06-17\n",
      "Skipped file. Already present: eeg_recording_2015-06-17\n"
     ]
    },
    {
     "name": "stderr",
     "output_type": "stream",
     "text": [
      " 31%|███████████████████▊                                            | 317/1023 [20:28<52:29,  4.46s/it]"
     ]
    },
    {
     "name": "stdout",
     "output_type": "stream",
     "text": [
      "Skipped file. Already present: eeg_recording_2015-06-18\n",
      "Skipped file. Already present: eeg_recording_2015-06-18\n",
      "Skipped file. Already present: eeg_recording_2015-06-18\n",
      "Skipped file. Already present: eeg_recording_2015-06-18\n",
      "Skipped file. Already present: eeg_recording_2015-06-18\n"
     ]
    },
    {
     "name": "stderr",
     "output_type": "stream",
     "text": [
      " 31%|███████████████████▉                                            | 318/1023 [20:32<52:43,  4.49s/it]"
     ]
    },
    {
     "name": "stdout",
     "output_type": "stream",
     "text": [
      "Skipped file. Already present: eeg_recording_2015-06-19\n",
      "Skipped file. Already present: eeg_recording_2015-06-19\n",
      "Skipped file. Already present: eeg_recording_2015-06-19\n",
      "Skipped file. Already present: eeg_recording_2015-06-19\n",
      "Skipped file. Already present: eeg_recording_2015-06-19\n"
     ]
    },
    {
     "name": "stderr",
     "output_type": "stream",
     "text": [
      " 31%|███████████████████▉                                            | 319/1023 [20:37<52:16,  4.46s/it]"
     ]
    },
    {
     "name": "stdout",
     "output_type": "stream",
     "text": [
      "Skipped file. Already present: eeg_recording_2015-06-20\n",
      "Skipped file. Already present: eeg_recording_2015-06-20\n",
      "Skipped file. Already present: eeg_recording_2015-06-20\n",
      "Skipped file. Already present: eeg_recording_2015-06-20\n",
      "Skipped file. Already present: eeg_recording_2015-06-20\n"
     ]
    },
    {
     "name": "stderr",
     "output_type": "stream",
     "text": [
      " 31%|████████████████████                                            | 320/1023 [20:41<51:58,  4.44s/it]"
     ]
    },
    {
     "name": "stdout",
     "output_type": "stream",
     "text": [
      "Skipped file. Already present: eeg_recording_2015-06-21\n",
      "Skipped file. Already present: eeg_recording_2015-06-21\n",
      "Skipped file. Already present: eeg_recording_2015-06-21\n",
      "Skipped file. Already present: eeg_recording_2015-06-21\n",
      "Skipped file. Already present: eeg_recording_2015-06-21\n"
     ]
    },
    {
     "name": "stderr",
     "output_type": "stream",
     "text": [
      " 31%|████████████████████                                            | 321/1023 [20:45<51:52,  4.43s/it]"
     ]
    },
    {
     "name": "stdout",
     "output_type": "stream",
     "text": [
      "Skipped file. Already present: eeg_recording_2015-06-22\n",
      "Skipped file. Already present: eeg_recording_2015-06-22\n",
      "Skipped file. Already present: eeg_recording_2015-06-22\n",
      "Skipped file. Already present: eeg_recording_2015-06-22\n",
      "Skipped file. Already present: eeg_recording_2015-06-22\n"
     ]
    },
    {
     "name": "stderr",
     "output_type": "stream",
     "text": [
      " 31%|████████████████████▏                                           | 322/1023 [20:50<52:40,  4.51s/it]"
     ]
    },
    {
     "name": "stdout",
     "output_type": "stream",
     "text": [
      "Skipped file. Already present: eeg_recording_2015-06-23\n",
      "Skipped file. Already present: eeg_recording_2015-06-23\n",
      "Skipped file. Already present: eeg_recording_2015-06-23\n",
      "Skipped file. Already present: eeg_recording_2015-06-23\n",
      "Skipped file. Already present: eeg_recording_2015-06-23\n",
      "Skipped file. Already present: eeg_recording_2015-06-23\n"
     ]
    },
    {
     "name": "stderr",
     "output_type": "stream",
     "text": [
      " 32%|████████████████████▏                                           | 323/1023 [20:55<53:07,  4.55s/it]"
     ]
    },
    {
     "name": "stdout",
     "output_type": "stream",
     "text": [
      "Skipped file. Already present: eeg_recording_2015-06-24\n",
      "Skipped file. Already present: eeg_recording_2015-06-24\n",
      "Skipped file. Already present: eeg_recording_2015-06-24\n",
      "Skipped file. Already present: eeg_recording_2015-06-24\n",
      "Skipped file. Already present: eeg_recording_2015-06-24\n",
      "Skipped file. Already present: eeg_recording_2015-06-24\n",
      "Skipped file. Already present: eeg_recording_2015-06-24\n"
     ]
    },
    {
     "name": "stderr",
     "output_type": "stream",
     "text": [
      " 32%|████████████████████▎                                           | 324/1023 [20:59<53:43,  4.61s/it]"
     ]
    },
    {
     "name": "stdout",
     "output_type": "stream",
     "text": [
      "Skipped file. Already present: eeg_recording_2015-06-25\n",
      "Skipped file. Already present: eeg_recording_2015-06-25\n",
      "Skipped file. Already present: eeg_recording_2015-06-25\n",
      "Skipped file. Already present: eeg_recording_2015-06-25\n",
      "Skipped file. Already present: eeg_recording_2015-06-25\n",
      "Skipped file. Already present: eeg_recording_2015-06-25\n"
     ]
    },
    {
     "name": "stderr",
     "output_type": "stream",
     "text": [
      " 32%|████████████████████▎                                           | 325/1023 [21:04<54:15,  4.66s/it]"
     ]
    },
    {
     "name": "stdout",
     "output_type": "stream",
     "text": [
      "Skipped file. Already present: eeg_recording_2015-06-26\n",
      "Skipped file. Already present: eeg_recording_2015-06-26\n",
      "Skipped file. Already present: eeg_recording_2015-06-26\n",
      "Skipped file. Already present: eeg_recording_2015-06-26\n",
      "Skipped file. Already present: eeg_recording_2015-06-26\n",
      "Skipped file. Already present: eeg_recording_2015-06-26\n"
     ]
    },
    {
     "name": "stderr",
     "output_type": "stream",
     "text": [
      " 32%|████████████████████▍                                           | 326/1023 [21:09<53:53,  4.64s/it]"
     ]
    },
    {
     "name": "stdout",
     "output_type": "stream",
     "text": [
      "Skipped file. Already present: eeg_recording_2015-06-27\n",
      "Skipped file. Already present: eeg_recording_2015-06-27\n",
      "Skipped file. Already present: eeg_recording_2015-06-27\n",
      "Skipped file. Already present: eeg_recording_2015-06-27\n",
      "Skipped file. Already present: eeg_recording_2015-06-27\n",
      "Skipped file. Already present: eeg_recording_2015-06-27\n"
     ]
    },
    {
     "name": "stderr",
     "output_type": "stream",
     "text": [
      " 32%|████████████████████▍                                           | 327/1023 [21:13<53:39,  4.63s/it]"
     ]
    },
    {
     "name": "stdout",
     "output_type": "stream",
     "text": [
      "Skipped file. Already present: eeg_recording_2015-06-28\n",
      "Skipped file. Already present: eeg_recording_2015-06-28\n",
      "Skipped file. Already present: eeg_recording_2015-06-28\n",
      "Skipped file. Already present: eeg_recording_2015-06-28\n",
      "Skipped file. Already present: eeg_recording_2015-06-28\n",
      "Skipped file. Already present: eeg_recording_2015-06-28\n"
     ]
    },
    {
     "name": "stderr",
     "output_type": "stream",
     "text": [
      " 32%|████████████████████▌                                           | 328/1023 [21:18<53:53,  4.65s/it]"
     ]
    },
    {
     "name": "stdout",
     "output_type": "stream",
     "text": [
      "Skipped file. Already present: eeg_recording_2015-06-29\n",
      "Skipped file. Already present: eeg_recording_2015-06-29\n",
      "Skipped file. Already present: eeg_recording_2015-06-29\n",
      "Skipped file. Already present: eeg_recording_2015-06-29\n",
      "Skipped file. Already present: eeg_recording_2015-06-29\n"
     ]
    },
    {
     "name": "stderr",
     "output_type": "stream",
     "text": [
      " 32%|████████████████████▌                                           | 329/1023 [21:23<53:51,  4.66s/it]"
     ]
    },
    {
     "name": "stdout",
     "output_type": "stream",
     "text": [
      "Skipped file. Already present: eeg_recording_2015-06-30\n",
      "Skipped file. Already present: eeg_recording_2015-06-30\n",
      "Skipped file. Already present: eeg_recording_2015-06-30\n",
      "Skipped file. Already present: eeg_recording_2015-06-30\n",
      "Skipped file. Already present: eeg_recording_2015-06-30\n",
      "Skipped file. Already present: eeg_recording_2015-06-30\n",
      "Skipped file. Already present: eeg_recording_2015-06-30\n"
     ]
    },
    {
     "name": "stderr",
     "output_type": "stream",
     "text": [
      " 32%|████████████████████▋                                           | 330/1023 [21:28<55:20,  4.79s/it]"
     ]
    },
    {
     "name": "stdout",
     "output_type": "stream",
     "text": [
      "Skipped file. Already present: eeg_recording_2015-07-01\n",
      "Skipped file. Already present: eeg_recording_2015-07-01\n",
      "Skipped file. Already present: eeg_recording_2015-07-01\n",
      "Skipped file. Already present: eeg_recording_2015-07-01\n",
      "Skipped file. Already present: eeg_recording_2015-07-01\n",
      "Skipped file. Already present: eeg_recording_2015-07-01\n",
      "Skipped file. Already present: eeg_recording_2015-07-01\n",
      "Skipped file. Already present: eeg_recording_2015-07-01\n"
     ]
    },
    {
     "name": "stderr",
     "output_type": "stream",
     "text": [
      " 32%|████████████████████▋                                           | 331/1023 [21:33<56:38,  4.91s/it]"
     ]
    },
    {
     "name": "stdout",
     "output_type": "stream",
     "text": [
      "Skipped file. Already present: eeg_recording_2015-07-02\n",
      "Skipped file. Already present: eeg_recording_2015-07-02\n",
      "Skipped file. Already present: eeg_recording_2015-07-02\n",
      "Skipped file. Already present: eeg_recording_2015-07-02\n",
      "Skipped file. Already present: eeg_recording_2015-07-02\n",
      "Skipped file. Already present: eeg_recording_2015-07-02\n",
      "Skipped file. Already present: eeg_recording_2015-07-02\n",
      "Skipped file. Already present: eeg_recording_2015-07-02\n"
     ]
    },
    {
     "name": "stderr",
     "output_type": "stream",
     "text": [
      " 32%|████████████████████▊                                           | 332/1023 [21:38<57:36,  5.00s/it]"
     ]
    },
    {
     "name": "stdout",
     "output_type": "stream",
     "text": [
      "Skipped file. Already present: eeg_recording_2015-07-03\n",
      "Skipped file. Already present: eeg_recording_2015-07-03\n",
      "Skipped file. Already present: eeg_recording_2015-07-03\n",
      "Skipped file. Already present: eeg_recording_2015-07-03\n",
      "Skipped file. Already present: eeg_recording_2015-07-03\n",
      "Skipped file. Already present: eeg_recording_2015-07-03\n",
      "Skipped file. Already present: eeg_recording_2015-07-03\n",
      "Skipped file. Already present: eeg_recording_2015-07-03\n"
     ]
    },
    {
     "name": "stderr",
     "output_type": "stream",
     "text": [
      " 33%|████████████████████▊                                           | 333/1023 [21:44<58:10,  5.06s/it]"
     ]
    },
    {
     "name": "stdout",
     "output_type": "stream",
     "text": [
      "Skipped file. Already present: eeg_recording_2015-07-04\n",
      "Skipped file. Already present: eeg_recording_2015-07-04\n",
      "Skipped file. Already present: eeg_recording_2015-07-04\n",
      "Skipped file. Already present: eeg_recording_2015-07-04\n",
      "Skipped file. Already present: eeg_recording_2015-07-04\n",
      "Skipped file. Already present: eeg_recording_2015-07-04\n",
      "Skipped file. Already present: eeg_recording_2015-07-04\n",
      "Skipped file. Already present: eeg_recording_2015-07-04\n"
     ]
    },
    {
     "name": "stderr",
     "output_type": "stream",
     "text": [
      " 33%|████████████████████▉                                           | 334/1023 [21:49<58:49,  5.12s/it]"
     ]
    },
    {
     "name": "stdout",
     "output_type": "stream",
     "text": [
      "Skipped file. Already present: eeg_recording_2015-07-05\n",
      "Skipped file. Already present: eeg_recording_2015-07-05\n",
      "Skipped file. Already present: eeg_recording_2015-07-05\n",
      "Skipped file. Already present: eeg_recording_2015-07-05\n",
      "Skipped file. Already present: eeg_recording_2015-07-05\n",
      "Skipped file. Already present: eeg_recording_2015-07-05\n",
      "Skipped file. Already present: eeg_recording_2015-07-05\n",
      "Skipped file. Already present: eeg_recording_2015-07-05\n"
     ]
    },
    {
     "name": "stderr",
     "output_type": "stream",
     "text": [
      " 33%|████████████████████▉                                           | 335/1023 [21:54<58:56,  5.14s/it]"
     ]
    },
    {
     "name": "stdout",
     "output_type": "stream",
     "text": [
      "Skipped file. Already present: eeg_recording_2015-07-06\n",
      "Skipped file. Already present: eeg_recording_2015-07-06\n",
      "Skipped file. Already present: eeg_recording_2015-07-06\n",
      "Skipped file. Already present: eeg_recording_2015-07-06\n",
      "Skipped file. Already present: eeg_recording_2015-07-06\n",
      "Skipped file. Already present: eeg_recording_2015-07-06\n",
      "Skipped file. Already present: eeg_recording_2015-07-06\n"
     ]
    },
    {
     "name": "stderr",
     "output_type": "stream",
     "text": [
      " 33%|█████████████████████                                           | 336/1023 [21:59<58:48,  5.14s/it]"
     ]
    },
    {
     "name": "stdout",
     "output_type": "stream",
     "text": [
      "Skipped file. Already present: eeg_recording_2015-07-07\n",
      "Skipped file. Already present: eeg_recording_2015-07-07\n",
      "Skipped file. Already present: eeg_recording_2015-07-07\n",
      "Skipped file. Already present: eeg_recording_2015-07-07\n",
      "Skipped file. Already present: eeg_recording_2015-07-07\n",
      "Skipped file. Already present: eeg_recording_2015-07-07\n",
      "Skipped file. Already present: eeg_recording_2015-07-07\n"
     ]
    },
    {
     "name": "stderr",
     "output_type": "stream",
     "text": [
      " 33%|█████████████████████                                           | 337/1023 [22:04<58:31,  5.12s/it]"
     ]
    },
    {
     "name": "stdout",
     "output_type": "stream",
     "text": [
      "Skipped file. Already present: eeg_recording_2015-07-07\n",
      "Skipped file. Already present: eeg_recording_2015-07-08\n",
      "Skipped file. Already present: eeg_recording_2015-07-08\n",
      "Skipped file. Already present: eeg_recording_2015-07-08\n",
      "Skipped file. Already present: eeg_recording_2015-07-08\n",
      "Skipped file. Already present: eeg_recording_2015-07-08\n",
      "Skipped file. Already present: eeg_recording_2015-07-08\n",
      "Skipped file. Already present: eeg_recording_2015-07-08\n",
      "Skipped file. Already present: eeg_recording_2015-07-08\n"
     ]
    },
    {
     "name": "stderr",
     "output_type": "stream",
     "text": [
      " 33%|█████████████████████▏                                          | 338/1023 [22:09<58:17,  5.11s/it]"
     ]
    },
    {
     "name": "stdout",
     "output_type": "stream",
     "text": [
      "Skipped file. Already present: eeg_recording_2015-07-08\n",
      "Skipped file. Already present: eeg_recording_2015-07-09\n",
      "Skipped file. Already present: eeg_recording_2015-07-09\n",
      "Skipped file. Already present: eeg_recording_2015-07-09\n",
      "Skipped file. Already present: eeg_recording_2015-07-09\n",
      "Skipped file. Already present: eeg_recording_2015-07-09\n",
      "Skipped file. Already present: eeg_recording_2015-07-09\n",
      "Skipped file. Already present: eeg_recording_2015-07-09\n"
     ]
    },
    {
     "name": "stderr",
     "output_type": "stream",
     "text": [
      " 33%|█████████████████████▏                                          | 339/1023 [22:14<57:24,  5.04s/it]"
     ]
    },
    {
     "name": "stdout",
     "output_type": "stream",
     "text": [
      "Skipped file. Already present: eeg_recording_2015-07-09\n",
      "Skipped file. Already present: eeg_recording_2015-07-10\n",
      "Skipped file. Already present: eeg_recording_2015-07-10\n",
      "Skipped file. Already present: eeg_recording_2015-07-10\n",
      "Skipped file. Already present: eeg_recording_2015-07-10\n",
      "Skipped file. Already present: eeg_recording_2015-07-10\n",
      "Skipped file. Already present: eeg_recording_2015-07-10\n",
      "Skipped file. Already present: eeg_recording_2015-07-10\n"
     ]
    },
    {
     "name": "stderr",
     "output_type": "stream",
     "text": [
      " 33%|█████████████████████▎                                          | 340/1023 [22:19<56:41,  4.98s/it]"
     ]
    },
    {
     "name": "stdout",
     "output_type": "stream",
     "text": [
      "Skipped file. Already present: eeg_recording_2015-07-10\n",
      "Skipped file. Already present: eeg_recording_2015-07-11\n",
      "Skipped file. Already present: eeg_recording_2015-07-11\n",
      "Skipped file. Already present: eeg_recording_2015-07-11\n",
      "Skipped file. Already present: eeg_recording_2015-07-11\n",
      "Skipped file. Already present: eeg_recording_2015-07-11\n",
      "Skipped file. Already present: eeg_recording_2015-07-11\n",
      "Skipped file. Already present: eeg_recording_2015-07-11\n"
     ]
    },
    {
     "name": "stderr",
     "output_type": "stream",
     "text": [
      " 33%|█████████████████████▎                                          | 341/1023 [22:24<56:23,  4.96s/it]"
     ]
    },
    {
     "name": "stdout",
     "output_type": "stream",
     "text": [
      "Skipped file. Already present: eeg_recording_2015-07-11\n",
      "Skipped file. Already present: eeg_recording_2015-07-12\n",
      "Skipped file. Already present: eeg_recording_2015-07-12\n",
      "Skipped file. Already present: eeg_recording_2015-07-12\n",
      "Skipped file. Already present: eeg_recording_2015-07-12\n",
      "Skipped file. Already present: eeg_recording_2015-07-12\n",
      "Skipped file. Already present: eeg_recording_2015-07-12\n",
      "Skipped file. Already present: eeg_recording_2015-07-12\n"
     ]
    },
    {
     "name": "stderr",
     "output_type": "stream",
     "text": [
      " 33%|█████████████████████▍                                          | 342/1023 [22:29<56:02,  4.94s/it]"
     ]
    },
    {
     "name": "stdout",
     "output_type": "stream",
     "text": [
      "Skipped file. Already present: eeg_recording_2015-07-12\n",
      "Skipped file. Already present: eeg_recording_2015-07-13\n",
      "Skipped file. Already present: eeg_recording_2015-07-13\n",
      "Skipped file. Already present: eeg_recording_2015-07-13\n",
      "Skipped file. Already present: eeg_recording_2015-07-13\n",
      "Skipped file. Already present: eeg_recording_2015-07-13\n",
      "Skipped file. Already present: eeg_recording_2015-07-13\n",
      "Skipped file. Already present: eeg_recording_2015-07-13\n"
     ]
    },
    {
     "name": "stderr",
     "output_type": "stream",
     "text": [
      " 34%|█████████████████████▍                                          | 343/1023 [22:34<56:14,  4.96s/it]"
     ]
    },
    {
     "name": "stdout",
     "output_type": "stream",
     "text": [
      "Skipped file. Already present: eeg_recording_2015-07-13\n",
      "Skipped file. Already present: eeg_recording_2015-07-14\n",
      "Skipped file. Already present: eeg_recording_2015-07-14\n",
      "Skipped file. Already present: eeg_recording_2015-07-14\n",
      "Skipped file. Already present: eeg_recording_2015-07-14\n",
      "Skipped file. Already present: eeg_recording_2015-07-14\n",
      "Skipped file. Already present: eeg_recording_2015-07-14\n",
      "Skipped file. Already present: eeg_recording_2015-07-14\n"
     ]
    },
    {
     "name": "stderr",
     "output_type": "stream",
     "text": [
      " 34%|█████████████████████▌                                          | 344/1023 [22:39<56:06,  4.96s/it]"
     ]
    },
    {
     "name": "stdout",
     "output_type": "stream",
     "text": [
      "Skipped file. Already present: eeg_recording_2015-07-14\n",
      "Skipped file. Already present: eeg_recording_2015-07-15\n",
      "Skipped file. Already present: eeg_recording_2015-07-15\n",
      "Skipped file. Already present: eeg_recording_2015-07-15\n",
      "Skipped file. Already present: eeg_recording_2015-07-15\n",
      "Skipped file. Already present: eeg_recording_2015-07-15\n"
     ]
    },
    {
     "name": "stderr",
     "output_type": "stream",
     "text": [
      " 34%|█████████████████████▌                                          | 345/1023 [22:43<54:46,  4.85s/it]"
     ]
    },
    {
     "name": "stdout",
     "output_type": "stream",
     "text": [
      "Skipped file. Already present: eeg_recording_2015-07-16\n",
      "Skipped file. Already present: eeg_recording_2015-07-16\n",
      "Skipped file. Already present: eeg_recording_2015-07-16\n",
      "Skipped file. Already present: eeg_recording_2015-07-16\n",
      "Skipped file. Already present: eeg_recording_2015-07-16\n",
      "Skipped file. Already present: eeg_recording_2015-07-16\n"
     ]
    },
    {
     "name": "stderr",
     "output_type": "stream",
     "text": [
      " 34%|█████████████████████▋                                          | 346/1023 [22:47<51:57,  4.61s/it]"
     ]
    },
    {
     "name": "stdout",
     "output_type": "stream",
     "text": [
      "Skipped file. Already present: eeg_recording_2015-07-17\n",
      "Skipped file. Already present: eeg_recording_2015-07-17\n",
      "Skipped file. Already present: eeg_recording_2015-07-17\n",
      "Skipped file. Already present: eeg_recording_2015-07-17\n",
      "Skipped file. Already present: eeg_recording_2015-07-17\n",
      "Skipped file. Already present: eeg_recording_2015-07-17\n"
     ]
    },
    {
     "name": "stderr",
     "output_type": "stream",
     "text": [
      " 34%|█████████████████████▋                                          | 347/1023 [22:51<49:49,  4.42s/it]"
     ]
    },
    {
     "name": "stdout",
     "output_type": "stream",
     "text": [
      "Skipped file. Already present: eeg_recording_2015-07-18\n",
      "Skipped file. Already present: eeg_recording_2015-07-18\n",
      "Skipped file. Already present: eeg_recording_2015-07-18\n",
      "Skipped file. Already present: eeg_recording_2015-07-18\n",
      "Skipped file. Already present: eeg_recording_2015-07-18\n",
      "Skipped file. Already present: eeg_recording_2015-07-18\n"
     ]
    },
    {
     "name": "stderr",
     "output_type": "stream",
     "text": [
      " 34%|█████████████████████▊                                          | 348/1023 [22:55<48:23,  4.30s/it]"
     ]
    },
    {
     "name": "stdout",
     "output_type": "stream",
     "text": [
      "Skipped file. Already present: eeg_recording_2015-07-19\n",
      "Skipped file. Already present: eeg_recording_2015-07-19\n",
      "Skipped file. Already present: eeg_recording_2015-07-19\n",
      "Skipped file. Already present: eeg_recording_2015-07-19\n",
      "Skipped file. Already present: eeg_recording_2015-07-19\n",
      "Skipped file. Already present: eeg_recording_2015-07-19\n"
     ]
    },
    {
     "name": "stderr",
     "output_type": "stream",
     "text": [
      " 34%|█████████████████████▊                                          | 349/1023 [22:59<47:30,  4.23s/it]"
     ]
    },
    {
     "name": "stdout",
     "output_type": "stream",
     "text": [
      "Skipped file. Already present: eeg_recording_2015-07-20\n",
      "Skipped file. Already present: eeg_recording_2015-07-20\n",
      "Skipped file. Already present: eeg_recording_2015-07-20\n",
      "Skipped file. Already present: eeg_recording_2015-07-20\n",
      "Skipped file. Already present: eeg_recording_2015-07-20\n",
      "Skipped file. Already present: eeg_recording_2015-07-20\n"
     ]
    },
    {
     "name": "stderr",
     "output_type": "stream",
     "text": [
      " 34%|█████████████████████▉                                          | 350/1023 [23:04<47:07,  4.20s/it]"
     ]
    },
    {
     "name": "stdout",
     "output_type": "stream",
     "text": [
      "Skipped file. Already present: eeg_recording_2015-07-21\n",
      "Skipped file. Already present: eeg_recording_2015-07-21\n",
      "Skipped file. Already present: eeg_recording_2015-07-21\n",
      "Skipped file. Already present: eeg_recording_2015-07-21\n",
      "Skipped file. Already present: eeg_recording_2015-07-21\n",
      "Skipped file. Already present: eeg_recording_2015-07-21\n",
      "Skipped file. Already present: eeg_recording_2015-07-21\n"
     ]
    },
    {
     "name": "stderr",
     "output_type": "stream",
     "text": [
      " 34%|█████████████████████▉                                          | 351/1023 [23:08<48:21,  4.32s/it]"
     ]
    },
    {
     "name": "stdout",
     "output_type": "stream",
     "text": [
      "Skipped file. Already present: eeg_recording_2015-07-22\n",
      "Skipped file. Already present: eeg_recording_2015-07-22\n",
      "Skipped file. Already present: eeg_recording_2015-07-22\n",
      "Skipped file. Already present: eeg_recording_2015-07-22\n",
      "Skipped file. Already present: eeg_recording_2015-07-22\n",
      "Skipped file. Already present: eeg_recording_2015-07-22\n",
      "Skipped file. Already present: eeg_recording_2015-07-22\n",
      "Skipped file. Already present: eeg_recording_2015-07-22\n"
     ]
    },
    {
     "name": "stderr",
     "output_type": "stream",
     "text": [
      " 34%|██████████████████████                                          | 352/1023 [23:13<50:06,  4.48s/it]"
     ]
    },
    {
     "name": "stdout",
     "output_type": "stream",
     "text": [
      "Skipped file. Already present: eeg_recording_2015-07-23\n",
      "Skipped file. Already present: eeg_recording_2015-07-23\n",
      "Skipped file. Already present: eeg_recording_2015-07-23\n",
      "Skipped file. Already present: eeg_recording_2015-07-23\n",
      "Skipped file. Already present: eeg_recording_2015-07-23\n",
      "Skipped file. Already present: eeg_recording_2015-07-23\n"
     ]
    },
    {
     "name": "stderr",
     "output_type": "stream",
     "text": [
      " 35%|██████████████████████                                          | 353/1023 [23:18<51:12,  4.59s/it]"
     ]
    },
    {
     "name": "stdout",
     "output_type": "stream",
     "text": [
      "Skipped file. Already present: eeg_recording_2015-07-23\n",
      "Skipped file. Already present: eeg_recording_2015-07-23\n",
      "Skipped file. Already present: eeg_recording_2015-07-24\n",
      "Skipped file. Already present: eeg_recording_2015-07-24\n",
      "Skipped file. Already present: eeg_recording_2015-07-24\n",
      "Skipped file. Already present: eeg_recording_2015-07-24\n",
      "Skipped file. Already present: eeg_recording_2015-07-24\n",
      "Skipped file. Already present: eeg_recording_2015-07-24\n",
      "Skipped file. Already present: eeg_recording_2015-07-24\n"
     ]
    },
    {
     "name": "stderr",
     "output_type": "stream",
     "text": [
      " 35%|██████████████████████▏                                         | 354/1023 [23:23<51:56,  4.66s/it]"
     ]
    },
    {
     "name": "stdout",
     "output_type": "stream",
     "text": [
      "Skipped file. Already present: eeg_recording_2015-07-24\n",
      "Skipped file. Already present: eeg_recording_2015-07-25\n",
      "Skipped file. Already present: eeg_recording_2015-07-25\n",
      "Skipped file. Already present: eeg_recording_2015-07-25\n",
      "Skipped file. Already present: eeg_recording_2015-07-25\n",
      "Skipped file. Already present: eeg_recording_2015-07-25\n",
      "Skipped file. Already present: eeg_recording_2015-07-25\n",
      "Skipped file. Already present: eeg_recording_2015-07-25\n"
     ]
    },
    {
     "name": "stderr",
     "output_type": "stream",
     "text": [
      " 35%|██████████████████████▏                                         | 355/1023 [23:28<52:38,  4.73s/it]"
     ]
    },
    {
     "name": "stdout",
     "output_type": "stream",
     "text": [
      "Skipped file. Already present: eeg_recording_2015-07-25\n",
      "Skipped file. Already present: eeg_recording_2015-07-26\n",
      "Skipped file. Already present: eeg_recording_2015-07-26\n",
      "Skipped file. Already present: eeg_recording_2015-07-26\n",
      "Skipped file. Already present: eeg_recording_2015-07-26\n",
      "Skipped file. Already present: eeg_recording_2015-07-26\n",
      "Skipped file. Already present: eeg_recording_2015-07-26\n",
      "Skipped file. Already present: eeg_recording_2015-07-26\n"
     ]
    },
    {
     "name": "stderr",
     "output_type": "stream",
     "text": [
      " 35%|██████████████████████▎                                         | 356/1023 [23:32<52:45,  4.75s/it]"
     ]
    },
    {
     "name": "stdout",
     "output_type": "stream",
     "text": [
      "Skipped file. Already present: eeg_recording_2015-07-26\n",
      "Skipped file. Already present: eeg_recording_2015-07-27\n",
      "Skipped file. Already present: eeg_recording_2015-07-27\n",
      "Skipped file. Already present: eeg_recording_2015-07-27\n",
      "Skipped file. Already present: eeg_recording_2015-07-27\n",
      "Skipped file. Already present: eeg_recording_2015-07-27\n",
      "Skipped file. Already present: eeg_recording_2015-07-27\n",
      "Skipped file. Already present: eeg_recording_2015-07-27\n"
     ]
    },
    {
     "name": "stderr",
     "output_type": "stream",
     "text": [
      " 35%|██████████████████████▎                                         | 357/1023 [23:37<52:56,  4.77s/it]"
     ]
    },
    {
     "name": "stdout",
     "output_type": "stream",
     "text": [
      "Skipped file. Already present: eeg_recording_2015-07-27\n",
      "Skipped file. Already present: eeg_recording_2015-07-28\n",
      "Skipped file. Already present: eeg_recording_2015-07-28\n",
      "Skipped file. Already present: eeg_recording_2015-07-28\n",
      "Skipped file. Already present: eeg_recording_2015-07-28\n",
      "Skipped file. Already present: eeg_recording_2015-07-28\n",
      "Skipped file. Already present: eeg_recording_2015-07-28\n",
      "Skipped file. Already present: eeg_recording_2015-07-28\n"
     ]
    },
    {
     "name": "stderr",
     "output_type": "stream",
     "text": [
      " 35%|██████████████████████▍                                         | 358/1023 [23:42<53:55,  4.87s/it]"
     ]
    },
    {
     "name": "stdout",
     "output_type": "stream",
     "text": [
      "Skipped file. Already present: eeg_recording_2015-07-28\n",
      "Skipped file. Already present: eeg_recording_2015-07-29\n",
      "Skipped file. Already present: eeg_recording_2015-07-29\n",
      "Skipped file. Already present: eeg_recording_2015-07-29\n",
      "Skipped file. Already present: eeg_recording_2015-07-29\n",
      "Skipped file. Already present: eeg_recording_2015-07-29\n",
      "Skipped file. Already present: eeg_recording_2015-07-29\n"
     ]
    },
    {
     "name": "stderr",
     "output_type": "stream",
     "text": [
      " 35%|██████████████████████▍                                         | 359/1023 [23:48<54:59,  4.97s/it]"
     ]
    },
    {
     "name": "stdout",
     "output_type": "stream",
     "text": [
      "Skipped file. Already present: eeg_recording_2015-07-29\n",
      "Skipped file. Already present: eeg_recording_2015-07-30\n",
      "Skipped file. Already present: eeg_recording_2015-07-30\n",
      "Skipped file. Already present: eeg_recording_2015-07-30\n",
      "Skipped file. Already present: eeg_recording_2015-07-30\n",
      "Skipped file. Already present: eeg_recording_2015-07-30\n",
      "Skipped file. Already present: eeg_recording_2015-07-30\n"
     ]
    },
    {
     "name": "stderr",
     "output_type": "stream",
     "text": [
      " 35%|██████████████████████▌                                         | 360/1023 [23:53<54:57,  4.97s/it]"
     ]
    },
    {
     "name": "stdout",
     "output_type": "stream",
     "text": [
      "Skipped file. Already present: eeg_recording_2015-07-30\n",
      "Skipped file. Already present: eeg_recording_2015-07-31\n",
      "Skipped file. Already present: eeg_recording_2015-07-31\n",
      "Skipped file. Already present: eeg_recording_2015-07-31\n",
      "Skipped file. Already present: eeg_recording_2015-07-31\n",
      "Skipped file. Already present: eeg_recording_2015-07-31\n",
      "Skipped file. Already present: eeg_recording_2015-07-31\n"
     ]
    },
    {
     "name": "stderr",
     "output_type": "stream",
     "text": [
      " 35%|██████████████████████▌                                         | 361/1023 [23:57<54:52,  4.97s/it]"
     ]
    },
    {
     "name": "stdout",
     "output_type": "stream",
     "text": [
      "Skipped file. Already present: eeg_recording_2015-07-31\n",
      "Skipped file. Already present: eeg_recording_2015-08-01\n",
      "Skipped file. Already present: eeg_recording_2015-08-01\n",
      "Skipped file. Already present: eeg_recording_2015-08-01\n",
      "Skipped file. Already present: eeg_recording_2015-08-01\n",
      "Skipped file. Already present: eeg_recording_2015-08-01\n",
      "Skipped file. Already present: eeg_recording_2015-08-01\n"
     ]
    },
    {
     "name": "stderr",
     "output_type": "stream",
     "text": [
      " 35%|██████████████████████▋                                         | 362/1023 [24:02<54:44,  4.97s/it]"
     ]
    },
    {
     "name": "stdout",
     "output_type": "stream",
     "text": [
      "Skipped file. Already present: eeg_recording_2015-08-01\n",
      "Skipped file. Already present: eeg_recording_2015-08-02\n",
      "Skipped file. Already present: eeg_recording_2015-08-02\n",
      "Skipped file. Already present: eeg_recording_2015-08-02\n",
      "Skipped file. Already present: eeg_recording_2015-08-02\n",
      "Skipped file. Already present: eeg_recording_2015-08-02\n",
      "Skipped file. Already present: eeg_recording_2015-08-02\n"
     ]
    },
    {
     "name": "stderr",
     "output_type": "stream",
     "text": [
      " 35%|██████████████████████▋                                         | 363/1023 [24:07<54:45,  4.98s/it]"
     ]
    },
    {
     "name": "stdout",
     "output_type": "stream",
     "text": [
      "Skipped file. Already present: eeg_recording_2015-08-02\n",
      "Skipped file. Already present: eeg_recording_2015-08-03\n",
      "Skipped file. Already present: eeg_recording_2015-08-03\n",
      "Skipped file. Already present: eeg_recording_2015-08-03\n",
      "Skipped file. Already present: eeg_recording_2015-08-03\n",
      "Skipped file. Already present: eeg_recording_2015-08-03\n",
      "Skipped file. Already present: eeg_recording_2015-08-03\n"
     ]
    },
    {
     "name": "stderr",
     "output_type": "stream",
     "text": [
      " 36%|██████████████████████▊                                         | 364/1023 [24:13<55:15,  5.03s/it]"
     ]
    },
    {
     "name": "stdout",
     "output_type": "stream",
     "text": [
      "Skipped file. Already present: eeg_recording_2015-08-03\n",
      "Skipped file. Already present: eeg_recording_2015-08-04\n",
      "Skipped file. Already present: eeg_recording_2015-08-04\n",
      "Skipped file. Already present: eeg_recording_2015-08-04\n",
      "Skipped file. Already present: eeg_recording_2015-08-04\n",
      "Skipped file. Already present: eeg_recording_2015-08-04\n",
      "Skipped file. Already present: eeg_recording_2015-08-04\n"
     ]
    },
    {
     "name": "stderr",
     "output_type": "stream",
     "text": [
      " 36%|██████████████████████▊                                         | 365/1023 [24:18<55:32,  5.06s/it]"
     ]
    },
    {
     "name": "stdout",
     "output_type": "stream",
     "text": [
      "Skipped file. Already present: eeg_recording_2015-08-04\n",
      "Skipped file. Already present: eeg_recording_2015-08-05\n",
      "Skipped file. Already present: eeg_recording_2015-08-05\n",
      "Skipped file. Already present: eeg_recording_2015-08-05\n",
      "Skipped file. Already present: eeg_recording_2015-08-05\n",
      "Skipped file. Already present: eeg_recording_2015-08-05\n",
      "Skipped file. Already present: eeg_recording_2015-08-05\n"
     ]
    },
    {
     "name": "stderr",
     "output_type": "stream",
     "text": [
      " 36%|██████████████████████▉                                         | 366/1023 [24:23<57:09,  5.22s/it]"
     ]
    },
    {
     "name": "stdout",
     "output_type": "stream",
     "text": [
      "Skipped file. Already present: eeg_recording_2015-08-05\n",
      "Skipped file. Already present: eeg_recording_2015-08-06\n",
      "Skipped file. Already present: eeg_recording_2015-08-06\n",
      "Skipped file. Already present: eeg_recording_2015-08-06\n",
      "Skipped file. Already present: eeg_recording_2015-08-06\n",
      "Skipped file. Already present: eeg_recording_2015-08-06\n",
      "Skipped file. Already present: eeg_recording_2015-08-06\n"
     ]
    },
    {
     "name": "stderr",
     "output_type": "stream",
     "text": [
      " 36%|██████████████████████▉                                         | 367/1023 [24:29<57:30,  5.26s/it]"
     ]
    },
    {
     "name": "stdout",
     "output_type": "stream",
     "text": [
      "Skipped file. Already present: eeg_recording_2015-08-07\n",
      "Skipped file. Already present: eeg_recording_2015-08-07\n",
      "Skipped file. Already present: eeg_recording_2015-08-07\n",
      "Skipped file. Already present: eeg_recording_2015-08-07\n",
      "Skipped file. Already present: eeg_recording_2015-08-07\n",
      "Skipped file. Already present: eeg_recording_2015-08-07\n"
     ]
    },
    {
     "name": "stderr",
     "output_type": "stream",
     "text": [
      " 36%|███████████████████████                                         | 368/1023 [24:34<58:07,  5.32s/it]"
     ]
    },
    {
     "name": "stdout",
     "output_type": "stream",
     "text": [
      "Skipped file. Already present: eeg_recording_2015-08-08\n",
      "Skipped file. Already present: eeg_recording_2015-08-08\n",
      "Skipped file. Already present: eeg_recording_2015-08-08\n",
      "Skipped file. Already present: eeg_recording_2015-08-08\n",
      "Skipped file. Already present: eeg_recording_2015-08-08\n",
      "Skipped file. Already present: eeg_recording_2015-08-08\n"
     ]
    },
    {
     "name": "stderr",
     "output_type": "stream",
     "text": [
      " 36%|███████████████████████                                         | 369/1023 [24:40<58:27,  5.36s/it]"
     ]
    },
    {
     "name": "stdout",
     "output_type": "stream",
     "text": [
      "Skipped file. Already present: eeg_recording_2015-08-09\n",
      "Skipped file. Already present: eeg_recording_2015-08-09\n",
      "Skipped file. Already present: eeg_recording_2015-08-09\n",
      "Skipped file. Already present: eeg_recording_2015-08-09\n",
      "Skipped file. Already present: eeg_recording_2015-08-09\n",
      "Skipped file. Already present: eeg_recording_2015-08-09\n"
     ]
    },
    {
     "name": "stderr",
     "output_type": "stream",
     "text": [
      " 36%|███████████████████████▏                                        | 370/1023 [24:45<58:17,  5.36s/it]"
     ]
    },
    {
     "name": "stdout",
     "output_type": "stream",
     "text": [
      "Skipped file. Already present: eeg_recording_2015-08-10\n",
      "Skipped file. Already present: eeg_recording_2015-08-10\n",
      "Skipped file. Already present: eeg_recording_2015-08-10\n",
      "Skipped file. Already present: eeg_recording_2015-08-10\n",
      "Skipped file. Already present: eeg_recording_2015-08-10\n",
      "Skipped file. Already present: eeg_recording_2015-08-10\n"
     ]
    },
    {
     "name": "stderr",
     "output_type": "stream",
     "text": [
      " 36%|███████████████████████▏                                        | 371/1023 [24:50<57:16,  5.27s/it]"
     ]
    },
    {
     "name": "stdout",
     "output_type": "stream",
     "text": [
      "Skipped file. Already present: eeg_recording_2015-08-11\n",
      "Skipped file. Already present: eeg_recording_2015-08-11\n",
      "Skipped file. Already present: eeg_recording_2015-08-11\n",
      "Skipped file. Already present: eeg_recording_2015-08-11\n",
      "Skipped file. Already present: eeg_recording_2015-08-11\n",
      "Skipped file. Already present: eeg_recording_2015-08-11\n"
     ]
    },
    {
     "name": "stderr",
     "output_type": "stream",
     "text": [
      " 36%|███████████████████████▎                                        | 372/1023 [24:55<57:02,  5.26s/it]"
     ]
    },
    {
     "name": "stdout",
     "output_type": "stream",
     "text": [
      "Skipped file. Already present: eeg_recording_2015-08-12\n",
      "Skipped file. Already present: eeg_recording_2015-08-12\n",
      "Skipped file. Already present: eeg_recording_2015-08-12\n",
      "Skipped file. Already present: eeg_recording_2015-08-12\n",
      "Skipped file. Already present: eeg_recording_2015-08-12\n"
     ]
    },
    {
     "name": "stderr",
     "output_type": "stream",
     "text": [
      " 36%|███████████████████████▎                                        | 373/1023 [25:01<57:00,  5.26s/it]"
     ]
    },
    {
     "name": "stdout",
     "output_type": "stream",
     "text": [
      "Skipped file. Already present: eeg_recording_2015-08-12\n",
      "Skipped file. Already present: eeg_recording_2015-08-12\n",
      "Skipped file. Already present: eeg_recording_2015-08-13\n",
      "Skipped file. Already present: eeg_recording_2015-08-13\n",
      "Skipped file. Already present: eeg_recording_2015-08-13\n",
      "Skipped file. Already present: eeg_recording_2015-08-13\n",
      "Skipped file. Already present: eeg_recording_2015-08-13\n",
      "Skipped file. Already present: eeg_recording_2015-08-13\n"
     ]
    },
    {
     "name": "stderr",
     "output_type": "stream",
     "text": [
      " 37%|███████████████████████▍                                        | 374/1023 [25:06<56:42,  5.24s/it]"
     ]
    },
    {
     "name": "stdout",
     "output_type": "stream",
     "text": [
      "Skipped file. Already present: eeg_recording_2015-08-13\n",
      "Skipped file. Already present: eeg_recording_2015-08-14\n",
      "Skipped file. Already present: eeg_recording_2015-08-14\n",
      "Skipped file. Already present: eeg_recording_2015-08-14\n",
      "Skipped file. Already present: eeg_recording_2015-08-14\n",
      "Skipped file. Already present: eeg_recording_2015-08-14\n",
      "Skipped file. Already present: eeg_recording_2015-08-14\n"
     ]
    },
    {
     "name": "stderr",
     "output_type": "stream",
     "text": [
      " 37%|███████████████████████▍                                        | 375/1023 [25:11<55:58,  5.18s/it]"
     ]
    },
    {
     "name": "stdout",
     "output_type": "stream",
     "text": [
      "Skipped file. Already present: eeg_recording_2015-08-14\n",
      "Skipped file. Already present: eeg_recording_2015-08-15\n",
      "Skipped file. Already present: eeg_recording_2015-08-15\n",
      "Skipped file. Already present: eeg_recording_2015-08-15\n",
      "Skipped file. Already present: eeg_recording_2015-08-15\n",
      "Skipped file. Already present: eeg_recording_2015-08-15\n",
      "Skipped file. Already present: eeg_recording_2015-08-15\n"
     ]
    },
    {
     "name": "stderr",
     "output_type": "stream",
     "text": [
      " 37%|███████████████████████▌                                        | 376/1023 [25:16<55:23,  5.14s/it]"
     ]
    },
    {
     "name": "stdout",
     "output_type": "stream",
     "text": [
      "Skipped file. Already present: eeg_recording_2015-08-15\n",
      "Skipped file. Already present: eeg_recording_2015-08-16\n",
      "Skipped file. Already present: eeg_recording_2015-08-16\n",
      "Skipped file. Already present: eeg_recording_2015-08-16\n",
      "Skipped file. Already present: eeg_recording_2015-08-16\n",
      "Skipped file. Already present: eeg_recording_2015-08-16\n",
      "Skipped file. Already present: eeg_recording_2015-08-16\n"
     ]
    },
    {
     "name": "stderr",
     "output_type": "stream",
     "text": [
      " 37%|███████████████████████▌                                        | 377/1023 [25:21<54:58,  5.11s/it]"
     ]
    },
    {
     "name": "stdout",
     "output_type": "stream",
     "text": [
      "Skipped file. Already present: eeg_recording_2015-08-16\n",
      "Skipped file. Already present: eeg_recording_2015-08-17\n",
      "Skipped file. Already present: eeg_recording_2015-08-17\n",
      "Skipped file. Already present: eeg_recording_2015-08-17\n",
      "Skipped file. Already present: eeg_recording_2015-08-17\n",
      "Skipped file. Already present: eeg_recording_2015-08-17\n",
      "Skipped file. Already present: eeg_recording_2015-08-17\n"
     ]
    },
    {
     "name": "stderr",
     "output_type": "stream",
     "text": [
      " 37%|███████████████████████▋                                        | 378/1023 [25:26<54:36,  5.08s/it]"
     ]
    },
    {
     "name": "stdout",
     "output_type": "stream",
     "text": [
      "Skipped file. Already present: eeg_recording_2015-08-17\n",
      "Skipped file. Already present: eeg_recording_2015-08-18\n",
      "Skipped file. Already present: eeg_recording_2015-08-18\n",
      "Skipped file. Already present: eeg_recording_2015-08-18\n",
      "Skipped file. Already present: eeg_recording_2015-08-18\n",
      "Skipped file. Already present: eeg_recording_2015-08-18\n"
     ]
    },
    {
     "name": "stderr",
     "output_type": "stream",
     "text": [
      " 37%|███████████████████████▋                                        | 379/1023 [25:31<54:05,  5.04s/it]"
     ]
    },
    {
     "name": "stdout",
     "output_type": "stream",
     "text": [
      "Skipped file. Already present: eeg_recording_2015-08-18\n",
      "Skipped file. Already present: eeg_recording_2015-08-19\n",
      "Skipped file. Already present: eeg_recording_2015-08-19\n",
      "Skipped file. Already present: eeg_recording_2015-08-19\n",
      "Skipped file. Already present: eeg_recording_2015-08-19\n",
      "Skipped file. Already present: eeg_recording_2015-08-19\n",
      "Skipped file. Already present: eeg_recording_2015-08-19\n"
     ]
    },
    {
     "name": "stderr",
     "output_type": "stream",
     "text": [
      " 37%|███████████████████████▊                                        | 380/1023 [25:36<53:03,  4.95s/it]"
     ]
    },
    {
     "name": "stdout",
     "output_type": "stream",
     "text": [
      "Skipped file. Already present: eeg_recording_2015-08-20\n",
      "Skipped file. Already present: eeg_recording_2015-08-20\n",
      "Skipped file. Already present: eeg_recording_2015-08-20\n",
      "Skipped file. Already present: eeg_recording_2015-08-20\n",
      "Skipped file. Already present: eeg_recording_2015-08-20\n"
     ]
    },
    {
     "name": "stderr",
     "output_type": "stream",
     "text": [
      " 37%|███████████████████████▊                                        | 381/1023 [25:40<52:37,  4.92s/it]"
     ]
    },
    {
     "name": "stdout",
     "output_type": "stream",
     "text": [
      "Skipped file. Already present: eeg_recording_2015-08-20\n"
     ]
    },
    {
     "name": "stderr",
     "output_type": "stream",
     "text": [
      " 37%|███████████████████████▉                                        | 382/1023 [25:45<52:43,  4.93s/it]"
     ]
    },
    {
     "name": "stdout",
     "output_type": "stream",
     "text": [
      "Skipped file. Already present: eeg_recording_2015-08-21\n",
      "Skipped file. Already present: eeg_recording_2015-08-22\n",
      "Skipped file. Already present: eeg_recording_2015-08-22\n",
      "Skipped file. Already present: eeg_recording_2015-08-22\n",
      "Skipped file. Already present: eeg_recording_2015-08-22\n",
      "Skipped file. Already present: eeg_recording_2015-08-22\n",
      "Skipped file. Already present: eeg_recording_2015-08-22\n"
     ]
    },
    {
     "name": "stderr",
     "output_type": "stream",
     "text": [
      " 37%|███████████████████████▉                                        | 383/1023 [25:51<54:26,  5.10s/it]"
     ]
    },
    {
     "name": "stdout",
     "output_type": "stream",
     "text": [
      "Skipped file. Already present: eeg_recording_2015-08-22\n",
      "Skipped file. Already present: eeg_recording_2015-08-23\n",
      "Skipped file. Already present: eeg_recording_2015-08-23\n",
      "Skipped file. Already present: eeg_recording_2015-08-23\n",
      "Skipped file. Already present: eeg_recording_2015-08-23\n",
      "Skipped file. Already present: eeg_recording_2015-08-23\n",
      "Skipped file. Already present: eeg_recording_2015-08-23\n"
     ]
    },
    {
     "name": "stderr",
     "output_type": "stream",
     "text": [
      " 38%|████████████████████████                                        | 384/1023 [25:56<55:26,  5.21s/it]"
     ]
    },
    {
     "name": "stdout",
     "output_type": "stream",
     "text": [
      "Skipped file. Already present: eeg_recording_2015-08-23\n",
      "Skipped file. Already present: eeg_recording_2015-08-24\n",
      "Skipped file. Already present: eeg_recording_2015-08-24\n",
      "Skipped file. Already present: eeg_recording_2015-08-24\n",
      "Skipped file. Already present: eeg_recording_2015-08-24\n",
      "Skipped file. Already present: eeg_recording_2015-08-24\n",
      "Skipped file. Already present: eeg_recording_2015-08-24\n"
     ]
    },
    {
     "name": "stderr",
     "output_type": "stream",
     "text": [
      " 38%|████████████████████████                                        | 385/1023 [26:02<56:33,  5.32s/it]"
     ]
    },
    {
     "name": "stdout",
     "output_type": "stream",
     "text": [
      "Skipped file. Already present: eeg_recording_2015-08-24\n",
      "Skipped file. Already present: eeg_recording_2015-08-25\n",
      "Skipped file. Already present: eeg_recording_2015-08-25\n",
      "Skipped file. Already present: eeg_recording_2015-08-25\n",
      "Skipped file. Already present: eeg_recording_2015-08-25\n",
      "Skipped file. Already present: eeg_recording_2015-08-25\n"
     ]
    },
    {
     "name": "stderr",
     "output_type": "stream",
     "text": [
      " 38%|████████████████████████▏                                       | 386/1023 [26:08<58:46,  5.54s/it]"
     ]
    },
    {
     "name": "stdout",
     "output_type": "stream",
     "text": [
      "Skipped file. Already present: eeg_recording_2015-08-25\n",
      "Skipped file. Already present: eeg_recording_2015-08-25\n",
      "Skipped file. Already present: eeg_recording_2015-08-25\n",
      "Skipped file. Already present: eeg_recording_2015-08-26\n",
      "Skipped file. Already present: eeg_recording_2015-08-26\n",
      "Skipped file. Already present: eeg_recording_2015-08-26\n",
      "Skipped file. Already present: eeg_recording_2015-08-26\n",
      "Skipped file. Already present: eeg_recording_2015-08-26\n",
      "Skipped file. Already present: eeg_recording_2015-08-26\n"
     ]
    },
    {
     "name": "stderr",
     "output_type": "stream",
     "text": [
      " 38%|███████████████████████▍                                      | 387/1023 [26:14<1:00:58,  5.75s/it]"
     ]
    },
    {
     "name": "stdout",
     "output_type": "stream",
     "text": [
      "Skipped file. Already present: eeg_recording_2015-08-26\n",
      "Skipped file. Already present: eeg_recording_2015-08-26\n",
      "Skipped file. Already present: eeg_recording_2015-08-27\n",
      "Skipped file. Already present: eeg_recording_2015-08-27\n",
      "Skipped file. Already present: eeg_recording_2015-08-27\n",
      "Skipped file. Already present: eeg_recording_2015-08-27\n",
      "Skipped file. Already present: eeg_recording_2015-08-27\n",
      "Skipped file. Already present: eeg_recording_2015-08-27\n"
     ]
    },
    {
     "name": "stderr",
     "output_type": "stream",
     "text": [
      " 38%|███████████████████████▌                                      | 388/1023 [26:20<1:02:26,  5.90s/it]"
     ]
    },
    {
     "name": "stdout",
     "output_type": "stream",
     "text": [
      "Skipped file. Already present: eeg_recording_2015-08-27\n",
      "Skipped file. Already present: eeg_recording_2015-08-27\n",
      "Skipped file. Already present: eeg_recording_2015-08-28\n",
      "Skipped file. Already present: eeg_recording_2015-08-28\n",
      "Skipped file. Already present: eeg_recording_2015-08-28\n",
      "Skipped file. Already present: eeg_recording_2015-08-28\n",
      "Skipped file. Already present: eeg_recording_2015-08-28\n",
      "Skipped file. Already present: eeg_recording_2015-08-28\n"
     ]
    },
    {
     "name": "stderr",
     "output_type": "stream",
     "text": [
      " 38%|███████████████████████▌                                      | 389/1023 [26:26<1:02:45,  5.94s/it]"
     ]
    },
    {
     "name": "stdout",
     "output_type": "stream",
     "text": [
      "Skipped file. Already present: eeg_recording_2015-08-28\n",
      "Skipped file. Already present: eeg_recording_2015-08-28\n",
      "Skipped file. Already present: eeg_recording_2015-08-29\n",
      "Skipped file. Already present: eeg_recording_2015-08-29\n",
      "Skipped file. Already present: eeg_recording_2015-08-29\n",
      "Skipped file. Already present: eeg_recording_2015-08-29\n",
      "Skipped file. Already present: eeg_recording_2015-08-29\n",
      "Skipped file. Already present: eeg_recording_2015-08-29\n"
     ]
    },
    {
     "name": "stderr",
     "output_type": "stream",
     "text": [
      " 38%|███████████████████████▋                                      | 390/1023 [26:33<1:03:47,  6.05s/it]"
     ]
    },
    {
     "name": "stdout",
     "output_type": "stream",
     "text": [
      "Skipped file. Already present: eeg_recording_2015-08-29\n",
      "Skipped file. Already present: eeg_recording_2015-08-29\n",
      "Skipped file. Already present: eeg_recording_2015-08-30\n",
      "Skipped file. Already present: eeg_recording_2015-08-30\n",
      "Skipped file. Already present: eeg_recording_2015-08-30\n",
      "Skipped file. Already present: eeg_recording_2015-08-30\n",
      "Skipped file. Already present: eeg_recording_2015-08-30\n",
      "Skipped file. Already present: eeg_recording_2015-08-30\n"
     ]
    },
    {
     "name": "stderr",
     "output_type": "stream",
     "text": [
      " 38%|███████████████████████▋                                      | 391/1023 [26:39<1:03:41,  6.05s/it]"
     ]
    },
    {
     "name": "stdout",
     "output_type": "stream",
     "text": [
      "Skipped file. Already present: eeg_recording_2015-08-30\n",
      "Skipped file. Already present: eeg_recording_2015-08-30\n",
      "Skipped file. Already present: eeg_recording_2015-08-31\n",
      "Skipped file. Already present: eeg_recording_2015-08-31\n",
      "Skipped file. Already present: eeg_recording_2015-08-31\n",
      "Skipped file. Already present: eeg_recording_2015-08-31\n",
      "Skipped file. Already present: eeg_recording_2015-08-31\n",
      "Skipped file. Already present: eeg_recording_2015-08-31\n"
     ]
    },
    {
     "name": "stderr",
     "output_type": "stream",
     "text": [
      " 38%|███████████████████████▊                                      | 392/1023 [26:45<1:03:37,  6.05s/it]"
     ]
    },
    {
     "name": "stdout",
     "output_type": "stream",
     "text": [
      "Skipped file. Already present: eeg_recording_2015-08-31\n",
      "Skipped file. Already present: eeg_recording_2015-08-31\n",
      "Skipped file. Already present: eeg_recording_2015-09-01\n",
      "Skipped file. Already present: eeg_recording_2015-09-01\n",
      "Skipped file. Already present: eeg_recording_2015-09-01\n",
      "Skipped file. Already present: eeg_recording_2015-09-01\n",
      "Skipped file. Already present: eeg_recording_2015-09-01\n",
      "Skipped file. Already present: eeg_recording_2015-09-01\n"
     ]
    },
    {
     "name": "stderr",
     "output_type": "stream",
     "text": [
      " 38%|███████████████████████▊                                      | 393/1023 [26:51<1:04:07,  6.11s/it]"
     ]
    },
    {
     "name": "stdout",
     "output_type": "stream",
     "text": [
      "Skipped file. Already present: eeg_recording_2015-09-01\n",
      "Skipped file. Already present: eeg_recording_2015-09-01\n",
      "Skipped file. Already present: eeg_recording_2015-09-02\n",
      "Skipped file. Already present: eeg_recording_2015-09-02\n",
      "Skipped file. Already present: eeg_recording_2015-09-02\n",
      "Skipped file. Already present: eeg_recording_2015-09-02\n",
      "Skipped file. Already present: eeg_recording_2015-09-02\n",
      "Skipped file. Already present: eeg_recording_2015-09-02\n"
     ]
    },
    {
     "name": "stderr",
     "output_type": "stream",
     "text": [
      " 39%|███████████████████████▉                                      | 394/1023 [26:57<1:04:16,  6.13s/it]"
     ]
    },
    {
     "name": "stdout",
     "output_type": "stream",
     "text": [
      "Skipped file. Already present: eeg_recording_2015-09-02\n",
      "Skipped file. Already present: eeg_recording_2015-09-02\n",
      "Skipped file. Already present: eeg_recording_2015-09-03\n",
      "Skipped file. Already present: eeg_recording_2015-09-03\n",
      "Skipped file. Already present: eeg_recording_2015-09-03\n",
      "Skipped file. Already present: eeg_recording_2015-09-03\n",
      "Skipped file. Already present: eeg_recording_2015-09-03\n",
      "Skipped file. Already present: eeg_recording_2015-09-03\n"
     ]
    },
    {
     "name": "stderr",
     "output_type": "stream",
     "text": [
      " 39%|███████████████████████▉                                      | 395/1023 [27:03<1:04:15,  6.14s/it]"
     ]
    },
    {
     "name": "stdout",
     "output_type": "stream",
     "text": [
      "Skipped file. Already present: eeg_recording_2015-09-03\n",
      "Skipped file. Already present: eeg_recording_2015-09-03\n",
      "Skipped file. Already present: eeg_recording_2015-09-04\n",
      "Skipped file. Already present: eeg_recording_2015-09-04\n",
      "Skipped file. Already present: eeg_recording_2015-09-04\n",
      "Skipped file. Already present: eeg_recording_2015-09-04\n",
      "Skipped file. Already present: eeg_recording_2015-09-04\n",
      "Skipped file. Already present: eeg_recording_2015-09-04\n"
     ]
    },
    {
     "name": "stderr",
     "output_type": "stream",
     "text": [
      " 39%|████████████████████████                                      | 396/1023 [27:09<1:03:47,  6.10s/it]"
     ]
    },
    {
     "name": "stdout",
     "output_type": "stream",
     "text": [
      "Skipped file. Already present: eeg_recording_2015-09-04\n",
      "Skipped file. Already present: eeg_recording_2015-09-04\n",
      "Skipped file. Already present: eeg_recording_2015-09-05\n",
      "Skipped file. Already present: eeg_recording_2015-09-05\n",
      "Skipped file. Already present: eeg_recording_2015-09-05\n",
      "Skipped file. Already present: eeg_recording_2015-09-05\n",
      "Skipped file. Already present: eeg_recording_2015-09-05\n",
      "Skipped file. Already present: eeg_recording_2015-09-05\n"
     ]
    },
    {
     "name": "stderr",
     "output_type": "stream",
     "text": [
      " 39%|████████████████████████                                      | 397/1023 [27:16<1:04:20,  6.17s/it]"
     ]
    },
    {
     "name": "stdout",
     "output_type": "stream",
     "text": [
      "Skipped file. Already present: eeg_recording_2015-09-05\n",
      "Skipped file. Already present: eeg_recording_2015-09-05\n",
      "Skipped file. Already present: eeg_recording_2015-09-06\n",
      "Skipped file. Already present: eeg_recording_2015-09-06\n",
      "Skipped file. Already present: eeg_recording_2015-09-06\n",
      "Skipped file. Already present: eeg_recording_2015-09-06\n",
      "Skipped file. Already present: eeg_recording_2015-09-06\n",
      "Skipped file. Already present: eeg_recording_2015-09-06\n"
     ]
    },
    {
     "name": "stderr",
     "output_type": "stream",
     "text": [
      " 39%|████████████████████████                                      | 398/1023 [27:22<1:04:27,  6.19s/it]"
     ]
    },
    {
     "name": "stdout",
     "output_type": "stream",
     "text": [
      "Skipped file. Already present: eeg_recording_2015-09-06\n",
      "Skipped file. Already present: eeg_recording_2015-09-06\n",
      "Skipped file. Already present: eeg_recording_2015-09-07\n",
      "Skipped file. Already present: eeg_recording_2015-09-07\n",
      "Skipped file. Already present: eeg_recording_2015-09-07\n",
      "Skipped file. Already present: eeg_recording_2015-09-07\n",
      "Skipped file. Already present: eeg_recording_2015-09-07\n",
      "Skipped file. Already present: eeg_recording_2015-09-07\n"
     ]
    },
    {
     "name": "stderr",
     "output_type": "stream",
     "text": [
      " 39%|████████████████████████▏                                     | 399/1023 [27:28<1:04:17,  6.18s/it]"
     ]
    },
    {
     "name": "stdout",
     "output_type": "stream",
     "text": [
      "Skipped file. Already present: eeg_recording_2015-09-07\n",
      "Skipped file. Already present: eeg_recording_2015-09-07\n",
      "Skipped file. Already present: eeg_recording_2015-09-08\n",
      "Skipped file. Already present: eeg_recording_2015-09-08\n",
      "Skipped file. Already present: eeg_recording_2015-09-08\n",
      "Skipped file. Already present: eeg_recording_2015-09-08\n",
      "Skipped file. Already present: eeg_recording_2015-09-08\n",
      "Skipped file. Already present: eeg_recording_2015-09-08\n",
      "Skipped file. Already present: eeg_recording_2015-09-08\n",
      "Skipped file. Already present: eeg_recording_2015-09-08\n",
      "Skipped file. Already present: eeg_recording_2015-09-08\n"
     ]
    },
    {
     "name": "stderr",
     "output_type": "stream",
     "text": [
      " 39%|████████████████████████▏                                     | 400/1023 [27:35<1:05:27,  6.30s/it]"
     ]
    },
    {
     "name": "stdout",
     "output_type": "stream",
     "text": [
      "Skipped file. Already present: eeg_recording_2015-09-09\n",
      "Skipped file. Already present: eeg_recording_2015-09-09\n",
      "Skipped file. Already present: eeg_recording_2015-09-09\n",
      "Skipped file. Already present: eeg_recording_2015-09-09\n",
      "Skipped file. Already present: eeg_recording_2015-09-09\n",
      "Skipped file. Already present: eeg_recording_2015-09-09\n"
     ]
    },
    {
     "name": "stderr",
     "output_type": "stream",
     "text": [
      " 39%|████████████████████████▎                                     | 401/1023 [27:41<1:06:19,  6.40s/it]"
     ]
    },
    {
     "name": "stdout",
     "output_type": "stream",
     "text": [
      "Skipped file. Already present: eeg_recording_2015-09-09\n",
      "Skipped file. Already present: eeg_recording_2015-09-09\n",
      "Skipped file. Already present: eeg_recording_2015-09-09\n",
      "Skipped file. Already present: eeg_recording_2015-09-10\n",
      "Skipped file. Already present: eeg_recording_2015-09-10\n",
      "Skipped file. Already present: eeg_recording_2015-09-10\n",
      "Skipped file. Already present: eeg_recording_2015-09-10\n",
      "Skipped file. Already present: eeg_recording_2015-09-10\n",
      "Skipped file. Already present: eeg_recording_2015-09-10\n",
      "Skipped file. Already present: eeg_recording_2015-09-10\n",
      "Skipped file. Already present: eeg_recording_2015-09-10\n",
      "Skipped file. Already present: eeg_recording_2015-09-10\n"
     ]
    },
    {
     "name": "stderr",
     "output_type": "stream",
     "text": [
      " 39%|████████████████████████▎                                     | 402/1023 [27:48<1:07:13,  6.49s/it]"
     ]
    },
    {
     "name": "stdout",
     "output_type": "stream",
     "text": [
      "Skipped file. Already present: eeg_recording_2015-09-11\n",
      "Skipped file. Already present: eeg_recording_2015-09-11\n",
      "Skipped file. Already present: eeg_recording_2015-09-11\n",
      "Skipped file. Already present: eeg_recording_2015-09-11\n",
      "Skipped file. Already present: eeg_recording_2015-09-11\n",
      "Skipped file. Already present: eeg_recording_2015-09-11\n"
     ]
    },
    {
     "name": "stderr",
     "output_type": "stream",
     "text": [
      " 39%|████████████████████████▍                                     | 403/1023 [27:55<1:07:25,  6.52s/it]"
     ]
    },
    {
     "name": "stdout",
     "output_type": "stream",
     "text": [
      "Skipped file. Already present: eeg_recording_2015-09-11\n",
      "Skipped file. Already present: eeg_recording_2015-09-11\n",
      "Skipped file. Already present: eeg_recording_2015-09-11\n",
      "Skipped file. Already present: eeg_recording_2015-09-12\n",
      "Skipped file. Already present: eeg_recording_2015-09-12\n",
      "Skipped file. Already present: eeg_recording_2015-09-12\n",
      "Skipped file. Already present: eeg_recording_2015-09-12\n",
      "Skipped file. Already present: eeg_recording_2015-09-12\n",
      "Skipped file. Already present: eeg_recording_2015-09-12\n"
     ]
    },
    {
     "name": "stderr",
     "output_type": "stream",
     "text": [
      " 39%|████████████████████████▍                                     | 404/1023 [28:01<1:08:00,  6.59s/it]"
     ]
    },
    {
     "name": "stdout",
     "output_type": "stream",
     "text": [
      "Skipped file. Already present: eeg_recording_2015-09-12\n",
      "Skipped file. Already present: eeg_recording_2015-09-12\n",
      "Skipped file. Already present: eeg_recording_2015-09-12\n",
      "Skipped file. Already present: eeg_recording_2015-09-13\n",
      "Skipped file. Already present: eeg_recording_2015-09-13\n",
      "Skipped file. Already present: eeg_recording_2015-09-13\n",
      "Skipped file. Already present: eeg_recording_2015-09-13\n",
      "Skipped file. Already present: eeg_recording_2015-09-13\n",
      "Skipped file. Already present: eeg_recording_2015-09-13\n"
     ]
    },
    {
     "name": "stderr",
     "output_type": "stream",
     "text": [
      " 40%|████████████████████████▌                                     | 405/1023 [28:08<1:08:20,  6.64s/it]"
     ]
    },
    {
     "name": "stdout",
     "output_type": "stream",
     "text": [
      "Skipped file. Already present: eeg_recording_2015-09-13\n",
      "Skipped file. Already present: eeg_recording_2015-09-13\n",
      "Skipped file. Already present: eeg_recording_2015-09-13\n",
      "Skipped file. Already present: eeg_recording_2015-09-14\n",
      "Skipped file. Already present: eeg_recording_2015-09-14\n",
      "Skipped file. Already present: eeg_recording_2015-09-14\n",
      "Skipped file. Already present: eeg_recording_2015-09-14\n",
      "Skipped file. Already present: eeg_recording_2015-09-14\n",
      "Skipped file. Already present: eeg_recording_2015-09-14\n"
     ]
    },
    {
     "name": "stderr",
     "output_type": "stream",
     "text": [
      " 40%|████████████████████████▌                                     | 406/1023 [28:15<1:07:37,  6.58s/it]"
     ]
    },
    {
     "name": "stdout",
     "output_type": "stream",
     "text": [
      "Skipped file. Already present: eeg_recording_2015-09-14\n",
      "Skipped file. Already present: eeg_recording_2015-09-14\n",
      "Skipped file. Already present: eeg_recording_2015-09-14\n",
      "Skipped file. Already present: eeg_recording_2015-09-15\n",
      "Skipped file. Already present: eeg_recording_2015-09-15\n",
      "Skipped file. Already present: eeg_recording_2015-09-15\n",
      "Skipped file. Already present: eeg_recording_2015-09-15\n",
      "Skipped file. Already present: eeg_recording_2015-09-15\n",
      "Skipped file. Already present: eeg_recording_2015-09-15\n"
     ]
    },
    {
     "name": "stderr",
     "output_type": "stream",
     "text": [
      " 40%|████████████████████████▋                                     | 407/1023 [28:21<1:07:17,  6.56s/it]"
     ]
    },
    {
     "name": "stdout",
     "output_type": "stream",
     "text": [
      "Skipped file. Already present: eeg_recording_2015-09-15\n",
      "Skipped file. Already present: eeg_recording_2015-09-15\n",
      "Skipped file. Already present: eeg_recording_2015-09-16\n",
      "Skipped file. Already present: eeg_recording_2015-09-16\n",
      "Skipped file. Already present: eeg_recording_2015-09-16\n",
      "Skipped file. Already present: eeg_recording_2015-09-16\n",
      "Skipped file. Already present: eeg_recording_2015-09-16\n",
      "Skipped file. Already present: eeg_recording_2015-09-16\n"
     ]
    },
    {
     "name": "stderr",
     "output_type": "stream",
     "text": [
      " 40%|████████████████████████▋                                     | 408/1023 [28:28<1:07:18,  6.57s/it]"
     ]
    },
    {
     "name": "stdout",
     "output_type": "stream",
     "text": [
      "Skipped file. Already present: eeg_recording_2015-09-16\n",
      "Skipped file. Already present: eeg_recording_2015-09-16\n",
      "Skipped file. Already present: eeg_recording_2015-09-16\n",
      "Skipped file. Already present: eeg_recording_2015-09-17\n",
      "Skipped file. Already present: eeg_recording_2015-09-17\n",
      "Skipped file. Already present: eeg_recording_2015-09-17\n",
      "Skipped file. Already present: eeg_recording_2015-09-17\n",
      "Skipped file. Already present: eeg_recording_2015-09-17\n",
      "Skipped file. Already present: eeg_recording_2015-09-17\n"
     ]
    },
    {
     "name": "stderr",
     "output_type": "stream",
     "text": [
      " 40%|████████████████████████▊                                     | 409/1023 [28:34<1:07:35,  6.60s/it]"
     ]
    },
    {
     "name": "stdout",
     "output_type": "stream",
     "text": [
      "Skipped file. Already present: eeg_recording_2015-09-17\n",
      "Skipped file. Already present: eeg_recording_2015-09-17\n",
      "Skipped file. Already present: eeg_recording_2015-09-17\n",
      "Skipped file. Already present: eeg_recording_2015-09-18\n",
      "Skipped file. Already present: eeg_recording_2015-09-18\n",
      "Skipped file. Already present: eeg_recording_2015-09-18\n",
      "Skipped file. Already present: eeg_recording_2015-09-18\n",
      "Skipped file. Already present: eeg_recording_2015-09-18\n",
      "Skipped file. Already present: eeg_recording_2015-09-18\n"
     ]
    },
    {
     "name": "stderr",
     "output_type": "stream",
     "text": [
      " 40%|████████████████████████▊                                     | 410/1023 [28:41<1:06:52,  6.55s/it]"
     ]
    },
    {
     "name": "stdout",
     "output_type": "stream",
     "text": [
      "Skipped file. Already present: eeg_recording_2015-09-18\n",
      "Skipped file. Already present: eeg_recording_2015-09-18\n",
      "Skipped file. Already present: eeg_recording_2015-09-18\n",
      "Skipped file. Already present: eeg_recording_2015-09-19\n",
      "Skipped file. Already present: eeg_recording_2015-09-19\n",
      "Skipped file. Already present: eeg_recording_2015-09-19\n",
      "Skipped file. Already present: eeg_recording_2015-09-19\n",
      "Skipped file. Already present: eeg_recording_2015-09-19\n",
      "Skipped file. Already present: eeg_recording_2015-09-19\n"
     ]
    },
    {
     "name": "stderr",
     "output_type": "stream",
     "text": [
      " 40%|████████████████████████▉                                     | 411/1023 [28:47<1:06:57,  6.56s/it]"
     ]
    },
    {
     "name": "stdout",
     "output_type": "stream",
     "text": [
      "Skipped file. Already present: eeg_recording_2015-09-19\n",
      "Skipped file. Already present: eeg_recording_2015-09-19\n",
      "Skipped file. Already present: eeg_recording_2015-09-19\n",
      "Skipped file. Already present: eeg_recording_2015-09-20\n",
      "Skipped file. Already present: eeg_recording_2015-09-20\n",
      "Skipped file. Already present: eeg_recording_2015-09-20\n",
      "Skipped file. Already present: eeg_recording_2015-09-20\n",
      "Skipped file. Already present: eeg_recording_2015-09-20\n",
      "Skipped file. Already present: eeg_recording_2015-09-20\n"
     ]
    },
    {
     "name": "stderr",
     "output_type": "stream",
     "text": [
      " 40%|████████████████████████▉                                     | 412/1023 [28:54<1:06:54,  6.57s/it]"
     ]
    },
    {
     "name": "stdout",
     "output_type": "stream",
     "text": [
      "Skipped file. Already present: eeg_recording_2015-09-20\n",
      "Skipped file. Already present: eeg_recording_2015-09-20\n",
      "Skipped file. Already present: eeg_recording_2015-09-20\n",
      "Skipped file. Already present: eeg_recording_2015-09-21\n",
      "Skipped file. Already present: eeg_recording_2015-09-21\n",
      "Skipped file. Already present: eeg_recording_2015-09-21\n",
      "Skipped file. Already present: eeg_recording_2015-09-21\n",
      "Skipped file. Already present: eeg_recording_2015-09-21\n",
      "Skipped file. Already present: eeg_recording_2015-09-21\n"
     ]
    },
    {
     "name": "stderr",
     "output_type": "stream",
     "text": [
      " 40%|█████████████████████████                                     | 413/1023 [29:01<1:06:48,  6.57s/it]"
     ]
    },
    {
     "name": "stdout",
     "output_type": "stream",
     "text": [
      "Skipped file. Already present: eeg_recording_2015-09-21\n",
      "Skipped file. Already present: eeg_recording_2015-09-21\n",
      "Skipped file. Already present: eeg_recording_2015-09-21\n",
      "Skipped file. Already present: eeg_recording_2015-09-22\n",
      "Skipped file. Already present: eeg_recording_2015-09-22\n",
      "Skipped file. Already present: eeg_recording_2015-09-22\n",
      "Skipped file. Already present: eeg_recording_2015-09-22\n",
      "Skipped file. Already present: eeg_recording_2015-09-22\n",
      "Skipped file. Already present: eeg_recording_2015-09-22\n"
     ]
    },
    {
     "name": "stderr",
     "output_type": "stream",
     "text": [
      " 40%|█████████████████████████                                     | 414/1023 [29:07<1:06:39,  6.57s/it]"
     ]
    },
    {
     "name": "stdout",
     "output_type": "stream",
     "text": [
      "Skipped file. Already present: eeg_recording_2015-09-22\n",
      "Skipped file. Already present: eeg_recording_2015-09-22\n",
      "Skipped file. Already present: eeg_recording_2015-09-22\n",
      "Skipped file. Already present: eeg_recording_2015-09-23\n",
      "Skipped file. Already present: eeg_recording_2015-09-23\n",
      "Skipped file. Already present: eeg_recording_2015-09-23\n",
      "Skipped file. Already present: eeg_recording_2015-09-23\n",
      "Skipped file. Already present: eeg_recording_2015-09-23\n",
      "Skipped file. Already present: eeg_recording_2015-09-23\n"
     ]
    },
    {
     "name": "stderr",
     "output_type": "stream",
     "text": [
      " 41%|█████████████████████████▏                                    | 415/1023 [29:14<1:06:53,  6.60s/it]"
     ]
    },
    {
     "name": "stdout",
     "output_type": "stream",
     "text": [
      "Skipped file. Already present: eeg_recording_2015-09-23\n",
      "Skipped file. Already present: eeg_recording_2015-09-23\n",
      "Skipped file. Already present: eeg_recording_2015-09-23\n"
     ]
    },
    {
     "name": "stderr",
     "output_type": "stream",
     "text": [
      " 41%|█████████████████████████▏                                    | 416/1023 [29:20<1:05:06,  6.43s/it]"
     ]
    },
    {
     "name": "stdout",
     "output_type": "stream",
     "text": [
      "Skipped file. Already present: eeg_recording_2015-09-24\n",
      "Skipped file. Already present: eeg_recording_2015-09-25\n",
      "Skipped file. Already present: eeg_recording_2015-09-25\n",
      "Skipped file. Already present: eeg_recording_2015-09-25\n",
      "Skipped file. Already present: eeg_recording_2015-09-25\n",
      "Skipped file. Already present: eeg_recording_2015-09-25\n",
      "Skipped file. Already present: eeg_recording_2015-09-25\n"
     ]
    },
    {
     "name": "stderr",
     "output_type": "stream",
     "text": [
      " 41%|█████████████████████████▎                                    | 417/1023 [29:26<1:05:00,  6.44s/it]"
     ]
    },
    {
     "name": "stdout",
     "output_type": "stream",
     "text": [
      "Skipped file. Already present: eeg_recording_2015-09-25\n",
      "Skipped file. Already present: eeg_recording_2015-09-25\n",
      "Skipped file. Already present: eeg_recording_2015-09-25\n",
      "Skipped file. Already present: eeg_recording_2015-09-26\n",
      "Skipped file. Already present: eeg_recording_2015-09-26\n",
      "Skipped file. Already present: eeg_recording_2015-09-26\n",
      "Skipped file. Already present: eeg_recording_2015-09-26\n",
      "Skipped file. Already present: eeg_recording_2015-09-26\n",
      "Skipped file. Already present: eeg_recording_2015-09-26\n"
     ]
    },
    {
     "name": "stderr",
     "output_type": "stream",
     "text": [
      " 41%|█████████████████████████▎                                    | 418/1023 [29:33<1:04:41,  6.42s/it]"
     ]
    },
    {
     "name": "stdout",
     "output_type": "stream",
     "text": [
      "Skipped file. Already present: eeg_recording_2015-09-26\n",
      "Skipped file. Already present: eeg_recording_2015-09-26\n",
      "Skipped file. Already present: eeg_recording_2015-09-26\n",
      "Skipped file. Already present: eeg_recording_2015-09-27\n",
      "Skipped file. Already present: eeg_recording_2015-09-27\n",
      "Skipped file. Already present: eeg_recording_2015-09-27\n",
      "Skipped file. Already present: eeg_recording_2015-09-27\n",
      "Skipped file. Already present: eeg_recording_2015-09-27\n",
      "Skipped file. Already present: eeg_recording_2015-09-27\n"
     ]
    },
    {
     "name": "stderr",
     "output_type": "stream",
     "text": [
      " 41%|█████████████████████████▍                                    | 419/1023 [29:39<1:04:24,  6.40s/it]"
     ]
    },
    {
     "name": "stdout",
     "output_type": "stream",
     "text": [
      "Skipped file. Already present: eeg_recording_2015-09-27\n",
      "Skipped file. Already present: eeg_recording_2015-09-27\n",
      "Skipped file. Already present: eeg_recording_2015-09-27\n",
      "Skipped file. Already present: eeg_recording_2015-09-28\n",
      "Skipped file. Already present: eeg_recording_2015-09-28\n",
      "Skipped file. Already present: eeg_recording_2015-09-28\n",
      "Skipped file. Already present: eeg_recording_2015-09-28\n",
      "Skipped file. Already present: eeg_recording_2015-09-28\n",
      "Skipped file. Already present: eeg_recording_2015-09-28\n"
     ]
    },
    {
     "name": "stderr",
     "output_type": "stream",
     "text": [
      " 41%|█████████████████████████▍                                    | 420/1023 [29:45<1:03:34,  6.33s/it]"
     ]
    },
    {
     "name": "stdout",
     "output_type": "stream",
     "text": [
      "Skipped file. Already present: eeg_recording_2015-09-28\n",
      "Skipped file. Already present: eeg_recording_2015-09-28\n",
      "Skipped file. Already present: eeg_recording_2015-09-28\n",
      "Skipped file. Already present: eeg_recording_2015-09-29\n",
      "Skipped file. Already present: eeg_recording_2015-09-29\n",
      "Skipped file. Already present: eeg_recording_2015-09-29\n",
      "Skipped file. Already present: eeg_recording_2015-09-29\n",
      "Skipped file. Already present: eeg_recording_2015-09-29\n",
      "Skipped file. Already present: eeg_recording_2015-09-29\n"
     ]
    },
    {
     "name": "stderr",
     "output_type": "stream",
     "text": [
      " 41%|█████████████████████████▌                                    | 421/1023 [29:51<1:02:17,  6.21s/it]"
     ]
    },
    {
     "name": "stdout",
     "output_type": "stream",
     "text": [
      "Skipped file. Already present: eeg_recording_2015-09-29\n",
      "Skipped file. Already present: eeg_recording_2015-09-29\n",
      "Skipped file. Already present: eeg_recording_2015-09-30\n",
      "Skipped file. Already present: eeg_recording_2015-09-30\n",
      "Skipped file. Already present: eeg_recording_2015-09-30\n",
      "Skipped file. Already present: eeg_recording_2015-09-30\n",
      "Skipped file. Already present: eeg_recording_2015-09-30\n",
      "Skipped file. Already present: eeg_recording_2015-09-30\n",
      "Skipped file. Already present: eeg_recording_2015-09-30\n",
      "Skipped file. Already present: eeg_recording_2015-09-30\n"
     ]
    },
    {
     "name": "stderr",
     "output_type": "stream",
     "text": [
      " 41%|█████████████████████████▌                                    | 422/1023 [29:57<1:02:11,  6.21s/it]"
     ]
    },
    {
     "name": "stdout",
     "output_type": "stream",
     "text": [
      "Skipped file. Already present: eeg_recording_2015-10-01\n",
      "Skipped file. Already present: eeg_recording_2015-10-01\n",
      "Skipped file. Already present: eeg_recording_2015-10-01\n",
      "Skipped file. Already present: eeg_recording_2015-10-01\n",
      "Skipped file. Already present: eeg_recording_2015-10-01\n",
      "Skipped file. Already present: eeg_recording_2015-10-01\n"
     ]
    },
    {
     "name": "stderr",
     "output_type": "stream",
     "text": [
      " 41%|█████████████████████████▋                                    | 423/1023 [30:03<1:01:21,  6.14s/it]"
     ]
    },
    {
     "name": "stdout",
     "output_type": "stream",
     "text": [
      "Skipped file. Already present: eeg_recording_2015-10-01\n",
      "Skipped file. Already present: eeg_recording_2015-10-01\n",
      "Skipped file. Already present: eeg_recording_2015-10-02\n",
      "Skipped file. Already present: eeg_recording_2015-10-02\n",
      "Skipped file. Already present: eeg_recording_2015-10-02\n",
      "Skipped file. Already present: eeg_recording_2015-10-02\n",
      "Skipped file. Already present: eeg_recording_2015-10-02\n",
      "Skipped file. Already present: eeg_recording_2015-10-02\n"
     ]
    },
    {
     "name": "stderr",
     "output_type": "stream",
     "text": [
      " 41%|█████████████████████████▋                                    | 424/1023 [30:09<1:00:50,  6.09s/it]"
     ]
    },
    {
     "name": "stdout",
     "output_type": "stream",
     "text": [
      "Skipped file. Already present: eeg_recording_2015-10-02\n",
      "Skipped file. Already present: eeg_recording_2015-10-02\n",
      "Skipped file. Already present: eeg_recording_2015-10-03\n",
      "Skipped file. Already present: eeg_recording_2015-10-03\n",
      "Skipped file. Already present: eeg_recording_2015-10-03\n",
      "Skipped file. Already present: eeg_recording_2015-10-03\n",
      "Skipped file. Already present: eeg_recording_2015-10-03\n",
      "Skipped file. Already present: eeg_recording_2015-10-03\n"
     ]
    },
    {
     "name": "stderr",
     "output_type": "stream",
     "text": [
      " 42%|█████████████████████████▊                                    | 425/1023 [30:15<1:00:28,  6.07s/it]"
     ]
    },
    {
     "name": "stdout",
     "output_type": "stream",
     "text": [
      "Skipped file. Already present: eeg_recording_2015-10-03\n",
      "Skipped file. Already present: eeg_recording_2015-10-03\n",
      "Skipped file. Already present: eeg_recording_2015-10-04\n",
      "Skipped file. Already present: eeg_recording_2015-10-04\n",
      "Skipped file. Already present: eeg_recording_2015-10-04\n",
      "Skipped file. Already present: eeg_recording_2015-10-04\n",
      "Skipped file. Already present: eeg_recording_2015-10-04\n",
      "Skipped file. Already present: eeg_recording_2015-10-04\n"
     ]
    },
    {
     "name": "stderr",
     "output_type": "stream",
     "text": [
      " 42%|██████████████████████████▋                                     | 426/1023 [30:21<59:59,  6.03s/it]"
     ]
    },
    {
     "name": "stdout",
     "output_type": "stream",
     "text": [
      "Skipped file. Already present: eeg_recording_2015-10-04\n",
      "Skipped file. Already present: eeg_recording_2015-10-04\n"
     ]
    },
    {
     "name": "stderr",
     "output_type": "stream",
     "text": [
      " 42%|██████████████████████████▋                                     | 427/1023 [30:27<58:59,  5.94s/it]"
     ]
    },
    {
     "name": "stdout",
     "output_type": "stream",
     "text": [
      "Skipped file. Already present: eeg_recording_2015-10-05\n",
      "Skipped file. Already present: eeg_recording_2015-10-05\n",
      "Skipped file. Already present: eeg_recording_2015-10-06\n",
      "Skipped file. Already present: eeg_recording_2015-10-06\n",
      "Skipped file. Already present: eeg_recording_2015-10-06\n",
      "Skipped file. Already present: eeg_recording_2015-10-06\n",
      "Skipped file. Already present: eeg_recording_2015-10-06\n",
      "Skipped file. Already present: eeg_recording_2015-10-06\n",
      "Skipped file. Already present: eeg_recording_2015-10-06\n",
      "Skipped file. Already present: eeg_recording_2015-10-06\n",
      "Skipped file. Already present: eeg_recording_2015-10-06\n"
     ]
    },
    {
     "name": "stderr",
     "output_type": "stream",
     "text": [
      " 42%|█████████████████████████▉                                    | 428/1023 [30:33<1:00:38,  6.12s/it]"
     ]
    },
    {
     "name": "stdout",
     "output_type": "stream",
     "text": [
      "Skipped file. Already present: eeg_recording_2015-10-07\n",
      "Skipped file. Already present: eeg_recording_2015-10-07\n",
      "Skipped file. Already present: eeg_recording_2015-10-07\n",
      "Skipped file. Already present: eeg_recording_2015-10-07\n",
      "Skipped file. Already present: eeg_recording_2015-10-07\n",
      "Skipped file. Already present: eeg_recording_2015-10-07\n"
     ]
    },
    {
     "name": "stderr",
     "output_type": "stream",
     "text": [
      " 42%|██████████████████████████                                    | 429/1023 [30:40<1:01:07,  6.17s/it]"
     ]
    },
    {
     "name": "stdout",
     "output_type": "stream",
     "text": [
      "Skipped file. Already present: eeg_recording_2015-10-07\n",
      "Skipped file. Already present: eeg_recording_2015-10-07\n",
      "Skipped file. Already present: eeg_recording_2015-10-07\n",
      "Skipped file. Already present: eeg_recording_2015-10-08\n",
      "Skipped file. Already present: eeg_recording_2015-10-08\n",
      "Skipped file. Already present: eeg_recording_2015-10-08\n",
      "Skipped file. Already present: eeg_recording_2015-10-08\n",
      "Skipped file. Already present: eeg_recording_2015-10-08\n",
      "Skipped file. Already present: eeg_recording_2015-10-08\n"
     ]
    },
    {
     "name": "stderr",
     "output_type": "stream",
     "text": [
      " 42%|██████████████████████████                                    | 430/1023 [30:46<1:00:45,  6.15s/it]"
     ]
    },
    {
     "name": "stdout",
     "output_type": "stream",
     "text": [
      "Skipped file. Already present: eeg_recording_2015-10-08\n",
      "Skipped file. Already present: eeg_recording_2015-10-08\n",
      "Skipped file. Already present: eeg_recording_2015-10-09\n",
      "Skipped file. Already present: eeg_recording_2015-10-09\n",
      "Skipped file. Already present: eeg_recording_2015-10-09\n",
      "Skipped file. Already present: eeg_recording_2015-10-09\n",
      "Skipped file. Already present: eeg_recording_2015-10-09\n",
      "Skipped file. Already present: eeg_recording_2015-10-09\n"
     ]
    },
    {
     "name": "stderr",
     "output_type": "stream",
     "text": [
      " 42%|██████████████████████████                                    | 431/1023 [30:52<1:00:17,  6.11s/it]"
     ]
    },
    {
     "name": "stdout",
     "output_type": "stream",
     "text": [
      "Skipped file. Already present: eeg_recording_2015-10-09\n",
      "Skipped file. Already present: eeg_recording_2015-10-09\n",
      "Skipped file. Already present: eeg_recording_2015-10-10\n",
      "Skipped file. Already present: eeg_recording_2015-10-10\n",
      "Skipped file. Already present: eeg_recording_2015-10-10\n",
      "Skipped file. Already present: eeg_recording_2015-10-10\n",
      "Skipped file. Already present: eeg_recording_2015-10-10\n",
      "Skipped file. Already present: eeg_recording_2015-10-10\n"
     ]
    },
    {
     "name": "stderr",
     "output_type": "stream",
     "text": [
      " 42%|██████████████████████████▏                                   | 432/1023 [30:58<1:00:29,  6.14s/it]"
     ]
    },
    {
     "name": "stdout",
     "output_type": "stream",
     "text": [
      "Skipped file. Already present: eeg_recording_2015-10-10\n",
      "Skipped file. Already present: eeg_recording_2015-10-10\n",
      "Skipped file. Already present: eeg_recording_2015-10-11\n",
      "Skipped file. Already present: eeg_recording_2015-10-11\n",
      "Skipped file. Already present: eeg_recording_2015-10-11\n",
      "Skipped file. Already present: eeg_recording_2015-10-11\n",
      "Skipped file. Already present: eeg_recording_2015-10-11\n",
      "Skipped file. Already present: eeg_recording_2015-10-11\n"
     ]
    },
    {
     "name": "stderr",
     "output_type": "stream",
     "text": [
      " 42%|███████████████████████████                                     | 433/1023 [31:04<59:37,  6.06s/it]"
     ]
    },
    {
     "name": "stdout",
     "output_type": "stream",
     "text": [
      "Skipped file. Already present: eeg_recording_2015-10-11\n",
      "Skipped file. Already present: eeg_recording_2015-10-11\n",
      "Skipped file. Already present: eeg_recording_2015-10-12\n",
      "Skipped file. Already present: eeg_recording_2015-10-12\n",
      "Skipped file. Already present: eeg_recording_2015-10-12\n",
      "Skipped file. Already present: eeg_recording_2015-10-12\n",
      "Skipped file. Already present: eeg_recording_2015-10-12\n",
      "Skipped file. Already present: eeg_recording_2015-10-12\n"
     ]
    },
    {
     "name": "stderr",
     "output_type": "stream",
     "text": [
      " 42%|███████████████████████████▏                                    | 434/1023 [31:10<59:37,  6.07s/it]"
     ]
    },
    {
     "name": "stdout",
     "output_type": "stream",
     "text": [
      "Skipped file. Already present: eeg_recording_2015-10-12\n",
      "Skipped file. Already present: eeg_recording_2015-10-12\n",
      "Skipped file. Already present: eeg_recording_2015-10-13\n",
      "Skipped file. Already present: eeg_recording_2015-10-13\n",
      "Skipped file. Already present: eeg_recording_2015-10-13\n",
      "Skipped file. Already present: eeg_recording_2015-10-13\n",
      "Skipped file. Already present: eeg_recording_2015-10-13\n"
     ]
    },
    {
     "name": "stderr",
     "output_type": "stream",
     "text": [
      " 43%|██████████████████████████▎                                   | 435/1023 [31:17<1:00:53,  6.21s/it]"
     ]
    },
    {
     "name": "stdout",
     "output_type": "stream",
     "text": [
      "Skipped file. Already present: eeg_recording_2015-10-13\n",
      "Skipped file. Already present: eeg_recording_2015-10-13\n",
      "Skipped file. Already present: eeg_recording_2015-10-14\n",
      "Skipped file. Already present: eeg_recording_2015-10-14\n",
      "Skipped file. Already present: eeg_recording_2015-10-14\n",
      "Skipped file. Already present: eeg_recording_2015-10-14\n",
      "Skipped file. Already present: eeg_recording_2015-10-14\n",
      "Skipped file. Already present: eeg_recording_2015-10-14\n"
     ]
    },
    {
     "name": "stderr",
     "output_type": "stream",
     "text": [
      " 43%|██████████████████████████▍                                   | 436/1023 [31:23<1:01:11,  6.25s/it]"
     ]
    },
    {
     "name": "stdout",
     "output_type": "stream",
     "text": [
      "Skipped file. Already present: eeg_recording_2015-10-14\n",
      "Skipped file. Already present: eeg_recording_2015-10-15\n",
      "Skipped file. Already present: eeg_recording_2015-10-15\n",
      "Skipped file. Already present: eeg_recording_2015-10-15\n",
      "Skipped file. Already present: eeg_recording_2015-10-15\n",
      "Skipped file. Already present: eeg_recording_2015-10-15\n",
      "Skipped file. Already present: eeg_recording_2015-10-15\n"
     ]
    },
    {
     "name": "stderr",
     "output_type": "stream",
     "text": [
      " 43%|██████████████████████████▍                                   | 437/1023 [31:29<1:01:47,  6.33s/it]"
     ]
    },
    {
     "name": "stdout",
     "output_type": "stream",
     "text": [
      "Skipped file. Already present: eeg_recording_2015-10-15\n",
      "Skipped file. Already present: eeg_recording_2015-10-15\n",
      "Skipped file. Already present: eeg_recording_2015-10-15\n",
      "Skipped file. Already present: eeg_recording_2015-10-16\n",
      "Skipped file. Already present: eeg_recording_2015-10-16\n",
      "Skipped file. Already present: eeg_recording_2015-10-16\n",
      "Skipped file. Already present: eeg_recording_2015-10-16\n",
      "Skipped file. Already present: eeg_recording_2015-10-16\n",
      "Skipped file. Already present: eeg_recording_2015-10-16\n"
     ]
    },
    {
     "name": "stderr",
     "output_type": "stream",
     "text": [
      " 43%|██████████████████████████▌                                   | 438/1023 [31:36<1:02:04,  6.37s/it]"
     ]
    },
    {
     "name": "stdout",
     "output_type": "stream",
     "text": [
      "Skipped file. Already present: eeg_recording_2015-10-16\n",
      "Skipped file. Already present: eeg_recording_2015-10-16\n",
      "Skipped file. Already present: eeg_recording_2015-10-16\n",
      "Skipped file. Already present: eeg_recording_2015-10-17\n",
      "Skipped file. Already present: eeg_recording_2015-10-17\n",
      "Skipped file. Already present: eeg_recording_2015-10-17\n",
      "Skipped file. Already present: eeg_recording_2015-10-17\n",
      "Skipped file. Already present: eeg_recording_2015-10-17\n",
      "Skipped file. Already present: eeg_recording_2015-10-17\n"
     ]
    },
    {
     "name": "stderr",
     "output_type": "stream",
     "text": [
      " 43%|██████████████████████████▌                                   | 439/1023 [31:42<1:02:08,  6.38s/it]"
     ]
    },
    {
     "name": "stdout",
     "output_type": "stream",
     "text": [
      "Skipped file. Already present: eeg_recording_2015-10-17\n",
      "Skipped file. Already present: eeg_recording_2015-10-17\n",
      "Skipped file. Already present: eeg_recording_2015-10-17\n",
      "Skipped file. Already present: eeg_recording_2015-10-18\n",
      "Skipped file. Already present: eeg_recording_2015-10-18\n",
      "Skipped file. Already present: eeg_recording_2015-10-18\n",
      "Skipped file. Already present: eeg_recording_2015-10-18\n",
      "Skipped file. Already present: eeg_recording_2015-10-18\n",
      "Skipped file. Already present: eeg_recording_2015-10-18\n"
     ]
    },
    {
     "name": "stderr",
     "output_type": "stream",
     "text": [
      " 43%|██████████████████████████▋                                   | 440/1023 [31:49<1:01:50,  6.36s/it]"
     ]
    },
    {
     "name": "stdout",
     "output_type": "stream",
     "text": [
      "Skipped file. Already present: eeg_recording_2015-10-18\n",
      "Skipped file. Already present: eeg_recording_2015-10-18\n",
      "Skipped file. Already present: eeg_recording_2015-10-18\n",
      "Skipped file. Already present: eeg_recording_2015-10-19\n",
      "Skipped file. Already present: eeg_recording_2015-10-19\n",
      "Skipped file. Already present: eeg_recording_2015-10-19\n",
      "Skipped file. Already present: eeg_recording_2015-10-19\n",
      "Skipped file. Already present: eeg_recording_2015-10-19\n",
      "Skipped file. Already present: eeg_recording_2015-10-19\n"
     ]
    },
    {
     "name": "stderr",
     "output_type": "stream",
     "text": [
      " 43%|██████████████████████████▋                                   | 441/1023 [31:55<1:00:35,  6.25s/it]"
     ]
    },
    {
     "name": "stdout",
     "output_type": "stream",
     "text": [
      "Skipped file. Already present: eeg_recording_2015-10-19\n",
      "Skipped file. Already present: eeg_recording_2015-10-19\n",
      "Skipped file. Already present: eeg_recording_2015-10-19\n",
      "Skipped file. Already present: eeg_recording_2015-10-20\n",
      "Skipped file. Already present: eeg_recording_2015-10-20\n",
      "Skipped file. Already present: eeg_recording_2015-10-20\n",
      "Skipped file. Already present: eeg_recording_2015-10-20\n",
      "Skipped file. Already present: eeg_recording_2015-10-20\n",
      "Skipped file. Already present: eeg_recording_2015-10-20\n"
     ]
    },
    {
     "name": "stderr",
     "output_type": "stream",
     "text": [
      " 43%|███████████████████████████▋                                    | 442/1023 [32:01<59:55,  6.19s/it]"
     ]
    },
    {
     "name": "stdout",
     "output_type": "stream",
     "text": [
      "Skipped file. Already present: eeg_recording_2015-10-20\n",
      "Skipped file. Already present: eeg_recording_2015-10-20\n",
      "Skipped file. Already present: eeg_recording_2015-10-20\n",
      "Skipped file. Already present: eeg_recording_2015-10-21\n",
      "Skipped file. Already present: eeg_recording_2015-10-21\n",
      "Skipped file. Already present: eeg_recording_2015-10-21\n",
      "Skipped file. Already present: eeg_recording_2015-10-21\n",
      "Skipped file. Already present: eeg_recording_2015-10-21\n",
      "Skipped file. Already present: eeg_recording_2015-10-21\n"
     ]
    },
    {
     "name": "stderr",
     "output_type": "stream",
     "text": [
      " 43%|███████████████████████████▋                                    | 443/1023 [32:07<59:15,  6.13s/it]"
     ]
    },
    {
     "name": "stdout",
     "output_type": "stream",
     "text": [
      "Skipped file. Already present: eeg_recording_2015-10-21\n",
      "Skipped file. Already present: eeg_recording_2015-10-21\n",
      "Skipped file. Already present: eeg_recording_2015-10-21\n",
      "Skipped file. Already present: eeg_recording_2015-10-22\n",
      "Skipped file. Already present: eeg_recording_2015-10-22\n",
      "Skipped file. Already present: eeg_recording_2015-10-22\n",
      "Skipped file. Already present: eeg_recording_2015-10-22\n",
      "Skipped file. Already present: eeg_recording_2015-10-22\n",
      "Skipped file. Already present: eeg_recording_2015-10-22\n"
     ]
    },
    {
     "name": "stderr",
     "output_type": "stream",
     "text": [
      " 43%|███████████████████████████▊                                    | 444/1023 [32:13<58:44,  6.09s/it]"
     ]
    },
    {
     "name": "stdout",
     "output_type": "stream",
     "text": [
      "Skipped file. Already present: eeg_recording_2015-10-22\n",
      "Skipped file. Already present: eeg_recording_2015-10-22\n",
      "Skipped file. Already present: eeg_recording_2015-10-22\n",
      "Skipped file. Already present: eeg_recording_2015-10-23\n",
      "Skipped file. Already present: eeg_recording_2015-10-23\n",
      "Skipped file. Already present: eeg_recording_2015-10-23\n",
      "Skipped file. Already present: eeg_recording_2015-10-23\n",
      "Skipped file. Already present: eeg_recording_2015-10-23\n",
      "Skipped file. Already present: eeg_recording_2015-10-23\n",
      "Skipped file. Already present: eeg_recording_2015-10-23\n",
      "Skipped file. Already present: eeg_recording_2015-10-23\n",
      "Skipped file. Already present: eeg_recording_2015-10-23\n"
     ]
    },
    {
     "name": "stderr",
     "output_type": "stream",
     "text": [
      " 43%|███████████████████████████▊                                    | 445/1023 [32:19<59:21,  6.16s/it]"
     ]
    },
    {
     "name": "stdout",
     "output_type": "stream",
     "text": [
      "Skipped file. Already present: eeg_recording_2015-10-24\n",
      "Skipped file. Already present: eeg_recording_2015-10-24\n",
      "Skipped file. Already present: eeg_recording_2015-10-24\n",
      "Skipped file. Already present: eeg_recording_2015-10-24\n",
      "Skipped file. Already present: eeg_recording_2015-10-24\n",
      "Skipped file. Already present: eeg_recording_2015-10-24\n"
     ]
    },
    {
     "name": "stderr",
     "output_type": "stream",
     "text": [
      " 44%|███████████████████████████▉                                    | 446/1023 [32:25<59:41,  6.21s/it]"
     ]
    },
    {
     "name": "stdout",
     "output_type": "stream",
     "text": [
      "Skipped file. Already present: eeg_recording_2015-10-24\n",
      "Skipped file. Already present: eeg_recording_2015-10-24\n",
      "Skipped file. Already present: eeg_recording_2015-10-24\n",
      "Skipped file. Already present: eeg_recording_2015-10-25\n",
      "Skipped file. Already present: eeg_recording_2015-10-25\n",
      "Skipped file. Already present: eeg_recording_2015-10-25\n",
      "Skipped file. Already present: eeg_recording_2015-10-25\n",
      "Skipped file. Already present: eeg_recording_2015-10-25\n",
      "Skipped file. Already present: eeg_recording_2015-10-25\n"
     ]
    },
    {
     "name": "stderr",
     "output_type": "stream",
     "text": [
      " 44%|███████████████████████████▉                                    | 447/1023 [32:32<59:41,  6.22s/it]"
     ]
    },
    {
     "name": "stdout",
     "output_type": "stream",
     "text": [
      "Skipped file. Already present: eeg_recording_2015-10-25\n",
      "Skipped file. Already present: eeg_recording_2015-10-25\n",
      "Skipped file. Already present: eeg_recording_2015-10-25\n",
      "Skipped file. Already present: eeg_recording_2015-10-26\n",
      "Skipped file. Already present: eeg_recording_2015-10-26\n",
      "Skipped file. Already present: eeg_recording_2015-10-26\n",
      "Skipped file. Already present: eeg_recording_2015-10-26\n",
      "Skipped file. Already present: eeg_recording_2015-10-26\n",
      "Skipped file. Already present: eeg_recording_2015-10-26\n",
      "Skipped file. Already present: eeg_recording_2015-10-26\n",
      "Skipped file. Already present: eeg_recording_2015-10-26\n",
      "Skipped file. Already present: eeg_recording_2015-10-26\n",
      "Skipped file. Already present: eeg_recording_2015-10-26\n"
     ]
    },
    {
     "name": "stderr",
     "output_type": "stream",
     "text": [
      " 44%|████████████████████████████                                    | 448/1023 [32:38<58:58,  6.15s/it]"
     ]
    },
    {
     "name": "stdout",
     "output_type": "stream",
     "text": [
      "Skipped file. Already present: eeg_recording_2015-10-27\n",
      "Skipped file. Already present: eeg_recording_2015-10-27\n",
      "Skipped file. Already present: eeg_recording_2015-10-27\n",
      "Skipped file. Already present: eeg_recording_2015-10-27\n",
      "Skipped file. Already present: eeg_recording_2015-10-27\n",
      "Skipped file. Already present: eeg_recording_2015-10-27\n"
     ]
    },
    {
     "name": "stderr",
     "output_type": "stream",
     "text": [
      " 44%|████████████████████████████                                    | 449/1023 [32:44<58:54,  6.16s/it]"
     ]
    },
    {
     "name": "stdout",
     "output_type": "stream",
     "text": [
      "Skipped file. Already present: eeg_recording_2015-10-27\n",
      "Skipped file. Already present: eeg_recording_2015-10-27\n",
      "Skipped file. Already present: eeg_recording_2015-10-27\n",
      "Skipped file. Already present: eeg_recording_2015-10-28\n",
      "Skipped file. Already present: eeg_recording_2015-10-28\n",
      "Skipped file. Already present: eeg_recording_2015-10-28\n",
      "Skipped file. Already present: eeg_recording_2015-10-28\n",
      "Skipped file. Already present: eeg_recording_2015-10-28\n",
      "Skipped file. Already present: eeg_recording_2015-10-28\n"
     ]
    },
    {
     "name": "stderr",
     "output_type": "stream",
     "text": [
      " 44%|████████████████████████████▏                                   | 450/1023 [32:50<58:26,  6.12s/it]"
     ]
    },
    {
     "name": "stdout",
     "output_type": "stream",
     "text": [
      "Skipped file. Already present: eeg_recording_2015-10-28\n",
      "Skipped file. Already present: eeg_recording_2015-10-28\n",
      "Skipped file. Already present: eeg_recording_2015-10-28\n",
      "Skipped file. Already present: eeg_recording_2015-10-29\n",
      "Skipped file. Already present: eeg_recording_2015-10-29\n",
      "Skipped file. Already present: eeg_recording_2015-10-29\n",
      "Skipped file. Already present: eeg_recording_2015-10-29\n",
      "Skipped file. Already present: eeg_recording_2015-10-29\n",
      "Skipped file. Already present: eeg_recording_2015-10-29\n",
      "Skipped file. Already present: eeg_recording_2015-10-29\n",
      "Skipped file. Already present: eeg_recording_2015-10-29\n",
      "Skipped file. Already present: eeg_recording_2015-10-29\n",
      "Skipped file. Already present: eeg_recording_2015-10-29\n"
     ]
    },
    {
     "name": "stderr",
     "output_type": "stream",
     "text": [
      " 44%|████████████████████████████▏                                   | 451/1023 [32:56<58:32,  6.14s/it]"
     ]
    },
    {
     "name": "stdout",
     "output_type": "stream",
     "text": [
      "Skipped file. Already present: eeg_recording_2015-10-30\n",
      "Skipped file. Already present: eeg_recording_2015-10-30\n",
      "Skipped file. Already present: eeg_recording_2015-10-30\n",
      "Skipped file. Already present: eeg_recording_2015-10-30\n",
      "Skipped file. Already present: eeg_recording_2015-10-30\n",
      "Skipped file. Already present: eeg_recording_2015-10-30\n",
      "Skipped file. Already present: eeg_recording_2015-10-30\n",
      "Skipped file. Already present: eeg_recording_2015-10-30\n",
      "Skipped file. Already present: eeg_recording_2015-10-30\n",
      "Skipped file. Already present: eeg_recording_2015-10-30\n"
     ]
    },
    {
     "name": "stderr",
     "output_type": "stream",
     "text": [
      " 44%|████████████████████████████▎                                   | 452/1023 [33:02<58:39,  6.16s/it]"
     ]
    },
    {
     "name": "stdout",
     "output_type": "stream",
     "text": [
      "Skipped file. Already present: eeg_recording_2015-10-31\n",
      "Skipped file. Already present: eeg_recording_2015-10-31\n",
      "Skipped file. Already present: eeg_recording_2015-10-31\n",
      "Skipped file. Already present: eeg_recording_2015-10-31\n",
      "Skipped file. Already present: eeg_recording_2015-10-31\n",
      "Skipped file. Already present: eeg_recording_2015-10-31\n",
      "Skipped file. Already present: eeg_recording_2015-10-31\n",
      "Skipped file. Already present: eeg_recording_2015-10-31\n",
      "Skipped file. Already present: eeg_recording_2015-10-31\n",
      "Skipped file. Already present: eeg_recording_2015-10-31\n"
     ]
    },
    {
     "name": "stderr",
     "output_type": "stream",
     "text": [
      " 44%|████████████████████████████▎                                   | 453/1023 [33:08<58:30,  6.16s/it]"
     ]
    },
    {
     "name": "stdout",
     "output_type": "stream",
     "text": [
      "Skipped file. Already present: eeg_recording_2015-11-01\n",
      "Skipped file. Already present: eeg_recording_2015-11-01\n",
      "Skipped file. Already present: eeg_recording_2015-11-01\n",
      "Skipped file. Already present: eeg_recording_2015-11-01\n",
      "Skipped file. Already present: eeg_recording_2015-11-01\n",
      "Skipped file. Already present: eeg_recording_2015-11-01\n",
      "Skipped file. Already present: eeg_recording_2015-11-01\n",
      "Skipped file. Already present: eeg_recording_2015-11-01\n",
      "Skipped file. Already present: eeg_recording_2015-11-01\n",
      "Skipped file. Already present: eeg_recording_2015-11-01\n"
     ]
    },
    {
     "name": "stderr",
     "output_type": "stream",
     "text": [
      " 44%|████████████████████████████▍                                   | 454/1023 [33:15<58:30,  6.17s/it]"
     ]
    },
    {
     "name": "stdout",
     "output_type": "stream",
     "text": [
      "Skipped file. Already present: eeg_recording_2015-11-02\n",
      "Skipped file. Already present: eeg_recording_2015-11-02\n",
      "Skipped file. Already present: eeg_recording_2015-11-02\n",
      "Skipped file. Already present: eeg_recording_2015-11-02\n",
      "Skipped file. Already present: eeg_recording_2015-11-02\n",
      "Skipped file. Already present: eeg_recording_2015-11-02\n",
      "Skipped file. Already present: eeg_recording_2015-11-02\n",
      "Skipped file. Already present: eeg_recording_2015-11-02\n",
      "Skipped file. Already present: eeg_recording_2015-11-02\n",
      "Skipped file. Already present: eeg_recording_2015-11-02\n"
     ]
    },
    {
     "name": "stderr",
     "output_type": "stream",
     "text": [
      " 44%|████████████████████████████▍                                   | 455/1023 [33:21<58:48,  6.21s/it]"
     ]
    },
    {
     "name": "stdout",
     "output_type": "stream",
     "text": [
      "Skipped file. Already present: eeg_recording_2015-11-03\n",
      "Skipped file. Already present: eeg_recording_2015-11-03\n",
      "Skipped file. Already present: eeg_recording_2015-11-03\n",
      "Skipped file. Already present: eeg_recording_2015-11-03\n",
      "Skipped file. Already present: eeg_recording_2015-11-03\n",
      "Skipped file. Already present: eeg_recording_2015-11-03\n",
      "Skipped file. Already present: eeg_recording_2015-11-03\n",
      "Skipped file. Already present: eeg_recording_2015-11-03\n",
      "Skipped file. Already present: eeg_recording_2015-11-03\n",
      "Skipped file. Already present: eeg_recording_2015-11-03\n"
     ]
    },
    {
     "name": "stderr",
     "output_type": "stream",
     "text": [
      " 45%|████████████████████████████▌                                   | 456/1023 [33:27<58:36,  6.20s/it]"
     ]
    },
    {
     "name": "stdout",
     "output_type": "stream",
     "text": [
      "Skipped file. Already present: eeg_recording_2015-11-04\n",
      "Skipped file. Already present: eeg_recording_2015-11-04\n",
      "Skipped file. Already present: eeg_recording_2015-11-04\n",
      "Skipped file. Already present: eeg_recording_2015-11-04\n",
      "Skipped file. Already present: eeg_recording_2015-11-04\n",
      "Skipped file. Already present: eeg_recording_2015-11-04\n",
      "Skipped file. Already present: eeg_recording_2015-11-04\n",
      "Skipped file. Already present: eeg_recording_2015-11-04\n",
      "Skipped file. Already present: eeg_recording_2015-11-04\n",
      "Skipped file. Already present: eeg_recording_2015-11-04\n"
     ]
    },
    {
     "name": "stderr",
     "output_type": "stream",
     "text": [
      " 45%|████████████████████████████▌                                   | 457/1023 [33:33<57:47,  6.13s/it]"
     ]
    },
    {
     "name": "stdout",
     "output_type": "stream",
     "text": [
      "Skipped file. Already present: eeg_recording_2015-11-05\n",
      "Skipped file. Already present: eeg_recording_2015-11-05\n",
      "Skipped file. Already present: eeg_recording_2015-11-05\n",
      "Skipped file. Already present: eeg_recording_2015-11-05\n",
      "Skipped file. Already present: eeg_recording_2015-11-05\n",
      "Skipped file. Already present: eeg_recording_2015-11-05\n",
      "Skipped file. Already present: eeg_recording_2015-11-05\n",
      "Skipped file. Already present: eeg_recording_2015-11-05\n",
      "Skipped file. Already present: eeg_recording_2015-11-05\n",
      "Skipped file. Already present: eeg_recording_2015-11-05\n"
     ]
    },
    {
     "name": "stderr",
     "output_type": "stream",
     "text": [
      " 45%|████████████████████████████▋                                   | 458/1023 [33:39<56:45,  6.03s/it]"
     ]
    },
    {
     "name": "stdout",
     "output_type": "stream",
     "text": [
      "Skipped file. Already present: eeg_recording_2015-11-06\n",
      "Skipped file. Already present: eeg_recording_2015-11-06\n",
      "Skipped file. Already present: eeg_recording_2015-11-06\n",
      "Skipped file. Already present: eeg_recording_2015-11-06\n",
      "Skipped file. Already present: eeg_recording_2015-11-06\n",
      "Skipped file. Already present: eeg_recording_2015-11-06\n",
      "Skipped file. Already present: eeg_recording_2015-11-06\n",
      "Skipped file. Already present: eeg_recording_2015-11-06\n",
      "Skipped file. Already present: eeg_recording_2015-11-06\n",
      "Skipped file. Already present: eeg_recording_2015-11-06\n"
     ]
    },
    {
     "name": "stderr",
     "output_type": "stream",
     "text": [
      " 45%|████████████████████████████▋                                   | 459/1023 [33:45<56:26,  6.01s/it]"
     ]
    },
    {
     "name": "stdout",
     "output_type": "stream",
     "text": [
      "Skipped file. Already present: eeg_recording_2015-11-07\n",
      "Skipped file. Already present: eeg_recording_2015-11-07\n",
      "Skipped file. Already present: eeg_recording_2015-11-07\n",
      "Skipped file. Already present: eeg_recording_2015-11-07\n",
      "Skipped file. Already present: eeg_recording_2015-11-07\n",
      "Skipped file. Already present: eeg_recording_2015-11-07\n",
      "Skipped file. Already present: eeg_recording_2015-11-07\n",
      "Skipped file. Already present: eeg_recording_2015-11-07\n",
      "Skipped file. Already present: eeg_recording_2015-11-07\n",
      "Skipped file. Already present: eeg_recording_2015-11-07\n"
     ]
    },
    {
     "name": "stderr",
     "output_type": "stream",
     "text": [
      " 45%|████████████████████████████▊                                   | 460/1023 [33:51<56:06,  5.98s/it]"
     ]
    },
    {
     "name": "stdout",
     "output_type": "stream",
     "text": [
      "Skipped file. Already present: eeg_recording_2015-11-08\n",
      "Skipped file. Already present: eeg_recording_2015-11-08\n",
      "Skipped file. Already present: eeg_recording_2015-11-08\n",
      "Skipped file. Already present: eeg_recording_2015-11-08\n",
      "Skipped file. Already present: eeg_recording_2015-11-08\n",
      "Skipped file. Already present: eeg_recording_2015-11-08\n",
      "Skipped file. Already present: eeg_recording_2015-11-08\n",
      "Skipped file. Already present: eeg_recording_2015-11-08\n",
      "Skipped file. Already present: eeg_recording_2015-11-08\n",
      "Skipped file. Already present: eeg_recording_2015-11-08\n"
     ]
    },
    {
     "name": "stderr",
     "output_type": "stream",
     "text": [
      " 45%|████████████████████████████▊                                   | 461/1023 [33:57<55:58,  5.98s/it]"
     ]
    },
    {
     "name": "stdout",
     "output_type": "stream",
     "text": [
      "Skipped file. Already present: eeg_recording_2015-11-09\n",
      "Skipped file. Already present: eeg_recording_2015-11-09\n",
      "Skipped file. Already present: eeg_recording_2015-11-09\n",
      "Skipped file. Already present: eeg_recording_2015-11-09\n",
      "Skipped file. Already present: eeg_recording_2015-11-09\n",
      "Skipped file. Already present: eeg_recording_2015-11-09\n",
      "Skipped file. Already present: eeg_recording_2015-11-09\n",
      "Skipped file. Already present: eeg_recording_2015-11-09\n",
      "Skipped file. Already present: eeg_recording_2015-11-09\n",
      "Skipped file. Already present: eeg_recording_2015-11-09\n"
     ]
    },
    {
     "name": "stderr",
     "output_type": "stream",
     "text": [
      " 45%|████████████████████████████▉                                   | 462/1023 [34:03<55:46,  5.96s/it]"
     ]
    },
    {
     "name": "stdout",
     "output_type": "stream",
     "text": [
      "Skipped file. Already present: eeg_recording_2015-11-10\n",
      "Skipped file. Already present: eeg_recording_2015-11-10\n",
      "Skipped file. Already present: eeg_recording_2015-11-10\n",
      "Skipped file. Already present: eeg_recording_2015-11-10\n",
      "Skipped file. Already present: eeg_recording_2015-11-10\n",
      "Skipped file. Already present: eeg_recording_2015-11-10\n",
      "Skipped file. Already present: eeg_recording_2015-11-10\n",
      "Skipped file. Already present: eeg_recording_2015-11-10\n",
      "Skipped file. Already present: eeg_recording_2015-11-10\n",
      "Skipped file. Already present: eeg_recording_2015-11-10\n"
     ]
    },
    {
     "name": "stderr",
     "output_type": "stream",
     "text": [
      " 45%|████████████████████████████▉                                   | 463/1023 [34:09<55:40,  5.97s/it]"
     ]
    },
    {
     "name": "stdout",
     "output_type": "stream",
     "text": [
      "Skipped file. Already present: eeg_recording_2015-11-11\n",
      "Skipped file. Already present: eeg_recording_2015-11-11\n",
      "Skipped file. Already present: eeg_recording_2015-11-11\n",
      "Skipped file. Already present: eeg_recording_2015-11-11\n",
      "Skipped file. Already present: eeg_recording_2015-11-11\n",
      "Skipped file. Already present: eeg_recording_2015-11-11\n",
      "Skipped file. Already present: eeg_recording_2015-11-11\n",
      "Skipped file. Already present: eeg_recording_2015-11-11\n",
      "Skipped file. Already present: eeg_recording_2015-11-11\n",
      "Skipped file. Already present: eeg_recording_2015-11-11\n"
     ]
    },
    {
     "name": "stderr",
     "output_type": "stream",
     "text": [
      " 45%|█████████████████████████████                                   | 464/1023 [34:14<55:32,  5.96s/it]"
     ]
    },
    {
     "name": "stdout",
     "output_type": "stream",
     "text": [
      "Skipped file. Already present: eeg_recording_2015-11-12\n",
      "Skipped file. Already present: eeg_recording_2015-11-12\n",
      "Skipped file. Already present: eeg_recording_2015-11-12\n",
      "Skipped file. Already present: eeg_recording_2015-11-12\n",
      "Skipped file. Already present: eeg_recording_2015-11-12\n",
      "Skipped file. Already present: eeg_recording_2015-11-12\n",
      "Skipped file. Already present: eeg_recording_2015-11-12\n",
      "Skipped file. Already present: eeg_recording_2015-11-12\n",
      "Skipped file. Already present: eeg_recording_2015-11-12\n",
      "Skipped file. Already present: eeg_recording_2015-11-12\n"
     ]
    },
    {
     "name": "stderr",
     "output_type": "stream",
     "text": [
      " 45%|█████████████████████████████                                   | 465/1023 [34:20<55:26,  5.96s/it]"
     ]
    },
    {
     "name": "stdout",
     "output_type": "stream",
     "text": [
      "Skipped file. Already present: eeg_recording_2015-11-13\n",
      "Skipped file. Already present: eeg_recording_2015-11-13\n",
      "Skipped file. Already present: eeg_recording_2015-11-13\n",
      "Skipped file. Already present: eeg_recording_2015-11-13\n",
      "Skipped file. Already present: eeg_recording_2015-11-13\n",
      "Skipped file. Already present: eeg_recording_2015-11-13\n",
      "Skipped file. Already present: eeg_recording_2015-11-13\n",
      "Skipped file. Already present: eeg_recording_2015-11-13\n",
      "Skipped file. Already present: eeg_recording_2015-11-13\n",
      "Skipped file. Already present: eeg_recording_2015-11-13\n"
     ]
    },
    {
     "name": "stderr",
     "output_type": "stream",
     "text": [
      " 46%|█████████████████████████████▏                                  | 466/1023 [34:26<55:21,  5.96s/it]"
     ]
    },
    {
     "name": "stdout",
     "output_type": "stream",
     "text": [
      "Skipped file. Already present: eeg_recording_2015-11-14\n",
      "Skipped file. Already present: eeg_recording_2015-11-14\n",
      "Skipped file. Already present: eeg_recording_2015-11-14\n",
      "Skipped file. Already present: eeg_recording_2015-11-14\n",
      "Skipped file. Already present: eeg_recording_2015-11-14\n",
      "Skipped file. Already present: eeg_recording_2015-11-14\n",
      "Skipped file. Already present: eeg_recording_2015-11-14\n",
      "Skipped file. Already present: eeg_recording_2015-11-14\n",
      "Skipped file. Already present: eeg_recording_2015-11-14\n",
      "Skipped file. Already present: eeg_recording_2015-11-14\n"
     ]
    },
    {
     "name": "stderr",
     "output_type": "stream",
     "text": [
      " 46%|█████████████████████████████▏                                  | 467/1023 [34:32<55:30,  5.99s/it]"
     ]
    },
    {
     "name": "stdout",
     "output_type": "stream",
     "text": [
      "Skipped file. Already present: eeg_recording_2015-11-15\n",
      "Skipped file. Already present: eeg_recording_2015-11-15\n",
      "Skipped file. Already present: eeg_recording_2015-11-15\n",
      "Skipped file. Already present: eeg_recording_2015-11-15\n",
      "Skipped file. Already present: eeg_recording_2015-11-15\n",
      "Skipped file. Already present: eeg_recording_2015-11-15\n",
      "Skipped file. Already present: eeg_recording_2015-11-15\n",
      "Skipped file. Already present: eeg_recording_2015-11-15\n",
      "Skipped file. Already present: eeg_recording_2015-11-15\n",
      "Skipped file. Already present: eeg_recording_2015-11-15\n"
     ]
    },
    {
     "name": "stderr",
     "output_type": "stream",
     "text": [
      " 46%|█████████████████████████████▎                                  | 468/1023 [34:38<55:21,  5.99s/it]"
     ]
    },
    {
     "name": "stdout",
     "output_type": "stream",
     "text": [
      "Skipped file. Already present: eeg_recording_2015-11-16\n",
      "Skipped file. Already present: eeg_recording_2015-11-16\n",
      "Skipped file. Already present: eeg_recording_2015-11-16\n",
      "Skipped file. Already present: eeg_recording_2015-11-16\n",
      "Skipped file. Already present: eeg_recording_2015-11-16\n",
      "Skipped file. Already present: eeg_recording_2015-11-16\n",
      "Skipped file. Already present: eeg_recording_2015-11-16\n",
      "Skipped file. Already present: eeg_recording_2015-11-16\n",
      "Skipped file. Already present: eeg_recording_2015-11-16\n",
      "Skipped file. Already present: eeg_recording_2015-11-16\n"
     ]
    },
    {
     "name": "stderr",
     "output_type": "stream",
     "text": [
      " 46%|█████████████████████████████▎                                  | 469/1023 [34:45<55:31,  6.01s/it]"
     ]
    },
    {
     "name": "stdout",
     "output_type": "stream",
     "text": [
      "Skipped file. Already present: eeg_recording_2015-11-17\n",
      "Skipped file. Already present: eeg_recording_2015-11-17\n",
      "Skipped file. Already present: eeg_recording_2015-11-17\n",
      "Skipped file. Already present: eeg_recording_2015-11-17\n",
      "Skipped file. Already present: eeg_recording_2015-11-17\n",
      "Skipped file. Already present: eeg_recording_2015-11-17\n",
      "Skipped file. Already present: eeg_recording_2015-11-17\n",
      "Skipped file. Already present: eeg_recording_2015-11-17\n",
      "Skipped file. Already present: eeg_recording_2015-11-17\n",
      "Skipped file. Already present: eeg_recording_2015-11-17\n"
     ]
    },
    {
     "name": "stderr",
     "output_type": "stream",
     "text": [
      " 46%|█████████████████████████████▍                                  | 470/1023 [34:50<54:51,  5.95s/it]"
     ]
    },
    {
     "name": "stdout",
     "output_type": "stream",
     "text": [
      "Skipped file. Already present: eeg_recording_2015-11-18\n",
      "Skipped file. Already present: eeg_recording_2015-11-18\n",
      "Skipped file. Already present: eeg_recording_2015-11-18\n",
      "Skipped file. Already present: eeg_recording_2015-11-18\n",
      "Skipped file. Already present: eeg_recording_2015-11-18\n",
      "Skipped file. Already present: eeg_recording_2015-11-18\n"
     ]
    },
    {
     "name": "stderr",
     "output_type": "stream",
     "text": [
      " 46%|█████████████████████████████▍                                  | 471/1023 [34:56<53:32,  5.82s/it]"
     ]
    },
    {
     "name": "stdout",
     "output_type": "stream",
     "text": [
      "Skipped file. Already present: eeg_recording_2015-11-18\n",
      "Skipped file. Already present: eeg_recording_2015-11-18\n",
      "Skipped file. Already present: eeg_recording_2015-11-18\n",
      "Skipped file. Already present: eeg_recording_2015-11-19\n",
      "Skipped file. Already present: eeg_recording_2015-11-19\n",
      "Skipped file. Already present: eeg_recording_2015-11-19\n",
      "Skipped file. Already present: eeg_recording_2015-11-19\n",
      "Skipped file. Already present: eeg_recording_2015-11-19\n",
      "Skipped file. Already present: eeg_recording_2015-11-19\n"
     ]
    },
    {
     "name": "stderr",
     "output_type": "stream",
     "text": [
      " 46%|█████████████████████████████▌                                  | 472/1023 [35:01<52:18,  5.70s/it]"
     ]
    },
    {
     "name": "stdout",
     "output_type": "stream",
     "text": [
      "Skipped file. Already present: eeg_recording_2015-11-19\n",
      "Skipped file. Already present: eeg_recording_2015-11-19\n",
      "Skipped file. Already present: eeg_recording_2015-11-19\n",
      "Skipped file. Already present: eeg_recording_2015-11-20\n",
      "Skipped file. Already present: eeg_recording_2015-11-20\n",
      "Skipped file. Already present: eeg_recording_2015-11-20\n",
      "Skipped file. Already present: eeg_recording_2015-11-20\n",
      "Skipped file. Already present: eeg_recording_2015-11-20\n",
      "Skipped file. Already present: eeg_recording_2015-11-20\n"
     ]
    },
    {
     "name": "stderr",
     "output_type": "stream",
     "text": [
      " 46%|█████████████████████████████▌                                  | 473/1023 [35:07<51:24,  5.61s/it]"
     ]
    },
    {
     "name": "stdout",
     "output_type": "stream",
     "text": [
      "Skipped file. Already present: eeg_recording_2015-11-20\n",
      "Skipped file. Already present: eeg_recording_2015-11-20\n",
      "Skipped file. Already present: eeg_recording_2015-11-20\n"
     ]
    },
    {
     "name": "stderr",
     "output_type": "stream",
     "text": [
      " 46%|█████████████████████████████▋                                  | 474/1023 [35:12<49:59,  5.46s/it]"
     ]
    },
    {
     "name": "stdout",
     "output_type": "stream",
     "text": [
      "OS error: /tmp/tmpduxkm24s/EDF_yolo_2015-11-21.edf: can not open file, no such file or directory\n",
      "EDF_yolo_2015-11-21.edf not found\n"
     ]
    },
    {
     "name": "stderr",
     "output_type": "stream",
     "text": [
      " 46%|█████████████████████████████▋                                  | 475/1023 [35:17<48:47,  5.34s/it]"
     ]
    },
    {
     "name": "stdout",
     "output_type": "stream",
     "text": [
      "OS error: /tmp/tmp_v8qdq6b/EDF_yolo_2015-11-22.edf: can not open file, no such file or directory\n",
      "EDF_yolo_2015-11-22.edf not found\n"
     ]
    },
    {
     "name": "stderr",
     "output_type": "stream",
     "text": [
      " 47%|█████████████████████████████▊                                  | 476/1023 [35:22<48:17,  5.30s/it]"
     ]
    },
    {
     "name": "stdout",
     "output_type": "stream",
     "text": [
      "OS error: /tmp/tmpudum0efg/EDF_yolo_2015-11-23.edf: can not open file, no such file or directory\n",
      "EDF_yolo_2015-11-23.edf not found\n"
     ]
    },
    {
     "name": "stderr",
     "output_type": "stream",
     "text": [
      " 47%|█████████████████████████████▊                                  | 477/1023 [35:27<47:32,  5.22s/it]"
     ]
    },
    {
     "name": "stdout",
     "output_type": "stream",
     "text": [
      "OS error: /tmp/tmp98_i09f4/EDF_yolo_2015-11-24.edf: can not open file, no such file or directory\n",
      "EDF_yolo_2015-11-24.edf not found\n",
      "Skipped file. Already present: eeg_recording_2015-11-25\n",
      "Skipped file. Already present: eeg_recording_2015-11-25\n",
      "Skipped file. Already present: eeg_recording_2015-11-25\n",
      "Skipped file. Already present: eeg_recording_2015-11-25\n",
      "Skipped file. Already present: eeg_recording_2015-11-25\n",
      "Skipped file. Already present: eeg_recording_2015-11-25\n"
     ]
    },
    {
     "name": "stderr",
     "output_type": "stream",
     "text": [
      " 47%|█████████████████████████████▉                                  | 478/1023 [35:33<48:13,  5.31s/it]"
     ]
    },
    {
     "name": "stdout",
     "output_type": "stream",
     "text": [
      "Skipped file. Already present: eeg_recording_2015-11-25\n",
      "Skipped file. Already present: eeg_recording_2015-11-25\n",
      "Skipped file. Already present: eeg_recording_2015-11-25\n",
      "Skipped file. Already present: eeg_recording_2015-11-26\n",
      "Skipped file. Already present: eeg_recording_2015-11-26\n",
      "Skipped file. Already present: eeg_recording_2015-11-26\n",
      "Skipped file. Already present: eeg_recording_2015-11-26\n",
      "Skipped file. Already present: eeg_recording_2015-11-26\n",
      "Skipped file. Already present: eeg_recording_2015-11-26\n"
     ]
    },
    {
     "name": "stderr",
     "output_type": "stream",
     "text": [
      " 47%|█████████████████████████████▉                                  | 479/1023 [35:38<48:31,  5.35s/it]"
     ]
    },
    {
     "name": "stdout",
     "output_type": "stream",
     "text": [
      "Skipped file. Already present: eeg_recording_2015-11-26\n",
      "Skipped file. Already present: eeg_recording_2015-11-26\n",
      "Skipped file. Already present: eeg_recording_2015-11-26\n",
      "Skipped file. Already present: eeg_recording_2015-11-27\n",
      "Skipped file. Already present: eeg_recording_2015-11-27\n",
      "Skipped file. Already present: eeg_recording_2015-11-27\n",
      "Skipped file. Already present: eeg_recording_2015-11-27\n",
      "Skipped file. Already present: eeg_recording_2015-11-27\n",
      "Skipped file. Already present: eeg_recording_2015-11-27\n"
     ]
    },
    {
     "name": "stderr",
     "output_type": "stream",
     "text": [
      " 47%|██████████████████████████████                                  | 480/1023 [35:44<48:45,  5.39s/it]"
     ]
    },
    {
     "name": "stdout",
     "output_type": "stream",
     "text": [
      "Skipped file. Already present: eeg_recording_2015-11-27\n",
      "Skipped file. Already present: eeg_recording_2015-11-27\n",
      "Skipped file. Already present: eeg_recording_2015-11-27\n",
      "Skipped file. Already present: eeg_recording_2015-11-28\n",
      "Skipped file. Already present: eeg_recording_2015-11-28\n",
      "Skipped file. Already present: eeg_recording_2015-11-28\n",
      "Skipped file. Already present: eeg_recording_2015-11-28\n",
      "Skipped file. Already present: eeg_recording_2015-11-28\n",
      "Skipped file. Already present: eeg_recording_2015-11-28\n"
     ]
    },
    {
     "name": "stderr",
     "output_type": "stream",
     "text": [
      " 47%|██████████████████████████████                                  | 481/1023 [35:49<48:38,  5.38s/it]"
     ]
    },
    {
     "name": "stdout",
     "output_type": "stream",
     "text": [
      "Skipped file. Already present: eeg_recording_2015-11-28\n",
      "Skipped file. Already present: eeg_recording_2015-11-28\n",
      "Skipped file. Already present: eeg_recording_2015-11-28\n",
      "Skipped file. Already present: eeg_recording_2015-11-29\n",
      "Skipped file. Already present: eeg_recording_2015-11-29\n",
      "Skipped file. Already present: eeg_recording_2015-11-29\n",
      "Skipped file. Already present: eeg_recording_2015-11-29\n",
      "Skipped file. Already present: eeg_recording_2015-11-29\n",
      "Skipped file. Already present: eeg_recording_2015-11-29\n"
     ]
    },
    {
     "name": "stderr",
     "output_type": "stream",
     "text": [
      " 47%|██████████████████████████████▏                                 | 482/1023 [35:54<49:04,  5.44s/it]"
     ]
    },
    {
     "name": "stdout",
     "output_type": "stream",
     "text": [
      "Skipped file. Already present: eeg_recording_2015-11-29\n",
      "Skipped file. Already present: eeg_recording_2015-11-29\n",
      "Skipped file. Already present: eeg_recording_2015-11-29\n",
      "Skipped file. Already present: eeg_recording_2015-11-30\n",
      "Skipped file. Already present: eeg_recording_2015-11-30\n",
      "Skipped file. Already present: eeg_recording_2015-11-30\n",
      "Skipped file. Already present: eeg_recording_2015-11-30\n",
      "Skipped file. Already present: eeg_recording_2015-11-30\n",
      "Skipped file. Already present: eeg_recording_2015-11-30\n"
     ]
    },
    {
     "name": "stderr",
     "output_type": "stream",
     "text": [
      " 47%|██████████████████████████████▏                                 | 483/1023 [36:00<48:47,  5.42s/it]"
     ]
    },
    {
     "name": "stdout",
     "output_type": "stream",
     "text": [
      "Skipped file. Already present: eeg_recording_2015-11-30\n",
      "Skipped file. Already present: eeg_recording_2015-11-30\n",
      "Skipped file. Already present: eeg_recording_2015-11-30\n",
      "Skipped file. Already present: eeg_recording_2015-12-01\n",
      "Skipped file. Already present: eeg_recording_2015-12-01\n",
      "Skipped file. Already present: eeg_recording_2015-12-01\n",
      "Skipped file. Already present: eeg_recording_2015-12-01\n",
      "Skipped file. Already present: eeg_recording_2015-12-01\n",
      "Skipped file. Already present: eeg_recording_2015-12-01\n"
     ]
    },
    {
     "name": "stderr",
     "output_type": "stream",
     "text": [
      " 47%|██████████████████████████████▎                                 | 484/1023 [36:05<48:15,  5.37s/it]"
     ]
    },
    {
     "name": "stdout",
     "output_type": "stream",
     "text": [
      "Skipped file. Already present: eeg_recording_2015-12-01\n",
      "Skipped file. Already present: eeg_recording_2015-12-01\n"
     ]
    },
    {
     "name": "stderr",
     "output_type": "stream",
     "text": [
      " 47%|██████████████████████████████▎                                 | 485/1023 [36:10<46:13,  5.15s/it]"
     ]
    },
    {
     "name": "stdout",
     "output_type": "stream",
     "text": [
      "OS error: /tmp/tmpnb1oudmd/EDF_yolo_2015-12-02.edf: can not open file, no such file or directory\n",
      "EDF_yolo_2015-12-02.edf not found\n"
     ]
    },
    {
     "name": "stderr",
     "output_type": "stream",
     "text": [
      " 48%|██████████████████████████████▍                                 | 486/1023 [36:14<44:36,  4.98s/it]"
     ]
    },
    {
     "name": "stdout",
     "output_type": "stream",
     "text": [
      "OS error: /tmp/tmpmzuq7eng/EDF_yolo_2015-12-03.edf: can not open file, no such file or directory\n",
      "EDF_yolo_2015-12-03.edf not found\n",
      "Skipped file. Already present: eeg_recording_2015-12-04\n",
      "Skipped file. Already present: eeg_recording_2015-12-04\n",
      "Skipped file. Already present: eeg_recording_2015-12-04\n",
      "Skipped file. Already present: eeg_recording_2015-12-04\n",
      "Skipped file. Already present: eeg_recording_2015-12-04\n",
      "Skipped file. Already present: eeg_recording_2015-12-04\n"
     ]
    },
    {
     "name": "stderr",
     "output_type": "stream",
     "text": [
      " 48%|██████████████████████████████▍                                 | 487/1023 [36:19<44:19,  4.96s/it]"
     ]
    },
    {
     "name": "stdout",
     "output_type": "stream",
     "text": [
      "Skipped file. Already present: eeg_recording_2015-12-04\n",
      "Skipped file. Already present: eeg_recording_2015-12-04\n",
      "Skipped file. Already present: eeg_recording_2015-12-05\n",
      "Skipped file. Already present: eeg_recording_2015-12-05\n",
      "Skipped file. Already present: eeg_recording_2015-12-05\n",
      "Skipped file. Already present: eeg_recording_2015-12-05\n",
      "Skipped file. Already present: eeg_recording_2015-12-05\n"
     ]
    },
    {
     "name": "stderr",
     "output_type": "stream",
     "text": [
      " 48%|██████████████████████████████▌                                 | 488/1023 [36:24<44:31,  4.99s/it]"
     ]
    },
    {
     "name": "stdout",
     "output_type": "stream",
     "text": [
      "Skipped file. Already present: eeg_recording_2015-12-05\n",
      "Skipped file. Already present: eeg_recording_2015-12-05\n",
      "Skipped file. Already present: eeg_recording_2015-12-05\n",
      "Skipped file. Already present: eeg_recording_2015-12-06\n",
      "Skipped file. Already present: eeg_recording_2015-12-06\n",
      "Skipped file. Already present: eeg_recording_2015-12-06\n",
      "Skipped file. Already present: eeg_recording_2015-12-06\n",
      "Skipped file. Already present: eeg_recording_2015-12-06\n",
      "Skipped file. Already present: eeg_recording_2015-12-06\n"
     ]
    },
    {
     "name": "stderr",
     "output_type": "stream",
     "text": [
      " 48%|██████████████████████████████▌                                 | 489/1023 [36:29<44:28,  5.00s/it]"
     ]
    },
    {
     "name": "stdout",
     "output_type": "stream",
     "text": [
      "Skipped file. Already present: eeg_recording_2015-12-06\n",
      "Skipped file. Already present: eeg_recording_2015-12-06\n",
      "Skipped file. Already present: eeg_recording_2015-12-07\n",
      "Skipped file. Already present: eeg_recording_2015-12-07\n",
      "Skipped file. Already present: eeg_recording_2015-12-07\n",
      "Skipped file. Already present: eeg_recording_2015-12-07\n",
      "Skipped file. Already present: eeg_recording_2015-12-07\n",
      "Skipped file. Already present: eeg_recording_2015-12-07\n"
     ]
    },
    {
     "name": "stderr",
     "output_type": "stream",
     "text": [
      " 48%|██████████████████████████████▋                                 | 490/1023 [36:34<44:39,  5.03s/it]"
     ]
    },
    {
     "name": "stdout",
     "output_type": "stream",
     "text": [
      "Skipped file. Already present: eeg_recording_2015-12-07\n",
      "Skipped file. Already present: eeg_recording_2015-12-07\n",
      "Skipped file. Already present: eeg_recording_2015-12-08\n",
      "Skipped file. Already present: eeg_recording_2015-12-08\n",
      "Skipped file. Already present: eeg_recording_2015-12-08\n",
      "Skipped file. Already present: eeg_recording_2015-12-08\n",
      "Skipped file. Already present: eeg_recording_2015-12-08\n",
      "Skipped file. Already present: eeg_recording_2015-12-08\n"
     ]
    },
    {
     "name": "stderr",
     "output_type": "stream",
     "text": [
      " 48%|██████████████████████████████▋                                 | 491/1023 [36:39<44:33,  5.03s/it]"
     ]
    },
    {
     "name": "stdout",
     "output_type": "stream",
     "text": [
      "Skipped file. Already present: eeg_recording_2015-12-08\n",
      "Skipped file. Already present: eeg_recording_2015-12-08\n",
      "Skipped file. Already present: eeg_recording_2015-12-09\n",
      "Skipped file. Already present: eeg_recording_2015-12-09\n",
      "Skipped file. Already present: eeg_recording_2015-12-09\n",
      "Skipped file. Already present: eeg_recording_2015-12-09\n",
      "Skipped file. Already present: eeg_recording_2015-12-09\n",
      "Skipped file. Already present: eeg_recording_2015-12-09\n"
     ]
    },
    {
     "name": "stderr",
     "output_type": "stream",
     "text": [
      " 48%|██████████████████████████████▊                                 | 492/1023 [36:45<44:49,  5.07s/it]"
     ]
    },
    {
     "name": "stdout",
     "output_type": "stream",
     "text": [
      "Skipped file. Already present: eeg_recording_2015-12-09\n",
      "Skipped file. Already present: eeg_recording_2015-12-09\n",
      "Skipped file. Already present: eeg_recording_2015-12-10\n",
      "Skipped file. Already present: eeg_recording_2015-12-10\n",
      "Skipped file. Already present: eeg_recording_2015-12-10\n",
      "Skipped file. Already present: eeg_recording_2015-12-10\n",
      "Skipped file. Already present: eeg_recording_2015-12-10\n",
      "Skipped file. Already present: eeg_recording_2015-12-10\n"
     ]
    },
    {
     "name": "stderr",
     "output_type": "stream",
     "text": [
      " 48%|██████████████████████████████▊                                 | 493/1023 [36:50<44:36,  5.05s/it]"
     ]
    },
    {
     "name": "stdout",
     "output_type": "stream",
     "text": [
      "Skipped file. Already present: eeg_recording_2015-12-10\n",
      "Skipped file. Already present: eeg_recording_2015-12-10\n",
      "Skipped file. Already present: eeg_recording_2015-12-11\n",
      "Skipped file. Already present: eeg_recording_2015-12-11\n",
      "Skipped file. Already present: eeg_recording_2015-12-11\n",
      "Skipped file. Already present: eeg_recording_2015-12-11\n",
      "Skipped file. Already present: eeg_recording_2015-12-11\n",
      "Skipped file. Already present: eeg_recording_2015-12-11\n"
     ]
    },
    {
     "name": "stderr",
     "output_type": "stream",
     "text": [
      " 48%|██████████████████████████████▉                                 | 494/1023 [36:54<44:01,  4.99s/it]"
     ]
    },
    {
     "name": "stdout",
     "output_type": "stream",
     "text": [
      "Skipped file. Already present: eeg_recording_2015-12-11\n",
      "Skipped file. Already present: eeg_recording_2015-12-11\n",
      "Skipped file. Already present: eeg_recording_2015-12-12\n",
      "Skipped file. Already present: eeg_recording_2015-12-12\n",
      "Skipped file. Already present: eeg_recording_2015-12-12\n",
      "Skipped file. Already present: eeg_recording_2015-12-12\n",
      "Skipped file. Already present: eeg_recording_2015-12-12\n",
      "Skipped file. Already present: eeg_recording_2015-12-12\n"
     ]
    },
    {
     "name": "stderr",
     "output_type": "stream",
     "text": [
      " 48%|██████████████████████████████▉                                 | 495/1023 [36:59<43:22,  4.93s/it]"
     ]
    },
    {
     "name": "stdout",
     "output_type": "stream",
     "text": [
      "Skipped file. Already present: eeg_recording_2015-12-12\n",
      "Skipped file. Already present: eeg_recording_2015-12-13\n",
      "Skipped file. Already present: eeg_recording_2015-12-13\n",
      "Skipped file. Already present: eeg_recording_2015-12-13\n",
      "Skipped file. Already present: eeg_recording_2015-12-13\n",
      "Skipped file. Already present: eeg_recording_2015-12-13\n",
      "Skipped file. Already present: eeg_recording_2015-12-13\n"
     ]
    },
    {
     "name": "stderr",
     "output_type": "stream",
     "text": [
      " 48%|███████████████████████████████                                 | 496/1023 [37:04<43:11,  4.92s/it]"
     ]
    },
    {
     "name": "stdout",
     "output_type": "stream",
     "text": [
      "Skipped file. Already present: eeg_recording_2015-12-13\n",
      "Skipped file. Already present: eeg_recording_2015-12-14\n",
      "Skipped file. Already present: eeg_recording_2015-12-14\n",
      "Skipped file. Already present: eeg_recording_2015-12-14\n",
      "Skipped file. Already present: eeg_recording_2015-12-14\n",
      "Skipped file. Already present: eeg_recording_2015-12-14\n",
      "Skipped file. Already present: eeg_recording_2015-12-14\n"
     ]
    },
    {
     "name": "stderr",
     "output_type": "stream",
     "text": [
      " 49%|███████████████████████████████                                 | 497/1023 [37:09<42:27,  4.84s/it]"
     ]
    },
    {
     "name": "stdout",
     "output_type": "stream",
     "text": [
      "Skipped file. Already present: eeg_recording_2015-12-14\n",
      "Skipped file. Already present: eeg_recording_2015-12-15\n",
      "Skipped file. Already present: eeg_recording_2015-12-15\n",
      "Skipped file. Already present: eeg_recording_2015-12-15\n",
      "Skipped file. Already present: eeg_recording_2015-12-15\n",
      "Skipped file. Already present: eeg_recording_2015-12-15\n"
     ]
    },
    {
     "name": "stderr",
     "output_type": "stream",
     "text": [
      " 49%|███████████████████████████████▏                                | 498/1023 [37:13<41:27,  4.74s/it]"
     ]
    },
    {
     "name": "stdout",
     "output_type": "stream",
     "text": [
      "Skipped file. Already present: eeg_recording_2015-12-15\n",
      "Skipped file. Already present: eeg_recording_2015-12-16\n",
      "Skipped file. Already present: eeg_recording_2015-12-16\n",
      "Skipped file. Already present: eeg_recording_2015-12-16\n",
      "Skipped file. Already present: eeg_recording_2015-12-16\n",
      "Skipped file. Already present: eeg_recording_2015-12-16\n"
     ]
    },
    {
     "name": "stderr",
     "output_type": "stream",
     "text": [
      " 49%|███████████████████████████████▏                                | 499/1023 [37:18<40:02,  4.59s/it]"
     ]
    },
    {
     "name": "stdout",
     "output_type": "stream",
     "text": [
      "Skipped file. Already present: eeg_recording_2015-12-17\n",
      "Skipped file. Already present: eeg_recording_2015-12-17\n",
      "Skipped file. Already present: eeg_recording_2015-12-17\n",
      "Skipped file. Already present: eeg_recording_2015-12-17\n",
      "Skipped file. Already present: eeg_recording_2015-12-17\n"
     ]
    },
    {
     "name": "stderr",
     "output_type": "stream",
     "text": [
      " 49%|███████████████████████████████▎                                | 500/1023 [37:22<39:55,  4.58s/it]"
     ]
    },
    {
     "name": "stdout",
     "output_type": "stream",
     "text": [
      "Skipped file. Already present: eeg_recording_2015-12-17\n",
      "Skipped file. Already present: eeg_recording_2015-12-18\n",
      "Skipped file. Already present: eeg_recording_2015-12-18\n",
      "Skipped file. Already present: eeg_recording_2015-12-18\n",
      "Skipped file. Already present: eeg_recording_2015-12-18\n",
      "Skipped file. Already present: eeg_recording_2015-12-18\n",
      "Skipped file. Already present: eeg_recording_2015-12-18\n"
     ]
    },
    {
     "name": "stderr",
     "output_type": "stream",
     "text": [
      " 49%|███████████████████████████████▎                                | 501/1023 [37:27<39:33,  4.55s/it]"
     ]
    },
    {
     "name": "stdout",
     "output_type": "stream",
     "text": [
      "Skipped file. Already present: eeg_recording_2015-12-19\n",
      "Skipped file. Already present: eeg_recording_2015-12-19\n",
      "Skipped file. Already present: eeg_recording_2015-12-19\n",
      "Skipped file. Already present: eeg_recording_2015-12-19\n",
      "Skipped file. Already present: eeg_recording_2015-12-19\n",
      "Skipped file. Already present: eeg_recording_2015-12-19\n"
     ]
    },
    {
     "name": "stderr",
     "output_type": "stream",
     "text": [
      " 49%|███████████████████████████████▍                                | 502/1023 [37:31<39:17,  4.53s/it]"
     ]
    },
    {
     "name": "stdout",
     "output_type": "stream",
     "text": [
      "Skipped file. Already present: eeg_recording_2015-12-20\n",
      "Skipped file. Already present: eeg_recording_2015-12-20\n",
      "Skipped file. Already present: eeg_recording_2015-12-20\n",
      "Skipped file. Already present: eeg_recording_2015-12-20\n",
      "Skipped file. Already present: eeg_recording_2015-12-20\n",
      "Skipped file. Already present: eeg_recording_2015-12-20\n"
     ]
    },
    {
     "name": "stderr",
     "output_type": "stream",
     "text": [
      " 49%|███████████████████████████████▍                                | 503/1023 [37:36<39:11,  4.52s/it]"
     ]
    },
    {
     "name": "stdout",
     "output_type": "stream",
     "text": [
      "Skipped file. Already present: eeg_recording_2015-12-21\n",
      "Skipped file. Already present: eeg_recording_2015-12-21\n",
      "Skipped file. Already present: eeg_recording_2015-12-21\n",
      "Skipped file. Already present: eeg_recording_2015-12-21\n",
      "Skipped file. Already present: eeg_recording_2015-12-21\n",
      "Skipped file. Already present: eeg_recording_2015-12-21\n"
     ]
    },
    {
     "name": "stderr",
     "output_type": "stream",
     "text": [
      " 49%|███████████████████████████████▌                                | 504/1023 [37:40<39:05,  4.52s/it]"
     ]
    },
    {
     "name": "stdout",
     "output_type": "stream",
     "text": [
      "Skipped file. Already present: eeg_recording_2015-12-22\n",
      "Skipped file. Already present: eeg_recording_2015-12-22\n",
      "Skipped file. Already present: eeg_recording_2015-12-22\n",
      "Skipped file. Already present: eeg_recording_2015-12-22\n",
      "Skipped file. Already present: eeg_recording_2015-12-22\n",
      "Skipped file. Already present: eeg_recording_2015-12-22\n"
     ]
    },
    {
     "name": "stderr",
     "output_type": "stream",
     "text": [
      " 49%|███████████████████████████████▌                                | 505/1023 [37:45<39:02,  4.52s/it]"
     ]
    },
    {
     "name": "stdout",
     "output_type": "stream",
     "text": [
      "Skipped file. Already present: eeg_recording_2015-12-23\n",
      "Skipped file. Already present: eeg_recording_2015-12-23\n",
      "Skipped file. Already present: eeg_recording_2015-12-23\n",
      "Skipped file. Already present: eeg_recording_2015-12-23\n",
      "Skipped file. Already present: eeg_recording_2015-12-23\n",
      "Skipped file. Already present: eeg_recording_2015-12-23\n"
     ]
    },
    {
     "name": "stderr",
     "output_type": "stream",
     "text": [
      " 49%|███████████████████████████████▋                                | 506/1023 [37:49<38:57,  4.52s/it]"
     ]
    },
    {
     "name": "stdout",
     "output_type": "stream",
     "text": [
      "Skipped file. Already present: eeg_recording_2015-12-24\n",
      "Skipped file. Already present: eeg_recording_2015-12-24\n",
      "Skipped file. Already present: eeg_recording_2015-12-24\n",
      "Skipped file. Already present: eeg_recording_2015-12-24\n",
      "Skipped file. Already present: eeg_recording_2015-12-24\n"
     ]
    },
    {
     "name": "stderr",
     "output_type": "stream",
     "text": [
      " 50%|███████████████████████████████▋                                | 507/1023 [37:54<38:43,  4.50s/it]"
     ]
    },
    {
     "name": "stdout",
     "output_type": "stream",
     "text": [
      "Skipped file. Already present: eeg_recording_2015-12-24\n",
      "Skipped file. Already present: eeg_recording_2015-12-25\n",
      "Skipped file. Already present: eeg_recording_2015-12-25\n",
      "Skipped file. Already present: eeg_recording_2015-12-25\n",
      "Skipped file. Already present: eeg_recording_2015-12-25\n",
      "Skipped file. Already present: eeg_recording_2015-12-25\n",
      "Skipped file. Already present: eeg_recording_2015-12-25\n"
     ]
    },
    {
     "name": "stderr",
     "output_type": "stream",
     "text": [
      " 50%|███████████████████████████████▊                                | 508/1023 [37:58<38:40,  4.51s/it]"
     ]
    },
    {
     "name": "stdout",
     "output_type": "stream",
     "text": [
      "Skipped file. Already present: eeg_recording_2015-12-26\n",
      "Skipped file. Already present: eeg_recording_2015-12-26\n",
      "Skipped file. Already present: eeg_recording_2015-12-26\n",
      "Skipped file. Already present: eeg_recording_2015-12-26\n",
      "Skipped file. Already present: eeg_recording_2015-12-26\n"
     ]
    },
    {
     "name": "stderr",
     "output_type": "stream",
     "text": [
      " 50%|███████████████████████████████▊                                | 509/1023 [38:03<38:25,  4.49s/it]"
     ]
    },
    {
     "name": "stdout",
     "output_type": "stream",
     "text": [
      "Skipped file. Already present: eeg_recording_2015-12-26\n",
      "Skipped file. Already present: eeg_recording_2015-12-27\n",
      "Skipped file. Already present: eeg_recording_2015-12-27\n",
      "Skipped file. Already present: eeg_recording_2015-12-27\n",
      "Skipped file. Already present: eeg_recording_2015-12-27\n",
      "Skipped file. Already present: eeg_recording_2015-12-27\n"
     ]
    },
    {
     "name": "stderr",
     "output_type": "stream",
     "text": [
      " 50%|███████████████████████████████▉                                | 510/1023 [38:07<38:28,  4.50s/it]"
     ]
    },
    {
     "name": "stdout",
     "output_type": "stream",
     "text": [
      "Skipped file. Already present: eeg_recording_2015-12-27\n",
      "Skipped file. Already present: eeg_recording_2015-12-28\n",
      "Skipped file. Already present: eeg_recording_2015-12-28\n",
      "Skipped file. Already present: eeg_recording_2015-12-28\n",
      "Skipped file. Already present: eeg_recording_2015-12-28\n",
      "Skipped file. Already present: eeg_recording_2015-12-28\n"
     ]
    },
    {
     "name": "stderr",
     "output_type": "stream",
     "text": [
      " 50%|███████████████████████████████▉                                | 511/1023 [38:12<38:25,  4.50s/it]"
     ]
    },
    {
     "name": "stdout",
     "output_type": "stream",
     "text": [
      "Skipped file. Already present: eeg_recording_2015-12-28\n",
      "Skipped file. Already present: eeg_recording_2015-12-29\n",
      "Skipped file. Already present: eeg_recording_2015-12-29\n",
      "Skipped file. Already present: eeg_recording_2015-12-29\n",
      "Skipped file. Already present: eeg_recording_2015-12-29\n",
      "Skipped file. Already present: eeg_recording_2015-12-29\n",
      "Skipped file. Already present: eeg_recording_2015-12-29\n"
     ]
    },
    {
     "name": "stderr",
     "output_type": "stream",
     "text": [
      " 50%|████████████████████████████████                                | 512/1023 [38:16<38:24,  4.51s/it]"
     ]
    },
    {
     "name": "stdout",
     "output_type": "stream",
     "text": [
      "Skipped file. Already present: eeg_recording_2015-12-30\n",
      "Skipped file. Already present: eeg_recording_2015-12-30\n",
      "Skipped file. Already present: eeg_recording_2015-12-30\n",
      "Skipped file. Already present: eeg_recording_2015-12-30\n",
      "Skipped file. Already present: eeg_recording_2015-12-30\n",
      "Skipped file. Already present: eeg_recording_2015-12-30\n"
     ]
    },
    {
     "name": "stderr",
     "output_type": "stream",
     "text": [
      " 50%|████████████████████████████████                                | 513/1023 [38:21<38:18,  4.51s/it]"
     ]
    },
    {
     "name": "stdout",
     "output_type": "stream",
     "text": [
      "Skipped file. Already present: eeg_recording_2015-12-31\n",
      "Skipped file. Already present: eeg_recording_2015-12-31\n",
      "Skipped file. Already present: eeg_recording_2015-12-31\n",
      "Skipped file. Already present: eeg_recording_2015-12-31\n",
      "Skipped file. Already present: eeg_recording_2015-12-31\n"
     ]
    },
    {
     "name": "stderr",
     "output_type": "stream",
     "text": [
      " 50%|████████████████████████████████▏                               | 514/1023 [38:25<38:36,  4.55s/it]"
     ]
    },
    {
     "name": "stdout",
     "output_type": "stream",
     "text": [
      "Skipped file. Already present: eeg_recording_2015-12-31\n",
      "Skipped file. Already present: eeg_recording_2016-01-01\n",
      "Skipped file. Already present: eeg_recording_2016-01-01\n",
      "Skipped file. Already present: eeg_recording_2016-01-01\n",
      "Skipped file. Already present: eeg_recording_2016-01-01\n",
      "Skipped file. Already present: eeg_recording_2016-01-01\n",
      "Skipped file. Already present: eeg_recording_2016-01-01\n"
     ]
    },
    {
     "name": "stderr",
     "output_type": "stream",
     "text": [
      " 50%|████████████████████████████████▏                               | 515/1023 [38:30<38:54,  4.60s/it]"
     ]
    },
    {
     "name": "stdout",
     "output_type": "stream",
     "text": [
      "Skipped file. Already present: eeg_recording_2016-01-02\n",
      "Skipped file. Already present: eeg_recording_2016-01-02\n",
      "Skipped file. Already present: eeg_recording_2016-01-02\n",
      "Skipped file. Already present: eeg_recording_2016-01-02\n",
      "Skipped file. Already present: eeg_recording_2016-01-02\n",
      "Skipped file. Already present: eeg_recording_2016-01-02\n"
     ]
    },
    {
     "name": "stderr",
     "output_type": "stream",
     "text": [
      " 50%|████████████████████████████████▎                               | 516/1023 [38:34<38:44,  4.59s/it]"
     ]
    },
    {
     "name": "stdout",
     "output_type": "stream",
     "text": [
      "Skipped file. Already present: eeg_recording_2016-01-03\n",
      "Skipped file. Already present: eeg_recording_2016-01-03\n",
      "Skipped file. Already present: eeg_recording_2016-01-03\n",
      "Skipped file. Already present: eeg_recording_2016-01-03\n",
      "Skipped file. Already present: eeg_recording_2016-01-03\n"
     ]
    },
    {
     "name": "stderr",
     "output_type": "stream",
     "text": [
      " 51%|████████████████████████████████▎                               | 517/1023 [38:39<38:15,  4.54s/it]"
     ]
    },
    {
     "name": "stdout",
     "output_type": "stream",
     "text": [
      "Skipped file. Already present: eeg_recording_2016-01-03\n",
      "Skipped file. Already present: eeg_recording_2016-01-04\n",
      "Skipped file. Already present: eeg_recording_2016-01-04\n",
      "Skipped file. Already present: eeg_recording_2016-01-04\n",
      "Skipped file. Already present: eeg_recording_2016-01-04\n",
      "Skipped file. Already present: eeg_recording_2016-01-04\n"
     ]
    },
    {
     "name": "stderr",
     "output_type": "stream",
     "text": [
      " 51%|████████████████████████████████▍                               | 518/1023 [38:44<38:38,  4.59s/it]"
     ]
    },
    {
     "name": "stdout",
     "output_type": "stream",
     "text": [
      "Skipped file. Already present: eeg_recording_2016-01-04\n",
      "Skipped file. Already present: eeg_recording_2016-01-05\n",
      "Skipped file. Already present: eeg_recording_2016-01-05\n",
      "Skipped file. Already present: eeg_recording_2016-01-05\n",
      "Skipped file. Already present: eeg_recording_2016-01-05\n",
      "Skipped file. Already present: eeg_recording_2016-01-05\n",
      "Skipped file. Already present: eeg_recording_2016-01-05\n"
     ]
    },
    {
     "name": "stderr",
     "output_type": "stream",
     "text": [
      " 51%|████████████████████████████████▍                               | 519/1023 [38:49<39:19,  4.68s/it]"
     ]
    },
    {
     "name": "stdout",
     "output_type": "stream",
     "text": [
      "Skipped file. Already present: eeg_recording_2016-01-05\n",
      "Skipped file. Already present: eeg_recording_2016-01-06\n",
      "Skipped file. Already present: eeg_recording_2016-01-06\n",
      "Skipped file. Already present: eeg_recording_2016-01-06\n",
      "Skipped file. Already present: eeg_recording_2016-01-06\n",
      "Skipped file. Already present: eeg_recording_2016-01-06\n",
      "Skipped file. Already present: eeg_recording_2016-01-06\n",
      "Skipped file. Already present: eeg_recording_2016-01-06\n",
      "Skipped file. Already present: eeg_recording_2016-01-06\n",
      "Skipped file. Already present: eeg_recording_2016-01-06\n"
     ]
    },
    {
     "name": "stderr",
     "output_type": "stream",
     "text": [
      " 51%|████████████████████████████████▌                               | 520/1023 [38:54<41:50,  4.99s/it]"
     ]
    },
    {
     "name": "stdout",
     "output_type": "stream",
     "text": [
      "Skipped file. Already present: eeg_recording_2016-01-07\n",
      "Skipped file. Already present: eeg_recording_2016-01-07\n",
      "Skipped file. Already present: eeg_recording_2016-01-07\n",
      "Skipped file. Already present: eeg_recording_2016-01-07\n",
      "Skipped file. Already present: eeg_recording_2016-01-07\n",
      "Skipped file. Already present: eeg_recording_2016-01-07\n",
      "Skipped file. Already present: eeg_recording_2016-01-07\n",
      "Skipped file. Already present: eeg_recording_2016-01-07\n",
      "Skipped file. Already present: eeg_recording_2016-01-07\n",
      "Skipped file. Already present: eeg_recording_2016-01-07\n"
     ]
    },
    {
     "name": "stderr",
     "output_type": "stream",
     "text": [
      " 51%|████████████████████████████████▌                               | 521/1023 [39:00<44:30,  5.32s/it]"
     ]
    },
    {
     "name": "stdout",
     "output_type": "stream",
     "text": [
      "Skipped file. Already present: eeg_recording_2016-01-08\n",
      "Skipped file. Already present: eeg_recording_2016-01-08\n",
      "Skipped file. Already present: eeg_recording_2016-01-08\n",
      "Skipped file. Already present: eeg_recording_2016-01-08\n",
      "Skipped file. Already present: eeg_recording_2016-01-08\n",
      "Skipped file. Already present: eeg_recording_2016-01-08\n",
      "Skipped file. Already present: eeg_recording_2016-01-08\n",
      "Skipped file. Already present: eeg_recording_2016-01-08\n",
      "Skipped file. Already present: eeg_recording_2016-01-08\n",
      "Skipped file. Already present: eeg_recording_2016-01-08\n"
     ]
    },
    {
     "name": "stderr",
     "output_type": "stream",
     "text": [
      " 51%|████████████████████████████████▋                               | 522/1023 [39:06<46:17,  5.54s/it]"
     ]
    },
    {
     "name": "stdout",
     "output_type": "stream",
     "text": [
      "Skipped file. Already present: eeg_recording_2016-01-09\n",
      "Skipped file. Already present: eeg_recording_2016-01-09\n",
      "Skipped file. Already present: eeg_recording_2016-01-09\n",
      "Skipped file. Already present: eeg_recording_2016-01-09\n",
      "Skipped file. Already present: eeg_recording_2016-01-09\n",
      "Skipped file. Already present: eeg_recording_2016-01-09\n",
      "Skipped file. Already present: eeg_recording_2016-01-09\n",
      "Skipped file. Already present: eeg_recording_2016-01-09\n",
      "Skipped file. Already present: eeg_recording_2016-01-09\n",
      "Skipped file. Already present: eeg_recording_2016-01-09\n"
     ]
    },
    {
     "name": "stderr",
     "output_type": "stream",
     "text": [
      " 51%|████████████████████████████████▋                               | 523/1023 [39:12<47:21,  5.68s/it]"
     ]
    },
    {
     "name": "stdout",
     "output_type": "stream",
     "text": [
      "Skipped file. Already present: eeg_recording_2016-01-10\n",
      "Skipped file. Already present: eeg_recording_2016-01-10\n",
      "Skipped file. Already present: eeg_recording_2016-01-10\n",
      "Skipped file. Already present: eeg_recording_2016-01-10\n",
      "Skipped file. Already present: eeg_recording_2016-01-10\n",
      "Skipped file. Already present: eeg_recording_2016-01-10\n",
      "Skipped file. Already present: eeg_recording_2016-01-10\n",
      "Skipped file. Already present: eeg_recording_2016-01-10\n",
      "Skipped file. Already present: eeg_recording_2016-01-10\n",
      "Skipped file. Already present: eeg_recording_2016-01-10\n"
     ]
    },
    {
     "name": "stderr",
     "output_type": "stream",
     "text": [
      " 51%|████████████████████████████████▊                               | 524/1023 [39:18<48:04,  5.78s/it]"
     ]
    },
    {
     "name": "stdout",
     "output_type": "stream",
     "text": [
      "Skipped file. Already present: eeg_recording_2016-01-11\n",
      "Skipped file. Already present: eeg_recording_2016-01-11\n",
      "Skipped file. Already present: eeg_recording_2016-01-11\n",
      "Skipped file. Already present: eeg_recording_2016-01-11\n",
      "Skipped file. Already present: eeg_recording_2016-01-11\n",
      "Skipped file. Already present: eeg_recording_2016-01-11\n",
      "Skipped file. Already present: eeg_recording_2016-01-11\n",
      "Skipped file. Already present: eeg_recording_2016-01-11\n",
      "Skipped file. Already present: eeg_recording_2016-01-11\n",
      "Skipped file. Already present: eeg_recording_2016-01-11\n"
     ]
    },
    {
     "name": "stderr",
     "output_type": "stream",
     "text": [
      " 51%|████████████████████████████████▊                               | 525/1023 [39:24<48:27,  5.84s/it]"
     ]
    },
    {
     "name": "stdout",
     "output_type": "stream",
     "text": [
      "Skipped file. Already present: eeg_recording_2016-01-12\n",
      "Skipped file. Already present: eeg_recording_2016-01-12\n",
      "Skipped file. Already present: eeg_recording_2016-01-12\n",
      "Skipped file. Already present: eeg_recording_2016-01-12\n",
      "Skipped file. Already present: eeg_recording_2016-01-12\n",
      "Skipped file. Already present: eeg_recording_2016-01-12\n",
      "Skipped file. Already present: eeg_recording_2016-01-12\n",
      "Skipped file. Already present: eeg_recording_2016-01-12\n",
      "Skipped file. Already present: eeg_recording_2016-01-12\n",
      "Skipped file. Already present: eeg_recording_2016-01-12\n"
     ]
    },
    {
     "name": "stderr",
     "output_type": "stream",
     "text": [
      " 52%|████████████████████████████████▉                               | 527/1023 [39:33<41:43,  5.05s/it]"
     ]
    },
    {
     "name": "stdout",
     "output_type": "stream",
     "text": [
      "Skipped file. Already present: eeg_recording_2016-01-13\n",
      "Skipped file. Already present: eeg_recording_2016-01-13\n",
      "Skipped file. Already present: eeg_recording_2016-01-13\n",
      "Skipped file. Already present: eeg_recording_2016-01-13\n",
      "Skipped file. Already present: eeg_recording_2016-01-13\n",
      "Skipped file. Already present: eeg_recording_2016-01-13\n",
      "Skipped file. Already present: eeg_recording_2016-01-13\n",
      "Skipped file. Already present: eeg_recording_2016-01-13\n",
      "Skipped file. Already present: eeg_recording_2016-01-13\n",
      "Skipped file. Already present: eeg_recording_2016-01-13\n",
      "Skipped file. Already present: eeg_recording_2016-01-13\n"
     ]
    },
    {
     "name": "stderr",
     "output_type": "stream",
     "text": [
      " 52%|█████████████████████████████████                               | 529/1023 [39:42<38:03,  4.62s/it]"
     ]
    },
    {
     "name": "stdout",
     "output_type": "stream",
     "text": [
      "Skipped file. Already present: eeg_recording_2016-01-14\n",
      "Skipped file. Already present: eeg_recording_2016-01-14\n",
      "Skipped file. Already present: eeg_recording_2016-01-14\n",
      "Skipped file. Already present: eeg_recording_2016-01-14\n",
      "Skipped file. Already present: eeg_recording_2016-01-14\n",
      "Skipped file. Already present: eeg_recording_2016-01-14\n",
      "Skipped file. Already present: eeg_recording_2016-01-14\n",
      "Skipped file. Already present: eeg_recording_2016-01-14\n",
      "Skipped file. Already present: eeg_recording_2016-01-14\n",
      "Skipped file. Already present: eeg_recording_2016-01-14\n",
      "Skipped file. Already present: eeg_recording_2016-01-14\n",
      "Skipped file. Already present: eeg_recording_2016-01-14\n"
     ]
    },
    {
     "name": "stderr",
     "output_type": "stream",
     "text": [
      " 52%|█████████████████████████████████▏                              | 531/1023 [39:51<36:03,  4.40s/it]"
     ]
    },
    {
     "name": "stdout",
     "output_type": "stream",
     "text": [
      "Skipped file. Already present: eeg_recording_2016-01-15\n",
      "Skipped file. Already present: eeg_recording_2016-01-15\n",
      "Skipped file. Already present: eeg_recording_2016-01-15\n",
      "Skipped file. Already present: eeg_recording_2016-01-15\n",
      "Skipped file. Already present: eeg_recording_2016-01-15\n",
      "Skipped file. Already present: eeg_recording_2016-01-15\n",
      "Skipped file. Already present: eeg_recording_2016-01-15\n",
      "Skipped file. Already present: eeg_recording_2016-01-15\n",
      "Skipped file. Already present: eeg_recording_2016-01-15\n",
      "Skipped file. Already present: eeg_recording_2016-01-15\n",
      "Skipped file. Already present: eeg_recording_2016-01-15\n",
      "Skipped file. Already present: eeg_recording_2016-01-15\n"
     ]
    },
    {
     "name": "stderr",
     "output_type": "stream",
     "text": [
      " 52%|█████████████████████████████████▎                              | 533/1023 [40:00<34:52,  4.27s/it]"
     ]
    },
    {
     "name": "stdout",
     "output_type": "stream",
     "text": [
      "Skipped file. Already present: eeg_recording_2016-01-16\n",
      "Skipped file. Already present: eeg_recording_2016-01-16\n",
      "Skipped file. Already present: eeg_recording_2016-01-16\n",
      "Skipped file. Already present: eeg_recording_2016-01-16\n",
      "Skipped file. Already present: eeg_recording_2016-01-16\n",
      "Skipped file. Already present: eeg_recording_2016-01-16\n",
      "Skipped file. Already present: eeg_recording_2016-01-16\n",
      "Skipped file. Already present: eeg_recording_2016-01-16\n",
      "Skipped file. Already present: eeg_recording_2016-01-16\n",
      "Skipped file. Already present: eeg_recording_2016-01-16\n",
      "Skipped file. Already present: eeg_recording_2016-01-16\n",
      "Skipped file. Already present: eeg_recording_2016-01-16\n"
     ]
    },
    {
     "name": "stderr",
     "output_type": "stream",
     "text": [
      " 52%|█████████████████████████████████▍                              | 535/1023 [40:09<34:33,  4.25s/it]"
     ]
    },
    {
     "name": "stdout",
     "output_type": "stream",
     "text": [
      "Skipped file. Already present: eeg_recording_2016-01-17\n",
      "Skipped file. Already present: eeg_recording_2016-01-17\n",
      "Skipped file. Already present: eeg_recording_2016-01-17\n",
      "Skipped file. Already present: eeg_recording_2016-01-17\n",
      "Skipped file. Already present: eeg_recording_2016-01-17\n",
      "Skipped file. Already present: eeg_recording_2016-01-17\n",
      "Skipped file. Already present: eeg_recording_2016-01-17\n",
      "Skipped file. Already present: eeg_recording_2016-01-17\n",
      "Skipped file. Already present: eeg_recording_2016-01-17\n",
      "Skipped file. Already present: eeg_recording_2016-01-17\n",
      "Skipped file. Already present: eeg_recording_2016-01-17\n",
      "Skipped file. Already present: eeg_recording_2016-01-17\n"
     ]
    },
    {
     "name": "stderr",
     "output_type": "stream",
     "text": [
      " 52%|█████████████████████████████████▌                              | 536/1023 [40:15<38:57,  4.80s/it]"
     ]
    },
    {
     "name": "stdout",
     "output_type": "stream",
     "text": [
      "Skipped file. Already present: eeg_recording_2016-01-18\n"
     ]
    },
    {
     "name": "stderr",
     "output_type": "stream",
     "text": [
      " 52%|█████████████████████████████████▌                              | 537/1023 [40:18<34:40,  4.28s/it]"
     ]
    },
    {
     "name": "stdout",
     "output_type": "stream",
     "text": [
      "Skipped file. Already present: eeg_recording_2016-01-18\n",
      "Skipped file. Already present: eeg_recording_2016-01-18\n",
      "Skipped file. Already present: eeg_recording_2016-01-18\n",
      "Skipped file. Already present: eeg_recording_2016-01-18\n",
      "Skipped file. Already present: eeg_recording_2016-01-18\n",
      "Skipped file. Already present: eeg_recording_2016-01-18\n",
      "Skipped file. Already present: eeg_recording_2016-01-18\n",
      "Skipped file. Already present: eeg_recording_2016-01-18\n",
      "Skipped file. Already present: eeg_recording_2016-01-18\n",
      "Skipped file. Already present: eeg_recording_2016-01-18\n",
      "Skipped file. Already present: eeg_recording_2016-01-18\n"
     ]
    },
    {
     "name": "stderr",
     "output_type": "stream",
     "text": [
      " 53%|█████████████████████████████████▋                              | 539/1023 [40:26<33:13,  4.12s/it]"
     ]
    },
    {
     "name": "stdout",
     "output_type": "stream",
     "text": [
      "Skipped file. Already present: eeg_recording_2016-01-19\n",
      "Skipped file. Already present: eeg_recording_2016-01-19\n",
      "Skipped file. Already present: eeg_recording_2016-01-19\n",
      "Skipped file. Already present: eeg_recording_2016-01-19\n",
      "Skipped file. Already present: eeg_recording_2016-01-19\n",
      "Skipped file. Already present: eeg_recording_2016-01-19\n",
      "Skipped file. Already present: eeg_recording_2016-01-19\n",
      "Skipped file. Already present: eeg_recording_2016-01-19\n"
     ]
    },
    {
     "name": "stderr",
     "output_type": "stream",
     "text": [
      " 53%|█████████████████████████████████▊                              | 540/1023 [40:32<36:12,  4.50s/it]"
     ]
    },
    {
     "name": "stdout",
     "output_type": "stream",
     "text": [
      "Skipped file. Already present: eeg_recording_2016-01-19\n"
     ]
    },
    {
     "name": "stderr",
     "output_type": "stream",
     "text": [
      " 53%|█████████████████████████████████▊                              | 541/1023 [40:34<31:34,  3.93s/it]"
     ]
    },
    {
     "name": "stdout",
     "output_type": "stream",
     "text": [
      "Skipped file. Already present: eeg_recording_2016-01-20\n",
      "Skipped file. Already present: eeg_recording_2016-01-20\n",
      "Skipped file. Already present: eeg_recording_2016-01-20\n",
      "Skipped file. Already present: eeg_recording_2016-01-20\n",
      "Skipped file. Already present: eeg_recording_2016-01-20\n",
      "Skipped file. Already present: eeg_recording_2016-01-20\n",
      "Skipped file. Already present: eeg_recording_2016-01-20\n",
      "Skipped file. Already present: eeg_recording_2016-01-20\n"
     ]
    },
    {
     "name": "stderr",
     "output_type": "stream",
     "text": [
      " 53%|█████████████████████████████████▉                              | 542/1023 [40:40<35:10,  4.39s/it]"
     ]
    },
    {
     "name": "stdout",
     "output_type": "stream",
     "text": [
      "Skipped file. Already present: eeg_recording_2016-01-20\n"
     ]
    },
    {
     "name": "stderr",
     "output_type": "stream",
     "text": [
      " 53%|█████████████████████████████████▉                              | 543/1023 [40:42<30:12,  3.78s/it]"
     ]
    },
    {
     "name": "stdout",
     "output_type": "stream",
     "text": [
      "Skipped file. Already present: eeg_recording_2016-01-21\n",
      "Skipped file. Already present: eeg_recording_2016-01-22\n"
     ]
    },
    {
     "name": "stderr",
     "output_type": "stream",
     "text": [
      " 53%|██████████████████████████████████                              | 544/1023 [40:45<27:08,  3.40s/it]"
     ]
    },
    {
     "name": "stdout",
     "output_type": "stream",
     "text": [
      "Skipped file. Already present: eeg_recording_2016-01-22\n",
      "Skipped file. Already present: eeg_recording_2016-01-22\n",
      "Skipped file. Already present: eeg_recording_2016-01-22\n",
      "Skipped file. Already present: eeg_recording_2016-01-22\n",
      "Skipped file. Already present: eeg_recording_2016-01-22\n",
      "Skipped file. Already present: eeg_recording_2016-01-22\n",
      "Skipped file. Already present: eeg_recording_2016-01-22\n"
     ]
    },
    {
     "name": "stderr",
     "output_type": "stream",
     "text": [
      " 53%|██████████████████████████████████                              | 545/1023 [40:51<32:57,  4.14s/it]"
     ]
    },
    {
     "name": "stdout",
     "output_type": "stream",
     "text": [
      "Skipped file. Already present: eeg_recording_2016-01-22\n"
     ]
    },
    {
     "name": "stderr",
     "output_type": "stream",
     "text": [
      " 53%|██████████████████████████████████▏                             | 546/1023 [40:53<28:37,  3.60s/it]"
     ]
    },
    {
     "name": "stdout",
     "output_type": "stream",
     "text": [
      "Skipped file. Already present: eeg_recording_2016-01-23\n",
      "Skipped file. Already present: eeg_recording_2016-01-23\n",
      "Skipped file. Already present: eeg_recording_2016-01-23\n",
      "Skipped file. Already present: eeg_recording_2016-01-23\n",
      "Skipped file. Already present: eeg_recording_2016-01-23\n",
      "Skipped file. Already present: eeg_recording_2016-01-23\n",
      "Skipped file. Already present: eeg_recording_2016-01-23\n",
      "Skipped file. Already present: eeg_recording_2016-01-23\n"
     ]
    },
    {
     "name": "stderr",
     "output_type": "stream",
     "text": [
      " 53%|██████████████████████████████████▏                             | 547/1023 [40:59<34:43,  4.38s/it]"
     ]
    },
    {
     "name": "stdout",
     "output_type": "stream",
     "text": [
      "Skipped file. Already present: eeg_recording_2016-01-23\n"
     ]
    },
    {
     "name": "stderr",
     "output_type": "stream",
     "text": [
      " 54%|██████████████████████████████████▎                             | 548/1023 [41:01<29:50,  3.77s/it]"
     ]
    },
    {
     "name": "stdout",
     "output_type": "stream",
     "text": [
      "Skipped file. Already present: eeg_recording_2016-01-24\n",
      "Skipped file. Already present: eeg_recording_2016-01-24\n",
      "Skipped file. Already present: eeg_recording_2016-01-24\n",
      "Skipped file. Already present: eeg_recording_2016-01-24\n",
      "Skipped file. Already present: eeg_recording_2016-01-24\n",
      "Skipped file. Already present: eeg_recording_2016-01-24\n",
      "Skipped file. Already present: eeg_recording_2016-01-24\n",
      "Skipped file. Already present: eeg_recording_2016-01-24\n"
     ]
    },
    {
     "name": "stderr",
     "output_type": "stream",
     "text": [
      " 54%|██████████████████████████████████▎                             | 549/1023 [41:08<35:44,  4.52s/it]"
     ]
    },
    {
     "name": "stdout",
     "output_type": "stream",
     "text": [
      "Skipped file. Already present: eeg_recording_2016-01-24\n"
     ]
    },
    {
     "name": "stderr",
     "output_type": "stream",
     "text": [
      " 54%|██████████████████████████████████▍                             | 550/1023 [41:10<30:49,  3.91s/it]"
     ]
    },
    {
     "name": "stdout",
     "output_type": "stream",
     "text": [
      "Skipped file. Already present: eeg_recording_2016-01-25\n",
      "Skipped file. Already present: eeg_recording_2016-01-25\n",
      "Skipped file. Already present: eeg_recording_2016-01-25\n",
      "Skipped file. Already present: eeg_recording_2016-01-25\n",
      "Skipped file. Already present: eeg_recording_2016-01-25\n",
      "Skipped file. Already present: eeg_recording_2016-01-25\n",
      "Skipped file. Already present: eeg_recording_2016-01-25\n",
      "Skipped file. Already present: eeg_recording_2016-01-25\n"
     ]
    },
    {
     "name": "stderr",
     "output_type": "stream",
     "text": [
      " 54%|██████████████████████████████████▍                             | 551/1023 [41:16<36:07,  4.59s/it]"
     ]
    },
    {
     "name": "stdout",
     "output_type": "stream",
     "text": [
      "Skipped file. Already present: eeg_recording_2016-01-25\n"
     ]
    },
    {
     "name": "stderr",
     "output_type": "stream",
     "text": [
      " 54%|██████████████████████████████████▌                             | 552/1023 [41:19<32:14,  4.11s/it]"
     ]
    },
    {
     "name": "stdout",
     "output_type": "stream",
     "text": [
      "Skipped file. Already present: eeg_recording_2016-01-26\n",
      "Skipped file. Already present: eeg_recording_2016-01-26\n",
      "Skipped file. Already present: eeg_recording_2016-01-26\n",
      "Skipped file. Already present: eeg_recording_2016-01-26\n",
      "Skipped file. Already present: eeg_recording_2016-01-26\n",
      "Skipped file. Already present: eeg_recording_2016-01-26\n",
      "Skipped file. Already present: eeg_recording_2016-01-26\n",
      "Skipped file. Already present: eeg_recording_2016-01-26\n",
      "Skipped file. Already present: eeg_recording_2016-01-26\n"
     ]
    },
    {
     "name": "stderr",
     "output_type": "stream",
     "text": [
      " 54%|██████████████████████████████████▌                             | 553/1023 [41:25<36:23,  4.65s/it]"
     ]
    },
    {
     "name": "stdout",
     "output_type": "stream",
     "text": [
      "Skipped file. Already present: eeg_recording_2016-01-26\n",
      "Skipped file. Already present: eeg_recording_2016-01-27\n",
      "Skipped file. Already present: eeg_recording_2016-01-27\n",
      "Skipped file. Already present: eeg_recording_2016-01-27\n"
     ]
    },
    {
     "name": "stderr",
     "output_type": "stream",
     "text": [
      " 54%|██████████████████████████████████▋                             | 554/1023 [41:29<33:01,  4.23s/it]"
     ]
    },
    {
     "name": "stdout",
     "output_type": "stream",
     "text": [
      "Skipped file. Already present: eeg_recording_2016-01-27\n",
      "Skipped file. Already present: eeg_recording_2016-01-27\n",
      "Skipped file. Already present: eeg_recording_2016-01-27\n",
      "Skipped file. Already present: eeg_recording_2016-01-27\n",
      "Skipped file. Already present: eeg_recording_2016-01-27\n",
      "Skipped file. Already present: eeg_recording_2016-01-27\n",
      "Skipped file. Already present: eeg_recording_2016-01-27\n"
     ]
    },
    {
     "name": "stderr",
     "output_type": "stream",
     "text": [
      " 54%|██████████████████████████████████▋                             | 555/1023 [41:35<37:02,  4.75s/it]"
     ]
    },
    {
     "name": "stdout",
     "output_type": "stream",
     "text": [
      "Skipped file. Already present: eeg_recording_2016-01-27\n",
      "Skipped file. Already present: eeg_recording_2016-01-28\n",
      "Skipped file. Already present: eeg_recording_2016-01-28\n",
      "Skipped file. Already present: eeg_recording_2016-01-28\n"
     ]
    },
    {
     "name": "stderr",
     "output_type": "stream",
     "text": [
      " 54%|██████████████████████████████████▊                             | 556/1023 [41:38<33:37,  4.32s/it]"
     ]
    },
    {
     "name": "stdout",
     "output_type": "stream",
     "text": [
      "Skipped file. Already present: eeg_recording_2016-01-28\n",
      "Skipped file. Already present: eeg_recording_2016-01-28\n",
      "Skipped file. Already present: eeg_recording_2016-01-28\n",
      "Skipped file. Already present: eeg_recording_2016-01-28\n",
      "Skipped file. Already present: eeg_recording_2016-01-28\n",
      "Skipped file. Already present: eeg_recording_2016-01-28\n",
      "Skipped file. Already present: eeg_recording_2016-01-28\n"
     ]
    },
    {
     "name": "stderr",
     "output_type": "stream",
     "text": [
      " 54%|██████████████████████████████████▊                             | 557/1023 [41:43<36:28,  4.70s/it]"
     ]
    },
    {
     "name": "stdout",
     "output_type": "stream",
     "text": [
      "Skipped file. Already present: eeg_recording_2016-01-28\n",
      "Skipped file. Already present: eeg_recording_2016-01-29\n",
      "Skipped file. Already present: eeg_recording_2016-01-29\n",
      "Skipped file. Already present: eeg_recording_2016-01-29\n"
     ]
    },
    {
     "name": "stderr",
     "output_type": "stream",
     "text": [
      " 55%|██████████████████████████████████▉                             | 558/1023 [41:47<33:51,  4.37s/it]"
     ]
    },
    {
     "name": "stdout",
     "output_type": "stream",
     "text": [
      "Skipped file. Already present: eeg_recording_2016-01-29\n",
      "Skipped file. Already present: eeg_recording_2016-01-29\n",
      "Skipped file. Already present: eeg_recording_2016-01-29\n",
      "Skipped file. Already present: eeg_recording_2016-01-29\n",
      "Skipped file. Already present: eeg_recording_2016-01-29\n",
      "Skipped file. Already present: eeg_recording_2016-01-29\n",
      "Skipped file. Already present: eeg_recording_2016-01-29\n"
     ]
    },
    {
     "name": "stderr",
     "output_type": "stream",
     "text": [
      " 55%|██████████████████████████████████▉                             | 559/1023 [41:53<36:27,  4.71s/it]"
     ]
    },
    {
     "name": "stdout",
     "output_type": "stream",
     "text": [
      "Skipped file. Already present: eeg_recording_2016-01-29\n",
      "Skipped file. Already present: eeg_recording_2016-01-30\n",
      "Skipped file. Already present: eeg_recording_2016-01-30\n",
      "Skipped file. Already present: eeg_recording_2016-01-30\n"
     ]
    },
    {
     "name": "stderr",
     "output_type": "stream",
     "text": [
      " 55%|███████████████████████████████████                             | 560/1023 [41:56<33:58,  4.40s/it]"
     ]
    },
    {
     "name": "stdout",
     "output_type": "stream",
     "text": [
      "Skipped file. Already present: eeg_recording_2016-01-30\n",
      "Skipped file. Already present: eeg_recording_2016-01-30\n",
      "Skipped file. Already present: eeg_recording_2016-01-30\n",
      "Skipped file. Already present: eeg_recording_2016-01-30\n",
      "Skipped file. Already present: eeg_recording_2016-01-30\n",
      "Skipped file. Already present: eeg_recording_2016-01-30\n",
      "Skipped file. Already present: eeg_recording_2016-01-30\n"
     ]
    },
    {
     "name": "stderr",
     "output_type": "stream",
     "text": [
      " 55%|███████████████████████████████████                             | 561/1023 [42:02<36:53,  4.79s/it]"
     ]
    },
    {
     "name": "stdout",
     "output_type": "stream",
     "text": [
      "Skipped file. Already present: eeg_recording_2016-01-30\n",
      "Skipped file. Already present: eeg_recording_2016-01-31\n",
      "Skipped file. Already present: eeg_recording_2016-01-31\n",
      "Skipped file. Already present: eeg_recording_2016-01-31\n"
     ]
    },
    {
     "name": "stderr",
     "output_type": "stream",
     "text": [
      " 55%|███████████████████████████████████▏                            | 562/1023 [42:06<34:06,  4.44s/it]"
     ]
    },
    {
     "name": "stdout",
     "output_type": "stream",
     "text": [
      "Skipped file. Already present: eeg_recording_2016-01-31\n",
      "Skipped file. Already present: eeg_recording_2016-01-31\n",
      "Skipped file. Already present: eeg_recording_2016-01-31\n",
      "Skipped file. Already present: eeg_recording_2016-01-31\n",
      "Skipped file. Already present: eeg_recording_2016-01-31\n",
      "Skipped file. Already present: eeg_recording_2016-01-31\n",
      "Skipped file. Already present: eeg_recording_2016-01-31\n"
     ]
    },
    {
     "name": "stderr",
     "output_type": "stream",
     "text": [
      " 55%|███████████████████████████████████▏                            | 563/1023 [42:11<36:44,  4.79s/it]"
     ]
    },
    {
     "name": "stdout",
     "output_type": "stream",
     "text": [
      "Skipped file. Already present: eeg_recording_2016-01-31\n",
      "Skipped file. Already present: eeg_recording_2016-02-01\n",
      "Skipped file. Already present: eeg_recording_2016-02-01\n",
      "Skipped file. Already present: eeg_recording_2016-02-01\n"
     ]
    },
    {
     "name": "stderr",
     "output_type": "stream",
     "text": [
      " 55%|███████████████████████████████████▎                            | 564/1023 [42:15<33:54,  4.43s/it]"
     ]
    },
    {
     "name": "stdout",
     "output_type": "stream",
     "text": [
      "Skipped file. Already present: eeg_recording_2016-02-01\n",
      "Skipped file. Already present: eeg_recording_2016-02-01\n",
      "Skipped file. Already present: eeg_recording_2016-02-01\n",
      "Skipped file. Already present: eeg_recording_2016-02-01\n",
      "Skipped file. Already present: eeg_recording_2016-02-01\n",
      "Skipped file. Already present: eeg_recording_2016-02-01\n",
      "Skipped file. Already present: eeg_recording_2016-02-01\n"
     ]
    },
    {
     "name": "stderr",
     "output_type": "stream",
     "text": [
      " 55%|███████████████████████████████████▎                            | 565/1023 [42:20<36:21,  4.76s/it]"
     ]
    },
    {
     "name": "stdout",
     "output_type": "stream",
     "text": [
      "Skipped file. Already present: eeg_recording_2016-02-02\n",
      "Skipped file. Already present: eeg_recording_2016-02-02\n",
      "Skipped file. Already present: eeg_recording_2016-02-02\n"
     ]
    },
    {
     "name": "stderr",
     "output_type": "stream",
     "text": [
      " 55%|███████████████████████████████████▍                            | 566/1023 [42:24<34:02,  4.47s/it]"
     ]
    },
    {
     "name": "stdout",
     "output_type": "stream",
     "text": [
      "Skipped file. Already present: eeg_recording_2016-02-02\n",
      "Skipped file. Already present: eeg_recording_2016-02-02\n",
      "Skipped file. Already present: eeg_recording_2016-02-02\n",
      "Skipped file. Already present: eeg_recording_2016-02-02\n",
      "Skipped file. Already present: eeg_recording_2016-02-02\n",
      "Skipped file. Already present: eeg_recording_2016-02-02\n",
      "Skipped file. Already present: eeg_recording_2016-02-02\n"
     ]
    },
    {
     "name": "stderr",
     "output_type": "stream",
     "text": [
      " 55%|███████████████████████████████████▍                            | 567/1023 [42:29<35:56,  4.73s/it]"
     ]
    },
    {
     "name": "stdout",
     "output_type": "stream",
     "text": [
      "Skipped file. Already present: eeg_recording_2016-02-03\n",
      "Skipped file. Already present: eeg_recording_2016-02-03\n",
      "Skipped file. Already present: eeg_recording_2016-02-03\n",
      "Skipped file. Already present: eeg_recording_2016-02-03\n"
     ]
    },
    {
     "name": "stderr",
     "output_type": "stream",
     "text": [
      " 56%|███████████████████████████████████▌                            | 568/1023 [42:33<34:13,  4.51s/it]"
     ]
    },
    {
     "name": "stdout",
     "output_type": "stream",
     "text": [
      "Skipped file. Already present: eeg_recording_2016-02-03\n",
      "Skipped file. Already present: eeg_recording_2016-02-03\n",
      "Skipped file. Already present: eeg_recording_2016-02-03\n",
      "Skipped file. Already present: eeg_recording_2016-02-03\n",
      "Skipped file. Already present: eeg_recording_2016-02-03\n",
      "Skipped file. Already present: eeg_recording_2016-02-03\n"
     ]
    },
    {
     "name": "stderr",
     "output_type": "stream",
     "text": [
      " 56%|███████████████████████████████████▌                            | 569/1023 [42:38<35:23,  4.68s/it]"
     ]
    },
    {
     "name": "stdout",
     "output_type": "stream",
     "text": [
      "Skipped file. Already present: eeg_recording_2016-02-04\n",
      "Skipped file. Already present: eeg_recording_2016-02-04\n",
      "Skipped file. Already present: eeg_recording_2016-02-04\n",
      "Skipped file. Already present: eeg_recording_2016-02-04\n"
     ]
    },
    {
     "name": "stderr",
     "output_type": "stream",
     "text": [
      " 56%|███████████████████████████████████▋                            | 570/1023 [42:42<33:37,  4.45s/it]"
     ]
    },
    {
     "name": "stdout",
     "output_type": "stream",
     "text": [
      "Skipped file. Already present: eeg_recording_2016-02-04\n",
      "Skipped file. Already present: eeg_recording_2016-02-04\n",
      "Skipped file. Already present: eeg_recording_2016-02-04\n",
      "Skipped file. Already present: eeg_recording_2016-02-04\n",
      "Skipped file. Already present: eeg_recording_2016-02-04\n",
      "Skipped file. Already present: eeg_recording_2016-02-04\n"
     ]
    },
    {
     "name": "stderr",
     "output_type": "stream",
     "text": [
      " 56%|███████████████████████████████████▋                            | 571/1023 [42:48<35:03,  4.65s/it]"
     ]
    },
    {
     "name": "stdout",
     "output_type": "stream",
     "text": [
      "Skipped file. Already present: eeg_recording_2016-02-05\n",
      "Skipped file. Already present: eeg_recording_2016-02-05\n",
      "Skipped file. Already present: eeg_recording_2016-02-05\n",
      "Skipped file. Already present: eeg_recording_2016-02-05\n"
     ]
    },
    {
     "name": "stderr",
     "output_type": "stream",
     "text": [
      " 56%|███████████████████████████████████▊                            | 572/1023 [42:51<33:01,  4.39s/it]"
     ]
    },
    {
     "name": "stdout",
     "output_type": "stream",
     "text": [
      "Skipped file. Already present: eeg_recording_2016-02-05\n",
      "Skipped file. Already present: eeg_recording_2016-02-05\n",
      "Skipped file. Already present: eeg_recording_2016-02-05\n",
      "Skipped file. Already present: eeg_recording_2016-02-05\n",
      "Skipped file. Already present: eeg_recording_2016-02-05\n"
     ]
    },
    {
     "name": "stderr",
     "output_type": "stream",
     "text": [
      " 56%|███████████████████████████████████▊                            | 573/1023 [42:56<34:24,  4.59s/it]"
     ]
    },
    {
     "name": "stdout",
     "output_type": "stream",
     "text": [
      "Skipped file. Already present: eeg_recording_2016-02-06\n",
      "Skipped file. Already present: eeg_recording_2016-02-06\n",
      "Skipped file. Already present: eeg_recording_2016-02-06\n",
      "Skipped file. Already present: eeg_recording_2016-02-06\n"
     ]
    },
    {
     "name": "stderr",
     "output_type": "stream",
     "text": [
      " 56%|███████████████████████████████████▉                            | 574/1023 [43:00<32:11,  4.30s/it]"
     ]
    },
    {
     "name": "stdout",
     "output_type": "stream",
     "text": [
      "Skipped file. Already present: eeg_recording_2016-02-06\n",
      "Skipped file. Already present: eeg_recording_2016-02-06\n",
      "Skipped file. Already present: eeg_recording_2016-02-06\n",
      "Skipped file. Already present: eeg_recording_2016-02-06\n",
      "Skipped file. Already present: eeg_recording_2016-02-06\n"
     ]
    },
    {
     "name": "stderr",
     "output_type": "stream",
     "text": [
      " 56%|███████████████████████████████████▉                            | 575/1023 [43:05<33:33,  4.49s/it]"
     ]
    },
    {
     "name": "stdout",
     "output_type": "stream",
     "text": [
      "Skipped file. Already present: eeg_recording_2016-02-07\n",
      "Skipped file. Already present: eeg_recording_2016-02-07\n",
      "Skipped file. Already present: eeg_recording_2016-02-07\n",
      "Skipped file. Already present: eeg_recording_2016-02-07\n"
     ]
    },
    {
     "name": "stderr",
     "output_type": "stream",
     "text": [
      " 56%|████████████████████████████████████                            | 576/1023 [43:09<31:37,  4.24s/it]"
     ]
    },
    {
     "name": "stdout",
     "output_type": "stream",
     "text": [
      "Skipped file. Already present: eeg_recording_2016-02-07\n",
      "Skipped file. Already present: eeg_recording_2016-02-07\n",
      "Skipped file. Already present: eeg_recording_2016-02-07\n",
      "Skipped file. Already present: eeg_recording_2016-02-07\n",
      "Skipped file. Already present: eeg_recording_2016-02-07\n"
     ]
    },
    {
     "name": "stderr",
     "output_type": "stream",
     "text": [
      " 56%|████████████████████████████████████                            | 577/1023 [43:14<33:09,  4.46s/it]"
     ]
    },
    {
     "name": "stdout",
     "output_type": "stream",
     "text": [
      "Skipped file. Already present: eeg_recording_2016-02-08\n",
      "Skipped file. Already present: eeg_recording_2016-02-08\n",
      "Skipped file. Already present: eeg_recording_2016-02-08\n",
      "Skipped file. Already present: eeg_recording_2016-02-08\n"
     ]
    },
    {
     "name": "stderr",
     "output_type": "stream",
     "text": [
      " 57%|████████████████████████████████████▏                           | 578/1023 [43:16<29:41,  4.00s/it]"
     ]
    },
    {
     "name": "stdout",
     "output_type": "stream",
     "text": [
      "Skipped file. Already present: eeg_recording_2016-02-08\n",
      "Skipped file. Already present: eeg_recording_2016-02-08\n",
      "Skipped file. Already present: eeg_recording_2016-02-08\n",
      "Skipped file. Already present: eeg_recording_2016-02-08\n",
      "Skipped file. Already present: eeg_recording_2016-02-08\n"
     ]
    },
    {
     "name": "stderr",
     "output_type": "stream",
     "text": [
      " 57%|████████████████████████████████████▏                           | 579/1023 [43:21<31:22,  4.24s/it]"
     ]
    },
    {
     "name": "stdout",
     "output_type": "stream",
     "text": [
      "Skipped file. Already present: eeg_recording_2016-02-09\n",
      "Skipped file. Already present: eeg_recording_2016-02-09\n",
      "Skipped file. Already present: eeg_recording_2016-02-09\n",
      "Skipped file. Already present: eeg_recording_2016-02-09\n"
     ]
    },
    {
     "name": "stderr",
     "output_type": "stream",
     "text": [
      " 57%|████████████████████████████████████▎                           | 580/1023 [43:25<30:48,  4.17s/it]"
     ]
    },
    {
     "name": "stdout",
     "output_type": "stream",
     "text": [
      "Skipped file. Already present: eeg_recording_2016-02-09\n",
      "Skipped file. Already present: eeg_recording_2016-02-09\n",
      "Skipped file. Already present: eeg_recording_2016-02-09\n",
      "Skipped file. Already present: eeg_recording_2016-02-09\n",
      "Skipped file. Already present: eeg_recording_2016-02-09\n"
     ]
    },
    {
     "name": "stderr",
     "output_type": "stream",
     "text": [
      " 57%|████████████████████████████████████▎                           | 581/1023 [43:30<31:58,  4.34s/it]"
     ]
    },
    {
     "name": "stdout",
     "output_type": "stream",
     "text": [
      "Skipped file. Already present: eeg_recording_2016-02-10\n",
      "Skipped file. Already present: eeg_recording_2016-02-10\n",
      "Skipped file. Already present: eeg_recording_2016-02-10\n",
      "Skipped file. Already present: eeg_recording_2016-02-10\n"
     ]
    },
    {
     "name": "stderr",
     "output_type": "stream",
     "text": [
      " 57%|████████████████████████████████████▍                           | 582/1023 [43:34<31:29,  4.28s/it]"
     ]
    },
    {
     "name": "stdout",
     "output_type": "stream",
     "text": [
      "Skipped file. Already present: eeg_recording_2016-02-10\n",
      "Skipped file. Already present: eeg_recording_2016-02-10\n",
      "Skipped file. Already present: eeg_recording_2016-02-10\n",
      "Skipped file. Already present: eeg_recording_2016-02-10\n",
      "Skipped file. Already present: eeg_recording_2016-02-10\n"
     ]
    },
    {
     "name": "stderr",
     "output_type": "stream",
     "text": [
      " 57%|████████████████████████████████████▍                           | 583/1023 [43:39<33:06,  4.51s/it]"
     ]
    },
    {
     "name": "stdout",
     "output_type": "stream",
     "text": [
      "Skipped file. Already present: eeg_recording_2016-02-10\n",
      "Skipped file. Already present: eeg_recording_2016-02-11\n",
      "Skipped file. Already present: eeg_recording_2016-02-11\n",
      "Skipped file. Already present: eeg_recording_2016-02-11\n",
      "Skipped file. Already present: eeg_recording_2016-02-11\n"
     ]
    },
    {
     "name": "stderr",
     "output_type": "stream",
     "text": [
      " 57%|████████████████████████████████████▌                           | 584/1023 [43:43<31:44,  4.34s/it]"
     ]
    },
    {
     "name": "stdout",
     "output_type": "stream",
     "text": [
      "Skipped file. Already present: eeg_recording_2016-02-11\n",
      "Skipped file. Already present: eeg_recording_2016-02-11\n",
      "Skipped file. Already present: eeg_recording_2016-02-11\n",
      "Skipped file. Already present: eeg_recording_2016-02-11\n",
      "Skipped file. Already present: eeg_recording_2016-02-11\n"
     ]
    },
    {
     "name": "stderr",
     "output_type": "stream",
     "text": [
      " 57%|████████████████████████████████████▌                           | 585/1023 [43:48<32:43,  4.48s/it]"
     ]
    },
    {
     "name": "stdout",
     "output_type": "stream",
     "text": [
      "Skipped file. Already present: eeg_recording_2016-02-11\n",
      "Skipped file. Already present: eeg_recording_2016-02-12\n",
      "Skipped file. Already present: eeg_recording_2016-02-12\n",
      "Skipped file. Already present: eeg_recording_2016-02-12\n",
      "Skipped file. Already present: eeg_recording_2016-02-12\n"
     ]
    },
    {
     "name": "stderr",
     "output_type": "stream",
     "text": [
      " 57%|████████████████████████████████████▋                           | 586/1023 [43:52<31:42,  4.35s/it]"
     ]
    },
    {
     "name": "stdout",
     "output_type": "stream",
     "text": [
      "Skipped file. Already present: eeg_recording_2016-02-12\n",
      "Skipped file. Already present: eeg_recording_2016-02-12\n",
      "Skipped file. Already present: eeg_recording_2016-02-12\n",
      "Skipped file. Already present: eeg_recording_2016-02-12\n",
      "Skipped file. Already present: eeg_recording_2016-02-12\n"
     ]
    },
    {
     "name": "stderr",
     "output_type": "stream",
     "text": [
      " 57%|████████████████████████████████████▋                           | 587/1023 [43:57<32:39,  4.49s/it]"
     ]
    },
    {
     "name": "stdout",
     "output_type": "stream",
     "text": [
      "Skipped file. Already present: eeg_recording_2016-02-12\n",
      "Skipped file. Already present: eeg_recording_2016-02-13\n",
      "Skipped file. Already present: eeg_recording_2016-02-13\n",
      "Skipped file. Already present: eeg_recording_2016-02-13\n",
      "Skipped file. Already present: eeg_recording_2016-02-13\n"
     ]
    },
    {
     "name": "stderr",
     "output_type": "stream",
     "text": [
      " 57%|████████████████████████████████████▊                           | 588/1023 [44:01<31:32,  4.35s/it]"
     ]
    },
    {
     "name": "stdout",
     "output_type": "stream",
     "text": [
      "Skipped file. Already present: eeg_recording_2016-02-13\n",
      "Skipped file. Already present: eeg_recording_2016-02-13\n",
      "Skipped file. Already present: eeg_recording_2016-02-13\n",
      "Skipped file. Already present: eeg_recording_2016-02-13\n",
      "Skipped file. Already present: eeg_recording_2016-02-13\n"
     ]
    },
    {
     "name": "stderr",
     "output_type": "stream",
     "text": [
      " 58%|████████████████████████████████████▊                           | 589/1023 [44:06<32:18,  4.47s/it]"
     ]
    },
    {
     "name": "stdout",
     "output_type": "stream",
     "text": [
      "Skipped file. Already present: eeg_recording_2016-02-13\n",
      "Skipped file. Already present: eeg_recording_2016-02-14\n",
      "Skipped file. Already present: eeg_recording_2016-02-14\n",
      "Skipped file. Already present: eeg_recording_2016-02-14\n",
      "Skipped file. Already present: eeg_recording_2016-02-14\n",
      "Skipped file. Already present: eeg_recording_2016-02-14\n"
     ]
    },
    {
     "name": "stderr",
     "output_type": "stream",
     "text": [
      " 58%|████████████████████████████████████▉                           | 590/1023 [44:10<32:43,  4.54s/it]"
     ]
    },
    {
     "name": "stdout",
     "output_type": "stream",
     "text": [
      "Skipped file. Already present: eeg_recording_2016-02-14\n",
      "Skipped file. Already present: eeg_recording_2016-02-15\n",
      "Skipped file. Already present: eeg_recording_2016-02-15\n",
      "Skipped file. Already present: eeg_recording_2016-02-15\n",
      "Skipped file. Already present: eeg_recording_2016-02-15\n"
     ]
    },
    {
     "name": "stderr",
     "output_type": "stream",
     "text": [
      " 58%|████████████████████████████████████▉                           | 591/1023 [44:14<31:31,  4.38s/it]"
     ]
    },
    {
     "name": "stdout",
     "output_type": "stream",
     "text": [
      "Skipped file. Already present: eeg_recording_2016-02-15\n",
      "Skipped file. Already present: eeg_recording_2016-02-15\n",
      "Skipped file. Already present: eeg_recording_2016-02-15\n",
      "Skipped file. Already present: eeg_recording_2016-02-15\n",
      "Skipped file. Already present: eeg_recording_2016-02-15\n"
     ]
    },
    {
     "name": "stderr",
     "output_type": "stream",
     "text": [
      " 58%|█████████████████████████████████████                           | 592/1023 [44:19<32:03,  4.46s/it]"
     ]
    },
    {
     "name": "stdout",
     "output_type": "stream",
     "text": [
      "Skipped file. Already present: eeg_recording_2016-02-15\n",
      "Skipped file. Already present: eeg_recording_2016-02-16\n",
      "Skipped file. Already present: eeg_recording_2016-02-16\n",
      "Skipped file. Already present: eeg_recording_2016-02-16\n",
      "Skipped file. Already present: eeg_recording_2016-02-16\n",
      "Skipped file. Already present: eeg_recording_2016-02-16\n"
     ]
    },
    {
     "name": "stderr",
     "output_type": "stream",
     "text": [
      " 58%|█████████████████████████████████████▏                          | 594/1023 [44:26<28:28,  3.98s/it]"
     ]
    },
    {
     "name": "stdout",
     "output_type": "stream",
     "text": [
      "Skipped file. Already present: eeg_recording_2016-02-16\n",
      "Skipped file. Already present: eeg_recording_2016-02-17\n",
      "Skipped file. Already present: eeg_recording_2016-02-17\n",
      "Skipped file. Already present: eeg_recording_2016-02-17\n",
      "Skipped file. Already present: eeg_recording_2016-02-17\n",
      "Skipped file. Already present: eeg_recording_2016-02-17\n"
     ]
    },
    {
     "name": "stderr",
     "output_type": "stream",
     "text": [
      " 58%|█████████████████████████████████████▎                          | 596/1023 [44:33<25:49,  3.63s/it]"
     ]
    },
    {
     "name": "stdout",
     "output_type": "stream",
     "text": [
      "Skipped file. Already present: eeg_recording_2016-02-17\n",
      "Skipped file. Already present: eeg_recording_2016-02-18\n",
      "Skipped file. Already present: eeg_recording_2016-02-18\n",
      "Skipped file. Already present: eeg_recording_2016-02-18\n",
      "Skipped file. Already present: eeg_recording_2016-02-18\n",
      "Skipped file. Already present: eeg_recording_2016-02-18\n"
     ]
    },
    {
     "name": "stderr",
     "output_type": "stream",
     "text": [
      " 58%|█████████████████████████████████████▎                          | 597/1023 [44:37<26:48,  3.77s/it]"
     ]
    },
    {
     "name": "stdout",
     "output_type": "stream",
     "text": [
      "Skipped file. Already present: eeg_recording_2016-02-18\n",
      "Skipped file. Already present: eeg_recording_2016-02-18\n",
      "Skipped file. Already present: eeg_recording_2016-02-18\n",
      "Skipped file. Already present: eeg_recording_2016-02-18\n",
      "Skipped file. Already present: eeg_recording_2016-02-18\n"
     ]
    },
    {
     "name": "stderr",
     "output_type": "stream",
     "text": [
      " 58%|█████████████████████████████████████▍                          | 598/1023 [44:42<28:51,  4.07s/it]"
     ]
    },
    {
     "name": "stdout",
     "output_type": "stream",
     "text": [
      "Skipped file. Already present: eeg_recording_2016-02-18\n",
      "Skipped file. Already present: eeg_recording_2016-02-18\n",
      "Skipped file. Already present: eeg_recording_2016-02-19\n",
      "Skipped file. Already present: eeg_recording_2016-02-19\n",
      "Skipped file. Already present: eeg_recording_2016-02-19\n",
      "Skipped file. Already present: eeg_recording_2016-02-19\n",
      "Skipped file. Already present: eeg_recording_2016-02-19\n"
     ]
    },
    {
     "name": "stderr",
     "output_type": "stream",
     "text": [
      " 59%|█████████████████████████████████████▍                          | 599/1023 [44:46<28:59,  4.10s/it]"
     ]
    },
    {
     "name": "stdout",
     "output_type": "stream",
     "text": [
      "Skipped file. Already present: eeg_recording_2016-02-19\n",
      "Skipped file. Already present: eeg_recording_2016-02-19\n",
      "Skipped file. Already present: eeg_recording_2016-02-19\n",
      "Skipped file. Already present: eeg_recording_2016-02-19\n",
      "Skipped file. Already present: eeg_recording_2016-02-19\n"
     ]
    },
    {
     "name": "stderr",
     "output_type": "stream",
     "text": [
      " 59%|█████████████████████████████████████▌                          | 600/1023 [44:51<30:13,  4.29s/it]"
     ]
    },
    {
     "name": "stdout",
     "output_type": "stream",
     "text": [
      "Skipped file. Already present: eeg_recording_2016-02-19\n",
      "Skipped file. Already present: eeg_recording_2016-02-20\n",
      "Skipped file. Already present: eeg_recording_2016-02-20\n",
      "Skipped file. Already present: eeg_recording_2016-02-20\n",
      "Skipped file. Already present: eeg_recording_2016-02-20\n",
      "Skipped file. Already present: eeg_recording_2016-02-20\n"
     ]
    },
    {
     "name": "stderr",
     "output_type": "stream",
     "text": [
      " 59%|█████████████████████████████████████▌                          | 601/1023 [44:55<29:50,  4.24s/it]"
     ]
    },
    {
     "name": "stdout",
     "output_type": "stream",
     "text": [
      "Skipped file. Already present: eeg_recording_2016-02-20\n",
      "Skipped file. Already present: eeg_recording_2016-02-20\n",
      "Skipped file. Already present: eeg_recording_2016-02-20\n",
      "Skipped file. Already present: eeg_recording_2016-02-20\n",
      "Skipped file. Already present: eeg_recording_2016-02-20\n"
     ]
    },
    {
     "name": "stderr",
     "output_type": "stream",
     "text": [
      " 59%|█████████████████████████████████████▋                          | 602/1023 [44:59<30:13,  4.31s/it]"
     ]
    },
    {
     "name": "stdout",
     "output_type": "stream",
     "text": [
      "Skipped file. Already present: eeg_recording_2016-02-20\n",
      "Skipped file. Already present: eeg_recording_2016-02-21\n",
      "Skipped file. Already present: eeg_recording_2016-02-21\n",
      "Skipped file. Already present: eeg_recording_2016-02-21\n",
      "Skipped file. Already present: eeg_recording_2016-02-21\n",
      "Skipped file. Already present: eeg_recording_2016-02-21\n"
     ]
    },
    {
     "name": "stderr",
     "output_type": "stream",
     "text": [
      " 59%|█████████████████████████████████████▋                          | 603/1023 [45:03<29:45,  4.25s/it]"
     ]
    },
    {
     "name": "stdout",
     "output_type": "stream",
     "text": [
      "Skipped file. Already present: eeg_recording_2016-02-21\n",
      "Skipped file. Already present: eeg_recording_2016-02-21\n",
      "Skipped file. Already present: eeg_recording_2016-02-21\n",
      "Skipped file. Already present: eeg_recording_2016-02-21\n",
      "Skipped file. Already present: eeg_recording_2016-02-21\n"
     ]
    },
    {
     "name": "stderr",
     "output_type": "stream",
     "text": [
      " 59%|█████████████████████████████████████▊                          | 604/1023 [45:08<30:08,  4.32s/it]"
     ]
    },
    {
     "name": "stdout",
     "output_type": "stream",
     "text": [
      "Skipped file. Already present: eeg_recording_2016-02-21\n",
      "Skipped file. Already present: eeg_recording_2016-02-22\n",
      "Skipped file. Already present: eeg_recording_2016-02-22\n",
      "Skipped file. Already present: eeg_recording_2016-02-22\n",
      "Skipped file. Already present: eeg_recording_2016-02-22\n",
      "Skipped file. Already present: eeg_recording_2016-02-22\n"
     ]
    },
    {
     "name": "stderr",
     "output_type": "stream",
     "text": [
      " 59%|█████████████████████████████████████▊                          | 605/1023 [45:12<30:01,  4.31s/it]"
     ]
    },
    {
     "name": "stdout",
     "output_type": "stream",
     "text": [
      "Skipped file. Already present: eeg_recording_2016-02-22\n",
      "Skipped file. Already present: eeg_recording_2016-02-22\n",
      "Skipped file. Already present: eeg_recording_2016-02-22\n",
      "Skipped file. Already present: eeg_recording_2016-02-22\n",
      "Skipped file. Already present: eeg_recording_2016-02-22\n"
     ]
    },
    {
     "name": "stderr",
     "output_type": "stream",
     "text": [
      " 59%|█████████████████████████████████████▉                          | 606/1023 [45:17<30:27,  4.38s/it]"
     ]
    },
    {
     "name": "stdout",
     "output_type": "stream",
     "text": [
      "Skipped file. Already present: eeg_recording_2016-02-22\n",
      "Skipped file. Already present: eeg_recording_2016-02-23\n",
      "Skipped file. Already present: eeg_recording_2016-02-23\n",
      "Skipped file. Already present: eeg_recording_2016-02-23\n",
      "Skipped file. Already present: eeg_recording_2016-02-23\n",
      "Skipped file. Already present: eeg_recording_2016-02-23\n"
     ]
    },
    {
     "name": "stderr",
     "output_type": "stream",
     "text": [
      " 59%|█████████████████████████████████████▉                          | 607/1023 [45:21<30:35,  4.41s/it]"
     ]
    },
    {
     "name": "stdout",
     "output_type": "stream",
     "text": [
      "Skipped file. Already present: eeg_recording_2016-02-23\n",
      "Skipped file. Already present: eeg_recording_2016-02-23\n",
      "Skipped file. Already present: eeg_recording_2016-02-23\n",
      "Skipped file. Already present: eeg_recording_2016-02-23\n",
      "Skipped file. Already present: eeg_recording_2016-02-23\n",
      "Skipped file. Already present: eeg_recording_2016-02-23\n"
     ]
    },
    {
     "name": "stderr",
     "output_type": "stream",
     "text": [
      " 59%|██████████████████████████████████████                          | 608/1023 [45:26<31:28,  4.55s/it]"
     ]
    },
    {
     "name": "stdout",
     "output_type": "stream",
     "text": [
      "Skipped file. Already present: eeg_recording_2016-02-23\n",
      "Skipped file. Already present: eeg_recording_2016-02-24\n",
      "Skipped file. Already present: eeg_recording_2016-02-24\n",
      "Skipped file. Already present: eeg_recording_2016-02-24\n",
      "Skipped file. Already present: eeg_recording_2016-02-24\n",
      "Skipped file. Already present: eeg_recording_2016-02-24\n",
      "Skipped file. Already present: eeg_recording_2016-02-24\n"
     ]
    },
    {
     "name": "stderr",
     "output_type": "stream",
     "text": [
      " 60%|██████████████████████████████████████                          | 609/1023 [45:31<31:18,  4.54s/it]"
     ]
    },
    {
     "name": "stdout",
     "output_type": "stream",
     "text": [
      "Skipped file. Already present: eeg_recording_2016-02-24\n",
      "Skipped file. Already present: eeg_recording_2016-02-24\n",
      "Skipped file. Already present: eeg_recording_2016-02-24\n",
      "Skipped file. Already present: eeg_recording_2016-02-24\n",
      "Skipped file. Already present: eeg_recording_2016-02-24\n"
     ]
    },
    {
     "name": "stderr",
     "output_type": "stream",
     "text": [
      " 60%|██████████████████████████████████████▏                         | 610/1023 [45:35<31:40,  4.60s/it]"
     ]
    },
    {
     "name": "stdout",
     "output_type": "stream",
     "text": [
      "Skipped file. Already present: eeg_recording_2016-02-24\n",
      "Skipped file. Already present: eeg_recording_2016-02-24\n",
      "Skipped file. Already present: eeg_recording_2016-02-25\n",
      "Skipped file. Already present: eeg_recording_2016-02-25\n",
      "Skipped file. Already present: eeg_recording_2016-02-25\n",
      "Skipped file. Already present: eeg_recording_2016-02-25\n",
      "Skipped file. Already present: eeg_recording_2016-02-25\n",
      "Skipped file. Already present: eeg_recording_2016-02-25\n"
     ]
    },
    {
     "name": "stderr",
     "output_type": "stream",
     "text": [
      " 60%|██████████████████████████████████████▏                         | 611/1023 [45:40<31:19,  4.56s/it]"
     ]
    },
    {
     "name": "stdout",
     "output_type": "stream",
     "text": [
      "Skipped file. Already present: eeg_recording_2016-02-25\n",
      "Skipped file. Already present: eeg_recording_2016-02-25\n",
      "Skipped file. Already present: eeg_recording_2016-02-25\n",
      "Skipped file. Already present: eeg_recording_2016-02-25\n",
      "Skipped file. Already present: eeg_recording_2016-02-25\n",
      "Skipped file. Already present: eeg_recording_2016-02-25\n"
     ]
    },
    {
     "name": "stderr",
     "output_type": "stream",
     "text": [
      " 60%|██████████████████████████████████████▎                         | 612/1023 [45:45<31:55,  4.66s/it]"
     ]
    },
    {
     "name": "stdout",
     "output_type": "stream",
     "text": [
      "Skipped file. Already present: eeg_recording_2016-02-25\n",
      "Skipped file. Already present: eeg_recording_2016-02-26\n",
      "Skipped file. Already present: eeg_recording_2016-02-26\n",
      "Skipped file. Already present: eeg_recording_2016-02-26\n",
      "Skipped file. Already present: eeg_recording_2016-02-26\n",
      "Skipped file. Already present: eeg_recording_2016-02-26\n",
      "Skipped file. Already present: eeg_recording_2016-02-26\n"
     ]
    },
    {
     "name": "stderr",
     "output_type": "stream",
     "text": [
      " 60%|██████████████████████████████████████▎                         | 613/1023 [45:49<31:30,  4.61s/it]"
     ]
    },
    {
     "name": "stdout",
     "output_type": "stream",
     "text": [
      "Skipped file. Already present: eeg_recording_2016-02-26\n",
      "Skipped file. Already present: eeg_recording_2016-02-26\n",
      "Skipped file. Already present: eeg_recording_2016-02-26\n",
      "Skipped file. Already present: eeg_recording_2016-02-26\n",
      "Skipped file. Already present: eeg_recording_2016-02-26\n"
     ]
    },
    {
     "name": "stderr",
     "output_type": "stream",
     "text": [
      " 60%|██████████████████████████████████████▍                         | 614/1023 [45:54<31:55,  4.68s/it]"
     ]
    },
    {
     "name": "stdout",
     "output_type": "stream",
     "text": [
      "Skipped file. Already present: eeg_recording_2016-02-26\n",
      "Skipped file. Already present: eeg_recording_2016-02-26\n",
      "Skipped file. Already present: eeg_recording_2016-02-27\n",
      "Skipped file. Already present: eeg_recording_2016-02-27\n",
      "Skipped file. Already present: eeg_recording_2016-02-27\n",
      "Skipped file. Already present: eeg_recording_2016-02-27\n",
      "Skipped file. Already present: eeg_recording_2016-02-27\n",
      "Skipped file. Already present: eeg_recording_2016-02-27\n"
     ]
    },
    {
     "name": "stderr",
     "output_type": "stream",
     "text": [
      " 60%|██████████████████████████████████████▍                         | 615/1023 [45:59<31:35,  4.65s/it]"
     ]
    },
    {
     "name": "stdout",
     "output_type": "stream",
     "text": [
      "Skipped file. Already present: eeg_recording_2016-02-27\n",
      "Skipped file. Already present: eeg_recording_2016-02-27\n",
      "Skipped file. Already present: eeg_recording_2016-02-27\n",
      "Skipped file. Already present: eeg_recording_2016-02-27\n",
      "Skipped file. Already present: eeg_recording_2016-02-27\n",
      "Skipped file. Already present: eeg_recording_2016-02-27\n"
     ]
    },
    {
     "name": "stderr",
     "output_type": "stream",
     "text": [
      " 60%|██████████████████████████████████████▌                         | 616/1023 [46:04<32:01,  4.72s/it]"
     ]
    },
    {
     "name": "stdout",
     "output_type": "stream",
     "text": [
      "Skipped file. Already present: eeg_recording_2016-02-27\n",
      "Skipped file. Already present: eeg_recording_2016-02-28\n",
      "Skipped file. Already present: eeg_recording_2016-02-28\n",
      "Skipped file. Already present: eeg_recording_2016-02-28\n",
      "Skipped file. Already present: eeg_recording_2016-02-28\n",
      "Skipped file. Already present: eeg_recording_2016-02-28\n",
      "Skipped file. Already present: eeg_recording_2016-02-28\n"
     ]
    },
    {
     "name": "stderr",
     "output_type": "stream",
     "text": [
      " 60%|██████████████████████████████████████▌                         | 617/1023 [46:08<31:37,  4.67s/it]"
     ]
    },
    {
     "name": "stdout",
     "output_type": "stream",
     "text": [
      "Skipped file. Already present: eeg_recording_2016-02-28\n",
      "Skipped file. Already present: eeg_recording_2016-02-28\n",
      "Skipped file. Already present: eeg_recording_2016-02-28\n",
      "Skipped file. Already present: eeg_recording_2016-02-28\n",
      "Skipped file. Already present: eeg_recording_2016-02-28\n",
      "Skipped file. Already present: eeg_recording_2016-02-28\n"
     ]
    },
    {
     "name": "stderr",
     "output_type": "stream",
     "text": [
      " 60%|██████████████████████████████████████▋                         | 618/1023 [46:13<31:51,  4.72s/it]"
     ]
    },
    {
     "name": "stdout",
     "output_type": "stream",
     "text": [
      "Skipped file. Already present: eeg_recording_2016-02-28\n",
      "Skipped file. Already present: eeg_recording_2016-02-29\n",
      "Skipped file. Already present: eeg_recording_2016-02-29\n",
      "Skipped file. Already present: eeg_recording_2016-02-29\n",
      "Skipped file. Already present: eeg_recording_2016-02-29\n",
      "Skipped file. Already present: eeg_recording_2016-02-29\n",
      "Skipped file. Already present: eeg_recording_2016-02-29\n"
     ]
    },
    {
     "name": "stderr",
     "output_type": "stream",
     "text": [
      " 61%|██████████████████████████████████████▋                         | 619/1023 [46:17<31:16,  4.64s/it]"
     ]
    },
    {
     "name": "stdout",
     "output_type": "stream",
     "text": [
      "Skipped file. Already present: eeg_recording_2016-02-29\n",
      "Skipped file. Already present: eeg_recording_2016-02-29\n",
      "Skipped file. Already present: eeg_recording_2016-02-29\n",
      "Skipped file. Already present: eeg_recording_2016-02-29\n",
      "Skipped file. Already present: eeg_recording_2016-02-29\n"
     ]
    },
    {
     "name": "stderr",
     "output_type": "stream",
     "text": [
      " 61%|██████████████████████████████████████▊                         | 620/1023 [46:22<31:35,  4.70s/it]"
     ]
    },
    {
     "name": "stdout",
     "output_type": "stream",
     "text": [
      "Skipped file. Already present: eeg_recording_2016-02-29\n",
      "Skipped file. Already present: eeg_recording_2016-02-29\n",
      "Skipped file. Already present: eeg_recording_2016-03-01\n",
      "Skipped file. Already present: eeg_recording_2016-03-01\n",
      "Skipped file. Already present: eeg_recording_2016-03-01\n",
      "Skipped file. Already present: eeg_recording_2016-03-01\n",
      "Skipped file. Already present: eeg_recording_2016-03-01\n",
      "Skipped file. Already present: eeg_recording_2016-03-01\n"
     ]
    },
    {
     "name": "stderr",
     "output_type": "stream",
     "text": [
      " 61%|██████████████████████████████████████▊                         | 621/1023 [46:27<31:01,  4.63s/it]"
     ]
    },
    {
     "name": "stdout",
     "output_type": "stream",
     "text": [
      "Skipped file. Already present: eeg_recording_2016-03-01\n",
      "Skipped file. Already present: eeg_recording_2016-03-01\n",
      "Skipped file. Already present: eeg_recording_2016-03-01\n",
      "Skipped file. Already present: eeg_recording_2016-03-01\n",
      "Skipped file. Already present: eeg_recording_2016-03-01\n"
     ]
    },
    {
     "name": "stderr",
     "output_type": "stream",
     "text": [
      " 61%|██████████████████████████████████████▉                         | 622/1023 [46:31<30:55,  4.63s/it]"
     ]
    },
    {
     "name": "stdout",
     "output_type": "stream",
     "text": [
      "Skipped file. Already present: eeg_recording_2016-03-01\n",
      "Skipped file. Already present: eeg_recording_2016-03-02\n",
      "Skipped file. Already present: eeg_recording_2016-03-02\n",
      "Skipped file. Already present: eeg_recording_2016-03-02\n",
      "Skipped file. Already present: eeg_recording_2016-03-02\n",
      "Skipped file. Already present: eeg_recording_2016-03-02\n",
      "Skipped file. Already present: eeg_recording_2016-03-02\n"
     ]
    },
    {
     "name": "stderr",
     "output_type": "stream",
     "text": [
      " 61%|██████████████████████████████████████▉                         | 623/1023 [46:36<30:18,  4.55s/it]"
     ]
    },
    {
     "name": "stdout",
     "output_type": "stream",
     "text": [
      "Skipped file. Already present: eeg_recording_2016-03-02\n",
      "Skipped file. Already present: eeg_recording_2016-03-02\n",
      "Skipped file. Already present: eeg_recording_2016-03-02\n",
      "Skipped file. Already present: eeg_recording_2016-03-02\n",
      "Skipped file. Already present: eeg_recording_2016-03-02\n"
     ]
    },
    {
     "name": "stderr",
     "output_type": "stream",
     "text": [
      " 61%|███████████████████████████████████████                         | 624/1023 [46:40<29:43,  4.47s/it]"
     ]
    },
    {
     "name": "stdout",
     "output_type": "stream",
     "text": [
      "Skipped file. Already present: eeg_recording_2016-03-02\n",
      "Skipped file. Already present: eeg_recording_2016-03-03\n",
      "Skipped file. Already present: eeg_recording_2016-03-03\n",
      "Skipped file. Already present: eeg_recording_2016-03-03\n",
      "Skipped file. Already present: eeg_recording_2016-03-03\n",
      "Skipped file. Already present: eeg_recording_2016-03-03\n",
      "Skipped file. Already present: eeg_recording_2016-03-03\n"
     ]
    },
    {
     "name": "stderr",
     "output_type": "stream",
     "text": [
      " 61%|███████████████████████████████████████                         | 625/1023 [46:45<29:45,  4.49s/it]"
     ]
    },
    {
     "name": "stdout",
     "output_type": "stream",
     "text": [
      "Skipped file. Already present: eeg_recording_2016-03-03\n",
      "Skipped file. Already present: eeg_recording_2016-03-03\n",
      "Skipped file. Already present: eeg_recording_2016-03-03\n",
      "Skipped file. Already present: eeg_recording_2016-03-03\n",
      "Skipped file. Already present: eeg_recording_2016-03-03\n"
     ]
    },
    {
     "name": "stderr",
     "output_type": "stream",
     "text": [
      " 61%|███████████████████████████████████████▏                        | 626/1023 [46:49<29:38,  4.48s/it]"
     ]
    },
    {
     "name": "stdout",
     "output_type": "stream",
     "text": [
      "Skipped file. Already present: eeg_recording_2016-03-03\n",
      "Skipped file. Already present: eeg_recording_2016-03-04\n",
      "Skipped file. Already present: eeg_recording_2016-03-04\n",
      "Skipped file. Already present: eeg_recording_2016-03-04\n",
      "Skipped file. Already present: eeg_recording_2016-03-04\n",
      "Skipped file. Already present: eeg_recording_2016-03-04\n",
      "Skipped file. Already present: eeg_recording_2016-03-04\n"
     ]
    },
    {
     "name": "stderr",
     "output_type": "stream",
     "text": [
      " 61%|███████████████████████████████████████▏                        | 627/1023 [46:54<29:37,  4.49s/it]"
     ]
    },
    {
     "name": "stdout",
     "output_type": "stream",
     "text": [
      "Skipped file. Already present: eeg_recording_2016-03-04\n",
      "Skipped file. Already present: eeg_recording_2016-03-04\n",
      "Skipped file. Already present: eeg_recording_2016-03-04\n",
      "Skipped file. Already present: eeg_recording_2016-03-04\n",
      "Skipped file. Already present: eeg_recording_2016-03-04\n"
     ]
    },
    {
     "name": "stderr",
     "output_type": "stream",
     "text": [
      " 61%|███████████████████████████████████████▎                        | 628/1023 [46:58<29:30,  4.48s/it]"
     ]
    },
    {
     "name": "stdout",
     "output_type": "stream",
     "text": [
      "Skipped file. Already present: eeg_recording_2016-03-04\n",
      "Skipped file. Already present: eeg_recording_2016-03-05\n",
      "Skipped file. Already present: eeg_recording_2016-03-05\n",
      "Skipped file. Already present: eeg_recording_2016-03-05\n",
      "Skipped file. Already present: eeg_recording_2016-03-05\n",
      "Skipped file. Already present: eeg_recording_2016-03-05\n",
      "Skipped file. Already present: eeg_recording_2016-03-05\n"
     ]
    },
    {
     "name": "stderr",
     "output_type": "stream",
     "text": [
      " 61%|███████████████████████████████████████▎                        | 629/1023 [47:02<29:24,  4.48s/it]"
     ]
    },
    {
     "name": "stdout",
     "output_type": "stream",
     "text": [
      "Skipped file. Already present: eeg_recording_2016-03-05\n",
      "Skipped file. Already present: eeg_recording_2016-03-05\n",
      "Skipped file. Already present: eeg_recording_2016-03-05\n",
      "Skipped file. Already present: eeg_recording_2016-03-05\n",
      "Skipped file. Already present: eeg_recording_2016-03-05\n"
     ]
    },
    {
     "name": "stderr",
     "output_type": "stream",
     "text": [
      " 62%|███████████████████████████████████████▍                        | 630/1023 [47:07<29:18,  4.47s/it]"
     ]
    },
    {
     "name": "stdout",
     "output_type": "stream",
     "text": [
      "Skipped file. Already present: eeg_recording_2016-03-05\n",
      "Skipped file. Already present: eeg_recording_2016-03-06\n",
      "Skipped file. Already present: eeg_recording_2016-03-06\n",
      "Skipped file. Already present: eeg_recording_2016-03-06\n",
      "Skipped file. Already present: eeg_recording_2016-03-06\n",
      "Skipped file. Already present: eeg_recording_2016-03-06\n",
      "Skipped file. Already present: eeg_recording_2016-03-06\n"
     ]
    },
    {
     "name": "stderr",
     "output_type": "stream",
     "text": [
      " 62%|███████████████████████████████████████▍                        | 631/1023 [47:11<29:17,  4.48s/it]"
     ]
    },
    {
     "name": "stdout",
     "output_type": "stream",
     "text": [
      "Skipped file. Already present: eeg_recording_2016-03-06\n",
      "Skipped file. Already present: eeg_recording_2016-03-06\n",
      "Skipped file. Already present: eeg_recording_2016-03-06\n",
      "Skipped file. Already present: eeg_recording_2016-03-06\n",
      "Skipped file. Already present: eeg_recording_2016-03-06\n"
     ]
    },
    {
     "name": "stderr",
     "output_type": "stream",
     "text": [
      " 62%|███████████████████████████████████████▌                        | 632/1023 [47:16<29:07,  4.47s/it]"
     ]
    },
    {
     "name": "stdout",
     "output_type": "stream",
     "text": [
      "Skipped file. Already present: eeg_recording_2016-03-06\n",
      "Skipped file. Already present: eeg_recording_2016-03-07\n",
      "Skipped file. Already present: eeg_recording_2016-03-07\n",
      "Skipped file. Already present: eeg_recording_2016-03-07\n",
      "Skipped file. Already present: eeg_recording_2016-03-07\n",
      "Skipped file. Already present: eeg_recording_2016-03-07\n",
      "Skipped file. Already present: eeg_recording_2016-03-07\n"
     ]
    },
    {
     "name": "stderr",
     "output_type": "stream",
     "text": [
      " 62%|███████████████████████████████████████▌                        | 633/1023 [47:20<29:00,  4.46s/it]"
     ]
    },
    {
     "name": "stdout",
     "output_type": "stream",
     "text": [
      "Skipped file. Already present: eeg_recording_2016-03-07\n",
      "Skipped file. Already present: eeg_recording_2016-03-07\n",
      "Skipped file. Already present: eeg_recording_2016-03-07\n",
      "Skipped file. Already present: eeg_recording_2016-03-07\n",
      "Skipped file. Already present: eeg_recording_2016-03-07\n"
     ]
    },
    {
     "name": "stderr",
     "output_type": "stream",
     "text": [
      " 62%|███████████████████████████████████████▋                        | 634/1023 [47:25<28:59,  4.47s/it]"
     ]
    },
    {
     "name": "stdout",
     "output_type": "stream",
     "text": [
      "Skipped file. Already present: eeg_recording_2016-03-07\n",
      "Skipped file. Already present: eeg_recording_2016-03-08\n",
      "Skipped file. Already present: eeg_recording_2016-03-08\n",
      "Skipped file. Already present: eeg_recording_2016-03-08\n",
      "Skipped file. Already present: eeg_recording_2016-03-08\n",
      "Skipped file. Already present: eeg_recording_2016-03-08\n",
      "Skipped file. Already present: eeg_recording_2016-03-08\n"
     ]
    },
    {
     "name": "stderr",
     "output_type": "stream",
     "text": [
      " 62%|███████████████████████████████████████▋                        | 635/1023 [47:29<28:58,  4.48s/it]"
     ]
    },
    {
     "name": "stdout",
     "output_type": "stream",
     "text": [
      "Skipped file. Already present: eeg_recording_2016-03-08\n",
      "Skipped file. Already present: eeg_recording_2016-03-08\n",
      "Skipped file. Already present: eeg_recording_2016-03-08\n",
      "Skipped file. Already present: eeg_recording_2016-03-08\n",
      "Skipped file. Already present: eeg_recording_2016-03-08\n"
     ]
    },
    {
     "name": "stderr",
     "output_type": "stream",
     "text": [
      " 62%|███████████████████████████████████████▊                        | 636/1023 [47:34<28:25,  4.41s/it]"
     ]
    },
    {
     "name": "stdout",
     "output_type": "stream",
     "text": [
      "Skipped file. Already present: eeg_recording_2016-03-09\n",
      "Skipped file. Already present: eeg_recording_2016-03-09\n",
      "Skipped file. Already present: eeg_recording_2016-03-09\n",
      "Skipped file. Already present: eeg_recording_2016-03-09\n",
      "Skipped file. Already present: eeg_recording_2016-03-09\n",
      "Skipped file. Already present: eeg_recording_2016-03-09\n"
     ]
    },
    {
     "name": "stderr",
     "output_type": "stream",
     "text": [
      " 62%|███████████████████████████████████████▊                        | 637/1023 [47:38<28:35,  4.45s/it]"
     ]
    },
    {
     "name": "stdout",
     "output_type": "stream",
     "text": [
      "Skipped file. Already present: eeg_recording_2016-03-09\n",
      "Skipped file. Already present: eeg_recording_2016-03-09\n",
      "Skipped file. Already present: eeg_recording_2016-03-09\n",
      "Skipped file. Already present: eeg_recording_2016-03-09\n",
      "Skipped file. Already present: eeg_recording_2016-03-09\n"
     ]
    },
    {
     "name": "stderr",
     "output_type": "stream",
     "text": [
      " 62%|███████████████████████████████████████▉                        | 638/1023 [47:42<27:46,  4.33s/it]"
     ]
    },
    {
     "name": "stdout",
     "output_type": "stream",
     "text": [
      "Skipped file. Already present: eeg_recording_2016-03-10\n",
      "Skipped file. Already present: eeg_recording_2016-03-10\n",
      "Skipped file. Already present: eeg_recording_2016-03-10\n",
      "Skipped file. Already present: eeg_recording_2016-03-10\n",
      "Skipped file. Already present: eeg_recording_2016-03-10\n",
      "Skipped file. Already present: eeg_recording_2016-03-10\n"
     ]
    },
    {
     "name": "stderr",
     "output_type": "stream",
     "text": [
      " 62%|███████████████████████████████████████▉                        | 639/1023 [47:47<28:02,  4.38s/it]"
     ]
    },
    {
     "name": "stdout",
     "output_type": "stream",
     "text": [
      "Skipped file. Already present: eeg_recording_2016-03-10\n",
      "Skipped file. Already present: eeg_recording_2016-03-10\n",
      "Skipped file. Already present: eeg_recording_2016-03-10\n",
      "Skipped file. Already present: eeg_recording_2016-03-10\n",
      "Skipped file. Already present: eeg_recording_2016-03-10\n"
     ]
    },
    {
     "name": "stderr",
     "output_type": "stream",
     "text": [
      " 63%|████████████████████████████████████████                        | 640/1023 [47:51<27:21,  4.29s/it]"
     ]
    },
    {
     "name": "stdout",
     "output_type": "stream",
     "text": [
      "Skipped file. Already present: eeg_recording_2016-03-11\n",
      "Skipped file. Already present: eeg_recording_2016-03-11\n",
      "Skipped file. Already present: eeg_recording_2016-03-11\n",
      "Skipped file. Already present: eeg_recording_2016-03-11\n",
      "Skipped file. Already present: eeg_recording_2016-03-11\n",
      "Skipped file. Already present: eeg_recording_2016-03-11\n"
     ]
    },
    {
     "name": "stderr",
     "output_type": "stream",
     "text": [
      " 63%|████████████████████████████████████████                        | 641/1023 [47:55<27:44,  4.36s/it]"
     ]
    },
    {
     "name": "stdout",
     "output_type": "stream",
     "text": [
      "Skipped file. Already present: eeg_recording_2016-03-11\n",
      "Skipped file. Already present: eeg_recording_2016-03-11\n",
      "Skipped file. Already present: eeg_recording_2016-03-11\n",
      "Skipped file. Already present: eeg_recording_2016-03-11\n",
      "Skipped file. Already present: eeg_recording_2016-03-11\n"
     ]
    },
    {
     "name": "stderr",
     "output_type": "stream",
     "text": [
      " 63%|████████████████████████████████████████▏                       | 642/1023 [47:59<27:05,  4.27s/it]"
     ]
    },
    {
     "name": "stdout",
     "output_type": "stream",
     "text": [
      "Skipped file. Already present: eeg_recording_2016-03-12\n",
      "Skipped file. Already present: eeg_recording_2016-03-12\n",
      "Skipped file. Already present: eeg_recording_2016-03-12\n",
      "Skipped file. Already present: eeg_recording_2016-03-12\n",
      "Skipped file. Already present: eeg_recording_2016-03-12\n",
      "Skipped file. Already present: eeg_recording_2016-03-12\n"
     ]
    },
    {
     "name": "stderr",
     "output_type": "stream",
     "text": [
      " 63%|████████████████████████████████████████▏                       | 643/1023 [48:04<27:33,  4.35s/it]"
     ]
    },
    {
     "name": "stdout",
     "output_type": "stream",
     "text": [
      "Skipped file. Already present: eeg_recording_2016-03-12\n",
      "Skipped file. Already present: eeg_recording_2016-03-12\n",
      "Skipped file. Already present: eeg_recording_2016-03-12\n",
      "Skipped file. Already present: eeg_recording_2016-03-12\n",
      "Skipped file. Already present: eeg_recording_2016-03-12\n"
     ]
    },
    {
     "name": "stderr",
     "output_type": "stream",
     "text": [
      " 63%|████████████████████████████████████████▎                       | 644/1023 [48:08<27:02,  4.28s/it]"
     ]
    },
    {
     "name": "stdout",
     "output_type": "stream",
     "text": [
      "Skipped file. Already present: eeg_recording_2016-03-13\n",
      "Skipped file. Already present: eeg_recording_2016-03-13\n",
      "Skipped file. Already present: eeg_recording_2016-03-13\n",
      "Skipped file. Already present: eeg_recording_2016-03-13\n",
      "Skipped file. Already present: eeg_recording_2016-03-13\n",
      "Skipped file. Already present: eeg_recording_2016-03-13\n"
     ]
    },
    {
     "name": "stderr",
     "output_type": "stream",
     "text": [
      " 63%|████████████████████████████████████████▎                       | 645/1023 [48:13<27:31,  4.37s/it]"
     ]
    },
    {
     "name": "stdout",
     "output_type": "stream",
     "text": [
      "Skipped file. Already present: eeg_recording_2016-03-13\n",
      "Skipped file. Already present: eeg_recording_2016-03-13\n",
      "Skipped file. Already present: eeg_recording_2016-03-13\n",
      "Skipped file. Already present: eeg_recording_2016-03-13\n",
      "Skipped file. Already present: eeg_recording_2016-03-13\n"
     ]
    },
    {
     "name": "stderr",
     "output_type": "stream",
     "text": [
      " 63%|████████████████████████████████████████▍                       | 646/1023 [48:17<26:57,  4.29s/it]"
     ]
    },
    {
     "name": "stdout",
     "output_type": "stream",
     "text": [
      "Skipped file. Already present: eeg_recording_2016-03-14\n",
      "Skipped file. Already present: eeg_recording_2016-03-14\n",
      "Skipped file. Already present: eeg_recording_2016-03-14\n",
      "Skipped file. Already present: eeg_recording_2016-03-14\n",
      "Skipped file. Already present: eeg_recording_2016-03-14\n",
      "Skipped file. Already present: eeg_recording_2016-03-14\n"
     ]
    },
    {
     "name": "stderr",
     "output_type": "stream",
     "text": [
      " 63%|████████████████████████████████████████▍                       | 647/1023 [48:21<27:31,  4.39s/it]"
     ]
    },
    {
     "name": "stdout",
     "output_type": "stream",
     "text": [
      "Skipped file. Already present: eeg_recording_2016-03-14\n",
      "Skipped file. Already present: eeg_recording_2016-03-14\n",
      "Skipped file. Already present: eeg_recording_2016-03-14\n",
      "Skipped file. Already present: eeg_recording_2016-03-14\n",
      "Skipped file. Already present: eeg_recording_2016-03-14\n"
     ]
    },
    {
     "name": "stderr",
     "output_type": "stream",
     "text": [
      " 63%|████████████████████████████████████████▌                       | 648/1023 [48:25<27:01,  4.33s/it]"
     ]
    },
    {
     "name": "stdout",
     "output_type": "stream",
     "text": [
      "Skipped file. Already present: eeg_recording_2016-03-15\n",
      "Skipped file. Already present: eeg_recording_2016-03-15\n",
      "Skipped file. Already present: eeg_recording_2016-03-15\n",
      "Skipped file. Already present: eeg_recording_2016-03-15\n",
      "Skipped file. Already present: eeg_recording_2016-03-15\n",
      "Skipped file. Already present: eeg_recording_2016-03-15\n"
     ]
    },
    {
     "name": "stderr",
     "output_type": "stream",
     "text": [
      " 63%|████████████████████████████████████████▌                       | 649/1023 [48:30<27:51,  4.47s/it]"
     ]
    },
    {
     "name": "stdout",
     "output_type": "stream",
     "text": [
      "Skipped file. Already present: eeg_recording_2016-03-15\n",
      "Skipped file. Already present: eeg_recording_2016-03-15\n",
      "Skipped file. Already present: eeg_recording_2016-03-15\n",
      "Skipped file. Already present: eeg_recording_2016-03-15\n",
      "Skipped file. Already present: eeg_recording_2016-03-15\n",
      "Skipped file. Already present: eeg_recording_2016-03-15\n"
     ]
    },
    {
     "name": "stderr",
     "output_type": "stream",
     "text": [
      " 64%|████████████████████████████████████████▋                       | 650/1023 [48:35<27:45,  4.47s/it]"
     ]
    },
    {
     "name": "stdout",
     "output_type": "stream",
     "text": [
      "Skipped file. Already present: eeg_recording_2016-03-16\n",
      "Skipped file. Already present: eeg_recording_2016-03-16\n",
      "Skipped file. Already present: eeg_recording_2016-03-16\n",
      "Skipped file. Already present: eeg_recording_2016-03-16\n",
      "Skipped file. Already present: eeg_recording_2016-03-16\n",
      "Skipped file. Already present: eeg_recording_2016-03-16\n"
     ]
    },
    {
     "name": "stderr",
     "output_type": "stream",
     "text": [
      " 64%|████████████████████████████████████████▋                       | 651/1023 [48:39<28:15,  4.56s/it]"
     ]
    },
    {
     "name": "stdout",
     "output_type": "stream",
     "text": [
      "Skipped file. Already present: eeg_recording_2016-03-16\n",
      "Skipped file. Already present: eeg_recording_2016-03-16\n",
      "Skipped file. Already present: eeg_recording_2016-03-16\n",
      "Skipped file. Already present: eeg_recording_2016-03-16\n",
      "Skipped file. Already present: eeg_recording_2016-03-16\n",
      "Skipped file. Already present: eeg_recording_2016-03-16\n"
     ]
    },
    {
     "name": "stderr",
     "output_type": "stream",
     "text": [
      " 64%|████████████████████████████████████████▊                       | 652/1023 [48:44<27:56,  4.52s/it]"
     ]
    },
    {
     "name": "stdout",
     "output_type": "stream",
     "text": [
      "Skipped file. Already present: eeg_recording_2016-03-17\n",
      "Skipped file. Already present: eeg_recording_2016-03-17\n",
      "Skipped file. Already present: eeg_recording_2016-03-17\n",
      "Skipped file. Already present: eeg_recording_2016-03-17\n",
      "Skipped file. Already present: eeg_recording_2016-03-17\n"
     ]
    },
    {
     "name": "stderr",
     "output_type": "stream",
     "text": [
      " 64%|████████████████████████████████████████▊                       | 653/1023 [48:49<28:28,  4.62s/it]"
     ]
    },
    {
     "name": "stdout",
     "output_type": "stream",
     "text": [
      "Skipped file. Already present: eeg_recording_2016-03-17\n",
      "Skipped file. Already present: eeg_recording_2016-03-17\n",
      "Skipped file. Already present: eeg_recording_2016-03-17\n",
      "Skipped file. Already present: eeg_recording_2016-03-17\n",
      "Skipped file. Already present: eeg_recording_2016-03-17\n",
      "Skipped file. Already present: eeg_recording_2016-03-17\n",
      "Skipped file. Already present: eeg_recording_2016-03-17\n"
     ]
    },
    {
     "name": "stderr",
     "output_type": "stream",
     "text": [
      " 64%|████████████████████████████████████████▉                       | 654/1023 [48:53<28:15,  4.59s/it]"
     ]
    },
    {
     "name": "stdout",
     "output_type": "stream",
     "text": [
      "Skipped file. Already present: eeg_recording_2016-03-18\n",
      "Skipped file. Already present: eeg_recording_2016-03-18\n",
      "Skipped file. Already present: eeg_recording_2016-03-18\n",
      "Skipped file. Already present: eeg_recording_2016-03-18\n",
      "Skipped file. Already present: eeg_recording_2016-03-18\n",
      "Skipped file. Already present: eeg_recording_2016-03-18\n"
     ]
    },
    {
     "name": "stderr",
     "output_type": "stream",
     "text": [
      " 64%|████████████████████████████████████████▉                       | 655/1023 [48:58<28:30,  4.65s/it]"
     ]
    },
    {
     "name": "stdout",
     "output_type": "stream",
     "text": [
      "Skipped file. Already present: eeg_recording_2016-03-18\n",
      "Skipped file. Already present: eeg_recording_2016-03-18\n",
      "Skipped file. Already present: eeg_recording_2016-03-18\n",
      "Skipped file. Already present: eeg_recording_2016-03-18\n",
      "Skipped file. Already present: eeg_recording_2016-03-18\n",
      "Skipped file. Already present: eeg_recording_2016-03-18\n"
     ]
    },
    {
     "name": "stderr",
     "output_type": "stream",
     "text": [
      " 64%|█████████████████████████████████████████                       | 656/1023 [49:02<27:56,  4.57s/it]"
     ]
    },
    {
     "name": "stdout",
     "output_type": "stream",
     "text": [
      "Skipped file. Already present: eeg_recording_2016-03-19\n",
      "Skipped file. Already present: eeg_recording_2016-03-19\n",
      "Skipped file. Already present: eeg_recording_2016-03-19\n",
      "Skipped file. Already present: eeg_recording_2016-03-19\n",
      "Skipped file. Already present: eeg_recording_2016-03-19\n",
      "Skipped file. Already present: eeg_recording_2016-03-19\n"
     ]
    },
    {
     "name": "stderr",
     "output_type": "stream",
     "text": [
      " 64%|█████████████████████████████████████████                       | 657/1023 [49:07<28:17,  4.64s/it]"
     ]
    },
    {
     "name": "stdout",
     "output_type": "stream",
     "text": [
      "Skipped file. Already present: eeg_recording_2016-03-19\n",
      "Skipped file. Already present: eeg_recording_2016-03-19\n",
      "Skipped file. Already present: eeg_recording_2016-03-19\n",
      "Skipped file. Already present: eeg_recording_2016-03-19\n",
      "Skipped file. Already present: eeg_recording_2016-03-19\n",
      "Skipped file. Already present: eeg_recording_2016-03-19\n"
     ]
    },
    {
     "name": "stderr",
     "output_type": "stream",
     "text": [
      " 64%|█████████████████████████████████████████▏                      | 658/1023 [49:12<27:45,  4.56s/it]"
     ]
    },
    {
     "name": "stdout",
     "output_type": "stream",
     "text": [
      "Skipped file. Already present: eeg_recording_2016-03-20\n",
      "Skipped file. Already present: eeg_recording_2016-03-20\n",
      "Skipped file. Already present: eeg_recording_2016-03-20\n",
      "Skipped file. Already present: eeg_recording_2016-03-20\n",
      "Skipped file. Already present: eeg_recording_2016-03-20\n",
      "Skipped file. Already present: eeg_recording_2016-03-20\n"
     ]
    },
    {
     "name": "stderr",
     "output_type": "stream",
     "text": [
      " 64%|█████████████████████████████████████████▏                      | 659/1023 [49:16<28:08,  4.64s/it]"
     ]
    },
    {
     "name": "stdout",
     "output_type": "stream",
     "text": [
      "Skipped file. Already present: eeg_recording_2016-03-20\n",
      "Skipped file. Already present: eeg_recording_2016-03-20\n",
      "Skipped file. Already present: eeg_recording_2016-03-20\n",
      "Skipped file. Already present: eeg_recording_2016-03-20\n",
      "Skipped file. Already present: eeg_recording_2016-03-20\n",
      "Skipped file. Already present: eeg_recording_2016-03-20\n"
     ]
    },
    {
     "name": "stderr",
     "output_type": "stream",
     "text": [
      " 65%|█████████████████████████████████████████▎                      | 660/1023 [49:21<27:37,  4.57s/it]"
     ]
    },
    {
     "name": "stdout",
     "output_type": "stream",
     "text": [
      "Skipped file. Already present: eeg_recording_2016-03-21\n",
      "Skipped file. Already present: eeg_recording_2016-03-21\n",
      "Skipped file. Already present: eeg_recording_2016-03-21\n",
      "Skipped file. Already present: eeg_recording_2016-03-21\n",
      "Skipped file. Already present: eeg_recording_2016-03-21\n"
     ]
    },
    {
     "name": "stderr",
     "output_type": "stream",
     "text": [
      " 65%|█████████████████████████████████████████▎                      | 661/1023 [49:25<27:44,  4.60s/it]"
     ]
    },
    {
     "name": "stdout",
     "output_type": "stream",
     "text": [
      "Skipped file. Already present: eeg_recording_2016-03-21\n",
      "Skipped file. Already present: eeg_recording_2016-03-21\n",
      "Skipped file. Already present: eeg_recording_2016-03-21\n",
      "Skipped file. Already present: eeg_recording_2016-03-21\n",
      "Skipped file. Already present: eeg_recording_2016-03-21\n",
      "Skipped file. Already present: eeg_recording_2016-03-21\n"
     ]
    },
    {
     "name": "stderr",
     "output_type": "stream",
     "text": [
      " 65%|█████████████████████████████████████████▍                      | 662/1023 [49:30<27:06,  4.50s/it]"
     ]
    },
    {
     "name": "stdout",
     "output_type": "stream",
     "text": [
      "Skipped file. Already present: eeg_recording_2016-03-22\n",
      "Skipped file. Already present: eeg_recording_2016-03-22\n",
      "Skipped file. Already present: eeg_recording_2016-03-22\n",
      "Skipped file. Already present: eeg_recording_2016-03-22\n"
     ]
    },
    {
     "name": "stderr",
     "output_type": "stream",
     "text": [
      " 65%|█████████████████████████████████████████▍                      | 663/1023 [49:34<27:10,  4.53s/it]"
     ]
    },
    {
     "name": "stdout",
     "output_type": "stream",
     "text": [
      "Skipped file. Already present: eeg_recording_2016-03-22\n",
      "Skipped file. Already present: eeg_recording_2016-03-22\n",
      "Skipped file. Already present: eeg_recording_2016-03-22\n",
      "Skipped file. Already present: eeg_recording_2016-03-22\n",
      "Skipped file. Already present: eeg_recording_2016-03-22\n",
      "Skipped file. Already present: eeg_recording_2016-03-22\n",
      "Skipped file. Already present: eeg_recording_2016-03-22\n",
      "Skipped file. Already present: eeg_recording_2016-03-22\n"
     ]
    },
    {
     "name": "stderr",
     "output_type": "stream",
     "text": [
      " 65%|█████████████████████████████████████████▌                      | 664/1023 [49:39<26:55,  4.50s/it]"
     ]
    },
    {
     "name": "stdout",
     "output_type": "stream",
     "text": [
      "Skipped file. Already present: eeg_recording_2016-03-23\n",
      "Skipped file. Already present: eeg_recording_2016-03-23\n",
      "Skipped file. Already present: eeg_recording_2016-03-23\n",
      "Skipped file. Already present: eeg_recording_2016-03-23\n",
      "Skipped file. Already present: eeg_recording_2016-03-23\n"
     ]
    },
    {
     "name": "stderr",
     "output_type": "stream",
     "text": [
      " 65%|█████████████████████████████████████████▌                      | 665/1023 [49:43<26:58,  4.52s/it]"
     ]
    },
    {
     "name": "stdout",
     "output_type": "stream",
     "text": [
      "Skipped file. Already present: eeg_recording_2016-03-23\n",
      "Skipped file. Already present: eeg_recording_2016-03-23\n",
      "Skipped file. Already present: eeg_recording_2016-03-23\n",
      "Skipped file. Already present: eeg_recording_2016-03-23\n",
      "Skipped file. Already present: eeg_recording_2016-03-23\n",
      "Skipped file. Already present: eeg_recording_2016-03-23\n",
      "Skipped file. Already present: eeg_recording_2016-03-23\n"
     ]
    },
    {
     "name": "stderr",
     "output_type": "stream",
     "text": [
      " 65%|█████████████████████████████████████████▋                      | 666/1023 [49:48<27:29,  4.62s/it]"
     ]
    },
    {
     "name": "stdout",
     "output_type": "stream",
     "text": [
      "Skipped file. Already present: eeg_recording_2016-03-24\n",
      "Skipped file. Already present: eeg_recording_2016-03-24\n",
      "Skipped file. Already present: eeg_recording_2016-03-24\n",
      "Skipped file. Already present: eeg_recording_2016-03-24\n",
      "Skipped file. Already present: eeg_recording_2016-03-24\n"
     ]
    },
    {
     "name": "stderr",
     "output_type": "stream",
     "text": [
      " 65%|█████████████████████████████████████████▋                      | 667/1023 [49:53<27:20,  4.61s/it]"
     ]
    },
    {
     "name": "stdout",
     "output_type": "stream",
     "text": [
      "Skipped file. Already present: eeg_recording_2016-03-24\n",
      "Skipped file. Already present: eeg_recording_2016-03-24\n",
      "Skipped file. Already present: eeg_recording_2016-03-24\n",
      "Skipped file. Already present: eeg_recording_2016-03-24\n",
      "Skipped file. Already present: eeg_recording_2016-03-24\n",
      "Skipped file. Already present: eeg_recording_2016-03-24\n",
      "Skipped file. Already present: eeg_recording_2016-03-24\n"
     ]
    },
    {
     "name": "stderr",
     "output_type": "stream",
     "text": [
      " 65%|█████████████████████████████████████████▊                      | 668/1023 [49:58<27:36,  4.66s/it]"
     ]
    },
    {
     "name": "stdout",
     "output_type": "stream",
     "text": [
      "Skipped file. Already present: eeg_recording_2016-03-25\n",
      "Skipped file. Already present: eeg_recording_2016-03-25\n",
      "Skipped file. Already present: eeg_recording_2016-03-25\n",
      "Skipped file. Already present: eeg_recording_2016-03-25\n",
      "Skipped file. Already present: eeg_recording_2016-03-25\n"
     ]
    },
    {
     "name": "stderr",
     "output_type": "stream",
     "text": [
      " 65%|█████████████████████████████████████████▊                      | 669/1023 [50:02<27:21,  4.64s/it]"
     ]
    },
    {
     "name": "stdout",
     "output_type": "stream",
     "text": [
      "Skipped file. Already present: eeg_recording_2016-03-25\n",
      "Skipped file. Already present: eeg_recording_2016-03-25\n",
      "Skipped file. Already present: eeg_recording_2016-03-25\n",
      "Skipped file. Already present: eeg_recording_2016-03-25\n",
      "Skipped file. Already present: eeg_recording_2016-03-25\n",
      "Skipped file. Already present: eeg_recording_2016-03-25\n"
     ]
    },
    {
     "name": "stderr",
     "output_type": "stream",
     "text": [
      " 65%|█████████████████████████████████████████▉                      | 670/1023 [50:07<27:37,  4.70s/it]"
     ]
    },
    {
     "name": "stdout",
     "output_type": "stream",
     "text": [
      "Skipped file. Already present: eeg_recording_2016-03-25\n",
      "Skipped file. Already present: eeg_recording_2016-03-26\n",
      "Skipped file. Already present: eeg_recording_2016-03-26\n",
      "Skipped file. Already present: eeg_recording_2016-03-26\n",
      "Skipped file. Already present: eeg_recording_2016-03-26\n",
      "Skipped file. Already present: eeg_recording_2016-03-26\n"
     ]
    },
    {
     "name": "stderr",
     "output_type": "stream",
     "text": [
      " 66%|█████████████████████████████████████████▉                      | 671/1023 [50:12<27:21,  4.66s/it]"
     ]
    },
    {
     "name": "stdout",
     "output_type": "stream",
     "text": [
      "Skipped file. Already present: eeg_recording_2016-03-26\n",
      "Skipped file. Already present: eeg_recording_2016-03-26\n",
      "Skipped file. Already present: eeg_recording_2016-03-26\n",
      "Skipped file. Already present: eeg_recording_2016-03-26\n",
      "Skipped file. Already present: eeg_recording_2016-03-26\n",
      "Skipped file. Already present: eeg_recording_2016-03-26\n",
      "Skipped file. Already present: eeg_recording_2016-03-26\n"
     ]
    },
    {
     "name": "stderr",
     "output_type": "stream",
     "text": [
      " 66%|██████████████████████████████████████████                      | 672/1023 [50:16<27:34,  4.71s/it]"
     ]
    },
    {
     "name": "stdout",
     "output_type": "stream",
     "text": [
      "Skipped file. Already present: eeg_recording_2016-03-27\n",
      "Skipped file. Already present: eeg_recording_2016-03-27\n",
      "Skipped file. Already present: eeg_recording_2016-03-27\n",
      "Skipped file. Already present: eeg_recording_2016-03-27\n",
      "Skipped file. Already present: eeg_recording_2016-03-27\n"
     ]
    },
    {
     "name": "stderr",
     "output_type": "stream",
     "text": [
      " 66%|██████████████████████████████████████████                      | 673/1023 [50:21<26:54,  4.61s/it]"
     ]
    },
    {
     "name": "stdout",
     "output_type": "stream",
     "text": [
      "Skipped file. Already present: eeg_recording_2016-03-27\n",
      "Skipped file. Already present: eeg_recording_2016-03-27\n",
      "Skipped file. Already present: eeg_recording_2016-03-27\n",
      "Skipped file. Already present: eeg_recording_2016-03-27\n",
      "Skipped file. Already present: eeg_recording_2016-03-27\n",
      "Skipped file. Already present: eeg_recording_2016-03-27\n",
      "Skipped file. Already present: eeg_recording_2016-03-27\n"
     ]
    },
    {
     "name": "stderr",
     "output_type": "stream",
     "text": [
      " 66%|██████████████████████████████████████████▏                     | 674/1023 [50:25<26:56,  4.63s/it]"
     ]
    },
    {
     "name": "stdout",
     "output_type": "stream",
     "text": [
      "Skipped file. Already present: eeg_recording_2016-03-28\n",
      "Skipped file. Already present: eeg_recording_2016-03-28\n",
      "Skipped file. Already present: eeg_recording_2016-03-28\n",
      "Skipped file. Already present: eeg_recording_2016-03-28\n",
      "Skipped file. Already present: eeg_recording_2016-03-28\n"
     ]
    },
    {
     "name": "stderr",
     "output_type": "stream",
     "text": [
      " 66%|██████████████████████████████████████████▏                     | 675/1023 [50:30<26:47,  4.62s/it]"
     ]
    },
    {
     "name": "stdout",
     "output_type": "stream",
     "text": [
      "Skipped file. Already present: eeg_recording_2016-03-28\n",
      "Skipped file. Already present: eeg_recording_2016-03-28\n",
      "Skipped file. Already present: eeg_recording_2016-03-28\n",
      "Skipped file. Already present: eeg_recording_2016-03-28\n",
      "Skipped file. Already present: eeg_recording_2016-03-28\n",
      "Skipped file. Already present: eeg_recording_2016-03-28\n",
      "Skipped file. Already present: eeg_recording_2016-03-28\n"
     ]
    },
    {
     "name": "stderr",
     "output_type": "stream",
     "text": [
      " 66%|██████████████████████████████████████████▎                     | 676/1023 [50:35<27:00,  4.67s/it]"
     ]
    },
    {
     "name": "stdout",
     "output_type": "stream",
     "text": [
      "Skipped file. Already present: eeg_recording_2016-03-29\n",
      "Skipped file. Already present: eeg_recording_2016-03-29\n",
      "Skipped file. Already present: eeg_recording_2016-03-29\n",
      "Skipped file. Already present: eeg_recording_2016-03-29\n",
      "Skipped file. Already present: eeg_recording_2016-03-29\n"
     ]
    },
    {
     "name": "stderr",
     "output_type": "stream",
     "text": [
      " 66%|██████████████████████████████████████████▎                     | 677/1023 [50:39<26:46,  4.64s/it]"
     ]
    },
    {
     "name": "stdout",
     "output_type": "stream",
     "text": [
      "Skipped file. Already present: eeg_recording_2016-03-29\n",
      "Skipped file. Already present: eeg_recording_2016-03-29\n",
      "Skipped file. Already present: eeg_recording_2016-03-29\n",
      "Skipped file. Already present: eeg_recording_2016-03-29\n",
      "Skipped file. Already present: eeg_recording_2016-03-29\n",
      "Skipped file. Already present: eeg_recording_2016-03-29\n"
     ]
    },
    {
     "name": "stderr",
     "output_type": "stream",
     "text": [
      " 66%|██████████████████████████████████████████▍                     | 678/1023 [50:44<27:01,  4.70s/it]"
     ]
    },
    {
     "name": "stdout",
     "output_type": "stream",
     "text": [
      "Skipped file. Already present: eeg_recording_2016-03-29\n",
      "Skipped file. Already present: eeg_recording_2016-03-29\n",
      "Skipped file. Already present: eeg_recording_2016-03-30\n",
      "Skipped file. Already present: eeg_recording_2016-03-30\n",
      "Skipped file. Already present: eeg_recording_2016-03-30\n",
      "Skipped file. Already present: eeg_recording_2016-03-30\n",
      "Skipped file. Already present: eeg_recording_2016-03-30\n"
     ]
    },
    {
     "name": "stderr",
     "output_type": "stream",
     "text": [
      " 66%|██████████████████████████████████████████▍                     | 679/1023 [50:49<26:39,  4.65s/it]"
     ]
    },
    {
     "name": "stdout",
     "output_type": "stream",
     "text": [
      "Skipped file. Already present: eeg_recording_2016-03-30\n",
      "Skipped file. Already present: eeg_recording_2016-03-30\n",
      "Skipped file. Already present: eeg_recording_2016-03-30\n",
      "Skipped file. Already present: eeg_recording_2016-03-30\n",
      "Skipped file. Already present: eeg_recording_2016-03-30\n",
      "Skipped file. Already present: eeg_recording_2016-03-30\n",
      "Skipped file. Already present: eeg_recording_2016-03-30\n"
     ]
    },
    {
     "name": "stderr",
     "output_type": "stream",
     "text": [
      " 66%|██████████████████████████████████████████▌                     | 680/1023 [50:54<26:51,  4.70s/it]"
     ]
    },
    {
     "name": "stdout",
     "output_type": "stream",
     "text": [
      "Skipped file. Already present: eeg_recording_2016-03-30\n",
      "Skipped file. Already present: eeg_recording_2016-03-31\n",
      "Skipped file. Already present: eeg_recording_2016-03-31\n",
      "Skipped file. Already present: eeg_recording_2016-03-31\n",
      "Skipped file. Already present: eeg_recording_2016-03-31\n",
      "Skipped file. Already present: eeg_recording_2016-03-31\n"
     ]
    },
    {
     "name": "stderr",
     "output_type": "stream",
     "text": [
      " 67%|██████████████████████████████████████████▌                     | 681/1023 [50:58<26:33,  4.66s/it]"
     ]
    },
    {
     "name": "stdout",
     "output_type": "stream",
     "text": [
      "Skipped file. Already present: eeg_recording_2016-03-31\n",
      "Skipped file. Already present: eeg_recording_2016-03-31\n",
      "Skipped file. Already present: eeg_recording_2016-03-31\n",
      "Skipped file. Already present: eeg_recording_2016-03-31\n",
      "Skipped file. Already present: eeg_recording_2016-03-31\n",
      "Skipped file. Already present: eeg_recording_2016-03-31\n",
      "Skipped file. Already present: eeg_recording_2016-03-31\n"
     ]
    },
    {
     "name": "stderr",
     "output_type": "stream",
     "text": [
      " 67%|██████████████████████████████████████████▋                     | 682/1023 [51:03<26:38,  4.69s/it]"
     ]
    },
    {
     "name": "stdout",
     "output_type": "stream",
     "text": [
      "Skipped file. Already present: eeg_recording_2016-03-31\n",
      "Skipped file. Already present: eeg_recording_2016-04-01\n",
      "Skipped file. Already present: eeg_recording_2016-04-01\n",
      "Skipped file. Already present: eeg_recording_2016-04-01\n",
      "Skipped file. Already present: eeg_recording_2016-04-01\n",
      "Skipped file. Already present: eeg_recording_2016-04-01\n"
     ]
    },
    {
     "name": "stderr",
     "output_type": "stream",
     "text": [
      " 67%|██████████████████████████████████████████▋                     | 683/1023 [51:07<26:19,  4.64s/it]"
     ]
    },
    {
     "name": "stdout",
     "output_type": "stream",
     "text": [
      "Skipped file. Already present: eeg_recording_2016-04-01\n",
      "Skipped file. Already present: eeg_recording_2016-04-01\n",
      "Skipped file. Already present: eeg_recording_2016-04-01\n",
      "Skipped file. Already present: eeg_recording_2016-04-01\n",
      "Skipped file. Already present: eeg_recording_2016-04-01\n",
      "Skipped file. Already present: eeg_recording_2016-04-01\n",
      "Skipped file. Already present: eeg_recording_2016-04-01\n"
     ]
    },
    {
     "name": "stderr",
     "output_type": "stream",
     "text": [
      " 67%|██████████████████████████████████████████▊                     | 684/1023 [51:12<26:28,  4.68s/it]"
     ]
    },
    {
     "name": "stdout",
     "output_type": "stream",
     "text": [
      "Skipped file. Already present: eeg_recording_2016-04-01\n",
      "Skipped file. Already present: eeg_recording_2016-04-02\n",
      "Skipped file. Already present: eeg_recording_2016-04-02\n",
      "Skipped file. Already present: eeg_recording_2016-04-02\n",
      "Skipped file. Already present: eeg_recording_2016-04-02\n",
      "Skipped file. Already present: eeg_recording_2016-04-02\n"
     ]
    },
    {
     "name": "stderr",
     "output_type": "stream",
     "text": [
      " 67%|██████████████████████████████████████████▊                     | 685/1023 [51:17<26:12,  4.65s/it]"
     ]
    },
    {
     "name": "stdout",
     "output_type": "stream",
     "text": [
      "Skipped file. Already present: eeg_recording_2016-04-02\n",
      "Skipped file. Already present: eeg_recording_2016-04-02\n",
      "Skipped file. Already present: eeg_recording_2016-04-02\n",
      "Skipped file. Already present: eeg_recording_2016-04-02\n",
      "Skipped file. Already present: eeg_recording_2016-04-02\n",
      "Skipped file. Already present: eeg_recording_2016-04-02\n",
      "Skipped file. Already present: eeg_recording_2016-04-02\n"
     ]
    },
    {
     "name": "stderr",
     "output_type": "stream",
     "text": [
      " 67%|██████████████████████████████████████████▉                     | 686/1023 [51:22<26:17,  4.68s/it]"
     ]
    },
    {
     "name": "stdout",
     "output_type": "stream",
     "text": [
      "Skipped file. Already present: eeg_recording_2016-04-02\n",
      "Skipped file. Already present: eeg_recording_2016-04-03\n",
      "Skipped file. Already present: eeg_recording_2016-04-03\n",
      "Skipped file. Already present: eeg_recording_2016-04-03\n",
      "Skipped file. Already present: eeg_recording_2016-04-03\n",
      "Skipped file. Already present: eeg_recording_2016-04-03\n"
     ]
    },
    {
     "name": "stderr",
     "output_type": "stream",
     "text": [
      " 67%|██████████████████████████████████████████▉                     | 687/1023 [51:26<25:58,  4.64s/it]"
     ]
    },
    {
     "name": "stdout",
     "output_type": "stream",
     "text": [
      "Skipped file. Already present: eeg_recording_2016-04-03\n",
      "Skipped file. Already present: eeg_recording_2016-04-03\n",
      "Skipped file. Already present: eeg_recording_2016-04-03\n",
      "Skipped file. Already present: eeg_recording_2016-04-03\n",
      "Skipped file. Already present: eeg_recording_2016-04-03\n",
      "Skipped file. Already present: eeg_recording_2016-04-03\n"
     ]
    },
    {
     "name": "stderr",
     "output_type": "stream",
     "text": [
      " 67%|███████████████████████████████████████████                     | 688/1023 [51:31<26:02,  4.66s/it]"
     ]
    },
    {
     "name": "stdout",
     "output_type": "stream",
     "text": [
      "Skipped file. Already present: eeg_recording_2016-04-03\n",
      "Skipped file. Already present: eeg_recording_2016-04-03\n",
      "Skipped file. Already present: eeg_recording_2016-04-04\n",
      "Skipped file. Already present: eeg_recording_2016-04-04\n",
      "Skipped file. Already present: eeg_recording_2016-04-04\n",
      "Skipped file. Already present: eeg_recording_2016-04-04\n",
      "Skipped file. Already present: eeg_recording_2016-04-04\n"
     ]
    },
    {
     "name": "stderr",
     "output_type": "stream",
     "text": [
      " 67%|███████████████████████████████████████████                     | 689/1023 [51:35<25:42,  4.62s/it]"
     ]
    },
    {
     "name": "stdout",
     "output_type": "stream",
     "text": [
      "Skipped file. Already present: eeg_recording_2016-04-04\n",
      "Skipped file. Already present: eeg_recording_2016-04-04\n",
      "Skipped file. Already present: eeg_recording_2016-04-04\n",
      "Skipped file. Already present: eeg_recording_2016-04-04\n",
      "Skipped file. Already present: eeg_recording_2016-04-04\n",
      "Skipped file. Already present: eeg_recording_2016-04-04\n",
      "Skipped file. Already present: eeg_recording_2016-04-04\n"
     ]
    },
    {
     "name": "stderr",
     "output_type": "stream",
     "text": [
      " 67%|███████████████████████████████████████████▏                    | 690/1023 [51:40<25:54,  4.67s/it]"
     ]
    },
    {
     "name": "stdout",
     "output_type": "stream",
     "text": [
      "Skipped file. Already present: eeg_recording_2016-04-04\n",
      "Skipped file. Already present: eeg_recording_2016-04-05\n",
      "Skipped file. Already present: eeg_recording_2016-04-05\n",
      "Skipped file. Already present: eeg_recording_2016-04-05\n",
      "Skipped file. Already present: eeg_recording_2016-04-05\n",
      "Skipped file. Already present: eeg_recording_2016-04-05\n"
     ]
    },
    {
     "name": "stderr",
     "output_type": "stream",
     "text": [
      " 68%|███████████████████████████████████████████▏                    | 691/1023 [51:45<25:39,  4.64s/it]"
     ]
    },
    {
     "name": "stdout",
     "output_type": "stream",
     "text": [
      "Skipped file. Already present: eeg_recording_2016-04-05\n",
      "Skipped file. Already present: eeg_recording_2016-04-05\n",
      "Skipped file. Already present: eeg_recording_2016-04-05\n",
      "Skipped file. Already present: eeg_recording_2016-04-05\n",
      "Skipped file. Already present: eeg_recording_2016-04-05\n",
      "Skipped file. Already present: eeg_recording_2016-04-05\n",
      "Skipped file. Already present: eeg_recording_2016-04-05\n"
     ]
    },
    {
     "name": "stderr",
     "output_type": "stream",
     "text": [
      " 68%|███████████████████████████████████████████▎                    | 692/1023 [51:49<25:45,  4.67s/it]"
     ]
    },
    {
     "name": "stdout",
     "output_type": "stream",
     "text": [
      "Skipped file. Already present: eeg_recording_2016-04-05\n",
      "Skipped file. Already present: eeg_recording_2016-04-06\n",
      "Skipped file. Already present: eeg_recording_2016-04-06\n",
      "Skipped file. Already present: eeg_recording_2016-04-06\n",
      "Skipped file. Already present: eeg_recording_2016-04-06\n",
      "Skipped file. Already present: eeg_recording_2016-04-06\n"
     ]
    },
    {
     "name": "stderr",
     "output_type": "stream",
     "text": [
      " 68%|███████████████████████████████████████████▎                    | 693/1023 [51:54<25:30,  4.64s/it]"
     ]
    },
    {
     "name": "stdout",
     "output_type": "stream",
     "text": [
      "Skipped file. Already present: eeg_recording_2016-04-06\n",
      "Skipped file. Already present: eeg_recording_2016-04-06\n",
      "Skipped file. Already present: eeg_recording_2016-04-06\n",
      "Skipped file. Already present: eeg_recording_2016-04-06\n",
      "Skipped file. Already present: eeg_recording_2016-04-06\n",
      "Skipped file. Already present: eeg_recording_2016-04-06\n"
     ]
    },
    {
     "name": "stderr",
     "output_type": "stream",
     "text": [
      " 68%|███████████████████████████████████████████▍                    | 694/1023 [51:59<25:42,  4.69s/it]"
     ]
    },
    {
     "name": "stdout",
     "output_type": "stream",
     "text": [
      "Skipped file. Already present: eeg_recording_2016-04-06\n",
      "Skipped file. Already present: eeg_recording_2016-04-06\n",
      "Skipped file. Already present: eeg_recording_2016-04-07\n",
      "Skipped file. Already present: eeg_recording_2016-04-07\n",
      "Skipped file. Already present: eeg_recording_2016-04-07\n",
      "Skipped file. Already present: eeg_recording_2016-04-07\n",
      "Skipped file. Already present: eeg_recording_2016-04-07\n"
     ]
    },
    {
     "name": "stderr",
     "output_type": "stream",
     "text": [
      " 68%|███████████████████████████████████████████▍                    | 695/1023 [52:03<25:22,  4.64s/it]"
     ]
    },
    {
     "name": "stdout",
     "output_type": "stream",
     "text": [
      "Skipped file. Already present: eeg_recording_2016-04-07\n",
      "Skipped file. Already present: eeg_recording_2016-04-07\n",
      "Skipped file. Already present: eeg_recording_2016-04-07\n",
      "Skipped file. Already present: eeg_recording_2016-04-07\n",
      "Skipped file. Already present: eeg_recording_2016-04-07\n",
      "Skipped file. Already present: eeg_recording_2016-04-07\n",
      "Skipped file. Already present: eeg_recording_2016-04-07\n"
     ]
    },
    {
     "name": "stderr",
     "output_type": "stream",
     "text": [
      " 68%|███████████████████████████████████████████▌                    | 696/1023 [52:08<25:31,  4.68s/it]"
     ]
    },
    {
     "name": "stdout",
     "output_type": "stream",
     "text": [
      "Skipped file. Already present: eeg_recording_2016-04-07\n",
      "Skipped file. Already present: eeg_recording_2016-04-08\n",
      "Skipped file. Already present: eeg_recording_2016-04-08\n",
      "Skipped file. Already present: eeg_recording_2016-04-08\n",
      "Skipped file. Already present: eeg_recording_2016-04-08\n",
      "Skipped file. Already present: eeg_recording_2016-04-08\n"
     ]
    },
    {
     "name": "stderr",
     "output_type": "stream",
     "text": [
      " 68%|███████████████████████████████████████████▌                    | 697/1023 [52:13<25:13,  4.64s/it]"
     ]
    },
    {
     "name": "stdout",
     "output_type": "stream",
     "text": [
      "Skipped file. Already present: eeg_recording_2016-04-08\n",
      "Skipped file. Already present: eeg_recording_2016-04-08\n",
      "Skipped file. Already present: eeg_recording_2016-04-08\n",
      "Skipped file. Already present: eeg_recording_2016-04-08\n",
      "Skipped file. Already present: eeg_recording_2016-04-08\n",
      "Skipped file. Already present: eeg_recording_2016-04-08\n",
      "Skipped file. Already present: eeg_recording_2016-04-08\n"
     ]
    },
    {
     "name": "stderr",
     "output_type": "stream",
     "text": [
      " 68%|███████████████████████████████████████████▋                    | 698/1023 [52:17<25:16,  4.67s/it]"
     ]
    },
    {
     "name": "stdout",
     "output_type": "stream",
     "text": [
      "Skipped file. Already present: eeg_recording_2016-04-08\n",
      "Skipped file. Already present: eeg_recording_2016-04-09\n",
      "Skipped file. Already present: eeg_recording_2016-04-09\n",
      "Skipped file. Already present: eeg_recording_2016-04-09\n",
      "Skipped file. Already present: eeg_recording_2016-04-09\n",
      "Skipped file. Already present: eeg_recording_2016-04-09\n"
     ]
    },
    {
     "name": "stderr",
     "output_type": "stream",
     "text": [
      " 68%|███████████████████████████████████████████▋                    | 699/1023 [52:22<25:01,  4.64s/it]"
     ]
    },
    {
     "name": "stdout",
     "output_type": "stream",
     "text": [
      "Skipped file. Already present: eeg_recording_2016-04-09\n",
      "Skipped file. Already present: eeg_recording_2016-04-09\n",
      "Skipped file. Already present: eeg_recording_2016-04-09\n",
      "Skipped file. Already present: eeg_recording_2016-04-09\n",
      "Skipped file. Already present: eeg_recording_2016-04-09\n",
      "Skipped file. Already present: eeg_recording_2016-04-09\n",
      "Skipped file. Already present: eeg_recording_2016-04-09\n"
     ]
    },
    {
     "name": "stderr",
     "output_type": "stream",
     "text": [
      " 68%|███████████████████████████████████████████▊                    | 700/1023 [52:27<25:12,  4.68s/it]"
     ]
    },
    {
     "name": "stdout",
     "output_type": "stream",
     "text": [
      "Skipped file. Already present: eeg_recording_2016-04-09\n",
      "Skipped file. Already present: eeg_recording_2016-04-10\n",
      "Skipped file. Already present: eeg_recording_2016-04-10\n",
      "Skipped file. Already present: eeg_recording_2016-04-10\n",
      "Skipped file. Already present: eeg_recording_2016-04-10\n",
      "Skipped file. Already present: eeg_recording_2016-04-10\n"
     ]
    },
    {
     "name": "stderr",
     "output_type": "stream",
     "text": [
      " 69%|███████████████████████████████████████████▊                    | 701/1023 [52:31<24:58,  4.65s/it]"
     ]
    },
    {
     "name": "stdout",
     "output_type": "stream",
     "text": [
      "Skipped file. Already present: eeg_recording_2016-04-10\n",
      "Skipped file. Already present: eeg_recording_2016-04-10\n",
      "Skipped file. Already present: eeg_recording_2016-04-10\n",
      "Skipped file. Already present: eeg_recording_2016-04-10\n",
      "Skipped file. Already present: eeg_recording_2016-04-10\n",
      "Skipped file. Already present: eeg_recording_2016-04-10\n",
      "Skipped file. Already present: eeg_recording_2016-04-10\n"
     ]
    },
    {
     "name": "stderr",
     "output_type": "stream",
     "text": [
      " 69%|███████████████████████████████████████████▉                    | 702/1023 [52:36<25:05,  4.69s/it]"
     ]
    },
    {
     "name": "stdout",
     "output_type": "stream",
     "text": [
      "Skipped file. Already present: eeg_recording_2016-04-10\n",
      "Skipped file. Already present: eeg_recording_2016-04-11\n",
      "Skipped file. Already present: eeg_recording_2016-04-11\n",
      "Skipped file. Already present: eeg_recording_2016-04-11\n",
      "Skipped file. Already present: eeg_recording_2016-04-11\n"
     ]
    },
    {
     "name": "stderr",
     "output_type": "stream",
     "text": [
      " 69%|███████████████████████████████████████████▉                    | 703/1023 [52:41<24:52,  4.66s/it]"
     ]
    },
    {
     "name": "stdout",
     "output_type": "stream",
     "text": [
      "Skipped file. Already present: eeg_recording_2016-04-11\n",
      "Skipped file. Already present: eeg_recording_2016-04-11\n",
      "Skipped file. Already present: eeg_recording_2016-04-11\n",
      "Skipped file. Already present: eeg_recording_2016-04-11\n",
      "Skipped file. Already present: eeg_recording_2016-04-11\n",
      "Skipped file. Already present: eeg_recording_2016-04-11\n",
      "Skipped file. Already present: eeg_recording_2016-04-11\n",
      "Skipped file. Already present: eeg_recording_2016-04-11\n"
     ]
    },
    {
     "name": "stderr",
     "output_type": "stream",
     "text": [
      " 69%|████████████████████████████████████████████                    | 704/1023 [52:46<25:01,  4.71s/it]"
     ]
    },
    {
     "name": "stdout",
     "output_type": "stream",
     "text": [
      "Skipped file. Already present: eeg_recording_2016-04-11\n",
      "Skipped file. Already present: eeg_recording_2016-04-12\n",
      "Skipped file. Already present: eeg_recording_2016-04-12\n",
      "Skipped file. Already present: eeg_recording_2016-04-12\n",
      "Skipped file. Already present: eeg_recording_2016-04-12\n",
      "Skipped file. Already present: eeg_recording_2016-04-12\n"
     ]
    },
    {
     "name": "stderr",
     "output_type": "stream",
     "text": [
      " 69%|████████████████████████████████████████████                    | 705/1023 [52:50<24:40,  4.66s/it]"
     ]
    },
    {
     "name": "stdout",
     "output_type": "stream",
     "text": [
      "Skipped file. Already present: eeg_recording_2016-04-12\n",
      "Skipped file. Already present: eeg_recording_2016-04-12\n",
      "Skipped file. Already present: eeg_recording_2016-04-12\n",
      "Skipped file. Already present: eeg_recording_2016-04-12\n",
      "Skipped file. Already present: eeg_recording_2016-04-12\n",
      "Skipped file. Already present: eeg_recording_2016-04-12\n",
      "Skipped file. Already present: eeg_recording_2016-04-12\n"
     ]
    },
    {
     "name": "stderr",
     "output_type": "stream",
     "text": [
      " 69%|████████████████████████████████████████████▏                   | 706/1023 [52:55<24:50,  4.70s/it]"
     ]
    },
    {
     "name": "stdout",
     "output_type": "stream",
     "text": [
      "Skipped file. Already present: eeg_recording_2016-04-12\n",
      "Skipped file. Already present: eeg_recording_2016-04-13\n",
      "Skipped file. Already present: eeg_recording_2016-04-13\n",
      "Skipped file. Already present: eeg_recording_2016-04-13\n",
      "Skipped file. Already present: eeg_recording_2016-04-13\n",
      "Skipped file. Already present: eeg_recording_2016-04-13\n"
     ]
    },
    {
     "name": "stderr",
     "output_type": "stream",
     "text": [
      " 69%|████████████████████████████████████████████▏                   | 707/1023 [52:59<24:29,  4.65s/it]"
     ]
    },
    {
     "name": "stdout",
     "output_type": "stream",
     "text": [
      "Skipped file. Already present: eeg_recording_2016-04-13\n",
      "Skipped file. Already present: eeg_recording_2016-04-13\n",
      "Skipped file. Already present: eeg_recording_2016-04-13\n",
      "Skipped file. Already present: eeg_recording_2016-04-13\n",
      "Skipped file. Already present: eeg_recording_2016-04-13\n",
      "Skipped file. Already present: eeg_recording_2016-04-13\n",
      "Skipped file. Already present: eeg_recording_2016-04-13\n"
     ]
    },
    {
     "name": "stderr",
     "output_type": "stream",
     "text": [
      " 69%|████████████████████████████████████████████▎                   | 708/1023 [53:04<24:35,  4.69s/it]"
     ]
    },
    {
     "name": "stdout",
     "output_type": "stream",
     "text": [
      "Skipped file. Already present: eeg_recording_2016-04-13\n",
      "Skipped file. Already present: eeg_recording_2016-04-14\n",
      "Skipped file. Already present: eeg_recording_2016-04-14\n",
      "Skipped file. Already present: eeg_recording_2016-04-14\n",
      "Skipped file. Already present: eeg_recording_2016-04-14\n",
      "Skipped file. Already present: eeg_recording_2016-04-14\n"
     ]
    },
    {
     "name": "stderr",
     "output_type": "stream",
     "text": [
      " 69%|████████████████████████████████████████████▎                   | 709/1023 [53:09<24:14,  4.63s/it]"
     ]
    },
    {
     "name": "stdout",
     "output_type": "stream",
     "text": [
      "Skipped file. Already present: eeg_recording_2016-04-14\n",
      "Skipped file. Already present: eeg_recording_2016-04-14\n",
      "Skipped file. Already present: eeg_recording_2016-04-14\n",
      "Skipped file. Already present: eeg_recording_2016-04-14\n",
      "Skipped file. Already present: eeg_recording_2016-04-14\n",
      "Skipped file. Already present: eeg_recording_2016-04-14\n",
      "Skipped file. Already present: eeg_recording_2016-04-14\n"
     ]
    },
    {
     "name": "stderr",
     "output_type": "stream",
     "text": [
      " 69%|████████████████████████████████████████████▍                   | 710/1023 [53:14<24:28,  4.69s/it]"
     ]
    },
    {
     "name": "stdout",
     "output_type": "stream",
     "text": [
      "Skipped file. Already present: eeg_recording_2016-04-14\n",
      "Skipped file. Already present: eeg_recording_2016-04-15\n",
      "Skipped file. Already present: eeg_recording_2016-04-15\n",
      "Skipped file. Already present: eeg_recording_2016-04-15\n",
      "Skipped file. Already present: eeg_recording_2016-04-15\n",
      "Skipped file. Already present: eeg_recording_2016-04-15\n"
     ]
    },
    {
     "name": "stderr",
     "output_type": "stream",
     "text": [
      " 70%|████████████████████████████████████████████▍                   | 711/1023 [53:18<24:08,  4.64s/it]"
     ]
    },
    {
     "name": "stdout",
     "output_type": "stream",
     "text": [
      "Skipped file. Already present: eeg_recording_2016-04-15\n",
      "Skipped file. Already present: eeg_recording_2016-04-15\n",
      "Skipped file. Already present: eeg_recording_2016-04-15\n",
      "Skipped file. Already present: eeg_recording_2016-04-15\n",
      "Skipped file. Already present: eeg_recording_2016-04-15\n",
      "Skipped file. Already present: eeg_recording_2016-04-15\n"
     ]
    },
    {
     "name": "stderr",
     "output_type": "stream",
     "text": [
      " 70%|████████████████████████████████████████████▌                   | 712/1023 [53:23<24:24,  4.71s/it]"
     ]
    },
    {
     "name": "stdout",
     "output_type": "stream",
     "text": [
      "Skipped file. Already present: eeg_recording_2016-04-15\n",
      "Skipped file. Already present: eeg_recording_2016-04-15\n",
      "Skipped file. Already present: eeg_recording_2016-04-16\n",
      "Skipped file. Already present: eeg_recording_2016-04-16\n",
      "Skipped file. Already present: eeg_recording_2016-04-16\n",
      "Skipped file. Already present: eeg_recording_2016-04-16\n",
      "Skipped file. Already present: eeg_recording_2016-04-16\n"
     ]
    },
    {
     "name": "stderr",
     "output_type": "stream",
     "text": [
      " 70%|████████████████████████████████████████████▌                   | 713/1023 [53:27<24:02,  4.65s/it]"
     ]
    },
    {
     "name": "stdout",
     "output_type": "stream",
     "text": [
      "Skipped file. Already present: eeg_recording_2016-04-16\n",
      "Skipped file. Already present: eeg_recording_2016-04-16\n",
      "Skipped file. Already present: eeg_recording_2016-04-16\n",
      "Skipped file. Already present: eeg_recording_2016-04-16\n",
      "Skipped file. Already present: eeg_recording_2016-04-16\n",
      "Skipped file. Already present: eeg_recording_2016-04-16\n",
      "Skipped file. Already present: eeg_recording_2016-04-16\n"
     ]
    },
    {
     "name": "stderr",
     "output_type": "stream",
     "text": [
      " 70%|████████████████████████████████████████████▋                   | 714/1023 [53:32<24:15,  4.71s/it]"
     ]
    },
    {
     "name": "stdout",
     "output_type": "stream",
     "text": [
      "Skipped file. Already present: eeg_recording_2016-04-16\n",
      "Skipped file. Already present: eeg_recording_2016-04-17\n",
      "Skipped file. Already present: eeg_recording_2016-04-17\n",
      "Skipped file. Already present: eeg_recording_2016-04-17\n",
      "Skipped file. Already present: eeg_recording_2016-04-17\n",
      "Skipped file. Already present: eeg_recording_2016-04-17\n"
     ]
    },
    {
     "name": "stderr",
     "output_type": "stream",
     "text": [
      " 70%|████████████████████████████████████████████▋                   | 715/1023 [53:37<23:52,  4.65s/it]"
     ]
    },
    {
     "name": "stdout",
     "output_type": "stream",
     "text": [
      "Skipped file. Already present: eeg_recording_2016-04-17\n",
      "Skipped file. Already present: eeg_recording_2016-04-17\n",
      "Skipped file. Already present: eeg_recording_2016-04-17\n",
      "Skipped file. Already present: eeg_recording_2016-04-17\n",
      "Skipped file. Already present: eeg_recording_2016-04-17\n",
      "Skipped file. Already present: eeg_recording_2016-04-17\n",
      "Skipped file. Already present: eeg_recording_2016-04-17\n"
     ]
    },
    {
     "name": "stderr",
     "output_type": "stream",
     "text": [
      " 70%|████████████████████████████████████████████▊                   | 716/1023 [53:42<24:02,  4.70s/it]"
     ]
    },
    {
     "name": "stdout",
     "output_type": "stream",
     "text": [
      "Skipped file. Already present: eeg_recording_2016-04-17\n",
      "Skipped file. Already present: eeg_recording_2016-04-18\n",
      "Skipped file. Already present: eeg_recording_2016-04-18\n",
      "Skipped file. Already present: eeg_recording_2016-04-18\n",
      "Skipped file. Already present: eeg_recording_2016-04-18\n",
      "Skipped file. Already present: eeg_recording_2016-04-18\n"
     ]
    },
    {
     "name": "stderr",
     "output_type": "stream",
     "text": [
      " 70%|████████████████████████████████████████████▊                   | 717/1023 [53:46<23:46,  4.66s/it]"
     ]
    },
    {
     "name": "stdout",
     "output_type": "stream",
     "text": [
      "Skipped file. Already present: eeg_recording_2016-04-18\n",
      "Skipped file. Already present: eeg_recording_2016-04-18\n",
      "Skipped file. Already present: eeg_recording_2016-04-18\n",
      "Skipped file. Already present: eeg_recording_2016-04-18\n",
      "Skipped file. Already present: eeg_recording_2016-04-18\n",
      "Skipped file. Already present: eeg_recording_2016-04-18\n",
      "Skipped file. Already present: eeg_recording_2016-04-18\n"
     ]
    },
    {
     "name": "stderr",
     "output_type": "stream",
     "text": [
      " 70%|████████████████████████████████████████████▉                   | 718/1023 [53:51<24:05,  4.74s/it]"
     ]
    },
    {
     "name": "stdout",
     "output_type": "stream",
     "text": [
      "Skipped file. Already present: eeg_recording_2016-04-19\n",
      "Skipped file. Already present: eeg_recording_2016-04-19\n",
      "Skipped file. Already present: eeg_recording_2016-04-19\n",
      "Skipped file. Already present: eeg_recording_2016-04-19\n",
      "Skipped file. Already present: eeg_recording_2016-04-19\n"
     ]
    },
    {
     "name": "stderr",
     "output_type": "stream",
     "text": [
      " 70%|████████████████████████████████████████████▉                   | 719/1023 [53:56<23:46,  4.69s/it]"
     ]
    },
    {
     "name": "stdout",
     "output_type": "stream",
     "text": [
      "Skipped file. Already present: eeg_recording_2016-04-19\n",
      "Skipped file. Already present: eeg_recording_2016-04-19\n",
      "Skipped file. Already present: eeg_recording_2016-04-19\n",
      "Skipped file. Already present: eeg_recording_2016-04-19\n",
      "Skipped file. Already present: eeg_recording_2016-04-19\n",
      "Skipped file. Already present: eeg_recording_2016-04-19\n"
     ]
    },
    {
     "name": "stderr",
     "output_type": "stream",
     "text": [
      " 70%|█████████████████████████████████████████████                   | 720/1023 [54:01<24:06,  4.77s/it]"
     ]
    },
    {
     "name": "stdout",
     "output_type": "stream",
     "text": [
      "Skipped file. Already present: eeg_recording_2016-04-19\n",
      "Skipped file. Already present: eeg_recording_2016-04-19\n",
      "Skipped file. Already present: eeg_recording_2016-04-19\n",
      "Skipped file. Already present: eeg_recording_2016-04-20\n",
      "Skipped file. Already present: eeg_recording_2016-04-20\n",
      "Skipped file. Already present: eeg_recording_2016-04-20\n",
      "Skipped file. Already present: eeg_recording_2016-04-20\n",
      "Skipped file. Already present: eeg_recording_2016-04-20\n"
     ]
    },
    {
     "name": "stderr",
     "output_type": "stream",
     "text": [
      " 70%|█████████████████████████████████████████████                   | 721/1023 [54:05<23:38,  4.70s/it]"
     ]
    },
    {
     "name": "stdout",
     "output_type": "stream",
     "text": [
      "Skipped file. Already present: eeg_recording_2016-04-20\n",
      "Skipped file. Already present: eeg_recording_2016-04-20\n",
      "Skipped file. Already present: eeg_recording_2016-04-20\n",
      "Skipped file. Already present: eeg_recording_2016-04-20\n",
      "Skipped file. Already present: eeg_recording_2016-04-20\n",
      "Skipped file. Already present: eeg_recording_2016-04-20\n",
      "Skipped file. Already present: eeg_recording_2016-04-20\n"
     ]
    },
    {
     "name": "stderr",
     "output_type": "stream",
     "text": [
      " 71%|█████████████████████████████████████████████▏                  | 722/1023 [54:10<23:40,  4.72s/it]"
     ]
    },
    {
     "name": "stdout",
     "output_type": "stream",
     "text": [
      "Skipped file. Already present: eeg_recording_2016-04-20\n",
      "Skipped file. Already present: eeg_recording_2016-04-20\n",
      "Skipped file. Already present: eeg_recording_2016-04-21\n",
      "Skipped file. Already present: eeg_recording_2016-04-21\n",
      "Skipped file. Already present: eeg_recording_2016-04-21\n",
      "Skipped file. Already present: eeg_recording_2016-04-21\n",
      "Skipped file. Already present: eeg_recording_2016-04-21\n"
     ]
    },
    {
     "name": "stderr",
     "output_type": "stream",
     "text": [
      " 71%|█████████████████████████████████████████████▏                  | 723/1023 [54:14<23:19,  4.67s/it]"
     ]
    },
    {
     "name": "stdout",
     "output_type": "stream",
     "text": [
      "Skipped file. Already present: eeg_recording_2016-04-21\n",
      "Skipped file. Already present: eeg_recording_2016-04-21\n",
      "Skipped file. Already present: eeg_recording_2016-04-21\n",
      "Skipped file. Already present: eeg_recording_2016-04-21\n",
      "Skipped file. Already present: eeg_recording_2016-04-21\n",
      "Skipped file. Already present: eeg_recording_2016-04-21\n",
      "Skipped file. Already present: eeg_recording_2016-04-21\n"
     ]
    },
    {
     "name": "stderr",
     "output_type": "stream",
     "text": [
      " 71%|█████████████████████████████████████████████▎                  | 724/1023 [54:19<23:26,  4.70s/it]"
     ]
    },
    {
     "name": "stdout",
     "output_type": "stream",
     "text": [
      "Skipped file. Already present: eeg_recording_2016-04-21\n",
      "Skipped file. Already present: eeg_recording_2016-04-21\n",
      "Skipped file. Already present: eeg_recording_2016-04-22\n",
      "Skipped file. Already present: eeg_recording_2016-04-22\n",
      "Skipped file. Already present: eeg_recording_2016-04-22\n",
      "Skipped file. Already present: eeg_recording_2016-04-22\n",
      "Skipped file. Already present: eeg_recording_2016-04-22\n"
     ]
    },
    {
     "name": "stderr",
     "output_type": "stream",
     "text": [
      " 71%|█████████████████████████████████████████████▎                  | 725/1023 [54:24<23:14,  4.68s/it]"
     ]
    },
    {
     "name": "stdout",
     "output_type": "stream",
     "text": [
      "Skipped file. Already present: eeg_recording_2016-04-22\n",
      "Skipped file. Already present: eeg_recording_2016-04-22\n",
      "Skipped file. Already present: eeg_recording_2016-04-22\n",
      "Skipped file. Already present: eeg_recording_2016-04-22\n",
      "Skipped file. Already present: eeg_recording_2016-04-22\n",
      "Skipped file. Already present: eeg_recording_2016-04-22\n",
      "Skipped file. Already present: eeg_recording_2016-04-22\n"
     ]
    },
    {
     "name": "stderr",
     "output_type": "stream",
     "text": [
      " 71%|█████████████████████████████████████████████▍                  | 726/1023 [54:29<23:20,  4.72s/it]"
     ]
    },
    {
     "name": "stdout",
     "output_type": "stream",
     "text": [
      "Skipped file. Already present: eeg_recording_2016-04-22\n",
      "Skipped file. Already present: eeg_recording_2016-04-22\n",
      "Skipped file. Already present: eeg_recording_2016-04-23\n",
      "Skipped file. Already present: eeg_recording_2016-04-23\n",
      "Skipped file. Already present: eeg_recording_2016-04-23\n",
      "Skipped file. Already present: eeg_recording_2016-04-23\n",
      "Skipped file. Already present: eeg_recording_2016-04-23\n"
     ]
    },
    {
     "name": "stderr",
     "output_type": "stream",
     "text": [
      " 71%|█████████████████████████████████████████████▍                  | 727/1023 [54:33<22:57,  4.65s/it]"
     ]
    },
    {
     "name": "stdout",
     "output_type": "stream",
     "text": [
      "Skipped file. Already present: eeg_recording_2016-04-23\n",
      "Skipped file. Already present: eeg_recording_2016-04-23\n",
      "Skipped file. Already present: eeg_recording_2016-04-23\n",
      "Skipped file. Already present: eeg_recording_2016-04-23\n",
      "Skipped file. Already present: eeg_recording_2016-04-23\n",
      "Skipped file. Already present: eeg_recording_2016-04-23\n",
      "Skipped file. Already present: eeg_recording_2016-04-23\n"
     ]
    },
    {
     "name": "stderr",
     "output_type": "stream",
     "text": [
      " 71%|█████████████████████████████████████████████▌                  | 728/1023 [54:38<23:09,  4.71s/it]"
     ]
    },
    {
     "name": "stdout",
     "output_type": "stream",
     "text": [
      "Skipped file. Already present: eeg_recording_2016-04-23\n",
      "Skipped file. Already present: eeg_recording_2016-04-24\n",
      "Skipped file. Already present: eeg_recording_2016-04-24\n",
      "Skipped file. Already present: eeg_recording_2016-04-24\n",
      "Skipped file. Already present: eeg_recording_2016-04-24\n",
      "Skipped file. Already present: eeg_recording_2016-04-24\n"
     ]
    },
    {
     "name": "stderr",
     "output_type": "stream",
     "text": [
      " 71%|█████████████████████████████████████████████▌                  | 729/1023 [54:43<22:46,  4.65s/it]"
     ]
    },
    {
     "name": "stdout",
     "output_type": "stream",
     "text": [
      "Skipped file. Already present: eeg_recording_2016-04-24\n",
      "Skipped file. Already present: eeg_recording_2016-04-24\n",
      "Skipped file. Already present: eeg_recording_2016-04-24\n",
      "Skipped file. Already present: eeg_recording_2016-04-24\n",
      "Skipped file. Already present: eeg_recording_2016-04-24\n",
      "Skipped file. Already present: eeg_recording_2016-04-24\n",
      "Skipped file. Already present: eeg_recording_2016-04-24\n",
      "Skipped file. Already present: eeg_recording_2016-04-24\n"
     ]
    },
    {
     "name": "stderr",
     "output_type": "stream",
     "text": [
      " 71%|█████████████████████████████████████████████▋                  | 730/1023 [54:47<22:58,  4.70s/it]"
     ]
    },
    {
     "name": "stdout",
     "output_type": "stream",
     "text": [
      "Skipped file. Already present: eeg_recording_2016-04-25\n",
      "Skipped file. Already present: eeg_recording_2016-04-25\n",
      "Skipped file. Already present: eeg_recording_2016-04-25\n",
      "Skipped file. Already present: eeg_recording_2016-04-25\n",
      "Skipped file. Already present: eeg_recording_2016-04-25\n"
     ]
    },
    {
     "name": "stderr",
     "output_type": "stream",
     "text": [
      " 71%|█████████████████████████████████████████████▋                  | 731/1023 [54:52<22:43,  4.67s/it]"
     ]
    },
    {
     "name": "stdout",
     "output_type": "stream",
     "text": [
      "Skipped file. Already present: eeg_recording_2016-04-25\n",
      "Skipped file. Already present: eeg_recording_2016-04-25\n",
      "Skipped file. Already present: eeg_recording_2016-04-25\n",
      "Skipped file. Already present: eeg_recording_2016-04-25\n",
      "Skipped file. Already present: eeg_recording_2016-04-25\n",
      "Skipped file. Already present: eeg_recording_2016-04-25\n",
      "Skipped file. Already present: eeg_recording_2016-04-25\n",
      "Skipped file. Already present: eeg_recording_2016-04-25\n"
     ]
    },
    {
     "name": "stderr",
     "output_type": "stream",
     "text": [
      " 72%|█████████████████████████████████████████████▊                  | 732/1023 [54:57<22:44,  4.69s/it]"
     ]
    },
    {
     "name": "stdout",
     "output_type": "stream",
     "text": [
      "Skipped file. Already present: eeg_recording_2016-04-26\n",
      "Skipped file. Already present: eeg_recording_2016-04-26\n",
      "Skipped file. Already present: eeg_recording_2016-04-26\n",
      "Skipped file. Already present: eeg_recording_2016-04-26\n",
      "Skipped file. Already present: eeg_recording_2016-04-26\n"
     ]
    },
    {
     "name": "stderr",
     "output_type": "stream",
     "text": [
      " 72%|█████████████████████████████████████████████▊                  | 733/1023 [55:02<22:53,  4.74s/it]"
     ]
    },
    {
     "name": "stdout",
     "output_type": "stream",
     "text": [
      "Skipped file. Already present: eeg_recording_2016-04-26\n",
      "Skipped file. Already present: eeg_recording_2016-04-26\n",
      "Skipped file. Already present: eeg_recording_2016-04-26\n",
      "Skipped file. Already present: eeg_recording_2016-04-26\n",
      "Skipped file. Already present: eeg_recording_2016-04-26\n",
      "Skipped file. Already present: eeg_recording_2016-04-26\n",
      "Skipped file. Already present: eeg_recording_2016-04-26\n",
      "Skipped file. Already present: eeg_recording_2016-04-26\n",
      "Skipped file. Already present: eeg_recording_2016-04-26\n"
     ]
    },
    {
     "name": "stderr",
     "output_type": "stream",
     "text": [
      " 72%|█████████████████████████████████████████████▉                  | 734/1023 [55:06<22:56,  4.76s/it]"
     ]
    },
    {
     "name": "stdout",
     "output_type": "stream",
     "text": [
      "Skipped file. Already present: eeg_recording_2016-04-26\n",
      "Skipped file. Already present: eeg_recording_2016-04-27\n",
      "Skipped file. Already present: eeg_recording_2016-04-27\n",
      "Skipped file. Already present: eeg_recording_2016-04-27\n",
      "Skipped file. Already present: eeg_recording_2016-04-27\n",
      "Skipped file. Already present: eeg_recording_2016-04-27\n"
     ]
    },
    {
     "name": "stderr",
     "output_type": "stream",
     "text": [
      " 72%|█████████████████████████████████████████████▉                  | 735/1023 [55:11<22:52,  4.77s/it]"
     ]
    },
    {
     "name": "stdout",
     "output_type": "stream",
     "text": [
      "Skipped file. Already present: eeg_recording_2016-04-27\n",
      "Skipped file. Already present: eeg_recording_2016-04-27\n",
      "Skipped file. Already present: eeg_recording_2016-04-27\n",
      "Skipped file. Already present: eeg_recording_2016-04-27\n",
      "Skipped file. Already present: eeg_recording_2016-04-27\n",
      "Skipped file. Already present: eeg_recording_2016-04-27\n",
      "Skipped file. Already present: eeg_recording_2016-04-27\n",
      "Skipped file. Already present: eeg_recording_2016-04-27\n",
      "Skipped file. Already present: eeg_recording_2016-04-27\n"
     ]
    },
    {
     "name": "stderr",
     "output_type": "stream",
     "text": [
      " 72%|██████████████████████████████████████████████                  | 736/1023 [55:16<22:48,  4.77s/it]"
     ]
    },
    {
     "name": "stdout",
     "output_type": "stream",
     "text": [
      "Skipped file. Already present: eeg_recording_2016-04-27\n",
      "Skipped file. Already present: eeg_recording_2016-04-28\n",
      "Skipped file. Already present: eeg_recording_2016-04-28\n",
      "Skipped file. Already present: eeg_recording_2016-04-28\n",
      "Skipped file. Already present: eeg_recording_2016-04-28\n",
      "Skipped file. Already present: eeg_recording_2016-04-28\n"
     ]
    },
    {
     "name": "stderr",
     "output_type": "stream",
     "text": [
      " 72%|██████████████████████████████████████████████                  | 737/1023 [55:21<22:43,  4.77s/it]"
     ]
    },
    {
     "name": "stdout",
     "output_type": "stream",
     "text": [
      "Skipped file. Already present: eeg_recording_2016-04-28\n",
      "Skipped file. Already present: eeg_recording_2016-04-28\n",
      "Skipped file. Already present: eeg_recording_2016-04-28\n",
      "Skipped file. Already present: eeg_recording_2016-04-28\n",
      "Skipped file. Already present: eeg_recording_2016-04-28\n",
      "Skipped file. Already present: eeg_recording_2016-04-28\n",
      "Skipped file. Already present: eeg_recording_2016-04-28\n",
      "Skipped file. Already present: eeg_recording_2016-04-28\n",
      "Skipped file. Already present: eeg_recording_2016-04-28\n"
     ]
    },
    {
     "name": "stderr",
     "output_type": "stream",
     "text": [
      " 72%|██████████████████████████████████████████████▏                 | 738/1023 [55:26<22:49,  4.80s/it]"
     ]
    },
    {
     "name": "stdout",
     "output_type": "stream",
     "text": [
      "Skipped file. Already present: eeg_recording_2016-04-28\n",
      "Skipped file. Already present: eeg_recording_2016-04-29\n",
      "Skipped file. Already present: eeg_recording_2016-04-29\n",
      "Skipped file. Already present: eeg_recording_2016-04-29\n",
      "Skipped file. Already present: eeg_recording_2016-04-29\n",
      "Skipped file. Already present: eeg_recording_2016-04-29\n"
     ]
    },
    {
     "name": "stderr",
     "output_type": "stream",
     "text": [
      " 72%|██████████████████████████████████████████████▏                 | 739/1023 [55:30<22:46,  4.81s/it]"
     ]
    },
    {
     "name": "stdout",
     "output_type": "stream",
     "text": [
      "Skipped file. Already present: eeg_recording_2016-04-29\n",
      "Skipped file. Already present: eeg_recording_2016-04-29\n",
      "Skipped file. Already present: eeg_recording_2016-04-29\n",
      "Skipped file. Already present: eeg_recording_2016-04-29\n",
      "Skipped file. Already present: eeg_recording_2016-04-29\n",
      "Skipped file. Already present: eeg_recording_2016-04-29\n",
      "Skipped file. Already present: eeg_recording_2016-04-29\n",
      "Skipped file. Already present: eeg_recording_2016-04-29\n",
      "Skipped file. Already present: eeg_recording_2016-04-29\n"
     ]
    },
    {
     "name": "stderr",
     "output_type": "stream",
     "text": [
      " 72%|██████████████████████████████████████████████▎                 | 740/1023 [55:35<22:47,  4.83s/it]"
     ]
    },
    {
     "name": "stdout",
     "output_type": "stream",
     "text": [
      "Skipped file. Already present: eeg_recording_2016-04-29\n",
      "Skipped file. Already present: eeg_recording_2016-04-30\n",
      "Skipped file. Already present: eeg_recording_2016-04-30\n",
      "Skipped file. Already present: eeg_recording_2016-04-30\n",
      "Skipped file. Already present: eeg_recording_2016-04-30\n",
      "Skipped file. Already present: eeg_recording_2016-04-30\n"
     ]
    },
    {
     "name": "stderr",
     "output_type": "stream",
     "text": [
      " 72%|██████████████████████████████████████████████▎                 | 741/1023 [55:40<22:32,  4.80s/it]"
     ]
    },
    {
     "name": "stdout",
     "output_type": "stream",
     "text": [
      "Skipped file. Already present: eeg_recording_2016-04-30\n",
      "Skipped file. Already present: eeg_recording_2016-04-30\n",
      "Skipped file. Already present: eeg_recording_2016-04-30\n",
      "Skipped file. Already present: eeg_recording_2016-04-30\n",
      "Skipped file. Already present: eeg_recording_2016-04-30\n",
      "Skipped file. Already present: eeg_recording_2016-04-30\n",
      "Skipped file. Already present: eeg_recording_2016-04-30\n",
      "Skipped file. Already present: eeg_recording_2016-04-30\n",
      "Skipped file. Already present: eeg_recording_2016-04-30\n"
     ]
    },
    {
     "name": "stderr",
     "output_type": "stream",
     "text": [
      " 73%|██████████████████████████████████████████████▍                 | 742/1023 [55:45<22:33,  4.82s/it]"
     ]
    },
    {
     "name": "stdout",
     "output_type": "stream",
     "text": [
      "Skipped file. Already present: eeg_recording_2016-04-30\n",
      "Skipped file. Already present: eeg_recording_2016-05-01\n",
      "Skipped file. Already present: eeg_recording_2016-05-01\n",
      "Skipped file. Already present: eeg_recording_2016-05-01\n",
      "Skipped file. Already present: eeg_recording_2016-05-01\n",
      "Skipped file. Already present: eeg_recording_2016-05-01\n"
     ]
    },
    {
     "name": "stderr",
     "output_type": "stream",
     "text": [
      " 73%|██████████████████████████████████████████████▍                 | 743/1023 [55:50<22:19,  4.79s/it]"
     ]
    },
    {
     "name": "stdout",
     "output_type": "stream",
     "text": [
      "Skipped file. Already present: eeg_recording_2016-05-01\n",
      "Skipped file. Already present: eeg_recording_2016-05-01\n",
      "Skipped file. Already present: eeg_recording_2016-05-01\n",
      "Skipped file. Already present: eeg_recording_2016-05-01\n",
      "Skipped file. Already present: eeg_recording_2016-05-01\n",
      "Skipped file. Already present: eeg_recording_2016-05-01\n",
      "Skipped file. Already present: eeg_recording_2016-05-01\n",
      "Skipped file. Already present: eeg_recording_2016-05-01\n",
      "Skipped file. Already present: eeg_recording_2016-05-01\n"
     ]
    },
    {
     "name": "stderr",
     "output_type": "stream",
     "text": [
      " 73%|██████████████████████████████████████████████▌                 | 744/1023 [55:54<22:21,  4.81s/it]"
     ]
    },
    {
     "name": "stdout",
     "output_type": "stream",
     "text": [
      "Skipped file. Already present: eeg_recording_2016-05-02\n",
      "Skipped file. Already present: eeg_recording_2016-05-02\n",
      "Skipped file. Already present: eeg_recording_2016-05-02\n",
      "Skipped file. Already present: eeg_recording_2016-05-02\n",
      "Skipped file. Already present: eeg_recording_2016-05-02\n"
     ]
    },
    {
     "name": "stderr",
     "output_type": "stream",
     "text": [
      " 73%|██████████████████████████████████████████████▌                 | 745/1023 [55:59<22:07,  4.78s/it]"
     ]
    },
    {
     "name": "stdout",
     "output_type": "stream",
     "text": [
      "Skipped file. Already present: eeg_recording_2016-05-02\n",
      "Skipped file. Already present: eeg_recording_2016-05-02\n",
      "Skipped file. Already present: eeg_recording_2016-05-02\n",
      "Skipped file. Already present: eeg_recording_2016-05-02\n",
      "Skipped file. Already present: eeg_recording_2016-05-02\n",
      "Skipped file. Already present: eeg_recording_2016-05-02\n",
      "Skipped file. Already present: eeg_recording_2016-05-02\n",
      "Skipped file. Already present: eeg_recording_2016-05-02\n",
      "Skipped file. Already present: eeg_recording_2016-05-02\n"
     ]
    },
    {
     "name": "stderr",
     "output_type": "stream",
     "text": [
      " 73%|██████████████████████████████████████████████▋                 | 746/1023 [56:04<22:14,  4.82s/it]"
     ]
    },
    {
     "name": "stdout",
     "output_type": "stream",
     "text": [
      "Skipped file. Already present: eeg_recording_2016-05-03\n",
      "Skipped file. Already present: eeg_recording_2016-05-03\n",
      "Skipped file. Already present: eeg_recording_2016-05-03\n",
      "Skipped file. Already present: eeg_recording_2016-05-03\n"
     ]
    },
    {
     "name": "stderr",
     "output_type": "stream",
     "text": [
      " 73%|██████████████████████████████████████████████▋                 | 747/1023 [56:09<21:52,  4.75s/it]"
     ]
    },
    {
     "name": "stdout",
     "output_type": "stream",
     "text": [
      "Skipped file. Already present: eeg_recording_2016-05-03\n",
      "Skipped file. Already present: eeg_recording_2016-05-03\n",
      "Skipped file. Already present: eeg_recording_2016-05-03\n",
      "Skipped file. Already present: eeg_recording_2016-05-03\n",
      "Skipped file. Already present: eeg_recording_2016-05-03\n",
      "Skipped file. Already present: eeg_recording_2016-05-03\n",
      "Skipped file. Already present: eeg_recording_2016-05-03\n",
      "Skipped file. Already present: eeg_recording_2016-05-03\n",
      "Skipped file. Already present: eeg_recording_2016-05-03\n",
      "Skipped file. Already present: eeg_recording_2016-05-03\n"
     ]
    },
    {
     "name": "stderr",
     "output_type": "stream",
     "text": [
      " 73%|██████████████████████████████████████████████▊                 | 748/1023 [56:14<21:58,  4.80s/it]"
     ]
    },
    {
     "name": "stdout",
     "output_type": "stream",
     "text": [
      "Skipped file. Already present: eeg_recording_2016-05-04\n",
      "Skipped file. Already present: eeg_recording_2016-05-04\n",
      "Skipped file. Already present: eeg_recording_2016-05-04\n",
      "Skipped file. Already present: eeg_recording_2016-05-04\n",
      "Skipped file. Already present: eeg_recording_2016-05-04\n"
     ]
    },
    {
     "name": "stderr",
     "output_type": "stream",
     "text": [
      " 73%|██████████████████████████████████████████████▊                 | 749/1023 [56:18<21:13,  4.65s/it]"
     ]
    },
    {
     "name": "stdout",
     "output_type": "stream",
     "text": [
      "Skipped file. Already present: eeg_recording_2016-05-04\n",
      "Skipped file. Already present: eeg_recording_2016-05-04\n",
      "Skipped file. Already present: eeg_recording_2016-05-04\n",
      "Skipped file. Already present: eeg_recording_2016-05-04\n",
      "Skipped file. Already present: eeg_recording_2016-05-04\n",
      "Skipped file. Already present: eeg_recording_2016-05-04\n",
      "Skipped file. Already present: eeg_recording_2016-05-04\n",
      "Skipped file. Already present: eeg_recording_2016-05-04\n"
     ]
    },
    {
     "name": "stderr",
     "output_type": "stream",
     "text": [
      " 73%|██████████████████████████████████████████████▉                 | 750/1023 [56:23<21:27,  4.72s/it]"
     ]
    },
    {
     "name": "stdout",
     "output_type": "stream",
     "text": [
      "Skipped file. Already present: eeg_recording_2016-05-04\n",
      "Skipped file. Already present: eeg_recording_2016-05-05\n",
      "Skipped file. Already present: eeg_recording_2016-05-05\n",
      "Skipped file. Already present: eeg_recording_2016-05-05\n",
      "Skipped file. Already present: eeg_recording_2016-05-05\n",
      "Skipped file. Already present: eeg_recording_2016-05-05\n"
     ]
    },
    {
     "name": "stderr",
     "output_type": "stream",
     "text": [
      " 73%|██████████████████████████████████████████████▉                 | 751/1023 [56:27<21:00,  4.63s/it]"
     ]
    },
    {
     "name": "stdout",
     "output_type": "stream",
     "text": [
      "Skipped file. Already present: eeg_recording_2016-05-05\n",
      "Skipped file. Already present: eeg_recording_2016-05-05\n",
      "Skipped file. Already present: eeg_recording_2016-05-05\n",
      "Skipped file. Already present: eeg_recording_2016-05-05\n",
      "Skipped file. Already present: eeg_recording_2016-05-05\n",
      "Skipped file. Already present: eeg_recording_2016-05-05\n",
      "Skipped file. Already present: eeg_recording_2016-05-05\n",
      "Skipped file. Already present: eeg_recording_2016-05-05\n"
     ]
    },
    {
     "name": "stderr",
     "output_type": "stream",
     "text": [
      " 74%|███████████████████████████████████████████████                 | 752/1023 [56:32<21:11,  4.69s/it]"
     ]
    },
    {
     "name": "stdout",
     "output_type": "stream",
     "text": [
      "Skipped file. Already present: eeg_recording_2016-05-05\n",
      "Skipped file. Already present: eeg_recording_2016-05-06\n",
      "Skipped file. Already present: eeg_recording_2016-05-06\n",
      "Skipped file. Already present: eeg_recording_2016-05-06\n",
      "Skipped file. Already present: eeg_recording_2016-05-06\n",
      "Skipped file. Already present: eeg_recording_2016-05-06\n"
     ]
    },
    {
     "name": "stderr",
     "output_type": "stream",
     "text": [
      " 74%|███████████████████████████████████████████████                 | 753/1023 [56:36<20:47,  4.62s/it]"
     ]
    },
    {
     "name": "stdout",
     "output_type": "stream",
     "text": [
      "Skipped file. Already present: eeg_recording_2016-05-06\n",
      "Skipped file. Already present: eeg_recording_2016-05-06\n",
      "Skipped file. Already present: eeg_recording_2016-05-06\n",
      "Skipped file. Already present: eeg_recording_2016-05-06\n",
      "Skipped file. Already present: eeg_recording_2016-05-06\n",
      "Skipped file. Already present: eeg_recording_2016-05-06\n",
      "Skipped file. Already present: eeg_recording_2016-05-06\n",
      "Skipped file. Already present: eeg_recording_2016-05-06\n"
     ]
    },
    {
     "name": "stderr",
     "output_type": "stream",
     "text": [
      " 74%|███████████████████████████████████████████████▏                | 754/1023 [56:41<20:58,  4.68s/it]"
     ]
    },
    {
     "name": "stdout",
     "output_type": "stream",
     "text": [
      "Skipped file. Already present: eeg_recording_2016-05-07\n",
      "Skipped file. Already present: eeg_recording_2016-05-07\n",
      "Skipped file. Already present: eeg_recording_2016-05-07\n",
      "Skipped file. Already present: eeg_recording_2016-05-07\n",
      "Skipped file. Already present: eeg_recording_2016-05-07\n"
     ]
    },
    {
     "name": "stderr",
     "output_type": "stream",
     "text": [
      " 74%|███████████████████████████████████████████████▏                | 755/1023 [56:46<20:35,  4.61s/it]"
     ]
    },
    {
     "name": "stdout",
     "output_type": "stream",
     "text": [
      "Skipped file. Already present: eeg_recording_2016-05-07\n",
      "Skipped file. Already present: eeg_recording_2016-05-07\n",
      "Skipped file. Already present: eeg_recording_2016-05-07\n",
      "Skipped file. Already present: eeg_recording_2016-05-07\n",
      "Skipped file. Already present: eeg_recording_2016-05-07\n",
      "Skipped file. Already present: eeg_recording_2016-05-07\n",
      "Skipped file. Already present: eeg_recording_2016-05-07\n",
      "Skipped file. Already present: eeg_recording_2016-05-07\n"
     ]
    },
    {
     "name": "stderr",
     "output_type": "stream",
     "text": [
      " 74%|███████████████████████████████████████████████▎                | 756/1023 [56:51<20:48,  4.68s/it]"
     ]
    },
    {
     "name": "stdout",
     "output_type": "stream",
     "text": [
      "Skipped file. Already present: eeg_recording_2016-05-08\n",
      "Skipped file. Already present: eeg_recording_2016-05-08\n",
      "Skipped file. Already present: eeg_recording_2016-05-08\n",
      "Skipped file. Already present: eeg_recording_2016-05-08\n",
      "Skipped file. Already present: eeg_recording_2016-05-08\n"
     ]
    },
    {
     "name": "stderr",
     "output_type": "stream",
     "text": [
      " 74%|███████████████████████████████████████████████▎                | 757/1023 [56:55<20:23,  4.60s/it]"
     ]
    },
    {
     "name": "stdout",
     "output_type": "stream",
     "text": [
      "Skipped file. Already present: eeg_recording_2016-05-08\n",
      "Skipped file. Already present: eeg_recording_2016-05-08\n",
      "Skipped file. Already present: eeg_recording_2016-05-08\n",
      "Skipped file. Already present: eeg_recording_2016-05-08\n",
      "Skipped file. Already present: eeg_recording_2016-05-08\n",
      "Skipped file. Already present: eeg_recording_2016-05-08\n",
      "Skipped file. Already present: eeg_recording_2016-05-08\n"
     ]
    },
    {
     "name": "stderr",
     "output_type": "stream",
     "text": [
      " 74%|███████████████████████████████████████████████▍                | 758/1023 [57:00<20:32,  4.65s/it]"
     ]
    },
    {
     "name": "stdout",
     "output_type": "stream",
     "text": [
      "Skipped file. Already present: eeg_recording_2016-05-09\n",
      "Skipped file. Already present: eeg_recording_2016-05-09\n",
      "Skipped file. Already present: eeg_recording_2016-05-09\n",
      "Skipped file. Already present: eeg_recording_2016-05-09\n",
      "Skipped file. Already present: eeg_recording_2016-05-09\n"
     ]
    },
    {
     "name": "stderr",
     "output_type": "stream",
     "text": [
      " 74%|███████████████████████████████████████████████▍                | 759/1023 [57:04<20:07,  4.57s/it]"
     ]
    },
    {
     "name": "stdout",
     "output_type": "stream",
     "text": [
      "Skipped file. Already present: eeg_recording_2016-05-09\n",
      "Skipped file. Already present: eeg_recording_2016-05-09\n",
      "Skipped file. Already present: eeg_recording_2016-05-09\n",
      "Skipped file. Already present: eeg_recording_2016-05-09\n",
      "Skipped file. Already present: eeg_recording_2016-05-09\n",
      "Skipped file. Already present: eeg_recording_2016-05-09\n",
      "Skipped file. Already present: eeg_recording_2016-05-09\n"
     ]
    },
    {
     "name": "stderr",
     "output_type": "stream",
     "text": [
      " 74%|███████████████████████████████████████████████▌                | 760/1023 [57:09<20:06,  4.59s/it]"
     ]
    },
    {
     "name": "stdout",
     "output_type": "stream",
     "text": [
      "Skipped file. Already present: eeg_recording_2016-05-10\n",
      "Skipped file. Already present: eeg_recording_2016-05-10\n",
      "Skipped file. Already present: eeg_recording_2016-05-10\n",
      "Skipped file. Already present: eeg_recording_2016-05-10\n",
      "Skipped file. Already present: eeg_recording_2016-05-10\n"
     ]
    },
    {
     "name": "stderr",
     "output_type": "stream",
     "text": [
      " 74%|███████████████████████████████████████████████▌                | 761/1023 [57:13<20:00,  4.58s/it]"
     ]
    },
    {
     "name": "stdout",
     "output_type": "stream",
     "text": [
      "Skipped file. Already present: eeg_recording_2016-05-10\n",
      "Skipped file. Already present: eeg_recording_2016-05-10\n",
      "Skipped file. Already present: eeg_recording_2016-05-10\n",
      "Skipped file. Already present: eeg_recording_2016-05-10\n",
      "Skipped file. Already present: eeg_recording_2016-05-10\n",
      "Skipped file. Already present: eeg_recording_2016-05-10\n",
      "Skipped file. Already present: eeg_recording_2016-05-10\n",
      "Skipped file. Already present: eeg_recording_2016-05-10\n"
     ]
    },
    {
     "name": "stderr",
     "output_type": "stream",
     "text": [
      " 74%|███████████████████████████████████████████████▋                | 762/1023 [57:18<20:21,  4.68s/it]"
     ]
    },
    {
     "name": "stdout",
     "output_type": "stream",
     "text": [
      "Skipped file. Already present: eeg_recording_2016-05-11\n",
      "Skipped file. Already present: eeg_recording_2016-05-11\n",
      "Skipped file. Already present: eeg_recording_2016-05-11\n",
      "Skipped file. Already present: eeg_recording_2016-05-11\n",
      "Skipped file. Already present: eeg_recording_2016-05-11\n"
     ]
    },
    {
     "name": "stderr",
     "output_type": "stream",
     "text": [
      " 75%|███████████████████████████████████████████████▋                | 763/1023 [57:23<19:59,  4.61s/it]"
     ]
    },
    {
     "name": "stdout",
     "output_type": "stream",
     "text": [
      "Skipped file. Already present: eeg_recording_2016-05-11\n",
      "Skipped file. Already present: eeg_recording_2016-05-11\n",
      "Skipped file. Already present: eeg_recording_2016-05-11\n",
      "Skipped file. Already present: eeg_recording_2016-05-11\n",
      "Skipped file. Already present: eeg_recording_2016-05-11\n",
      "Skipped file. Already present: eeg_recording_2016-05-11\n",
      "Skipped file. Already present: eeg_recording_2016-05-11\n",
      "Skipped file. Already present: eeg_recording_2016-05-11\n"
     ]
    },
    {
     "name": "stderr",
     "output_type": "stream",
     "text": [
      " 75%|███████████████████████████████████████████████▊                | 764/1023 [57:28<20:36,  4.77s/it]"
     ]
    },
    {
     "name": "stdout",
     "output_type": "stream",
     "text": [
      "Skipped file. Already present: eeg_recording_2016-05-11\n",
      "Skipped file. Already present: eeg_recording_2016-05-12\n",
      "Skipped file. Already present: eeg_recording_2016-05-12\n",
      "Skipped file. Already present: eeg_recording_2016-05-12\n",
      "Skipped file. Already present: eeg_recording_2016-05-12\n",
      "Skipped file. Already present: eeg_recording_2016-05-12\n"
     ]
    },
    {
     "name": "stderr",
     "output_type": "stream",
     "text": [
      " 75%|███████████████████████████████████████████████▊                | 765/1023 [57:32<20:08,  4.68s/it]"
     ]
    },
    {
     "name": "stdout",
     "output_type": "stream",
     "text": [
      "Skipped file. Already present: eeg_recording_2016-05-12\n",
      "Skipped file. Already present: eeg_recording_2016-05-12\n",
      "Skipped file. Already present: eeg_recording_2016-05-12\n",
      "Skipped file. Already present: eeg_recording_2016-05-12\n",
      "Skipped file. Already present: eeg_recording_2016-05-12\n",
      "Skipped file. Already present: eeg_recording_2016-05-12\n",
      "Skipped file. Already present: eeg_recording_2016-05-12\n",
      "Skipped file. Already present: eeg_recording_2016-05-12\n"
     ]
    },
    {
     "name": "stderr",
     "output_type": "stream",
     "text": [
      " 75%|███████████████████████████████████████████████▉                | 766/1023 [57:37<20:39,  4.82s/it]"
     ]
    },
    {
     "name": "stdout",
     "output_type": "stream",
     "text": [
      "Skipped file. Already present: eeg_recording_2016-05-12\n",
      "Skipped file. Already present: eeg_recording_2016-05-13\n",
      "Skipped file. Already present: eeg_recording_2016-05-13\n",
      "Skipped file. Already present: eeg_recording_2016-05-13\n",
      "Skipped file. Already present: eeg_recording_2016-05-13\n",
      "Skipped file. Already present: eeg_recording_2016-05-13\n"
     ]
    },
    {
     "name": "stderr",
     "output_type": "stream",
     "text": [
      " 75%|███████████████████████████████████████████████▉                | 767/1023 [57:42<20:05,  4.71s/it]"
     ]
    },
    {
     "name": "stdout",
     "output_type": "stream",
     "text": [
      "Skipped file. Already present: eeg_recording_2016-05-13\n",
      "Skipped file. Already present: eeg_recording_2016-05-13\n",
      "Skipped file. Already present: eeg_recording_2016-05-13\n",
      "Skipped file. Already present: eeg_recording_2016-05-13\n",
      "Skipped file. Already present: eeg_recording_2016-05-13\n",
      "Skipped file. Already present: eeg_recording_2016-05-13\n",
      "Skipped file. Already present: eeg_recording_2016-05-13\n",
      "Skipped file. Already present: eeg_recording_2016-05-13\n"
     ]
    },
    {
     "name": "stderr",
     "output_type": "stream",
     "text": [
      " 75%|████████████████████████████████████████████████                | 768/1023 [57:47<20:27,  4.81s/it]"
     ]
    },
    {
     "name": "stdout",
     "output_type": "stream",
     "text": [
      "Skipped file. Already present: eeg_recording_2016-05-13\n",
      "Skipped file. Already present: eeg_recording_2016-05-14\n",
      "Skipped file. Already present: eeg_recording_2016-05-14\n",
      "Skipped file. Already present: eeg_recording_2016-05-14\n",
      "Skipped file. Already present: eeg_recording_2016-05-14\n",
      "Skipped file. Already present: eeg_recording_2016-05-14\n"
     ]
    },
    {
     "name": "stderr",
     "output_type": "stream",
     "text": [
      " 75%|████████████████████████████████████████████████                | 769/1023 [57:51<19:53,  4.70s/it]"
     ]
    },
    {
     "name": "stdout",
     "output_type": "stream",
     "text": [
      "Skipped file. Already present: eeg_recording_2016-05-14\n",
      "Skipped file. Already present: eeg_recording_2016-05-14\n",
      "Skipped file. Already present: eeg_recording_2016-05-14\n",
      "Skipped file. Already present: eeg_recording_2016-05-14\n",
      "Skipped file. Already present: eeg_recording_2016-05-14\n",
      "Skipped file. Already present: eeg_recording_2016-05-14\n",
      "Skipped file. Already present: eeg_recording_2016-05-14\n",
      "Skipped file. Already present: eeg_recording_2016-05-14\n"
     ]
    },
    {
     "name": "stderr",
     "output_type": "stream",
     "text": [
      " 75%|████████████████████████████████████████████████▏               | 770/1023 [57:57<20:25,  4.84s/it]"
     ]
    },
    {
     "name": "stdout",
     "output_type": "stream",
     "text": [
      "Skipped file. Already present: eeg_recording_2016-05-14\n",
      "Skipped file. Already present: eeg_recording_2016-05-15\n",
      "Skipped file. Already present: eeg_recording_2016-05-15\n",
      "Skipped file. Already present: eeg_recording_2016-05-15\n",
      "Skipped file. Already present: eeg_recording_2016-05-15\n",
      "Skipped file. Already present: eeg_recording_2016-05-15\n"
     ]
    },
    {
     "name": "stderr",
     "output_type": "stream",
     "text": [
      " 75%|████████████████████████████████████████████████▏               | 771/1023 [58:01<19:49,  4.72s/it]"
     ]
    },
    {
     "name": "stdout",
     "output_type": "stream",
     "text": [
      "Skipped file. Already present: eeg_recording_2016-05-15\n",
      "Skipped file. Already present: eeg_recording_2016-05-15\n",
      "Skipped file. Already present: eeg_recording_2016-05-15\n",
      "Skipped file. Already present: eeg_recording_2016-05-15\n",
      "Skipped file. Already present: eeg_recording_2016-05-15\n",
      "Skipped file. Already present: eeg_recording_2016-05-15\n",
      "Skipped file. Already present: eeg_recording_2016-05-15\n"
     ]
    },
    {
     "name": "stderr",
     "output_type": "stream",
     "text": [
      " 75%|████████████████████████████████████████████████▎               | 772/1023 [58:06<20:17,  4.85s/it]"
     ]
    },
    {
     "name": "stdout",
     "output_type": "stream",
     "text": [
      "Skipped file. Already present: eeg_recording_2016-05-15\n",
      "Skipped file. Already present: eeg_recording_2016-05-15\n",
      "Skipped file. Already present: eeg_recording_2016-05-15\n",
      "Skipped file. Already present: eeg_recording_2016-05-16\n",
      "Skipped file. Already present: eeg_recording_2016-05-16\n",
      "Skipped file. Already present: eeg_recording_2016-05-16\n",
      "Skipped file. Already present: eeg_recording_2016-05-16\n",
      "Skipped file. Already present: eeg_recording_2016-05-16\n"
     ]
    },
    {
     "name": "stderr",
     "output_type": "stream",
     "text": [
      " 76%|████████████████████████████████████████████████▎               | 773/1023 [58:11<19:43,  4.73s/it]"
     ]
    },
    {
     "name": "stdout",
     "output_type": "stream",
     "text": [
      "Skipped file. Already present: eeg_recording_2016-05-16\n",
      "Skipped file. Already present: eeg_recording_2016-05-16\n",
      "Skipped file. Already present: eeg_recording_2016-05-16\n",
      "Skipped file. Already present: eeg_recording_2016-05-16\n",
      "Skipped file. Already present: eeg_recording_2016-05-16\n",
      "Skipped file. Already present: eeg_recording_2016-05-16\n",
      "Skipped file. Already present: eeg_recording_2016-05-16\n"
     ]
    },
    {
     "name": "stderr",
     "output_type": "stream",
     "text": [
      " 76%|████████████████████████████████████████████████▍               | 774/1023 [58:16<20:06,  4.85s/it]"
     ]
    },
    {
     "name": "stdout",
     "output_type": "stream",
     "text": [
      "Skipped file. Already present: eeg_recording_2016-05-16\n",
      "Skipped file. Already present: eeg_recording_2016-05-16\n",
      "Skipped file. Already present: eeg_recording_2016-05-16\n",
      "Skipped file. Already present: eeg_recording_2016-05-17\n",
      "Skipped file. Already present: eeg_recording_2016-05-17\n",
      "Skipped file. Already present: eeg_recording_2016-05-17\n",
      "Skipped file. Already present: eeg_recording_2016-05-17\n",
      "Skipped file. Already present: eeg_recording_2016-05-17\n"
     ]
    },
    {
     "name": "stderr",
     "output_type": "stream",
     "text": [
      " 76%|████████████████████████████████████████████████▍               | 775/1023 [58:20<19:37,  4.75s/it]"
     ]
    },
    {
     "name": "stdout",
     "output_type": "stream",
     "text": [
      "Skipped file. Already present: eeg_recording_2016-05-17\n",
      "Skipped file. Already present: eeg_recording_2016-05-17\n",
      "Skipped file. Already present: eeg_recording_2016-05-17\n",
      "Skipped file. Already present: eeg_recording_2016-05-17\n",
      "Skipped file. Already present: eeg_recording_2016-05-17\n",
      "Skipped file. Already present: eeg_recording_2016-05-17\n",
      "Skipped file. Already present: eeg_recording_2016-05-17\n",
      "Skipped file. Already present: eeg_recording_2016-05-17\n"
     ]
    },
    {
     "name": "stderr",
     "output_type": "stream",
     "text": [
      " 76%|████████████████████████████████████████████████▌               | 776/1023 [58:25<20:01,  4.86s/it]"
     ]
    },
    {
     "name": "stdout",
     "output_type": "stream",
     "text": [
      "Skipped file. Already present: eeg_recording_2016-05-17\n",
      "Skipped file. Already present: eeg_recording_2016-05-18\n",
      "Skipped file. Already present: eeg_recording_2016-05-18\n",
      "Skipped file. Already present: eeg_recording_2016-05-18\n",
      "Skipped file. Already present: eeg_recording_2016-05-18\n",
      "Skipped file. Already present: eeg_recording_2016-05-18\n"
     ]
    },
    {
     "name": "stderr",
     "output_type": "stream",
     "text": [
      " 76%|████████████████████████████████████████████████▌               | 777/1023 [58:30<19:46,  4.82s/it]"
     ]
    },
    {
     "name": "stdout",
     "output_type": "stream",
     "text": [
      "Skipped file. Already present: eeg_recording_2016-05-18\n",
      "Skipped file. Already present: eeg_recording_2016-05-18\n",
      "Skipped file. Already present: eeg_recording_2016-05-18\n",
      "Skipped file. Already present: eeg_recording_2016-05-18\n",
      "Skipped file. Already present: eeg_recording_2016-05-18\n",
      "Skipped file. Already present: eeg_recording_2016-05-18\n",
      "Skipped file. Already present: eeg_recording_2016-05-18\n",
      "Skipped file. Already present: eeg_recording_2016-05-18\n"
     ]
    },
    {
     "name": "stderr",
     "output_type": "stream",
     "text": [
      " 76%|████████████████████████████████████████████████▋               | 778/1023 [58:35<20:14,  4.96s/it]"
     ]
    },
    {
     "name": "stdout",
     "output_type": "stream",
     "text": [
      "Skipped file. Already present: eeg_recording_2016-05-18\n",
      "Skipped file. Already present: eeg_recording_2016-05-18\n",
      "Skipped file. Already present: eeg_recording_2016-05-19\n",
      "Skipped file. Already present: eeg_recording_2016-05-19\n",
      "Skipped file. Already present: eeg_recording_2016-05-19\n",
      "Skipped file. Already present: eeg_recording_2016-05-19\n",
      "Skipped file. Already present: eeg_recording_2016-05-19\n"
     ]
    },
    {
     "name": "stderr",
     "output_type": "stream",
     "text": [
      " 76%|████████████████████████████████████████████████▋               | 779/1023 [58:40<19:48,  4.87s/it]"
     ]
    },
    {
     "name": "stdout",
     "output_type": "stream",
     "text": [
      "Skipped file. Already present: eeg_recording_2016-05-19\n",
      "Skipped file. Already present: eeg_recording_2016-05-19\n",
      "Skipped file. Already present: eeg_recording_2016-05-19\n",
      "Skipped file. Already present: eeg_recording_2016-05-19\n",
      "Skipped file. Already present: eeg_recording_2016-05-19\n",
      "Skipped file. Already present: eeg_recording_2016-05-19\n",
      "Skipped file. Already present: eeg_recording_2016-05-19\n",
      "Skipped file. Already present: eeg_recording_2016-05-19\n",
      "Skipped file. Already present: eeg_recording_2016-05-19\n"
     ]
    },
    {
     "name": "stderr",
     "output_type": "stream",
     "text": [
      " 76%|████████████████████████████████████████████████▊               | 780/1023 [58:45<20:25,  5.04s/it]"
     ]
    },
    {
     "name": "stdout",
     "output_type": "stream",
     "text": [
      "Skipped file. Already present: eeg_recording_2016-05-19\n",
      "Skipped file. Already present: eeg_recording_2016-05-19\n",
      "Skipped file. Already present: eeg_recording_2016-05-20\n",
      "Skipped file. Already present: eeg_recording_2016-05-20\n",
      "Skipped file. Already present: eeg_recording_2016-05-20\n",
      "Skipped file. Already present: eeg_recording_2016-05-20\n",
      "Skipped file. Already present: eeg_recording_2016-05-20\n"
     ]
    },
    {
     "name": "stderr",
     "output_type": "stream",
     "text": [
      " 76%|████████████████████████████████████████████████▊               | 781/1023 [58:50<19:39,  4.87s/it]"
     ]
    },
    {
     "name": "stdout",
     "output_type": "stream",
     "text": [
      "Skipped file. Already present: eeg_recording_2016-05-20\n",
      "Skipped file. Already present: eeg_recording_2016-05-20\n",
      "Skipped file. Already present: eeg_recording_2016-05-20\n",
      "Skipped file. Already present: eeg_recording_2016-05-20\n",
      "Skipped file. Already present: eeg_recording_2016-05-20\n",
      "Skipped file. Already present: eeg_recording_2016-05-20\n",
      "Skipped file. Already present: eeg_recording_2016-05-20\n"
     ]
    },
    {
     "name": "stderr",
     "output_type": "stream",
     "text": [
      " 76%|████████████████████████████████████████████████▉               | 782/1023 [58:55<20:09,  5.02s/it]"
     ]
    },
    {
     "name": "stdout",
     "output_type": "stream",
     "text": [
      "Skipped file. Already present: eeg_recording_2016-05-20\n",
      "Skipped file. Already present: eeg_recording_2016-05-20\n",
      "Skipped file. Already present: eeg_recording_2016-05-20\n",
      "Skipped file. Already present: eeg_recording_2016-05-21\n",
      "Skipped file. Already present: eeg_recording_2016-05-21\n",
      "Skipped file. Already present: eeg_recording_2016-05-21\n",
      "Skipped file. Already present: eeg_recording_2016-05-21\n",
      "Skipped file. Already present: eeg_recording_2016-05-21\n"
     ]
    },
    {
     "name": "stderr",
     "output_type": "stream",
     "text": [
      " 77%|████████████████████████████████████████████████▉               | 783/1023 [59:00<19:21,  4.84s/it]"
     ]
    },
    {
     "name": "stdout",
     "output_type": "stream",
     "text": [
      "Skipped file. Already present: eeg_recording_2016-05-21\n",
      "Skipped file. Already present: eeg_recording_2016-05-21\n",
      "Skipped file. Already present: eeg_recording_2016-05-21\n",
      "Skipped file. Already present: eeg_recording_2016-05-21\n",
      "Skipped file. Already present: eeg_recording_2016-05-21\n",
      "Skipped file. Already present: eeg_recording_2016-05-21\n",
      "Skipped file. Already present: eeg_recording_2016-05-21\n"
     ]
    },
    {
     "name": "stderr",
     "output_type": "stream",
     "text": [
      " 77%|█████████████████████████████████████████████████               | 784/1023 [59:05<19:52,  4.99s/it]"
     ]
    },
    {
     "name": "stdout",
     "output_type": "stream",
     "text": [
      "Skipped file. Already present: eeg_recording_2016-05-21\n",
      "Skipped file. Already present: eeg_recording_2016-05-21\n",
      "Skipped file. Already present: eeg_recording_2016-05-21\n",
      "Skipped file. Already present: eeg_recording_2016-05-22\n",
      "Skipped file. Already present: eeg_recording_2016-05-22\n",
      "Skipped file. Already present: eeg_recording_2016-05-22\n",
      "Skipped file. Already present: eeg_recording_2016-05-22\n",
      "Skipped file. Already present: eeg_recording_2016-05-22\n"
     ]
    },
    {
     "name": "stderr",
     "output_type": "stream",
     "text": [
      " 77%|█████████████████████████████████████████████████               | 785/1023 [59:10<19:10,  4.83s/it]"
     ]
    },
    {
     "name": "stdout",
     "output_type": "stream",
     "text": [
      "Skipped file. Already present: eeg_recording_2016-05-22\n",
      "Skipped file. Already present: eeg_recording_2016-05-22\n",
      "Skipped file. Already present: eeg_recording_2016-05-22\n",
      "Skipped file. Already present: eeg_recording_2016-05-22\n",
      "Skipped file. Already present: eeg_recording_2016-05-22\n",
      "Skipped file. Already present: eeg_recording_2016-05-22\n",
      "Skipped file. Already present: eeg_recording_2016-05-22\n",
      "Skipped file. Already present: eeg_recording_2016-05-22\n"
     ]
    },
    {
     "name": "stderr",
     "output_type": "stream",
     "text": [
      " 77%|█████████████████████████████████████████████████▏              | 786/1023 [59:15<19:42,  4.99s/it]"
     ]
    },
    {
     "name": "stdout",
     "output_type": "stream",
     "text": [
      "Skipped file. Already present: eeg_recording_2016-05-22\n",
      "Skipped file. Already present: eeg_recording_2016-05-23\n",
      "Skipped file. Already present: eeg_recording_2016-05-23\n",
      "Skipped file. Already present: eeg_recording_2016-05-23\n",
      "Skipped file. Already present: eeg_recording_2016-05-23\n",
      "Skipped file. Already present: eeg_recording_2016-05-23\n"
     ]
    },
    {
     "name": "stderr",
     "output_type": "stream",
     "text": [
      " 77%|█████████████████████████████████████████████████▏              | 787/1023 [59:19<19:03,  4.85s/it]"
     ]
    },
    {
     "name": "stdout",
     "output_type": "stream",
     "text": [
      "Skipped file. Already present: eeg_recording_2016-05-23\n",
      "Skipped file. Already present: eeg_recording_2016-05-24\n",
      "Skipped file. Already present: eeg_recording_2016-05-24\n",
      "Skipped file. Already present: eeg_recording_2016-05-24\n",
      "Skipped file. Already present: eeg_recording_2016-05-24\n",
      "Skipped file. Already present: eeg_recording_2016-05-24\n"
     ]
    },
    {
     "name": "stderr",
     "output_type": "stream",
     "text": [
      " 77%|█████████████████████████████████████████████████▎              | 788/1023 [59:24<18:57,  4.84s/it]"
     ]
    },
    {
     "name": "stdout",
     "output_type": "stream",
     "text": [
      "Skipped file. Already present: eeg_recording_2016-05-24\n",
      "Skipped file. Already present: eeg_recording_2016-05-24\n",
      "Skipped file. Already present: eeg_recording_2016-05-24\n",
      "Skipped file. Already present: eeg_recording_2016-05-24\n",
      "Skipped file. Already present: eeg_recording_2016-05-24\n",
      "Skipped file. Already present: eeg_recording_2016-05-24\n",
      "Skipped file. Already present: eeg_recording_2016-05-24\n",
      "Skipped file. Already present: eeg_recording_2016-05-24\n",
      "Skipped file. Already present: eeg_recording_2016-05-24\n",
      "Skipped file. Already present: eeg_recording_2016-05-24\n"
     ]
    },
    {
     "name": "stderr",
     "output_type": "stream",
     "text": [
      " 77%|█████████████████████████████████████████████████▎              | 789/1023 [59:30<19:26,  4.98s/it]"
     ]
    },
    {
     "name": "stdout",
     "output_type": "stream",
     "text": [
      "Skipped file. Already present: eeg_recording_2016-05-25\n",
      "Skipped file. Already present: eeg_recording_2016-05-25\n",
      "Skipped file. Already present: eeg_recording_2016-05-25\n",
      "Skipped file. Already present: eeg_recording_2016-05-25\n",
      "Skipped file. Already present: eeg_recording_2016-05-25\n"
     ]
    },
    {
     "name": "stderr",
     "output_type": "stream",
     "text": [
      " 77%|█████████████████████████████████████████████████▍              | 790/1023 [59:34<18:58,  4.89s/it]"
     ]
    },
    {
     "name": "stdout",
     "output_type": "stream",
     "text": [
      "Skipped file. Already present: eeg_recording_2016-05-25\n",
      "Skipped file. Already present: eeg_recording_2016-05-25\n",
      "Skipped file. Already present: eeg_recording_2016-05-25\n",
      "Skipped file. Already present: eeg_recording_2016-05-25\n",
      "Skipped file. Already present: eeg_recording_2016-05-25\n",
      "Skipped file. Already present: eeg_recording_2016-05-25\n",
      "Skipped file. Already present: eeg_recording_2016-05-25\n",
      "Skipped file. Already present: eeg_recording_2016-05-25\n",
      "Skipped file. Already present: eeg_recording_2016-05-25\n",
      "Skipped file. Already present: eeg_recording_2016-05-25\n",
      "Skipped file. Already present: eeg_recording_2016-05-25\n",
      "Skipped file. Already present: eeg_recording_2016-05-25\n",
      "Skipped file. Already present: eeg_recording_2016-05-25\n"
     ]
    },
    {
     "name": "stderr",
     "output_type": "stream",
     "text": [
      " 77%|█████████████████████████████████████████████████▍              | 791/1023 [59:40<20:00,  5.18s/it]"
     ]
    },
    {
     "name": "stdout",
     "output_type": "stream",
     "text": [
      "Skipped file. Already present: eeg_recording_2016-05-26\n",
      "Skipped file. Already present: eeg_recording_2016-05-26\n",
      "Skipped file. Already present: eeg_recording_2016-05-26\n",
      "Skipped file. Already present: eeg_recording_2016-05-26\n",
      "Skipped file. Already present: eeg_recording_2016-05-26\n"
     ]
    },
    {
     "name": "stderr",
     "output_type": "stream",
     "text": [
      " 77%|█████████████████████████████████████████████████▌              | 792/1023 [59:45<19:25,  5.04s/it]"
     ]
    },
    {
     "name": "stdout",
     "output_type": "stream",
     "text": [
      "Skipped file. Already present: eeg_recording_2016-05-26\n",
      "Skipped file. Already present: eeg_recording_2016-05-26\n",
      "Skipped file. Already present: eeg_recording_2016-05-26\n",
      "Skipped file. Already present: eeg_recording_2016-05-26\n",
      "Skipped file. Already present: eeg_recording_2016-05-26\n",
      "Skipped file. Already present: eeg_recording_2016-05-26\n",
      "Skipped file. Already present: eeg_recording_2016-05-26\n",
      "Skipped file. Already present: eeg_recording_2016-05-26\n",
      "Skipped file. Already present: eeg_recording_2016-05-26\n",
      "Skipped file. Already present: eeg_recording_2016-05-26\n",
      "Skipped file. Already present: eeg_recording_2016-05-26\n",
      "Skipped file. Already present: eeg_recording_2016-05-26\n"
     ]
    },
    {
     "name": "stderr",
     "output_type": "stream",
     "text": [
      " 78%|█████████████████████████████████████████████████▌              | 793/1023 [59:50<19:53,  5.19s/it]"
     ]
    },
    {
     "name": "stdout",
     "output_type": "stream",
     "text": [
      "Skipped file. Already present: eeg_recording_2016-05-27\n",
      "Skipped file. Already present: eeg_recording_2016-05-27\n",
      "Skipped file. Already present: eeg_recording_2016-05-27\n",
      "Skipped file. Already present: eeg_recording_2016-05-27\n",
      "Skipped file. Already present: eeg_recording_2016-05-27\n"
     ]
    },
    {
     "name": "stderr",
     "output_type": "stream",
     "text": [
      " 78%|█████████████████████████████████████████████████▋              | 794/1023 [59:55<19:00,  4.98s/it]"
     ]
    },
    {
     "name": "stdout",
     "output_type": "stream",
     "text": [
      "Skipped file. Already present: eeg_recording_2016-05-27\n",
      "Skipped file. Already present: eeg_recording_2016-05-27\n",
      "Skipped file. Already present: eeg_recording_2016-05-27\n",
      "Skipped file. Already present: eeg_recording_2016-05-27\n",
      "Skipped file. Already present: eeg_recording_2016-05-27\n",
      "Skipped file. Already present: eeg_recording_2016-05-27\n",
      "Skipped file. Already present: eeg_recording_2016-05-27\n",
      "Skipped file. Already present: eeg_recording_2016-05-27\n"
     ]
    },
    {
     "name": "stderr",
     "output_type": "stream",
     "text": [
      " 78%|████████████████████████████████████████████████▏             | 795/1023 [1:00:01<19:49,  5.22s/it]"
     ]
    },
    {
     "name": "stdout",
     "output_type": "stream",
     "text": [
      "Skipped file. Already present: eeg_recording_2016-05-27\n",
      "Skipped file. Already present: eeg_recording_2016-05-27\n",
      "Skipped file. Already present: eeg_recording_2016-05-27\n",
      "Skipped file. Already present: eeg_recording_2016-05-28\n",
      "Skipped file. Already present: eeg_recording_2016-05-28\n",
      "Skipped file. Already present: eeg_recording_2016-05-28\n",
      "Skipped file. Already present: eeg_recording_2016-05-28\n",
      "Skipped file. Already present: eeg_recording_2016-05-28\n"
     ]
    },
    {
     "name": "stderr",
     "output_type": "stream",
     "text": [
      " 78%|████████████████████████████████████████████████▏             | 796/1023 [1:00:05<18:22,  4.86s/it]"
     ]
    },
    {
     "name": "stdout",
     "output_type": "stream",
     "text": [
      "Skipped file. Already present: eeg_recording_2016-05-28\n",
      "Skipped file. Already present: eeg_recording_2016-05-28\n",
      "Skipped file. Already present: eeg_recording_2016-05-28\n",
      "Skipped file. Already present: eeg_recording_2016-05-28\n",
      "Skipped file. Already present: eeg_recording_2016-05-28\n",
      "Skipped file. Already present: eeg_recording_2016-05-28\n"
     ]
    },
    {
     "name": "stderr",
     "output_type": "stream",
     "text": [
      " 78%|████████████████████████████████████████████████▎             | 797/1023 [1:00:10<19:20,  5.13s/it]"
     ]
    },
    {
     "name": "stdout",
     "output_type": "stream",
     "text": [
      "Skipped file. Already present: eeg_recording_2016-05-28\n",
      "Skipped file. Already present: eeg_recording_2016-05-28\n",
      "Skipped file. Already present: eeg_recording_2016-05-28\n",
      "Skipped file. Already present: eeg_recording_2016-05-28\n",
      "Skipped file. Already present: eeg_recording_2016-05-29\n",
      "Skipped file. Already present: eeg_recording_2016-05-29\n",
      "Skipped file. Already present: eeg_recording_2016-05-29\n",
      "Skipped file. Already present: eeg_recording_2016-05-29\n",
      "Skipped file. Already present: eeg_recording_2016-05-29\n"
     ]
    },
    {
     "name": "stderr",
     "output_type": "stream",
     "text": [
      " 78%|████████████████████████████████████████████████▎             | 798/1023 [1:00:14<18:02,  4.81s/it]"
     ]
    },
    {
     "name": "stdout",
     "output_type": "stream",
     "text": [
      "Skipped file. Already present: eeg_recording_2016-05-29\n",
      "Skipped file. Already present: eeg_recording_2016-05-29\n",
      "Skipped file. Already present: eeg_recording_2016-05-29\n",
      "Skipped file. Already present: eeg_recording_2016-05-29\n",
      "Skipped file. Already present: eeg_recording_2016-05-29\n",
      "Skipped file. Already present: eeg_recording_2016-05-29\n",
      "Skipped file. Already present: eeg_recording_2016-05-29\n"
     ]
    },
    {
     "name": "stderr",
     "output_type": "stream",
     "text": [
      " 78%|████████████████████████████████████████████████▍             | 799/1023 [1:00:20<19:03,  5.11s/it]"
     ]
    },
    {
     "name": "stdout",
     "output_type": "stream",
     "text": [
      "Skipped file. Already present: eeg_recording_2016-05-29\n",
      "Skipped file. Already present: eeg_recording_2016-05-29\n",
      "Skipped file. Already present: eeg_recording_2016-05-29\n",
      "Skipped file. Already present: eeg_recording_2016-05-30\n",
      "Skipped file. Already present: eeg_recording_2016-05-30\n",
      "Skipped file. Already present: eeg_recording_2016-05-30\n",
      "Skipped file. Already present: eeg_recording_2016-05-30\n",
      "Skipped file. Already present: eeg_recording_2016-05-30\n"
     ]
    },
    {
     "name": "stderr",
     "output_type": "stream",
     "text": [
      " 78%|████████████████████████████████████████████████▍             | 800/1023 [1:00:25<18:06,  4.87s/it]"
     ]
    },
    {
     "name": "stdout",
     "output_type": "stream",
     "text": [
      "Skipped file. Already present: eeg_recording_2016-05-30\n",
      "Skipped file. Already present: eeg_recording_2016-05-30\n",
      "Skipped file. Already present: eeg_recording_2016-05-30\n",
      "Skipped file. Already present: eeg_recording_2016-05-30\n",
      "Skipped file. Already present: eeg_recording_2016-05-30\n",
      "Skipped file. Already present: eeg_recording_2016-05-30\n",
      "Skipped file. Already present: eeg_recording_2016-05-30\n"
     ]
    },
    {
     "name": "stderr",
     "output_type": "stream",
     "text": [
      " 78%|████████████████████████████████████████████████▌             | 801/1023 [1:00:30<19:02,  5.15s/it]"
     ]
    },
    {
     "name": "stdout",
     "output_type": "stream",
     "text": [
      "Skipped file. Already present: eeg_recording_2016-05-30\n",
      "Skipped file. Already present: eeg_recording_2016-05-30\n",
      "Skipped file. Already present: eeg_recording_2016-05-30\n",
      "Skipped file. Already present: eeg_recording_2016-05-31\n",
      "Skipped file. Already present: eeg_recording_2016-05-31\n",
      "Skipped file. Already present: eeg_recording_2016-05-31\n",
      "Skipped file. Already present: eeg_recording_2016-05-31\n",
      "Skipped file. Already present: eeg_recording_2016-05-31\n"
     ]
    },
    {
     "name": "stderr",
     "output_type": "stream",
     "text": [
      " 78%|████████████████████████████████████████████████▌             | 802/1023 [1:00:35<18:29,  5.02s/it]"
     ]
    },
    {
     "name": "stdout",
     "output_type": "stream",
     "text": [
      "Skipped file. Already present: eeg_recording_2016-05-31\n",
      "Skipped file. Already present: eeg_recording_2016-05-31\n",
      "Skipped file. Already present: eeg_recording_2016-05-31\n",
      "Skipped file. Already present: eeg_recording_2016-05-31\n",
      "Skipped file. Already present: eeg_recording_2016-05-31\n",
      "Skipped file. Already present: eeg_recording_2016-05-31\n"
     ]
    },
    {
     "name": "stderr",
     "output_type": "stream",
     "text": [
      " 78%|████████████████████████████████████████████████▋             | 803/1023 [1:00:41<19:03,  5.20s/it]"
     ]
    },
    {
     "name": "stdout",
     "output_type": "stream",
     "text": [
      "Skipped file. Already present: eeg_recording_2016-05-31\n",
      "Skipped file. Already present: eeg_recording_2016-05-31\n",
      "Skipped file. Already present: eeg_recording_2016-05-31\n",
      "Skipped file. Already present: eeg_recording_2016-06-01\n",
      "Skipped file. Already present: eeg_recording_2016-06-01\n",
      "Skipped file. Already present: eeg_recording_2016-06-01\n",
      "Skipped file. Already present: eeg_recording_2016-06-01\n",
      "Skipped file. Already present: eeg_recording_2016-06-01\n",
      "Skipped file. Already present: eeg_recording_2016-06-01\n"
     ]
    },
    {
     "name": "stderr",
     "output_type": "stream",
     "text": [
      " 79%|████████████████████████████████████████████████▋             | 804/1023 [1:00:45<18:17,  5.01s/it]"
     ]
    },
    {
     "name": "stdout",
     "output_type": "stream",
     "text": [
      "Skipped file. Already present: eeg_recording_2016-06-01\n",
      "Skipped file. Already present: eeg_recording_2016-06-01\n",
      "Skipped file. Already present: eeg_recording_2016-06-01\n",
      "Skipped file. Already present: eeg_recording_2016-06-01\n",
      "Skipped file. Already present: eeg_recording_2016-06-01\n",
      "Skipped file. Already present: eeg_recording_2016-06-01\n",
      "Skipped file. Already present: eeg_recording_2016-06-01\n"
     ]
    },
    {
     "name": "stderr",
     "output_type": "stream",
     "text": [
      " 79%|████████████████████████████████████████████████▊             | 805/1023 [1:00:51<18:43,  5.15s/it]"
     ]
    },
    {
     "name": "stdout",
     "output_type": "stream",
     "text": [
      "Skipped file. Already present: eeg_recording_2016-06-01\n",
      "Skipped file. Already present: eeg_recording_2016-06-01\n",
      "Skipped file. Already present: eeg_recording_2016-06-01\n",
      "Skipped file. Already present: eeg_recording_2016-06-02\n",
      "Skipped file. Already present: eeg_recording_2016-06-02\n",
      "Skipped file. Already present: eeg_recording_2016-06-02\n",
      "Skipped file. Already present: eeg_recording_2016-06-02\n",
      "Skipped file. Already present: eeg_recording_2016-06-02\n",
      "Skipped file. Already present: eeg_recording_2016-06-02\n"
     ]
    },
    {
     "name": "stderr",
     "output_type": "stream",
     "text": [
      " 79%|████████████████████████████████████████████████▊             | 806/1023 [1:00:55<18:10,  5.03s/it]"
     ]
    },
    {
     "name": "stdout",
     "output_type": "stream",
     "text": [
      "Skipped file. Already present: eeg_recording_2016-06-02\n",
      "Skipped file. Already present: eeg_recording_2016-06-02\n",
      "Skipped file. Already present: eeg_recording_2016-06-02\n",
      "Skipped file. Already present: eeg_recording_2016-06-02\n",
      "Skipped file. Already present: eeg_recording_2016-06-02\n",
      "Skipped file. Already present: eeg_recording_2016-06-02\n",
      "Skipped file. Already present: eeg_recording_2016-06-02\n",
      "Skipped file. Already present: eeg_recording_2016-06-02\n"
     ]
    },
    {
     "name": "stderr",
     "output_type": "stream",
     "text": [
      " 79%|████████████████████████████████████████████████▉             | 807/1023 [1:01:01<18:12,  5.06s/it]"
     ]
    },
    {
     "name": "stdout",
     "output_type": "stream",
     "text": [
      "Skipped file. Already present: eeg_recording_2016-06-02\n",
      "Skipped file. Already present: eeg_recording_2016-06-03\n",
      "Skipped file. Already present: eeg_recording_2016-06-03\n",
      "Skipped file. Already present: eeg_recording_2016-06-03\n",
      "Skipped file. Already present: eeg_recording_2016-06-03\n",
      "Skipped file. Already present: eeg_recording_2016-06-03\n",
      "Skipped file. Already present: eeg_recording_2016-06-03\n"
     ]
    },
    {
     "name": "stderr",
     "output_type": "stream",
     "text": [
      " 79%|████████████████████████████████████████████████▉             | 808/1023 [1:01:05<17:46,  4.96s/it]"
     ]
    },
    {
     "name": "stdout",
     "output_type": "stream",
     "text": [
      "Skipped file. Already present: eeg_recording_2016-06-03\n",
      "Skipped file. Already present: eeg_recording_2016-06-03\n",
      "Skipped file. Already present: eeg_recording_2016-06-03\n",
      "Skipped file. Already present: eeg_recording_2016-06-03\n",
      "Skipped file. Already present: eeg_recording_2016-06-03\n",
      "Skipped file. Already present: eeg_recording_2016-06-03\n",
      "Skipped file. Already present: eeg_recording_2016-06-03\n",
      "Skipped file. Already present: eeg_recording_2016-06-03\n"
     ]
    },
    {
     "name": "stderr",
     "output_type": "stream",
     "text": [
      " 79%|█████████████████████████████████████████████████             | 809/1023 [1:01:10<17:52,  5.01s/it]"
     ]
    },
    {
     "name": "stdout",
     "output_type": "stream",
     "text": [
      "Skipped file. Already present: eeg_recording_2016-06-03\n",
      "Skipped file. Already present: eeg_recording_2016-06-03\n",
      "Skipped file. Already present: eeg_recording_2016-06-04\n",
      "Skipped file. Already present: eeg_recording_2016-06-04\n",
      "Skipped file. Already present: eeg_recording_2016-06-04\n",
      "Skipped file. Already present: eeg_recording_2016-06-04\n",
      "Skipped file. Already present: eeg_recording_2016-06-04\n",
      "Skipped file. Already present: eeg_recording_2016-06-04\n"
     ]
    },
    {
     "name": "stderr",
     "output_type": "stream",
     "text": [
      " 79%|█████████████████████████████████████████████████             | 810/1023 [1:01:15<17:30,  4.93s/it]"
     ]
    },
    {
     "name": "stdout",
     "output_type": "stream",
     "text": [
      "Skipped file. Already present: eeg_recording_2016-06-04\n",
      "Skipped file. Already present: eeg_recording_2016-06-04\n",
      "Skipped file. Already present: eeg_recording_2016-06-04\n",
      "Skipped file. Already present: eeg_recording_2016-06-04\n",
      "Skipped file. Already present: eeg_recording_2016-06-04\n",
      "Skipped file. Already present: eeg_recording_2016-06-04\n",
      "Skipped file. Already present: eeg_recording_2016-06-04\n",
      "Skipped file. Already present: eeg_recording_2016-06-04\n"
     ]
    },
    {
     "name": "stderr",
     "output_type": "stream",
     "text": [
      " 79%|█████████████████████████████████████████████████▏            | 811/1023 [1:01:20<17:41,  5.01s/it]"
     ]
    },
    {
     "name": "stdout",
     "output_type": "stream",
     "text": [
      "Skipped file. Already present: eeg_recording_2016-06-04\n",
      "Skipped file. Already present: eeg_recording_2016-06-04\n",
      "Skipped file. Already present: eeg_recording_2016-06-05\n",
      "Skipped file. Already present: eeg_recording_2016-06-05\n",
      "Skipped file. Already present: eeg_recording_2016-06-05\n",
      "Skipped file. Already present: eeg_recording_2016-06-05\n",
      "Skipped file. Already present: eeg_recording_2016-06-05\n",
      "Skipped file. Already present: eeg_recording_2016-06-05\n"
     ]
    },
    {
     "name": "stderr",
     "output_type": "stream",
     "text": [
      " 79%|█████████████████████████████████████████████████▏            | 812/1023 [1:01:25<17:22,  4.94s/it]"
     ]
    },
    {
     "name": "stdout",
     "output_type": "stream",
     "text": [
      "Skipped file. Already present: eeg_recording_2016-06-05\n",
      "Skipped file. Already present: eeg_recording_2016-06-05\n",
      "Skipped file. Already present: eeg_recording_2016-06-05\n",
      "Skipped file. Already present: eeg_recording_2016-06-05\n",
      "Skipped file. Already present: eeg_recording_2016-06-05\n",
      "Skipped file. Already present: eeg_recording_2016-06-05\n",
      "Skipped file. Already present: eeg_recording_2016-06-05\n",
      "Skipped file. Already present: eeg_recording_2016-06-05\n",
      "Skipped file. Already present: eeg_recording_2016-06-05\n"
     ]
    },
    {
     "name": "stderr",
     "output_type": "stream",
     "text": [
      " 79%|█████████████████████████████████████████████████▎            | 813/1023 [1:01:30<17:29,  5.00s/it]"
     ]
    },
    {
     "name": "stdout",
     "output_type": "stream",
     "text": [
      "Skipped file. Already present: eeg_recording_2016-06-05\n",
      "Skipped file. Already present: eeg_recording_2016-06-06\n",
      "Skipped file. Already present: eeg_recording_2016-06-06\n",
      "Skipped file. Already present: eeg_recording_2016-06-06\n",
      "Skipped file. Already present: eeg_recording_2016-06-06\n",
      "Skipped file. Already present: eeg_recording_2016-06-06\n",
      "Skipped file. Already present: eeg_recording_2016-06-06\n"
     ]
    },
    {
     "name": "stderr",
     "output_type": "stream",
     "text": [
      " 80%|█████████████████████████████████████████████████▎            | 814/1023 [1:01:35<17:07,  4.92s/it]"
     ]
    },
    {
     "name": "stdout",
     "output_type": "stream",
     "text": [
      "Skipped file. Already present: eeg_recording_2016-06-06\n",
      "Skipped file. Already present: eeg_recording_2016-06-06\n",
      "Skipped file. Already present: eeg_recording_2016-06-06\n",
      "Skipped file. Already present: eeg_recording_2016-06-06\n",
      "Skipped file. Already present: eeg_recording_2016-06-06\n",
      "Skipped file. Already present: eeg_recording_2016-06-06\n",
      "Skipped file. Already present: eeg_recording_2016-06-06\n",
      "Skipped file. Already present: eeg_recording_2016-06-06\n"
     ]
    },
    {
     "name": "stderr",
     "output_type": "stream",
     "text": [
      " 80%|█████████████████████████████████████████████████▍            | 815/1023 [1:01:40<17:16,  4.98s/it]"
     ]
    },
    {
     "name": "stdout",
     "output_type": "stream",
     "text": [
      "Skipped file. Already present: eeg_recording_2016-06-06\n",
      "Skipped file. Already present: eeg_recording_2016-06-06\n",
      "Skipped file. Already present: eeg_recording_2016-06-07\n",
      "Skipped file. Already present: eeg_recording_2016-06-07\n",
      "Skipped file. Already present: eeg_recording_2016-06-07\n",
      "Skipped file. Already present: eeg_recording_2016-06-07\n",
      "Skipped file. Already present: eeg_recording_2016-06-07\n",
      "Skipped file. Already present: eeg_recording_2016-06-07\n"
     ]
    },
    {
     "name": "stderr",
     "output_type": "stream",
     "text": [
      " 80%|█████████████████████████████████████████████████▍            | 816/1023 [1:01:45<16:55,  4.91s/it]"
     ]
    },
    {
     "name": "stdout",
     "output_type": "stream",
     "text": [
      "Skipped file. Already present: eeg_recording_2016-06-07\n",
      "Skipped file. Already present: eeg_recording_2016-06-07\n",
      "Skipped file. Already present: eeg_recording_2016-06-07\n",
      "Skipped file. Already present: eeg_recording_2016-06-07\n",
      "Skipped file. Already present: eeg_recording_2016-06-07\n",
      "Skipped file. Already present: eeg_recording_2016-06-07\n",
      "Skipped file. Already present: eeg_recording_2016-06-07\n",
      "Skipped file. Already present: eeg_recording_2016-06-07\n",
      "Skipped file. Already present: eeg_recording_2016-06-07\n"
     ]
    },
    {
     "name": "stderr",
     "output_type": "stream",
     "text": [
      " 80%|█████████████████████████████████████████████████▌            | 817/1023 [1:01:50<17:05,  4.98s/it]"
     ]
    },
    {
     "name": "stdout",
     "output_type": "stream",
     "text": [
      "Skipped file. Already present: eeg_recording_2016-06-07\n",
      "Skipped file. Already present: eeg_recording_2016-06-08\n",
      "Skipped file. Already present: eeg_recording_2016-06-08\n",
      "Skipped file. Already present: eeg_recording_2016-06-08\n",
      "Skipped file. Already present: eeg_recording_2016-06-08\n",
      "Skipped file. Already present: eeg_recording_2016-06-08\n",
      "Skipped file. Already present: eeg_recording_2016-06-08\n",
      "Skipped file. Already present: eeg_recording_2016-06-08\n",
      "Skipped file. Already present: eeg_recording_2016-06-08\n"
     ]
    },
    {
     "name": "stderr",
     "output_type": "stream",
     "text": [
      " 80%|█████████████████████████████████████████████████▌            | 818/1023 [1:01:55<16:43,  4.89s/it]"
     ]
    },
    {
     "name": "stdout",
     "output_type": "stream",
     "text": [
      "Skipped file. Already present: eeg_recording_2016-06-08\n",
      "Skipped file. Already present: eeg_recording_2016-06-08\n",
      "Skipped file. Already present: eeg_recording_2016-06-08\n",
      "Skipped file. Already present: eeg_recording_2016-06-08\n",
      "Skipped file. Already present: eeg_recording_2016-06-08\n",
      "Skipped file. Already present: eeg_recording_2016-06-08\n",
      "Skipped file. Already present: eeg_recording_2016-06-08\n"
     ]
    },
    {
     "name": "stderr",
     "output_type": "stream",
     "text": [
      " 80%|█████████████████████████████████████████████████▋            | 819/1023 [1:02:00<16:53,  4.97s/it]"
     ]
    },
    {
     "name": "stdout",
     "output_type": "stream",
     "text": [
      "Skipped file. Already present: eeg_recording_2016-06-08\n",
      "Skipped file. Already present: eeg_recording_2016-06-08\n",
      "Skipped file. Already present: eeg_recording_2016-06-09\n",
      "Skipped file. Already present: eeg_recording_2016-06-09\n",
      "Skipped file. Already present: eeg_recording_2016-06-09\n",
      "Skipped file. Already present: eeg_recording_2016-06-09\n",
      "Skipped file. Already present: eeg_recording_2016-06-09\n",
      "Skipped file. Already present: eeg_recording_2016-06-09\n"
     ]
    },
    {
     "name": "stderr",
     "output_type": "stream",
     "text": [
      " 80%|█████████████████████████████████████████████████▋            | 820/1023 [1:02:05<16:36,  4.91s/it]"
     ]
    },
    {
     "name": "stdout",
     "output_type": "stream",
     "text": [
      "Skipped file. Already present: eeg_recording_2016-06-09\n",
      "Skipped file. Already present: eeg_recording_2016-06-09\n",
      "Skipped file. Already present: eeg_recording_2016-06-09\n",
      "Skipped file. Already present: eeg_recording_2016-06-09\n",
      "Skipped file. Already present: eeg_recording_2016-06-09\n",
      "Skipped file. Already present: eeg_recording_2016-06-09\n",
      "Skipped file. Already present: eeg_recording_2016-06-09\n",
      "Skipped file. Already present: eeg_recording_2016-06-09\n"
     ]
    },
    {
     "name": "stderr",
     "output_type": "stream",
     "text": [
      " 80%|█████████████████████████████████████████████████▊            | 821/1023 [1:02:10<16:43,  4.97s/it]"
     ]
    },
    {
     "name": "stdout",
     "output_type": "stream",
     "text": [
      "Skipped file. Already present: eeg_recording_2016-06-09\n",
      "Skipped file. Already present: eeg_recording_2016-06-09\n",
      "Skipped file. Already present: eeg_recording_2016-06-09\n",
      "Skipped file. Already present: eeg_recording_2016-06-10\n",
      "Skipped file. Already present: eeg_recording_2016-06-10\n",
      "Skipped file. Already present: eeg_recording_2016-06-10\n",
      "Skipped file. Already present: eeg_recording_2016-06-10\n",
      "Skipped file. Already present: eeg_recording_2016-06-10\n",
      "Skipped file. Already present: eeg_recording_2016-06-10\n"
     ]
    },
    {
     "name": "stderr",
     "output_type": "stream",
     "text": [
      " 80%|█████████████████████████████████████████████████▊            | 822/1023 [1:02:15<16:28,  4.92s/it]"
     ]
    },
    {
     "name": "stdout",
     "output_type": "stream",
     "text": [
      "Skipped file. Already present: eeg_recording_2016-06-10\n",
      "Skipped file. Already present: eeg_recording_2016-06-10\n",
      "Skipped file. Already present: eeg_recording_2016-06-10\n",
      "Skipped file. Already present: eeg_recording_2016-06-10\n",
      "Skipped file. Already present: eeg_recording_2016-06-10\n",
      "Skipped file. Already present: eeg_recording_2016-06-10\n",
      "Skipped file. Already present: eeg_recording_2016-06-10\n",
      "Skipped file. Already present: eeg_recording_2016-06-10\n",
      "Skipped file. Already present: eeg_recording_2016-06-10\n"
     ]
    },
    {
     "name": "stderr",
     "output_type": "stream",
     "text": [
      " 80%|█████████████████████████████████████████████████▉            | 823/1023 [1:02:20<16:34,  4.97s/it]"
     ]
    },
    {
     "name": "stdout",
     "output_type": "stream",
     "text": [
      "Skipped file. Already present: eeg_recording_2016-06-10\n",
      "Skipped file. Already present: eeg_recording_2016-06-10\n",
      "Skipped file. Already present: eeg_recording_2016-06-11\n",
      "Skipped file. Already present: eeg_recording_2016-06-11\n",
      "Skipped file. Already present: eeg_recording_2016-06-11\n",
      "Skipped file. Already present: eeg_recording_2016-06-11\n",
      "Skipped file. Already present: eeg_recording_2016-06-11\n",
      "Skipped file. Already present: eeg_recording_2016-06-11\n"
     ]
    },
    {
     "name": "stderr",
     "output_type": "stream",
     "text": [
      " 81%|█████████████████████████████████████████████████▉            | 824/1023 [1:02:25<16:20,  4.93s/it]"
     ]
    },
    {
     "name": "stdout",
     "output_type": "stream",
     "text": [
      "Skipped file. Already present: eeg_recording_2016-06-11\n",
      "Skipped file. Already present: eeg_recording_2016-06-11\n",
      "Skipped file. Already present: eeg_recording_2016-06-11\n",
      "Skipped file. Already present: eeg_recording_2016-06-11\n",
      "Skipped file. Already present: eeg_recording_2016-06-11\n",
      "Skipped file. Already present: eeg_recording_2016-06-11\n",
      "Skipped file. Already present: eeg_recording_2016-06-11\n",
      "Skipped file. Already present: eeg_recording_2016-06-11\n",
      "Skipped file. Already present: eeg_recording_2016-06-11\n"
     ]
    },
    {
     "name": "stderr",
     "output_type": "stream",
     "text": [
      " 81%|██████████████████████████████████████████████████            | 825/1023 [1:02:30<16:28,  4.99s/it]"
     ]
    },
    {
     "name": "stdout",
     "output_type": "stream",
     "text": [
      "Skipped file. Already present: eeg_recording_2016-06-11\n",
      "Skipped file. Already present: eeg_recording_2016-06-11\n",
      "Skipped file. Already present: eeg_recording_2016-06-12\n",
      "Skipped file. Already present: eeg_recording_2016-06-12\n",
      "Skipped file. Already present: eeg_recording_2016-06-12\n",
      "Skipped file. Already present: eeg_recording_2016-06-12\n",
      "Skipped file. Already present: eeg_recording_2016-06-12\n",
      "Skipped file. Already present: eeg_recording_2016-06-12\n"
     ]
    },
    {
     "name": "stderr",
     "output_type": "stream",
     "text": [
      " 81%|██████████████████████████████████████████████████            | 826/1023 [1:02:34<16:14,  4.95s/it]"
     ]
    },
    {
     "name": "stdout",
     "output_type": "stream",
     "text": [
      "Skipped file. Already present: eeg_recording_2016-06-12\n",
      "Skipped file. Already present: eeg_recording_2016-06-12\n",
      "Skipped file. Already present: eeg_recording_2016-06-12\n",
      "Skipped file. Already present: eeg_recording_2016-06-12\n",
      "Skipped file. Already present: eeg_recording_2016-06-12\n",
      "Skipped file. Already present: eeg_recording_2016-06-12\n",
      "Skipped file. Already present: eeg_recording_2016-06-12\n",
      "Skipped file. Already present: eeg_recording_2016-06-12\n",
      "Skipped file. Already present: eeg_recording_2016-06-12\n"
     ]
    },
    {
     "name": "stderr",
     "output_type": "stream",
     "text": [
      " 81%|██████████████████████████████████████████████████            | 827/1023 [1:02:40<16:19,  5.00s/it]"
     ]
    },
    {
     "name": "stdout",
     "output_type": "stream",
     "text": [
      "Skipped file. Already present: eeg_recording_2016-06-12\n",
      "Skipped file. Already present: eeg_recording_2016-06-12\n"
     ]
    },
    {
     "name": "stderr",
     "output_type": "stream",
     "text": [
      " 81%|██████████████████████████████████████████████████▏           | 828/1023 [1:02:42<13:40,  4.21s/it]"
     ]
    },
    {
     "name": "stdout",
     "output_type": "stream",
     "text": [
      "Skipped file. Already present: eeg_recording_2016-06-13\n",
      "Skipped file. Already present: eeg_recording_2016-06-13\n",
      "Skipped file. Already present: eeg_recording_2016-06-13\n",
      "Skipped file. Already present: eeg_recording_2016-06-13\n",
      "Skipped file. Already present: eeg_recording_2016-06-13\n",
      "Skipped file. Already present: eeg_recording_2016-06-13\n",
      "Skipped file. Already present: eeg_recording_2016-06-13\n",
      "Skipped file. Already present: eeg_recording_2016-06-13\n"
     ]
    },
    {
     "name": "stderr",
     "output_type": "stream",
     "text": [
      " 81%|██████████████████████████████████████████████████▏           | 829/1023 [1:02:47<14:29,  4.48s/it]"
     ]
    },
    {
     "name": "stdout",
     "output_type": "stream",
     "text": [
      "Skipped file. Already present: eeg_recording_2016-06-13\n"
     ]
    },
    {
     "name": "stderr",
     "output_type": "stream",
     "text": [
      " 81%|██████████████████████████████████████████████████▎           | 830/1023 [1:02:50<12:31,  3.89s/it]"
     ]
    },
    {
     "name": "stdout",
     "output_type": "stream",
     "text": [
      "Skipped file. Already present: eeg_recording_2016-06-14\n",
      "Skipped file. Already present: eeg_recording_2016-06-14\n",
      "Skipped file. Already present: eeg_recording_2016-06-14\n",
      "Skipped file. Already present: eeg_recording_2016-06-14\n",
      "Skipped file. Already present: eeg_recording_2016-06-14\n",
      "Skipped file. Already present: eeg_recording_2016-06-14\n",
      "Skipped file. Already present: eeg_recording_2016-06-14\n",
      "Skipped file. Already present: eeg_recording_2016-06-14\n"
     ]
    },
    {
     "name": "stderr",
     "output_type": "stream",
     "text": [
      " 81%|██████████████████████████████████████████████████▎           | 831/1023 [1:02:55<13:28,  4.21s/it]"
     ]
    },
    {
     "name": "stdout",
     "output_type": "stream",
     "text": [
      "Skipped file. Already present: eeg_recording_2016-06-14\n",
      "Skipped file. Already present: eeg_recording_2016-06-15\n",
      "Skipped file. Already present: eeg_recording_2016-06-15\n",
      "Skipped file. Already present: eeg_recording_2016-06-15\n",
      "Skipped file. Already present: eeg_recording_2016-06-15\n",
      "Skipped file. Already present: eeg_recording_2016-06-15\n",
      "Skipped file. Already present: eeg_recording_2016-06-15\n"
     ]
    },
    {
     "name": "stderr",
     "output_type": "stream",
     "text": [
      " 81%|██████████████████████████████████████████████████▍           | 832/1023 [1:02:59<13:59,  4.39s/it]"
     ]
    },
    {
     "name": "stdout",
     "output_type": "stream",
     "text": [
      "Skipped file. Already present: eeg_recording_2016-06-15\n",
      "Skipped file. Already present: eeg_recording_2016-06-15\n",
      "Skipped file. Already present: eeg_recording_2016-06-15\n",
      "Skipped file. Already present: eeg_recording_2016-06-15\n",
      "Skipped file. Already present: eeg_recording_2016-06-15\n",
      "Skipped file. Already present: eeg_recording_2016-06-15\n",
      "Skipped file. Already present: eeg_recording_2016-06-15\n",
      "Skipped file. Already present: eeg_recording_2016-06-15\n"
     ]
    },
    {
     "name": "stderr",
     "output_type": "stream",
     "text": [
      " 81%|██████████████████████████████████████████████████▍           | 833/1023 [1:03:04<14:17,  4.51s/it]"
     ]
    },
    {
     "name": "stdout",
     "output_type": "stream",
     "text": [
      "Skipped file. Already present: eeg_recording_2016-06-15\n",
      "Skipped file. Already present: eeg_recording_2016-06-15\n",
      "Skipped file. Already present: eeg_recording_2016-06-16\n",
      "Skipped file. Already present: eeg_recording_2016-06-16\n",
      "Skipped file. Already present: eeg_recording_2016-06-16\n",
      "Skipped file. Already present: eeg_recording_2016-06-16\n",
      "Skipped file. Already present: eeg_recording_2016-06-16\n",
      "Skipped file. Already present: eeg_recording_2016-06-16\n"
     ]
    },
    {
     "name": "stderr",
     "output_type": "stream",
     "text": [
      " 82%|██████████████████████████████████████████████████▌           | 834/1023 [1:03:09<14:35,  4.63s/it]"
     ]
    },
    {
     "name": "stdout",
     "output_type": "stream",
     "text": [
      "Skipped file. Already present: eeg_recording_2016-06-16\n",
      "Skipped file. Already present: eeg_recording_2016-06-16\n",
      "Skipped file. Already present: eeg_recording_2016-06-16\n",
      "Skipped file. Already present: eeg_recording_2016-06-16\n",
      "Skipped file. Already present: eeg_recording_2016-06-16\n",
      "Skipped file. Already present: eeg_recording_2016-06-16\n",
      "Skipped file. Already present: eeg_recording_2016-06-16\n",
      "Skipped file. Already present: eeg_recording_2016-06-16\n",
      "Skipped file. Already present: eeg_recording_2016-06-16\n"
     ]
    },
    {
     "name": "stderr",
     "output_type": "stream",
     "text": [
      " 82%|██████████████████████████████████████████████████▌           | 835/1023 [1:03:14<14:43,  4.70s/it]"
     ]
    },
    {
     "name": "stdout",
     "output_type": "stream",
     "text": [
      "Skipped file. Already present: eeg_recording_2016-06-16\n",
      "Skipped file. Already present: eeg_recording_2016-06-17\n",
      "Skipped file. Already present: eeg_recording_2016-06-17\n",
      "Skipped file. Already present: eeg_recording_2016-06-17\n",
      "Skipped file. Already present: eeg_recording_2016-06-17\n",
      "Skipped file. Already present: eeg_recording_2016-06-17\n",
      "Skipped file. Already present: eeg_recording_2016-06-17\n"
     ]
    },
    {
     "name": "stderr",
     "output_type": "stream",
     "text": [
      " 82%|██████████████████████████████████████████████████▋           | 836/1023 [1:03:19<14:43,  4.73s/it]"
     ]
    },
    {
     "name": "stdout",
     "output_type": "stream",
     "text": [
      "Skipped file. Already present: eeg_recording_2016-06-17\n",
      "Skipped file. Already present: eeg_recording_2016-06-17\n",
      "Skipped file. Already present: eeg_recording_2016-06-17\n",
      "Skipped file. Already present: eeg_recording_2016-06-17\n",
      "Skipped file. Already present: eeg_recording_2016-06-17\n",
      "Skipped file. Already present: eeg_recording_2016-06-17\n",
      "Skipped file. Already present: eeg_recording_2016-06-17\n",
      "Skipped file. Already present: eeg_recording_2016-06-17\n",
      "Skipped file. Already present: eeg_recording_2016-06-17\n"
     ]
    },
    {
     "name": "stderr",
     "output_type": "stream",
     "text": [
      " 82%|██████████████████████████████████████████████████▋           | 837/1023 [1:03:24<14:43,  4.75s/it]"
     ]
    },
    {
     "name": "stdout",
     "output_type": "stream",
     "text": [
      "Skipped file. Already present: eeg_recording_2016-06-18\n",
      "Skipped file. Already present: eeg_recording_2016-06-18\n",
      "Skipped file. Already present: eeg_recording_2016-06-18\n",
      "Skipped file. Already present: eeg_recording_2016-06-18\n",
      "Skipped file. Already present: eeg_recording_2016-06-18\n",
      "Skipped file. Already present: eeg_recording_2016-06-18\n"
     ]
    },
    {
     "name": "stderr",
     "output_type": "stream",
     "text": [
      " 82%|██████████████████████████████████████████████████▊           | 838/1023 [1:03:28<14:41,  4.76s/it]"
     ]
    },
    {
     "name": "stdout",
     "output_type": "stream",
     "text": [
      "Skipped file. Already present: eeg_recording_2016-06-18\n",
      "Skipped file. Already present: eeg_recording_2016-06-18\n",
      "Skipped file. Already present: eeg_recording_2016-06-18\n",
      "Skipped file. Already present: eeg_recording_2016-06-18\n",
      "Skipped file. Already present: eeg_recording_2016-06-18\n",
      "Skipped file. Already present: eeg_recording_2016-06-18\n",
      "Skipped file. Already present: eeg_recording_2016-06-18\n",
      "Skipped file. Already present: eeg_recording_2016-06-18\n",
      "Skipped file. Already present: eeg_recording_2016-06-18\n"
     ]
    },
    {
     "name": "stderr",
     "output_type": "stream",
     "text": [
      " 82%|██████████████████████████████████████████████████▊           | 839/1023 [1:03:33<14:35,  4.76s/it]"
     ]
    },
    {
     "name": "stdout",
     "output_type": "stream",
     "text": [
      "Skipped file. Already present: eeg_recording_2016-06-19\n",
      "Skipped file. Already present: eeg_recording_2016-06-19\n",
      "Skipped file. Already present: eeg_recording_2016-06-19\n",
      "Skipped file. Already present: eeg_recording_2016-06-19\n",
      "Skipped file. Already present: eeg_recording_2016-06-19\n",
      "Skipped file. Already present: eeg_recording_2016-06-19\n"
     ]
    },
    {
     "name": "stderr",
     "output_type": "stream",
     "text": [
      " 82%|██████████████████████████████████████████████████▉           | 840/1023 [1:03:38<14:29,  4.75s/it]"
     ]
    },
    {
     "name": "stdout",
     "output_type": "stream",
     "text": [
      "Skipped file. Already present: eeg_recording_2016-06-19\n",
      "Skipped file. Already present: eeg_recording_2016-06-19\n",
      "Skipped file. Already present: eeg_recording_2016-06-19\n",
      "Skipped file. Already present: eeg_recording_2016-06-19\n",
      "Skipped file. Already present: eeg_recording_2016-06-19\n",
      "Skipped file. Already present: eeg_recording_2016-06-19\n",
      "Skipped file. Already present: eeg_recording_2016-06-19\n",
      "Skipped file. Already present: eeg_recording_2016-06-19\n",
      "Skipped file. Already present: eeg_recording_2016-06-19\n"
     ]
    },
    {
     "name": "stderr",
     "output_type": "stream",
     "text": [
      " 82%|██████████████████████████████████████████████████▉           | 841/1023 [1:03:43<14:24,  4.75s/it]"
     ]
    },
    {
     "name": "stdout",
     "output_type": "stream",
     "text": [
      "Skipped file. Already present: eeg_recording_2016-06-20\n",
      "Skipped file. Already present: eeg_recording_2016-06-20\n",
      "Skipped file. Already present: eeg_recording_2016-06-20\n",
      "Skipped file. Already present: eeg_recording_2016-06-20\n",
      "Skipped file. Already present: eeg_recording_2016-06-20\n",
      "Skipped file. Already present: eeg_recording_2016-06-20\n"
     ]
    },
    {
     "name": "stderr",
     "output_type": "stream",
     "text": [
      " 82%|███████████████████████████████████████████████████           | 842/1023 [1:03:47<14:24,  4.78s/it]"
     ]
    },
    {
     "name": "stdout",
     "output_type": "stream",
     "text": [
      "Skipped file. Already present: eeg_recording_2016-06-20\n",
      "Skipped file. Already present: eeg_recording_2016-06-20\n",
      "Skipped file. Already present: eeg_recording_2016-06-20\n",
      "Skipped file. Already present: eeg_recording_2016-06-20\n",
      "Skipped file. Already present: eeg_recording_2016-06-20\n",
      "Skipped file. Already present: eeg_recording_2016-06-20\n",
      "Skipped file. Already present: eeg_recording_2016-06-20\n",
      "Skipped file. Already present: eeg_recording_2016-06-20\n",
      "Skipped file. Already present: eeg_recording_2016-06-20\n"
     ]
    },
    {
     "name": "stderr",
     "output_type": "stream",
     "text": [
      " 82%|███████████████████████████████████████████████████           | 843/1023 [1:03:52<14:20,  4.78s/it]"
     ]
    },
    {
     "name": "stdout",
     "output_type": "stream",
     "text": [
      "Skipped file. Already present: eeg_recording_2016-06-20\n",
      "Skipped file. Already present: eeg_recording_2016-06-21\n",
      "Skipped file. Already present: eeg_recording_2016-06-21\n",
      "Skipped file. Already present: eeg_recording_2016-06-21\n",
      "Skipped file. Already present: eeg_recording_2016-06-21\n",
      "Skipped file. Already present: eeg_recording_2016-06-21\n",
      "Skipped file. Already present: eeg_recording_2016-06-21\n"
     ]
    },
    {
     "name": "stderr",
     "output_type": "stream",
     "text": [
      " 83%|███████████████████████████████████████████████████▏          | 844/1023 [1:03:57<14:10,  4.75s/it]"
     ]
    },
    {
     "name": "stdout",
     "output_type": "stream",
     "text": [
      "Skipped file. Already present: eeg_recording_2016-06-21\n",
      "Skipped file. Already present: eeg_recording_2016-06-21\n",
      "Skipped file. Already present: eeg_recording_2016-06-21\n",
      "Skipped file. Already present: eeg_recording_2016-06-21\n",
      "Skipped file. Already present: eeg_recording_2016-06-21\n",
      "Skipped file. Already present: eeg_recording_2016-06-21\n"
     ]
    },
    {
     "name": "stderr",
     "output_type": "stream",
     "text": [
      " 83%|███████████████████████████████████████████████████▏          | 845/1023 [1:04:02<14:10,  4.78s/it]"
     ]
    },
    {
     "name": "stdout",
     "output_type": "stream",
     "text": [
      "Skipped file. Already present: eeg_recording_2016-06-21\n",
      "Skipped file. Already present: eeg_recording_2016-06-22\n",
      "Skipped file. Already present: eeg_recording_2016-06-22\n",
      "Skipped file. Already present: eeg_recording_2016-06-22\n",
      "Skipped file. Already present: eeg_recording_2016-06-22\n",
      "Skipped file. Already present: eeg_recording_2016-06-22\n",
      "Skipped file. Already present: eeg_recording_2016-06-22\n"
     ]
    },
    {
     "name": "stderr",
     "output_type": "stream",
     "text": [
      " 83%|███████████████████████████████████████████████████▎          | 846/1023 [1:04:06<13:58,  4.74s/it]"
     ]
    },
    {
     "name": "stdout",
     "output_type": "stream",
     "text": [
      "Skipped file. Already present: eeg_recording_2016-06-22\n",
      "Skipped file. Already present: eeg_recording_2016-06-22\n",
      "Skipped file. Already present: eeg_recording_2016-06-22\n",
      "Skipped file. Already present: eeg_recording_2016-06-22\n",
      "Skipped file. Already present: eeg_recording_2016-06-22\n",
      "Skipped file. Already present: eeg_recording_2016-06-22\n",
      "Skipped file. Already present: eeg_recording_2016-06-22\n"
     ]
    },
    {
     "name": "stderr",
     "output_type": "stream",
     "text": [
      " 83%|███████████████████████████████████████████████████▎          | 847/1023 [1:04:11<13:57,  4.76s/it]"
     ]
    },
    {
     "name": "stdout",
     "output_type": "stream",
     "text": [
      "Skipped file. Already present: eeg_recording_2016-06-22\n",
      "Skipped file. Already present: eeg_recording_2016-06-23\n",
      "Skipped file. Already present: eeg_recording_2016-06-23\n",
      "Skipped file. Already present: eeg_recording_2016-06-23\n",
      "Skipped file. Already present: eeg_recording_2016-06-23\n",
      "Skipped file. Already present: eeg_recording_2016-06-23\n",
      "Skipped file. Already present: eeg_recording_2016-06-23\n"
     ]
    },
    {
     "name": "stderr",
     "output_type": "stream",
     "text": [
      " 83%|███████████████████████████████████████████████████▍          | 848/1023 [1:04:16<13:47,  4.73s/it]"
     ]
    },
    {
     "name": "stdout",
     "output_type": "stream",
     "text": [
      "Skipped file. Already present: eeg_recording_2016-06-23\n",
      "Skipped file. Already present: eeg_recording_2016-06-23\n",
      "Skipped file. Already present: eeg_recording_2016-06-23\n",
      "Skipped file. Already present: eeg_recording_2016-06-23\n",
      "Skipped file. Already present: eeg_recording_2016-06-23\n",
      "Skipped file. Already present: eeg_recording_2016-06-23\n",
      "Skipped file. Already present: eeg_recording_2016-06-23\n",
      "Skipped file. Already present: eeg_recording_2016-06-23\n"
     ]
    },
    {
     "name": "stderr",
     "output_type": "stream",
     "text": [
      " 83%|███████████████████████████████████████████████████▍          | 849/1023 [1:04:21<13:57,  4.81s/it]"
     ]
    },
    {
     "name": "stdout",
     "output_type": "stream",
     "text": [
      "Skipped file. Already present: eeg_recording_2016-06-24\n",
      "Skipped file. Already present: eeg_recording_2016-06-24\n",
      "Skipped file. Already present: eeg_recording_2016-06-24\n",
      "Skipped file. Already present: eeg_recording_2016-06-24\n",
      "Skipped file. Already present: eeg_recording_2016-06-24\n",
      "Skipped file. Already present: eeg_recording_2016-06-24\n"
     ]
    },
    {
     "name": "stderr",
     "output_type": "stream",
     "text": [
      " 83%|███████████████████████████████████████████████████▌          | 850/1023 [1:04:25<13:42,  4.76s/it]"
     ]
    },
    {
     "name": "stdout",
     "output_type": "stream",
     "text": [
      "Skipped file. Already present: eeg_recording_2016-06-24\n",
      "Skipped file. Already present: eeg_recording_2016-06-24\n",
      "Skipped file. Already present: eeg_recording_2016-06-24\n",
      "Skipped file. Already present: eeg_recording_2016-06-24\n",
      "Skipped file. Already present: eeg_recording_2016-06-24\n",
      "Skipped file. Already present: eeg_recording_2016-06-24\n",
      "Skipped file. Already present: eeg_recording_2016-06-24\n"
     ]
    },
    {
     "name": "stderr",
     "output_type": "stream",
     "text": [
      " 83%|███████████████████████████████████████████████████▌          | 851/1023 [1:04:30<13:44,  4.79s/it]"
     ]
    },
    {
     "name": "stdout",
     "output_type": "stream",
     "text": [
      "Skipped file. Already present: eeg_recording_2016-06-24\n",
      "Skipped file. Already present: eeg_recording_2016-06-25\n",
      "Skipped file. Already present: eeg_recording_2016-06-25\n",
      "Skipped file. Already present: eeg_recording_2016-06-25\n",
      "Skipped file. Already present: eeg_recording_2016-06-25\n",
      "Skipped file. Already present: eeg_recording_2016-06-25\n",
      "Skipped file. Already present: eeg_recording_2016-06-25\n"
     ]
    },
    {
     "name": "stderr",
     "output_type": "stream",
     "text": [
      " 83%|███████████████████████████████████████████████████▋          | 852/1023 [1:04:35<13:32,  4.75s/it]"
     ]
    },
    {
     "name": "stdout",
     "output_type": "stream",
     "text": [
      "Skipped file. Already present: eeg_recording_2016-06-25\n",
      "Skipped file. Already present: eeg_recording_2016-06-25\n",
      "Skipped file. Already present: eeg_recording_2016-06-25\n",
      "Skipped file. Already present: eeg_recording_2016-06-25\n",
      "Skipped file. Already present: eeg_recording_2016-06-25\n",
      "Skipped file. Already present: eeg_recording_2016-06-25\n",
      "Skipped file. Already present: eeg_recording_2016-06-25\n"
     ]
    },
    {
     "name": "stderr",
     "output_type": "stream",
     "text": [
      " 83%|███████████████████████████████████████████████████▋          | 853/1023 [1:04:40<13:29,  4.76s/it]"
     ]
    },
    {
     "name": "stdout",
     "output_type": "stream",
     "text": [
      "Skipped file. Already present: eeg_recording_2016-06-25\n",
      "Skipped file. Already present: eeg_recording_2016-06-26\n",
      "Skipped file. Already present: eeg_recording_2016-06-26\n",
      "Skipped file. Already present: eeg_recording_2016-06-26\n",
      "Skipped file. Already present: eeg_recording_2016-06-26\n",
      "Skipped file. Already present: eeg_recording_2016-06-26\n",
      "Skipped file. Already present: eeg_recording_2016-06-26\n"
     ]
    },
    {
     "name": "stderr",
     "output_type": "stream",
     "text": [
      " 83%|███████████████████████████████████████████████████▊          | 854/1023 [1:04:44<13:21,  4.74s/it]"
     ]
    },
    {
     "name": "stdout",
     "output_type": "stream",
     "text": [
      "Skipped file. Already present: eeg_recording_2016-06-26\n",
      "Skipped file. Already present: eeg_recording_2016-06-26\n",
      "Skipped file. Already present: eeg_recording_2016-06-26\n",
      "Skipped file. Already present: eeg_recording_2016-06-26\n",
      "Skipped file. Already present: eeg_recording_2016-06-26\n",
      "Skipped file. Already present: eeg_recording_2016-06-26\n",
      "Skipped file. Already present: eeg_recording_2016-06-26\n"
     ]
    },
    {
     "name": "stderr",
     "output_type": "stream",
     "text": [
      " 84%|███████████████████████████████████████████████████▊          | 855/1023 [1:04:49<13:22,  4.78s/it]"
     ]
    },
    {
     "name": "stdout",
     "output_type": "stream",
     "text": [
      "Skipped file. Already present: eeg_recording_2016-06-26\n",
      "Skipped file. Already present: eeg_recording_2016-06-27\n",
      "Skipped file. Already present: eeg_recording_2016-06-27\n",
      "Skipped file. Already present: eeg_recording_2016-06-27\n",
      "Skipped file. Already present: eeg_recording_2016-06-27\n",
      "Skipped file. Already present: eeg_recording_2016-06-27\n",
      "Skipped file. Already present: eeg_recording_2016-06-27\n"
     ]
    },
    {
     "name": "stderr",
     "output_type": "stream",
     "text": [
      " 84%|███████████████████████████████████████████████████▉          | 856/1023 [1:04:54<13:12,  4.75s/it]"
     ]
    },
    {
     "name": "stdout",
     "output_type": "stream",
     "text": [
      "Skipped file. Already present: eeg_recording_2016-06-27\n",
      "Skipped file. Already present: eeg_recording_2016-06-27\n",
      "Skipped file. Already present: eeg_recording_2016-06-27\n",
      "Skipped file. Already present: eeg_recording_2016-06-27\n",
      "Skipped file. Already present: eeg_recording_2016-06-27\n",
      "Skipped file. Already present: eeg_recording_2016-06-27\n",
      "Skipped file. Already present: eeg_recording_2016-06-27\n"
     ]
    },
    {
     "name": "stderr",
     "output_type": "stream",
     "text": [
      " 84%|███████████████████████████████████████████████████▉          | 857/1023 [1:04:59<13:10,  4.76s/it]"
     ]
    },
    {
     "name": "stdout",
     "output_type": "stream",
     "text": [
      "Skipped file. Already present: eeg_recording_2016-06-27\n",
      "Skipped file. Already present: eeg_recording_2016-06-28\n",
      "Skipped file. Already present: eeg_recording_2016-06-28\n",
      "Skipped file. Already present: eeg_recording_2016-06-28\n",
      "Skipped file. Already present: eeg_recording_2016-06-28\n",
      "Skipped file. Already present: eeg_recording_2016-06-28\n",
      "Skipped file. Already present: eeg_recording_2016-06-28\n"
     ]
    },
    {
     "name": "stderr",
     "output_type": "stream",
     "text": [
      " 84%|████████████████████████████████████████████████████          | 858/1023 [1:05:03<13:00,  4.73s/it]"
     ]
    },
    {
     "name": "stdout",
     "output_type": "stream",
     "text": [
      "Skipped file. Already present: eeg_recording_2016-06-28\n",
      "Skipped file. Already present: eeg_recording_2016-06-28\n",
      "Skipped file. Already present: eeg_recording_2016-06-28\n",
      "Skipped file. Already present: eeg_recording_2016-06-28\n",
      "Skipped file. Already present: eeg_recording_2016-06-28\n",
      "Skipped file. Already present: eeg_recording_2016-06-28\n"
     ]
    },
    {
     "name": "stderr",
     "output_type": "stream",
     "text": [
      " 84%|████████████████████████████████████████████████████          | 859/1023 [1:05:09<13:13,  4.84s/it]"
     ]
    },
    {
     "name": "stdout",
     "output_type": "stream",
     "text": [
      "Skipped file. Already present: eeg_recording_2016-06-28\n",
      "Skipped file. Already present: eeg_recording_2016-06-28\n",
      "Skipped file. Already present: eeg_recording_2016-06-29\n",
      "Skipped file. Already present: eeg_recording_2016-06-29\n",
      "Skipped file. Already present: eeg_recording_2016-06-29\n",
      "Skipped file. Already present: eeg_recording_2016-06-29\n",
      "Skipped file. Already present: eeg_recording_2016-06-29\n",
      "Skipped file. Already present: eeg_recording_2016-06-29\n"
     ]
    },
    {
     "name": "stderr",
     "output_type": "stream",
     "text": [
      " 84%|████████████████████████████████████████████████████          | 860/1023 [1:05:13<13:01,  4.79s/it]"
     ]
    },
    {
     "name": "stdout",
     "output_type": "stream",
     "text": [
      "Skipped file. Already present: eeg_recording_2016-06-29\n",
      "Skipped file. Already present: eeg_recording_2016-06-29\n",
      "Skipped file. Already present: eeg_recording_2016-06-29\n",
      "Skipped file. Already present: eeg_recording_2016-06-29\n",
      "Skipped file. Already present: eeg_recording_2016-06-29\n",
      "Skipped file. Already present: eeg_recording_2016-06-29\n",
      "Skipped file. Already present: eeg_recording_2016-06-29\n"
     ]
    },
    {
     "name": "stderr",
     "output_type": "stream",
     "text": [
      " 84%|████████████████████████████████████████████████████▏         | 861/1023 [1:05:18<13:09,  4.87s/it]"
     ]
    },
    {
     "name": "stdout",
     "output_type": "stream",
     "text": [
      "Skipped file. Already present: eeg_recording_2016-06-29\n",
      "Skipped file. Already present: eeg_recording_2016-06-30\n",
      "Skipped file. Already present: eeg_recording_2016-06-30\n",
      "Skipped file. Already present: eeg_recording_2016-06-30\n",
      "Skipped file. Already present: eeg_recording_2016-06-30\n",
      "Skipped file. Already present: eeg_recording_2016-06-30\n",
      "Skipped file. Already present: eeg_recording_2016-06-30\n"
     ]
    },
    {
     "name": "stderr",
     "output_type": "stream",
     "text": [
      " 84%|████████████████████████████████████████████████████▏         | 862/1023 [1:05:23<12:54,  4.81s/it]"
     ]
    },
    {
     "name": "stdout",
     "output_type": "stream",
     "text": [
      "Skipped file. Already present: eeg_recording_2016-06-30\n",
      "Skipped file. Already present: eeg_recording_2016-06-30\n",
      "Skipped file. Already present: eeg_recording_2016-06-30\n",
      "Skipped file. Already present: eeg_recording_2016-06-30\n",
      "Skipped file. Already present: eeg_recording_2016-06-30\n",
      "Skipped file. Already present: eeg_recording_2016-06-30\n",
      "Skipped file. Already present: eeg_recording_2016-06-30\n"
     ]
    },
    {
     "name": "stderr",
     "output_type": "stream",
     "text": [
      " 84%|████████████████████████████████████████████████████▎         | 863/1023 [1:05:28<13:01,  4.88s/it]"
     ]
    },
    {
     "name": "stdout",
     "output_type": "stream",
     "text": [
      "Skipped file. Already present: eeg_recording_2016-06-30\n",
      "Skipped file. Already present: eeg_recording_2016-07-01\n",
      "Skipped file. Already present: eeg_recording_2016-07-01\n",
      "Skipped file. Already present: eeg_recording_2016-07-01\n",
      "Skipped file. Already present: eeg_recording_2016-07-01\n",
      "Skipped file. Already present: eeg_recording_2016-07-01\n",
      "Skipped file. Already present: eeg_recording_2016-07-01\n"
     ]
    },
    {
     "name": "stderr",
     "output_type": "stream",
     "text": [
      " 84%|████████████████████████████████████████████████████▎         | 864/1023 [1:05:33<12:46,  4.82s/it]"
     ]
    },
    {
     "name": "stdout",
     "output_type": "stream",
     "text": [
      "Skipped file. Already present: eeg_recording_2016-07-01\n",
      "Skipped file. Already present: eeg_recording_2016-07-01\n",
      "Skipped file. Already present: eeg_recording_2016-07-01\n",
      "Skipped file. Already present: eeg_recording_2016-07-01\n",
      "Skipped file. Already present: eeg_recording_2016-07-01\n",
      "Skipped file. Already present: eeg_recording_2016-07-01\n",
      "Skipped file. Already present: eeg_recording_2016-07-01\n"
     ]
    },
    {
     "name": "stderr",
     "output_type": "stream",
     "text": [
      " 85%|████████████████████████████████████████████████████▍         | 865/1023 [1:05:38<12:56,  4.91s/it]"
     ]
    },
    {
     "name": "stdout",
     "output_type": "stream",
     "text": [
      "Skipped file. Already present: eeg_recording_2016-07-01\n",
      "Skipped file. Already present: eeg_recording_2016-07-02\n",
      "Skipped file. Already present: eeg_recording_2016-07-02\n",
      "Skipped file. Already present: eeg_recording_2016-07-02\n",
      "Skipped file. Already present: eeg_recording_2016-07-02\n",
      "Skipped file. Already present: eeg_recording_2016-07-02\n",
      "Skipped file. Already present: eeg_recording_2016-07-02\n"
     ]
    },
    {
     "name": "stderr",
     "output_type": "stream",
     "text": [
      " 85%|████████████████████████████████████████████████████▍         | 866/1023 [1:05:43<12:40,  4.85s/it]"
     ]
    },
    {
     "name": "stdout",
     "output_type": "stream",
     "text": [
      "Skipped file. Already present: eeg_recording_2016-07-02\n",
      "Skipped file. Already present: eeg_recording_2016-07-02\n",
      "Skipped file. Already present: eeg_recording_2016-07-02\n",
      "Skipped file. Already present: eeg_recording_2016-07-02\n",
      "Skipped file. Already present: eeg_recording_2016-07-02\n",
      "Skipped file. Already present: eeg_recording_2016-07-02\n",
      "Skipped file. Already present: eeg_recording_2016-07-02\n"
     ]
    },
    {
     "name": "stderr",
     "output_type": "stream",
     "text": [
      " 85%|████████████████████████████████████████████████████▌         | 867/1023 [1:05:48<12:44,  4.90s/it]"
     ]
    },
    {
     "name": "stdout",
     "output_type": "stream",
     "text": [
      "Skipped file. Already present: eeg_recording_2016-07-02\n",
      "Skipped file. Already present: eeg_recording_2016-07-03\n",
      "Skipped file. Already present: eeg_recording_2016-07-03\n",
      "Skipped file. Already present: eeg_recording_2016-07-03\n",
      "Skipped file. Already present: eeg_recording_2016-07-03\n",
      "Skipped file. Already present: eeg_recording_2016-07-03\n",
      "Skipped file. Already present: eeg_recording_2016-07-03\n"
     ]
    },
    {
     "name": "stderr",
     "output_type": "stream",
     "text": [
      " 85%|████████████████████████████████████████████████████▌         | 868/1023 [1:05:52<12:29,  4.84s/it]"
     ]
    },
    {
     "name": "stdout",
     "output_type": "stream",
     "text": [
      "Skipped file. Already present: eeg_recording_2016-07-03\n",
      "Skipped file. Already present: eeg_recording_2016-07-03\n",
      "Skipped file. Already present: eeg_recording_2016-07-03\n",
      "Skipped file. Already present: eeg_recording_2016-07-03\n",
      "Skipped file. Already present: eeg_recording_2016-07-03\n",
      "Skipped file. Already present: eeg_recording_2016-07-03\n",
      "Skipped file. Already present: eeg_recording_2016-07-03\n"
     ]
    },
    {
     "name": "stderr",
     "output_type": "stream",
     "text": [
      " 85%|████████████████████████████████████████████████████▋         | 869/1023 [1:05:57<12:35,  4.90s/it]"
     ]
    },
    {
     "name": "stdout",
     "output_type": "stream",
     "text": [
      "Skipped file. Already present: eeg_recording_2016-07-03\n",
      "Skipped file. Already present: eeg_recording_2016-07-04\n",
      "Skipped file. Already present: eeg_recording_2016-07-04\n",
      "Skipped file. Already present: eeg_recording_2016-07-04\n",
      "Skipped file. Already present: eeg_recording_2016-07-04\n",
      "Skipped file. Already present: eeg_recording_2016-07-04\n",
      "Skipped file. Already present: eeg_recording_2016-07-04\n"
     ]
    },
    {
     "name": "stderr",
     "output_type": "stream",
     "text": [
      " 85%|████████████████████████████████████████████████████▋         | 870/1023 [1:06:02<12:20,  4.84s/it]"
     ]
    },
    {
     "name": "stdout",
     "output_type": "stream",
     "text": [
      "Skipped file. Already present: eeg_recording_2016-07-04\n",
      "Skipped file. Already present: eeg_recording_2016-07-04\n",
      "Skipped file. Already present: eeg_recording_2016-07-04\n",
      "Skipped file. Already present: eeg_recording_2016-07-04\n",
      "Skipped file. Already present: eeg_recording_2016-07-04\n",
      "Skipped file. Already present: eeg_recording_2016-07-04\n",
      "Skipped file. Already present: eeg_recording_2016-07-04\n"
     ]
    },
    {
     "name": "stderr",
     "output_type": "stream",
     "text": [
      " 85%|████████████████████████████████████████████████████▊         | 871/1023 [1:06:07<12:23,  4.89s/it]"
     ]
    },
    {
     "name": "stdout",
     "output_type": "stream",
     "text": [
      "Skipped file. Already present: eeg_recording_2016-07-04\n",
      "Skipped file. Already present: eeg_recording_2016-07-05\n",
      "Skipped file. Already present: eeg_recording_2016-07-05\n",
      "Skipped file. Already present: eeg_recording_2016-07-05\n",
      "Skipped file. Already present: eeg_recording_2016-07-05\n",
      "Skipped file. Already present: eeg_recording_2016-07-05\n",
      "Skipped file. Already present: eeg_recording_2016-07-05\n"
     ]
    },
    {
     "name": "stderr",
     "output_type": "stream",
     "text": [
      " 85%|████████████████████████████████████████████████████▊         | 872/1023 [1:06:12<12:09,  4.83s/it]"
     ]
    },
    {
     "name": "stdout",
     "output_type": "stream",
     "text": [
      "Skipped file. Already present: eeg_recording_2016-07-05\n",
      "Skipped file. Already present: eeg_recording_2016-07-05\n",
      "Skipped file. Already present: eeg_recording_2016-07-05\n",
      "Skipped file. Already present: eeg_recording_2016-07-05\n",
      "Skipped file. Already present: eeg_recording_2016-07-05\n",
      "Skipped file. Already present: eeg_recording_2016-07-05\n",
      "Skipped file. Already present: eeg_recording_2016-07-05\n"
     ]
    },
    {
     "name": "stderr",
     "output_type": "stream",
     "text": [
      " 85%|████████████████████████████████████████████████████▉         | 873/1023 [1:06:17<12:11,  4.88s/it]"
     ]
    },
    {
     "name": "stdout",
     "output_type": "stream",
     "text": [
      "Skipped file. Already present: eeg_recording_2016-07-05\n",
      "Skipped file. Already present: eeg_recording_2016-07-06\n",
      "Skipped file. Already present: eeg_recording_2016-07-06\n",
      "Skipped file. Already present: eeg_recording_2016-07-06\n",
      "Skipped file. Already present: eeg_recording_2016-07-06\n",
      "Skipped file. Already present: eeg_recording_2016-07-06\n",
      "Skipped file. Already present: eeg_recording_2016-07-06\n"
     ]
    },
    {
     "name": "stderr",
     "output_type": "stream",
     "text": [
      " 85%|████████████████████████████████████████████████████▉         | 874/1023 [1:06:21<11:57,  4.82s/it]"
     ]
    },
    {
     "name": "stdout",
     "output_type": "stream",
     "text": [
      "Skipped file. Already present: eeg_recording_2016-07-06\n",
      "Skipped file. Already present: eeg_recording_2016-07-06\n",
      "Skipped file. Already present: eeg_recording_2016-07-06\n",
      "Skipped file. Already present: eeg_recording_2016-07-06\n",
      "Skipped file. Already present: eeg_recording_2016-07-06\n",
      "Skipped file. Already present: eeg_recording_2016-07-06\n",
      "Skipped file. Already present: eeg_recording_2016-07-06\n"
     ]
    },
    {
     "name": "stderr",
     "output_type": "stream",
     "text": [
      " 86%|█████████████████████████████████████████████████████         | 875/1023 [1:06:26<12:03,  4.89s/it]"
     ]
    },
    {
     "name": "stdout",
     "output_type": "stream",
     "text": [
      "Skipped file. Already present: eeg_recording_2016-07-07\n",
      "Skipped file. Already present: eeg_recording_2016-07-07\n",
      "Skipped file. Already present: eeg_recording_2016-07-07\n",
      "Skipped file. Already present: eeg_recording_2016-07-07\n",
      "Skipped file. Already present: eeg_recording_2016-07-07\n",
      "Skipped file. Already present: eeg_recording_2016-07-07\n"
     ]
    },
    {
     "name": "stderr",
     "output_type": "stream",
     "text": [
      " 86%|█████████████████████████████████████████████████████         | 876/1023 [1:06:31<11:48,  4.82s/it]"
     ]
    },
    {
     "name": "stdout",
     "output_type": "stream",
     "text": [
      "Skipped file. Already present: eeg_recording_2016-07-07\n",
      "Skipped file. Already present: eeg_recording_2016-07-07\n",
      "Skipped file. Already present: eeg_recording_2016-07-07\n",
      "Skipped file. Already present: eeg_recording_2016-07-07\n",
      "Skipped file. Already present: eeg_recording_2016-07-07\n",
      "Skipped file. Already present: eeg_recording_2016-07-07\n"
     ]
    },
    {
     "name": "stderr",
     "output_type": "stream",
     "text": [
      " 86%|█████████████████████████████████████████████████████▏        | 877/1023 [1:06:36<11:48,  4.85s/it]"
     ]
    },
    {
     "name": "stdout",
     "output_type": "stream",
     "text": [
      "Skipped file. Already present: eeg_recording_2016-07-08\n",
      "Skipped file. Already present: eeg_recording_2016-07-08\n",
      "Skipped file. Already present: eeg_recording_2016-07-08\n",
      "Skipped file. Already present: eeg_recording_2016-07-08\n",
      "Skipped file. Already present: eeg_recording_2016-07-08\n",
      "Skipped file. Already present: eeg_recording_2016-07-08\n"
     ]
    },
    {
     "name": "stderr",
     "output_type": "stream",
     "text": [
      " 86%|█████████████████████████████████████████████████████▏        | 878/1023 [1:06:41<11:28,  4.75s/it]"
     ]
    },
    {
     "name": "stdout",
     "output_type": "stream",
     "text": [
      "Skipped file. Already present: eeg_recording_2016-07-08\n",
      "Skipped file. Already present: eeg_recording_2016-07-08\n",
      "Skipped file. Already present: eeg_recording_2016-07-08\n",
      "Skipped file. Already present: eeg_recording_2016-07-08\n",
      "Skipped file. Already present: eeg_recording_2016-07-08\n",
      "Skipped file. Already present: eeg_recording_2016-07-08\n"
     ]
    },
    {
     "name": "stderr",
     "output_type": "stream",
     "text": [
      " 86%|█████████████████████████████████████████████████████▎        | 879/1023 [1:06:46<11:40,  4.86s/it]"
     ]
    },
    {
     "name": "stdout",
     "output_type": "stream",
     "text": [
      "Skipped file. Already present: eeg_recording_2016-07-09\n",
      "Skipped file. Already present: eeg_recording_2016-07-09\n",
      "Skipped file. Already present: eeg_recording_2016-07-09\n",
      "Skipped file. Already present: eeg_recording_2016-07-09\n",
      "Skipped file. Already present: eeg_recording_2016-07-09\n",
      "Skipped file. Already present: eeg_recording_2016-07-09\n"
     ]
    },
    {
     "name": "stderr",
     "output_type": "stream",
     "text": [
      " 86%|█████████████████████████████████████████████████████▎        | 880/1023 [1:06:50<11:17,  4.74s/it]"
     ]
    },
    {
     "name": "stdout",
     "output_type": "stream",
     "text": [
      "Skipped file. Already present: eeg_recording_2016-07-09\n",
      "Skipped file. Already present: eeg_recording_2016-07-09\n",
      "Skipped file. Already present: eeg_recording_2016-07-09\n",
      "Skipped file. Already present: eeg_recording_2016-07-09\n",
      "Skipped file. Already present: eeg_recording_2016-07-09\n",
      "Skipped file. Already present: eeg_recording_2016-07-09\n"
     ]
    },
    {
     "name": "stderr",
     "output_type": "stream",
     "text": [
      " 86%|█████████████████████████████████████████████████████▍        | 881/1023 [1:06:55<11:25,  4.82s/it]"
     ]
    },
    {
     "name": "stdout",
     "output_type": "stream",
     "text": [
      "Skipped file. Already present: eeg_recording_2016-07-10\n",
      "Skipped file. Already present: eeg_recording_2016-07-10\n",
      "Skipped file. Already present: eeg_recording_2016-07-10\n",
      "Skipped file. Already present: eeg_recording_2016-07-10\n",
      "Skipped file. Already present: eeg_recording_2016-07-10\n",
      "Skipped file. Already present: eeg_recording_2016-07-10\n"
     ]
    },
    {
     "name": "stderr",
     "output_type": "stream",
     "text": [
      " 86%|█████████████████████████████████████████████████████▍        | 882/1023 [1:07:00<11:05,  4.72s/it]"
     ]
    },
    {
     "name": "stdout",
     "output_type": "stream",
     "text": [
      "Skipped file. Already present: eeg_recording_2016-07-10\n",
      "Skipped file. Already present: eeg_recording_2016-07-10\n",
      "Skipped file. Already present: eeg_recording_2016-07-10\n",
      "Skipped file. Already present: eeg_recording_2016-07-10\n",
      "Skipped file. Already present: eeg_recording_2016-07-10\n",
      "Skipped file. Already present: eeg_recording_2016-07-10\n"
     ]
    },
    {
     "name": "stderr",
     "output_type": "stream",
     "text": [
      " 86%|█████████████████████████████████████████████████████▌        | 883/1023 [1:07:05<11:15,  4.83s/it]"
     ]
    },
    {
     "name": "stdout",
     "output_type": "stream",
     "text": [
      "Skipped file. Already present: eeg_recording_2016-07-11\n",
      "Skipped file. Already present: eeg_recording_2016-07-11\n",
      "Skipped file. Already present: eeg_recording_2016-07-11\n",
      "Skipped file. Already present: eeg_recording_2016-07-11\n",
      "Skipped file. Already present: eeg_recording_2016-07-11\n",
      "Skipped file. Already present: eeg_recording_2016-07-11\n"
     ]
    },
    {
     "name": "stderr",
     "output_type": "stream",
     "text": [
      " 86%|█████████████████████████████████████████████████████▌        | 884/1023 [1:07:09<10:59,  4.74s/it]"
     ]
    },
    {
     "name": "stdout",
     "output_type": "stream",
     "text": [
      "Skipped file. Already present: eeg_recording_2016-07-11\n",
      "Skipped file. Already present: eeg_recording_2016-07-11\n",
      "Skipped file. Already present: eeg_recording_2016-07-11\n",
      "Skipped file. Already present: eeg_recording_2016-07-11\n",
      "Skipped file. Already present: eeg_recording_2016-07-11\n",
      "Skipped file. Already present: eeg_recording_2016-07-11\n"
     ]
    },
    {
     "name": "stderr",
     "output_type": "stream",
     "text": [
      " 87%|█████████████████████████████████████████████████████▋        | 885/1023 [1:07:14<11:06,  4.83s/it]"
     ]
    },
    {
     "name": "stdout",
     "output_type": "stream",
     "text": [
      "Skipped file. Already present: eeg_recording_2016-07-12\n",
      "Skipped file. Already present: eeg_recording_2016-07-12\n",
      "Skipped file. Already present: eeg_recording_2016-07-12\n",
      "Skipped file. Already present: eeg_recording_2016-07-12\n",
      "Skipped file. Already present: eeg_recording_2016-07-12\n",
      "Skipped file. Already present: eeg_recording_2016-07-12\n"
     ]
    },
    {
     "name": "stderr",
     "output_type": "stream",
     "text": [
      " 87%|█████████████████████████████████████████████████████▋        | 886/1023 [1:07:19<10:57,  4.80s/it]"
     ]
    },
    {
     "name": "stdout",
     "output_type": "stream",
     "text": [
      "Skipped file. Already present: eeg_recording_2016-07-12\n",
      "Skipped file. Already present: eeg_recording_2016-07-12\n",
      "Skipped file. Already present: eeg_recording_2016-07-12\n",
      "Skipped file. Already present: eeg_recording_2016-07-12\n",
      "Skipped file. Already present: eeg_recording_2016-07-12\n",
      "Skipped file. Already present: eeg_recording_2016-07-12\n"
     ]
    },
    {
     "name": "stderr",
     "output_type": "stream",
     "text": [
      " 87%|█████████████████████████████████████████████████████▊        | 887/1023 [1:07:24<11:02,  4.87s/it]"
     ]
    },
    {
     "name": "stdout",
     "output_type": "stream",
     "text": [
      "Skipped file. Already present: eeg_recording_2016-07-13\n",
      "Skipped file. Already present: eeg_recording_2016-07-13\n",
      "Skipped file. Already present: eeg_recording_2016-07-13\n",
      "Skipped file. Already present: eeg_recording_2016-07-13\n",
      "Skipped file. Already present: eeg_recording_2016-07-13\n",
      "Skipped file. Already present: eeg_recording_2016-07-13\n"
     ]
    },
    {
     "name": "stderr",
     "output_type": "stream",
     "text": [
      " 87%|█████████████████████████████████████████████████████▊        | 888/1023 [1:07:29<10:58,  4.88s/it]"
     ]
    },
    {
     "name": "stdout",
     "output_type": "stream",
     "text": [
      "Skipped file. Already present: eeg_recording_2016-07-13\n",
      "Skipped file. Already present: eeg_recording_2016-07-13\n",
      "Skipped file. Already present: eeg_recording_2016-07-13\n",
      "Skipped file. Already present: eeg_recording_2016-07-13\n",
      "Skipped file. Already present: eeg_recording_2016-07-13\n"
     ]
    },
    {
     "name": "stderr",
     "output_type": "stream",
     "text": [
      " 87%|█████████████████████████████████████████████████████▉        | 889/1023 [1:07:34<11:01,  4.94s/it]"
     ]
    },
    {
     "name": "stdout",
     "output_type": "stream",
     "text": [
      "Skipped file. Already present: eeg_recording_2016-07-13\n",
      "Skipped file. Already present: eeg_recording_2016-07-14\n",
      "Skipped file. Already present: eeg_recording_2016-07-14\n",
      "Skipped file. Already present: eeg_recording_2016-07-14\n",
      "Skipped file. Already present: eeg_recording_2016-07-14\n",
      "Skipped file. Already present: eeg_recording_2016-07-14\n",
      "Skipped file. Already present: eeg_recording_2016-07-14\n"
     ]
    },
    {
     "name": "stderr",
     "output_type": "stream",
     "text": [
      " 87%|█████████████████████████████████████████████████████▉        | 890/1023 [1:07:39<10:58,  4.95s/it]"
     ]
    },
    {
     "name": "stdout",
     "output_type": "stream",
     "text": [
      "Skipped file. Already present: eeg_recording_2016-07-14\n",
      "Skipped file. Already present: eeg_recording_2016-07-14\n",
      "Skipped file. Already present: eeg_recording_2016-07-14\n",
      "Skipped file. Already present: eeg_recording_2016-07-14\n",
      "Skipped file. Already present: eeg_recording_2016-07-14\n",
      "Skipped file. Already present: eeg_recording_2016-07-14\n"
     ]
    },
    {
     "name": "stderr",
     "output_type": "stream",
     "text": [
      " 87%|██████████████████████████████████████████████████████        | 891/1023 [1:07:44<10:55,  4.96s/it]"
     ]
    },
    {
     "name": "stdout",
     "output_type": "stream",
     "text": [
      "Skipped file. Already present: eeg_recording_2016-07-15\n",
      "Skipped file. Already present: eeg_recording_2016-07-15\n",
      "Skipped file. Already present: eeg_recording_2016-07-15\n",
      "Skipped file. Already present: eeg_recording_2016-07-15\n",
      "Skipped file. Already present: eeg_recording_2016-07-15\n",
      "Skipped file. Already present: eeg_recording_2016-07-15\n"
     ]
    },
    {
     "name": "stderr",
     "output_type": "stream",
     "text": [
      " 87%|██████████████████████████████████████████████████████        | 892/1023 [1:07:49<10:51,  4.98s/it]"
     ]
    },
    {
     "name": "stdout",
     "output_type": "stream",
     "text": [
      "Skipped file. Already present: eeg_recording_2016-07-15\n",
      "Skipped file. Already present: eeg_recording_2016-07-15\n",
      "Skipped file. Already present: eeg_recording_2016-07-15\n",
      "Skipped file. Already present: eeg_recording_2016-07-15\n"
     ]
    },
    {
     "name": "stderr",
     "output_type": "stream",
     "text": [
      " 87%|██████████████████████████████████████████████████████        | 893/1023 [1:07:54<10:52,  5.02s/it]"
     ]
    },
    {
     "name": "stdout",
     "output_type": "stream",
     "text": [
      "Skipped file. Already present: eeg_recording_2016-07-16\n",
      "Skipped file. Already present: eeg_recording_2016-07-16\n",
      "Skipped file. Already present: eeg_recording_2016-07-16\n",
      "Skipped file. Already present: eeg_recording_2016-07-16\n",
      "Skipped file. Already present: eeg_recording_2016-07-16\n",
      "Skipped file. Already present: eeg_recording_2016-07-16\n"
     ]
    },
    {
     "name": "stderr",
     "output_type": "stream",
     "text": [
      " 87%|██████████████████████████████████████████████████████▏       | 894/1023 [1:07:59<10:47,  5.02s/it]"
     ]
    },
    {
     "name": "stdout",
     "output_type": "stream",
     "text": [
      "Skipped file. Already present: eeg_recording_2016-07-16\n",
      "Skipped file. Already present: eeg_recording_2016-07-16\n",
      "Skipped file. Already present: eeg_recording_2016-07-16\n",
      "Skipped file. Already present: eeg_recording_2016-07-16\n"
     ]
    },
    {
     "name": "stderr",
     "output_type": "stream",
     "text": [
      " 87%|██████████████████████████████████████████████████████▏       | 895/1023 [1:08:04<10:41,  5.01s/it]"
     ]
    },
    {
     "name": "stdout",
     "output_type": "stream",
     "text": [
      "Skipped file. Already present: eeg_recording_2016-07-17\n",
      "Skipped file. Already present: eeg_recording_2016-07-17\n",
      "Skipped file. Already present: eeg_recording_2016-07-17\n",
      "Skipped file. Already present: eeg_recording_2016-07-17\n",
      "Skipped file. Already present: eeg_recording_2016-07-17\n",
      "Skipped file. Already present: eeg_recording_2016-07-17\n"
     ]
    },
    {
     "name": "stderr",
     "output_type": "stream",
     "text": [
      " 88%|██████████████████████████████████████████████████████▎       | 896/1023 [1:08:09<10:36,  5.01s/it]"
     ]
    },
    {
     "name": "stdout",
     "output_type": "stream",
     "text": [
      "Skipped file. Already present: eeg_recording_2016-07-17\n",
      "Skipped file. Already present: eeg_recording_2016-07-17\n",
      "Skipped file. Already present: eeg_recording_2016-07-17\n",
      "Skipped file. Already present: eeg_recording_2016-07-17\n"
     ]
    },
    {
     "name": "stderr",
     "output_type": "stream",
     "text": [
      " 88%|██████████████████████████████████████████████████████▎       | 897/1023 [1:08:14<10:32,  5.02s/it]"
     ]
    },
    {
     "name": "stdout",
     "output_type": "stream",
     "text": [
      "Skipped file. Already present: eeg_recording_2016-07-18\n",
      "Skipped file. Already present: eeg_recording_2016-07-18\n",
      "Skipped file. Already present: eeg_recording_2016-07-18\n",
      "Skipped file. Already present: eeg_recording_2016-07-18\n",
      "Skipped file. Already present: eeg_recording_2016-07-18\n",
      "Skipped file. Already present: eeg_recording_2016-07-18\n"
     ]
    },
    {
     "name": "stderr",
     "output_type": "stream",
     "text": [
      " 88%|██████████████████████████████████████████████████████▍       | 898/1023 [1:08:19<10:27,  5.02s/it]"
     ]
    },
    {
     "name": "stdout",
     "output_type": "stream",
     "text": [
      "Skipped file. Already present: eeg_recording_2016-07-19\n",
      "Skipped file. Already present: eeg_recording_2016-07-19\n",
      "Skipped file. Already present: eeg_recording_2016-07-19\n",
      "Skipped file. Already present: eeg_recording_2016-07-19\n",
      "Skipped file. Already present: eeg_recording_2016-07-19\n",
      "Skipped file. Already present: eeg_recording_2016-07-19\n"
     ]
    },
    {
     "name": "stderr",
     "output_type": "stream",
     "text": [
      " 88%|██████████████████████████████████████████████████████▍       | 899/1023 [1:08:24<10:23,  5.03s/it]"
     ]
    },
    {
     "name": "stdout",
     "output_type": "stream",
     "text": [
      "Skipped file. Already present: eeg_recording_2016-07-20\n",
      "Skipped file. Already present: eeg_recording_2016-07-20\n",
      "Skipped file. Already present: eeg_recording_2016-07-20\n",
      "Skipped file. Already present: eeg_recording_2016-07-20\n",
      "Skipped file. Already present: eeg_recording_2016-07-20\n",
      "Skipped file. Already present: eeg_recording_2016-07-20\n"
     ]
    },
    {
     "name": "stderr",
     "output_type": "stream",
     "text": [
      " 88%|██████████████████████████████████████████████████████▌       | 900/1023 [1:08:29<10:17,  5.02s/it]"
     ]
    },
    {
     "name": "stdout",
     "output_type": "stream",
     "text": [
      "Skipped file. Already present: eeg_recording_2016-07-20\n",
      "Skipped file. Already present: eeg_recording_2016-07-20\n",
      "Skipped file. Already present: eeg_recording_2016-07-20\n",
      "Skipped file. Already present: eeg_recording_2016-07-20\n",
      "Skipped file. Already present: eeg_recording_2016-07-20\n"
     ]
    },
    {
     "name": "stderr",
     "output_type": "stream",
     "text": [
      " 88%|██████████████████████████████████████████████████████▌       | 901/1023 [1:08:34<10:04,  4.95s/it]"
     ]
    },
    {
     "name": "stdout",
     "output_type": "stream",
     "text": [
      "Skipped file. Already present: eeg_recording_2016-07-21\n",
      "Skipped file. Already present: eeg_recording_2016-07-21\n",
      "Skipped file. Already present: eeg_recording_2016-07-21\n",
      "Skipped file. Already present: eeg_recording_2016-07-21\n",
      "Skipped file. Already present: eeg_recording_2016-07-21\n",
      "Skipped file. Already present: eeg_recording_2016-07-21\n"
     ]
    },
    {
     "name": "stderr",
     "output_type": "stream",
     "text": [
      " 88%|██████████████████████████████████████████████████████▋       | 902/1023 [1:08:39<10:11,  5.06s/it]"
     ]
    },
    {
     "name": "stdout",
     "output_type": "stream",
     "text": [
      "Skipped file. Already present: eeg_recording_2016-07-21\n",
      "Skipped file. Already present: eeg_recording_2016-07-21\n",
      "Skipped file. Already present: eeg_recording_2016-07-21\n",
      "Skipped file. Already present: eeg_recording_2016-07-21\n",
      "Skipped file. Already present: eeg_recording_2016-07-21\n"
     ]
    },
    {
     "name": "stderr",
     "output_type": "stream",
     "text": [
      " 88%|██████████████████████████████████████████████████████▋       | 903/1023 [1:08:44<09:56,  4.97s/it]"
     ]
    },
    {
     "name": "stdout",
     "output_type": "stream",
     "text": [
      "Skipped file. Already present: eeg_recording_2016-07-22\n",
      "Skipped file. Already present: eeg_recording_2016-07-22\n",
      "Skipped file. Already present: eeg_recording_2016-07-22\n",
      "Skipped file. Already present: eeg_recording_2016-07-22\n",
      "Skipped file. Already present: eeg_recording_2016-07-22\n",
      "Skipped file. Already present: eeg_recording_2016-07-22\n"
     ]
    },
    {
     "name": "stderr",
     "output_type": "stream",
     "text": [
      " 88%|██████████████████████████████████████████████████████▊       | 904/1023 [1:08:49<10:01,  5.05s/it]"
     ]
    },
    {
     "name": "stdout",
     "output_type": "stream",
     "text": [
      "Skipped file. Already present: eeg_recording_2016-07-22\n",
      "Skipped file. Already present: eeg_recording_2016-07-22\n",
      "Skipped file. Already present: eeg_recording_2016-07-22\n",
      "Skipped file. Already present: eeg_recording_2016-07-22\n",
      "Skipped file. Already present: eeg_recording_2016-07-22\n"
     ]
    },
    {
     "name": "stderr",
     "output_type": "stream",
     "text": [
      " 88%|██████████████████████████████████████████████████████▊       | 905/1023 [1:08:54<09:46,  4.97s/it]"
     ]
    },
    {
     "name": "stdout",
     "output_type": "stream",
     "text": [
      "Skipped file. Already present: eeg_recording_2016-07-23\n",
      "Skipped file. Already present: eeg_recording_2016-07-23\n",
      "Skipped file. Already present: eeg_recording_2016-07-23\n",
      "Skipped file. Already present: eeg_recording_2016-07-23\n",
      "Skipped file. Already present: eeg_recording_2016-07-23\n",
      "Skipped file. Already present: eeg_recording_2016-07-23\n"
     ]
    },
    {
     "name": "stderr",
     "output_type": "stream",
     "text": [
      " 89%|██████████████████████████████████████████████████████▉       | 906/1023 [1:08:59<09:53,  5.08s/it]"
     ]
    },
    {
     "name": "stdout",
     "output_type": "stream",
     "text": [
      "Skipped file. Already present: eeg_recording_2016-07-23\n",
      "Skipped file. Already present: eeg_recording_2016-07-23\n",
      "Skipped file. Already present: eeg_recording_2016-07-23\n",
      "Skipped file. Already present: eeg_recording_2016-07-23\n",
      "Skipped file. Already present: eeg_recording_2016-07-23\n"
     ]
    },
    {
     "name": "stderr",
     "output_type": "stream",
     "text": [
      " 89%|██████████████████████████████████████████████████████▉       | 907/1023 [1:09:04<09:38,  4.98s/it]"
     ]
    },
    {
     "name": "stdout",
     "output_type": "stream",
     "text": [
      "Skipped file. Already present: eeg_recording_2016-07-24\n",
      "Skipped file. Already present: eeg_recording_2016-07-24\n",
      "Skipped file. Already present: eeg_recording_2016-07-24\n",
      "Skipped file. Already present: eeg_recording_2016-07-24\n",
      "Skipped file. Already present: eeg_recording_2016-07-24\n",
      "Skipped file. Already present: eeg_recording_2016-07-24\n"
     ]
    },
    {
     "name": "stderr",
     "output_type": "stream",
     "text": [
      " 89%|███████████████████████████████████████████████████████       | 908/1023 [1:09:10<09:45,  5.09s/it]"
     ]
    },
    {
     "name": "stdout",
     "output_type": "stream",
     "text": [
      "Skipped file. Already present: eeg_recording_2016-07-24\n",
      "Skipped file. Already present: eeg_recording_2016-07-24\n",
      "Skipped file. Already present: eeg_recording_2016-07-24\n",
      "Skipped file. Already present: eeg_recording_2016-07-24\n",
      "Skipped file. Already present: eeg_recording_2016-07-24\n"
     ]
    },
    {
     "name": "stderr",
     "output_type": "stream",
     "text": [
      " 89%|███████████████████████████████████████████████████████       | 909/1023 [1:09:14<09:28,  4.98s/it]"
     ]
    },
    {
     "name": "stdout",
     "output_type": "stream",
     "text": [
      "Skipped file. Already present: eeg_recording_2016-07-25\n",
      "Skipped file. Already present: eeg_recording_2016-07-25\n",
      "Skipped file. Already present: eeg_recording_2016-07-25\n",
      "Skipped file. Already present: eeg_recording_2016-07-25\n",
      "Skipped file. Already present: eeg_recording_2016-07-25\n",
      "Skipped file. Already present: eeg_recording_2016-07-25\n"
     ]
    },
    {
     "name": "stderr",
     "output_type": "stream",
     "text": [
      " 89%|███████████████████████████████████████████████████████▏      | 910/1023 [1:09:20<09:40,  5.14s/it]"
     ]
    },
    {
     "name": "stdout",
     "output_type": "stream",
     "text": [
      "Skipped file. Already present: eeg_recording_2016-07-25\n",
      "Skipped file. Already present: eeg_recording_2016-07-25\n",
      "Skipped file. Already present: eeg_recording_2016-07-25\n",
      "Skipped file. Already present: eeg_recording_2016-07-25\n",
      "Skipped file. Already present: eeg_recording_2016-07-25\n"
     ]
    },
    {
     "name": "stderr",
     "output_type": "stream",
     "text": [
      " 89%|███████████████████████████████████████████████████████▏      | 911/1023 [1:09:25<09:21,  5.02s/it]"
     ]
    },
    {
     "name": "stdout",
     "output_type": "stream",
     "text": [
      "Skipped file. Already present: eeg_recording_2016-07-26\n",
      "Skipped file. Already present: eeg_recording_2016-07-26\n",
      "Skipped file. Already present: eeg_recording_2016-07-26\n",
      "Skipped file. Already present: eeg_recording_2016-07-26\n",
      "Skipped file. Already present: eeg_recording_2016-07-26\n",
      "Skipped file. Already present: eeg_recording_2016-07-26\n"
     ]
    },
    {
     "name": "stderr",
     "output_type": "stream",
     "text": [
      " 89%|███████████████████████████████████████████████████████▎      | 912/1023 [1:09:31<09:53,  5.34s/it]"
     ]
    },
    {
     "name": "stdout",
     "output_type": "stream",
     "text": [
      "Skipped file. Already present: eeg_recording_2016-07-26\n",
      "Skipped file. Already present: eeg_recording_2016-07-26\n",
      "Skipped file. Already present: eeg_recording_2016-07-26\n",
      "Skipped file. Already present: eeg_recording_2016-07-26\n",
      "Skipped file. Already present: eeg_recording_2016-07-26\n"
     ]
    },
    {
     "name": "stderr",
     "output_type": "stream",
     "text": [
      " 89%|███████████████████████████████████████████████████████▎      | 913/1023 [1:09:35<09:32,  5.21s/it]"
     ]
    },
    {
     "name": "stdout",
     "output_type": "stream",
     "text": [
      "Skipped file. Already present: eeg_recording_2016-07-27\n",
      "Skipped file. Already present: eeg_recording_2016-07-27\n",
      "Skipped file. Already present: eeg_recording_2016-07-27\n",
      "Skipped file. Already present: eeg_recording_2016-07-27\n",
      "Skipped file. Already present: eeg_recording_2016-07-27\n",
      "Skipped file. Already present: eeg_recording_2016-07-27\n"
     ]
    },
    {
     "name": "stderr",
     "output_type": "stream",
     "text": [
      " 89%|███████████████████████████████████████████████████████▍      | 914/1023 [1:09:41<09:52,  5.43s/it]"
     ]
    },
    {
     "name": "stdout",
     "output_type": "stream",
     "text": [
      "Skipped file. Already present: eeg_recording_2016-07-27\n",
      "Skipped file. Already present: eeg_recording_2016-07-27\n",
      "Skipped file. Already present: eeg_recording_2016-07-27\n",
      "Skipped file. Already present: eeg_recording_2016-07-27\n",
      "Skipped file. Already present: eeg_recording_2016-07-27\n"
     ]
    },
    {
     "name": "stderr",
     "output_type": "stream",
     "text": [
      " 89%|███████████████████████████████████████████████████████▍      | 915/1023 [1:09:46<09:33,  5.31s/it]"
     ]
    },
    {
     "name": "stdout",
     "output_type": "stream",
     "text": [
      "Skipped file. Already present: eeg_recording_2016-07-28\n",
      "Skipped file. Already present: eeg_recording_2016-07-28\n",
      "Skipped file. Already present: eeg_recording_2016-07-28\n",
      "Skipped file. Already present: eeg_recording_2016-07-28\n",
      "Skipped file. Already present: eeg_recording_2016-07-28\n",
      "Skipped file. Already present: eeg_recording_2016-07-28\n"
     ]
    },
    {
     "name": "stderr",
     "output_type": "stream",
     "text": [
      " 90%|███████████████████████████████████████████████████████▌      | 916/1023 [1:09:52<09:47,  5.49s/it]"
     ]
    },
    {
     "name": "stdout",
     "output_type": "stream",
     "text": [
      "Skipped file. Already present: eeg_recording_2016-07-28\n",
      "Skipped file. Already present: eeg_recording_2016-07-28\n",
      "Skipped file. Already present: eeg_recording_2016-07-28\n",
      "Skipped file. Already present: eeg_recording_2016-07-28\n",
      "Skipped file. Already present: eeg_recording_2016-07-28\n"
     ]
    },
    {
     "name": "stderr",
     "output_type": "stream",
     "text": [
      " 90%|███████████████████████████████████████████████████████▌      | 917/1023 [1:09:57<09:27,  5.36s/it]"
     ]
    },
    {
     "name": "stdout",
     "output_type": "stream",
     "text": [
      "Skipped file. Already present: eeg_recording_2016-07-29\n",
      "Skipped file. Already present: eeg_recording_2016-07-29\n",
      "Skipped file. Already present: eeg_recording_2016-07-29\n",
      "Skipped file. Already present: eeg_recording_2016-07-29\n",
      "Skipped file. Already present: eeg_recording_2016-07-29\n",
      "Skipped file. Already present: eeg_recording_2016-07-29\n"
     ]
    },
    {
     "name": "stderr",
     "output_type": "stream",
     "text": [
      " 90%|███████████████████████████████████████████████████████▋      | 918/1023 [1:10:03<09:35,  5.48s/it]"
     ]
    },
    {
     "name": "stdout",
     "output_type": "stream",
     "text": [
      "Skipped file. Already present: eeg_recording_2016-07-29\n",
      "Skipped file. Already present: eeg_recording_2016-07-29\n",
      "Skipped file. Already present: eeg_recording_2016-07-29\n",
      "Skipped file. Already present: eeg_recording_2016-07-29\n",
      "Skipped file. Already present: eeg_recording_2016-07-29\n"
     ]
    },
    {
     "name": "stderr",
     "output_type": "stream",
     "text": [
      " 90%|███████████████████████████████████████████████████████▋      | 919/1023 [1:10:08<09:10,  5.30s/it]"
     ]
    },
    {
     "name": "stdout",
     "output_type": "stream",
     "text": [
      "Skipped file. Already present: eeg_recording_2016-07-30\n",
      "Skipped file. Already present: eeg_recording_2016-07-30\n",
      "Skipped file. Already present: eeg_recording_2016-07-30\n",
      "Skipped file. Already present: eeg_recording_2016-07-30\n",
      "Skipped file. Already present: eeg_recording_2016-07-30\n",
      "Skipped file. Already present: eeg_recording_2016-07-30\n"
     ]
    },
    {
     "name": "stderr",
     "output_type": "stream",
     "text": [
      " 90%|███████████████████████████████████████████████████████▊      | 920/1023 [1:10:14<09:27,  5.51s/it]"
     ]
    },
    {
     "name": "stdout",
     "output_type": "stream",
     "text": [
      "Skipped file. Already present: eeg_recording_2016-07-30\n",
      "Skipped file. Already present: eeg_recording_2016-07-30\n",
      "Skipped file. Already present: eeg_recording_2016-07-30\n",
      "Skipped file. Already present: eeg_recording_2016-07-30\n",
      "Skipped file. Already present: eeg_recording_2016-07-30\n"
     ]
    },
    {
     "name": "stderr",
     "output_type": "stream",
     "text": [
      " 90%|███████████████████████████████████████████████████████▊      | 921/1023 [1:10:19<09:07,  5.36s/it]"
     ]
    },
    {
     "name": "stdout",
     "output_type": "stream",
     "text": [
      "Skipped file. Already present: eeg_recording_2016-07-31\n",
      "Skipped file. Already present: eeg_recording_2016-07-31\n",
      "Skipped file. Already present: eeg_recording_2016-07-31\n",
      "Skipped file. Already present: eeg_recording_2016-07-31\n",
      "Skipped file. Already present: eeg_recording_2016-07-31\n",
      "Skipped file. Already present: eeg_recording_2016-07-31\n"
     ]
    },
    {
     "name": "stderr",
     "output_type": "stream",
     "text": [
      " 90%|███████████████████████████████████████████████████████▉      | 922/1023 [1:10:25<09:20,  5.55s/it]"
     ]
    },
    {
     "name": "stdout",
     "output_type": "stream",
     "text": [
      "Skipped file. Already present: eeg_recording_2016-07-31\n",
      "Skipped file. Already present: eeg_recording_2016-07-31\n",
      "Skipped file. Already present: eeg_recording_2016-07-31\n",
      "Skipped file. Already present: eeg_recording_2016-07-31\n",
      "Skipped file. Already present: eeg_recording_2016-07-31\n"
     ]
    },
    {
     "name": "stderr",
     "output_type": "stream",
     "text": [
      " 90%|███████████████████████████████████████████████████████▉      | 923/1023 [1:10:30<08:58,  5.38s/it]"
     ]
    },
    {
     "name": "stdout",
     "output_type": "stream",
     "text": [
      "Skipped file. Already present: eeg_recording_2016-08-01\n",
      "Skipped file. Already present: eeg_recording_2016-08-01\n",
      "Skipped file. Already present: eeg_recording_2016-08-01\n",
      "Skipped file. Already present: eeg_recording_2016-08-01\n",
      "Skipped file. Already present: eeg_recording_2016-08-01\n",
      "Skipped file. Already present: eeg_recording_2016-08-01\n"
     ]
    },
    {
     "name": "stderr",
     "output_type": "stream",
     "text": [
      " 90%|████████████████████████████████████████████████████████      | 924/1023 [1:10:36<09:10,  5.56s/it]"
     ]
    },
    {
     "name": "stdout",
     "output_type": "stream",
     "text": [
      "Skipped file. Already present: eeg_recording_2016-08-01\n",
      "Skipped file. Already present: eeg_recording_2016-08-01\n",
      "Skipped file. Already present: eeg_recording_2016-08-01\n",
      "Skipped file. Already present: eeg_recording_2016-08-01\n",
      "Skipped file. Already present: eeg_recording_2016-08-01\n"
     ]
    },
    {
     "name": "stderr",
     "output_type": "stream",
     "text": [
      " 90%|████████████████████████████████████████████████████████      | 925/1023 [1:10:41<08:53,  5.44s/it]"
     ]
    },
    {
     "name": "stdout",
     "output_type": "stream",
     "text": [
      "Skipped file. Already present: eeg_recording_2016-08-02\n",
      "Skipped file. Already present: eeg_recording_2016-08-02\n",
      "Skipped file. Already present: eeg_recording_2016-08-02\n",
      "Skipped file. Already present: eeg_recording_2016-08-02\n",
      "Skipped file. Already present: eeg_recording_2016-08-02\n",
      "Skipped file. Already present: eeg_recording_2016-08-02\n"
     ]
    },
    {
     "name": "stderr",
     "output_type": "stream",
     "text": [
      " 91%|████████████████████████████████████████████████████████      | 926/1023 [1:10:47<09:03,  5.60s/it]"
     ]
    },
    {
     "name": "stdout",
     "output_type": "stream",
     "text": [
      "Skipped file. Already present: eeg_recording_2016-08-02\n",
      "Skipped file. Already present: eeg_recording_2016-08-02\n",
      "Skipped file. Already present: eeg_recording_2016-08-02\n",
      "Skipped file. Already present: eeg_recording_2016-08-02\n",
      "Skipped file. Already present: eeg_recording_2016-08-02\n"
     ]
    },
    {
     "name": "stderr",
     "output_type": "stream",
     "text": [
      " 91%|████████████████████████████████████████████████████████▏     | 927/1023 [1:10:53<08:52,  5.55s/it]"
     ]
    },
    {
     "name": "stdout",
     "output_type": "stream",
     "text": [
      "Skipped file. Already present: eeg_recording_2016-08-03\n",
      "Skipped file. Already present: eeg_recording_2016-08-03\n",
      "Skipped file. Already present: eeg_recording_2016-08-03\n",
      "Skipped file. Already present: eeg_recording_2016-08-03\n",
      "Skipped file. Already present: eeg_recording_2016-08-03\n"
     ]
    },
    {
     "name": "stderr",
     "output_type": "stream",
     "text": [
      " 91%|████████████████████████████████████████████████████████▏     | 928/1023 [1:10:58<08:52,  5.60s/it]"
     ]
    },
    {
     "name": "stdout",
     "output_type": "stream",
     "text": [
      "Skipped file. Already present: eeg_recording_2016-08-03\n",
      "Skipped file. Already present: eeg_recording_2016-08-03\n",
      "Skipped file. Already present: eeg_recording_2016-08-03\n",
      "Skipped file. Already present: eeg_recording_2016-08-03\n",
      "Skipped file. Already present: eeg_recording_2016-08-03\n"
     ]
    },
    {
     "name": "stderr",
     "output_type": "stream",
     "text": [
      " 91%|████████████████████████████████████████████████████████▎     | 929/1023 [1:11:04<08:46,  5.60s/it]"
     ]
    },
    {
     "name": "stdout",
     "output_type": "stream",
     "text": [
      "Skipped file. Already present: eeg_recording_2016-08-04\n",
      "Skipped file. Already present: eeg_recording_2016-08-04\n",
      "Skipped file. Already present: eeg_recording_2016-08-04\n",
      "Skipped file. Already present: eeg_recording_2016-08-04\n",
      "Skipped file. Already present: eeg_recording_2016-08-04\n"
     ]
    },
    {
     "name": "stderr",
     "output_type": "stream",
     "text": [
      " 91%|████████████████████████████████████████████████████████▎     | 930/1023 [1:11:10<08:47,  5.67s/it]"
     ]
    },
    {
     "name": "stdout",
     "output_type": "stream",
     "text": [
      "Skipped file. Already present: eeg_recording_2016-08-04\n",
      "Skipped file. Already present: eeg_recording_2016-08-04\n",
      "Skipped file. Already present: eeg_recording_2016-08-04\n",
      "Skipped file. Already present: eeg_recording_2016-08-04\n",
      "Skipped file. Already present: eeg_recording_2016-08-04\n"
     ]
    },
    {
     "name": "stderr",
     "output_type": "stream",
     "text": [
      " 91%|████████████████████████████████████████████████████████▍     | 931/1023 [1:11:15<08:39,  5.64s/it]"
     ]
    },
    {
     "name": "stdout",
     "output_type": "stream",
     "text": [
      "Skipped file. Already present: eeg_recording_2016-08-05\n",
      "Skipped file. Already present: eeg_recording_2016-08-05\n",
      "Skipped file. Already present: eeg_recording_2016-08-05\n",
      "Skipped file. Already present: eeg_recording_2016-08-05\n",
      "Skipped file. Already present: eeg_recording_2016-08-05\n"
     ]
    },
    {
     "name": "stderr",
     "output_type": "stream",
     "text": [
      " 91%|████████████████████████████████████████████████████████▍     | 932/1023 [1:11:21<08:32,  5.63s/it]"
     ]
    },
    {
     "name": "stdout",
     "output_type": "stream",
     "text": [
      "Skipped file. Already present: eeg_recording_2016-08-05\n",
      "Skipped file. Already present: eeg_recording_2016-08-05\n",
      "Skipped file. Already present: eeg_recording_2016-08-05\n",
      "Skipped file. Already present: eeg_recording_2016-08-05\n",
      "Skipped file. Already present: eeg_recording_2016-08-05\n"
     ]
    },
    {
     "name": "stderr",
     "output_type": "stream",
     "text": [
      " 91%|████████████████████████████████████████████████████████▌     | 933/1023 [1:11:27<08:31,  5.69s/it]"
     ]
    },
    {
     "name": "stdout",
     "output_type": "stream",
     "text": [
      "Skipped file. Already present: eeg_recording_2016-08-06\n",
      "Skipped file. Already present: eeg_recording_2016-08-06\n",
      "Skipped file. Already present: eeg_recording_2016-08-06\n",
      "Skipped file. Already present: eeg_recording_2016-08-06\n",
      "Skipped file. Already present: eeg_recording_2016-08-06\n"
     ]
    },
    {
     "name": "stderr",
     "output_type": "stream",
     "text": [
      " 91%|████████████████████████████████████████████████████████▌     | 934/1023 [1:11:32<08:22,  5.65s/it]"
     ]
    },
    {
     "name": "stdout",
     "output_type": "stream",
     "text": [
      "Skipped file. Already present: eeg_recording_2016-08-06\n",
      "Skipped file. Already present: eeg_recording_2016-08-06\n",
      "Skipped file. Already present: eeg_recording_2016-08-06\n",
      "Skipped file. Already present: eeg_recording_2016-08-06\n",
      "Skipped file. Already present: eeg_recording_2016-08-06\n"
     ]
    },
    {
     "name": "stderr",
     "output_type": "stream",
     "text": [
      " 91%|████████████████████████████████████████████████████████▋     | 935/1023 [1:11:38<08:22,  5.70s/it]"
     ]
    },
    {
     "name": "stdout",
     "output_type": "stream",
     "text": [
      "Skipped file. Already present: eeg_recording_2016-08-07\n",
      "Skipped file. Already present: eeg_recording_2016-08-07\n",
      "Skipped file. Already present: eeg_recording_2016-08-07\n",
      "Skipped file. Already present: eeg_recording_2016-08-07\n",
      "Skipped file. Already present: eeg_recording_2016-08-07\n"
     ]
    },
    {
     "name": "stderr",
     "output_type": "stream",
     "text": [
      " 91%|████████████████████████████████████████████████████████▋     | 936/1023 [1:11:44<08:07,  5.60s/it]"
     ]
    },
    {
     "name": "stdout",
     "output_type": "stream",
     "text": [
      "Skipped file. Already present: eeg_recording_2016-08-07\n",
      "Skipped file. Already present: eeg_recording_2016-08-07\n",
      "Skipped file. Already present: eeg_recording_2016-08-07\n",
      "Skipped file. Already present: eeg_recording_2016-08-07\n",
      "Skipped file. Already present: eeg_recording_2016-08-07\n"
     ]
    },
    {
     "name": "stderr",
     "output_type": "stream",
     "text": [
      " 92%|████████████████████████████████████████████████████████▊     | 937/1023 [1:11:49<08:02,  5.61s/it]"
     ]
    },
    {
     "name": "stdout",
     "output_type": "stream",
     "text": [
      "Skipped file. Already present: eeg_recording_2016-08-08\n",
      "Skipped file. Already present: eeg_recording_2016-08-08\n",
      "Skipped file. Already present: eeg_recording_2016-08-08\n",
      "Skipped file. Already present: eeg_recording_2016-08-08\n",
      "Skipped file. Already present: eeg_recording_2016-08-08\n"
     ]
    },
    {
     "name": "stderr",
     "output_type": "stream",
     "text": [
      " 92%|████████████████████████████████████████████████████████▊     | 938/1023 [1:11:55<07:50,  5.53s/it]"
     ]
    },
    {
     "name": "stdout",
     "output_type": "stream",
     "text": [
      "Skipped file. Already present: eeg_recording_2016-08-08\n",
      "Skipped file. Already present: eeg_recording_2016-08-08\n",
      "Skipped file. Already present: eeg_recording_2016-08-08\n",
      "Skipped file. Already present: eeg_recording_2016-08-08\n",
      "Skipped file. Already present: eeg_recording_2016-08-08\n"
     ]
    },
    {
     "name": "stderr",
     "output_type": "stream",
     "text": [
      " 92%|████████████████████████████████████████████████████████▉     | 939/1023 [1:12:00<07:44,  5.53s/it]"
     ]
    },
    {
     "name": "stdout",
     "output_type": "stream",
     "text": [
      "Skipped file. Already present: eeg_recording_2016-08-09\n",
      "Skipped file. Already present: eeg_recording_2016-08-09\n",
      "Skipped file. Already present: eeg_recording_2016-08-09\n",
      "Skipped file. Already present: eeg_recording_2016-08-09\n",
      "Skipped file. Already present: eeg_recording_2016-08-09\n"
     ]
    },
    {
     "name": "stderr",
     "output_type": "stream",
     "text": [
      " 92%|████████████████████████████████████████████████████████▉     | 940/1023 [1:12:05<07:36,  5.50s/it]"
     ]
    },
    {
     "name": "stdout",
     "output_type": "stream",
     "text": [
      "Skipped file. Already present: eeg_recording_2016-08-09\n",
      "Skipped file. Already present: eeg_recording_2016-08-09\n",
      "Skipped file. Already present: eeg_recording_2016-08-09\n",
      "Skipped file. Already present: eeg_recording_2016-08-09\n",
      "Skipped file. Already present: eeg_recording_2016-08-09\n"
     ]
    },
    {
     "name": "stderr",
     "output_type": "stream",
     "text": [
      " 92%|█████████████████████████████████████████████████████████     | 941/1023 [1:12:11<07:34,  5.54s/it]"
     ]
    },
    {
     "name": "stdout",
     "output_type": "stream",
     "text": [
      "Skipped file. Already present: eeg_recording_2016-08-10\n",
      "Skipped file. Already present: eeg_recording_2016-08-10\n",
      "Skipped file. Already present: eeg_recording_2016-08-10\n",
      "Skipped file. Already present: eeg_recording_2016-08-10\n",
      "Skipped file. Already present: eeg_recording_2016-08-10\n"
     ]
    },
    {
     "name": "stderr",
     "output_type": "stream",
     "text": [
      " 92%|█████████████████████████████████████████████████████████     | 942/1023 [1:12:17<07:28,  5.54s/it]"
     ]
    },
    {
     "name": "stdout",
     "output_type": "stream",
     "text": [
      "Skipped file. Already present: eeg_recording_2016-08-10\n",
      "Skipped file. Already present: eeg_recording_2016-08-10\n",
      "Skipped file. Already present: eeg_recording_2016-08-10\n",
      "Skipped file. Already present: eeg_recording_2016-08-10\n",
      "Skipped file. Already present: eeg_recording_2016-08-10\n"
     ]
    },
    {
     "name": "stderr",
     "output_type": "stream",
     "text": [
      " 92%|█████████████████████████████████████████████████████████▏    | 943/1023 [1:12:22<07:24,  5.55s/it]"
     ]
    },
    {
     "name": "stdout",
     "output_type": "stream",
     "text": [
      "Skipped file. Already present: eeg_recording_2016-08-11\n",
      "Skipped file. Already present: eeg_recording_2016-08-11\n",
      "Skipped file. Already present: eeg_recording_2016-08-11\n",
      "Skipped file. Already present: eeg_recording_2016-08-11\n",
      "Skipped file. Already present: eeg_recording_2016-08-11\n"
     ]
    },
    {
     "name": "stderr",
     "output_type": "stream",
     "text": [
      " 92%|█████████████████████████████████████████████████████████▏    | 944/1023 [1:12:28<07:23,  5.61s/it]"
     ]
    },
    {
     "name": "stdout",
     "output_type": "stream",
     "text": [
      "Skipped file. Already present: eeg_recording_2016-08-11\n",
      "Skipped file. Already present: eeg_recording_2016-08-11\n",
      "Skipped file. Already present: eeg_recording_2016-08-11\n",
      "Skipped file. Already present: eeg_recording_2016-08-11\n",
      "Skipped file. Already present: eeg_recording_2016-08-11\n"
     ]
    },
    {
     "name": "stderr",
     "output_type": "stream",
     "text": [
      " 92%|█████████████████████████████████████████████████████████▎    | 945/1023 [1:12:34<07:16,  5.59s/it]"
     ]
    },
    {
     "name": "stdout",
     "output_type": "stream",
     "text": [
      "Skipped file. Already present: eeg_recording_2016-08-12\n",
      "Skipped file. Already present: eeg_recording_2016-08-12\n",
      "Skipped file. Already present: eeg_recording_2016-08-12\n",
      "Skipped file. Already present: eeg_recording_2016-08-12\n",
      "Skipped file. Already present: eeg_recording_2016-08-12\n"
     ]
    },
    {
     "name": "stderr",
     "output_type": "stream",
     "text": [
      " 92%|█████████████████████████████████████████████████████████▎    | 946/1023 [1:12:39<07:07,  5.56s/it]"
     ]
    },
    {
     "name": "stdout",
     "output_type": "stream",
     "text": [
      "Skipped file. Already present: eeg_recording_2016-08-12\n",
      "Skipped file. Already present: eeg_recording_2016-08-12\n",
      "Skipped file. Already present: eeg_recording_2016-08-12\n",
      "Skipped file. Already present: eeg_recording_2016-08-12\n",
      "Skipped file. Already present: eeg_recording_2016-08-12\n"
     ]
    },
    {
     "name": "stderr",
     "output_type": "stream",
     "text": [
      " 93%|█████████████████████████████████████████████████████████▍    | 947/1023 [1:12:45<07:09,  5.66s/it]"
     ]
    },
    {
     "name": "stdout",
     "output_type": "stream",
     "text": [
      "Skipped file. Already present: eeg_recording_2016-08-13\n",
      "Skipped file. Already present: eeg_recording_2016-08-13\n",
      "Skipped file. Already present: eeg_recording_2016-08-13\n",
      "Skipped file. Already present: eeg_recording_2016-08-13\n",
      "Skipped file. Already present: eeg_recording_2016-08-13\n"
     ]
    },
    {
     "name": "stderr",
     "output_type": "stream",
     "text": [
      " 93%|█████████████████████████████████████████████████████████▍    | 948/1023 [1:12:50<06:55,  5.54s/it]"
     ]
    },
    {
     "name": "stdout",
     "output_type": "stream",
     "text": [
      "Skipped file. Already present: eeg_recording_2016-08-13\n",
      "Skipped file. Already present: eeg_recording_2016-08-13\n",
      "Skipped file. Already present: eeg_recording_2016-08-13\n",
      "Skipped file. Already present: eeg_recording_2016-08-13\n",
      "Skipped file. Already present: eeg_recording_2016-08-13\n"
     ]
    },
    {
     "name": "stderr",
     "output_type": "stream",
     "text": [
      " 93%|█████████████████████████████████████████████████████████▌    | 949/1023 [1:12:56<06:52,  5.57s/it]"
     ]
    },
    {
     "name": "stdout",
     "output_type": "stream",
     "text": [
      "Skipped file. Already present: eeg_recording_2016-08-14\n",
      "Skipped file. Already present: eeg_recording_2016-08-14\n",
      "Skipped file. Already present: eeg_recording_2016-08-14\n",
      "Skipped file. Already present: eeg_recording_2016-08-14\n",
      "Skipped file. Already present: eeg_recording_2016-08-14\n"
     ]
    },
    {
     "name": "stderr",
     "output_type": "stream",
     "text": [
      " 93%|█████████████████████████████████████████████████████████▌    | 950/1023 [1:13:01<06:40,  5.49s/it]"
     ]
    },
    {
     "name": "stdout",
     "output_type": "stream",
     "text": [
      "Skipped file. Already present: eeg_recording_2016-08-14\n",
      "Skipped file. Already present: eeg_recording_2016-08-14\n",
      "Skipped file. Already present: eeg_recording_2016-08-14\n",
      "Skipped file. Already present: eeg_recording_2016-08-14\n",
      "Skipped file. Already present: eeg_recording_2016-08-14\n"
     ]
    },
    {
     "name": "stderr",
     "output_type": "stream",
     "text": [
      " 93%|█████████████████████████████████████████████████████████▋    | 951/1023 [1:13:07<06:37,  5.52s/it]"
     ]
    },
    {
     "name": "stdout",
     "output_type": "stream",
     "text": [
      "Skipped file. Already present: eeg_recording_2016-08-15\n",
      "Skipped file. Already present: eeg_recording_2016-08-15\n",
      "Skipped file. Already present: eeg_recording_2016-08-15\n",
      "Skipped file. Already present: eeg_recording_2016-08-15\n",
      "Skipped file. Already present: eeg_recording_2016-08-15\n"
     ]
    },
    {
     "name": "stderr",
     "output_type": "stream",
     "text": [
      " 93%|█████████████████████████████████████████████████████████▋    | 952/1023 [1:13:12<06:29,  5.48s/it]"
     ]
    },
    {
     "name": "stdout",
     "output_type": "stream",
     "text": [
      "Skipped file. Already present: eeg_recording_2016-08-15\n",
      "Skipped file. Already present: eeg_recording_2016-08-15\n",
      "Skipped file. Already present: eeg_recording_2016-08-15\n",
      "Skipped file. Already present: eeg_recording_2016-08-15\n",
      "Skipped file. Already present: eeg_recording_2016-08-15\n"
     ]
    },
    {
     "name": "stderr",
     "output_type": "stream",
     "text": [
      " 93%|█████████████████████████████████████████████████████████▊    | 953/1023 [1:13:18<06:29,  5.56s/it]"
     ]
    },
    {
     "name": "stdout",
     "output_type": "stream",
     "text": [
      "Skipped file. Already present: eeg_recording_2016-08-16\n",
      "Skipped file. Already present: eeg_recording_2016-08-16\n",
      "Skipped file. Already present: eeg_recording_2016-08-16\n",
      "Skipped file. Already present: eeg_recording_2016-08-16\n",
      "Skipped file. Already present: eeg_recording_2016-08-16\n"
     ]
    },
    {
     "name": "stderr",
     "output_type": "stream",
     "text": [
      " 93%|█████████████████████████████████████████████████████████▊    | 954/1023 [1:13:23<06:22,  5.55s/it]"
     ]
    },
    {
     "name": "stdout",
     "output_type": "stream",
     "text": [
      "Skipped file. Already present: eeg_recording_2016-08-16\n",
      "Skipped file. Already present: eeg_recording_2016-08-16\n",
      "Skipped file. Already present: eeg_recording_2016-08-16\n",
      "Skipped file. Already present: eeg_recording_2016-08-16\n",
      "Skipped file. Already present: eeg_recording_2016-08-16\n"
     ]
    },
    {
     "name": "stderr",
     "output_type": "stream",
     "text": [
      " 93%|█████████████████████████████████████████████████████████▉    | 955/1023 [1:13:29<06:21,  5.62s/it]"
     ]
    },
    {
     "name": "stdout",
     "output_type": "stream",
     "text": [
      "Skipped file. Already present: eeg_recording_2016-08-17\n",
      "Skipped file. Already present: eeg_recording_2016-08-17\n",
      "Skipped file. Already present: eeg_recording_2016-08-17\n",
      "Skipped file. Already present: eeg_recording_2016-08-17\n",
      "Skipped file. Already present: eeg_recording_2016-08-17\n"
     ]
    },
    {
     "name": "stderr",
     "output_type": "stream",
     "text": [
      " 93%|█████████████████████████████████████████████████████████▉    | 956/1023 [1:13:35<06:25,  5.75s/it]"
     ]
    },
    {
     "name": "stdout",
     "output_type": "stream",
     "text": [
      "Skipped file. Already present: eeg_recording_2016-08-17\n",
      "Skipped file. Already present: eeg_recording_2016-08-17\n",
      "Skipped file. Already present: eeg_recording_2016-08-17\n",
      "Skipped file. Already present: eeg_recording_2016-08-17\n",
      "Skipped file. Already present: eeg_recording_2016-08-17\n"
     ]
    },
    {
     "name": "stderr",
     "output_type": "stream",
     "text": [
      " 94%|██████████████████████████████████████████████████████████    | 957/1023 [1:13:41<06:19,  5.76s/it]"
     ]
    },
    {
     "name": "stdout",
     "output_type": "stream",
     "text": [
      "Skipped file. Already present: eeg_recording_2016-08-18\n",
      "Skipped file. Already present: eeg_recording_2016-08-18\n",
      "Skipped file. Already present: eeg_recording_2016-08-18\n",
      "Skipped file. Already present: eeg_recording_2016-08-18\n",
      "Skipped file. Already present: eeg_recording_2016-08-18\n"
     ]
    },
    {
     "name": "stderr",
     "output_type": "stream",
     "text": [
      " 94%|██████████████████████████████████████████████████████████    | 958/1023 [1:13:47<06:20,  5.86s/it]"
     ]
    },
    {
     "name": "stdout",
     "output_type": "stream",
     "text": [
      "Skipped file. Already present: eeg_recording_2016-08-18\n",
      "Skipped file. Already present: eeg_recording_2016-08-18\n",
      "Skipped file. Already present: eeg_recording_2016-08-18\n",
      "Skipped file. Already present: eeg_recording_2016-08-18\n",
      "Skipped file. Already present: eeg_recording_2016-08-18\n"
     ]
    },
    {
     "name": "stderr",
     "output_type": "stream",
     "text": [
      " 94%|██████████████████████████████████████████████████████████    | 959/1023 [1:13:53<06:12,  5.82s/it]"
     ]
    },
    {
     "name": "stdout",
     "output_type": "stream",
     "text": [
      "Skipped file. Already present: eeg_recording_2016-08-19\n",
      "Skipped file. Already present: eeg_recording_2016-08-19\n",
      "Skipped file. Already present: eeg_recording_2016-08-19\n",
      "Skipped file. Already present: eeg_recording_2016-08-19\n",
      "Skipped file. Already present: eeg_recording_2016-08-19\n"
     ]
    },
    {
     "name": "stderr",
     "output_type": "stream",
     "text": [
      " 94%|██████████████████████████████████████████████████████████▏   | 960/1023 [1:13:59<06:11,  5.90s/it]"
     ]
    },
    {
     "name": "stdout",
     "output_type": "stream",
     "text": [
      "Skipped file. Already present: eeg_recording_2016-08-19\n",
      "Skipped file. Already present: eeg_recording_2016-08-19\n",
      "Skipped file. Already present: eeg_recording_2016-08-19\n",
      "Skipped file. Already present: eeg_recording_2016-08-19\n",
      "Skipped file. Already present: eeg_recording_2016-08-19\n"
     ]
    },
    {
     "name": "stderr",
     "output_type": "stream",
     "text": [
      " 94%|██████████████████████████████████████████████████████████▏   | 961/1023 [1:14:04<06:00,  5.82s/it]"
     ]
    },
    {
     "name": "stdout",
     "output_type": "stream",
     "text": [
      "Skipped file. Already present: eeg_recording_2016-08-20\n",
      "Skipped file. Already present: eeg_recording_2016-08-20\n",
      "Skipped file. Already present: eeg_recording_2016-08-20\n",
      "Skipped file. Already present: eeg_recording_2016-08-20\n",
      "Skipped file. Already present: eeg_recording_2016-08-20\n"
     ]
    },
    {
     "name": "stderr",
     "output_type": "stream",
     "text": [
      " 94%|██████████████████████████████████████████████████████████▎   | 962/1023 [1:14:11<05:59,  5.89s/it]"
     ]
    },
    {
     "name": "stdout",
     "output_type": "stream",
     "text": [
      "Skipped file. Already present: eeg_recording_2016-08-20\n",
      "Skipped file. Already present: eeg_recording_2016-08-20\n",
      "Skipped file. Already present: eeg_recording_2016-08-20\n",
      "Skipped file. Already present: eeg_recording_2016-08-20\n",
      "Skipped file. Already present: eeg_recording_2016-08-20\n"
     ]
    },
    {
     "name": "stderr",
     "output_type": "stream",
     "text": [
      " 94%|██████████████████████████████████████████████████████████▎   | 963/1023 [1:14:16<05:48,  5.81s/it]"
     ]
    },
    {
     "name": "stdout",
     "output_type": "stream",
     "text": [
      "Skipped file. Already present: eeg_recording_2016-08-21\n",
      "Skipped file. Already present: eeg_recording_2016-08-21\n",
      "Skipped file. Already present: eeg_recording_2016-08-21\n",
      "Skipped file. Already present: eeg_recording_2016-08-21\n",
      "Skipped file. Already present: eeg_recording_2016-08-21\n"
     ]
    },
    {
     "name": "stderr",
     "output_type": "stream",
     "text": [
      " 94%|██████████████████████████████████████████████████████████▍   | 964/1023 [1:14:22<05:45,  5.86s/it]"
     ]
    },
    {
     "name": "stdout",
     "output_type": "stream",
     "text": [
      "Skipped file. Already present: eeg_recording_2016-08-21\n",
      "Skipped file. Already present: eeg_recording_2016-08-21\n",
      "Skipped file. Already present: eeg_recording_2016-08-21\n",
      "Skipped file. Already present: eeg_recording_2016-08-21\n",
      "Skipped file. Already present: eeg_recording_2016-08-21\n"
     ]
    },
    {
     "name": "stderr",
     "output_type": "stream",
     "text": [
      " 94%|██████████████████████████████████████████████████████████▍   | 965/1023 [1:14:28<05:35,  5.78s/it]"
     ]
    },
    {
     "name": "stdout",
     "output_type": "stream",
     "text": [
      "Skipped file. Already present: eeg_recording_2016-08-22\n",
      "Skipped file. Already present: eeg_recording_2016-08-22\n",
      "Skipped file. Already present: eeg_recording_2016-08-22\n",
      "Skipped file. Already present: eeg_recording_2016-08-22\n"
     ]
    },
    {
     "name": "stderr",
     "output_type": "stream",
     "text": [
      " 94%|██████████████████████████████████████████████████████████▌   | 966/1023 [1:14:34<05:32,  5.84s/it]"
     ]
    },
    {
     "name": "stdout",
     "output_type": "stream",
     "text": [
      "Skipped file. Already present: eeg_recording_2016-08-22\n",
      "Skipped file. Already present: eeg_recording_2016-08-22\n",
      "Skipped file. Already present: eeg_recording_2016-08-22\n",
      "Skipped file. Already present: eeg_recording_2016-08-22\n",
      "Skipped file. Already present: eeg_recording_2016-08-22\n"
     ]
    },
    {
     "name": "stderr",
     "output_type": "stream",
     "text": [
      " 95%|██████████████████████████████████████████████████████████▌   | 967/1023 [1:14:39<05:22,  5.76s/it]"
     ]
    },
    {
     "name": "stdout",
     "output_type": "stream",
     "text": [
      "Skipped file. Already present: eeg_recording_2016-08-23\n",
      "Skipped file. Already present: eeg_recording_2016-08-23\n",
      "Skipped file. Already present: eeg_recording_2016-08-23\n",
      "Skipped file. Already present: eeg_recording_2016-08-23\n"
     ]
    },
    {
     "name": "stderr",
     "output_type": "stream",
     "text": [
      " 95%|██████████████████████████████████████████████████████████▋   | 968/1023 [1:14:45<05:16,  5.76s/it]"
     ]
    },
    {
     "name": "stdout",
     "output_type": "stream",
     "text": [
      "Skipped file. Already present: eeg_recording_2016-08-23\n",
      "Skipped file. Already present: eeg_recording_2016-08-23\n",
      "Skipped file. Already present: eeg_recording_2016-08-23\n",
      "Skipped file. Already present: eeg_recording_2016-08-23\n",
      "Skipped file. Already present: eeg_recording_2016-08-23\n"
     ]
    },
    {
     "name": "stderr",
     "output_type": "stream",
     "text": [
      " 95%|██████████████████████████████████████████████████████████▋   | 969/1023 [1:14:51<05:15,  5.85s/it]"
     ]
    },
    {
     "name": "stdout",
     "output_type": "stream",
     "text": [
      "Skipped file. Already present: eeg_recording_2016-08-24\n",
      "Skipped file. Already present: eeg_recording_2016-08-24\n",
      "Skipped file. Already present: eeg_recording_2016-08-24\n",
      "Skipped file. Already present: eeg_recording_2016-08-24\n"
     ]
    },
    {
     "name": "stderr",
     "output_type": "stream",
     "text": [
      " 95%|██████████████████████████████████████████████████████████▊   | 970/1023 [1:14:57<05:05,  5.77s/it]"
     ]
    },
    {
     "name": "stdout",
     "output_type": "stream",
     "text": [
      "Skipped file. Already present: eeg_recording_2016-08-24\n",
      "Skipped file. Already present: eeg_recording_2016-08-24\n",
      "Skipped file. Already present: eeg_recording_2016-08-24\n",
      "Skipped file. Already present: eeg_recording_2016-08-24\n",
      "Skipped file. Already present: eeg_recording_2016-08-24\n"
     ]
    },
    {
     "name": "stderr",
     "output_type": "stream",
     "text": [
      " 95%|██████████████████████████████████████████████████████████▊   | 971/1023 [1:15:03<05:03,  5.83s/it]"
     ]
    },
    {
     "name": "stdout",
     "output_type": "stream",
     "text": [
      "Skipped file. Already present: eeg_recording_2016-08-25\n",
      "Skipped file. Already present: eeg_recording_2016-08-25\n",
      "Skipped file. Already present: eeg_recording_2016-08-25\n",
      "Skipped file. Already present: eeg_recording_2016-08-25\n"
     ]
    },
    {
     "name": "stderr",
     "output_type": "stream",
     "text": [
      " 95%|██████████████████████████████████████████████████████████▉   | 972/1023 [1:15:08<04:48,  5.66s/it]"
     ]
    },
    {
     "name": "stdout",
     "output_type": "stream",
     "text": [
      "Skipped file. Already present: eeg_recording_2016-08-25\n",
      "Skipped file. Already present: eeg_recording_2016-08-25\n",
      "Skipped file. Already present: eeg_recording_2016-08-25\n",
      "Skipped file. Already present: eeg_recording_2016-08-25\n",
      "Skipped file. Already present: eeg_recording_2016-08-25\n"
     ]
    },
    {
     "name": "stderr",
     "output_type": "stream",
     "text": [
      " 95%|███████████████████████████████████████████████████████████   | 974/1023 [1:15:19<04:37,  5.65s/it]"
     ]
    },
    {
     "name": "stdout",
     "output_type": "stream",
     "text": [
      "Skipped file. Already present: eeg_recording_2016-08-26\n",
      "Skipped file. Already present: eeg_recording_2016-08-26\n",
      "Skipped file. Already present: eeg_recording_2016-08-26\n",
      "Skipped file. Already present: eeg_recording_2016-08-26\n",
      "Skipped file. Already present: eeg_recording_2016-08-26\n",
      "Skipped file. Already present: eeg_recording_2016-08-26\n",
      "Skipped file. Already present: eeg_recording_2016-08-26\n"
     ]
    },
    {
     "name": "stderr",
     "output_type": "stream",
     "text": [
      " 95%|███████████████████████████████████████████████████████████▏  | 976/1023 [1:15:30<04:23,  5.61s/it]"
     ]
    },
    {
     "name": "stdout",
     "output_type": "stream",
     "text": [
      "Skipped file. Already present: eeg_recording_2016-08-27\n",
      "Skipped file. Already present: eeg_recording_2016-08-27\n",
      "Skipped file. Already present: eeg_recording_2016-08-27\n",
      "Skipped file. Already present: eeg_recording_2016-08-27\n",
      "Skipped file. Already present: eeg_recording_2016-08-27\n",
      "Skipped file. Already present: eeg_recording_2016-08-27\n",
      "Skipped file. Already present: eeg_recording_2016-08-27\n"
     ]
    },
    {
     "name": "stderr",
     "output_type": "stream",
     "text": [
      " 96%|███████████████████████████████████████████████████████████▎  | 978/1023 [1:15:42<04:13,  5.63s/it]"
     ]
    },
    {
     "name": "stdout",
     "output_type": "stream",
     "text": [
      "Skipped file. Already present: eeg_recording_2016-08-28\n",
      "Skipped file. Already present: eeg_recording_2016-08-28\n",
      "Skipped file. Already present: eeg_recording_2016-08-28\n",
      "Skipped file. Already present: eeg_recording_2016-08-28\n",
      "Skipped file. Already present: eeg_recording_2016-08-28\n",
      "Skipped file. Already present: eeg_recording_2016-08-28\n",
      "Skipped file. Already present: eeg_recording_2016-08-28\n"
     ]
    },
    {
     "name": "stderr",
     "output_type": "stream",
     "text": [
      " 96%|███████████████████████████████████████████████████████████▍  | 980/1023 [1:15:53<04:00,  5.60s/it]"
     ]
    },
    {
     "name": "stdout",
     "output_type": "stream",
     "text": [
      "Skipped file. Already present: eeg_recording_2016-08-29\n",
      "Skipped file. Already present: eeg_recording_2016-08-29\n",
      "Skipped file. Already present: eeg_recording_2016-08-29\n",
      "Skipped file. Already present: eeg_recording_2016-08-29\n",
      "Skipped file. Already present: eeg_recording_2016-08-29\n",
      "Skipped file. Already present: eeg_recording_2016-08-29\n",
      "Skipped file. Already present: eeg_recording_2016-08-29\n"
     ]
    },
    {
     "name": "stderr",
     "output_type": "stream",
     "text": [
      " 96%|███████████████████████████████████████████████████████████▌  | 982/1023 [1:16:04<03:46,  5.53s/it]"
     ]
    },
    {
     "name": "stdout",
     "output_type": "stream",
     "text": [
      "Skipped file. Already present: eeg_recording_2016-08-30\n",
      "Skipped file. Already present: eeg_recording_2016-08-30\n",
      "Skipped file. Already present: eeg_recording_2016-08-30\n",
      "Skipped file. Already present: eeg_recording_2016-08-30\n",
      "Skipped file. Already present: eeg_recording_2016-08-30\n"
     ]
    },
    {
     "name": "stderr",
     "output_type": "stream",
     "text": [
      " 96%|███████████████████████████████████████████████████████████▋  | 984/1023 [1:16:15<03:34,  5.49s/it]"
     ]
    },
    {
     "name": "stdout",
     "output_type": "stream",
     "text": [
      "Skipped file. Already present: eeg_recording_2016-08-31\n",
      "Skipped file. Already present: eeg_recording_2016-08-31\n",
      "Skipped file. Already present: eeg_recording_2016-08-31\n",
      "Skipped file. Already present: eeg_recording_2016-08-31\n",
      "Skipped file. Already present: eeg_recording_2016-08-31\n"
     ]
    },
    {
     "name": "stderr",
     "output_type": "stream",
     "text": [
      " 96%|███████████████████████████████████████████████████████████▊  | 986/1023 [1:16:26<03:21,  5.46s/it]"
     ]
    },
    {
     "name": "stdout",
     "output_type": "stream",
     "text": [
      "Skipped file. Already present: eeg_recording_2016-09-01\n",
      "Skipped file. Already present: eeg_recording_2016-09-01\n",
      "Skipped file. Already present: eeg_recording_2016-09-01\n",
      "Skipped file. Already present: eeg_recording_2016-09-01\n",
      "Skipped file. Already present: eeg_recording_2016-09-01\n"
     ]
    },
    {
     "name": "stderr",
     "output_type": "stream",
     "text": [
      " 97%|███████████████████████████████████████████████████████████▉  | 988/1023 [1:16:37<03:10,  5.44s/it]"
     ]
    },
    {
     "name": "stdout",
     "output_type": "stream",
     "text": [
      "Skipped file. Already present: eeg_recording_2016-09-02\n",
      "Skipped file. Already present: eeg_recording_2016-09-02\n",
      "Skipped file. Already present: eeg_recording_2016-09-02\n",
      "Skipped file. Already present: eeg_recording_2016-09-02\n",
      "Skipped file. Already present: eeg_recording_2016-09-02\n"
     ]
    },
    {
     "name": "stderr",
     "output_type": "stream",
     "text": [
      " 97%|████████████████████████████████████████████████████████████  | 990/1023 [1:16:48<02:59,  5.45s/it]"
     ]
    },
    {
     "name": "stdout",
     "output_type": "stream",
     "text": [
      "Skipped file. Already present: eeg_recording_2016-09-03\n",
      "Skipped file. Already present: eeg_recording_2016-09-03\n",
      "Skipped file. Already present: eeg_recording_2016-09-03\n",
      "Skipped file. Already present: eeg_recording_2016-09-03\n",
      "Skipped file. Already present: eeg_recording_2016-09-03\n"
     ]
    },
    {
     "name": "stderr",
     "output_type": "stream",
     "text": [
      " 97%|████████████████████████████████████████████████████████████  | 992/1023 [1:16:59<02:48,  5.44s/it]"
     ]
    },
    {
     "name": "stdout",
     "output_type": "stream",
     "text": [
      "Skipped file. Already present: eeg_recording_2016-09-04\n",
      "Skipped file. Already present: eeg_recording_2016-09-04\n",
      "Skipped file. Already present: eeg_recording_2016-09-04\n",
      "Skipped file. Already present: eeg_recording_2016-09-04\n",
      "Skipped file. Already present: eeg_recording_2016-09-04\n"
     ]
    },
    {
     "name": "stderr",
     "output_type": "stream",
     "text": [
      " 97%|████████████████████████████████████████████████████████████▏ | 994/1023 [1:17:10<02:38,  5.47s/it]"
     ]
    },
    {
     "name": "stdout",
     "output_type": "stream",
     "text": [
      "Skipped file. Already present: eeg_recording_2016-09-05\n",
      "Skipped file. Already present: eeg_recording_2016-09-05\n",
      "Skipped file. Already present: eeg_recording_2016-09-05\n",
      "Skipped file. Already present: eeg_recording_2016-09-05\n",
      "Skipped file. Already present: eeg_recording_2016-09-05\n"
     ]
    },
    {
     "name": "stderr",
     "output_type": "stream",
     "text": [
      " 97%|████████████████████████████████████████████████████████████▎ | 995/1023 [1:17:15<02:31,  5.40s/it]"
     ]
    },
    {
     "name": "stdout",
     "output_type": "stream",
     "text": [
      "Skipped file. Already present: eeg_recording_2016-09-06\n",
      "Skipped file. Already present: eeg_recording_2016-09-06\n",
      "Skipped file. Already present: eeg_recording_2016-09-06\n",
      "Skipped file. Already present: eeg_recording_2016-09-06\n"
     ]
    },
    {
     "name": "stderr",
     "output_type": "stream",
     "text": [
      " 97%|████████████████████████████████████████████████████████████▎ | 996/1023 [1:17:21<02:28,  5.51s/it]"
     ]
    },
    {
     "name": "stdout",
     "output_type": "stream",
     "text": [
      "Skipped file. Already present: eeg_recording_2016-09-07\n",
      "Skipped file. Already present: eeg_recording_2016-09-07\n",
      "Skipped file. Already present: eeg_recording_2016-09-07\n"
     ]
    },
    {
     "name": "stderr",
     "output_type": "stream",
     "text": [
      " 97%|████████████████████████████████████████████████████████████▍ | 997/1023 [1:17:27<02:24,  5.58s/it]"
     ]
    },
    {
     "name": "stdout",
     "output_type": "stream",
     "text": [
      "Skipped file. Already present: eeg_recording_2016-09-08\n",
      "Skipped file. Already present: eeg_recording_2016-09-08\n",
      "Skipped file. Already present: eeg_recording_2016-09-08\n"
     ]
    },
    {
     "name": "stderr",
     "output_type": "stream",
     "text": [
      " 98%|████████████████████████████████████████████████████████████▌ | 999/1023 [1:17:38<02:14,  5.60s/it]"
     ]
    },
    {
     "name": "stdout",
     "output_type": "stream",
     "text": [
      "Skipped file. Already present: eeg_recording_2016-09-09\n",
      "Skipped file. Already present: eeg_recording_2016-09-09\n",
      "Skipped file. Already present: eeg_recording_2016-09-09\n",
      "Skipped file. Already present: eeg_recording_2016-09-10\n",
      "Skipped file. Already present: eeg_recording_2016-09-10\n",
      "Skipped file. Already present: eeg_recording_2016-09-10\n"
     ]
    },
    {
     "name": "stderr",
     "output_type": "stream",
     "text": [
      " 98%|███████████████████████████████████████████████████████████▋ | 1001/1023 [1:17:49<02:02,  5.56s/it]"
     ]
    },
    {
     "name": "stdout",
     "output_type": "stream",
     "text": [
      "Skipped file. Already present: eeg_recording_2016-09-11\n",
      "Skipped file. Already present: eeg_recording_2016-09-11\n"
     ]
    },
    {
     "name": "stderr",
     "output_type": "stream",
     "text": [
      " 98%|███████████████████████████████████████████████████████████▋ | 1002/1023 [1:17:54<01:56,  5.55s/it]"
     ]
    },
    {
     "name": "stdout",
     "output_type": "stream",
     "text": [
      "Skipped file. Already present: eeg_recording_2016-09-12\n",
      "Skipped file. Already present: eeg_recording_2016-09-12\n"
     ]
    },
    {
     "name": "stderr",
     "output_type": "stream",
     "text": [
      " 98%|███████████████████████████████████████████████████████████▊ | 1003/1023 [1:18:00<01:50,  5.54s/it]"
     ]
    },
    {
     "name": "stdout",
     "output_type": "stream",
     "text": [
      "Skipped file. Already present: eeg_recording_2016-09-13\n",
      "Skipped file. Already present: eeg_recording_2016-09-13\n"
     ]
    },
    {
     "name": "stderr",
     "output_type": "stream",
     "text": [
      " 98%|███████████████████████████████████████████████████████████▊ | 1004/1023 [1:18:05<01:44,  5.50s/it]"
     ]
    },
    {
     "name": "stdout",
     "output_type": "stream",
     "text": [
      "Skipped file. Already present: eeg_recording_2016-09-14\n",
      "Skipped file. Already present: eeg_recording_2016-09-14\n"
     ]
    },
    {
     "name": "stderr",
     "output_type": "stream",
     "text": [
      " 98%|███████████████████████████████████████████████████████████▉ | 1005/1023 [1:18:11<01:39,  5.50s/it]"
     ]
    },
    {
     "name": "stdout",
     "output_type": "stream",
     "text": [
      "Skipped file. Already present: eeg_recording_2016-09-15\n",
      "Skipped file. Already present: eeg_recording_2016-09-15\n"
     ]
    },
    {
     "name": "stderr",
     "output_type": "stream",
     "text": [
      " 98%|███████████████████████████████████████████████████████████▉ | 1006/1023 [1:18:16<01:33,  5.53s/it]"
     ]
    },
    {
     "name": "stdout",
     "output_type": "stream",
     "text": [
      "Skipped file. Already present: eeg_recording_2016-09-16\n",
      "Skipped file. Already present: eeg_recording_2016-09-16\n"
     ]
    },
    {
     "name": "stderr",
     "output_type": "stream",
     "text": [
      " 98%|████████████████████████████████████████████████████████████ | 1007/1023 [1:18:22<01:28,  5.52s/it]"
     ]
    },
    {
     "name": "stdout",
     "output_type": "stream",
     "text": [
      "Skipped file. Already present: eeg_recording_2016-09-17\n",
      "Skipped file. Already present: eeg_recording_2016-09-17\n"
     ]
    },
    {
     "name": "stderr",
     "output_type": "stream",
     "text": [
      " 99%|████████████████████████████████████████████████████████████ | 1008/1023 [1:18:27<01:23,  5.54s/it]"
     ]
    },
    {
     "name": "stdout",
     "output_type": "stream",
     "text": [
      "Skipped file. Already present: eeg_recording_2016-09-18\n",
      "Skipped file. Already present: eeg_recording_2016-09-18\n"
     ]
    },
    {
     "name": "stderr",
     "output_type": "stream",
     "text": [
      " 99%|████████████████████████████████████████████████████████████▏| 1009/1023 [1:18:33<01:16,  5.45s/it]"
     ]
    },
    {
     "name": "stdout",
     "output_type": "stream",
     "text": [
      "Skipped file. Already present: eeg_recording_2016-09-19\n"
     ]
    },
    {
     "name": "stderr",
     "output_type": "stream",
     "text": [
      " 99%|████████████████████████████████████████████████████████████▏| 1010/1023 [1:18:38<01:10,  5.44s/it]"
     ]
    },
    {
     "name": "stdout",
     "output_type": "stream",
     "text": [
      "Skipped file. Already present: eeg_recording_2016-09-20\n"
     ]
    },
    {
     "name": "stderr",
     "output_type": "stream",
     "text": [
      " 99%|████████████████████████████████████████████████████████████▎| 1011/1023 [1:18:43<01:03,  5.33s/it]"
     ]
    },
    {
     "name": "stdout",
     "output_type": "stream",
     "text": [
      "Skipped file. Already present: eeg_recording_2016-09-21\n"
     ]
    },
    {
     "name": "stderr",
     "output_type": "stream",
     "text": [
      " 99%|████████████████████████████████████████████████████████████▎| 1012/1023 [1:18:48<00:58,  5.30s/it]"
     ]
    },
    {
     "name": "stdout",
     "output_type": "stream",
     "text": [
      "Skipped file. Already present: eeg_recording_2016-09-22\n"
     ]
    },
    {
     "name": "stderr",
     "output_type": "stream",
     "text": [
      " 99%|████████████████████████████████████████████████████████████▍| 1013/1023 [1:18:54<00:52,  5.28s/it]"
     ]
    },
    {
     "name": "stdout",
     "output_type": "stream",
     "text": [
      "Skipped file. Already present: eeg_recording_2016-09-23\n",
      "Skipped file. Already present: eeg_recording_2016-09-24\n"
     ]
    },
    {
     "name": "stderr",
     "output_type": "stream",
     "text": [
      " 99%|████████████████████████████████████████████████████████████▌| 1015/1023 [1:19:04<00:42,  5.33s/it]"
     ]
    },
    {
     "name": "stdout",
     "output_type": "stream",
     "text": [
      "Skipped file. Already present: eeg_recording_2016-09-25\n"
     ]
    },
    {
     "name": "stderr",
     "output_type": "stream",
     "text": [
      " 99%|████████████████████████████████████████████████████████████▌| 1016/1023 [1:19:10<00:37,  5.31s/it]"
     ]
    },
    {
     "name": "stdout",
     "output_type": "stream",
     "text": [
      "Skipped file. Already present: eeg_recording_2016-09-26\n"
     ]
    },
    {
     "name": "stderr",
     "output_type": "stream",
     "text": [
      " 99%|████████████████████████████████████████████████████████████▋| 1017/1023 [1:19:15<00:31,  5.28s/it]"
     ]
    },
    {
     "name": "stdout",
     "output_type": "stream",
     "text": [
      "Skipped file. Already present: eeg_recording_2016-09-27\n"
     ]
    },
    {
     "name": "stderr",
     "output_type": "stream",
     "text": [
      "100%|████████████████████████████████████████████████████████████▋| 1018/1023 [1:19:20<00:26,  5.28s/it]"
     ]
    },
    {
     "name": "stdout",
     "output_type": "stream",
     "text": [
      "Skipped file. Already present: eeg_recording_2016-09-28\n"
     ]
    },
    {
     "name": "stderr",
     "output_type": "stream",
     "text": [
      "100%|████████████████████████████████████████████████████████████▊| 1019/1023 [1:19:25<00:20,  5.24s/it]"
     ]
    },
    {
     "name": "stdout",
     "output_type": "stream",
     "text": [
      "Skipped file. Already present: eeg_recording_2016-09-29\n"
     ]
    },
    {
     "name": "stderr",
     "output_type": "stream",
     "text": [
      "100%|████████████████████████████████████████████████████████████▊| 1020/1023 [1:19:31<00:15,  5.23s/it]"
     ]
    },
    {
     "name": "stdout",
     "output_type": "stream",
     "text": [
      "Skipped file. Already present: eeg_recording_2016-09-30\n"
     ]
    },
    {
     "name": "stderr",
     "output_type": "stream",
     "text": [
      "100%|████████████████████████████████████████████████████████████▉| 1021/1023 [1:19:36<00:10,  5.20s/it]"
     ]
    },
    {
     "name": "stdout",
     "output_type": "stream",
     "text": [
      "Skipped file. Already present: eeg_recording_2016-10-01\n"
     ]
    },
    {
     "name": "stderr",
     "output_type": "stream",
     "text": [
      "100%|████████████████████████████████████████████████████████████▉| 1022/1023 [1:19:41<00:05,  5.19s/it]"
     ]
    },
    {
     "name": "stdout",
     "output_type": "stream",
     "text": [
      "Skipped file. Already present: eeg_recording_2016-10-02\n"
     ]
    },
    {
     "name": "stderr",
     "output_type": "stream",
     "text": [
      "100%|█████████████████████████████████████████████████████████████| 1023/1023 [1:19:46<00:00,  4.68s/it]"
     ]
    },
    {
     "name": "stdout",
     "output_type": "stream",
     "text": [
      "Skipped file. Already present: eeg_recording_2016-10-03\n"
     ]
    },
    {
     "name": "stderr",
     "output_type": "stream",
     "text": [
      "\n"
     ]
    }
   ],
   "source": [
    "# Open EDF files by date and machine\n",
    "grp = t.groupby(['Date', 'Machine'])\n",
    "for (date_i, machine_i), grp_i in tqdm(grp):\n",
    "    \n",
    "    # unzip file to temporary folder\n",
    "    date_str = date_i.date().strftime('%Y-%m-%d')\n",
    "    fname = \"EDF_\" + machine_i + '_' + date_str\n",
    "    fname_zip = fname + '.zip'\n",
    "    tmpdir = mkdtemp()\n",
    "    try:\n",
    "        with zipfile.ZipFile(path_edf + fname_zip, 'r') as zip_ref:\n",
    "            zip_ref.extractall(tmpdir)\n",
    "    except FileNotFoundError as err:\n",
    "        print(err)\n",
    "        shutil.rmtree(tmpdir)\n",
    "        continue\n",
    "\n",
    "    # load recordings\n",
    "    fname_edf = fname + '.edf'\n",
    "    try:\n",
    "        f = pyedflib.EdfReader(tmpdir + '/' + fname_edf)\n",
    "    except OSError as err:\n",
    "        print(\"OS error: {0}\".format(err))\n",
    "        print(fname_edf + ' not found')\n",
    "        f.close()\n",
    "        shutil.rmtree(tmpdir)\n",
    "        continue\n",
    "    \n",
    "    # extract information from recording\n",
    "    n = f.signals_in_file\n",
    "    start_time = f.getStartdatetime()\n",
    "    signal_labels = f.getSignalLabels()\n",
    "    nsamples = f.getNSamples()\n",
    "    assert len(np.unique(nsamples)) == 1\n",
    "    nsamples = np.unique(nsamples)[0]\n",
    "    \n",
    "    # associate recording to animal entity\n",
    "    for label_i in signal_labels:\n",
    "        pos_i = signal_labels.index(label_i)\n",
    "        t_ii = grp_i[grp_i['Channel'] == int(label_i)]\n",
    "        if np.any(t_ii):\n",
    "            animal_id = t_ii['ID'].unique()\n",
    "            assert(len(animal_id) == 1)\n",
    "            animal_id = str(animal_id[0])\n",
    "            \n",
    "            # get corresponding action\n",
    "            action_i = project.require_action('record_'+str(animal_id))\n",
    "            \n",
    "            name_rec = 'eeg_recording_' + date_str\n",
    "            # check if recording already exists\n",
    "            if (name_rec in list(action_i.data) and\n",
    "                bool_keepexisting):\n",
    "                print('Skipped file. Already present: ' + name_rec)\n",
    "                continue\n",
    "            else:\n",
    "                # Get all information from table except date\n",
    "                info = t_ii.to_dict('records')[0]\n",
    "                \n",
    "                # date is removed here, it is stored in a different place\n",
    "                del info['Date']\n",
    "                \n",
    "                # if any entry in info is datetime.time, convert to hours, minutes, seconds\n",
    "                for k, v in info.items():\n",
    "                    if isinstance(v, datetime.time):\n",
    "                        info[k] = v.strftime(\"%d/%m/%Y, %H:%M:%S\")\n",
    "                \n",
    "                sampling_freq = f.getSampleFrequency(pos_i)\n",
    "                info['sampling_freq'] = sampling_freq\n",
    "                info['nsamples'] = nsamples\n",
    "                info['duration'] = nsamples*1./sampling_freq\n",
    "                info['dimension'] = f.getPhysicalDimension(pos_i)\n",
    "                info['starttime'] = start_time.strftime(\"%d/%m/%Y, %H:%M:%S\")\n",
    "                #info['annotations'] = list(t_ii.to_dict('index').values())\n",
    "\n",
    "                mod_info = action_i.require_module(name=name_rec+'_info', contents=info)\n",
    "\n",
    "                 # link file in expipe\n",
    "                action_i.data[name_rec] = name_rec + '.npz'\n",
    "\n",
    "                # store recordings in separate file\n",
    "                sig_ii = f.readSignal(pos_i)\n",
    "                action_data_path = str(action_i.data_path(name_rec))\n",
    "                np.savez_compressed(action_data_path, eeg=sig_ii)\n",
    "    # close EDF file\n",
    "    f.close()\n",
    "    # delete temporary folder\n",
    "    shutil.rmtree(tmpdir)"
   ]
  },
  {
   "cell_type": "code",
   "execution_count": null,
   "id": "96941e47-0b23-4801-bd7b-0e93c7e01bcc",
   "metadata": {},
   "outputs": [],
   "source": []
  }
 ],
 "metadata": {
  "kernelspec": {
   "display_name": "Python 3 (ipykernel)",
   "language": "python",
   "name": "python3"
  },
  "language_info": {
   "codemirror_mode": {
    "name": "ipython",
    "version": 3
   },
   "file_extension": ".py",
   "mimetype": "text/x-python",
   "name": "python",
   "nbconvert_exporter": "python",
   "pygments_lexer": "ipython3",
   "version": "3.10.5"
  }
 },
 "nbformat": 4,
 "nbformat_minor": 5
}
