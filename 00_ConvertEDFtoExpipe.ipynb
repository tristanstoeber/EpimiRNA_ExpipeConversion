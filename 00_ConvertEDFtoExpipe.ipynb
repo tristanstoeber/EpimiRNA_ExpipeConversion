{
 "cells": [
  {
   "cell_type": "markdown",
   "id": "75c03ad1-0118-4594-9874-c6ffdafc6eec",
   "metadata": {},
   "source": [
    "# Convert EDF to expipe files\n",
    "The visual EEG inspection table 'eeg-sichtung.xlsx' has been manually translated into a form which is more easy to read automatically.\n",
    "The table is located in the new file 'data_annotation.ods'.\n",
    "It contains one row per day an animal is recorded.\n",
    "Relevant metadata such as animal id, recording channel, artifacts or missing data are stored in separate columns.\n",
    "\n",
    "This notebooks loads the original edf files sequentially and converts the recordings to the expipe format [1].\n",
    "Here, each day an animal is recorded is its own action.\n",
    "\n",
    "[1] https://github.com/CINPLA/expipe"
   ]
  },
  {
   "cell_type": "code",
   "execution_count": 1,
   "id": "90e9f1ca-15c1-46de-980f-5e7a66869490",
   "metadata": {},
   "outputs": [],
   "source": [
    "import numpy as np\n",
    "import pandas as pd\n",
    "from tempfile import mkdtemp\n",
    "import zipfile\n",
    "import shutil\n",
    "from tqdm import tqdm\n",
    "import expipe\n",
    "import pyedflib\n",
    "import datetime\n",
    "import os\n",
    "import tools\n",
    "from format_data_annotation import dict_format\n",
    "import pdb"
   ]
  },
  {
   "cell_type": "code",
   "execution_count": 2,
   "id": "7d31fad7-c479-4648-9645-430878ab95a2",
   "metadata": {},
   "outputs": [],
   "source": [
    "path = ''\n",
    "#path = '/home/stoeber/EpimiRNA_ExpipeConversion/'\n",
    "fname = 'data_annotation.ods'"
   ]
  },
  {
   "cell_type": "code",
   "execution_count": 3,
   "id": "39aaaa71-8e8d-4719-8b0b-153e6aaf0a70",
   "metadata": {},
   "outputs": [],
   "source": [
    "# Info about the EEG files\n",
    "path_edf = \"/home/jovyan/work/data/PPS_data_raw/\"\n",
    "#path_edf = \"/media/tristan/data/experiments/PPS_data_expipe/\"\n",
    "\n",
    "#path_expipe = \"/home/jovyan/work/data_expipe/epimirna\"\n",
    "path_expipe = \"/home/jovyan/work/data/epimirna/\"\n",
    "\n",
    "# decide whether existing data should be rebuild or not\n",
    "bool_keepexisting = False"
   ]
  },
  {
   "cell_type": "code",
   "execution_count": null,
   "id": "c2aa6f65-725e-497d-bd6e-fb9c8a51644d",
   "metadata": {},
   "outputs": [],
   "source": []
  },
  {
   "cell_type": "markdown",
   "id": "8310b5fb",
   "metadata": {
    "tags": []
   },
   "source": [
    "### Read data annotation"
   ]
  },
  {
   "cell_type": "code",
   "execution_count": 4,
   "id": "41c09c55-75ac-46e2-af1f-a2d19bc611c6",
   "metadata": {},
   "outputs": [],
   "source": [
    "t = pd.read_excel(path+fname, engine=\"odf\", dtype=dict_format)\n",
    "#t = pd.read_excel(path+fname, engine=\"odf\")"
   ]
  },
  {
   "cell_type": "code",
   "execution_count": 5,
   "id": "24ded25a-c91d-4384-ad00-fbf13fc1cf1e",
   "metadata": {},
   "outputs": [
    {
     "data": {
      "text/plain": [
       "array([ 1218,  1227,  1237,  1243,  1251,  1254,  1257,  1260,  1261,\n",
       "        1262,  1263,  1264,  1265,  1269,  1270,  1271,  1274,  1275,\n",
       "        1276,   322,   323,   324,   325,   326,   328,   329,  3210,\n",
       "        3211,  3212,  3215,  3216,  3218, 32220,  3222, 32223,  3224,\n",
       "        3226,  3227,  3228,  3231,  3232,  3233,  3235,  3237,  3238,\n",
       "        3239,  3240,  3241,  3242,  3243,  3244,  3245,  3246,  3247,\n",
       "        3248,  3251,  3253,  3254,  3256,  3258,  3259,  3260,  3261,\n",
       "        3262,  3263,  3266,  3267,  3268,  3269,  3270,  3271,  3272,\n",
       "        3273,  3274,  3275,  3276,  3277,  3278,  3279,  3280,  3281,\n",
       "        3282,  3283,  3284,  3285])"
      ]
     },
     "execution_count": 5,
     "metadata": {},
     "output_type": "execute_result"
    }
   ],
   "source": [
    "t['ID'].unique()"
   ]
  },
  {
   "cell_type": "markdown",
   "id": "16433ca5-8fef-45db-81b4-ef5953cea403",
   "metadata": {},
   "source": [
    "### Create Expipe project and store metadata for each animal"
   ]
  },
  {
   "cell_type": "code",
   "execution_count": 6,
   "id": "7eeba850-a0ad-44bd-afe8-a633ab0e2af5",
   "metadata": {},
   "outputs": [
    {
     "name": "stdout",
     "output_type": "stream",
     "text": [
      "[ 1218  1227  1237  1243  1251  1254  1257  1260  1261  1262  1263  1264\n",
      "  1265  1269  1270  1271  1274  1275  1276   322   323   324   325   326\n",
      "   328   329  3210  3211  3212  3215  3216  3218 32220  3222 32223  3224\n",
      "  3226  3227  3228  3231  3232  3233  3235  3237  3238  3239  3240  3241\n",
      "  3242  3243  3244  3245  3246  3247  3248  3251  3253  3254  3256  3258\n",
      "  3259  3260  3261  3262  3263  3266  3267  3268  3269  3270  3271  3272\n",
      "  3273  3274  3275  3276  3277  3278  3279  3280  3281  3282  3283  3284\n",
      "  3285]\n"
     ]
    }
   ],
   "source": [
    "animals = t['ID'].unique()\n",
    "print(animals)"
   ]
  },
  {
   "cell_type": "code",
   "execution_count": 7,
   "id": "039a0f1f",
   "metadata": {
    "tags": []
   },
   "outputs": [],
   "source": [
    "# Open project\n",
    "project = expipe.require_project(path_expipe)\n",
    "\n",
    "for animal_i in animals:\n",
    "    \n",
    "    # Register each animal\n",
    "    entity_i = project.require_entity(str(animal_i))\n",
    "    t_i = t[t['ID']==animal_i]\n",
    "    entity_i.modules['info'] = {\n",
    "        'channel': t_i['Channel'].unique()[0],\n",
    "        'machine': t_i['Machine'].unique()[0]\n",
    "    }\n",
    "    # Create action for each animal\n",
    "    name_action_i = 'record_'+str(animal_i)\n",
    "    action_i = project.require_action(name_action_i)\n",
    "    \n",
    "    action_i.type = \"eeg recording\"\n",
    "    action_i.entities = [str(animal_i)]\n",
    "    \n",
    "    # store sub-table for each animal\n",
    "    fname_annot = 'df_data_annotation.pckl'\n",
    "    t_i.to_pickle(action_i.data_path().joinpath(fname_annot))\n",
    "    action_i.data['df_data_annotation'] = fname_annot"
   ]
  },
  {
   "cell_type": "markdown",
   "id": "81e4134f-9c8e-4da3-b828-13dde7c17771",
   "metadata": {
    "tags": []
   },
   "source": [
    "### Add concise group names for the whole epimirna dataset"
   ]
  },
  {
   "cell_type": "code",
   "execution_count": 8,
   "id": "8828d486-5d36-4159-917c-5827b6d55028",
   "metadata": {},
   "outputs": [
    {
     "name": "stdout",
     "output_type": "stream",
     "text": [
      "{'1': 'FF_EPG_5Hz', '1_noPPS': 'FF_EPG_5Hz_noPPS', '2': 'FF_EPG_130Hz', '3': 'PP_EPG_5Hz', '4': 'PP_EPG_130Hz', '5': 'DG_EPG_5Hz', '6': 'DG_EPG_130Hz', '8': 'FF_ME_5Hz', '9': 'FF_ME_130Hz', '10': 'PP_EPG_5Hz', '11': 'PP_EPG_130Hz', '12': 'DG_EPG_5Hz', '13': 'DG_EPG_130Hz', '14': 'FF_noDBS', '14_noPPS': 'FF_noDBS_noPPS', '15': 'VHC_noDBS', '16': 'noDBS', 'pps_only': 'noDBS', 'vhc_epilep_1 Hz': 'VHC_EPG_1Hz', 'vhc_epilep_HF': 'VHC_EPG_130Hz', 'vhc_epilep_LF (5 Hz)': 'VHC_EPG_5Hz', 'vhc_epileptog_LF': 'VHC_EPG_?Hz', 'vhc_mE_Kontrolle': 'VHC_noDBS', 'vhc_mE_LF (1 Hz)': 'VHC_ME_1Hz', 'vhc_mE_LF (1Hz)': 'VHC_ME_1Hz', 'vhc_mE_LF (5 Hz)': 'VHC_ME_5Hz', 'vhc_mE_LF (5Hz)': 'VHC_ME_5Hz'}\n"
     ]
    }
   ],
   "source": [
    "from annotation_short import annotation as group_names_epimirna\n",
    "print(group_names_epimirna)"
   ]
  },
  {
   "cell_type": "code",
   "execution_count": 9,
   "id": "8ff7457f-6884-4ab6-be26-959269225508",
   "metadata": {},
   "outputs": [],
   "source": [
    "for animal_i in animals:\n",
    "    # load\n",
    "    action_i = project.require_action('record_'+str(animal_i))\n",
    "    t_i = pd.read_pickle(action_i.data_path().joinpath(fname_annot))\n",
    "    \n",
    "    # get epimirna group name, rename it\n",
    "    group_i = t_i['group'].unique()\n",
    "    assert len(group_i) == 1\n",
    "    group_i = group_i[0]\n",
    "\n",
    "    # define consisten group names across the whole epimirna data set\n",
    "    t_i['group_epimirna'] = group_names_epimirna[group_i]\n",
    "    \n",
    "    # store\n",
    "    t_i.to_pickle(action_i.data_path().joinpath(fname_annot))\n",
    "    \n",
    "    "
   ]
  },
  {
   "cell_type": "markdown",
   "id": "7676cc65-413a-415c-a2a6-0be87aff02f9",
   "metadata": {},
   "source": [
    "### Load EEG files and store them as actions"
   ]
  },
  {
   "cell_type": "markdown",
   "id": "4a3b8f2d-1583-4800-a921-39242824c932",
   "metadata": {},
   "source": [
    "#### Exclude entries with overlapping recordings\n"
   ]
  },
  {
   "cell_type": "code",
   "execution_count": 10,
   "id": "1edc1531-04e8-4bff-a4f1-684a60737530",
   "metadata": {},
   "outputs": [],
   "source": [
    "t = t[t['Conflict overlap recording']!='x']"
   ]
  },
  {
   "cell_type": "markdown",
   "id": "64a80ba0-a98c-41ce-9eef-5793e78dabe8",
   "metadata": {},
   "source": [
    "#### Test consistency of leftover table"
   ]
  },
  {
   "cell_type": "code",
   "execution_count": 11,
   "id": "d7617458-de2e-41d3-90d9-1708f17b0b84",
   "metadata": {},
   "outputs": [],
   "source": [
    "t = t[t['Device off'].isnull() & t['Missing data'].isnull()]\n",
    "# Test consistency of the table for data extraction\n",
    "tools.test_consistency_of_annotation_table(t)"
   ]
  },
  {
   "cell_type": "code",
   "execution_count": 12,
   "id": "3f342303-a6f2-414e-b576-27dc1d923d96",
   "metadata": {},
   "outputs": [],
   "source": [
    "t = t[t['Missing data']!='x']"
   ]
  },
  {
   "cell_type": "code",
   "execution_count": 13,
   "id": "cced4d21-aa24-48dd-b719-8109d733b7f7",
   "metadata": {},
   "outputs": [
    {
     "name": "stderr",
     "output_type": "stream",
     "text": [
      "  3%|█▌                                                             | 26/1023 [05:01<2:28:14,  8.92s/it]"
     ]
    },
    {
     "name": "stdout",
     "output_type": "stream",
     "text": [
      "[Errno 2] No such file or directory: '/home/jovyan/work/data/PPS_data_raw/EDF_yolo_2014-08-16.zip'\n",
      "[Errno 2] No such file or directory: '/home/jovyan/work/data/PPS_data_raw/EDF_yolo_2014-08-17.zip'\n"
     ]
    },
    {
     "name": "stderr",
     "output_type": "stream",
     "text": [
      "  4%|██▊                                                            | 46/1023 [08:29<3:09:05, 11.61s/it]"
     ]
    },
    {
     "name": "stdout",
     "output_type": "stream",
     "text": [
      "[Errno 2] No such file or directory: '/home/jovyan/work/data/PPS_data_raw/EDF_yolo_2014-09-05.zip'\n",
      "[Errno 2] No such file or directory: '/home/jovyan/work/data/PPS_data_raw/EDF_yolo_2014-09-06.zip'\n",
      "[Errno 2] No such file or directory: '/home/jovyan/work/data/PPS_data_raw/EDF_yolo_2014-09-07.zip'\n"
     ]
    },
    {
     "name": "stderr",
     "output_type": "stream",
     "text": [
      "  7%|████▍                                                          | 73/1023 [18:19<6:29:23, 24.59s/it]"
     ]
    },
    {
     "name": "stdout",
     "output_type": "stream",
     "text": [
      "OS error: /tmp/tmprm5i575m/EDF_yolo_2014-10-01.edf: can not open file, no such file or directory\n",
      "EDF_yolo_2014-10-01.edf not found\n"
     ]
    },
    {
     "name": "stderr",
     "output_type": "stream",
     "text": [
      " 16%|█████████▎                                                  | 159/1023 [1:10:50<8:21:18, 34.81s/it]"
     ]
    },
    {
     "name": "stdout",
     "output_type": "stream",
     "text": [
      "OS error: /tmp/tmpaakconro/EDF_yolo_2015-01-09.edf: can not open file, no such file or directory\n",
      "EDF_yolo_2015-01-09.edf not found\n"
     ]
    },
    {
     "name": "stderr",
     "output_type": "stream",
     "text": [
      " 19%|███████████▌                                                | 197/1023 [1:37:22<6:21:25, 27.71s/it]"
     ]
    },
    {
     "name": "stdout",
     "output_type": "stream",
     "text": [
      "OS error: /tmp/tmpwr4an_ag/EDF_yolo_2015-02-17.edf: can not open file, no such file or directory\n",
      "EDF_yolo_2015-02-17.edf not found\n"
     ]
    },
    {
     "name": "stderr",
     "output_type": "stream",
     "text": [
      " 23%|█████████████▊                                             | 240/1023 [2:09:51<10:31:01, 48.35s/it]"
     ]
    },
    {
     "name": "stdout",
     "output_type": "stream",
     "text": [
      "[Errno 2] No such file or directory: '/home/jovyan/work/data/PPS_data_raw/EDF_yolo_2015-04-02.zip'\n"
     ]
    },
    {
     "name": "stderr",
     "output_type": "stream",
     "text": [
      " 25%|██████████████▊                                            | 257/1023 [2:23:47<11:23:38, 53.55s/it]"
     ]
    },
    {
     "name": "stdout",
     "output_type": "stream",
     "text": [
      "[Errno 2] No such file or directory: '/home/jovyan/work/data/PPS_data_raw/EDF_yolo_2015-04-19.zip'\n",
      "[Errno 2] No such file or directory: '/home/jovyan/work/data/PPS_data_raw/EDF_yolo_2015-04-20.zip'\n",
      "[Errno 2] No such file or directory: '/home/jovyan/work/data/PPS_data_raw/EDF_yolo_2015-04-21.zip'\n"
     ]
    },
    {
     "name": "stderr",
     "output_type": "stream",
     "text": [
      " 26%|███████████████▎                                            | 261/1023 [2:24:45<6:08:00, 28.98s/it]"
     ]
    },
    {
     "name": "stdout",
     "output_type": "stream",
     "text": [
      "[Errno 2] No such file or directory: '/home/jovyan/work/data/PPS_data_raw/EDF_yolo_2015-04-23.zip'\n",
      "[Errno 2] No such file or directory: '/home/jovyan/work/data/PPS_data_raw/EDF_yolo_2015-04-24.zip'\n",
      "[Errno 2] No such file or directory: '/home/jovyan/work/data/PPS_data_raw/EDF_yolo_2015-04-25.zip'\n",
      "[Errno 2] No such file or directory: '/home/jovyan/work/data/PPS_data_raw/EDF_yolo_2015-04-26.zip'\n",
      "[Errno 2] No such file or directory: '/home/jovyan/work/data/PPS_data_raw/EDF_yolo_2015-04-27.zip'\n",
      "[Errno 2] No such file or directory: '/home/jovyan/work/data/PPS_data_raw/EDF_yolo_2015-04-28.zip'\n",
      "[Errno 2] No such file or directory: '/home/jovyan/work/data/PPS_data_raw/EDF_yolo_2015-04-29.zip'\n",
      "[Errno 2] No such file or directory: '/home/jovyan/work/data/PPS_data_raw/EDF_yolo_2015-04-30.zip'\n"
     ]
    },
    {
     "name": "stderr",
     "output_type": "stream",
     "text": [
      " 28%|████████████████▋                                           | 285/1023 [2:37:39<8:53:24, 43.37s/it]"
     ]
    },
    {
     "name": "stdout",
     "output_type": "stream",
     "text": [
      "[Errno 2] No such file or directory: '/home/jovyan/work/data/PPS_data_raw/EDF_yolo_2015-05-17.zip'\n",
      "[Errno 2] No such file or directory: '/home/jovyan/work/data/PPS_data_raw/EDF_yolo_2015-05-18.zip'\n",
      "[Errno 2] No such file or directory: '/home/jovyan/work/data/PPS_data_raw/EDF_yolo_2015-05-19.zip'\n",
      "[Errno 2] No such file or directory: '/home/jovyan/work/data/PPS_data_raw/EDF_yolo_2015-05-20.zip'\n",
      "[Errno 2] No such file or directory: '/home/jovyan/work/data/PPS_data_raw/EDF_yolo_2015-05-21.zip'\n",
      "[Errno 2] No such file or directory: '/home/jovyan/work/data/PPS_data_raw/EDF_yolo_2015-05-22.zip'\n",
      "[Errno 2] No such file or directory: '/home/jovyan/work/data/PPS_data_raw/EDF_yolo_2015-05-23.zip'\n",
      "[Errno 2] No such file or directory: '/home/jovyan/work/data/PPS_data_raw/EDF_yolo_2015-05-24.zip'\n"
     ]
    },
    {
     "name": "stderr",
     "output_type": "stream",
     "text": [
      " 46%|███████████████████████████▎                               | 473/1023 [5:51:19<12:30:42, 81.90s/it]"
     ]
    },
    {
     "name": "stdout",
     "output_type": "stream",
     "text": [
      "OS error: /tmp/tmpci35a2ju/EDF_yolo_2015-11-21.edf: can not open file, no such file or directory\n",
      "EDF_yolo_2015-11-21.edf not found\n"
     ]
    },
    {
     "name": "stderr",
     "output_type": "stream",
     "text": [
      " 46%|███████████████████████████▊                                | 475/1023 [5:51:30<6:33:05, 43.04s/it]"
     ]
    },
    {
     "name": "stdout",
     "output_type": "stream",
     "text": [
      "OS error: /tmp/tmpzul0_1aq/EDF_yolo_2015-11-22.edf: can not open file, no such file or directory\n",
      "EDF_yolo_2015-11-22.edf not found\n"
     ]
    },
    {
     "name": "stderr",
     "output_type": "stream",
     "text": [
      " 47%|███████████████████████████▉                                | 476/1023 [5:51:35<4:48:57, 31.70s/it]"
     ]
    },
    {
     "name": "stdout",
     "output_type": "stream",
     "text": [
      "OS error: /tmp/tmpm85x4ysu/EDF_yolo_2015-11-23.edf: can not open file, no such file or directory\n",
      "EDF_yolo_2015-11-23.edf not found\n"
     ]
    },
    {
     "name": "stderr",
     "output_type": "stream",
     "text": [
      " 47%|███████████████████████████▉                                | 477/1023 [5:51:41<3:37:16, 23.88s/it]"
     ]
    },
    {
     "name": "stdout",
     "output_type": "stream",
     "text": [
      "OS error: /tmp/tmpscwlvlt3/EDF_yolo_2015-11-24.edf: can not open file, no such file or directory\n",
      "EDF_yolo_2015-11-24.edf not found\n"
     ]
    },
    {
     "name": "stderr",
     "output_type": "stream",
     "text": [
      " 47%|████████████████████████████▍                               | 485/1023 [6:01:04<7:52:57, 52.75s/it]"
     ]
    },
    {
     "name": "stdout",
     "output_type": "stream",
     "text": [
      "OS error: /tmp/tmpz3f37fjq/EDF_yolo_2015-12-02.edf: can not open file, no such file or directory\n",
      "EDF_yolo_2015-12-02.edf not found\n"
     ]
    },
    {
     "name": "stderr",
     "output_type": "stream",
     "text": [
      " 48%|████████████████████████████▌                               | 486/1023 [6:01:09<5:43:37, 38.39s/it]"
     ]
    },
    {
     "name": "stdout",
     "output_type": "stream",
     "text": [
      "OS error: /tmp/tmpgdqv7sp8/EDF_yolo_2015-12-03.edf: can not open file, no such file or directory\n",
      "EDF_yolo_2015-12-03.edf not found\n"
     ]
    },
    {
     "name": "stderr",
     "output_type": "stream",
     "text": [
      "100%|████████████████████████████████████████████████████████████| 1023/1023 [13:51:34<00:00, 48.77s/it]\n"
     ]
    }
   ],
   "source": [
    "# Open EDF files by date and machine\n",
    "grp = t.groupby(['Date', 'Machine'])\n",
    "for (date_i, machine_i), grp_i in tqdm(grp):\n",
    "    \n",
    "    # unzip file to temporary folder\n",
    "    date_str = date_i.date().strftime('%Y-%m-%d')\n",
    "    fname = \"EDF_\" + machine_i + '_' + date_str\n",
    "    fname_zip = fname + '.zip'\n",
    "    tmpdir = mkdtemp()\n",
    "    try:\n",
    "        with zipfile.ZipFile(path_edf + fname_zip, 'r') as zip_ref:\n",
    "            zip_ref.extractall(tmpdir)\n",
    "    except FileNotFoundError as err:\n",
    "        print(err)\n",
    "        shutil.rmtree(tmpdir)\n",
    "        continue\n",
    "\n",
    "    # load recordings\n",
    "    fname_edf = fname + '.edf'\n",
    "    try:\n",
    "        f = pyedflib.EdfReader(tmpdir + '/' + fname_edf)\n",
    "    except OSError as err:\n",
    "        print(\"OS error: {0}\".format(err))\n",
    "        print(fname_edf + ' not found')\n",
    "        f.close()\n",
    "        shutil.rmtree(tmpdir)\n",
    "        continue\n",
    "    \n",
    "    # extract information from recording\n",
    "    n = f.signals_in_file\n",
    "    start_time = f.getStartdatetime()\n",
    "    signal_labels = f.getSignalLabels()\n",
    "    nsamples = f.getNSamples()\n",
    "    assert len(np.unique(nsamples)) == 1\n",
    "    nsamples = np.unique(nsamples)[0]\n",
    "    \n",
    "    # associate recording to animal entity\n",
    "    for label_i in signal_labels:\n",
    "        pos_i = signal_labels.index(label_i)\n",
    "        t_ii = grp_i[grp_i['Channel'] == int(label_i)]\n",
    "        if np.any(t_ii):\n",
    "            animal_id = t_ii['ID'].unique()\n",
    "            assert(len(animal_id) == 1)\n",
    "            animal_id = str(animal_id[0])\n",
    "            \n",
    "            # get corresponding action\n",
    "            action_i = project.require_action('record_'+str(animal_id))\n",
    "            \n",
    "            name_rec = 'eeg_recording_' + date_str\n",
    "            # check if recording already exists\n",
    "            if (name_rec in list(action_i.data) and\n",
    "                bool_keepexisting):\n",
    "                print('Skipped file. Already present: ' + name_rec)\n",
    "                continue\n",
    "            else:\n",
    "                # Get all information from table except date\n",
    "                info = t_ii.to_dict('records')[0]\n",
    "                \n",
    "                # date is removed here, it is stored in a different place\n",
    "                del info['Date']\n",
    "                \n",
    "                # if any entry in info is datetime.time, convert to hours, minutes, seconds\n",
    "                for k, v in info.items():\n",
    "                    if isinstance(v, datetime.time):\n",
    "                        info[k] = v.strftime(\"%d/%m/%Y, %H:%M:%S\")\n",
    "                \n",
    "                sampling_freq = f.getSampleFrequency(pos_i)\n",
    "                info['sampling_freq'] = sampling_freq\n",
    "                info['nsamples'] = nsamples\n",
    "                info['duration'] = nsamples*1./sampling_freq\n",
    "                info['dimension'] = f.getPhysicalDimension(pos_i)\n",
    "                ional graph, broke into eight partitions? As we used a single thread (scheduler='synchronous') dnfo['starttime'] = start_time.strftime(\"%d/%m/%Y, %H:%M:%S\")\n",
    "                #info['annotations'] = list(t_ii.to_dict('index').values())\n",
    "\n",
    "                mod_info = action_i.require_module(name=name_rec+'_info', contents=info)\n",
    "\n",
    "                 # link file in expipe\n",
    "                action_i.data[name_rec] = name_rec + '.npz'\n",
    "\n",
    "                # store recordings in separate file\n",
    "                sig_ii = f.readSignal(pos_i)\n",
    "                action_data_path = str(action_i.data_path(name_rec))\n",
    "                np.savez_compressed(action_data_path, eeg=sig_ii)\n",
    "    # close EDF file\n",
    "    f.close()\n",
    "    # delete temporary folder\n",
    "    shutil.rmtree(tmpdir)"
   ]
  },
  {
   "cell_type": "code",
   "execution_count": null,
   "id": "96941e47-0b23-4801-bd7b-0e93c7e01bcc",
   "metadata": {},
   "outputs": [],
   "source": []
  }
 ],
 "metadata": {
  "kernelspec": {
   "display_name": "Python 3 (ipykernel)",
   "language": "python",
   "name": "python3"
  },
  "language_info": {
   "codemirror_mode": {
    "name": "ipython",
    "version": 3
   },
   "file_extension": ".py",
   "mimetype": "text/x-python",
   "name": "python",
   "nbconvert_exporter": "python",
   "pygments_lexer": "ipython3",
   "version": "3.10.5"
  }
 },
 "nbformat": 4,
 "nbformat_minor": 5
}
