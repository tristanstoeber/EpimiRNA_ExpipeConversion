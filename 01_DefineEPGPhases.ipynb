{
 "cells": [
  {
   "cell_type": "code",
   "execution_count": 106,
   "id": "7ba2965d",
   "metadata": {},
   "outputs": [
    {
     "name": "stdout",
     "output_type": "stream",
     "text": [
      "The autoreload extension is already loaded. To reload it, use:\n",
      "  %reload_ext autoreload\n"
     ]
    }
   ],
   "source": [
    "import expipe\n",
    "from matplotlib import pyplot as plt\n",
    "import numpy as np\n",
    "import pandas as pd\n",
    "import tools\n",
    "from tqdm import tqdm\n",
    "import copy\n",
    "import seaborn as sns\n",
    "from scipy import stats\n",
    "import datetime as dt\n",
    "from matplotlib import colors\n",
    "import datetime as dt\n",
    "import warnings\n",
    "\n",
    "%load_ext autoreload\n",
    "%autoreload 2"
   ]
  },
  {
   "cell_type": "markdown",
   "id": "90a53fa4-bac4-44bc-a054-11d70a1655a0",
   "metadata": {},
   "source": [
    "#### Params"
   ]
  },
  {
   "cell_type": "code",
   "execution_count": 139,
   "id": "534b1c47-9ca1-496a-a491-8cd9c371fa57",
   "metadata": {},
   "outputs": [],
   "source": [
    "p_phase = {\n",
    "   'Criteria_LatentPhase': {\n",
    "       'min_len': dt.timedelta(days=3),  # minimal length\n",
    "       'max_time_latent': dt.timedelta(days=90) # maximal length\n",
    "   },\n",
    "   'BL_0': {\n",
    "       'len': dt.timedelta(days=2),\n",
    "       'color': '#FDE725FF'},\n",
    "   'BL_1': {\n",
    "       'len': dt.timedelta(days=3),\n",
    "       'color': '#C7E020FF'},\n",
    "   'Latent_0': {\n",
    "       'len': dt.timedelta(days=3),\n",
    "       'color': '#8FD744FF'},\n",
    "   'Latent_1': {\n",
    "       'len': dt.timedelta(days=3),\n",
    "       'color': '#75D054FF'},   \n",
    "   'Latent_2': {\n",
    "       'len': dt.timedelta(days=3),\n",
    "       'color': '#47C16EFF'},\n",
    "   'Chronic_0': {\n",
    "       'len': dt.timedelta(days=3),\n",
    "       'color': '#27AD81FF'},\n",
    "   'Chronic_1': {\n",
    "       'len': dt.timedelta(days=3),\n",
    "       'color': '#1F9A8AFF'},\n",
    "   'Chronic_2': {\n",
    "       'len': dt.timedelta(days=3),\n",
    "       'color': '#24868EFF'},\n",
    "}\n",
    "\n",
    "p_columnnames = {\n",
    "    'date': 'Date',\n",
    "    'pps_stim': 'PPS Stimulation',\n",
    "    'surgery': 'Surgery'\n",
    "}\n",
    "p_dat = {\n",
    "    'path_expipe': \"/home/epilepsy-data/data/epimirna_expipe/\",\n",
    "#    'path_expipe': \"/home/jovyan/work/data_expipe/epimirna/\",\n",
    "    'name_action_epg_phase': 'define_epg_phases',\n",
    "    }"
   ]
  },
  {
   "cell_type": "markdown",
   "id": "f0cd94fb",
   "metadata": {},
   "source": [
    "#### Load data"
   ]
  },
  {
   "cell_type": "code",
   "execution_count": 108,
   "id": "a05dc0ad",
   "metadata": {},
   "outputs": [],
   "source": [
    "project = expipe.get_project(p_dat['path_expipe'])\n",
    "\n",
    "entities = list(project.entities)\n",
    "actions = project.actions\n",
    "actions_rec = {k: v for k, v in actions.items() if v.attributes['type'] == 'eeg recording'}"
   ]
  },
  {
   "cell_type": "markdown",
   "id": "ea952c66",
   "metadata": {},
   "source": [
    "#### Create new action"
   ]
  },
  {
   "cell_type": "code",
   "execution_count": 109,
   "id": "00e6ba63",
   "metadata": {},
   "outputs": [],
   "source": [
    "action = project.require_action(p_dat['name_action_epg_phase'])\n",
    "action.type = 'action_'+p_dat['name_action_epg_phase']"
   ]
  },
  {
   "cell_type": "markdown",
   "id": "b240c97e",
   "metadata": {},
   "source": [
    "#### Define EPG phase separately for each animal\n"
   ]
  },
  {
   "cell_type": "code",
   "execution_count": 115,
   "id": "c98d8e7f-e5c9-4391-9040-255e00b0c89d",
   "metadata": {},
   "outputs": [
    {
     "name": "stderr",
     "output_type": "stream",
     "text": [
      "100%|██████████████████████████████████████████████████████████████████████████████████████████████████████████████████████████████████████████████████████████████████████████████| 85/85 [00:10<00:00,  8.16it/s]\n"
     ]
    }
   ],
   "source": [
    "ls_epg_phases = []\n",
    "for idx in tqdm(entities):\n",
    "    # get correspodning recording action\n",
    "    action_i = [ac for k, ac in actions_rec.items() if idx in ac.entities]\n",
    "    assert len(action_i) == 1\n",
    "    action_i = action_i[0]\n",
    "    \n",
    "    # load annotation file\n",
    "    fname_annot = action_i.data['df_data_annotation']\n",
    "    path_annot = str(action_i.data_path()) + '/' + fname_annot\n",
    "    annot_i = tools.load_dict(path_annot)\n",
    "    \n",
    "    epg_phases_i = tools.define_epg_phases(\n",
    "        annot_i,\n",
    "        p_phase,\n",
    "        p_columnnames)\n",
    "    \n",
    "    # add ID for identification\n",
    "    epg_phases_i['ID'] = np.unique(annot_i['ID'])[0]\n",
    "    \n",
    "    # add descriptor for PPS stimulation\n",
    "    stim = '_'.join(annot_i[p_columnnames['pps_stim']].dropna().to_list())\n",
    "    epg_phases_i['pps_stim'] = stim\n",
    "                            \n",
    "    ls_epg_phases.append(epg_phases_i)\n",
    "\n",
    "    \n",
    "df_epg_phase = pd.DataFrame(ls_epg_phases)\n",
    "df_epg_phase.set_index('ID', inplace=True)    \n"
   ]
  },
  {
   "cell_type": "markdown",
   "id": "3e173fb9",
   "metadata": {},
   "source": [
    "### Test table EPG phases"
   ]
  },
  {
   "cell_type": "code",
   "execution_count": 113,
   "id": "41a058e2",
   "metadata": {},
   "outputs": [],
   "source": [
    "dict_phase = copy.deepcopy(p_phase)\n",
    "del dict_phase['Criteria_LatentPhase']\n",
    "ls_keys = list(dict_phase.keys())\n",
    "\n",
    "for i, row_i in df_epg_phase.iterrows():\n",
    "    \n",
    "    # make sure phases are as long as they should\n",
    "    for key, val in dict_phase.items():\n",
    "        if not pd.isnull(row_i[key+'_stop']):\n",
    "            delta_t = row_i[key+'_stop'] - row_i[key+'_start']\n",
    "            \n",
    "            assert delta_t - p_phase[key]['len'] <= dt.timedelta(minutes=1)\n",
    "        \n",
    "    # make sure phases do not overlap    \n",
    "    for j in range(len(ls_keys)-1):\n",
    "        phase_j = ls_keys[j]\n",
    "        phase_j_n = ls_keys[j+1]\n",
    "        \n",
    "        if (not pd.isnull(row_i[phase_j + '_stop']) and\n",
    "            not pd.isnull(row_i[phase_j_n + '_start'])):  \n",
    "            assert row_i[phase_j + '_stop'] < row_i[phase_j_n + '_start']"
   ]
  },
  {
   "cell_type": "markdown",
   "id": "ca88eda7-7d31-4b75-8daa-d56b1a5ed3cf",
   "metadata": {
    "tags": []
   },
   "source": [
    "### Define whether animals developed epilepsy"
   ]
  },
  {
   "cell_type": "code",
   "execution_count": 140,
   "id": "7ead2d3f-e81e-4ec3-a1c4-856fb9b64ac0",
   "metadata": {},
   "outputs": [],
   "source": [
    "df_epg_phase['epg'] = np.nan\n",
    "\n",
    "\n",
    "# mark animals with spontaneous seizures\n",
    "EPG_true = ~df_epg_phase['latent_stop'].isnull()\n",
    "df_epg_phase.loc[EPG_true, 'epg'] = True\n",
    "\n",
    "# mark those with spontaneous seizures\n",
    "\n",
    "# add time between end of stimulation and end of latent phase\n",
    "df_epg_phase['max_time_since_stimstart'] = (\n",
    "    df_epg_phase['recording_last'] - df_epg_phase['stimulation_start'])\n",
    "\n",
    "EPG_false = (\n",
    "    (df_epg_phase['latent_stop'].isnull()) &\n",
    "    (df_epg_phase['max_time_since_stimstart'] > p_phase['Criteria_LatentPhase']['max_time_latent']))\n",
    "df_epg_phase.loc[EPG_false, 'epg'] = False"
   ]
  },
  {
   "cell_type": "markdown",
   "id": "ceaa837e-8d93-4ad1-b1a9-7a9dec77b726",
   "metadata": {},
   "source": [
    "### Assign estimated phases for control animals\n",
    "To allow comparison between animals which develop epilepsy and those who do not, we assign phases latent1->chronic2 for control animals based on average times in epg animals"
   ]
  },
  {
   "cell_type": "code",
   "execution_count": 141,
   "id": "2bdcb214-87eb-4371-ae87-364f4f6e75e7",
   "metadata": {},
   "outputs": [],
   "source": [
    "phases_to_assign =  ['Latent_1', 'Latent_2', 'Chronic_0', 'Chronic_1', 'Chronic_2']"
   ]
  },
  {
   "cell_type": "code",
   "execution_count": 142,
   "id": "dfa96e0e-e7c0-442c-a679-080b768edefa",
   "metadata": {},
   "outputs": [],
   "source": [
    "stim_stop = df_epg_phase['stimulation_stop']\n",
    "\n",
    "dict_phase_start = {}\n",
    "for phase_i in phases_to_assign:\n",
    "    # get distances of phase start from animals which developed epilepsy\n",
    "    d_start = df_epg_phase[df_epg_phase['epg']==True][phase_i + '_start']-stim_stop\n",
    "    \n",
    "    # get average phase start\n",
    "    d_start_mean = d_start.mean()\n",
    "    dict_phase_start[phase_i] = d_start_mean"
   ]
  },
  {
   "cell_type": "code",
   "execution_count": 143,
   "id": "ed59f8db-756a-492a-97c8-18bebf498a36",
   "metadata": {},
   "outputs": [],
   "source": [
    "# attribute predefined phases to animals without epg\n",
    "ids = df_epg_phase[df_epg_phase['epg']!=True].index\n",
    "\n",
    "for idx in ids:\n",
    "    stim_stop = df_epg_phase.loc[idx]['stimulation_stop']\n",
    "    for key_i, val_i in dict_phase_start.items():\n",
    "        len_phase_i = p_phase[key_i]['len']\n",
    "        \n",
    "        phase_i_start = stim_stop + val_i\n",
    "        phase_i_stop = phase_i_start + len_phase_i\n",
    "        \n",
    "        # if any recording exists before terminating day, assign phase\n",
    "        # phases can maximally last until day before perfusion\n",
    "        rec_last_valid = df_epg_phase.loc[idx]['recording_last']-dt.timedelta(days=1)\n",
    "        \n",
    "        if phase_i_start <= rec_last_valid:\n",
    "            df_epg_phase.loc[idx, key_i+'_start'] = phase_i_start\n",
    "            phase_i_stop = np.minimum(phase_i_stop, rec_last_valid)\n",
    "            df_epg_phase.loc[idx, key_i+'_stop'] = phase_i_stop         "
   ]
  },
  {
   "cell_type": "markdown",
   "id": "f87f038c",
   "metadata": {
    "tags": []
   },
   "source": [
    "#### Store EPG phases"
   ]
  },
  {
   "cell_type": "code",
   "execution_count": 131,
   "id": "c822e982",
   "metadata": {},
   "outputs": [],
   "source": [
    "data_path = str(action.data_path())\n",
    "fname = 'df_epg_phase.pckl'\n",
    "path_fname_data = data_path + '/' + fname \n",
    "tools.save_dict(df_epg_phase, path_fname_data)\n",
    "action.data[fname] = path_fname_data"
   ]
  },
  {
   "cell_type": "markdown",
   "id": "74e13e24-95ca-4604-891c-6aff70accb82",
   "metadata": {},
   "source": [
    "### Visualize EPG phases"
   ]
  },
  {
   "cell_type": "code",
   "execution_count": 132,
   "id": "b8e8b3f9-5607-4d02-895e-db217212da94",
   "metadata": {},
   "outputs": [],
   "source": [
    "ls_phase = [\n",
    "    'BL_0',\n",
    "    'BL_1',\n",
    "    'Latent_0',\n",
    "    'Latent_1',\n",
    "    'Latent_2',\n",
    "    'Chronic_0',\n",
    "    'Chronic_1',\n",
    "    'Chronic_2']"
   ]
  },
  {
   "cell_type": "code",
   "execution_count": 158,
   "id": "ddfdfb24-0a70-4a74-bd94-ee6f493b6136",
   "metadata": {},
   "outputs": [],
   "source": [
    "df_sel = df_epg_phase\n",
    "\n",
    "dt_surgery = df_sel['surgery']\n",
    "dt_last = df_sel['recording_last']\n",
    "\n",
    "#n_days = (dt_last - dt_surgery).max().days\n",
    "n_days = 120\n",
    "n_animals = len(df_sel)\n",
    "ar_phase = np.zeros((n_animals, n_days))\n",
    "ar_phase[:, :] = np.nan\n",
    "\n",
    "for i, phase_i in enumerate(ls_phase):\n",
    "    start_i = (df_sel[phase_i + '_start'] - dt_surgery).dt.days\n",
    "    stop_i = (df_sel[phase_i + '_stop'] - dt_surgery).dt.days\n",
    "    for j, idx_j in enumerate(df_sel.index.unique()):\n",
    "        if ~np.isnan(start_i[idx_j]) and ~np.isnan(stop_i[idx_j]):\n",
    "            start_ij = int(start_i[idx_j])\n",
    "            stop_ij = int(stop_i[idx_j])\n",
    "            ar_phase[j, start_ij:stop_ij+1] = i"
   ]
  },
  {
   "cell_type": "code",
   "execution_count": 162,
   "id": "75591392-620c-489f-831f-36f0cfb2b5e1",
   "metadata": {},
   "outputs": [
    {
     "data": {
      "text/plain": [
       "[Text(1, 0.5, 'BL_0'),\n",
       " Text(1, 1.5, 'BL_1'),\n",
       " Text(1, 2.5, 'Latent_0'),\n",
       " Text(1, 3.5, 'Latent_1'),\n",
       " Text(1, 4.5, 'Latent_2'),\n",
       " Text(1, 5.5, 'Chronic_0'),\n",
       " Text(1, 6.5, 'Chronic_1'),\n",
       " Text(1, 7.5, 'Chronic_2')]"
      ]
     },
     "execution_count": 162,
     "metadata": {},
     "output_type": "execute_result"
    },
    {
     "data": {
      "image/png": "[encoded data removed]",
      "text/plain": [
       "<Figure size 720x720 with 2 Axes>"
      ]
     },
     "metadata": {
      "needs_background": "light"
     },
     "output_type": "display_data"
    }
   ],
   "source": [
    "fig, ax = plt.subplots(1, 1, figsize=[10, 10])\n",
    "\n",
    "n_phase = len(p_phase)\n",
    "cmap = plt.get_cmap('viridis', n_phase)\n",
    "\n",
    "img = ax.imshow(\n",
    "    ar_phase,\n",
    "    cmap=cmap,\n",
    "    interpolation=None,\n",
    "    vmax=n_phase-1)\n",
    "ax.set_aspect('auto')\n",
    "\n",
    "#bounds=np.array([0, 0.001, 0.01, 0.05, 1])\n",
    "#norm = colors.BoundaryNorm(bounds, cmap.N)\n",
    "cbar = plt.colorbar(\n",
    "    img,\n",
    "#    cmap=cmap,\n",
    "    #norm=norm,\n",
    "    #boundaries=bounds,\n",
    "    #ticks=bounds[1:]/2.\n",
    ")\n",
    "cbar.ax.set_yticks(np.arange(0.5, n_phase-1, 1))\n",
    "cbar.ax.set_yticklabels(ls_phase)\n",
    "#ax.set_title('p-value - Mann-Whitney-U')\n",
    "#ax.set_xticks(np.arange(len(ls_phase)))\n",
    "#ax.set_xticklabels(ls_phase)\n",
    "#ax.tick_params(axis='x', rotation=45)\n",
    "#ax.set_yticks(np.arange(len(ls_phase)))\n",
    "#ax.set_yticklabels(ls_phase)"
   ]
  }
 ],
 "metadata": {
  "kernelspec": {
   "display_name": "Python 3",
   "language": "python",
   "name": "python3"
  },
  "language_info": {
   "codemirror_mode": {
    "name": "ipython",
    "version": 3
   },
   "file_extension": ".py",
   "mimetype": "text/x-python",
   "name": "python",
   "nbconvert_exporter": "python",
   "pygments_lexer": "ipython3",
   "version": "3.10.4"
  }
 },
 "nbformat": 4,
 "nbformat_minor": 5
}
