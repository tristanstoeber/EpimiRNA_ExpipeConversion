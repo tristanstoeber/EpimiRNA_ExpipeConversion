{
 "cells": [
  {
   "cell_type": "markdown",
   "id": "75c03ad1-0118-4594-9874-c6ffdafc6eec",
   "metadata": {},
   "source": [
    "# Convert EDF to expipe files\n",
    "The visual EEG inspection table 'eeg-sichtung.xlsx' has been manually translated into a form which is more easy to read automatically.\n",
    "The table is located in the new file 'data_annotation.ods'.\n",
    "It contains one row per day an animal is recorded.\n",
    "Relevant metadata such as animal id, recording channel, artifacts or missing data are stored in separate columns.\n",
    "\n",
    "This notebooks loads the original edf files sequentially and converts the recordings to the expipe format [1].\n",
    "Here, each day an animal is recorded is its own action.\n",
    "\n",
    "[1] https://github.com/CINPLA/expipe"
   ]
  },
  {
   "cell_type": "code",
   "execution_count": null,
   "id": "90e9f1ca-15c1-46de-980f-5e7a66869490",
   "metadata": {},
   "outputs": [],
   "source": [
    "import numpy as np\n",
    "import pandas as pd\n",
    "from tempfile import mkdtemp\n",
    "import zipfile\n",
    "import shutil\n",
    "from tqdm import tqdm\n",
    "import expipe\n",
    "import pyedflib\n",
    "import datetime\n",
    "import os\n",
    "import tools"
   ]
  },
  {
   "cell_type": "code",
   "execution_count": 2,
   "id": "7d31fad7-c479-4648-9645-430878ab95a2",
   "metadata": {},
   "outputs": [],
   "source": [
    "path = ''\n",
    "fname = 'data_annotation.ods'"
   ]
  },
  {
   "cell_type": "code",
   "execution_count": 3,
   "id": "39aaaa71-8e8d-4719-8b0b-153e6aaf0a70",
   "metadata": {},
   "outputs": [],
   "source": [
    "# Info about the EEG files\n",
    "path_edf = \"/home/jovyan/work/raw_files/\"\n",
    "path_expipe = \"/home/jovyan/work/data_expipe/epimirna\""
   ]
  },
  {
   "cell_type": "markdown",
   "id": "8310b5fb",
   "metadata": {},
   "source": [
    "### Read data annotation"
   ]
  },
  {
   "cell_type": "code",
   "execution_count": 5,
   "id": "41c09c55-75ac-46e2-af1f-a2d19bc611c6",
   "metadata": {},
   "outputs": [],
   "source": [
    "t = pd.read_excel(path+fname, engine=\"odf\")"
   ]
  },
  {
   "cell_type": "code",
   "execution_count": 6,
   "id": "eefe6958-2388-4c8e-8278-342052fe7b38",
   "metadata": {},
   "outputs": [
    {
     "name": "stdout",
     "output_type": "stream",
     "text": [
      "[1218 1270 1227 1237 1243 1251 1254 1257 1260 1261 1262 1263 1264 1265\n",
      " 1269 1271 1274 1275 1276 3220 3263 3266 3267]\n"
     ]
    }
   ],
   "source": [
    "animals=t['ID'].unique()\n",
    "print(animals)"
   ]
  },
  {
   "cell_type": "markdown",
   "id": "99028293-58e1-46ea-acf7-e151a0a99345",
   "metadata": {},
   "source": [
    "### Exclude entries without data\n",
    "Because sometimes channels reused on the same machine.\n",
    "Such as channel 3 for 1251 and 1218"
   ]
  },
  {
   "cell_type": "code",
   "execution_count": 7,
   "id": "9b79d54d-2490-4a98-bdd7-524ff81cc320",
   "metadata": {},
   "outputs": [],
   "source": [
    "t = t[t['Device off'].isnull()]"
   ]
  },
  {
   "cell_type": "markdown",
   "id": "2308b731-c6d9-4f28-b440-6bafa5e9aa1b",
   "metadata": {},
   "source": [
    "### Test consistency of the table"
   ]
  },
  {
   "cell_type": "code",
   "execution_count": 8,
   "id": "7bad6a1c-43a3-41ea-a9c6-14e1e8877447",
   "metadata": {},
   "outputs": [],
   "source": [
    "tools.test_consistency_of_annotation_table(t)"
   ]
  },
  {
   "cell_type": "markdown",
   "id": "28ec1970-b948-4742-b991-46063f31849c",
   "metadata": {},
   "source": [
    "### Create Expipe project"
   ]
  },
  {
   "cell_type": "code",
   "execution_count": 9,
   "id": "039a0f1f",
   "metadata": {},
   "outputs": [],
   "source": [
    "# Open project\n",
    "project = expipe.require_project(path_expipe)\n",
    "\n",
    "# Open/create each animal\n",
    "for animal_i in animals:\n",
    "    entity_i = project.require_entity(str(animal_i))\n",
    "    t_i = t[t['ID']==animal_i]\n",
    "    entity_i.modules['info'] = {\n",
    "        'channel': t_i['Channel'].unique()[0],\n",
    "        'machine': t_i['Machine'].unique()[0]\n",
    "    }\n",
    "\n",
    "# get existing actions\n",
    "ls_names_actions = [name for name, _ in project.actions.items()]\n",
    "\n",
    "# keep existing actions\n",
    "bool_keepexisting = True"
   ]
  },
  {
   "cell_type": "code",
   "execution_count": 10,
   "id": "391d5001-a2ec-4563-b1f9-c61fcb21b6ed",
   "metadata": {},
   "outputs": [],
   "source": [
    "actions_path = str(project.path)+'/actions'"
   ]
  },
  {
   "cell_type": "code",
   "execution_count": 11,
   "id": "5027bf36-172d-404c-ac85-c8e7141e1c60",
   "metadata": {},
   "outputs": [
    {
     "data": {
      "text/plain": [
       "'/home/jovyan/work/data_expipe/epimirna/actions'"
      ]
     },
     "execution_count": 11,
     "metadata": {},
     "output_type": "execute_result"
    }
   ],
   "source": [
    "actions_path"
   ]
  },
  {
   "cell_type": "markdown",
   "id": "7676cc65-413a-415c-a2a6-0be87aff02f9",
   "metadata": {},
   "source": [
    "### Load EEG files and store them as actions"
   ]
  },
  {
   "cell_type": "code",
   "execution_count": null,
   "id": "03af9bae",
   "metadata": {},
   "outputs": [],
   "source": [
    "# Open EDF files by date and machine\n",
    "grp = t.groupby(['Date', 'Machine'])\n",
    "for (date_i, machine_i), grp_i in tqdm(grp):\n",
    "    \n",
    "    # unzip file to temporary folder\n",
    "    date_str = date_i.date().strftime('%Y-%m-%d')\n",
    "    fname = \"EDF_\" + machine_i + '_' + date_str\n",
    "    fname_zip = fname + '.zip'\n",
    "    tmpdir = mkdtemp()\n",
    "    try:\n",
    "        with zipfile.ZipFile(path_edf + fname_zip, 'r') as zip_ref:\n",
    "            zip_ref.extractall(tmpdir)\n",
    "    except FileNotFoundError as err:\n",
    "        print(err)\n",
    "        shutil.rmtree(tmpdir)\n",
    "        continue\n",
    "\n",
    "    # load recordings\n",
    "    fname_edf = fname + '.edf'\n",
    "    try:\n",
    "        f = pyedflib.EdfReader(tmpdir + '/' + fname_edf)\n",
    "    except OSError as err:\n",
    "        print(\"OS error: {0}\".format(err))\n",
    "        print(fname_edf + ' not found')\n",
    "        f.close()\n",
    "        shutil.rmtree(tmpdir)\n",
    "        continue\n",
    "    \n",
    "    # extract information from recording\n",
    "    n = f.signals_in_file\n",
    "    start_time = f.getStartdatetime()\n",
    "    signal_labels = f.getSignalLabels()\n",
    "    nsamples = f.getNSamples()\n",
    "    assert len(np.unique(nsamples)) == 1\n",
    "    nsamples = np.unique(nsamples)[0]\n",
    "    \n",
    "    # associate recording to animal entity\n",
    "    for label_i in signal_labels:\n",
    "        pos_i = signal_labels.index(label_i)\n",
    "        t_ii = grp_i[grp_i['Channel'] == int(label_i)]\n",
    "        if np.any(t_ii):\n",
    "            animal_id = t_ii['ID'].unique()\n",
    "            assert(len(animal_id) == 1)\n",
    "            animal_id = str(animal_id[0])\n",
    "            \n",
    "            name_action = 'eeg_recording_' + animal_id + '_' + date_str\n",
    "            # check if action already exists\n",
    "            if (name_action in actions and\n",
    "                os.path.isdir(actions_path + '/' + name_action) and\n",
    "                bool_keepexisting):\n",
    "                print('Skipped file. Already present: ' + name_action)\n",
    "                continue\n",
    "            else:\n",
    "            # create action\n",
    "                action = project.create_action(name_action)\n",
    "                action.type = \"Recording\"\n",
    "                action.entities = [str(animal_id)]\n",
    "                # Get all information from table except date\n",
    "                info = t_ii.to_dict('records')[0]\n",
    "                \n",
    "                # date is removed here, it is stored in a different place\n",
    "                del info['Date']\n",
    "                \n",
    "                # if any entry in info is datetime.time, convert to hours, minutes, seconds\n",
    "                for k, v in info.items():\n",
    "                    if isinstance(v, datetime.time):\n",
    "                        info[k] = v.strftime('%H:%M:%S')\n",
    "                \n",
    "                sampling_freq = f.getSampleFrequency(pos_i)\n",
    "                info['sampling_freq'] = sampling_freq\n",
    "                info['nsamples'] = nsamples\n",
    "                info['duration'] = nsamples*1./sampling_freq\n",
    "                info['dimension'] = f.getPhysicalDimension(pos_i)\n",
    "                action.modules['info'] = info\n",
    "\n",
    "                action.datetime = start_time\n",
    "\n",
    "                 # link file in expipe\n",
    "                action.data['eeg_recording'] = name_action + '.npz'\n",
    "\n",
    "                # store recordings in separate file\n",
    "                sig_ii = f.readSignal(pos_i)\n",
    "                action_data_path = str(action.data_path('eeg_recording'))\n",
    "                np.savez_compressed(action_data_path, eeg=sig_ii)\n",
    "\n",
    "                # add metadata\n",
    "                action.annotations = list(t_ii.to_dict('index').values())\n",
    "    # close EDF file\n",
    "    f.close()\n",
    "    # delete temporary folder\n",
    "    shutil.rmtree(tmpdir)\n"
   ]
  },
  {
   "cell_type": "code",
   "execution_count": null,
   "id": "6a40368f-4aa4-4ab3-addf-e8343f14b40e",
   "metadata": {},
   "outputs": [],
   "source": [
    "df_actions = tools.actions_to_dataframe(project.actions)"
   ]
  },
  {
   "cell_type": "code",
   "execution_count": null,
   "id": "28cc0ea2-951c-4a27-b048-e393516dcb3d",
   "metadata": {},
   "outputs": [],
   "source": []
  }
 ],
 "metadata": {
  "kernelspec": {
   "display_name": "Python 3 (ipykernel)",
   "language": "python",
   "name": "python3"
  },
  "language_info": {
   "codemirror_mode": {
    "name": "ipython",
    "version": 3
   },
   "file_extension": ".py",
   "mimetype": "text/x-python",
   "name": "python",
   "nbconvert_exporter": "python",
   "pygments_lexer": "ipython3",
   "version": "3.9.7"
  }
 },
 "nbformat": 4,
 "nbformat_minor": 5
}
